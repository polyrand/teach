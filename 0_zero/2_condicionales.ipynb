{
 "cells": [
  {
   "cell_type": "markdown",
   "metadata": {},
   "source": [
    "# Condicionales"
   ]
  },
  {
   "cell_type": "markdown",
   "metadata": {},
   "source": [
    "Nuestro programas de Python son como un rio. Al igual que un rio baja de la parte más alta a la más baja. Nuestro programa se ejecuta desde la línea de más arriba hasta la de más abajo.\n",
    "\n",
    "Los condicionales son como si el río empezara a tener bifurcaciones. Cuando llegamos a una bifurcación nos hemos encontrado con una condición. Si esa condición se cumple iremos por un lado (a un bloque de código). Si no se cumple iremos por el otro (otro bloque de código).\n",
    "\n",
    "```\n",
    "\n",
    "             +\n",
    "             |\n",
    "             |\n",
    "             |\n",
    "             |\n",
    "             |\n",
    "             |   if\n",
    "             +------------+\n",
    "             |            |\n",
    "    elif     |            |\n",
    "+------------+            +\n",
    "|            |\n",
    "|            |\n",
    "|            |\n",
    "+            |\n",
    "             |\n",
    "             |\n",
    "     elif    |\n",
    "+------------+\n",
    "|            |\n",
    "|            |\n",
    "|            |\n",
    "+            |\n",
    "             |\n",
    "\n",
    "            else\n",
    "\n",
    "             |\n",
    "             |\n",
    "             |\n",
    "             v\n",
    "\n",
    "```"
   ]
  },
  {
   "cell_type": "code",
   "execution_count": null,
   "metadata": {},
   "outputs": [],
   "source": []
  }
 ],
 "metadata": {
  "kernelspec": {
   "display_name": "teach",
   "language": "python",
   "name": "teach"
  },
  "language_info": {
   "codemirror_mode": {
    "name": "ipython",
    "version": 3
   },
   "file_extension": ".py",
   "mimetype": "text/x-python",
   "name": "python",
   "nbconvert_exporter": "python",
   "pygments_lexer": "ipython3",
   "version": "3.7.7"
  }
 },
 "nbformat": 4,
 "nbformat_minor": 4
}
