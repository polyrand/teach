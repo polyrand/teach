{
 "cells": [
  {
   "cell_type": "markdown",
   "metadata": {},
   "source": [
    "# Estructuras de datos"
   ]
  },
  {
   "cell_type": "markdown",
   "metadata": {},
   "source": [
    "```\n",
    "   +-------------------------------------------------------+\n",
    "   |   0    1    2    3    4    5    6    7    8    9      |\n",
    "   |  +----+----+----+----+----+----+----+----+----+----+  |\n",
    "0  |  |    |    |    |    |    |    |    |    |    |    |  |\n",
    "   |  |    |    |    |    |    |    |    |    |    |    |  |\n",
    "   |  +----+----+----+----+----+----+----+----+----+-----  |\n",
    "   |   0    1    2    3    4    5    6    7    8    9      |\n",
    "   |  +----+----+----+----+----+----+----+----+----+----+  |\n",
    "1  |  |    |    |    |    |    |    |    |    |    |    |  |\n",
    "   |  |    |    |    |    |    |    |    |    |    |    |  |\n",
    "   |  +----+----+----+----+----+----+----+----+----+----+  |\n",
    "   |                                                       |\n",
    "   +-------------------------------------------------------+\n",
    "```"
   ]
  },
  {
   "cell_type": "code",
   "execution_count": 1,
   "metadata": {},
   "outputs": [],
   "source": [
    "import requests"
   ]
  },
  {
   "cell_type": "code",
   "execution_count": 6,
   "metadata": {},
   "outputs": [],
   "source": [
    "r = requests.get(\"https://gist.githubusercontent.com/polyrand/6a4f7e6e5bf2e68d1b91896d2fff235a/raw/0a9df3f1b9e3cef804825bd0c75b3360d69540dd/repr_list.py\").text"
   ]
  },
  {
   "cell_type": "code",
   "execution_count": 7,
   "metadata": {},
   "outputs": [],
   "source": [
    "with open(\"listrepr.py\", \"w\") as f:\n",
    "    f.write(r)"
   ]
  },
  {
   "cell_type": "code",
   "execution_count": 21,
   "metadata": {},
   "outputs": [],
   "source": [
    "from listrepr import list_repr"
   ]
  },
  {
   "cell_type": "code",
   "execution_count": 22,
   "metadata": {},
   "outputs": [],
   "source": [
    "def show(l):\n",
    "    print(list_repr(l))"
   ]
  },
  {
   "cell_type": "code",
   "execution_count": 23,
   "metadata": {},
   "outputs": [],
   "source": [
    "milista = [1,2,\"asd\", [1,2]]"
   ]
  },
  {
   "cell_type": "code",
   "execution_count": 25,
   "metadata": {},
   "outputs": [
    {
     "name": "stdout",
     "output_type": "stream",
     "text": [
      " 0        1        2        3        \n",
      "+--------+--------+--------+--------+\n",
      "|        |        |        |        |\n",
      "|    1   |    2   |  asd   | [1, 2] |\n",
      "|        |        |        |        |\n",
      "+--------+--------+--------+--------+\n",
      "\n"
     ]
    }
   ],
   "source": [
    "show(milista)"
   ]
  },
  {
   "cell_type": "code",
   "execution_count": 26,
   "metadata": {},
   "outputs": [
    {
     "data": {
      "text/plain": [
       "1"
      ]
     },
     "execution_count": 26,
     "metadata": {},
     "output_type": "execute_result"
    }
   ],
   "source": [
    "milista[3][0]"
   ]
  },
  {
   "cell_type": "code",
   "execution_count": 28,
   "metadata": {},
   "outputs": [
    {
     "name": "stdout",
     "output_type": "stream",
     "text": [
      " 0   1   \n",
      "+---+---+\n",
      "|   |   |\n",
      "| 1 | 2 |\n",
      "|   |   |\n",
      "+---+---+\n",
      "\n"
     ]
    }
   ],
   "source": [
    "show(milista[3])"
   ]
  },
  {
   "cell_type": "code",
   "execution_count": null,
   "metadata": {},
   "outputs": [],
   "source": []
  }
 ],
 "metadata": {
  "kernelspec": {
   "display_name": "teach",
   "language": "python",
   "name": "teach"
  },
  "language_info": {
   "codemirror_mode": {
    "name": "ipython",
    "version": 3
   },
   "file_extension": ".py",
   "mimetype": "text/x-python",
   "name": "python",
   "nbconvert_exporter": "python",
   "pygments_lexer": "ipython3",
   "version": "3.7.8"
  }
 },
 "nbformat": 4,
 "nbformat_minor": 4
}
