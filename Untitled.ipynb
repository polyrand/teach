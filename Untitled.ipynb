{
 "cells": [
  {
   "cell_type": "code",
   "execution_count": 20,
   "metadata": {},
   "outputs": [],
   "source": [
    "%load_ext blackcellmagic"
   ]
  },
  {
   "cell_type": "code",
   "execution_count": 4,
   "metadata": {},
   "outputs": [
    {
     "name": "stdout",
     "output_type": "stream",
     "text": [
      "bienvenidos\n"
     ]
    }
   ],
   "source": [
    "print(\"bienvenidos\")"
   ]
  },
  {
   "cell_type": "code",
   "execution_count": 10,
   "metadata": {},
   "outputs": [],
   "source": [
    "a = 24"
   ]
  },
  {
   "cell_type": "markdown",
   "metadata": {},
   "source": [
    "# Titulo 1\n",
    "\n",
    "## Subtitulo\n",
    "\n",
    "### Sub sub titulo\n",
    "\n",
    "**negrita**\n",
    "\n",
    "*cursiva*\n",
    "\n",
    "asdasdasd\n",
    "asdasdasd\n",
    "\n",
    "* elemento 1\n",
    "* element 2\n",
    "\n",
    "`print(1)`"
   ]
  },
  {
   "cell_type": "markdown",
   "metadata": {},
   "source": [
    "hola"
   ]
  },
  {
   "cell_type": "code",
   "execution_count": 13,
   "metadata": {},
   "outputs": [
    {
     "name": "stdout",
     "output_type": "stream",
     "text": [
      "1\n"
     ]
    }
   ],
   "source": [
    "if a != 25:\n",
    "    print(1)"
   ]
  },
  {
   "cell_type": "markdown",
   "metadata": {},
   "source": [
    "Ejercicio 1:\n",
    "\n",
    "Crear una función que acepte como parámetro un numero entero:\n",
    "La funcion debe imprimir la letra **L**, compuesta a  su vez de letras *L*. El número de caracteres verticales y horizontales es el parámetro que le hemos pasado a la función"
   ]
  },
  {
   "cell_type": "code",
   "execution_count": 38,
   "metadata": {},
   "outputs": [],
   "source": [
    "def imprimir_l(n):\n",
    "    l_nl = \"L\\n\"\n",
    "\n",
    "    texto = f\"{l_nl * (n-1)}{'L'*n}\"\n",
    "    print(texto)\n",
    "\n",
    "\n",
    "#     print(l_nl * (n-1))\n",
    "#     print(\"L\" * n)"
   ]
  },
  {
   "cell_type": "code",
   "execution_count": 40,
   "metadata": {},
   "outputs": [
    {
     "name": "stdout",
     "output_type": "stream",
     "text": [
      "L\n",
      "L\n",
      "L\n",
      "L\n",
      "L\n",
      "L\n",
      "L\n",
      "LLLLLLLL\n"
     ]
    }
   ],
   "source": [
    "imprimir_l(8)"
   ]
  },
  {
   "cell_type": "code",
   "execution_count": 45,
   "metadata": {},
   "outputs": [],
   "source": [
    "c = 'L\\n'\n",
    "f = lambda x: print(f\"{c * (x-1)}{'L'*x}\")"
   ]
  },
  {
   "cell_type": "code",
   "execution_count": 46,
   "metadata": {},
   "outputs": [
    {
     "name": "stdout",
     "output_type": "stream",
     "text": [
      "L\n",
      "L\n",
      "L\n",
      "L\n",
      "L\n",
      "L\n",
      "L\n",
      "LLLLLLLL\n"
     ]
    }
   ],
   "source": [
    "f(8)"
   ]
  },
  {
   "cell_type": "code",
   "execution_count": 31,
   "metadata": {},
   "outputs": [
    {
     "data": {
      "text/plain": [
       "'hola hola 2'"
      ]
     },
     "execution_count": 31,
     "metadata": {},
     "output_type": "execute_result"
    }
   ],
   "source": [
    "f\"hola hola {1 + 1}\""
   ]
  },
  {
   "cell_type": "code",
   "execution_count": 28,
   "metadata": {},
   "outputs": [
    {
     "data": {
      "text/plain": [
       "'asdasdasd'"
      ]
     },
     "execution_count": 28,
     "metadata": {},
     "output_type": "execute_result"
    }
   ],
   "source": [
    "\"asd\" + \"asdasd\""
   ]
  },
  {
   "cell_type": "markdown",
   "metadata": {},
   "source": [
    "L\n",
    "L\n",
    "L\n",
    "L\n",
    "LLLLL"
   ]
  },
  {
   "cell_type": "markdown",
   "metadata": {},
   "source": [
    "Crear una función que me devuelva todas las combinaciones posibles de 3 letras minusculas."
   ]
  },
  {
   "cell_type": "markdown",
   "metadata": {},
   "source": [
    "Ejercicio 2:\n",
    "\n",
    "Crear una función que nos devuelva todas las combinaciones posibles de 3 caracteres:\n",
    "\n",
    "```python\n",
    "\n",
    "\"aaa\"\n",
    "\"aab\"\n",
    "\"aac\"\n",
    "\"aba\"\n",
    ".\n",
    ".\n",
    ".\n",
    "\"zzy\"\n",
    "\"zzz\"\n",
    "```"
   ]
  },
  {
   "cell_type": "code",
   "execution_count": 52,
   "metadata": {},
   "outputs": [],
   "source": [
    "from itertools import combinations\n",
    "from string import ascii_lowercase"
   ]
  },
  {
   "cell_type": "code",
   "execution_count": 64,
   "metadata": {},
   "outputs": [],
   "source": [
    "combis = combinations(ascii_lowercase, 4)"
   ]
  },
  {
   "cell_type": "code",
   "execution_count": 65,
   "metadata": {},
   "outputs": [
    {
     "data": {
      "text/plain": [
       "14950"
      ]
     },
     "execution_count": 65,
     "metadata": {},
     "output_type": "execute_result"
    }
   ],
   "source": [
    "len(list(combis))"
   ]
  },
  {
   "cell_type": "code",
   "execution_count": 67,
   "metadata": {},
   "outputs": [],
   "source": [
    "def combinat(n):\n",
    "    print(n)"
   ]
  },
  {
   "cell_type": "code",
   "execution_count": null,
   "metadata": {},
   "outputs": [],
   "source": [
    "comb"
   ]
  },
  {
   "cell_type": "code",
   "execution_count": 70,
   "metadata": {},
   "outputs": [],
   "source": [
    "mi_diccionario = {\"a\": \"mnbm\", \"b\": \"asdasd\", \"c\": 1}"
   ]
  },
  {
   "cell_type": "code",
   "execution_count": 73,
   "metadata": {},
   "outputs": [
    {
     "name": "stdout",
     "output_type": "stream",
     "text": [
      "{'a': 'mnbm', 'b': 'asdasd', 'c': 1}\n"
     ]
    }
   ],
   "source": [
    "print(mi_diccionario)"
   ]
  },
  {
   "cell_type": "code",
   "execution_count": 87,
   "metadata": {},
   "outputs": [],
   "source": [
    "def buscar_value_entero(diccionario):\n",
    "    \"\"\"Busca y devuelve el primer valor entero de un diccionario.\n",
    "    \n",
    "    Si el diccionario blablablab.\n",
    "    \"\"\"\n",
    "    \n",
    "    for llave, valor in diccionario.items():\n",
    "        if isinstance(valor, int):\n",
    "            return valor"
   ]
  },
  {
   "cell_type": "code",
   "execution_count": 80,
   "metadata": {},
   "outputs": [
    {
     "data": {
      "text/plain": [
       "1"
      ]
     },
     "execution_count": 80,
     "metadata": {},
     "output_type": "execute_result"
    }
   ],
   "source": [
    "buscar_value_entero(mi_diccionario)"
   ]
  },
  {
   "cell_type": "code",
   "execution_count": 1,
   "metadata": {},
   "outputs": [],
   "source": [
    "import logging\n",
    "import os"
   ]
  },
  {
   "cell_type": "code",
   "execution_count": 2,
   "metadata": {},
   "outputs": [],
   "source": [
    "FORMAT = '%(levelname)s -- %(message)s -- %(pathname)s'\n",
    "\n",
    "\n",
    "logging.basicConfig(format=FORMAT)\n",
    "\n",
    "\n",
    "\n",
    "log = logging.getLogger(\"app\")\n",
    "log.setLevel(logging.DEBUG)"
   ]
  },
  {
   "cell_type": "code",
   "execution_count": 3,
   "metadata": {},
   "outputs": [
    {
     "name": "stderr",
     "output_type": "stream",
     "text": [
      "INFO -- Hola -- <ipython-input-3-23c21bb5ea14>\n"
     ]
    }
   ],
   "source": [
    "log.info(\"Hola\")"
   ]
  },
  {
   "cell_type": "code",
   "execution_count": 4,
   "metadata": {},
   "outputs": [
    {
     "name": "stderr",
     "output_type": "stream",
     "text": [
      "DEBUG -- Debugeando -- <ipython-input-4-d8bec2f77bbc>\n"
     ]
    }
   ],
   "source": [
    "log.debug(\"Debugeando\")"
   ]
  },
  {
   "cell_type": "markdown",
   "metadata": {},
   "source": [
    "app/loggers.py\n",
    "\n",
    "\n",
    "app/crud.py\n",
    "\n",
    "from app.loggers import log\n",
    "\n",
    "app/models.py\n",
    "app/func.py"
   ]
  }
 ],
 "metadata": {
  "kernelspec": {
   "display_name": "teach",
   "language": "python",
   "name": "teach"
  },
  "language_info": {
   "codemirror_mode": {
    "name": "ipython",
    "version": 3
   },
   "file_extension": ".py",
   "mimetype": "text/x-python",
   "name": "python",
   "nbconvert_exporter": "python",
   "pygments_lexer": "ipython3",
   "version": "3.8.6"
  }
 },
 "nbformat": 4,
 "nbformat_minor": 4
}
