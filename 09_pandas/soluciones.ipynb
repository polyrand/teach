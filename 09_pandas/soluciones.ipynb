{
 "cells": [
  {
   "cell_type": "code",
   "execution_count": 1,
   "id": "7f6f1891-6076-446d-a3bc-11c35f851ca2",
   "metadata": {},
   "outputs": [],
   "source": [
    "import pandas as pd\n",
    "import json\n",
    "import numpy as np"
   ]
  },
  {
   "cell_type": "code",
   "execution_count": null,
   "id": "b25f22af-deea-4bd6-9e42-12f99a6749f5",
   "metadata": {},
   "outputs": [],
   "source": [
    "import requests\n",
    "\n",
    "r = requests.get(\"https://raw.githubusercontent.com/polyrand/teach/master/archivos/breweries_us.csv\")\n",
    "\n",
    "with open(\"breweries_us.csv\", \"w\", encoding=\"utf-8\") as f:\n",
    "    f.write(r.text)"
   ]
  },
  {
   "cell_type": "code",
   "execution_count": null,
   "id": "ae604650-be6d-4984-a70c-c28422eaefb9",
   "metadata": {},
   "outputs": [],
   "source": [
    "brew = pd.read_csv(\"breweries_us.csv\", encoding=\"utf-8\")"
   ]
  },
  {
   "cell_type": "code",
   "execution_count": null,
   "id": "3eb61038-d06c-46c7-8231-0b4fe4284eab",
   "metadata": {},
   "outputs": [],
   "source": [
    "brew.head(5)"
   ]
  },
  {
   "cell_type": "code",
   "execution_count": null,
   "id": "f50a9ed4-8b15-49af-9e87-ad44211822bd",
   "metadata": {},
   "outputs": [],
   "source": [
    "n_filas = brew.shape[0]"
   ]
  },
  {
   "cell_type": "code",
   "execution_count": null,
   "id": "4c3add9a-a158-48f7-ad89-15d8ff784e26",
   "metadata": {},
   "outputs": [],
   "source": [
    "from string import ascii_lowercase\n",
    "import random\n",
    "\n",
    "def random_string():\n",
    "    \n",
    "    return \"\".join([random.choice(ascii_lowercase) for _ in range(random.randint(10,15))])"
   ]
  },
  {
   "cell_type": "markdown",
   "id": "4cc23c85-68b5-4df8-b432-591d22f54213",
   "metadata": {},
   "source": [
    "## Ejercicio 1\n",
    "\n",
    "* Crear columna con el nombre `texto_aleatorio`.\n",
    "* Aplicar 2 métodos sobre esta columna:\n",
    "    * Convertirla en mayúsuclas\n",
    "    * Reemplazar \"A\" por \"_\"\n",
    "    \n",
    "```python\n",
    "df[] = ...\n",
    "df[].str. ...\n",
    "```"
   ]
  },
  {
   "cell_type": "code",
   "execution_count": null,
   "id": "8ccabf4f-4992-44c3-a922-97bf5dcdff87",
   "metadata": {},
   "outputs": [],
   "source": [
    "brew[\"random\"] = 0\n",
    "random_serie = brew[\"random\"].apply(\n",
    "    lambda x: \"\".join(\n",
    "        [random.choice(ascii_lowercase) for _ in range(random.randint(10, 15))]\n",
    "    )\n",
    ")\n",
    "brew[\"random\"] = random_serie"
   ]
  },
  {
   "cell_type": "code",
   "execution_count": null,
   "id": "20bc193b-c0a3-4176-b811-e9ce556f4cd9",
   "metadata": {},
   "outputs": [],
   "source": [
    "brew.head(2)"
   ]
  },
  {
   "cell_type": "code",
   "execution_count": null,
   "id": "74e0ae05-8fb7-4987-9178-bd050d380bba",
   "metadata": {},
   "outputs": [],
   "source": [
    "brew[\"texto_aleatorio\"] = brew[\"texto_aleatorio\"].str."
   ]
  },
  {
   "cell_type": "code",
   "execution_count": null,
   "id": "dfe3df4e-a9b2-4cd2-952f-062cdf32d62b",
   "metadata": {},
   "outputs": [],
   "source": []
  },
  {
   "cell_type": "code",
   "execution_count": null,
   "id": "a45880d0-0591-4da0-b931-6d535235c020",
   "metadata": {},
   "outputs": [],
   "source": [
    "brew[\"texto_aleatorio\"] = [random_string() for _ in range(n_filas)]"
   ]
  },
  {
   "cell_type": "code",
   "execution_count": null,
   "id": "1f124f8c-31ea-4412-869a-fbb252061679",
   "metadata": {},
   "outputs": [],
   "source": [
    "nueva_col = brew[\"texto_aleatorio\"].str.upper()\n",
    "nueva_col = nueva_col.str.replace(\"A\", \"_\")"
   ]
  },
  {
   "cell_type": "code",
   "execution_count": null,
   "id": "b71bc9f7-2135-4663-9c53-856fe7320568",
   "metadata": {},
   "outputs": [],
   "source": [
    "nueva_col == brew[\"texto_aleatorio\"].str.upper().str.replace(\"A\", \"_\")"
   ]
  },
  {
   "cell_type": "code",
   "execution_count": null,
   "id": "15a5f6f4-5e31-4733-a919-3c2bb7a878c1",
   "metadata": {},
   "outputs": [],
   "source": [
    "brew[\"texto_aleatorio\"] = nueva_col"
   ]
  },
  {
   "cell_type": "code",
   "execution_count": null,
   "id": "5cb3b61f-2f34-4174-81eb-aa9e7614b065",
   "metadata": {},
   "outputs": [],
   "source": [
    "brew[\"texto_aleatorio\"] = brew[\"texto_aleatorio\"].str.upper().str.replace(\"A\", \"_\")"
   ]
  },
  {
   "cell_type": "code",
   "execution_count": null,
   "id": "96e29663-dd85-43d8-a73b-bd9ad5912f47",
   "metadata": {},
   "outputs": [],
   "source": [
    "brew[\"texto_aleatorio\"]"
   ]
  },
  {
   "cell_type": "code",
   "execution_count": 48,
   "id": "f7f56725-5716-45a9-bdaf-440dfa6b80de",
   "metadata": {},
   "outputs": [
    {
     "data": {
      "text/html": [
       "<div>\n",
       "<style scoped>\n",
       "    .dataframe tbody tr th:only-of-type {\n",
       "        vertical-align: middle;\n",
       "    }\n",
       "\n",
       "    .dataframe tbody tr th {\n",
       "        vertical-align: top;\n",
       "    }\n",
       "\n",
       "    .dataframe thead th {\n",
       "        text-align: right;\n",
       "    }\n",
       "</style>\n",
       "<table border=\"1\" class=\"dataframe\">\n",
       "  <thead>\n",
       "    <tr style=\"text-align: right;\">\n",
       "      <th></th>\n",
       "      <th>brewery_name</th>\n",
       "      <th>type</th>\n",
       "      <th>address</th>\n",
       "      <th>website</th>\n",
       "      <th>state</th>\n",
       "      <th>state_breweries</th>\n",
       "      <th>texto_aleatorio</th>\n",
       "      <th>random</th>\n",
       "    </tr>\n",
       "  </thead>\n",
       "  <tbody>\n",
       "    <tr>\n",
       "      <th>0</th>\n",
       "      <td>Valley Brewing Co.</td>\n",
       "      <td>Brewpub</td>\n",
       "      <td>PO Box 4653, Stockton, California, 95204</td>\n",
       "      <td>http://www.valleybrew.com/</td>\n",
       "      <td>california</td>\n",
       "      <td>284</td>\n",
       "      <td>OQQFFJQXSFJ</td>\n",
       "      <td>zzvzopteogjej</td>\n",
       "    </tr>\n",
       "    <tr>\n",
       "      <th>1</th>\n",
       "      <td>Valley Brewing Co.</td>\n",
       "      <td>Brewpub</td>\n",
       "      <td>157 Adams St., Stockton, California, 95204</td>\n",
       "      <td>http://www.valleybrew.com/</td>\n",
       "      <td>california</td>\n",
       "      <td>284</td>\n",
       "      <td>G_HZDCTPLCHD</td>\n",
       "      <td>bkfsjoiwimz</td>\n",
       "    </tr>\n",
       "    <tr>\n",
       "      <th>2</th>\n",
       "      <td>Valley Brewing Co</td>\n",
       "      <td>Microbrewery</td>\n",
       "      <td>1950 W Freemont, Stockton, California, 95203</td>\n",
       "      <td>http://www.valleybrew.com/</td>\n",
       "      <td>california</td>\n",
       "      <td>284</td>\n",
       "      <td>UCYXNWQFZWT</td>\n",
       "      <td>zgmjcjxspvfnu</td>\n",
       "    </tr>\n",
       "    <tr>\n",
       "      <th>3</th>\n",
       "      <td>Ukiah Brewing Company</td>\n",
       "      <td>Brewpub</td>\n",
       "      <td>102 S. State St., Ukiah, California, 95482</td>\n",
       "      <td>http://www.ukiahbrewingco.com/</td>\n",
       "      <td>california</td>\n",
       "      <td>284</td>\n",
       "      <td>MJZNQNLMQUL</td>\n",
       "      <td>fakrltwbgge</td>\n",
       "    </tr>\n",
       "    <tr>\n",
       "      <th>4</th>\n",
       "      <td>Tustin Brewing Co.</td>\n",
       "      <td>Brewpub</td>\n",
       "      <td>13011 Newport Ave. #100, Tustin, California, 9...</td>\n",
       "      <td>http://www.tustinbrewery.com/</td>\n",
       "      <td>california</td>\n",
       "      <td>284</td>\n",
       "      <td>ESVFNQENDIOIZ</td>\n",
       "      <td>idmwwdysouhtb</td>\n",
       "    </tr>\n",
       "  </tbody>\n",
       "</table>\n",
       "</div>"
      ],
      "text/plain": [
       "            brewery_name          type  \\\n",
       "0     Valley Brewing Co.       Brewpub   \n",
       "1     Valley Brewing Co.       Brewpub   \n",
       "2      Valley Brewing Co  Microbrewery   \n",
       "3  Ukiah Brewing Company       Brewpub   \n",
       "4     Tustin Brewing Co.       Brewpub   \n",
       "\n",
       "                                             address  \\\n",
       "0           PO Box 4653, Stockton, California, 95204   \n",
       "1         157 Adams St., Stockton, California, 95204   \n",
       "2       1950 W Freemont, Stockton, California, 95203   \n",
       "3         102 S. State St., Ukiah, California, 95482   \n",
       "4  13011 Newport Ave. #100, Tustin, California, 9...   \n",
       "\n",
       "                          website       state  state_breweries  \\\n",
       "0      http://www.valleybrew.com/  california              284   \n",
       "1      http://www.valleybrew.com/  california              284   \n",
       "2      http://www.valleybrew.com/  california              284   \n",
       "3  http://www.ukiahbrewingco.com/  california              284   \n",
       "4   http://www.tustinbrewery.com/  california              284   \n",
       "\n",
       "  texto_aleatorio         random  \n",
       "0     OQQFFJQXSFJ  zzvzopteogjej  \n",
       "1    G_HZDCTPLCHD    bkfsjoiwimz  \n",
       "2     UCYXNWQFZWT  zgmjcjxspvfnu  \n",
       "3     MJZNQNLMQUL    fakrltwbgge  \n",
       "4   ESVFNQENDIOIZ  idmwwdysouhtb  "
      ]
     },
     "execution_count": 48,
     "metadata": {},
     "output_type": "execute_result"
    }
   ],
   "source": [
    "brew.head(5)"
   ]
  },
  {
   "cell_type": "code",
   "execution_count": null,
   "id": "79e0bfc7-7304-46a8-9fcc-64d153a778af",
   "metadata": {},
   "outputs": [],
   "source": []
  },
  {
   "cell_type": "markdown",
   "id": "6b775e53-c582-46fd-a351-3c2ee4a570e7",
   "metadata": {},
   "source": [
    "## Ejercicio 2\n",
    "\n",
    "Buscar las destilerias donde\n",
    "\n",
    "* La dirección (`address`) contenga \"plaza\"\n",
    "* La página (`website`) web contenga \"com\"\n",
    "* Haya > de 100 destilerías en ese estado (`state_breweries`)"
   ]
  },
  {
   "cell_type": "code",
   "execution_count": 2,
   "id": "a426446d-6a0c-404a-95eb-308a78a07895",
   "metadata": {},
   "outputs": [],
   "source": [
    "brew = pd.read_csv(\"breweries_us.csv\")"
   ]
  },
  {
   "cell_type": "code",
   "execution_count": null,
   "id": "1a8cd639-ffa7-4ec4-9229-87a1fa9fd45a",
   "metadata": {},
   "outputs": [],
   "source": [
    "brew[\n",
    "    (brew[\"address\"].str.lower().str.contains(\"plaza\"))\n",
    "    & (brew[\"website\"].str.lower().str.contains(\"com\"))\n",
    "    & (brew[\"state_breweries\"] > 100)\n",
    "]"
   ]
  },
  {
   "cell_type": "code",
   "execution_count": null,
   "id": "a4d73d44-da99-48dd-ae38-78a5543befdc",
   "metadata": {},
   "outputs": [],
   "source": [
    "brew[\"texto_aleatorio\"] = [random_string() for _ in range(n_filas)]"
   ]
  },
  {
   "cell_type": "code",
   "execution_count": null,
   "id": "cbdd81e3-2790-4c24-bab3-d9cb04049e73",
   "metadata": {},
   "outputs": [],
   "source": []
  },
  {
   "cell_type": "markdown",
   "id": "af27c7c2-aae0-4ff9-8747-eb068a0b728d",
   "metadata": {},
   "source": [
    "## Actividad \"en directo\""
   ]
  },
  {
   "cell_type": "code",
   "execution_count": null,
   "id": "9a784fe5-a80f-4715-8407-666c2ebec5af",
   "metadata": {},
   "outputs": [],
   "source": [
    "for col in columnas:\n",
    "    df[col] = df[col].apply(pd.to_datetime)"
   ]
  },
  {
   "cell_type": "code",
   "execution_count": null,
   "id": "1e82db02-0e16-4dcc-8bb3-0583fb1b0e46",
   "metadata": {},
   "outputs": [],
   "source": [
    "df[\"horari_hores_inici\"] = pd.to_datetime(df[\"horari_hores_inici\"])\n",
    "df[\"horari_hores_fi\"] = pd.to_datetime(df[\"horari_hores_fi\"])"
   ]
  },
  {
   "cell_type": "code",
   "execution_count": null,
   "id": "f917bcd1-69ea-46c7-95b9-2170565c8058",
   "metadata": {},
   "outputs": [],
   "source": [
    "df[\"horari_hores_inici\"] = df[\"horari_hores_inici\"].apply(pd.to_datetime)\n",
    "df[\"horari_hores_fi\"] = df[\"horari_hores_fi\"].apply(pd.to_datetime)"
   ]
  },
  {
   "cell_type": "code",
   "execution_count": null,
   "id": "b5048315-c0b8-4411-ad70-253a0e824aac",
   "metadata": {},
   "outputs": [],
   "source": [
    "pd.set_option(\"display.max_rows\", 25)\n",
    "pd.set_option(\"display.max_columns\", None)"
   ]
  },
  {
   "cell_type": "code",
   "execution_count": null,
   "id": "50f3d715-0f31-43cf-b816-a27ec4f63127",
   "metadata": {},
   "outputs": [],
   "source": [
    "df[\"latitud\"]"
   ]
  },
  {
   "cell_type": "code",
   "execution_count": null,
   "id": "68ad7e06-254d-4bc7-8194-2a52c6134b0c",
   "metadata": {},
   "outputs": [],
   "source": [
    "df.filter(regex=\"horari_.*\")"
   ]
  },
  {
   "cell_type": "code",
   "execution_count": null,
   "id": "0114973b-c411-4284-b783-b79b0e9c1e79",
   "metadata": {},
   "outputs": [],
   "source": [
    "df.loc[\n",
    "    (df[\"horari_hores_inici\"].dt.hour > 18)\n",
    "    & ((df[\"horari_hores_fi\"].dt.hour <= 22) & (df[\"horari_hores_fi\"].dt.minute <= 30))\n",
    "    & (df[\"telefon_tipus\"] == \"reserves\"),\n",
    "    \"cena\",\n",
    "] = 1"
   ]
  },
  {
   "cell_type": "code",
   "execution_count": null,
   "id": "43ddaa68-ae71-4b08-9b4a-b08db1b3db1c",
   "metadata": {},
   "outputs": [],
   "source": []
  },
  {
   "cell_type": "code",
   "execution_count": null,
   "id": "ceb298e4-8747-4d18-9ecf-84306e3ade48",
   "metadata": {},
   "outputs": [],
   "source": []
  },
  {
   "cell_type": "code",
   "execution_count": null,
   "id": "dad8f7b0-4cc2-4e3f-8469-48f67c37403b",
   "metadata": {},
   "outputs": [],
   "source": [
    "b = [i for i in df.itertuples()]"
   ]
  },
  {
   "cell_type": "code",
   "execution_count": null,
   "id": "5dccf9d2-0394-4708-9f68-45ba32b06316",
   "metadata": {},
   "outputs": [],
   "source": [
    "def generar_url2(dataframe):\n",
    "    \n",
    "    lat = dataframe[\"latitud\"]\n",
    "    lon = dataframe[\"longitud\"]\n",
    "    \n",
    "    return url.format(lat=lat, lon=lon)"
   ]
  },
  {
   "cell_type": "code",
   "execution_count": null,
   "id": "c4803628-5264-45bf-bafd-ae2bd14e491d",
   "metadata": {},
   "outputs": [],
   "source": [
    "dd = df[[\"latitud\", \"longitud\"]].copy()"
   ]
  },
  {
   "cell_type": "code",
   "execution_count": null,
   "id": "f2f6f44a-b022-45ea-8f6a-cd2ac12a2ae7",
   "metadata": {},
   "outputs": [],
   "source": [
    "dd[\"url\"] = list(\n",
    "    map(lambda x: url.format(lat=x.latitud, lon=x.longitud), dd.itertuples())\n",
    ")"
   ]
  }
 ],
 "metadata": {
  "kernelspec": {
   "display_name": "Python [conda env:testing]",
   "language": "python",
   "name": "conda-env-testing-py"
  },
  "language_info": {
   "codemirror_mode": {
    "name": "ipython",
    "version": 3
   },
   "file_extension": ".py",
   "mimetype": "text/x-python",
   "name": "python",
   "nbconvert_exporter": "python",
   "pygments_lexer": "ipython3",
   "version": "3.8.8"
  }
 },
 "nbformat": 4,
 "nbformat_minor": 5
}
