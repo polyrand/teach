{
 "cells": [
  {
   "cell_type": "markdown",
   "metadata": {},
   "source": [
    "# La vida del CSV 📜"
   ]
  },
  {
   "cell_type": "markdown",
   "metadata": {},
   "source": [
    "### Leer:\n",
    "\n",
    "https://jakevdp.github.io/PythonDataScienceHandbook/03.00-introduction-to-pandas.html"
   ]
  },
  {
   "cell_type": "code",
   "execution_count": null,
   "metadata": {},
   "outputs": [],
   "source": [
    "import pandas as pd\n",
    "import json\n",
    "import numpy as np"
   ]
  },
  {
   "cell_type": "code",
   "execution_count": null,
   "metadata": {},
   "outputs": [],
   "source": [
    "import requests\n",
    "\n",
    "r = requests.get(\"https://raw.githubusercontent.com/polyrand/teach/master/archivos/breweries_us.csv\")\n",
    "\n",
    "with open(\"breweries_us.csv\", \"w\", encoding=\"utf-8\") as f:\n",
    "    f.write(r.text)"
   ]
  },
  {
   "cell_type": "code",
   "execution_count": null,
   "metadata": {},
   "outputs": [],
   "source": [
    "brew = pd.read_csv(\"breweries_us.csv\", encoding=\"utf-8\")"
   ]
  },
  {
   "cell_type": "code",
   "execution_count": null,
   "metadata": {},
   "outputs": [],
   "source": [
    "brew.head(5)"
   ]
  },
  {
   "cell_type": "code",
   "execution_count": null,
   "metadata": {},
   "outputs": [],
   "source": [
    "n_filas = brew.shape[0]"
   ]
  },
  {
   "cell_type": "code",
   "execution_count": null,
   "metadata": {},
   "outputs": [],
   "source": [
    "from string import ascii_lowercase\n",
    "import random\n",
    "\n",
    "def random_string():\n",
    "    \n",
    "    return \"\".join([random.choice(ascii_lowercase) for _ in range(random.randint(10,15))])"
   ]
  },
  {
   "cell_type": "markdown",
   "metadata": {},
   "source": [
    "## Ejercicio 1\n",
    "\n",
    "* Crear columna con el nombre `texto_aleatorio`.\n",
    "* Aplicar 2 métodos sobre esta columna:\n",
    "    * Convertirla en mayúsuclas\n",
    "    * Reemplazar \"A\" por \"_\"\n",
    "    \n",
    "```python\n",
    "df[] = ...\n",
    "df[].str. ...\n",
    "```"
   ]
  },
  {
   "cell_type": "code",
   "execution_count": null,
   "metadata": {},
   "outputs": [],
   "source": [
    "brew[\"texto_aleatorio\"] = [random_string() for _ in range(brew.shape[0])]\n",
    "\n",
    "brew[\"texto_aleatorio\"] = brew[\"texto_aleatorio\"].str.upper().str.replace(\"A\", \"_\")\n",
    "\n",
    "brew.head(5)"
   ]
  },
  {
   "cell_type": "code",
   "execution_count": null,
   "metadata": {},
   "outputs": [],
   "source": []
  },
  {
   "cell_type": "code",
   "execution_count": null,
   "metadata": {
    "tags": []
   },
   "outputs": [],
   "source": [
    "brew.query(\"state_breweries > 150\")  # es lo mismo que: brew[brew[\"state_breweries\"] > 150]"
   ]
  },
  {
   "cell_type": "markdown",
   "metadata": {},
   "source": [
    "## Ejercicio 2\n",
    "\n",
    "Buscar las destilerias donde\n",
    "\n",
    "* La dirección (`address`) contenga \"plaza\"\n",
    "* La página (`website`) web contenga \"com\"\n",
    "* Haya > de 100 destilerías en ese estado (`state_breweries`)"
   ]
  },
  {
   "cell_type": "code",
   "execution_count": null,
   "metadata": {},
   "outputs": [],
   "source": [
    "df1 = brew[(brew[\"address\"].str.lower().str.contains(\"plaza\")) &\n",
    "     (brew[\"website\"].str.lower().str.contains(\"com\")) &\n",
    "     (brew[\"state_breweries\"] > 100)]\n",
    "\n",
    "\n",
    "df1.head()"
   ]
  },
  {
   "cell_type": "code",
   "execution_count": 65,
   "metadata": {},
   "outputs": [
    {
     "data": {
      "text/plain": [
       "Brewpub         0.75\n",
       "Microbrewery    0.25\n",
       "Name: type, dtype: float64"
      ]
     },
     "execution_count": 65,
     "metadata": {},
     "output_type": "execute_result"
    }
   ],
   "source": [
    "df[\"type\"].value_counts(normalize=True)"
   ]
  },
  {
   "cell_type": "code",
   "execution_count": 66,
   "metadata": {},
   "outputs": [
    {
     "data": {
      "text/plain": [
       "brewery_name                                  Defiant Brewing Co.\n",
       "type                                                 Microbrewery\n",
       "address            6 E Dexter Plaza, Pearl River, New York, 10965\n",
       "website                            http://www.defiantbrewing.com/\n",
       "state                                                    new-york\n",
       "state_breweries                                               107\n",
       "texto_aleatorio                                      KMN_ZSQPCYLK\n",
       "random                                             nlkjjszcqnychp\n",
       "Name: 1464, dtype: object"
      ]
     },
     "execution_count": 66,
     "metadata": {},
     "output_type": "execute_result"
    }
   ],
   "source": [
    "brew.loc[1464]"
   ]
  },
  {
   "cell_type": "code",
   "execution_count": 67,
   "metadata": {},
   "outputs": [
    {
     "data": {
      "text/html": [
       "<div>\n",
       "<style scoped>\n",
       "    .dataframe tbody tr th:only-of-type {\n",
       "        vertical-align: middle;\n",
       "    }\n",
       "\n",
       "    .dataframe tbody tr th {\n",
       "        vertical-align: top;\n",
       "    }\n",
       "\n",
       "    .dataframe thead th {\n",
       "        text-align: right;\n",
       "    }\n",
       "</style>\n",
       "<table border=\"1\" class=\"dataframe\">\n",
       "  <thead>\n",
       "    <tr style=\"text-align: right;\">\n",
       "      <th></th>\n",
       "      <th>address</th>\n",
       "      <th>state</th>\n",
       "    </tr>\n",
       "  </thead>\n",
       "  <tbody>\n",
       "    <tr>\n",
       "      <th>0</th>\n",
       "      <td>PO Box 4653, Stockton, California, 95204</td>\n",
       "      <td>california</td>\n",
       "    </tr>\n",
       "    <tr>\n",
       "      <th>1</th>\n",
       "      <td>157 Adams St., Stockton, California, 95204</td>\n",
       "      <td>california</td>\n",
       "    </tr>\n",
       "    <tr>\n",
       "      <th>2</th>\n",
       "      <td>1950 W Freemont, Stockton, California, 95203</td>\n",
       "      <td>california</td>\n",
       "    </tr>\n",
       "    <tr>\n",
       "      <th>3</th>\n",
       "      <td>102 S. State St., Ukiah, California, 95482</td>\n",
       "      <td>california</td>\n",
       "    </tr>\n",
       "    <tr>\n",
       "      <th>4</th>\n",
       "      <td>13011 Newport Ave. #100, Tustin, California, 9...</td>\n",
       "      <td>california</td>\n",
       "    </tr>\n",
       "    <tr>\n",
       "      <th>...</th>\n",
       "      <td>...</td>\n",
       "      <td>...</td>\n",
       "    </tr>\n",
       "    <tr>\n",
       "      <th>2308</th>\n",
       "      <td>14655 Woodinville/Redmond Rd NE, Woodinville, ...</td>\n",
       "      <td>washington</td>\n",
       "    </tr>\n",
       "    <tr>\n",
       "      <th>2309</th>\n",
       "      <td>1015 Lee Blvd, Richland, Washington, 99352</td>\n",
       "      <td>washington</td>\n",
       "    </tr>\n",
       "    <tr>\n",
       "      <th>2310</th>\n",
       "      <td>320 Commercial St., Anacortes, Washington, 98221</td>\n",
       "      <td>washington</td>\n",
       "    </tr>\n",
       "    <tr>\n",
       "      <th>2311</th>\n",
       "      <td>PO Box 2320/821 14th Ave, Oroville, Washington...</td>\n",
       "      <td>washington</td>\n",
       "    </tr>\n",
       "    <tr>\n",
       "      <th>2312</th>\n",
       "      <td>3207 57th St Ct NW, Gig Harbor, Washington, 98335</td>\n",
       "      <td>washington</td>\n",
       "    </tr>\n",
       "  </tbody>\n",
       "</table>\n",
       "<p>987 rows × 2 columns</p>\n",
       "</div>"
      ],
      "text/plain": [
       "                                                address       state\n",
       "0              PO Box 4653, Stockton, California, 95204  california\n",
       "1            157 Adams St., Stockton, California, 95204  california\n",
       "2          1950 W Freemont, Stockton, California, 95203  california\n",
       "3            102 S. State St., Ukiah, California, 95482  california\n",
       "4     13011 Newport Ave. #100, Tustin, California, 9...  california\n",
       "...                                                 ...         ...\n",
       "2308  14655 Woodinville/Redmond Rd NE, Woodinville, ...  washington\n",
       "2309         1015 Lee Blvd, Richland, Washington, 99352  washington\n",
       "2310   320 Commercial St., Anacortes, Washington, 98221  washington\n",
       "2311  PO Box 2320/821 14th Ave, Oroville, Washington...  washington\n",
       "2312  3207 57th St Ct NW, Gig Harbor, Washington, 98335  washington\n",
       "\n",
       "[987 rows x 2 columns]"
      ]
     },
     "execution_count": 67,
     "metadata": {},
     "output_type": "execute_result"
    }
   ],
   "source": [
    "brew.loc[brew[\"state_breweries\"] > 100, [\"address\",\"state\"]]"
   ]
  },
  {
   "cell_type": "code",
   "execution_count": 68,
   "metadata": {},
   "outputs": [],
   "source": [
    "import json"
   ]
  },
  {
   "cell_type": "code",
   "execution_count": 74,
   "metadata": {},
   "outputs": [
    {
     "data": {
      "text/plain": [
       "[{'brewery_name': 'Valley Brewing Co.',\n",
       "  'type': 'Brewpub',\n",
       "  'address': 'PO Box 4653, Stockton, California, 95204',\n",
       "  'website': 'http://www.valleybrew.com/',\n",
       "  'state': 'california',\n",
       "  'state_breweries': 284,\n",
       "  'texto_aleatorio': 'OQQFFJQXSFJ',\n",
       "  'random': 'zzvzopteogjej'},\n",
       " {'brewery_name': 'Valley Brewing Co.',\n",
       "  'type': 'Brewpub',\n",
       "  'address': '157 Adams St., Stockton, California, 95204',\n",
       "  'website': 'http://www.valleybrew.com/',\n",
       "  'state': 'california',\n",
       "  'state_breweries': 284,\n",
       "  'texto_aleatorio': 'G_HZDCTPLCHD',\n",
       "  'random': 'bkfsjoiwimz'},\n",
       " {'brewery_name': 'Valley Brewing Co',\n",
       "  'type': 'Microbrewery',\n",
       "  'address': '1950 W Freemont, Stockton, California, 95203',\n",
       "  'website': 'http://www.valleybrew.com/',\n",
       "  'state': 'california',\n",
       "  'state_breweries': 284,\n",
       "  'texto_aleatorio': 'UCYXNWQFZWT',\n",
       "  'random': 'zgmjcjxspvfnu'},\n",
       " {'brewery_name': 'Ukiah Brewing Company',\n",
       "  'type': 'Brewpub',\n",
       "  'address': '102 S. State St., Ukiah, California, 95482',\n",
       "  'website': 'http://www.ukiahbrewingco.com/',\n",
       "  'state': 'california',\n",
       "  'state_breweries': 284,\n",
       "  'texto_aleatorio': 'MJZNQNLMQUL',\n",
       "  'random': 'fakrltwbgge'},\n",
       " {'brewery_name': 'Tustin Brewing Co.',\n",
       "  'type': 'Brewpub',\n",
       "  'address': '13011 Newport Ave. #100, Tustin, California, 92780',\n",
       "  'website': 'http://www.tustinbrewery.com/',\n",
       "  'state': 'california',\n",
       "  'state_breweries': 284,\n",
       "  'texto_aleatorio': 'ESVFNQENDIOIZ',\n",
       "  'random': 'idmwwdysouhtb'}]"
      ]
     },
     "execution_count": 74,
     "metadata": {},
     "output_type": "execute_result"
    }
   ],
   "source": [
    "json.loads(brew.head(5).to_json(orient=\"records\"))"
   ]
  },
  {
   "cell_type": "code",
   "execution_count": null,
   "metadata": {},
   "outputs": [],
   "source": [
    "brew.head(2)"
   ]
  },
  {
   "cell_type": "code",
   "execution_count": null,
   "metadata": {},
   "outputs": [],
   "source": [
    "mijson = json.loads(brew.head(5).to_json(orient=\"index\"))"
   ]
  },
  {
   "cell_type": "code",
   "execution_count": null,
   "metadata": {},
   "outputs": [],
   "source": [
    "for e in mijson:\n",
    "    print(e)\n",
    "    break"
   ]
  },
  {
   "cell_type": "code",
   "execution_count": null,
   "metadata": {},
   "outputs": [],
   "source": [
    "# [mijson[elemento] for elemento in mijson if mijson[elemento][\"state_breweries\"] > 200]"
   ]
  },
  {
   "cell_type": "code",
   "execution_count": null,
   "metadata": {},
   "outputs": [],
   "source": [
    "# json.loads(brew.to_json(orient=\"index\"))"
   ]
  },
  {
   "cell_type": "code",
   "execution_count": null,
   "metadata": {},
   "outputs": [],
   "source": [
    "# so example: https://www.google.com/search?client=firefox-b-d&q=pandas+string+column+in\n",
    "brew[brew[\"address\"].str.lower().str.contains(\"plaza\")]"
   ]
  },
  {
   "cell_type": "markdown",
   "metadata": {},
   "source": [
    "Otros:\n",
    "* https://pandas.pydata.org/pandas-docs/stable/reference/api/pandas.io.json.json_normalize.html\n",
    "* https://pandas.pydata.org/pandas-docs/stable/reference/api/pandas.DataFrame.to_json.html"
   ]
  },
  {
   "cell_type": "code",
   "execution_count": null,
   "metadata": {},
   "outputs": [],
   "source": [
    "import numpy as np"
   ]
  },
  {
   "cell_type": "code",
   "execution_count": null,
   "metadata": {},
   "outputs": [],
   "source": [
    "url_base = 'https://raw.githubusercontent.com/cmrivers/ebola/master/guinea_data/'"
   ]
  },
  {
   "cell_type": "code",
   "execution_count": null,
   "metadata": {},
   "outputs": [],
   "source": [
    "pd.read_csv(url_base + \"2014-09-02.csv\").columns"
   ]
  },
  {
   "cell_type": "code",
   "execution_count": null,
   "metadata": {},
   "outputs": [],
   "source": [
    "pd.read_csv(\"https://raw.githubusercontent.com/cmrivers/ebola/master/guinea_data/2014-09-02.csv\").head(2)"
   ]
  },
  {
   "cell_type": "code",
   "execution_count": null,
   "metadata": {},
   "outputs": [],
   "source": [
    "import pandas as pd\n",
    "\n",
    "airport = pd.read_csv(\"https://query.data.world/s/y5tgknegiinkp55b5s2kruvmmvnu62\", parse_dates=[\"Month\"])"
   ]
  },
  {
   "cell_type": "code",
   "execution_count": null,
   "metadata": {},
   "outputs": [],
   "source": [
    "airport.head(2)"
   ]
  },
  {
   "cell_type": "code",
   "execution_count": null,
   "metadata": {},
   "outputs": [],
   "source": [
    "# airport.dtypes"
   ]
  },
  {
   "cell_type": "code",
   "execution_count": null,
   "metadata": {},
   "outputs": [],
   "source": [
    "airport.head(2)"
   ]
  },
  {
   "cell_type": "markdown",
   "metadata": {},
   "source": [
    "* Filtrar el dataframe y seleccionar solo donde el año sea `> 2015`."
   ]
  },
  {
   "cell_type": "code",
   "execution_count": null,
   "metadata": {},
   "outputs": [],
   "source": [
    "airport.query(\"Month.dt.year > 2015\")"
   ]
  },
  {
   "cell_type": "code",
   "execution_count": null,
   "metadata": {},
   "outputs": [],
   "source": [
    "airport.loc[\n",
    "    airport[\"Month\"].dt.year > 2015, [\"International Enplaned Passengers: Revenue\"]\n",
    "]"
   ]
  },
  {
   "cell_type": "code",
   "execution_count": null,
   "metadata": {},
   "outputs": [],
   "source": [
    "airport[airport[\"Month\"].dt.year > 2015][\"International Enplaned Passengers: Revenue\"]"
   ]
  },
  {
   "cell_type": "code",
   "execution_count": null,
   "metadata": {},
   "outputs": [],
   "source": [
    "airport[\"International Enplaned Passengers: Revenue\"]"
   ]
  },
  {
   "cell_type": "code",
   "execution_count": null,
   "metadata": {},
   "outputs": [],
   "source": [
    "airport[airport[\"Month\"].dt.year > 2015]"
   ]
  },
  {
   "cell_type": "code",
   "execution_count": null,
   "metadata": {},
   "outputs": [],
   "source": [
    "airport[\"año\"] = airport[\"Month\"].dt.year"
   ]
  },
  {
   "cell_type": "markdown",
   "metadata": {},
   "source": [
    "Para eliminar columnas:"
   ]
  },
  {
   "cell_type": "code",
   "execution_count": null,
   "metadata": {},
   "outputs": [],
   "source": [
    "airport.drop(columns=[\"año\", \"Domestic Enplaned Passengers: Revenue\"], inplace=True)"
   ]
  },
  {
   "cell_type": "code",
   "execution_count": null,
   "metadata": {},
   "outputs": [],
   "source": [
    "airport[\"año\"] = airport[\"Month\"].dt.year\n",
    "airport[\"mes\"] = airport[\"Month\"].dt.month\n",
    "airport[\"peso_por_landing\"] = airport[\"Weight Totals\"] / airport[\"Landing Totals\"]"
   ]
  },
  {
   "cell_type": "markdown",
   "metadata": {},
   "source": [
    "Para seleccionar solo una grupo de columnas:"
   ]
  },
  {
   "cell_type": "code",
   "execution_count": null,
   "metadata": {},
   "outputs": [],
   "source": [
    "airport_reducido = airport[[\"año\", \"mes\", \"peso_por_landing\"]]  # solo las columnas año, mes, peso_por_landing"
   ]
  },
  {
   "cell_type": "code",
   "execution_count": null,
   "metadata": {},
   "outputs": [],
   "source": [
    "airport_reducido.head(2)"
   ]
  },
  {
   "cell_type": "markdown",
   "metadata": {},
   "source": [
    "crear una query para seleccionar la columna`mes`, donde `Domestic Deplaned Belly Freight` > $516322.0$\n",
    "y`Domestic Enplaned Passengers: Non-Revenue` sea mayor que la media de esa columna"
   ]
  },
  {
   "cell_type": "code",
   "execution_count": null,
   "metadata": {},
   "outputs": [],
   "source": [
    "new_df = airport.loc[\n",
    "    (airport[\"Domestic Deplaned Belly Freight\"] > 516322.0)\n",
    "    & (\n",
    "        airport[\"Domestic Enplaned Passengers: Non-Revenue\"]\n",
    "        > airport[\"Domestic Enplaned Passengers: Non-Revenue\"].mean()\n",
    "    ),\n",
    "    \"mes\",\n",
    "]"
   ]
  },
  {
   "cell_type": "markdown",
   "metadata": {},
   "source": [
    "Para hacer que el `Index` sea una de las columnas."
   ]
  },
  {
   "cell_type": "code",
   "execution_count": null,
   "metadata": {},
   "outputs": [],
   "source": [
    "airport.set_index(\"Month\", inplace=True)"
   ]
  },
  {
   "cell_type": "markdown",
   "metadata": {},
   "source": [
    "## Actividad \"en directo\""
   ]
  },
  {
   "cell_type": "code",
   "execution_count": null,
   "metadata": {},
   "outputs": [],
   "source": [
    "import pandas as pd\n",
    "import numpy as np"
   ]
  },
  {
   "cell_type": "code",
   "execution_count": null,
   "metadata": {},
   "outputs": [],
   "source": [
    "df = pd.read_csv(\n",
    "    \"https://opendata-ajuntament.barcelona.cat/data/dataset/b4d2cc2f-67dc-481a-a7cb-1999fd0d5740/resource/f4f2abbf-09e8-42a4-9648-c26ec5e0f3be/download\"\n",
    ")"
   ]
  },
  {
   "cell_type": "code",
   "execution_count": null,
   "metadata": {},
   "outputs": [],
   "source": [
    "df.rename(columns=lambda x: x.lower(), inplace=True)"
   ]
  },
  {
   "cell_type": "code",
   "execution_count": null,
   "metadata": {},
   "outputs": [],
   "source": [
    "df.columns"
   ]
  },
  {
   "cell_type": "markdown",
   "metadata": {},
   "source": [
    "## Ejercicio\n",
    "\n",
    "Obtener un dtaframe con los restaurantes que abran entre las 18 y las 22:30. Y que tenga un teléfono = `\"reserves\"`\n",
    "\n",
    "Añadir una columna llamada `cena` que sea `0` donde NO se cumpla la condición anterior y `1` donde SI se cumpla.\n",
    "\n",
    "**Tip:**\n",
    "\n",
    "Se pueden \"anidar\" condicionales:\n",
    "\n",
    "```python\n",
    "df.loc[() & () & (() & ())]\n",
    "```"
   ]
  },
  {
   "cell_type": "code",
   "execution_count": null,
   "metadata": {},
   "outputs": [],
   "source": [
    "df[\"telefon_tipus\"] = df[\"telefon_tipus\"].str.lower()"
   ]
  },
  {
   "cell_type": "code",
   "execution_count": null,
   "metadata": {},
   "outputs": [],
   "source": [
    "df[\"telefon_tipus\"].value_counts()"
   ]
  },
  {
   "cell_type": "code",
   "execution_count": null,
   "metadata": {},
   "outputs": [],
   "source": [
    "columnas = [\"horari_hores_fi\", \"horari_hores_inici\"]"
   ]
  },
  {
   "cell_type": "code",
   "execution_count": null,
   "metadata": {},
   "outputs": [],
   "source": [
    "for col in columnas:\n",
    "    df[col] = pd.to_datetime(df[col])"
   ]
  },
  {
   "cell_type": "code",
   "execution_count": null,
   "metadata": {},
   "outputs": [],
   "source": [
    "df1 = df[\n",
    "    (df[\"horari_hores_inici\"].dt.hour >= 18)\n",
    "    & ((df[\"horari_hores_fi\"].dt.hour <= 22) & (df[\"horari_hores_fi\"].dt.minute <= 30))\n",
    "    & (df[\"telefon_tipus\"] == \"reserves\")\n",
    "]"
   ]
  },
  {
   "cell_type": "code",
   "execution_count": null,
   "metadata": {},
   "outputs": [],
   "source": []
  },
  {
   "cell_type": "markdown",
   "metadata": {},
   "source": [
    "Creamos la columna con todo = `0`"
   ]
  },
  {
   "cell_type": "code",
   "execution_count": null,
   "metadata": {},
   "outputs": [],
   "source": [
    "df[\"cena\"] = 0\n",
    "\n",
    "df.head(2)"
   ]
  },
  {
   "cell_type": "markdown",
   "metadata": {},
   "source": [
    "Modificamos donde se cumple la condición. **IMPORTANTE**: usamos `.loc[]` para hacer modificaciones.\n",
    "\n",
    "**MAL**\n",
    "\n",
    "```python\n",
    "df[\n",
    "    (df[\"horari_hores_inici\"].dt.hour >= 18)\n",
    "    & ((df[\"horari_hores_fi\"].dt.hour <= 22) & (df[\"horari_hores_fi\"].dt.minute <= 30))\n",
    "    & (df[\"telefon_tipus\"] == \"reserves\"),\n",
    "][\"cena\"] = 1\n",
    "```\n",
    "\n",
    "**BIEN**\n",
    "\n",
    "```python\n",
    "df.loc[\n",
    "    (df[\"horari_hores_inici\"].dt.hour >= 18)\n",
    "    & ((df[\"horari_hores_fi\"].dt.hour <= 22) & (df[\"horari_hores_fi\"].dt.minute <= 30))\n",
    "    & (df[\"telefon_tipus\"] == \"reserves\"),\n",
    "    \"cena\",\n",
    "] = 1\n",
    "```"
   ]
  },
  {
   "cell_type": "code",
   "execution_count": null,
   "metadata": {},
   "outputs": [],
   "source": [
    "df.loc[\n",
    "    (df[\"horari_hores_inici\"].dt.hour >= 18)\n",
    "    & ((df[\"horari_hores_fi\"].dt.hour <= 22) & (df[\"horari_hores_fi\"].dt.minute <= 30))\n",
    "    & (df[\"telefon_tipus\"] == \"reserves\"),\n",
    "    \"cena\",\n",
    "] = 1"
   ]
  },
  {
   "cell_type": "code",
   "execution_count": null,
   "metadata": {},
   "outputs": [],
   "source": []
  },
  {
   "cell_type": "code",
   "execution_count": null,
   "metadata": {},
   "outputs": [],
   "source": []
  },
  {
   "cell_type": "markdown",
   "metadata": {},
   "source": [
    "# Ejercicio\n",
    "\n",
    "* Filtrar el dataframe donde cena = 1\n",
    "* Guardar este DataFrame a un csv en el disco.\n",
    "    * ¿Usarías `index=False` para guardar este dataframe en el disco sin preservar el index?"
   ]
  },
  {
   "cell_type": "code",
   "execution_count": null,
   "metadata": {},
   "outputs": [],
   "source": [
    "# df.dtypes"
   ]
  },
  {
   "cell_type": "code",
   "execution_count": null,
   "metadata": {},
   "outputs": [],
   "source": [
    "df[\"tipus_via\"].value_counts()"
   ]
  },
  {
   "cell_type": "markdown",
   "metadata": {},
   "source": [
    "## Ejercicio\n",
    "\n",
    "* Crear nueva columna que contenta una URL de google maps que nos lleve al sitio.\n",
    "* Las URLs de Google Maps tiene el format que aparece en la siguiente celda:"
   ]
  },
  {
   "cell_type": "code",
   "execution_count": null,
   "metadata": {},
   "outputs": [],
   "source": [
    "df[~df[\"latitud\"].isna()]"
   ]
  },
  {
   "cell_type": "code",
   "execution_count": null,
   "metadata": {},
   "outputs": [],
   "source": [
    "url = \"https://www.google.es/maps/place/Barcelona/@{lat},{lon},17z\""
   ]
  },
  {
   "cell_type": "code",
   "execution_count": null,
   "metadata": {},
   "outputs": [],
   "source": [
    "def generar_url(x):\n",
    "\n",
    "    url = \"https://www.google.es/maps/place/Barcelona/@{lat},{lon},17z\"\n",
    "\n",
    "    lat = x[\"latitud\"]\n",
    "    lon = x[\"longitud\"]\n",
    "\n",
    "    url_final = url.format(lat=lat, lon=lon)\n",
    "\n",
    "    return url_final"
   ]
  },
  {
   "cell_type": "code",
   "execution_count": null,
   "metadata": {},
   "outputs": [],
   "source": [
    "df[\"url\"] = df.apply(generar_url, axis=1)\n",
    "######################             ^^^ importante el axis"
   ]
  },
  {
   "cell_type": "markdown",
   "metadata": {},
   "source": [
    "Comprobamos una URL:"
   ]
  },
  {
   "cell_type": "code",
   "execution_count": null,
   "metadata": {},
   "outputs": [],
   "source": [
    "df.iloc[0][\"url\"]"
   ]
  },
  {
   "cell_type": "markdown",
   "metadata": {},
   "source": [
    "Más info y fuentes:\n",
    "* 👉🏼👉🏼👉🏼👉🏼👉🏼👉🏼👉🏼👉🏼👉🏼👉🏼 https://pandas.pydata.org/pandas-docs/stable/ 👈🏼👈🏼👈🏼👈🏼👈🏼👈🏼👈🏼👈🏼👈🏼👈🏼\n",
    "* 👉🏼👉🏼👉🏼👉🏼👉🏼👉🏼👉🏼👉🏼👉🏼👉🏼 https://pandas.pydata.org/pandas-docs/stable/ 👈🏼👈🏼👈🏼👈🏼👈🏼👈🏼👈🏼👈🏼👈🏼👈🏼\n",
    "* 👉🏼👉🏼👉🏼👉🏼👉🏼👉🏼👉🏼👉🏼👉🏼👉🏼 https://pandas.pydata.org/pandas-docs/stable/ 👈🏼👈🏼👈🏼👈🏼👈🏼👈🏼👈🏼👈🏼👈🏼👈🏼\n",
    "* 👉🏼👉🏼👉🏼👉🏼👉🏼👉🏼👉🏼👉🏼👉🏼👉🏼 https://pandas.pydata.org/pandas-docs/stable/ 👈🏼👈🏼👈🏼👈🏼👈🏼👈🏼👈🏼👈🏼👈🏼👈🏼\n",
    "* 👉🏼👉🏼👉🏼👉🏼👉🏼👉🏼👉🏼👉🏼👉🏼👉🏼 https://pandas.pydata.org/pandas-docs/stable/ 👈🏼👈🏼👈🏼👈🏼👈🏼👈🏼👈🏼👈🏼👈🏼👈🏼\n",
    "* 👉🏼👉🏼👉🏼👉🏼👉🏼👉🏼👉🏼👉🏼👉🏼👉🏼 https://pandas.pydata.org/pandas-docs/stable/ 👈🏼👈🏼👈🏼👈🏼👈🏼👈🏼👈🏼👈🏼👈🏼👈🏼\n",
    "* 👉🏼👉🏼👉🏼👉🏼👉🏼👉🏼👉🏼👉🏼👉🏼👉🏼 https://pandas.pydata.org/pandas-docs/stable/ 👈🏼👈🏼👈🏼👈🏼👈🏼👈🏼👈🏼👈🏼👈🏼👈🏼\n",
    "* 👉🏼👉🏼👉🏼👉🏼👉🏼👉🏼👉🏼👉🏼👉🏼👉🏼 https://pandas.pydata.org/pandas-docs/stable/ 👈🏼👈🏼👈🏼👈🏼👈🏼👈🏼👈🏼👈🏼👈🏼👈🏼"
   ]
  },
  {
   "cell_type": "markdown",
   "metadata": {},
   "source": [
    "Datos para practicas, explorar:\n",
    "* https://data.world/\n",
    "* https://www.kaggle.com/\n",
    "* https://archive.ics.uci.edu/"
   ]
  },
  {
   "cell_type": "markdown",
   "metadata": {},
   "source": [
    "Ricardo Ander-Egg Aguilar\n",
    "\n",
    "* 🖥: https://ricardoanderegg.com/\n",
    "* 🐦: https://twitter.com/ricardoanderegg\n",
    "* 👨🏻‍🎓: https://www.linkedin.com/in/ricardoanderegg/"
   ]
  }
 ],
 "metadata": {
  "kernelspec": {
   "display_name": "Python [conda env:testing]",
   "language": "python",
   "name": "conda-env-testing-py"
  },
  "language_info": {
   "codemirror_mode": {
    "name": "ipython",
    "version": 3
   },
   "file_extension": ".py",
   "mimetype": "text/x-python",
   "name": "python",
   "nbconvert_exporter": "python",
   "pygments_lexer": "ipython3",
   "version": "3.8.8"
  }
 },
 "nbformat": 4,
 "nbformat_minor": 4
}
