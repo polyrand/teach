{
 "cells": [
  {
   "cell_type": "code",
   "execution_count": 1,
   "metadata": {},
   "outputs": [],
   "source": [
    "import requests\n",
    "import pandas as pd\n",
    "import numpy as np\n",
    "import json\n",
    "import datetime"
   ]
  },
  {
   "cell_type": "code",
   "execution_count": 2,
   "metadata": {},
   "outputs": [],
   "source": [
    "res = requests.get(\"https://api.bsmsa.eu/ext/api/bsm/gbfs/v2/en/station_status\")\n",
    "\n",
    "if res.status_code != 200:\n",
    "    print(res.status_code)\n",
    "    \n",
    "    print(repr(res.content))"
   ]
  },
  {
   "cell_type": "code",
   "execution_count": 3,
   "metadata": {},
   "outputs": [],
   "source": [
    "data = res.json()"
   ]
  },
  {
   "cell_type": "code",
   "execution_count": 4,
   "metadata": {},
   "outputs": [],
   "source": [
    "# with open(\"datos_bicing.json\", \"w\") as f:\n",
    "#     f.write()"
   ]
  },
  {
   "cell_type": "code",
   "execution_count": 5,
   "metadata": {},
   "outputs": [],
   "source": [
    "df = pd.DataFrame([e for e in data[\"data\"].values()][0])"
   ]
  },
  {
   "cell_type": "code",
   "execution_count": 6,
   "metadata": {},
   "outputs": [
    {
     "data": {
      "text/html": [
       "<div>\n",
       "<style scoped>\n",
       "    .dataframe tbody tr th:only-of-type {\n",
       "        vertical-align: middle;\n",
       "    }\n",
       "\n",
       "    .dataframe tbody tr th {\n",
       "        vertical-align: top;\n",
       "    }\n",
       "\n",
       "    .dataframe thead th {\n",
       "        text-align: right;\n",
       "    }\n",
       "</style>\n",
       "<table border=\"1\" class=\"dataframe\">\n",
       "  <thead>\n",
       "    <tr style=\"text-align: right;\">\n",
       "      <th></th>\n",
       "      <th>station_id</th>\n",
       "      <th>num_bikes_available</th>\n",
       "      <th>num_bikes_available_types</th>\n",
       "      <th>num_docks_available</th>\n",
       "      <th>is_installed</th>\n",
       "      <th>is_renting</th>\n",
       "      <th>is_returning</th>\n",
       "      <th>last_reported</th>\n",
       "      <th>is_charging_station</th>\n",
       "      <th>status</th>\n",
       "    </tr>\n",
       "  </thead>\n",
       "  <tbody>\n",
       "    <tr>\n",
       "      <th>0</th>\n",
       "      <td>1</td>\n",
       "      <td>27</td>\n",
       "      <td>{'mechanical': 27, 'ebike': 0}</td>\n",
       "      <td>18</td>\n",
       "      <td>1</td>\n",
       "      <td>1</td>\n",
       "      <td>1</td>\n",
       "      <td>1604044636</td>\n",
       "      <td>True</td>\n",
       "      <td>IN_SERVICE</td>\n",
       "    </tr>\n",
       "    <tr>\n",
       "      <th>1</th>\n",
       "      <td>2</td>\n",
       "      <td>9</td>\n",
       "      <td>{'mechanical': 9, 'ebike': 0}</td>\n",
       "      <td>17</td>\n",
       "      <td>1</td>\n",
       "      <td>1</td>\n",
       "      <td>1</td>\n",
       "      <td>1604044449</td>\n",
       "      <td>True</td>\n",
       "      <td>IN_SERVICE</td>\n",
       "    </tr>\n",
       "    <tr>\n",
       "      <th>2</th>\n",
       "      <td>3</td>\n",
       "      <td>13</td>\n",
       "      <td>{'mechanical': 13, 'ebike': 0}</td>\n",
       "      <td>13</td>\n",
       "      <td>1</td>\n",
       "      <td>1</td>\n",
       "      <td>1</td>\n",
       "      <td>1604044589</td>\n",
       "      <td>True</td>\n",
       "      <td>IN_SERVICE</td>\n",
       "    </tr>\n",
       "    <tr>\n",
       "      <th>3</th>\n",
       "      <td>4</td>\n",
       "      <td>4</td>\n",
       "      <td>{'mechanical': 4, 'ebike': 0}</td>\n",
       "      <td>16</td>\n",
       "      <td>1</td>\n",
       "      <td>1</td>\n",
       "      <td>1</td>\n",
       "      <td>1604044445</td>\n",
       "      <td>True</td>\n",
       "      <td>IN_SERVICE</td>\n",
       "    </tr>\n",
       "    <tr>\n",
       "      <th>4</th>\n",
       "      <td>5</td>\n",
       "      <td>17</td>\n",
       "      <td>{'mechanical': 17, 'ebike': 0}</td>\n",
       "      <td>22</td>\n",
       "      <td>1</td>\n",
       "      <td>1</td>\n",
       "      <td>1</td>\n",
       "      <td>1604044506</td>\n",
       "      <td>True</td>\n",
       "      <td>IN_SERVICE</td>\n",
       "    </tr>\n",
       "    <tr>\n",
       "      <th>...</th>\n",
       "      <td>...</td>\n",
       "      <td>...</td>\n",
       "      <td>...</td>\n",
       "      <td>...</td>\n",
       "      <td>...</td>\n",
       "      <td>...</td>\n",
       "      <td>...</td>\n",
       "      <td>...</td>\n",
       "      <td>...</td>\n",
       "      <td>...</td>\n",
       "    </tr>\n",
       "    <tr>\n",
       "      <th>498</th>\n",
       "      <td>515</td>\n",
       "      <td>4</td>\n",
       "      <td>{'mechanical': 4, 'ebike': 0}</td>\n",
       "      <td>19</td>\n",
       "      <td>1</td>\n",
       "      <td>1</td>\n",
       "      <td>1</td>\n",
       "      <td>1604044486</td>\n",
       "      <td>True</td>\n",
       "      <td>IN_SERVICE</td>\n",
       "    </tr>\n",
       "    <tr>\n",
       "      <th>499</th>\n",
       "      <td>516</td>\n",
       "      <td>12</td>\n",
       "      <td>{'mechanical': 12, 'ebike': 0}</td>\n",
       "      <td>9</td>\n",
       "      <td>1</td>\n",
       "      <td>1</td>\n",
       "      <td>1</td>\n",
       "      <td>1604044532</td>\n",
       "      <td>True</td>\n",
       "      <td>IN_SERVICE</td>\n",
       "    </tr>\n",
       "    <tr>\n",
       "      <th>500</th>\n",
       "      <td>517</td>\n",
       "      <td>11</td>\n",
       "      <td>{'mechanical': 10, 'ebike': 1}</td>\n",
       "      <td>13</td>\n",
       "      <td>1</td>\n",
       "      <td>1</td>\n",
       "      <td>1</td>\n",
       "      <td>1604044601</td>\n",
       "      <td>True</td>\n",
       "      <td>IN_SERVICE</td>\n",
       "    </tr>\n",
       "    <tr>\n",
       "      <th>501</th>\n",
       "      <td>518</td>\n",
       "      <td>0</td>\n",
       "      <td>{'mechanical': 0, 'ebike': 0}</td>\n",
       "      <td>27</td>\n",
       "      <td>1</td>\n",
       "      <td>1</td>\n",
       "      <td>1</td>\n",
       "      <td>1604044466</td>\n",
       "      <td>True</td>\n",
       "      <td>IN_SERVICE</td>\n",
       "    </tr>\n",
       "    <tr>\n",
       "      <th>502</th>\n",
       "      <td>519</td>\n",
       "      <td>6</td>\n",
       "      <td>{'mechanical': 0, 'ebike': 6}</td>\n",
       "      <td>18</td>\n",
       "      <td>1</td>\n",
       "      <td>1</td>\n",
       "      <td>1</td>\n",
       "      <td>1604044531</td>\n",
       "      <td>True</td>\n",
       "      <td>IN_SERVICE</td>\n",
       "    </tr>\n",
       "  </tbody>\n",
       "</table>\n",
       "<p>503 rows × 10 columns</p>\n",
       "</div>"
      ],
      "text/plain": [
       "     station_id  num_bikes_available       num_bikes_available_types  \\\n",
       "0             1                   27  {'mechanical': 27, 'ebike': 0}   \n",
       "1             2                    9   {'mechanical': 9, 'ebike': 0}   \n",
       "2             3                   13  {'mechanical': 13, 'ebike': 0}   \n",
       "3             4                    4   {'mechanical': 4, 'ebike': 0}   \n",
       "4             5                   17  {'mechanical': 17, 'ebike': 0}   \n",
       "..          ...                  ...                             ...   \n",
       "498         515                    4   {'mechanical': 4, 'ebike': 0}   \n",
       "499         516                   12  {'mechanical': 12, 'ebike': 0}   \n",
       "500         517                   11  {'mechanical': 10, 'ebike': 1}   \n",
       "501         518                    0   {'mechanical': 0, 'ebike': 0}   \n",
       "502         519                    6   {'mechanical': 0, 'ebike': 6}   \n",
       "\n",
       "     num_docks_available  is_installed  is_renting  is_returning  \\\n",
       "0                     18             1           1             1   \n",
       "1                     17             1           1             1   \n",
       "2                     13             1           1             1   \n",
       "3                     16             1           1             1   \n",
       "4                     22             1           1             1   \n",
       "..                   ...           ...         ...           ...   \n",
       "498                   19             1           1             1   \n",
       "499                    9             1           1             1   \n",
       "500                   13             1           1             1   \n",
       "501                   27             1           1             1   \n",
       "502                   18             1           1             1   \n",
       "\n",
       "     last_reported  is_charging_station      status  \n",
       "0       1604044636                 True  IN_SERVICE  \n",
       "1       1604044449                 True  IN_SERVICE  \n",
       "2       1604044589                 True  IN_SERVICE  \n",
       "3       1604044445                 True  IN_SERVICE  \n",
       "4       1604044506                 True  IN_SERVICE  \n",
       "..             ...                  ...         ...  \n",
       "498     1604044486                 True  IN_SERVICE  \n",
       "499     1604044532                 True  IN_SERVICE  \n",
       "500     1604044601                 True  IN_SERVICE  \n",
       "501     1604044466                 True  IN_SERVICE  \n",
       "502     1604044531                 True  IN_SERVICE  \n",
       "\n",
       "[503 rows x 10 columns]"
      ]
     },
     "execution_count": 6,
     "metadata": {},
     "output_type": "execute_result"
    }
   ],
   "source": [
    "df"
   ]
  },
  {
   "cell_type": "code",
   "execution_count": 8,
   "metadata": {},
   "outputs": [],
   "source": [
    "df = pd.read_json(json.dumps(data[\"data\"]))"
   ]
  },
  {
   "cell_type": "code",
   "execution_count": 12,
   "metadata": {},
   "outputs": [],
   "source": [
    "df = df[\"stations\"].apply(pd.Series)"
   ]
  },
  {
   "cell_type": "code",
   "execution_count": 13,
   "metadata": {},
   "outputs": [
    {
     "data": {
      "text/plain": [
       "Index(['station_id', 'num_bikes_available', 'num_bikes_available_types',\n",
       "       'num_docks_available', 'is_installed', 'is_renting', 'is_returning',\n",
       "       'last_reported', 'is_charging_station', 'status'],\n",
       "      dtype='object')"
      ]
     },
     "execution_count": 13,
     "metadata": {},
     "output_type": "execute_result"
    }
   ],
   "source": [
    "df.columns"
   ]
  },
  {
   "cell_type": "code",
   "execution_count": 10,
   "metadata": {},
   "outputs": [
    {
     "data": {
      "text/plain": [
       "'2020-10-29T13:51:11'"
      ]
     },
     "execution_count": 10,
     "metadata": {},
     "output_type": "execute_result"
    }
   ],
   "source": [
    "datetime.datetime.fromtimestamp(data[\"last_updated\"]).isoformat()"
   ]
  },
  {
   "cell_type": "markdown",
   "metadata": {},
   "source": [
    "* Crear funcion para filtrar 1 sola estacion y saber si hay bicis disponibles y cuando fue la ultima actualizacion.\n",
    "* Crear función para saber cuales son las estaciones más cercanas a un ID de estación (para esto haría falta usar otra fuente de datos extra.\n",
    "* Para quien le guste el machine learning: predecir cuantas bicis habrá? Incluir otros datos en la predicción (meteorología, nivel de contaminación, etc.)?"
   ]
  },
  {
   "cell_type": "code",
   "execution_count": null,
   "metadata": {},
   "outputs": [],
   "source": []
  }
 ],
 "metadata": {
  "kernelspec": {
   "display_name": "teach",
   "language": "python",
   "name": "teach"
  },
  "language_info": {
   "codemirror_mode": {
    "name": "ipython",
    "version": 3
   },
   "file_extension": ".py",
   "mimetype": "text/x-python",
   "name": "python",
   "nbconvert_exporter": "python",
   "pygments_lexer": "ipython3",
   "version": "3.8.6"
  }
 },
 "nbformat": 4,
 "nbformat_minor": 4
}
