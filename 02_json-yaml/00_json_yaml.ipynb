{
 "cells": [
  {
   "cell_type": "code",
   "execution_count": 1,
   "metadata": {},
   "outputs": [],
   "source": [
    "import os\n",
    "import requests"
   ]
  },
  {
   "cell_type": "code",
   "execution_count": 2,
   "metadata": {},
   "outputs": [
    {
     "name": "stdout",
     "output_type": "stream",
     "text": [
      "items.yaml already exists\n",
      "data.yaml already exists\n",
      "docker-compose.yml already exists\n"
     ]
    }
   ],
   "source": [
    "for fn in [\n",
    "    \"items.yaml\",\n",
    "    \"data.yaml\",\n",
    "    \"docker-compose.yml\",\n",
    "]:\n",
    "    if fn not in os.listdir():\n",
    "        print(f\"downloading {fn}...\")\n",
    "        with open(fn, \"w\") as f:\n",
    "            f.write(\n",
    "                requests.get(\n",
    "                    f\"https://raw.githubusercontent.com/polyrand/teach/master/02_json-yaml/{fn}\"\n",
    "                ).text\n",
    "            )\n",
    "            \n",
    "    else:\n",
    "        print(f\"{fn} already exists\")\n"
   ]
  },
  {
   "cell_type": "markdown",
   "metadata": {},
   "source": [
    "# JSON, YAML Y Requests"
   ]
  },
  {
   "cell_type": "markdown",
   "metadata": {},
   "source": [
    "Autor: Ricardo Ander-Egg Aguilar\n",
    "\n",
    "* 🖥: https://ricardoanderegg.com/\n",
    "* 🐦: https://twitter.com/ricardoanderegg\n",
    "* 👨🏻‍🎓: https://www.linkedin.com/in/ricardoanderegg/"
   ]
  },
  {
   "cell_type": "code",
   "execution_count": 3,
   "metadata": {},
   "outputs": [],
   "source": [
    "import requests\n",
    "import json\n",
    "import yaml\n",
    "import itertools"
   ]
  },
  {
   "cell_type": "markdown",
   "metadata": {},
   "source": [
    "## JSON"
   ]
  },
  {
   "cell_type": "markdown",
   "metadata": {},
   "source": [
    "En primer lugar creamos un diccionario de Python. Podemos hacerlo tan \"profundo\" como queramos. Por ejemplo podemos poner keys cuyo valor sean listas, que a su vez están compuestas de diccionarios. Podemos usar valores `True`, `False`, `None`, etc. también."
   ]
  },
  {
   "cell_type": "code",
   "execution_count": 4,
   "metadata": {},
   "outputs": [],
   "source": [
    "persona = {\n",
    "    \"nombre\": \"oriol\",\n",
    "    \"edad\": 28,\n",
    "    \"trabajo\": True,\n",
    "    \"hijos\": (\"maria\", \"ian\"),\n",
    "    \"mascotas\": None,\n",
    "    \"ordenadores\": [\n",
    "        {\"modelo\": \"macbook\", \"versionpython\": 3.7},\n",
    "        {\"modelo\": \"imac\", \"versionpython\": 3.8},\n",
    "    ],\n",
    "}"
   ]
  },
  {
   "cell_type": "code",
   "execution_count": 5,
   "metadata": {},
   "outputs": [],
   "source": [
    "ordenadores = persona[\"ordenadores\"]"
   ]
  },
  {
   "cell_type": "code",
   "execution_count": 6,
   "metadata": {},
   "outputs": [],
   "source": [
    "ordenador_0 = ordenadores[0]"
   ]
  },
  {
   "cell_type": "code",
   "execution_count": 7,
   "metadata": {},
   "outputs": [],
   "source": [
    "modelo_0 = ordenador_0[\"modelo\"]"
   ]
  },
  {
   "cell_type": "markdown",
   "metadata": {},
   "source": [
    "Para acceder a un elemento:"
   ]
  },
  {
   "cell_type": "code",
   "execution_count": 8,
   "metadata": {},
   "outputs": [
    {
     "data": {
      "text/plain": [
       "'macbook'"
      ]
     },
     "execution_count": 8,
     "metadata": {},
     "output_type": "execute_result"
    }
   ],
   "source": [
    "persona[\"ordenadores\"][0][\"modelo\"]"
   ]
  },
  {
   "cell_type": "markdown",
   "metadata": {},
   "source": [
    "### Serializar JSON\n",
    "\n",
    "[Serializar](https://es.wikipedia.org/wiki/Serialización) un objeto nos permite convertirlo a un formato apto para escribirlo en un archivo o enviarlo."
   ]
  },
  {
   "cell_type": "markdown",
   "metadata": {},
   "source": [
    "En el caso de la librearía `json`, se puede utilizar 2 funciones.\n",
    "\n",
    "La función `json.dumps(objeto)` convierte un `objeto` de python (nuestro diccionario por ejemplo) en un objeto de json. Los objetos json son siempre **cadenas de texto**."
   ]
  },
  {
   "cell_type": "code",
   "execution_count": 9,
   "metadata": {},
   "outputs": [],
   "source": [
    "str_json = json.dumps(persona)"
   ]
  },
  {
   "cell_type": "code",
   "execution_count": 10,
   "metadata": {},
   "outputs": [
    {
     "name": "stdout",
     "output_type": "stream",
     "text": [
      "{\"nombre\": \"oriol\", \"edad\": 28, \"trabajo\": true, \"hijos\": [\"maria\", \"ian\"], \"mascotas\": null, \"ordenadores\": [{\"modelo\": \"macbook\", \"versionpython\": 3.7}, {\"modelo\": \"imac\", \"versionpython\": 3.8}]}\n"
     ]
    }
   ],
   "source": [
    "print(str_json)"
   ]
  },
  {
   "cell_type": "markdown",
   "metadata": {},
   "source": [
    "Es importate tener en cuenta la relación que hay entre los tipos de datos de python y los de json. Por ejemplo tanto una `list` como un `tuple` de python siempre serán un `array` (equivalente a `list` en python)."
   ]
  },
  {
   "cell_type": "markdown",
   "metadata": {},
   "source": [
    "<div class=\"table-responsive\">\n",
    "<table class=\"table table-hover\">\n",
    "<thead>\n",
    "<tr>\n",
    "<th>Python</th>\n",
    "<th>JSON</th>\n",
    "</tr>\n",
    "</thead>\n",
    "<tbody>\n",
    "<tr>\n",
    "<td><code>dict</code></td>\n",
    "<td><code>object</code></td>\n",
    "</tr>\n",
    "<tr>\n",
    "<td><code>list</code>, <code>tuple</code></td>\n",
    "<td><code>array</code></td>\n",
    "</tr>\n",
    "<tr>\n",
    "<td><code>str</code></td>\n",
    "<td><code>string</code></td>\n",
    "</tr>\n",
    "<tr>\n",
    "<td><code>int</code>, <code>long</code>, <code>float</code></td>\n",
    "<td><code>number</code></td>\n",
    "</tr>\n",
    "<tr>\n",
    "<td><code>True</code></td>\n",
    "<td><code>true</code></td>\n",
    "</tr>\n",
    "<tr>\n",
    "<td><code>False</code></td>\n",
    "<td><code>false</code></td>\n",
    "</tr>\n",
    "<tr>\n",
    "<td><code>None</code></td>\n",
    "<td><code>null</code></td>\n",
    "</tr>\n",
    "</tbody>\n",
    "</table>\n",
    "</div>"
   ]
  },
  {
   "cell_type": "markdown",
   "metadata": {},
   "source": [
    "Y viceversa también."
   ]
  },
  {
   "cell_type": "markdown",
   "metadata": {},
   "source": [
    "<div class=\"table-responsive\">\n",
    "<table class=\"table table-hover\">\n",
    "<thead>\n",
    "<tr>\n",
    "<th>JSON</th>\n",
    "<th>Python</th>\n",
    "</tr>\n",
    "</thead>\n",
    "<tbody>\n",
    "<tr>\n",
    "<td><code>object</code></td>\n",
    "<td><code>dict</code></td>\n",
    "</tr>\n",
    "<tr>\n",
    "<td><code>array</code></td>\n",
    "<td><code>list</code></td>\n",
    "</tr>\n",
    "<tr>\n",
    "<td><code>string</code></td>\n",
    "<td><code>str</code></td>\n",
    "</tr>\n",
    "<tr>\n",
    "<td><code>number</code> (int)</td>\n",
    "<td><code>int</code></td>\n",
    "</tr>\n",
    "<tr>\n",
    "<td><code>number</code> (real)</td>\n",
    "<td><code>float</code></td>\n",
    "</tr>\n",
    "<tr>\n",
    "<td><code>true</code></td>\n",
    "<td><code>True</code></td>\n",
    "</tr>\n",
    "<tr>\n",
    "<td><code>false</code></td>\n",
    "<td><code>False</code></td>\n",
    "</tr>\n",
    "<tr>\n",
    "<td><code>null</code></td>\n",
    "<td><code>None</code></td>\n",
    "</tr>\n",
    "</tbody>\n",
    "</table>\n",
    "</div>"
   ]
  },
  {
   "cell_type": "markdown",
   "metadata": {},
   "source": [
    "### Deserializar JSON\n",
    "\n",
    "Lo contrario al paso anterior. Convertimos unos datos a un objeto de python."
   ]
  },
  {
   "cell_type": "code",
   "execution_count": 11,
   "metadata": {},
   "outputs": [
    {
     "data": {
      "text/plain": [
       "{'nombre': 'oriol',\n",
       " 'edad': 28,\n",
       " 'trabajo': True,\n",
       " 'hijos': ['maria', 'ian'],\n",
       " 'mascotas': None,\n",
       " 'ordenadores': [{'modelo': 'macbook', 'versionpython': 3.7},\n",
       "  {'modelo': 'imac', 'versionpython': 3.8}]}"
      ]
     },
     "execution_count": 11,
     "metadata": {},
     "output_type": "execute_result"
    }
   ],
   "source": [
    "json_dict = json.loads(str_json)\n",
    "json_dict"
   ]
  },
  {
   "cell_type": "markdown",
   "metadata": {},
   "source": [
    "Podemos escribir el `str` **serializado** a un archivo de texto."
   ]
  },
  {
   "cell_type": "code",
   "execution_count": 12,
   "metadata": {},
   "outputs": [],
   "source": [
    "with open(\"jsondata.json\", \"w\") as archivo:\n",
    "    archivo.write(str_json)"
   ]
  },
  {
   "cell_type": "code",
   "execution_count": 13,
   "metadata": {},
   "outputs": [],
   "source": [
    "with open(\"jsondata.json\", \"r\") as archivo:\n",
    "    datos = archivo.read()\n",
    "    \n",
    "a = json.loads(datos)"
   ]
  },
  {
   "cell_type": "code",
   "execution_count": 14,
   "metadata": {},
   "outputs": [],
   "source": [
    "with open(\"jsondata.json\", \"r\") as archivo:\n",
    "\n",
    "    a = json.load(archivo)"
   ]
  },
  {
   "cell_type": "markdown",
   "metadata": {},
   "source": [
    "También podemos hacer un \"2 en 1\". En lugar de primero convertir los datos a json con `.dumps(objeto)` y después escribir esos datos a un archivo, podemos directamente serializar los datos a un archivo. En este caso usaremos la función `.dump(objeto, file_handler)`, donde `file_handler` es la variable que hayamos creado para manejar el archivo. En el ejemplo siguiente el `file_handler` sería la variabe que hemos llamado `archivo`."
   ]
  },
  {
   "cell_type": "code",
   "execution_count": 15,
   "metadata": {},
   "outputs": [],
   "source": [
    "with open(\"json2.json\", \"w\") as archivo:\n",
    "    json.dump(persona, archivo)"
   ]
  },
  {
   "cell_type": "code",
   "execution_count": 16,
   "metadata": {},
   "outputs": [],
   "source": [
    "with open(\"jsondata.json\", \"r\") as f:\n",
    "    data = json.load(f)"
   ]
  },
  {
   "cell_type": "code",
   "execution_count": 17,
   "metadata": {},
   "outputs": [
    {
     "data": {
      "text/plain": [
       "{'nombre': 'oriol',\n",
       " 'edad': 28,\n",
       " 'trabajo': True,\n",
       " 'hijos': ['maria', 'ian'],\n",
       " 'mascotas': None,\n",
       " 'ordenadores': [{'modelo': 'macbook', 'versionpython': 3.7},\n",
       "  {'modelo': 'imac', 'versionpython': 3.8}]}"
      ]
     },
     "execution_count": 17,
     "metadata": {},
     "output_type": "execute_result"
    }
   ],
   "source": [
    "data"
   ]
  },
  {
   "cell_type": "markdown",
   "metadata": {},
   "source": [
    "**Ejercicio**\n",
    "\n",
    "Crear un archivo `mis_funciones_json.py` y escribir 2 funciones. Una para convertir un objeto de Python a JSON y guardarlo en un archivo, y otra para leer los contenidos de un archivo JSON y crear un objeto de Python:\n",
    "\n",
    "\n",
    "```python\n",
    "import json\n",
    "\n",
    "import json\n",
    "\n",
    "## CREAR 2 funciones\n",
    "\n",
    "def cargar_json(ruta_archivo):\n",
    "\n",
    "    with open(..., \"r\") as f:\n",
    "        ...\n",
    "\n",
    "    obj = ...\n",
    "\n",
    "    return obj\n",
    "\n",
    "def guardar_json(obj, ruta_archivo):\n",
    "\n",
    "    json_str = json.dumps(...)\n",
    "\n",
    "    with open(..., \"w\") as f:\n",
    "        f.write(...)\n",
    "\n",
    "    return json_str\n",
    "\n",
    "```\n",
    "\n",
    "Importar ambas funciones en nuestro cuaderno:\n",
    "\n",
    "```python\n",
    "from mis_funciones_json import cargar_json, guardar_json\n",
    "```\n",
    "\n",
    "Y utilizarlas."
   ]
  },
  {
   "cell_type": "markdown",
   "metadata": {},
   "source": [
    "## YAML"
   ]
  },
  {
   "cell_type": "markdown",
   "metadata": {},
   "source": [
    "Casi todo es \"igual\" que con los archivos json. Nos movemos entre el archivo y diccionarios de python.\n",
    "\n",
    "Si usamos `.load()` importante que añadamos lo de `Loader=yaml.FullLoader`"
   ]
  },
  {
   "cell_type": "code",
   "execution_count": 19,
   "metadata": {},
   "outputs": [],
   "source": [
    "import yaml"
   ]
  },
  {
   "cell_type": "code",
   "execution_count": 20,
   "metadata": {},
   "outputs": [],
   "source": [
    "with open(\"items.yaml\") as f:\n",
    "    \n",
    "    items = yaml.load(f, Loader=yaml.FullLoader)"
   ]
  },
  {
   "cell_type": "code",
   "execution_count": 21,
   "metadata": {},
   "outputs": [
    {
     "data": {
      "text/plain": [
       "{'chubasquero': 1,\n",
       " 'monedas': 5,\n",
       " 'libros': 23,\n",
       " 'espectaculos': 2,\n",
       " 'sillas': 12,\n",
       " 'bolis': 6}"
      ]
     },
     "execution_count": 21,
     "metadata": {},
     "output_type": "execute_result"
    }
   ],
   "source": [
    "items"
   ]
  },
  {
   "cell_type": "markdown",
   "metadata": {},
   "source": [
    "Otra opción más práctica es usar `.full_load()`, de esta manera solo tenemos que pasarle la variable `f`."
   ]
  },
  {
   "cell_type": "code",
   "execution_count": 22,
   "metadata": {},
   "outputs": [],
   "source": [
    "with open(\"items.yaml\") as f:\n",
    "\n",
    "    items = yaml.full_load(f)"
   ]
  },
  {
   "cell_type": "code",
   "execution_count": null,
   "metadata": {},
   "outputs": [
    {
     "data": {
      "text/plain": [
       "{'chubasquero': 1,\n",
       " 'monedas': 5,\n",
       " 'libros': 23,\n",
       " 'espectaculos': 2,\n",
       " 'sillas': 12,\n",
       " 'bolis': 6}"
      ]
     },
     "execution_count": null,
     "metadata": {},
     "output_type": "execute_result"
    }
   ],
   "source": [
    "items"
   ]
  },
  {
   "cell_type": "markdown",
   "metadata": {},
   "source": [
    "Incluso mejor:\n",
    "\n",
    "`.safe_load()`\n",
    "\n",
    "Si no tenemos la certeza del origen del yaml. (Archivos de los que \"no nos fiamos\")"
   ]
  },
  {
   "cell_type": "code",
   "execution_count": null,
   "metadata": {},
   "outputs": [],
   "source": [
    "with open(\"items.yaml\") as f:\n",
    "\n",
    "    items = yaml.safe_load(f)"
   ]
  },
  {
   "cell_type": "code",
   "execution_count": null,
   "metadata": {},
   "outputs": [
    {
     "data": {
      "text/plain": [
       "{'chubasquero': 1,\n",
       " 'monedas': 5,\n",
       " 'libros': 23,\n",
       " 'espectaculos': 2,\n",
       " 'sillas': 12,\n",
       " 'bolis': 6}"
      ]
     },
     "execution_count": null,
     "metadata": {},
     "output_type": "execute_result"
    }
   ],
   "source": [
    "items"
   ]
  },
  {
   "cell_type": "markdown",
   "metadata": {},
   "source": [
    "### Documentos múltiples"
   ]
  },
  {
   "cell_type": "markdown",
   "metadata": {},
   "source": [
    "En yaml, cuande tenemos una cadena de texto: `---` lo identifica como si fueran documentos diferentes. En este caso tendremos que usar `.full_load_all()`. Esta función nos devuelve un generador. Tambien nos evita tener que usar `Loader=yaml.FullLoader`.\n",
    "\n",
    "Un generador es como la función `range()` que habíamos usado anteriomente. Conteien unas instrucciones para generar unos datos pero no las ejecuta hasta que se lo pedimos. En este caso le \"pediremos\" los datos iterando sobre ellos. Es importante hacer esta iteración dentro del `contex manager` (el bloque de `with`). Fuera de este ya no tenemos disponible la variable `f` y nos dará un error."
   ]
  },
  {
   "cell_type": "code",
   "execution_count": null,
   "metadata": {},
   "outputs": [],
   "source": [
    "with open(\"data.yaml\") as f:\n",
    "\n",
    "    documentos = yaml.full_load_all(f)\n",
    "    documentos = [doc for doc in documentos]\n",
    "    \n",
    "    # for doc in documentos:\n",
    "    #    print(doc)"
   ]
  },
  {
   "cell_type": "code",
   "execution_count": null,
   "metadata": {},
   "outputs": [
    {
     "data": {
      "text/plain": [
       "'Madrid'"
      ]
     },
     "execution_count": null,
     "metadata": {},
     "output_type": "execute_result"
    }
   ],
   "source": [
    "documentos[0][\"ciudades\"][3]"
   ]
  },
  {
   "cell_type": "markdown",
   "metadata": {},
   "source": [
    "Tambien podemos escribir nuestro diccionario a un archivo yaml. Igual que con json.\n",
    "\n",
    "Recomiento ejecutar estas funciones y ver como es el archivo que se crea para entender bien el formato."
   ]
  },
  {
   "cell_type": "code",
   "execution_count": null,
   "metadata": {},
   "outputs": [],
   "source": [
    "usuarios = [\n",
    "    {\"nombre\": \"antonio lopez\", \"trabajo\": \"python developer\"},\n",
    "    {\"nombre\": \"ivan lopez\", \"trabajo\": \"python expert\"},\n",
    "    {\"nombre\": \"raymond hettinger\", \"trabajo\": \"python boss\"},\n",
    "    {\"nombre\": \"david beazley\", \"trabajo\": \"python second boss\"},\n",
    "]"
   ]
  },
  {
   "cell_type": "code",
   "execution_count": null,
   "metadata": {},
   "outputs": [],
   "source": [
    "with open(\"usuarios.yaml\", \"w\") as archivo_usuarios:\n",
    "    \n",
    "    yaml.dump(usuarios, archivo_usuarios)"
   ]
  },
  {
   "cell_type": "code",
   "execution_count": null,
   "metadata": {},
   "outputs": [],
   "source": [
    "archivos = [\n",
    "    {\n",
    "        \"deportes\": [\n",
    "            \"rugby\",\n",
    "            \"futbol\",\n",
    "            \"baloncesto\",\n",
    "            \"natacion\",\n",
    "            \"wushu\",\n",
    "            \"tenis\",\n",
    "        ]\n",
    "    },\n",
    "    {\"countries\": [\"Pakistan\", \"USA\", \"India\", \"China\", \"Germany\", \"France\", \"Spain\"]},\n",
    "]"
   ]
  },
  {
   "cell_type": "code",
   "execution_count": null,
   "metadata": {},
   "outputs": [
    {
     "data": {
      "text/plain": [
       "[{'deportes': ['rugby', 'futbol', 'baloncesto', 'natacion', 'wushu', 'tenis']},\n",
       " {'countries': ['Pakistan',\n",
       "   'USA',\n",
       "   'India',\n",
       "   'China',\n",
       "   'Germany',\n",
       "   'France',\n",
       "   'Spain']}]"
      ]
     },
     "execution_count": null,
     "metadata": {},
     "output_type": "execute_result"
    }
   ],
   "source": [
    "archivos"
   ]
  },
  {
   "cell_type": "code",
   "execution_count": null,
   "metadata": {},
   "outputs": [],
   "source": [
    "with open(\"archivos.yaml\", \"w\") as file:\n",
    "    yaml.dump(archivos, file)"
   ]
  },
  {
   "cell_type": "code",
   "execution_count": null,
   "metadata": {},
   "outputs": [],
   "source": [
    "with open(\"docker-compose.yml\") as f:\n",
    "\n",
    "    docker_config = yaml.safe_load(f)"
   ]
  },
  {
   "cell_type": "code",
   "execution_count": null,
   "metadata": {},
   "outputs": [],
   "source": [
    "# lista_puertos = docker_config[\"services\"][\"api\"][\"ports\"]"
   ]
  },
  {
   "cell_type": "code",
   "execution_count": null,
   "metadata": {},
   "outputs": [],
   "source": [
    "docker_config_nueva = docker_config.copy()"
   ]
  },
  {
   "cell_type": "code",
   "execution_count": null,
   "metadata": {},
   "outputs": [],
   "source": [
    "docker_config_nueva[\"services\"][\"api\"][\"ports\"] = [\"8080:8080\"]"
   ]
  },
  {
   "cell_type": "code",
   "execution_count": null,
   "metadata": {},
   "outputs": [
    {
     "data": {
      "text/plain": [
       "{'version': '3.3',\n",
       " 'services': {'redis': {'image': 'redis:alpine'},\n",
       "  'api': {'ports': ['8080:8080'],\n",
       "   'build': {'context': './backend', 'dockerfile': 'backend.dockerfile'},\n",
       "   'volumes': ['/usr/local/share/db/.:/home/appuser/db/'],\n",
       "   'depends_on': ['redis'],\n",
       "   'env_file': ['env-postgres.env', 'env-backend.env']},\n",
       "  'frontend': {'ports': ['3000:3000'],\n",
       "   'image': '${DOCKER_IMAGE_FRONTEND}:${TAG-latest}',\n",
       "   'build': {'context': './frontend', 'dockerfile': 'Dockerfile'},\n",
       "   'depends_on': ['api']}}}"
      ]
     },
     "execution_count": null,
     "metadata": {},
     "output_type": "execute_result"
    }
   ],
   "source": [
    "docker_config_nueva"
   ]
  },
  {
   "cell_type": "code",
   "execution_count": null,
   "metadata": {},
   "outputs": [],
   "source": [
    "with open(\"docker_updated.yaml\", \"w\") as archivo_config_docker:\n",
    "\n",
    "    yaml.dump(\n",
    "        docker_config_nueva,\n",
    "        archivo_config_docker,\n",
    "        # sort_keys=False,\n",
    "    )"
   ]
  },
  {
   "cell_type": "markdown",
   "metadata": {},
   "source": [
    "### IMPORTANTE\n",
    "\n",
    "YAML tiene una sintaxis bastante amplia.\n",
    "\n",
    "A continuación os dejo el siguiente archivo:\n",
    "\n",
    "Es una modificación de https://learnxinyminutes.com/docs/yaml/ . Lo he modificado porque en el tutorial original hay una cosa que la librería yaml de python no puede procesar. Solo hay que ejecutar la siguiente celda para descargar el archivo."
   ]
  },
  {
   "cell_type": "code",
   "execution_count": null,
   "metadata": {},
   "outputs": [],
   "source": [
    "import requests\n",
    "\n",
    "res = requests.get(\n",
    "    \"https://raw.githubusercontent.com/polyrand/teach/master/archivos/full.yaml\"\n",
    ")\n",
    "\n",
    "with open(\"full.yaml\", \"w\") as f:\n",
    "    f.write(res.text)"
   ]
  },
  {
   "cell_type": "markdown",
   "metadata": {},
   "source": [
    "A continuación cargamos el YAML. Recomiendo cargarlo a un diccionario de python y tener tambien abierto el archivo en formato texto. Es un yaml donde está explicada toda la sintaxis en los comentarios (lo que empieza con `#`). Asi podéis ir leyéndolo y comparando con el diccionario de Python."
   ]
  },
  {
   "cell_type": "code",
   "execution_count": null,
   "metadata": {},
   "outputs": [],
   "source": [
    "with open(\"full.yaml\", \"r\") as f:\n",
    "    full = yaml.full_load(f)"
   ]
  },
  {
   "cell_type": "code",
   "execution_count": null,
   "metadata": {},
   "outputs": [],
   "source": [
    "# with open(\"full.yaml\", \"r\") as f:\n",
    "#     full = yaml.safe_load(f)"
   ]
  },
  {
   "cell_type": "markdown",
   "metadata": {},
   "source": [
    "Ejemplo de un archivo `.gif` incluído dentro del YAML."
   ]
  },
  {
   "cell_type": "code",
   "execution_count": null,
   "metadata": {},
   "outputs": [],
   "source": [
    "datos_bytes = full[\"gif_file\"]"
   ]
  },
  {
   "cell_type": "code",
   "execution_count": null,
   "metadata": {},
   "outputs": [],
   "source": [
    "with open(\"prueba.gif\", \"wb\") as f:\n",
    "    f.write(datos_bytes)"
   ]
  },
  {
   "cell_type": "markdown",
   "metadata": {},
   "source": [
    "Dejo también el ejemplo que he usado en clase. No funcionará ya que no tenéis el archivo en el ordenador pero como ejemplo puede ir bien."
   ]
  },
  {
   "cell_type": "markdown",
   "metadata": {},
   "source": [
    "```python\n",
    "with open(\"docker.yaml\", \"r\") as f:\n",
    "    dock = yaml.load(f, Loader=yaml.FullLoader)\n",
    "\n",
    "port = dock[\"services\"][\"pgadmin\"][\"deploy\"][\"labels\"][2].split(\"=\")[1]\n",
    "\n",
    "if int(port) != 5550:\n",
    "    print(\"el yaml esta mal configurado\")\n",
    "```"
   ]
  },
  {
   "cell_type": "markdown",
   "metadata": {},
   "source": [
    "## Vuelta al tema 00/09_librerias"
   ]
  },
  {
   "cell_type": "markdown",
   "metadata": {},
   "source": [
    "Vamos a crear un módulo de Python con algunas funciones. Así podemos importar ese módulo desde varios sitios sin tener que copiar y pegar las funciones."
   ]
  },
  {
   "cell_type": "markdown",
   "metadata": {},
   "source": [
    "NOTA: Con el comando de jupyter `%%writefile <nombre_archivo>` escribimos los contenido de esa celda en `<nombre_archivo>` (¡se sobreescribe!)."
   ]
  },
  {
   "cell_type": "markdown",
   "metadata": {},
   "source": [
    "Crear y guardo un archivo json."
   ]
  },
  {
   "cell_type": "code",
   "execution_count": 6,
   "metadata": {
    "id": "8DMtDR6cfzzZ"
   },
   "outputs": [],
   "source": [
    "usuarios = {\"marta\": 123, \"laura\": 345, \"andrea\": 234}"
   ]
  },
  {
   "cell_type": "code",
   "execution_count": 7,
   "metadata": {
    "id": "e3-wr980f5N2"
   },
   "outputs": [],
   "source": [
    "import json\n",
    "\n",
    "with open(\"users.json\", \"w\") as f:\n",
    "    f.write(json.dumps(usuarios))"
   ]
  },
  {
   "cell_type": "markdown",
   "metadata": {},
   "source": [
    "Ahora voy a crear un módulo llamado `mis_funciones.py`. Dentro habrá 2 funciones, una para leer archivos json y otro para guardarlos."
   ]
  },
  {
   "cell_type": "code",
   "execution_count": 8,
   "metadata": {
    "colab": {
     "base_uri": "https://localhost:8080/"
    },
    "id": "g2vrXixderbt",
    "outputId": "7c72339a-39dc-43b3-c2ea-bb819d0c14c5"
   },
   "outputs": [
    {
     "name": "stdout",
     "output_type": "stream",
     "text": [
      "Overwriting mis_funciones.py\n"
     ]
    }
   ],
   "source": [
    "%%writefile mis_funciones.py\n",
    "\n",
    "import json\n",
    "\n",
    "\n",
    "def leer_json(nombre):\n",
    "    with open(nombre) as f:\n",
    "        contenidos_archivo = f.read()\n",
    "        obj = json.loads(contenidos_archivo)\n",
    "\n",
    "    return obj\n",
    "\n",
    "\n",
    "def guardar_json(obj, nombre):\n",
    "    with open(nombre, \"w\") as f:\n",
    "        cadena_json = json.dumps(obj)\n",
    "        f.write(cadena_json)"
   ]
  },
  {
   "cell_type": "markdown",
   "metadata": {},
   "source": [
    "Ahora puedo importar este módulo y sus funciones desde otros sitios:\n",
    "\n",
    "NOTA: se escribe `import mis_funciones`, **no** `import mis_funciones.py`"
   ]
  },
  {
   "cell_type": "code",
   "execution_count": 9,
   "metadata": {
    "id": "yDsx4Sv8gLsE"
   },
   "outputs": [],
   "source": [
    "from mis_funciones import leer_json, guardar_json"
   ]
  },
  {
   "cell_type": "code",
   "execution_count": 10,
   "metadata": {
    "id": "wFn2xCTYgX3r"
   },
   "outputs": [],
   "source": [
    "usuarios = leer_json(\"users.json\")"
   ]
  },
  {
   "cell_type": "code",
   "execution_count": 11,
   "metadata": {
    "id": "cidg8X4pgYcj"
   },
   "outputs": [],
   "source": [
    "usuarios[\"andrea\"] = 1000"
   ]
  },
  {
   "cell_type": "code",
   "execution_count": 12,
   "metadata": {
    "colab": {
     "base_uri": "https://localhost:8080/"
    },
    "id": "pGPpEY19gd3X",
    "outputId": "5b055c55-944b-49e3-d128-caec96f0400c"
   },
   "outputs": [
    {
     "data": {
      "text/plain": [
       "{'marta': 123, 'laura': 345, 'andrea': 1000}"
      ]
     },
     "execution_count": 12,
     "metadata": {},
     "output_type": "execute_result"
    }
   ],
   "source": [
    "usuarios"
   ]
  },
  {
   "cell_type": "code",
   "execution_count": 13,
   "metadata": {
    "id": "AMx_1C6vfo75"
   },
   "outputs": [],
   "source": [
    "guardar_json(usuarios, \"users_updated.json\")"
   ]
  },
  {
   "cell_type": "markdown",
   "metadata": {},
   "source": [
    "Mi módulo lo puedo importar también desde otro script de Python.\n",
    "\n",
    "Aqui estoy creando un script llamado `program.py`. En el script importo el módulo que he creado antes y lo utilizo."
   ]
  },
  {
   "cell_type": "code",
   "execution_count": 14,
   "metadata": {
    "colab": {
     "base_uri": "https://localhost:8080/"
    },
    "id": "9KJpOIkochLu",
    "outputId": "3049db0c-98e9-44bb-b696-2ce2ef32024d"
   },
   "outputs": [
    {
     "name": "stdout",
     "output_type": "stream",
     "text": [
      "Writing program.py\n"
     ]
    }
   ],
   "source": [
    "%%writefile program.py\n",
    "import mis_funciones\n",
    "\n",
    "usuarios = mis_funciones.leer_json(\"users.json\")\n",
    "\n",
    "print(\"Hola, introduce un nuevo valor\")\n",
    "\n",
    "valor = input(\"Valor: \")\n",
    "\n",
    "usuarios[\"andrea\"] = valor\n",
    "\n",
    "mis_funciones.guardar_json(usuarios, \"users_updated.json\")\n",
    "\n",
    "print(\"JSON actualizado\")"
   ]
  },
  {
   "cell_type": "markdown",
   "metadata": {},
   "source": [
    "*Recuerda*: El símbolo `!` significa que vas a ejecutar un comando como si lo hicieras desde la terminal.\n",
    "\n",
    "**Importante**: este script utiliza la función `input()`. En un notebook de Jupyter no funcinará correctamente. En un notebook de Google Colab, si."
   ]
  },
  {
   "cell_type": "code",
   "execution_count": null,
   "metadata": {
    "colab": {
     "base_uri": "https://localhost:8080/"
    },
    "id": "1RZZHbOCcj7A",
    "outputId": "1e697d22-ede0-4d2c-d3d3-a609c6aabcc7"
   },
   "outputs": [],
   "source": [
    "!python3 program.py"
   ]
  }
 ],
 "metadata": {
  "kernelspec": {
   "display_name": "teach",
   "language": "python",
   "name": "teach"
  },
  "language_info": {
   "codemirror_mode": {
    "name": "ipython",
    "version": 3
   },
   "file_extension": ".py",
   "mimetype": "text/x-python",
   "name": "python",
   "nbconvert_exporter": "python",
   "pygments_lexer": "ipython3",
   "version": "3.7.7"
  }
 },
 "nbformat": 4,
 "nbformat_minor": 4
}
