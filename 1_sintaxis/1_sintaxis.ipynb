{
 "cells": [
  {
   "cell_type": "markdown",
   "metadata": {},
   "source": [
    "## Syntaxis básica"
   ]
  },
  {
   "cell_type": "markdown",
   "metadata": {},
   "source": [
    "Autor: Ricardo Ander-Egg Aguilar\n",
    "\n",
    "* 🖥: https://ricardoanderegg.com/\n",
    "* 🐦: https://twitter.com/ricardoanderegg\n",
    "* 👨🏻‍🎓: https://www.linkedin.com/in/ricardoanderegg/"
   ]
  },
  {
   "cell_type": "markdown",
   "metadata": {},
   "source": [
    "## Comments"
   ]
  },
  {
   "cell_type": "code",
   "execution_count": 1,
   "metadata": {},
   "outputs": [],
   "source": [
    "# comentario asdifi adiufg wefiub werigub iubewf"
   ]
  },
  {
   "cell_type": "markdown",
   "metadata": {},
   "source": [
    "## Variables"
   ]
  },
  {
   "cell_type": "code",
   "execution_count": 2,
   "metadata": {},
   "outputs": [],
   "source": [
    "xyz = 52\n",
    "x = 5\n",
    "texto = \"cadena de texto\""
   ]
  },
  {
   "cell_type": "code",
   "execution_count": 3,
   "metadata": {},
   "outputs": [
    {
     "name": "stdout",
     "output_type": "stream",
     "text": [
      "52\n"
     ]
    }
   ],
   "source": [
    "print(xyz)"
   ]
  },
  {
   "cell_type": "code",
   "execution_count": 4,
   "metadata": {},
   "outputs": [
    {
     "name": "stdout",
     "output_type": "stream",
     "text": [
      "52\n"
     ]
    }
   ],
   "source": [
    "print(xyz)"
   ]
  },
  {
   "cell_type": "code",
   "execution_count": 5,
   "metadata": {},
   "outputs": [
    {
     "name": "stdout",
     "output_type": "stream",
     "text": [
      "5 cadena de texto\n"
     ]
    }
   ],
   "source": [
    "print(x, texto)"
   ]
  },
  {
   "cell_type": "markdown",
   "metadata": {},
   "source": [
    "Tipos de variables:\n",
    "\n",
    "* int: número entero\n",
    "* float: número decimal\n",
    "* str: cadena de texto\n",
    "* bool: verdadero/falso"
   ]
  },
  {
   "cell_type": "code",
   "execution_count": 6,
   "metadata": {},
   "outputs": [
    {
     "data": {
      "text/plain": [
       "str"
      ]
     },
     "execution_count": 6,
     "metadata": {},
     "output_type": "execute_result"
    }
   ],
   "source": [
    "type(\"curso de python básico\")"
   ]
  },
  {
   "cell_type": "code",
   "execution_count": 7,
   "metadata": {},
   "outputs": [],
   "source": [
    "x = 20"
   ]
  },
  {
   "cell_type": "code",
   "execution_count": 8,
   "metadata": {},
   "outputs": [],
   "source": [
    "x = \"texto\""
   ]
  },
  {
   "cell_type": "code",
   "execution_count": 9,
   "metadata": {},
   "outputs": [],
   "source": [
    "x = True\n",
    "y = False"
   ]
  },
  {
   "cell_type": "code",
   "execution_count": 10,
   "metadata": {},
   "outputs": [
    {
     "data": {
      "text/plain": [
       "True"
      ]
     },
     "execution_count": 10,
     "metadata": {},
     "output_type": "execute_result"
    }
   ],
   "source": [
    "x or y"
   ]
  },
  {
   "cell_type": "code",
   "execution_count": 11,
   "metadata": {},
   "outputs": [],
   "source": [
    "x, y, z, w = 1, 2, \"text\", 3.14"
   ]
  },
  {
   "cell_type": "code",
   "execution_count": 12,
   "metadata": {},
   "outputs": [],
   "source": [
    "x = None"
   ]
  },
  {
   "cell_type": "markdown",
   "metadata": {},
   "source": [
    "## Tipos de datos"
   ]
  },
  {
   "cell_type": "code",
   "execution_count": 13,
   "metadata": {},
   "outputs": [],
   "source": [
    "decimal = 1.25"
   ]
  },
  {
   "cell_type": "code",
   "execution_count": 14,
   "metadata": {},
   "outputs": [
    {
     "data": {
      "text/plain": [
       "bool"
      ]
     },
     "execution_count": 14,
     "metadata": {},
     "output_type": "execute_result"
    }
   ],
   "source": [
    "type(True)"
   ]
  },
  {
   "cell_type": "markdown",
   "metadata": {},
   "source": [
    "## Conditionals"
   ]
  },
  {
   "cell_type": "code",
   "execution_count": 15,
   "metadata": {},
   "outputs": [
    {
     "name": "stdout",
     "output_type": "stream",
     "text": [
      "asdasd\n"
     ]
    }
   ],
   "source": [
    "if type(10.25) == float:\n",
    "    print(\"asdasd\")"
   ]
  },
  {
   "cell_type": "code",
   "execution_count": 16,
   "metadata": {},
   "outputs": [],
   "source": [
    "x = 13"
   ]
  },
  {
   "cell_type": "code",
   "execution_count": 17,
   "metadata": {},
   "outputs": [
    {
     "name": "stdout",
     "output_type": "stream",
     "text": [
      "asjdbaijsd\n"
     ]
    }
   ],
   "source": [
    "if x == 13:\n",
    "    print(\"asjdbaijsd\")"
   ]
  },
  {
   "cell_type": "markdown",
   "metadata": {},
   "source": [
    "**Ejercicio**\n",
    "\n",
    "Evaluar condiciones para `y`.\n",
    "\n",
    "* Si `y` es **menor de 2**; `x` debe ser = \"A\"\n",
    "* Si `y` es **menor de 8**; `x` debe ser = \"B\"\n",
    "* Si `y` es **igual a 10**; `x` debe ser = \"C\"\n",
    "* Si no se cumple nada: imprimir la cadena de texto `\"No se ha cumplido ninguna condición\"`\n",
    "\n",
    "\n",
    "Extra:\n",
    "* Si no se cumple nada. Restarle `1` a `y`. Es decir, si llegamos al else y el valor de `y` era `10`, convertirlo en `9`.\n",
    "* **Dentro del `else`,** crear un nuevo `if`, y si se cumple que `y < 1`, imprimir \"done\""
   ]
  },
  {
   "cell_type": "code",
   "execution_count": 18,
   "metadata": {},
   "outputs": [],
   "source": [
    "x = None\n",
    "y = 20"
   ]
  },
  {
   "cell_type": "code",
   "execution_count": 19,
   "metadata": {},
   "outputs": [
    {
     "name": "stdout",
     "output_type": "stream",
     "text": [
      "no se cumple nada\n",
      "Y tiene el valor: 19\n"
     ]
    }
   ],
   "source": [
    "if y < 2:\n",
    "    x = \"A\"\n",
    "\n",
    "elif y < 8:\n",
    "    x = \"B\"\n",
    "\n",
    "elif y > 50:\n",
    "    x = \"C\"\n",
    "\n",
    "else:\n",
    "    y -= 1  # igual -> y = y - 1\n",
    "    print(\"no se cumple nada\")\n",
    "    print(\"Y tiene el valor:\", y)"
   ]
  },
  {
   "cell_type": "code",
   "execution_count": 20,
   "metadata": {},
   "outputs": [],
   "source": [
    "x"
   ]
  },
  {
   "cell_type": "markdown",
   "metadata": {},
   "source": [
    "## While"
   ]
  },
  {
   "cell_type": "code",
   "execution_count": 21,
   "metadata": {},
   "outputs": [],
   "source": [
    "y = 10"
   ]
  },
  {
   "cell_type": "code",
   "execution_count": 22,
   "metadata": {},
   "outputs": [],
   "source": [
    "while y < -4:\n",
    "    print(\"Todavía no hemos llegado\")\n",
    "    y -= 1"
   ]
  },
  {
   "cell_type": "markdown",
   "metadata": {},
   "source": [
    "## List, tuples and sets"
   ]
  },
  {
   "cell_type": "code",
   "execution_count": 23,
   "metadata": {},
   "outputs": [],
   "source": [
    "milista = [\"uno\", 2, 3, \"cuatro\", 5.2]"
   ]
  },
  {
   "cell_type": "code",
   "execution_count": 24,
   "metadata": {},
   "outputs": [
    {
     "data": {
      "text/plain": [
       "['uno', 2, 3, 'cuatro', 5.2]"
      ]
     },
     "execution_count": 24,
     "metadata": {},
     "output_type": "execute_result"
    }
   ],
   "source": [
    "milista"
   ]
  },
  {
   "cell_type": "markdown",
   "metadata": {},
   "source": [
    "**Índice**\n",
    "\n",
    "```\n",
    "milista[1]\n",
    "```"
   ]
  },
  {
   "cell_type": "code",
   "execution_count": 25,
   "metadata": {},
   "outputs": [
    {
     "data": {
      "text/plain": [
       "'uno'"
      ]
     },
     "execution_count": 25,
     "metadata": {},
     "output_type": "execute_result"
    }
   ],
   "source": [
    "milista[0]"
   ]
  },
  {
   "cell_type": "code",
   "execution_count": 26,
   "metadata": {},
   "outputs": [
    {
     "data": {
      "text/plain": [
       "5.2"
      ]
     },
     "execution_count": 26,
     "metadata": {},
     "output_type": "execute_result"
    }
   ],
   "source": [
    "# el último valor\n",
    "milista[-1]"
   ]
  },
  {
   "cell_type": "markdown",
   "metadata": {},
   "source": [
    "**Slice**\n",
    "\n",
    "Es \"un trozo\" de una lista.\n",
    "\n",
    "```python\n",
    "milista[valor1:valor2]\n",
    "```\n",
    "\n",
    "Estaremos seleccionando desde el índice `valor1` **incluído** hasta el índice `valor2` **no incluído**."
   ]
  },
  {
   "cell_type": "code",
   "execution_count": 27,
   "metadata": {},
   "outputs": [
    {
     "data": {
      "text/plain": [
       "['uno', 2]"
      ]
     },
     "execution_count": 27,
     "metadata": {},
     "output_type": "execute_result"
    }
   ],
   "source": [
    "milista[0:2]"
   ]
  },
  {
   "cell_type": "code",
   "execution_count": 28,
   "metadata": {},
   "outputs": [
    {
     "data": {
      "text/plain": [
       "[3, 'cuatro', 5.2]"
      ]
     },
     "execution_count": 28,
     "metadata": {},
     "output_type": "execute_result"
    }
   ],
   "source": [
    "milista[2:]"
   ]
  },
  {
   "cell_type": "code",
   "execution_count": 29,
   "metadata": {},
   "outputs": [],
   "source": [
    "milista_dos = [8, \"nueve\", False]"
   ]
  },
  {
   "cell_type": "code",
   "execution_count": 30,
   "metadata": {},
   "outputs": [],
   "source": [
    "lista_suma = milista + milista_dos"
   ]
  },
  {
   "cell_type": "code",
   "execution_count": 31,
   "metadata": {},
   "outputs": [
    {
     "data": {
      "text/plain": [
       "['uno', 2, 3, 'cuatro', 5.2, 8, 'nueve', False]"
      ]
     },
     "execution_count": 31,
     "metadata": {},
     "output_type": "execute_result"
    }
   ],
   "source": [
    "lista_suma"
   ]
  },
  {
   "cell_type": "code",
   "execution_count": 32,
   "metadata": {},
   "outputs": [
    {
     "data": {
      "text/plain": [
       "6"
      ]
     },
     "execution_count": 32,
     "metadata": {},
     "output_type": "execute_result"
    }
   ],
   "source": [
    "lista_suma.index(\"nueve\")"
   ]
  },
  {
   "cell_type": "code",
   "execution_count": 33,
   "metadata": {},
   "outputs": [
    {
     "data": {
      "text/plain": [
       "'nueve'"
      ]
     },
     "execution_count": 33,
     "metadata": {},
     "output_type": "execute_result"
    }
   ],
   "source": [
    "lista_suma[6]"
   ]
  },
  {
   "cell_type": "code",
   "execution_count": 34,
   "metadata": {},
   "outputs": [],
   "source": [
    "lista_suma.append(\"valor exta\")"
   ]
  },
  {
   "cell_type": "code",
   "execution_count": 35,
   "metadata": {},
   "outputs": [
    {
     "data": {
      "text/plain": [
       "['uno', 2, 3, 'cuatro', 5.2, 8, 'nueve', False, 'valor exta']"
      ]
     },
     "execution_count": 35,
     "metadata": {},
     "output_type": "execute_result"
    }
   ],
   "source": [
    "lista_suma"
   ]
  },
  {
   "cell_type": "code",
   "execution_count": 36,
   "metadata": {},
   "outputs": [],
   "source": [
    "a = [1, 2, 3]\n",
    "b = [4, 5, 6]"
   ]
  },
  {
   "cell_type": "code",
   "execution_count": 37,
   "metadata": {},
   "outputs": [],
   "source": [
    "a.append(b)"
   ]
  },
  {
   "cell_type": "code",
   "execution_count": 38,
   "metadata": {},
   "outputs": [
    {
     "data": {
      "text/plain": [
       "[1, 2, 3, [4, 5, 6]]"
      ]
     },
     "execution_count": 38,
     "metadata": {},
     "output_type": "execute_result"
    }
   ],
   "source": [
    "a"
   ]
  },
  {
   "cell_type": "code",
   "execution_count": 39,
   "metadata": {},
   "outputs": [
    {
     "data": {
      "text/plain": [
       "[4, 5, 6]"
      ]
     },
     "execution_count": 39,
     "metadata": {},
     "output_type": "execute_result"
    }
   ],
   "source": [
    "a[3]"
   ]
  },
  {
   "cell_type": "code",
   "execution_count": 40,
   "metadata": {},
   "outputs": [],
   "source": [
    "# a.index(\"cuarenta\")"
   ]
  },
  {
   "cell_type": "code",
   "execution_count": 41,
   "metadata": {},
   "outputs": [],
   "source": [
    "a = [1, 2, 3]"
   ]
  },
  {
   "cell_type": "code",
   "execution_count": 42,
   "metadata": {},
   "outputs": [],
   "source": [
    "nueva = a\n",
    "\n",
    "# para generar una copia de la lista\n",
    "# nueva = a.copy()"
   ]
  },
  {
   "cell_type": "code",
   "execution_count": 43,
   "metadata": {},
   "outputs": [],
   "source": [
    "a.append(25)"
   ]
  },
  {
   "cell_type": "code",
   "execution_count": 44,
   "metadata": {},
   "outputs": [
    {
     "name": "stdout",
     "output_type": "stream",
     "text": [
      "[1, 2, 3, 25]\n"
     ]
    }
   ],
   "source": [
    "print(a)"
   ]
  },
  {
   "cell_type": "code",
   "execution_count": 45,
   "metadata": {},
   "outputs": [
    {
     "name": "stdout",
     "output_type": "stream",
     "text": [
      "[1, 2, 3, 25]\n"
     ]
    }
   ],
   "source": [
    "print(nueva)"
   ]
  },
  {
   "cell_type": "code",
   "execution_count": 46,
   "metadata": {},
   "outputs": [],
   "source": [
    "x = \"curso de python\""
   ]
  },
  {
   "cell_type": "code",
   "execution_count": 47,
   "metadata": {},
   "outputs": [
    {
     "data": {
      "text/plain": [
       "['curso de python', 'curso de python', 'curso de python']"
      ]
     },
     "execution_count": 47,
     "metadata": {},
     "output_type": "execute_result"
    }
   ],
   "source": [
    "[x, x, x]"
   ]
  },
  {
   "cell_type": "code",
   "execution_count": 48,
   "metadata": {},
   "outputs": [
    {
     "data": {
      "text/plain": [
       "['uno', 2, 3, 'cuatro', 5.2]"
      ]
     },
     "execution_count": 48,
     "metadata": {},
     "output_type": "execute_result"
    }
   ],
   "source": [
    "milista"
   ]
  },
  {
   "cell_type": "code",
   "execution_count": 49,
   "metadata": {},
   "outputs": [],
   "source": [
    "milista.append(x)"
   ]
  },
  {
   "cell_type": "code",
   "execution_count": 50,
   "metadata": {},
   "outputs": [
    {
     "data": {
      "text/plain": [
       "['uno', 2, 3, 'cuatro', 5.2, 'curso de python']"
      ]
     },
     "execution_count": 50,
     "metadata": {},
     "output_type": "execute_result"
    }
   ],
   "source": [
    "milista"
   ]
  },
  {
   "cell_type": "markdown",
   "metadata": {},
   "source": [
    "#### Tuples\n",
    "\n",
    "Son lo mismo que una `list` pero son inmutables. No podemos hacerle un `.append()`."
   ]
  },
  {
   "cell_type": "code",
   "execution_count": 51,
   "metadata": {},
   "outputs": [],
   "source": [
    "mituple = (1, 2, 3, 4, \"cinco\", False, 23.4)"
   ]
  },
  {
   "cell_type": "code",
   "execution_count": 52,
   "metadata": {},
   "outputs": [
    {
     "data": {
      "text/plain": [
       "(1, 2, 3, 4, 'cinco', False, 23.4)"
      ]
     },
     "execution_count": 52,
     "metadata": {},
     "output_type": "execute_result"
    }
   ],
   "source": [
    "mituple"
   ]
  },
  {
   "cell_type": "markdown",
   "metadata": {},
   "source": [
    "#### Sets\n",
    "\n",
    "Son lo mismo que una `list`. Cada valor es único. No puede haber valores repetidos. Tampoco podemos indexar un `set`. Si ejecutamos `miset[0]` nos dará un error."
   ]
  },
  {
   "cell_type": "code",
   "execution_count": 53,
   "metadata": {},
   "outputs": [],
   "source": [
    "lista_plabras = [\"hola\", \"python\", \"curso\", \"curso\", \"jola\", \"abecedario\"]"
   ]
  },
  {
   "cell_type": "code",
   "execution_count": 54,
   "metadata": {},
   "outputs": [
    {
     "data": {
      "text/plain": [
       "{'abecedario', 'curso', 'hola', 'jola', 'python'}"
      ]
     },
     "execution_count": 54,
     "metadata": {},
     "output_type": "execute_result"
    }
   ],
   "source": [
    "set(lista_plabras)"
   ]
  },
  {
   "cell_type": "code",
   "execution_count": 55,
   "metadata": {},
   "outputs": [],
   "source": [
    "lista_repetidos = [1, 1, 1, 2, 3, 4, 6, 7]"
   ]
  },
  {
   "cell_type": "code",
   "execution_count": 56,
   "metadata": {},
   "outputs": [
    {
     "data": {
      "text/plain": [
       "[1, 1, 1, 2, 3, 4, 6, 7]"
      ]
     },
     "execution_count": 56,
     "metadata": {},
     "output_type": "execute_result"
    }
   ],
   "source": [
    "lista_repetidos"
   ]
  },
  {
   "cell_type": "code",
   "execution_count": 57,
   "metadata": {},
   "outputs": [],
   "source": [
    "miset = set(lista_repetidos)"
   ]
  },
  {
   "cell_type": "code",
   "execution_count": 58,
   "metadata": {},
   "outputs": [
    {
     "data": {
      "text/plain": [
       "{1, 2, 3, 4, 6, 7}"
      ]
     },
     "execution_count": 58,
     "metadata": {},
     "output_type": "execute_result"
    }
   ],
   "source": [
    "miset"
   ]
  },
  {
   "cell_type": "code",
   "execution_count": 59,
   "metadata": {},
   "outputs": [],
   "source": [
    "miset.add(8)"
   ]
  },
  {
   "cell_type": "code",
   "execution_count": 60,
   "metadata": {},
   "outputs": [
    {
     "data": {
      "text/plain": [
       "{1, 2, 3, 4, 6, 7, 8}"
      ]
     },
     "execution_count": 60,
     "metadata": {},
     "output_type": "execute_result"
    }
   ],
   "source": [
    "miset"
   ]
  },
  {
   "cell_type": "markdown",
   "metadata": {},
   "source": [
    "### Membership"
   ]
  },
  {
   "cell_type": "code",
   "execution_count": 61,
   "metadata": {},
   "outputs": [],
   "source": [
    "# lista_miembros = \"antonio carlos daniel david erlantz euro ivan jseus jordi miguel sebastian victor zakaria\".split()"
   ]
  },
  {
   "cell_type": "code",
   "execution_count": 62,
   "metadata": {},
   "outputs": [],
   "source": [
    "lista_miembros = [\n",
    "    \"antonio\",\n",
    "    \"carlos\",\n",
    "    \"daniel\",\n",
    "    \"david\",\n",
    "    \"erlantz\",\n",
    "    \"euro\",\n",
    "    \"ivan\",\n",
    "    \"jseus\",\n",
    "    \"jordi\",\n",
    "    \"miguel\",\n",
    "    \"sebastian\",\n",
    "    \"victor\",\n",
    "    \"zakaria\",\n",
    "]"
   ]
  },
  {
   "cell_type": "code",
   "execution_count": 63,
   "metadata": {},
   "outputs": [
    {
     "name": "stdout",
     "output_type": "stream",
     "text": [
      "está aquí\n"
     ]
    }
   ],
   "source": [
    "if \"victor\" in lista_miembros:\n",
    "    print(\"está aquí\")\n",
    "else:\n",
    "    print(\"¿a donde se ha ido?\")"
   ]
  },
  {
   "cell_type": "markdown",
   "metadata": {},
   "source": [
    "## For loops\n",
    "\n",
    "\n",
    "`for` elemento `in` estructura:  \n",
    "      *hacer algo*"
   ]
  },
  {
   "cell_type": "code",
   "execution_count": 64,
   "metadata": {},
   "outputs": [],
   "source": [
    "carlos_in = False"
   ]
  },
  {
   "cell_type": "code",
   "execution_count": 65,
   "metadata": {},
   "outputs": [
    {
     "data": {
      "text/plain": [
       "False"
      ]
     },
     "execution_count": 65,
     "metadata": {},
     "output_type": "execute_result"
    }
   ],
   "source": [
    "carlos_in"
   ]
  },
  {
   "cell_type": "code",
   "execution_count": 66,
   "metadata": {},
   "outputs": [
    {
     "name": "stdout",
     "output_type": "stream",
     "text": [
      "En la lista está: carlos\n"
     ]
    }
   ],
   "source": [
    "for miembro in lista_miembros:\n",
    "    if miembro == \"carlos\":\n",
    "        carlos_in = True\n",
    "        print(\"En la lista está:\", miembro)"
   ]
  },
  {
   "cell_type": "code",
   "execution_count": 67,
   "metadata": {},
   "outputs": [
    {
     "data": {
      "text/plain": [
       "True"
      ]
     },
     "execution_count": 67,
     "metadata": {},
     "output_type": "execute_result"
    }
   ],
   "source": [
    "carlos_in"
   ]
  },
  {
   "cell_type": "code",
   "execution_count": 68,
   "metadata": {},
   "outputs": [
    {
     "name": "stdout",
     "output_type": "stream",
     "text": [
      "0\n",
      "1\n",
      "2\n",
      "3\n",
      "4\n",
      "5\n",
      "6\n",
      "7\n",
      "8\n",
      "9\n"
     ]
    }
   ],
   "source": [
    "for i in range(0, 10):\n",
    "    print(i)"
   ]
  },
  {
   "cell_type": "markdown",
   "metadata": {},
   "source": [
    "## operadores de python\n",
    "\n",
    "* ==  (Igual)\n",
    "* !=  (NO igual)\n",
    "* \\>   (Mayor que)\n",
    "* <   (Menor que)\n",
    "* \\>=  (Mayor o igual)\n",
    "* <=  (Menor o igual)\n"
   ]
  },
  {
   "cell_type": "markdown",
   "metadata": {},
   "source": [
    "### Ejercicio\n",
    "\n",
    "Con la lista `lista_miembros`.\n",
    "* Añadir al final de la lista el item `\"ricardo\"`\n",
    "* Iterar sobre esta lista:\n",
    "    * Si el nombre == \"ricardo\": imprimir \"ricardo está aquí\"\n",
    "    * Si el nombre no es \"ricardo\": imprimir print(\"soy un alumno:\", alumno)\n",
    "    \n",
    "**Extra**:\n",
    "* Crear una variable GLOBAL: `x = 0`\n",
    "* Por cada miembro. Si el nombre del miembro contiene la letra \"i\", sumad +1 a la variable `x`"
   ]
  },
  {
   "cell_type": "code",
   "execution_count": 69,
   "metadata": {},
   "outputs": [],
   "source": [
    "lista_miembros.append(\"ricardo\")"
   ]
  },
  {
   "cell_type": "markdown",
   "metadata": {},
   "source": [
    "A ver si el último valor de la lista es \"ricardo\":"
   ]
  },
  {
   "cell_type": "code",
   "execution_count": 70,
   "metadata": {},
   "outputs": [
    {
     "data": {
      "text/plain": [
       "'ricardo'"
      ]
     },
     "execution_count": 70,
     "metadata": {},
     "output_type": "execute_result"
    }
   ],
   "source": [
    "lista_miembros[-1]"
   ]
  },
  {
   "cell_type": "code",
   "execution_count": 71,
   "metadata": {},
   "outputs": [
    {
     "name": "stdout",
     "output_type": "stream",
     "text": [
      "student\n",
      "student\n",
      "student\n",
      "student\n",
      "student\n",
      "student\n",
      "student\n",
      "student\n",
      "student\n",
      "student\n",
      "student\n",
      "student\n",
      "student\n",
      "ricardo está aquí\n"
     ]
    }
   ],
   "source": [
    "x = 0\n",
    "\n",
    "for nombre in lista_miembros:\n",
    "    if nombre == \"ricardo\":\n",
    "        print(\"ricardo está aquí\")\n",
    "    else:\n",
    "        print(\"student\")\n",
    "\n",
    "    if \"i\" in nombre:\n",
    "        x += 1"
   ]
  },
  {
   "cell_type": "markdown",
   "metadata": {},
   "source": [
    "## Funciones"
   ]
  },
  {
   "cell_type": "code",
   "execution_count": 72,
   "metadata": {},
   "outputs": [],
   "source": [
    "def mifuncion():\n",
    "    print(\"dentro de la función\")"
   ]
  },
  {
   "cell_type": "code",
   "execution_count": 73,
   "metadata": {},
   "outputs": [
    {
     "data": {
      "text/plain": [
       "<function __main__.mifuncion()>"
      ]
     },
     "execution_count": 73,
     "metadata": {},
     "output_type": "execute_result"
    }
   ],
   "source": [
    "# no se ejecuta\n",
    "mifuncion"
   ]
  },
  {
   "cell_type": "code",
   "execution_count": 74,
   "metadata": {},
   "outputs": [
    {
     "name": "stdout",
     "output_type": "stream",
     "text": [
      "dentro de la función\n"
     ]
    }
   ],
   "source": [
    "# usamos paréntesis para ejecutarla\n",
    "mifuncion()"
   ]
  },
  {
   "cell_type": "code",
   "execution_count": 75,
   "metadata": {},
   "outputs": [],
   "source": [
    "def mifuncion(param1):\n",
    "    \n",
    "    print(param1)"
   ]
  },
  {
   "cell_type": "code",
   "execution_count": 76,
   "metadata": {},
   "outputs": [
    {
     "name": "stdout",
     "output_type": "stream",
     "text": [
      "una cadena de texto\n"
     ]
    }
   ],
   "source": [
    "mifuncion(param1 = \"una cadena de texto\")"
   ]
  },
  {
   "cell_type": "code",
   "execution_count": 77,
   "metadata": {},
   "outputs": [],
   "source": [
    "def suma(a, b):\n",
    "    \n",
    "    resultado = a + b\n",
    "    print(\"El resultado es:\", resultado)\n",
    "    \n",
    "    return resultado"
   ]
  },
  {
   "cell_type": "code",
   "execution_count": 78,
   "metadata": {},
   "outputs": [
    {
     "name": "stdout",
     "output_type": "stream",
     "text": [
      "El resultado es: 3\n"
     ]
    },
    {
     "data": {
      "text/plain": [
       "3"
      ]
     },
     "execution_count": 78,
     "metadata": {},
     "output_type": "execute_result"
    }
   ],
   "source": [
    "suma(1, 2)"
   ]
  },
  {
   "cell_type": "code",
   "execution_count": 79,
   "metadata": {},
   "outputs": [
    {
     "name": "stdout",
     "output_type": "stream",
     "text": [
      "El resultado es: 44\n"
     ]
    }
   ],
   "source": [
    "res = suma(20, 24)"
   ]
  },
  {
   "cell_type": "code",
   "execution_count": 80,
   "metadata": {},
   "outputs": [
    {
     "data": {
      "text/plain": [
       "44"
      ]
     },
     "execution_count": 80,
     "metadata": {},
     "output_type": "execute_result"
    }
   ],
   "source": [
    "res"
   ]
  },
  {
   "cell_type": "markdown",
   "metadata": {},
   "source": [
    "\"Desempaquetar\" variables devueltas por una función."
   ]
  },
  {
   "cell_type": "code",
   "execution_count": 81,
   "metadata": {},
   "outputs": [],
   "source": [
    "def suma(a, b):\n",
    "    \n",
    "    resultado = a + b\n",
    "    print(\"El resultado es:\", resultado)\n",
    "    \n",
    "    return resultado, a, b"
   ]
  },
  {
   "cell_type": "code",
   "execution_count": 82,
   "metadata": {},
   "outputs": [
    {
     "name": "stdout",
     "output_type": "stream",
     "text": [
      "El resultado es: 6\n"
     ]
    }
   ],
   "source": [
    "res = suma(1,5)"
   ]
  },
  {
   "cell_type": "markdown",
   "metadata": {},
   "source": [
    "`res` es un `tuple` con los 3 valores que la función nos ha devuelto."
   ]
  },
  {
   "cell_type": "code",
   "execution_count": 83,
   "metadata": {},
   "outputs": [
    {
     "data": {
      "text/plain": [
       "(6, 1, 5)"
      ]
     },
     "execution_count": 83,
     "metadata": {},
     "output_type": "execute_result"
    }
   ],
   "source": [
    "res"
   ]
  },
  {
   "cell_type": "markdown",
   "metadata": {},
   "source": [
    "Así los \"desempaquetamos\":"
   ]
  },
  {
   "cell_type": "code",
   "execution_count": 84,
   "metadata": {},
   "outputs": [
    {
     "name": "stdout",
     "output_type": "stream",
     "text": [
      "El resultado es: 6\n"
     ]
    }
   ],
   "source": [
    "res, var1, var2 = suma(1,5)"
   ]
  },
  {
   "cell_type": "code",
   "execution_count": 85,
   "metadata": {},
   "outputs": [
    {
     "name": "stdout",
     "output_type": "stream",
     "text": [
      "6\n",
      "1\n",
      "5\n"
     ]
    }
   ],
   "source": [
    "print(res)\n",
    "print(var1)\n",
    "print(var2)"
   ]
  },
  {
   "cell_type": "markdown",
   "metadata": {},
   "source": [
    "Usamos `_` para indicar que queremos descartar esa variable."
   ]
  },
  {
   "cell_type": "code",
   "execution_count": 86,
   "metadata": {},
   "outputs": [],
   "source": [
    "# no hagáis caso a esto, solo está aquí para que se cumpla lo que viene a continuación\n",
    "# cuando usamos `del` estamos indicándole a Python que elimine ese objecto. Se puede usar `del` con cualquier objecto de python.\n",
    "del res\n",
    "del var1\n",
    "del var2"
   ]
  },
  {
   "cell_type": "code",
   "execution_count": 87,
   "metadata": {},
   "outputs": [
    {
     "name": "stdout",
     "output_type": "stream",
     "text": [
      "El resultado es: 6\n"
     ]
    }
   ],
   "source": [
    "res, var1, _ = suma(1,5)"
   ]
  },
  {
   "cell_type": "markdown",
   "metadata": {},
   "source": [
    "Si hacemos `print(var2)` nos dará error porque no exista. Se puede des-comentar esa línea para comprobarlo."
   ]
  },
  {
   "cell_type": "code",
   "execution_count": 88,
   "metadata": {},
   "outputs": [
    {
     "name": "stdout",
     "output_type": "stream",
     "text": [
      "6\n",
      "1\n"
     ]
    }
   ],
   "source": [
    "print(res)\n",
    "print(var1)\n",
    "# print(var2)"
   ]
  },
  {
   "cell_type": "markdown",
   "metadata": {},
   "source": [
    "### Valores por defecto en los parámetros"
   ]
  },
  {
   "cell_type": "code",
   "execution_count": 89,
   "metadata": {},
   "outputs": [],
   "source": [
    "def suma_por_defecto(a, b=2):\n",
    "    \n",
    "    print(\"A es:\", a)\n",
    "    print(\"B es:\", b)\n",
    "    \n",
    "    resultado = a + b\n",
    "\n",
    "    return resultado"
   ]
  },
  {
   "cell_type": "code",
   "execution_count": 90,
   "metadata": {},
   "outputs": [
    {
     "name": "stdout",
     "output_type": "stream",
     "text": [
      "A es: 1\n",
      "B es: 2\n"
     ]
    },
    {
     "data": {
      "text/plain": [
       "3"
      ]
     },
     "execution_count": 90,
     "metadata": {},
     "output_type": "execute_result"
    }
   ],
   "source": [
    "suma_por_defecto(1)"
   ]
  },
  {
   "cell_type": "code",
   "execution_count": 91,
   "metadata": {},
   "outputs": [
    {
     "name": "stdout",
     "output_type": "stream",
     "text": [
      "A es: 1\n",
      "B es: 5\n"
     ]
    },
    {
     "data": {
      "text/plain": [
       "6"
      ]
     },
     "execution_count": 91,
     "metadata": {},
     "output_type": "execute_result"
    }
   ],
   "source": [
    "suma_por_defecto(1, 5)"
   ]
  },
  {
   "cell_type": "code",
   "execution_count": 92,
   "metadata": {},
   "outputs": [
    {
     "name": "stdout",
     "output_type": "stream",
     "text": [
      "A es: 1\n",
      "B es: 62\n"
     ]
    },
    {
     "data": {
      "text/plain": [
       "63"
      ]
     },
     "execution_count": 92,
     "metadata": {},
     "output_type": "execute_result"
    }
   ],
   "source": [
    "suma_por_defecto(a=1, b=62)"
   ]
  },
  {
   "cell_type": "markdown",
   "metadata": {},
   "source": [
    "### Cuidado con usar listas como valor por defecto e una función!"
   ]
  },
  {
   "cell_type": "code",
   "execution_count": 93,
   "metadata": {},
   "outputs": [],
   "source": [
    "def añadir_a_lista(valor, mylist=[]):\n",
    "    \n",
    "    mylist.append(valor)\n",
    "\n",
    "    print(mylist)"
   ]
  },
  {
   "cell_type": "code",
   "execution_count": 94,
   "metadata": {},
   "outputs": [
    {
     "name": "stdout",
     "output_type": "stream",
     "text": [
      "[1]\n"
     ]
    }
   ],
   "source": [
    "añadir_a_lista(valor=1)"
   ]
  },
  {
   "cell_type": "markdown",
   "metadata": {},
   "source": [
    "### Ejercicio\n",
    "\n",
    "```python\n",
    "def añadir_a_lista(valor, mylist=[]):\n",
    "    \n",
    "    ######### AQUÍ ########\n",
    "    # check de la longitud de la lista\n",
    "    # si la longitud > 0 ---> mylist = []\n",
    "    # si la longitud == 0 ---> seguir normarl\n",
    "    \n",
    "    mylist.append(valor)\n",
    "    \n",
    "    ############\n",
    "    # aparte del print, usar un return\n",
    "    print(mylist)\n",
    "\n",
    "```\n",
    "\n",
    "* Por último, capturar la lista devuelta por ese `return`."
   ]
  },
  {
   "cell_type": "markdown",
   "metadata": {},
   "source": [
    "**Opción 1**"
   ]
  },
  {
   "cell_type": "code",
   "execution_count": 95,
   "metadata": {},
   "outputs": [],
   "source": [
    "def añadir_a_lista(valor, mylist=[]):\n",
    "\n",
    "    if len(mylist) > 0:\n",
    "        mylist = []\n",
    "\n",
    "    mylist.append(valor)\n",
    "\n",
    "    return mylist"
   ]
  },
  {
   "cell_type": "markdown",
   "metadata": {},
   "source": [
    "**Opción 2**  \n",
    "Válido, pero estamos poniendo complejidad añadida de forma innecesaria."
   ]
  },
  {
   "cell_type": "code",
   "execution_count": 96,
   "metadata": {},
   "outputs": [],
   "source": [
    "def añadir_a_lista(valor, mylist=[]):\n",
    "    \n",
    "    mylist = mylist.clear()\n",
    "\n",
    "    mylist.append(valor)\n",
    "\n",
    "    return mylist"
   ]
  },
  {
   "cell_type": "markdown",
   "metadata": {},
   "source": [
    "**Opción 3**\n",
    "\n",
    "Forma correcta.\n",
    "\n",
    "Si queremos tener siempre una lista vacía al iniciar la ejecución de la función: ¿por qué no directamente declarar la variable DENTRO de la función?"
   ]
  },
  {
   "cell_type": "code",
   "execution_count": 97,
   "metadata": {},
   "outputs": [],
   "source": [
    "def añadir_a_lista(valor):\n",
    "\n",
    "    mylist = []\n",
    "\n",
    "    mylist.append(valor)\n",
    "\n",
    "    return mylist"
   ]
  },
  {
   "cell_type": "markdown",
   "metadata": {},
   "source": [
    "Crear una función para esto en Python no tendría ningún sentido. Si queremos añadir algo a una lista solo tenemos que usar directamente `.append()`. Los ejemplos se han usado para repasar lo que se ha visto al inicio y para tener en cuenta algunas consideraciones a la hora de programar.\n",
    "\n",
    "Y ante la duda -> Google"
   ]
  },
  {
   "cell_type": "markdown",
   "metadata": {},
   "source": [
    "### Ejercicio\n",
    "\n",
    "* Crear dos variables que sea una listas vacías\n",
    "* Buscar sobre todas las palabras de la lista.\n",
    "* Si una palabra contiene \"e\", añadir a la primera de las listas anteriores.\n",
    "* Si contiene \"a\" imprimir la palabra.\n",
    "* Si no, añadir a la segunda lista que hemos creado el ÍNDICE de esta palabra\n",
    "\n",
    "**Extra (avisadme de que tenéis hecha la parte de arriba antes de poneros con esto!)**:\n",
    "* Crear una lista nueva que sea una copia de esta pero invertida. Es decir, que empiece con \"language\" y termine con \"Python\".\n",
    "* Crear dos listas y que cada una de ellas sea la mitad de esta lista. Si esta lista tiene una longitud == *número impar* la primera de las dos listas debe ser la más larga. Por ejemplo, si la lista tiene longitud == 11, una lista deben ser los 6 primeros elementos y otra lista los últimos 5."
   ]
  },
  {
   "cell_type": "code",
   "execution_count": 98,
   "metadata": {},
   "outputs": [],
   "source": [
    "mylist = [\n",
    "    \"Python\",\n",
    "    \"was\",\n",
    "    \"conceived\",\n",
    "    \"in\",\n",
    "    \"the\",\n",
    "    \"late\",\n",
    "    \"1980s[34]\",\n",
    "    \"by\",\n",
    "    \"Guido\",\n",
    "    \"van\",\n",
    "    \"Rossum\",\n",
    "    \"at\",\n",
    "    \"Centrum\",\n",
    "    \"Wiskunde\",\n",
    "    \"&\",\n",
    "    \"Informatica\",\n",
    "    \"(CWI)\",\n",
    "    \"in\",\n",
    "    \"the\",\n",
    "    \"Netherlands\",\n",
    "    \"as\",\n",
    "    \"a\",\n",
    "    \"successor\",\n",
    "    \"to\",\n",
    "    \"the\",\n",
    "    \"ABC\",\n",
    "    \"language\",\n",
    "]"
   ]
  },
  {
   "cell_type": "code",
   "execution_count": 99,
   "metadata": {},
   "outputs": [
    {
     "name": "stdout",
     "output_type": "stream",
     "text": [
      "nothing: Python\n",
      "was\n",
      "nothing: in\n",
      "late\n",
      "nothing: 1980s[34]\n",
      "nothing: by\n",
      "nothing: Guido\n",
      "van\n",
      "nothing: Rossum\n",
      "at\n",
      "nothing: &\n",
      "Informatica\n",
      "nothing: (CWI)\n",
      "nothing: in\n",
      "Netherlands\n",
      "as\n",
      "a\n",
      "nothing: to\n",
      "nothing: ABC\n",
      "language\n"
     ]
    }
   ],
   "source": [
    "lista_con_e = []\n",
    "lista_indices = []\n",
    "\n",
    "for palabra in mylist:\n",
    "\n",
    "    if \"e\" in palabra:\n",
    "        lista_con_e.append(palabra)\n",
    "\n",
    "    if \"a\" in palabra:\n",
    "        print(palabra)\n",
    "\n",
    "    if (\"e\" not in palabra) & (\"a\" not in palabra):\n",
    "        print(\"nothing:\", palabra)\n",
    "        lista_indices.append(mylist.index(palabra))"
   ]
  },
  {
   "cell_type": "code",
   "execution_count": 100,
   "metadata": {},
   "outputs": [],
   "source": [
    "primera_mitad = None\n",
    "segunda_mitad = None\n",
    "\n",
    "longitud = len(mylist)\n",
    "\n",
    "import math"
   ]
  },
  {
   "cell_type": "code",
   "execution_count": 101,
   "metadata": {},
   "outputs": [
    {
     "data": {
      "text/plain": [
       "27"
      ]
     },
     "execution_count": 101,
     "metadata": {},
     "output_type": "execute_result"
    }
   ],
   "source": [
    "len(mylist)"
   ]
  },
  {
   "cell_type": "code",
   "execution_count": 102,
   "metadata": {},
   "outputs": [],
   "source": [
    "primera_mitad = math.ceil(longitud / 2)\n",
    "\n",
    "lista_m1 = mylist[:primera_mitad]\n",
    "\n",
    "lista_m2 = mylist[primera_mitad:]"
   ]
  },
  {
   "cell_type": "code",
   "execution_count": 103,
   "metadata": {},
   "outputs": [],
   "source": [
    "# mylist[::-1]"
   ]
  },
  {
   "cell_type": "code",
   "execution_count": 104,
   "metadata": {},
   "outputs": [],
   "source": [
    "lista_invertida = list(reversed(mylist))"
   ]
  },
  {
   "cell_type": "code",
   "execution_count": 105,
   "metadata": {},
   "outputs": [
    {
     "data": {
      "text/plain": [
       "<list_reverseiterator at 0x10b061710>"
      ]
     },
     "execution_count": 105,
     "metadata": {},
     "output_type": "execute_result"
    }
   ],
   "source": [
    "reversed(mylist)"
   ]
  },
  {
   "cell_type": "markdown",
   "metadata": {},
   "source": [
    "## Strings!"
   ]
  },
  {
   "cell_type": "markdown",
   "metadata": {},
   "source": [
    "* .split()\n",
    "* .replace()\n",
    "* .lower()\n",
    "* .strip\n",
    "* \"\".join\n",
    "* f-strings\n",
    "    * `f\"texto {variable} text {mifuncion(parametro1, parametro2)}\"`"
   ]
  },
  {
   "cell_type": "code",
   "execution_count": 106,
   "metadata": {},
   "outputs": [],
   "source": [
    "s = \"Python 2.0 was released, on 16 October 2000 with, many major new features\""
   ]
  },
  {
   "cell_type": "markdown",
   "metadata": {},
   "source": [
    "Split deivide un string por el caracter que indiquemos. Si se deja vacio utiliza los espacios. Nos devuelve una lista con los items.\n",
    "\n",
    "El caracter por donde dividimos se elimina. Por ejemplo aquí dividimos la frase en 3 por las comas (,)."
   ]
  },
  {
   "cell_type": "code",
   "execution_count": 107,
   "metadata": {},
   "outputs": [
    {
     "data": {
      "text/plain": [
       "['Python 2.0 was released',\n",
       " ' on 16 October 2000 with',\n",
       " ' many major new features']"
      ]
     },
     "execution_count": 107,
     "metadata": {},
     "output_type": "execute_result"
    }
   ],
   "source": [
    "s.split(\",\")"
   ]
  },
  {
   "cell_type": "markdown",
   "metadata": {},
   "source": [
    "Podemos reemplazar partes del texto. También podemos encadenar métodos."
   ]
  },
  {
   "cell_type": "code",
   "execution_count": 108,
   "metadata": {},
   "outputs": [
    {
     "data": {
      "text/plain": [
       "['Julia 2.0 was released',\n",
       " ' on 16 October 2000 with',\n",
       " ' many major new features']"
      ]
     },
     "execution_count": 108,
     "metadata": {},
     "output_type": "execute_result"
    }
   ],
   "source": [
    "s.replace(\"Python\", \"Julia\").split(\",\")"
   ]
  },
  {
   "cell_type": "code",
   "execution_count": 109,
   "metadata": {},
   "outputs": [],
   "source": [
    "str_con_espacios = \"   aosidoasid string sucio  \""
   ]
  },
  {
   "cell_type": "markdown",
   "metadata": {},
   "source": [
    "`.strip()` elimina los espacios de los laterales,"
   ]
  },
  {
   "cell_type": "code",
   "execution_count": 110,
   "metadata": {},
   "outputs": [
    {
     "data": {
      "text/plain": [
       "'aosidoasid string sucio'"
      ]
     },
     "execution_count": 110,
     "metadata": {},
     "output_type": "execute_result"
    }
   ],
   "source": [
    "str_con_espacios.strip()"
   ]
  },
  {
   "cell_type": "markdown",
   "metadata": {},
   "source": [
    "`.lower()` convierte todo en minúsculas. Útil para asegurarnos de que trabajamos siempre con el texto igual y nos evitamos problemas ya que podríamos procesar de manera diferente una palabra que empiece o no por mayúsculas. Obviamente si las mayúsculas/minúsculas son importantes mejor no usarlo."
   ]
  },
  {
   "cell_type": "code",
   "execution_count": 111,
   "metadata": {},
   "outputs": [
    {
     "data": {
      "text/plain": [
       "'python 2.0 was released, on 16 october 2000 with, many major new features'"
      ]
     },
     "execution_count": 111,
     "metadata": {},
     "output_type": "execute_result"
    }
   ],
   "source": [
    "s.lower()"
   ]
  },
  {
   "cell_type": "markdown",
   "metadata": {},
   "source": [
    "Mayúsculas"
   ]
  },
  {
   "cell_type": "code",
   "execution_count": 112,
   "metadata": {},
   "outputs": [
    {
     "data": {
      "text/plain": [
       "'PYTHON 2.0 WAS RELEASED, ON 16 OCTOBER 2000 WITH, MANY MAJOR NEW FEATURES'"
      ]
     },
     "execution_count": 112,
     "metadata": {},
     "output_type": "execute_result"
    }
   ],
   "source": [
    "s.upper()"
   ]
  },
  {
   "cell_type": "markdown",
   "metadata": {},
   "source": [
    "Las *raw* strings nos permiten interpretar los caracteres \"tal cual\". Útiles por ejemplo para trabajar con *regular expressions*."
   ]
  },
  {
   "cell_type": "code",
   "execution_count": 113,
   "metadata": {},
   "outputs": [],
   "source": [
    "s = r\"texto texto text \\' '\""
   ]
  },
  {
   "cell_type": "code",
   "execution_count": 114,
   "metadata": {},
   "outputs": [
    {
     "data": {
      "text/plain": [
       "\"texto texto text \\\\' '\""
      ]
     },
     "execution_count": 114,
     "metadata": {},
     "output_type": "execute_result"
    }
   ],
   "source": [
    "s"
   ]
  },
  {
   "cell_type": "code",
   "execution_count": 115,
   "metadata": {},
   "outputs": [
    {
     "name": "stdout",
     "output_type": "stream",
     "text": [
      "texto texto text \\' '\n"
     ]
    }
   ],
   "source": [
    "print(\"texto texto text \\\\' '\")"
   ]
  },
  {
   "cell_type": "code",
   "execution_count": 116,
   "metadata": {},
   "outputs": [],
   "source": [
    "def suma(a, b):\n",
    "    return a + b"
   ]
  },
  {
   "cell_type": "markdown",
   "metadata": {},
   "source": [
    "Textos multi-línea"
   ]
  },
  {
   "cell_type": "code",
   "execution_count": 117,
   "metadata": {},
   "outputs": [
    {
     "name": "stdout",
     "output_type": "stream",
     "text": [
      "linea1\n",
      "linea2\n"
     ]
    }
   ],
   "source": [
    "print(\"linea1\\nlinea2\")"
   ]
  },
  {
   "cell_type": "code",
   "execution_count": 118,
   "metadata": {},
   "outputs": [
    {
     "data": {
      "text/plain": [
       "'\\nasd\\nasd\\nasf\\n\\n\\nasfsdf\\nasd\\n\\n\\nasf\\n\\n'"
      ]
     },
     "execution_count": 118,
     "metadata": {},
     "output_type": "execute_result"
    }
   ],
   "source": [
    "\"\"\"\n",
    "asd\n",
    "asd\n",
    "asf\n",
    "\n",
    "\n",
    "asfsdf\n",
    "asd\n",
    "\n",
    "\n",
    "asf\n",
    "\n",
    "\"\"\""
   ]
  },
  {
   "cell_type": "markdown",
   "metadata": {},
   "source": [
    "`f-strings`: las expresiones dentro de `{}` se evaluan como si fueran python normal, no un texto. Muy útiles y ademas están optmizadas para ejecutarse más rápido que el resto de métodos para sustituir cosas dentro de las cadenas de texto."
   ]
  },
  {
   "cell_type": "code",
   "execution_count": 119,
   "metadata": {},
   "outputs": [],
   "source": [
    "myvar = \"teeeexto\"\n",
    "myvar2 = 123\n",
    "myvar3 = [1,2,3]"
   ]
  },
  {
   "cell_type": "code",
   "execution_count": 120,
   "metadata": {},
   "outputs": [],
   "source": [
    "s = f\"texto {myvar3} aqui va text {suma(1,3)} más texto\""
   ]
  },
  {
   "cell_type": "markdown",
   "metadata": {},
   "source": [
    "Podemos unir los elementos de una lista para crear un string."
   ]
  },
  {
   "cell_type": "code",
   "execution_count": 121,
   "metadata": {},
   "outputs": [
    {
     "data": {
      "text/plain": [
       "'Python was conceived in the late 1980s[34] by Guido van Rossum at Centrum Wiskunde & Informatica (CWI) in the Netherlands as a successor to the ABC language'"
      ]
     },
     "execution_count": 121,
     "metadata": {},
     "output_type": "execute_result"
    }
   ],
   "source": [
    "\" \".join(mylist)"
   ]
  },
  {
   "cell_type": "markdown",
   "metadata": {},
   "source": [
    "### Ejercicio\n",
    "\n",
    "* Generar un string en minúsculas separado por espacios a partir de la lista que teníamos: `mylist`\n",
    "* Iterar sobre esta lista.\n",
    "* Reemplazar: `( ) [ ]` por un string vacio.\n",
    "* Imprimir esa palabra de la siguiente manera: _\"La palabra es \"_ y seguido la palabra pero **con la primera letra en mayúsculas** usand f-strings.\n",
    "\n",
    "* En nuestro string original (el del punto nº1). Reemplazar Python por Golang y ABC por APL.\n"
   ]
  },
  {
   "cell_type": "code",
   "execution_count": 122,
   "metadata": {},
   "outputs": [],
   "source": [
    "s = (\n",
    "    \" \".join(mylist)\n",
    "    .lower()\n",
    "    .replace(\"(\", \"\")\n",
    "    .replace(\")\", \"\")\n",
    "    .replace(\"[\", \"\")\n",
    "    .replace(\"]\", \"\")\n",
    ")"
   ]
  },
  {
   "cell_type": "code",
   "execution_count": 123,
   "metadata": {},
   "outputs": [
    {
     "data": {
      "text/plain": [
       "'golang was conceived in the late 1980s34 by guido van rossum at centrum wiskunde & informatica cwi in the netherlands as a successor to the apl language'"
      ]
     },
     "execution_count": 123,
     "metadata": {},
     "output_type": "execute_result"
    }
   ],
   "source": [
    "s.replace(\"python\", \"golang\").replace(\"abc\", \"apl\")"
   ]
  },
  {
   "cell_type": "code",
   "execution_count": 124,
   "metadata": {},
   "outputs": [
    {
     "name": "stdout",
     "output_type": "stream",
     "text": [
      "La palabra es python\n",
      "La palabra es was\n",
      "La palabra es conceived\n",
      "La palabra es in\n",
      "La palabra es the\n",
      "La palabra es late\n",
      "La palabra es 1980s34\n",
      "La palabra es by\n",
      "La palabra es guido\n",
      "La palabra es van\n",
      "La palabra es rossum\n",
      "La palabra es at\n",
      "La palabra es centrum\n",
      "La palabra es wiskunde\n",
      "La palabra es &\n",
      "La palabra es informatica\n",
      "La palabra es cwi\n",
      "La palabra es in\n",
      "La palabra es the\n",
      "La palabra es netherlands\n",
      "La palabra es as\n",
      "La palabra es a\n",
      "La palabra es successor\n",
      "La palabra es to\n",
      "La palabra es the\n",
      "La palabra es abc\n",
      "La palabra es language\n"
     ]
    }
   ],
   "source": [
    "for word in s.split():\n",
    "    \n",
    "    # word = word.replace(\"(\", \"\").replace(\")\", \"\").replace(\"[\", \"\").replace(\"]\", \"\")\n",
    "    \n",
    "    print(f\"La palabra es {word}\")"
   ]
  },
  {
   "cell_type": "markdown",
   "metadata": {},
   "source": [
    "## Files"
   ]
  },
  {
   "cell_type": "code",
   "execution_count": 125,
   "metadata": {},
   "outputs": [],
   "source": [
    "#######\n",
    "# este código es solo para descargar el archivo de ejemplo\n",
    "# no es parte del contenido de este tema\n",
    "import os\n",
    "import requests\n",
    "\n",
    "if not \"demofile.txt\" in os.listdir():\n",
    "\n",
    "    text = requests.get(\n",
    "        \"https://raw.githubusercontent.com/polyrand/teach/master/archivos/demofile.txt\"\n",
    "    ).content\n",
    "\n",
    "    with open(\"demofile.txt\", \"wb\") as f:\n",
    "        f.write(text)\n",
    "\n",
    "# fin del código\n",
    "#######"
   ]
  },
  {
   "cell_type": "code",
   "execution_count": 126,
   "metadata": {},
   "outputs": [
    {
     "data": {
      "text/plain": [
       "'Python es un lenguaje de programación interpretado cuya filosofía hace hincapié en la legibilidad de su código.\\nSe trata de un lenguaje de programación multiparadigma, ya que soporta orientación a objetos, programación imperativa y, en menor medida, programación funcional. Es un lenguaje interpretado, dinámico y multiplataforma.\\n\\nEs administrado por la Python Software Foundation. Posee una licencia de código abierto, denominada Python Software Foundation License,3 que es compatible con la Licencia pública general de GNU a partir de la versión 2.1.1, e incompatible en ciertas versiones anteriores.\\n'"
      ]
     },
     "execution_count": 126,
     "metadata": {},
     "output_type": "execute_result"
    }
   ],
   "source": [
    "f = open(\"demofile.txt\", \"r\")\n",
    "f.read()"
   ]
  },
  {
   "cell_type": "code",
   "execution_count": 127,
   "metadata": {},
   "outputs": [],
   "source": [
    "mitext = f.read()"
   ]
  },
  {
   "cell_type": "code",
   "execution_count": 128,
   "metadata": {},
   "outputs": [
    {
     "data": {
      "text/plain": [
       "''"
      ]
     },
     "execution_count": 128,
     "metadata": {},
     "output_type": "execute_result"
    }
   ],
   "source": [
    "f.read()"
   ]
  },
  {
   "cell_type": "markdown",
   "metadata": {},
   "source": [
    "SIEMPRE hay que cerrar el *handler*"
   ]
  },
  {
   "cell_type": "code",
   "execution_count": 129,
   "metadata": {},
   "outputs": [],
   "source": [
    "f.close()"
   ]
  },
  {
   "cell_type": "markdown",
   "metadata": {},
   "source": [
    "Si iteramos sobre un archivo abierto por defector nos lo devuelve por líneas."
   ]
  },
  {
   "cell_type": "code",
   "execution_count": 130,
   "metadata": {},
   "outputs": [
    {
     "name": "stdout",
     "output_type": "stream",
     "text": [
      "Python es un lenguaje de programación interpretado cuya filosofía hace hincapié en la legibilidad de su código.\n",
      "\n",
      "Se trata de un lenguaje de programación multiparadigma, ya que soporta orientación a objetos, programación imperativa y, en menor medida, programación funcional. Es un lenguaje interpretado, dinámico y multiplataforma.\n",
      "\n",
      "\n",
      "\n",
      "Es administrado por la Python Software Foundation. Posee una licencia de código abierto, denominada Python Software Foundation License,3 que es compatible con la Licencia pública general de GNU a partir de la versión 2.1.1, e incompatible en ciertas versiones anteriores.\n",
      "\n"
     ]
    }
   ],
   "source": [
    "f = open(\"demofile.txt\", \"r\")\n",
    "for x in f:\n",
    "    print(x)\n",
    "f.close()"
   ]
  },
  {
   "cell_type": "markdown",
   "metadata": {},
   "source": [
    "Modos de escritura:\n",
    "* `a` -> append\n",
    "* `w` -> write\n"
   ]
  },
  {
   "cell_type": "markdown",
   "metadata": {},
   "source": [
    "Usando un *context manager*. Se encagará de hacer `.close()` automáticamente.\n",
    "\n",
    "La variable `f` es como la variable de los `for` loops. Le damos el nombre que queramos y solo actúa dentro de ese contexto. Una vez termina la ejecución del bloque de código dentro del `with`, es variable deja de existir."
   ]
  },
  {
   "cell_type": "code",
   "execution_count": 131,
   "metadata": {},
   "outputs": [],
   "source": [
    "# a -> append\n",
    "# w -> write\n",
    "with open(\"demofile_2.txt\", \"w\") as f:\n",
    "    f.write(\"texto nuevo\")"
   ]
  },
  {
   "cell_type": "markdown",
   "metadata": {},
   "source": [
    "`.readlines()` nos devuelve una lista donde cada elemento es una línea del archivo."
   ]
  },
  {
   "cell_type": "code",
   "execution_count": 132,
   "metadata": {},
   "outputs": [],
   "source": [
    "with open(\"demofile.txt\", \"r\") as f:\n",
    "    lineas = f.readlines()"
   ]
  },
  {
   "cell_type": "code",
   "execution_count": 133,
   "metadata": {},
   "outputs": [],
   "source": [
    "lineas_minus = []\n",
    "\n",
    "for l in lineas:\n",
    "    l = l.lower().strip()\n",
    "    if l != \"\":\n",
    "        lineas_minus.append(l + \"\\n\")"
   ]
  },
  {
   "cell_type": "code",
   "execution_count": 134,
   "metadata": {},
   "outputs": [],
   "source": [
    "# a -> append\n",
    "# w -> write\n",
    "with open(\"enminus.txt\", \"w\") as f:\n",
    "    f.writelines(lineas_minus)"
   ]
  },
  {
   "cell_type": "markdown",
   "metadata": {},
   "source": [
    "### Type casting.\n",
    "\n",
    "Podemos convertir un tipo de datos en otro."
   ]
  },
  {
   "cell_type": "code",
   "execution_count": 135,
   "metadata": {},
   "outputs": [
    {
     "data": {
      "text/plain": [
       "1"
      ]
     },
     "execution_count": 135,
     "metadata": {},
     "output_type": "execute_result"
    }
   ],
   "source": [
    "int(\"1\")"
   ]
  },
  {
   "cell_type": "code",
   "execution_count": 136,
   "metadata": {},
   "outputs": [
    {
     "data": {
      "text/plain": [
       "'123'"
      ]
     },
     "execution_count": 136,
     "metadata": {},
     "output_type": "execute_result"
    }
   ],
   "source": [
    "str(123)"
   ]
  },
  {
   "cell_type": "markdown",
   "metadata": {},
   "source": [
    "### Ejercicio\n",
    "\n",
    "1. Copiar todo el texto y crear un string de Python. Se puede usar triple comilas (\"\"\") para copiar un string literal de varias lineas.\n",
    "2. Separar por grupos a lists.\n",
    "    * Donde ponga grupo 1 -> todos van a una misma lista\n",
    "    * Done ponga grupo 2 -> a otra lista\n",
    "    * Done ponga grupo 3 -> a otra lista\n",
    "    * Cuidado que tienen diferente formato.\n",
    "    \n",
    "3. Escribir cada grupo a un archivo.\n",
    "    * La lista del grupo 1 -> grupo1.txt (cada uno en una nueva línea).\n",
    "    * La lista del grupo 2 -> grupo2.txt (cada uno en una nueva línea).\n",
    "    * La lista del grupo 2 -> grupo2.txt (cada uno en una nueva línea).\n",
    "    \n",
    "**Extra**\n",
    "* De cada grupo imprimir los que empiezan por \"n\"\n",
    "\n",
    "**Extra 🔥**\n",
    "\n",
    "Crear una función que reciba como parámetro un string (que será un nombre de los de la lista). La función lee todos los archivos .txt que haya en esa carpeta. Si encuentra el nombre en el archivo **te devuelve el nombre de archivo .txt** donde está ese nombre.\n",
    "\n",
    "Por ejmplo, habrá un archivo llamado \"grupo1.txt\" que dentro tiene varias líneas de texto. Cada una es un nombre. Uno de esos nombres es \"iron man\". Nuestra función `buscar_nombre(nombre)` cuando la ejecutemos por ejemplo: `buscar_nombre(\"iron man\")`, nos devolverá (usando `return`, NO `print()`) una cadena de texto = `grupo1.txt`.\n",
    "\n",
    "Tips:\n",
    "* https://docs.python.org/3.7/library/glob.html\n",
    "* https://docs.python.org/3/library/pathlib.html"
   ]
  },
  {
   "cell_type": "code",
   "execution_count": 137,
   "metadata": {},
   "outputs": [],
   "source": [
    "ss = \"\"\"\n",
    "iron man<grupo_1>\n",
    "doctor strange<group_3>\n",
    "spiderman<group_3>\n",
    "black widow<grupo_1>\n",
    "groot<group_3>\n",
    "quill<group_3>\n",
    "gamora<grupo-2>\n",
    "mantis<group_3>\n",
    "captain america<grupo_1>\n",
    "black panther<group_3>\n",
    "okoye<group_3>\n",
    "iron man<grupo_1>\n",
    "valkyrie<grupo_1>\n",
    "korg<grupo_1>\n",
    "bruce banner<grupo_1>\n",
    "vision<grupo-2>\n",
    "hawkeye<grupo_1>\n",
    "vision<grupo-2>\n",
    "thor<grupo_1>\n",
    "gamora<grupo-2>\n",
    "captain marvel<grupo_1>\n",
    "miek<grupo_1>\n",
    "nick fury<group_3>\n",
    "rocket<grupo_1>\n",
    "\"\"\""
   ]
  },
  {
   "cell_type": "code",
   "execution_count": 138,
   "metadata": {},
   "outputs": [
    {
     "data": {
      "text/plain": [
       "['',\n",
       " 'iron man<grupo_1>',\n",
       " 'doctor strange<group_3>',\n",
       " 'spiderman<group_3>',\n",
       " 'black widow<grupo_1>',\n",
       " 'groot<group_3>',\n",
       " 'quill<group_3>',\n",
       " 'gamora<grupo-2>',\n",
       " 'mantis<group_3>',\n",
       " 'captain america<grupo_1>',\n",
       " 'black panther<group_3>',\n",
       " 'okoye<group_3>',\n",
       " 'iron man<grupo_1>',\n",
       " 'valkyrie<grupo_1>',\n",
       " 'korg<grupo_1>',\n",
       " 'bruce banner<grupo_1>',\n",
       " 'vision<grupo-2>',\n",
       " 'hawkeye<grupo_1>',\n",
       " 'vision<grupo-2>',\n",
       " 'thor<grupo_1>',\n",
       " 'gamora<grupo-2>',\n",
       " 'captain marvel<grupo_1>',\n",
       " 'miek<grupo_1>',\n",
       " 'nick fury<group_3>',\n",
       " 'rocket<grupo_1>',\n",
       " '']"
      ]
     },
     "execution_count": 138,
     "metadata": {},
     "output_type": "execute_result"
    }
   ],
   "source": [
    "ss.split(\"\\n\")"
   ]
  },
  {
   "cell_type": "code",
   "execution_count": 139,
   "metadata": {},
   "outputs": [],
   "source": [
    "grupo1 = []\n",
    "grupo2 = []\n",
    "grupo3 = []\n",
    "\n",
    "for line in ss.split(\"\\n\")[1:-1]:\n",
    "    person = line.split(\"<\")[0]\n",
    "    group = int(line[-2])\n",
    "\n",
    "    assert group in [1, 2, 3]\n",
    "\n",
    "    if group == 1:\n",
    "        grupo1.append(person)\n",
    "    elif group == 2:\n",
    "        grupo2.append(person)\n",
    "    else:\n",
    "        grupo3.append(person)"
   ]
  },
  {
   "cell_type": "markdown",
   "metadata": {},
   "source": [
    "## Try, Except, Finally"
   ]
  },
  {
   "cell_type": "code",
   "execution_count": 140,
   "metadata": {},
   "outputs": [
    {
     "name": "stdout",
     "output_type": "stream",
     "text": [
      "un error\n"
     ]
    }
   ],
   "source": [
    "try:\n",
    "    x = 1 / 0\n",
    "except:\n",
    "    print(\"un error\")"
   ]
  },
  {
   "cell_type": "code",
   "execution_count": 141,
   "metadata": {},
   "outputs": [],
   "source": [
    "d = {\"asd\": 2}"
   ]
  },
  {
   "cell_type": "code",
   "execution_count": 142,
   "metadata": {},
   "outputs": [
    {
     "name": "stdout",
     "output_type": "stream",
     "text": [
      "Error class is:   <class 'ZeroDivisionError'>\n",
      "Error message is: division by zero\n"
     ]
    }
   ],
   "source": [
    "try:\n",
    "    x = 1 / 0\n",
    "    rr = d[\"a\"]\n",
    "except (KeyError, ZeroDivisionError) as err:\n",
    "    print(\"Error class is:  \", type(err))\n",
    "    print(\"Error message is:\", err)"
   ]
  },
  {
   "cell_type": "code",
   "execution_count": 143,
   "metadata": {},
   "outputs": [
    {
     "name": "stdout",
     "output_type": "stream",
     "text": [
      "try something here\n",
      "this happens only if it succeeds\n",
      "this happens no matter what\n"
     ]
    }
   ],
   "source": [
    "try:\n",
    "    print(\"try something here\")\n",
    "    # x = 1 / 0\n",
    "except:\n",
    "    print(\"this happens only if it fails\")\n",
    "else:\n",
    "    print(\"this happens only if it succeeds\")\n",
    "finally:\n",
    "    print(\"this happens no matter what\")"
   ]
  }
 ],
 "metadata": {
  "kernelspec": {
   "display_name": "basic",
   "language": "python",
   "name": "basic"
  },
  "language_info": {
   "codemirror_mode": {
    "name": "ipython",
    "version": 3
   },
   "file_extension": ".py",
   "mimetype": "text/x-python",
   "name": "python",
   "nbconvert_exporter": "python",
   "pygments_lexer": "ipython3",
   "version": "3.7.7"
  }
 },
 "nbformat": 4,
 "nbformat_minor": 4
}
