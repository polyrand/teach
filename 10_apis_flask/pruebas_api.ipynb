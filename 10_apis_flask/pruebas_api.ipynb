{
 "cells": [
  {
   "cell_type": "markdown",
   "metadata": {},
   "source": [
    "# API\n",
    "\n",
    "![](https://www.flimper.com/hubfs/como-crear-una-api.jpg)"
   ]
  },
  {
   "cell_type": "markdown",
   "metadata": {},
   "source": [
    "```python\n",
    "from flask import Flask\n",
    "\n",
    "app = Flask(__name__)\n",
    "app.config[\"PROPAGATE_EXCEPTIONS\"] = True\n",
    "\n",
    "\n",
    "@app.route(\"/ping\")\n",
    "def ping():\n",
    "    return \"pong\"\n",
    "\n",
    "\n",
    "if __name__ == \"__main__\":\n",
    "    app.run(debug=True)\n",
    "```"
   ]
  },
  {
   "cell_type": "markdown",
   "metadata": {},
   "source": [
    "**Métodos:**\n",
    "\n",
    "`GET`: Leer información  \n",
    "`POST`: Subir información\n",
    "\n",
    "![](https://img.deusm.com/darkreading/MarilynCohodas/TraditionalVModern.jpg)"
   ]
  },
  {
   "cell_type": "markdown",
   "metadata": {},
   "source": [
    "https://flask.palletsprojects.com/en/1.1.x/quickstart/"
   ]
  },
  {
   "cell_type": "code",
   "execution_count": 2,
   "metadata": {},
   "outputs": [],
   "source": [
    "import requests"
   ]
  },
  {
   "cell_type": "markdown",
   "metadata": {},
   "source": [
    "Cambiad la variable `url` por vuesta url de [repl.it](https://repl.it/)"
   ]
  },
  {
   "cell_type": "code",
   "execution_count": 3,
   "metadata": {},
   "outputs": [
    {
     "data": {
      "text/plain": [
       "[{'description': 'Milk, Cheese, Pizza, Fruit, Tylenol',\n",
       "  'done': False,\n",
       "  'id': 1,\n",
       "  'title': 'Buy groceries'},\n",
       " {'description': 'Need to find a good Python tutorial on the web',\n",
       "  'done': False,\n",
       "  'id': 2,\n",
       "  'title': 'Learn Python'}]"
      ]
     },
     "execution_count": 3,
     "metadata": {},
     "output_type": "execute_result"
    }
   ],
   "source": [
    "url = \"https://neighboringantiqueequation--polyrand.repl.co/lista/api/v1/tareas\"\n",
    "\n",
    "res = requests.get(url)\n",
    "\n",
    "data = res.json()\n",
    "\n",
    "data[\"tareas\"]"
   ]
  },
  {
   "cell_type": "code",
   "execution_count": 4,
   "metadata": {},
   "outputs": [
    {
     "name": "stdout",
     "output_type": "stream",
     "text": [
      "Buy groceries\n",
      "Learn Python\n"
     ]
    }
   ],
   "source": [
    "for t in data[\"tareas\"]:\n",
    "    print(t[\"title\"])"
   ]
  },
  {
   "cell_type": "code",
   "execution_count": 5,
   "metadata": {},
   "outputs": [],
   "source": [
    "url = \"https://neighboringantiqueequation--polyrand.repl.co/lista/api/v1/tareas/1\"\n",
    "\n",
    "res = requests.get(url)\n",
    "\n",
    "# res.raise_for_status()\n",
    "\n",
    "if res.status_code == 404:\n",
    "    print(\"Noooo\")\n",
    "\n",
    "data = res.json()"
   ]
  },
  {
   "cell_type": "code",
   "execution_count": 6,
   "metadata": {},
   "outputs": [
    {
     "data": {
      "text/plain": [
       "{'tarea': {'description': 'Milk, Cheese, Pizza, Fruit, Tylenol',\n",
       "  'done': False,\n",
       "  'id': 1,\n",
       "  'title': 'Buy groceries'}}"
      ]
     },
     "execution_count": 6,
     "metadata": {},
     "output_type": "execute_result"
    }
   ],
   "source": [
    "data"
   ]
  },
  {
   "cell_type": "code",
   "execution_count": 10,
   "metadata": {},
   "outputs": [],
   "source": [
    "tasks = [\n",
    "    {\n",
    "        \"id\": 1,\n",
    "        \"title\": u\"Buy groceries\",\n",
    "        \"description\": u\"Milk, Cheese, Pizza, Fruit, Tylenol\",\n",
    "        \"done\": False,\n",
    "    },\n",
    "    {\n",
    "        \"id\": 2,\n",
    "        \"title\": u\"Learn Python\",\n",
    "        \"description\": u\"Need to find a good Python tutorial on the web\",\n",
    "        \"done\": False,\n",
    "    },\n",
    "    {\n",
    "        \"id\": 4,\n",
    "        \"title\": u\"Learn Python\",\n",
    "        \"description\": u\"Need to find a good Python tutorial on the web\",\n",
    "        \"done\": False,\n",
    "    },\n",
    "    {\n",
    "        \"id\": 3,\n",
    "        \"title\": u\"Learn Python\",\n",
    "        \"description\": u\"Need to find a good Python tutorial on the web\",\n",
    "        \"done\": False,\n",
    "    },\n",
    "]"
   ]
  },
  {
   "cell_type": "code",
   "execution_count": 13,
   "metadata": {},
   "outputs": [
    {
     "data": {
      "text/plain": [
       "[{'id': 1,\n",
       "  'title': 'Buy groceries',\n",
       "  'description': 'Milk, Cheese, Pizza, Fruit, Tylenol',\n",
       "  'done': False},\n",
       " {'id': 2,\n",
       "  'title': 'Learn Python',\n",
       "  'description': 'Need to find a good Python tutorial on the web',\n",
       "  'done': False},\n",
       " {'id': 3,\n",
       "  'title': 'Learn Python',\n",
       "  'description': 'Need to find a good Python tutorial on the web',\n",
       "  'done': False},\n",
       " {'id': 4,\n",
       "  'title': 'Learn Python',\n",
       "  'description': 'Need to find a good Python tutorial on the web',\n",
       "  'done': False}]"
      ]
     },
     "execution_count": 13,
     "metadata": {},
     "output_type": "execute_result"
    }
   ],
   "source": [
    "sorted(tasks, key=lambda x: x[\"id\"])"
   ]
  },
  {
   "cell_type": "markdown",
   "metadata": {},
   "source": [
    "### POST"
   ]
  },
  {
   "cell_type": "code",
   "execution_count": 7,
   "metadata": {},
   "outputs": [],
   "source": [
    "nueva = {\n",
    "    \"id\": 1\n",
    "    \"title\": \"probando repl.it\",\n",
    "    \"description\": \"flask mola\",\n",
    "}"
   ]
  },
  {
   "cell_type": "code",
   "execution_count": 8,
   "metadata": {},
   "outputs": [
    {
     "data": {
      "text/plain": [
       "<Response [201]>"
      ]
     },
     "execution_count": 8,
     "metadata": {},
     "output_type": "execute_result"
    }
   ],
   "source": [
    "requests.post(\n",
    "    \"https://neighboringantiqueequation--polyrand.repl.co/lista/api/v1/tareas\",\n",
    "    json=nueva,\n",
    ")"
   ]
  },
  {
   "cell_type": "markdown",
   "metadata": {},
   "source": [
    "### GET"
   ]
  },
  {
   "cell_type": "code",
   "execution_count": 9,
   "metadata": {},
   "outputs": [
    {
     "data": {
      "text/plain": [
       "[{'description': 'Milk, Cheese, Pizza, Fruit, Tylenol',\n",
       "  'done': False,\n",
       "  'id': 1,\n",
       "  'title': 'Buy groceries'},\n",
       " {'description': 'Need to find a good Python tutorial on the web',\n",
       "  'done': False,\n",
       "  'id': 2,\n",
       "  'title': 'Learn Python'},\n",
       " {'description': 'flask mola',\n",
       "  'done': False,\n",
       "  'id': 3,\n",
       "  'title': 'probando repl.it'}]"
      ]
     },
     "execution_count": 9,
     "metadata": {},
     "output_type": "execute_result"
    }
   ],
   "source": [
    "url = \"https://neighboringantiqueequation--polyrand.repl.co/lista/api/v1/tareas\"\n",
    "\n",
    "res = requests.get(url)\n",
    "\n",
    "data = res.json()\n",
    "\n",
    "data[\"tareas\"]"
   ]
  },
  {
   "cell_type": "code",
   "execution_count": null,
   "metadata": {},
   "outputs": [],
   "source": []
  }
 ],
 "metadata": {
  "kernelspec": {
   "display_name": "avanzado",
   "language": "python",
   "name": "avanzado"
  },
  "language_info": {
   "codemirror_mode": {
    "name": "ipython",
    "version": 3
   },
   "file_extension": ".py",
   "mimetype": "text/x-python",
   "name": "python",
   "nbconvert_exporter": "python",
   "pygments_lexer": "ipython3",
   "version": "3.7.7"
  }
 },
 "nbformat": 4,
 "nbformat_minor": 4
}
