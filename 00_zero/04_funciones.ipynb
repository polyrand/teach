{
 "cells": [
  {
   "cell_type": "markdown",
   "metadata": {},
   "source": [
    "# Funciones"
   ]
  },
  {
   "cell_type": "code",
   "execution_count": null,
   "metadata": {},
   "outputs": [],
   "source": [
    "x = 1"
   ]
  },
  {
   "cell_type": "code",
   "execution_count": null,
   "metadata": {},
   "outputs": [
    {
     "name": "stdout",
     "output_type": "stream",
     "text": [
      "1\n"
     ]
    }
   ],
   "source": [
    "print(x)"
   ]
  },
  {
   "cell_type": "code",
   "execution_count": null,
   "metadata": {},
   "outputs": [],
   "source": [
    "def mifuncion():\n",
    "    print(\"dentro de la función\")"
   ]
  },
  {
   "cell_type": "code",
   "execution_count": null,
   "metadata": {},
   "outputs": [
    {
     "data": {
      "text/plain": [
       "<function __main__.mifuncion()>"
      ]
     },
     "execution_count": null,
     "metadata": {},
     "output_type": "execute_result"
    }
   ],
   "source": [
    "# no se ejecuta\n",
    "mifuncion"
   ]
  },
  {
   "cell_type": "code",
   "execution_count": null,
   "metadata": {},
   "outputs": [
    {
     "name": "stdout",
     "output_type": "stream",
     "text": [
      "dentro de la función\n"
     ]
    }
   ],
   "source": [
    "# usamos paréntesis para ejecutarla\n",
    "mifuncion()"
   ]
  },
  {
   "cell_type": "code",
   "execution_count": null,
   "metadata": {},
   "outputs": [],
   "source": [
    "def mifuncion(param1):\n",
    "    \n",
    "    print(param1)"
   ]
  },
  {
   "cell_type": "code",
   "execution_count": null,
   "metadata": {},
   "outputs": [
    {
     "name": "stdout",
     "output_type": "stream",
     "text": [
      "curso\n"
     ]
    }
   ],
   "source": [
    "mifuncion(\"curso\")"
   ]
  },
  {
   "cell_type": "code",
   "execution_count": null,
   "metadata": {},
   "outputs": [
    {
     "name": "stdout",
     "output_type": "stream",
     "text": [
      "una cadena de texto\n"
     ]
    }
   ],
   "source": [
    "mifuncion(param1 = \"una cadena de texto\")"
   ]
  },
  {
   "cell_type": "code",
   "execution_count": null,
   "metadata": {},
   "outputs": [],
   "source": [
    "def suma(a, b):\n",
    "    \n",
    "    resultado = a + b\n",
    "    print(\"El resultado es:\", resultado)\n",
    "    \n",
    "    return resultado"
   ]
  },
  {
   "cell_type": "code",
   "execution_count": null,
   "metadata": {},
   "outputs": [
    {
     "name": "stdout",
     "output_type": "stream",
     "text": [
      "El resultado es: 3\n"
     ]
    },
    {
     "data": {
      "text/plain": [
       "3"
      ]
     },
     "execution_count": null,
     "metadata": {},
     "output_type": "execute_result"
    }
   ],
   "source": [
    "suma(1, 2)"
   ]
  },
  {
   "cell_type": "code",
   "execution_count": null,
   "metadata": {},
   "outputs": [
    {
     "name": "stdout",
     "output_type": "stream",
     "text": [
      "El resultado es: 45\n"
     ]
    }
   ],
   "source": [
    "res = suma(20, 25)"
   ]
  },
  {
   "cell_type": "code",
   "execution_count": null,
   "metadata": {},
   "outputs": [
    {
     "data": {
      "text/plain": [
       "45"
      ]
     },
     "execution_count": null,
     "metadata": {},
     "output_type": "execute_result"
    }
   ],
   "source": [
    "res"
   ]
  },
  {
   "cell_type": "markdown",
   "metadata": {},
   "source": [
    "## Ejercicio 0\n",
    "\n",
    "Modificar la función `suma()` de manera que:\n",
    "\n",
    "* Si el parametro `a` es una cadena de texto, imprimir en pantalla `el parametro a es texto y debería ser un número`\n",
    "* Si el parametro `b` es una cadena de texto, imprimir en pantalla `el parametro b es texto y debería ser un número`\n",
    "\n",
    "* En ambos casos, si se cumple la condición, hacer un `return`.\n",
    "\n",
    "**Pistas**\n",
    "\n",
    "```python\n",
    "type(\"hola\") == str # True\n",
    "\n",
    "if isinstance(a, str):\n",
    "    ...\n",
    "\n",
    "if ...\n",
    "```"
   ]
  },
  {
   "cell_type": "markdown",
   "metadata": {},
   "source": [
    "\"Desempaquetar\" variables devueltas por una función."
   ]
  },
  {
   "cell_type": "code",
   "execution_count": null,
   "metadata": {},
   "outputs": [],
   "source": [
    "def suma(a, b):\n",
    "    \n",
    "    resultado = a + b\n",
    "    print(\"El resultado es:\", resultado)\n",
    "    \n",
    "    return resultado, a, b"
   ]
  },
  {
   "cell_type": "code",
   "execution_count": null,
   "metadata": {},
   "outputs": [
    {
     "name": "stdout",
     "output_type": "stream",
     "text": [
      "El resultado es: 6\n"
     ]
    }
   ],
   "source": [
    "res = suma(1,5)"
   ]
  },
  {
   "cell_type": "markdown",
   "metadata": {},
   "source": [
    "`res` es un `tuple` con los 3 valores que la función nos ha devuelto."
   ]
  },
  {
   "cell_type": "code",
   "execution_count": null,
   "metadata": {},
   "outputs": [
    {
     "data": {
      "text/plain": [
       "(6, 1, 5)"
      ]
     },
     "execution_count": null,
     "metadata": {},
     "output_type": "execute_result"
    }
   ],
   "source": [
    "res"
   ]
  },
  {
   "cell_type": "markdown",
   "metadata": {},
   "source": [
    "Así los \"desempaquetamos\":"
   ]
  },
  {
   "cell_type": "code",
   "execution_count": null,
   "metadata": {},
   "outputs": [
    {
     "name": "stdout",
     "output_type": "stream",
     "text": [
      "El resultado es: 6\n"
     ]
    }
   ],
   "source": [
    "res, var1, var2 = suma(1,5)"
   ]
  },
  {
   "cell_type": "code",
   "execution_count": null,
   "metadata": {},
   "outputs": [
    {
     "name": "stdout",
     "output_type": "stream",
     "text": [
      "6\n",
      "1\n",
      "5\n"
     ]
    }
   ],
   "source": [
    "print(res)\n",
    "print(var1)\n",
    "print(var2)"
   ]
  },
  {
   "cell_type": "markdown",
   "metadata": {},
   "source": [
    "Usamos `_` para indicar que queremos descartar esa variable."
   ]
  },
  {
   "cell_type": "code",
   "execution_count": null,
   "metadata": {},
   "outputs": [],
   "source": [
    "# no hagáis caso a esto, solo está aquí para que se cumpla lo que viene a continuación\n",
    "# cuando usamos `del` estamos indicándole a Python que elimine ese objecto. Se puede usar `del` con cualquier objecto de python.\n",
    "del res\n",
    "del var1\n",
    "del var2"
   ]
  },
  {
   "cell_type": "code",
   "execution_count": null,
   "metadata": {},
   "outputs": [
    {
     "name": "stdout",
     "output_type": "stream",
     "text": [
      "El resultado es: 6\n"
     ]
    }
   ],
   "source": [
    "res, var1, _ = suma(1,5)"
   ]
  },
  {
   "cell_type": "markdown",
   "metadata": {},
   "source": [
    "Si hacemos `print(var2)` nos dará error porque no exista. Se puede des-comentar esa línea para comprobarlo."
   ]
  },
  {
   "cell_type": "code",
   "execution_count": null,
   "metadata": {},
   "outputs": [
    {
     "name": "stdout",
     "output_type": "stream",
     "text": [
      "6\n",
      "1\n"
     ]
    }
   ],
   "source": [
    "print(res)\n",
    "print(var1)\n",
    "# print(var2)"
   ]
  },
  {
   "cell_type": "markdown",
   "metadata": {},
   "source": [
    "### Valores por defecto en los parámetros"
   ]
  },
  {
   "cell_type": "code",
   "execution_count": null,
   "metadata": {},
   "outputs": [],
   "source": [
    "def suma_por_defecto(a, b=2):\n",
    "    \n",
    "    print(\"A es:\", a)\n",
    "    print(\"B es:\", b)\n",
    "    \n",
    "    resultado = a + b\n",
    "\n",
    "    return resultado"
   ]
  },
  {
   "cell_type": "code",
   "execution_count": null,
   "metadata": {},
   "outputs": [
    {
     "name": "stdout",
     "output_type": "stream",
     "text": [
      "A es: 1\n",
      "B es: 2\n"
     ]
    },
    {
     "data": {
      "text/plain": [
       "3"
      ]
     },
     "execution_count": null,
     "metadata": {},
     "output_type": "execute_result"
    }
   ],
   "source": [
    "suma_por_defecto(1)"
   ]
  },
  {
   "cell_type": "code",
   "execution_count": null,
   "metadata": {},
   "outputs": [
    {
     "name": "stdout",
     "output_type": "stream",
     "text": [
      "A es: 1\n",
      "B es: 5\n"
     ]
    },
    {
     "data": {
      "text/plain": [
       "6"
      ]
     },
     "execution_count": null,
     "metadata": {},
     "output_type": "execute_result"
    }
   ],
   "source": [
    "suma_por_defecto(1, 5)"
   ]
  },
  {
   "cell_type": "code",
   "execution_count": null,
   "metadata": {},
   "outputs": [
    {
     "name": "stdout",
     "output_type": "stream",
     "text": [
      "A es: 1\n",
      "B es: 62\n"
     ]
    },
    {
     "data": {
      "text/plain": [
       "63"
      ]
     },
     "execution_count": null,
     "metadata": {},
     "output_type": "execute_result"
    }
   ],
   "source": [
    "suma_por_defecto(a=1, b=62)"
   ]
  },
  {
   "cell_type": "markdown",
   "metadata": {},
   "source": [
    "### Cuidado con usar listas como valor por defecto e una función!"
   ]
  },
  {
   "cell_type": "code",
   "execution_count": null,
   "metadata": {},
   "outputs": [],
   "source": [
    "def lista_con_valor(valor, mylist=[]):\n",
    "    \n",
    "    mylist.append(valor)\n",
    "\n",
    "    print(mylist)"
   ]
  },
  {
   "cell_type": "code",
   "execution_count": null,
   "metadata": {},
   "outputs": [
    {
     "name": "stdout",
     "output_type": "stream",
     "text": [
      "[1, 1, 1, 1, 1, 1, 1]\n"
     ]
    }
   ],
   "source": [
    "añadir_a_lista(valor=1)"
   ]
  },
  {
   "cell_type": "markdown",
   "metadata": {},
   "source": [
    "### Ejercicio 01\n",
    "\n",
    "```python\n",
    "def lista_con_valor(valor, mylist=[]):\n",
    "    \n",
    "    ######### AQUÍ ########\n",
    "    # check de la longitud de la lista\n",
    "    # si la longitud > 0 ---> mylist = []\n",
    "    # si la longitud == 0 ---> seguir normarl\n",
    "    \n",
    "    mylist.append(valor)\n",
    "    \n",
    "    ############\n",
    "    # aparte del print, usar un return\n",
    "    print(mylist)\n",
    "\n",
    "```\n",
    "\n",
    "* Por último, capturar la lista devuelta por ese `return`."
   ]
  },
  {
   "cell_type": "code",
   "execution_count": null,
   "metadata": {},
   "outputs": [],
   "source": [
    "### CODE"
   ]
  },
  {
   "cell_type": "markdown",
   "metadata": {},
   "source": [
    "### Ejercicio 02\n",
    "\n",
    "* Crear dos variables que sea una listas vacías (ya está hecho).\n",
    "* Iterar sobre todas las palabras de la lista (ya está hecho).\n",
    "* Crear una función llamada `contiene_letra(palabra, letra)`. Esta función devuelve `True` si la letra está en a palabra.\n",
    "* Si una palabra contiene \"e\", añadir a la primera de las listas anteriores.\n",
    "* Si contiene \"a\" imprimir la palabra.\n",
    "* Si no (no se cumple ninguna de las 2 condiciones), añadir a la segunda lista que hemos creado el ÍNDICE de esta palabra\n",
    "\n",
    "**Pistas**\n",
    "\n",
    "```python\n",
    "def check_ok(a, b):\n",
    "    return True\n",
    "\n",
    "if check_ok(1, 2):\n",
    "    print(\"Yes!\")\n",
    "```\n",
    "\n",
    "**Extra (avisadme de que tenéis hecha la parte de arriba antes de poneros con esto!)**:\n",
    "* Crear una lista nueva que sea una copia de esta pero invertida. Es decir, que empiece con \"language\" y termine con \"Python\".\n",
    "* Crear dos listas y que cada una de ellas sea la mitad de esta lista. Si esta lista tiene una longitud == *número impar* la primera de las dos listas debe ser la más larga. Por ejemplo, si la lista tiene longitud == 11, una lista deben ser los 6 primeros elementos y otra lista los últimos 5."
   ]
  },
  {
   "cell_type": "markdown",
   "metadata": {},
   "source": [
    "**Pistas ++**\n",
    "\n",
    "```python\n",
    "def contiene_letra(palabra, letra):\n",
    "\n",
    "    if ...:\n",
    "        return True\n",
    "    else:\n",
    "        return False\n",
    "\n",
    "for palabra in mylist:\n",
    "    if contiene_letra(palabra, ...):\n",
    "        # añadir a lista_con_e\n",
    "    if contiene_letra(palabra, ...):\n",
    "        # print\n",
    "\n",
    "    else:\n",
    "        # indice_de_palabra = mylist.???\n",
    "        # añadir a lista_indices el valor indice_de_palabra\n",
    "```"
   ]
  },
  {
   "cell_type": "code",
   "execution_count": null,
   "metadata": {},
   "outputs": [],
   "source": [
    "mylist = [\n",
    "    \"Python\",\n",
    "    \"was\",\n",
    "    \"conceived\",\n",
    "    \"in\",\n",
    "    \"the\",\n",
    "    \"late\",\n",
    "    \"1980s[34]\",\n",
    "    \"by\",\n",
    "    \"Guido\",\n",
    "    \"van\",\n",
    "    \"Rossum\",\n",
    "    \"at\",\n",
    "    \"Centrum\",\n",
    "    \"Wiskunde\",\n",
    "    \"&\",\n",
    "    \"Informatica\",\n",
    "    \"(CWI)\",\n",
    "    \"in\",\n",
    "    \"the\",\n",
    "    \"Netherlands\",\n",
    "    \"as\",\n",
    "    \"a\",\n",
    "    \"successor\",\n",
    "    \"to\",\n",
    "    \"the\",\n",
    "    \"ABC\",\n",
    "    \"language\",\n",
    "]"
   ]
  },
  {
   "cell_type": "code",
   "execution_count": null,
   "metadata": {},
   "outputs": [],
   "source": [
    "lista_con_e = []\n",
    "lista_indices = []\n",
    "\n",
    "for palabra in mylist:\n",
    "    \n",
    "    ### CODE ###"
   ]
  }
 ],
 "metadata": {
  "kernelspec": {
   "display_name": "teach",
   "language": "python",
   "name": "teach"
  },
  "language_info": {
   "codemirror_mode": {
    "name": "ipython",
    "version": 3
   },
   "file_extension": ".py",
   "mimetype": "text/x-python",
   "name": "python",
   "nbconvert_exporter": "python",
   "pygments_lexer": "ipython3",
   "version": "3.7.7"
  }
 },
 "nbformat": 4,
 "nbformat_minor": 4
}
