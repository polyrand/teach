{
 "cells": [
  {
   "cell_type": "markdown",
   "id": "floating-green",
   "metadata": {},
   "source": [
    "# Classes"
   ]
  },
  {
   "cell_type": "code",
   "execution_count": 1,
   "id": "delayed-learning",
   "metadata": {},
   "outputs": [],
   "source": [
    "class Coche:\n",
    "    def __init__(self, ruedas, potencia, color):\n",
    "        self.ruedas = ruedas\n",
    "        self.potencia = potencia\n",
    "        self.color = color\n",
    "        self.posicion = 0\n",
    "\n",
    "    def descripcion(self, palabra):\n",
    "\n",
    "        return f\"\"\"\n",
    "El coche es de color {self.color}\n",
    "El coche tiene {self.ruedas} ruedas\n",
    "Tengo una potencia de: {self.potencia}\n",
    "{palabra}\n",
    "        \"\"\".strip()\n",
    "\n",
    "    def moverme(self, longitud):\n",
    "\n",
    "        self.posicion += longitud\n",
    "\n",
    "        print(f\"Estoy en {self.posicion}\")\n",
    "\n",
    "        return True"
   ]
  },
  {
   "cell_type": "code",
   "execution_count": 2,
   "id": "relative-round",
   "metadata": {},
   "outputs": [],
   "source": [
    "renault = Coche(5, 190, \"rojo\")"
   ]
  },
  {
   "cell_type": "code",
   "execution_count": 3,
   "id": "separate-catalyst",
   "metadata": {},
   "outputs": [
    {
     "name": "stdout",
     "output_type": "stream",
     "text": [
      "El coche es de color rojo\n",
      "El coche tiene 5 ruedas\n",
      "Tengo una potencia de: 190\n",
      "python!!\n"
     ]
    }
   ],
   "source": [
    "print(renault.descripcion(\"python!!\"))"
   ]
  },
  {
   "cell_type": "code",
   "execution_count": 4,
   "id": "oriental-syndrome",
   "metadata": {},
   "outputs": [
    {
     "data": {
      "text/plain": [
       "5"
      ]
     },
     "execution_count": 4,
     "metadata": {},
     "output_type": "execute_result"
    }
   ],
   "source": [
    "renault.ruedas"
   ]
  },
  {
   "cell_type": "code",
   "execution_count": 5,
   "id": "rental-transport",
   "metadata": {},
   "outputs": [
    {
     "name": "stdout",
     "output_type": "stream",
     "text": [
      "Estoy en 4\n"
     ]
    },
    {
     "data": {
      "text/plain": [
       "True"
      ]
     },
     "execution_count": 5,
     "metadata": {},
     "output_type": "execute_result"
    }
   ],
   "source": [
    "renault.moverme(4)"
   ]
  },
  {
   "cell_type": "code",
   "execution_count": 6,
   "id": "enormous-touch",
   "metadata": {},
   "outputs": [
    {
     "data": {
      "text/plain": [
       "4"
      ]
     },
     "execution_count": 6,
     "metadata": {},
     "output_type": "execute_result"
    }
   ],
   "source": [
    "renault.posicion"
   ]
  },
  {
   "cell_type": "code",
   "execution_count": 8,
   "id": "exclusive-mainstream",
   "metadata": {},
   "outputs": [
    {
     "name": "stdout",
     "output_type": "stream",
     "text": [
      "Estoy en 14\n"
     ]
    },
    {
     "data": {
      "text/plain": [
       "True"
      ]
     },
     "execution_count": 8,
     "metadata": {},
     "output_type": "execute_result"
    }
   ],
   "source": [
    "renault.moverme(10)"
   ]
  },
  {
   "cell_type": "code",
   "execution_count": 9,
   "id": "nuclear-thomson",
   "metadata": {},
   "outputs": [
    {
     "name": "stdout",
     "output_type": "stream",
     "text": [
      "Estoy en -6\n",
      "-6\n"
     ]
    }
   ],
   "source": [
    "renault.moverme(-20)\n",
    "\n",
    "print(renault.posicion)"
   ]
  }
 ],
 "metadata": {
  "kernelspec": {
   "display_name": "Python 3",
   "language": "python",
   "name": "python3"
  },
  "language_info": {
   "codemirror_mode": {
    "name": "ipython",
    "version": 3
   },
   "file_extension": ".py",
   "mimetype": "text/x-python",
   "name": "python",
   "nbconvert_exporter": "python",
   "pygments_lexer": "ipython3",
   "version": "3.7.9"
  }
 },
 "nbformat": 4,
 "nbformat_minor": 5
}
