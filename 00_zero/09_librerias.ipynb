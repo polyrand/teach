{
 "cells": [
  {
   "cell_type": "markdown",
   "metadata": {},
   "source": [
    "# Importar y usar librerias"
   ]
  },
  {
   "cell_type": "code",
   "execution_count": null,
   "metadata": {},
   "outputs": [],
   "source": [
    "import math"
   ]
  },
  {
   "cell_type": "code",
   "execution_count": null,
   "metadata": {},
   "outputs": [
    {
     "data": {
      "text/plain": [
       "0.9427546655283462"
      ]
     },
     "execution_count": null,
     "metadata": {},
     "output_type": "execute_result"
    }
   ],
   "source": [
    "math.cos(0.34)"
   ]
  },
  {
   "cell_type": "code",
   "execution_count": null,
   "metadata": {},
   "outputs": [],
   "source": [
    "from math import cos"
   ]
  },
  {
   "cell_type": "code",
   "execution_count": null,
   "metadata": {},
   "outputs": [
    {
     "data": {
      "text/plain": [
       "0.9427546655283462"
      ]
     },
     "execution_count": null,
     "metadata": {},
     "output_type": "execute_result"
    }
   ],
   "source": [
    "cos(0.34)"
   ]
  },
  {
   "cell_type": "markdown",
   "metadata": {},
   "source": [
    "crear una funcion que:\n",
    "\n",
    "* reciva una `list` / `tuple`\n",
    "* reciva otro `valor`\n",
    "* convierta la `lista`/`set` en un `set`\n",
    "* me devueve `True` si el `valor` está en el `set`"
   ]
  },
  {
   "cell_type": "code",
   "execution_count": null,
   "metadata": {},
   "outputs": [],
   "source": [
    "# en mis_funciones.py\n",
    "\n",
    "def check_valor(lista_o_tuple, valor):\n",
    "    \n",
    "    nuevo_set = set(lista_o_tuple)\n",
    "    \n",
    "    if valor in nuevo_set:\n",
    "        return True\n",
    "    else:\n",
    "        return False"
   ]
  },
  {
   "cell_type": "code",
   "execution_count": null,
   "metadata": {},
   "outputs": [],
   "source": [
    "from mis_funciones import check_valor"
   ]
  },
  {
   "cell_type": "code",
   "execution_count": null,
   "metadata": {},
   "outputs": [],
   "source": [
    "check_valor([1,2,3,4], \"x\")"
   ]
  },
  {
   "cell_type": "code",
   "execution_count": null,
   "metadata": {},
   "outputs": [],
   "source": [
    "# en aplicacion.py\n",
    "\n",
    "\n",
    "from secrets import token_hex\n",
    "from math import sqrt\n",
    "\n",
    "\n",
    "num_calc = input(\"Numero para calcular la raiz: \")\n",
    "\n",
    "num_calc = int(num_calc)\n",
    "\n",
    "if num_calc < 0:\n",
    "    raise ValueError(f\"El número debe ser mayor de 0. Número introducido: {num_calc}\")\n",
    "    \n",
    "res = sqrt(num_calc)\n",
    "\n",
    "print(res)\n",
    "\n",
    "token_bytes = input(\"Longitud (en bytes) de tu contraseña: \")\n",
    "\n",
    "print(f\"Tu contraseña es: {token_hex(token_bytes)}\")"
   ]
  }
 ],
 "metadata": {
  "kernelspec": {
   "display_name": "Python 3",
   "language": "python",
   "name": "python3"
  },
  "language_info": {
   "codemirror_mode": {
    "name": "ipython",
    "version": 3
   },
   "file_extension": ".py",
   "mimetype": "text/x-python",
   "name": "python",
   "nbconvert_exporter": "python",
   "pygments_lexer": "ipython3",
   "version": "3.7.9"
  }
 },
 "nbformat": 4,
 "nbformat_minor": 4
}
