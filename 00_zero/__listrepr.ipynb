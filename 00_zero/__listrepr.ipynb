{
 "cells": [
  {
   "cell_type": "markdown",
   "metadata": {},
   "source": [
    "# Estructuras de datos"
   ]
  },
  {
   "cell_type": "markdown",
   "metadata": {},
   "source": [
    "```\n",
    "   +-------------------------------------------------------+\n",
    "   |   0    1    2    3    4    5    6    7    8    9      |\n",
    "   |  +----+----+----+----+----+----+----+----+----+----+  |\n",
    "0  |  |    |    |    |    |    |    |    |    |    |    |  |\n",
    "   |  |    |    |    |    |    |    |    |    |    |    |  |\n",
    "   |  +----+----+----+----+----+----+----+----+----+-----  |\n",
    "   |   0    1    2    3    4    5    6    7    8    9      |\n",
    "   |  +----+----+----+----+----+----+----+----+----+----+  |\n",
    "1  |  |    |    |    |    |    |    |    |    |    |    |  |\n",
    "   |  |    |    |    |    |    |    |    |    |    |    |  |\n",
    "   |  +----+----+----+----+----+----+----+----+----+----+  |\n",
    "   |                                                       |\n",
    "   +-------------------------------------------------------+\n",
    "```"
   ]
  },
  {
   "cell_type": "code",
   "execution_count": 72,
   "metadata": {},
   "outputs": [],
   "source": [
    "from typing import Iterable"
   ]
  },
  {
   "cell_type": "code",
   "execution_count": 74,
   "metadata": {},
   "outputs": [],
   "source": [
    "def list_repr(w: int = 4, h: int = 2, l: int = 10):\n",
    "    \n",
    "    # s0 = [f\"{n}{' '*(w-(len(str(n))-1))}\" for n in range(l)]\n",
    "    s0 = []\n",
    "    s1 = []\n",
    "    s2 = []\n",
    "\n",
    "    for n in range(l):\n",
    "\n",
    "        spaces = w - (len(str(n)) - 1)\n",
    "        s0.append(f\"{n}{' ' * spaces}\")\n",
    "\n",
    "        s1.append(f\"+{'-' * w}\")\n",
    "\n",
    "        s2.append(f\"|{' '*w}\")\n",
    "\n",
    "    # s1 = [f\"+{'-'*w}\" for n in range(l)]\n",
    "    # s2 = [f\"|{' '*w}\" for n in range(l)]\n",
    "    \n",
    "    s2f = \"\".join(s2) + \"|\"\n",
    "    s2fn = \"\".join(s2) + \"|\" + \"\\n\"\n",
    "\n",
    "    sf = f\"\"\" {\"\".join(s0)}\n",
    "{\"\".join(s1)}+\n",
    "{s2fn * (h-1)}{s2f}\n",
    "{\"\".join(s1)}+\n",
    "\"\"\"\n",
    "    return sf"
   ]
  },
  {
   "cell_type": "code",
   "execution_count": 75,
   "metadata": {},
   "outputs": [
    {
     "name": "stdout",
     "output_type": "stream",
     "text": [
      " 0       1       2       3       4       5       6       7       8       9       10      11      12      13      14      \n",
      "+-------+-------+-------+-------+-------+-------+-------+-------+-------+-------+-------+-------+-------+-------+-------+\n",
      "|       |       |       |       |       |       |       |       |       |       |       |       |       |       |       |\n",
      "|       |       |       |       |       |       |       |       |       |       |       |       |       |       |       |\n",
      "|       |       |       |       |       |       |       |       |       |       |       |       |       |       |       |\n",
      "+-------+-------+-------+-------+-------+-------+-------+-------+-------+-------+-------+-------+-------+-------+-------+\n",
      "\n"
     ]
    }
   ],
   "source": [
    "print(list_repr(7, 3, 15))"
   ]
  },
  {
   "cell_type": "code",
   "execution_count": 140,
   "metadata": {},
   "outputs": [],
   "source": [
    "# s1 = [f\"+{'-'*w}\" for n in range(l)]\n",
    "# s2 = [f\"|{' '*w}\" for n in range(l)]\n",
    "# extra_space = max_len_repr + 2 - 1\n",
    "# half1 = round(extra_space / 2)\n",
    "# half2 = extra_space - half1\n",
    "# s0 = [f\"{n}{' '*(w-(len(str(n))-1))}\" for n in range(l)]"
   ]
  },
  {
   "cell_type": "code",
   "execution_count": 179,
   "metadata": {},
   "outputs": [],
   "source": [
    "def get_repr(elem, l):\n",
    "\n",
    "    if len(str(elem)) > l:\n",
    "\n",
    "        return str(elem)[: l - 3] + \"...\"\n",
    "\n",
    "    return str(elem)\n",
    "\n",
    "\n",
    "def list_repr2(iterable: Iterable = None):\n",
    "\n",
    "    # h = 3\n",
    "\n",
    "    max_len = max((len(str(e)) for e in iterable))\n",
    "\n",
    "    # maximun length to print\n",
    "    max_len_repr = min(max_len, 10)\n",
    "\n",
    "    # nº of boxes to show\n",
    "    length = min(len(iterable), 10)\n",
    "\n",
    "    s0 = []\n",
    "    s1 = []\n",
    "    s2 = []\n",
    "\n",
    "    for n in range(length):\n",
    "\n",
    "        # max_len + 2 spaces, one each side\n",
    "        num = max_len_repr + 2\n",
    "\n",
    "        spaces = num - (len(str(n)) - 1)\n",
    "        s0.append(f\"{n}{' ' * spaces}\")\n",
    "\n",
    "        s1.append(f\"+{'-' * num}\")\n",
    "\n",
    "        s2.append(f\"|{' ' * num}\")\n",
    "\n",
    "    s2f = []\n",
    "\n",
    "    for elem in iterable[:length]:\n",
    "\n",
    "        extra_space = max_len_repr + 2 - len(get_repr(elem, max_len_repr))\n",
    "\n",
    "        half1 = round(extra_space / 2)\n",
    "        half2 = extra_space - half1\n",
    "\n",
    "        s2f.append(f\"|{' ' * half1}{get_repr(elem, max_len_repr)}{' ' * half2}\")\n",
    "\n",
    "    s2f = \"\".join(s2f) + \"|\"\n",
    "\n",
    "    s2fn = \"\".join(s2) + \"|\"\n",
    "    \n",
    "    placeholder = \"...\" if len(iterable) > length else \"\"\n",
    "    \n",
    "    sf = f\"\"\" {\"\".join(s0)}\n",
    "{\"\".join(s1)}+\n",
    "{s2fn}\n",
    "{s2f}\n",
    "{s2fn}\n",
    "{\"\".join(s1)}+{placeholder}\n",
    "\"\"\"\n",
    "    return sf"
   ]
  },
  {
   "cell_type": "code",
   "execution_count": 180,
   "metadata": {},
   "outputs": [
    {
     "name": "stdout",
     "output_type": "stream",
     "text": [
      " 0            1            2            3            4            5            6            7            8            9            \n",
      "+------------+------------+------------+------------+------------+------------+------------+------------+------------+------------+\n",
      "|            |            |            |            |            |            |            |            |            |            |\n",
      "|      1     |      2     | asdfgas... |    None    | 2.32561... |     -1     |     45     |     69     |      1     |      1     |\n",
      "|            |            |            |            |            |            |            |            |            |            |\n",
      "+------------+------------+------------+------------+------------+------------+------------+------------+------------+------------+...\n",
      "\n"
     ]
    }
   ],
   "source": [
    "print(\n",
    "    list_repr2(\n",
    "        [1, 2, \"asdfgasdasdasdasd\", None, 2.3256123123123, -1, 45, 69, 1, 1, 1, 1, 1, 1]\n",
    "    )\n",
    ")"
   ]
  },
  {
   "cell_type": "code",
   "execution_count": 146,
   "metadata": {},
   "outputs": [],
   "source": [
    "s0 = [f\" {n}   \" for n in range(10)]"
   ]
  },
  {
   "cell_type": "code",
   "execution_count": 19,
   "metadata": {},
   "outputs": [],
   "source": [
    "s1 = [f\"+----\" for n in range(10)]"
   ]
  },
  {
   "cell_type": "code",
   "execution_count": 16,
   "metadata": {},
   "outputs": [],
   "source": [
    "s3 = [f\"|    \" for n in range(10)]"
   ]
  },
  {
   "cell_type": "code",
   "execution_count": null,
   "metadata": {},
   "outputs": [],
   "source": [
    "sf = (\n",
    "    \"\".join(s0)\n",
    "    + \"\\n\"\n",
    "    + \"\".join(s2)\n",
    "    + \"\\n\"\n",
    "    + \"\".join(s3)\n",
    "    + \"\\n\"\n",
    "    + \"\".join(s3)\n",
    "    + \"\\n\"\n",
    "    + \"\".join(s2)\n",
    "    + \"\\n\"\n",
    ")"
   ]
  },
  {
   "cell_type": "code",
   "execution_count": 29,
   "metadata": {},
   "outputs": [],
   "source": [
    "sf = f\"\"\"{\"\".join(s0)}\n",
    "{\"\".join(s1)}+\n",
    "{\"\".join(s3)}|\n",
    "{\"\".join(s3)}|\n",
    "{\"\".join(s1)}+\n",
    "\"\"\""
   ]
  },
  {
   "cell_type": "code",
   "execution_count": 30,
   "metadata": {},
   "outputs": [
    {
     "name": "stdout",
     "output_type": "stream",
     "text": [
      " 0    1    2    3    4    5    6    7    8    9   \n",
      "+----+----+----+----+----+----+----+----+----+----+\n",
      "|    |    |    |    |    |    |    |    |    |    |\n",
      "|    |    |    |    |    |    |    |    |    |    |\n",
      "+----+----+----+----+----+----+----+----+----+----+\n",
      "\n"
     ]
    }
   ],
   "source": [
    "print(sf)"
   ]
  },
  {
   "cell_type": "code",
   "execution_count": null,
   "metadata": {},
   "outputs": [],
   "source": [
    " 0    1    2    3    4    5    6    7    8    9      |\n",
    "   |  +----+----+----+----+----+----+----+----+----+----+  |\n",
    "0  |  |    |    |    |    |    |    |    |    |    |    |  |\n",
    "   |  |    |    |    |    |    |    |    |    |    |    |  |\n",
    "   |  +----+-"
   ]
  },
  {
   "cell_type": "markdown",
   "metadata": {},
   "source": [
    "```\n",
    "\n",
    "                   índice (index)\n",
    "                       +\n",
    "                       |\n",
    "    +----------------------------------------------------------------------------------------------------------------------+\n",
    "    |            0 <---|                1                      2                    3                        4             |\n",
    "    | +---------------------+----------------------+---------------------+----------------------+------------------------+ |\n",
    "    | |                     |                      |                     |                      |                        | |\n",
    "    | |                     |                      |                     |                      |                        | |\n",
    "    | |                     |                      |                     |                      |                        | |\n",
    "    | |                     |                      |                     |                      |                        | |\n",
    "    | |                     |                      |                     |                      |                        | |\n",
    "    | |                     |                      |                     |                      |                        | |\n",
    "    | |                     |                      |                     |                      |                        | |\n",
    "0   | |                     |                      |                     |                      |                        | |\n",
    "    | |                     |                      |                     |                      |                        | |\n",
    "    | |                     |                      |                     |                      |                        | |\n",
    "    | |                     |                      |                     |                      |                        | |\n",
    "    | |                     |                      |                     |                      |                        | |\n",
    "    | |                     |                      |                     |                      |                        | |\n",
    "    | +------------------------------------------------------------------------------------------------------------------+ |\n",
    "    | +------------------------------------------------------------------------------------------------------------------+ |\n",
    "    | |                     |                      |                     |                      |                        | |\n",
    "    | |                     |                      |                     |                      |                        | |\n",
    "    | |                     |                      |                     |                      |                        | |\n",
    "    | |                     |                      |                     |                      |                        | |\n",
    "1   | |                     |                      |                     |                      |                        | |\n",
    "    | |                     |                      |                     |                      |                        | |\n",
    "    | |                     |                      |                     |                      |                        | |\n",
    "    | |                     |                      |                     |                      |                        | |\n",
    "    | |                     |                      |                     |                      |                        | |\n",
    "    | |                     |                      |                     |                      |                        | |\n",
    "    | |                     |                      |                     |                      |                        | |\n",
    "    | |                     |                      |                     |                      |                        | |\n",
    "    | |                     |                      |                     |                      |                        | |\n",
    "    | +---------------------+----------------------+---------------------+----------------------+------------------------+ |\n",
    "    |            0                      1                     2                     3                        4             |\n",
    "    +----------------------------------------------------------------------------------------------------------------------+\n",
    "\n",
    "\n",
    "```"
   ]
  },
  {
   "cell_type": "code",
   "execution_count": null,
   "metadata": {},
   "outputs": [],
   "source": []
  }
 ],
 "metadata": {
  "kernelspec": {
   "display_name": "teach",
   "language": "python",
   "name": "teach"
  },
  "language_info": {
   "codemirror_mode": {
    "name": "ipython",
    "version": 3
   },
   "file_extension": ".py",
   "mimetype": "text/x-python",
   "name": "python",
   "nbconvert_exporter": "python",
   "pygments_lexer": "ipython3",
   "version": "3.7.7"
  }
 },
 "nbformat": 4,
 "nbformat_minor": 4
}
