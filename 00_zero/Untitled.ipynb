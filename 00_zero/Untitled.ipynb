{
 "cells": [
  {
   "cell_type": "code",
   "execution_count": 26,
   "metadata": {},
   "outputs": [],
   "source": [
    "from base64 import b64decode, b64encode\n",
    "import requests"
   ]
  },
  {
   "cell_type": "code",
   "execution_count": 27,
   "metadata": {},
   "outputs": [],
   "source": [
    "u1 = \"aHR0cHM6Ly9yYXcuZ2l0aHVidXNlcmNvbnRlbnQuY29tL3BvbHlyYW5kL2FkdmVudG9mY29kZV8yMDIwL21haW4vZDAxL2lucHV0X3AxLnR4dA==\""
   ]
  },
  {
   "cell_type": "code",
   "execution_count": 28,
   "metadata": {},
   "outputs": [],
   "source": [
    "u2 = \"aHR0cHM6Ly9yYXcuZ2l0aHVidXNlcmNvbnRlbnQuY29tL3BvbHlyYW5kL2FkdmVudG9mY29kZV8yMDIwL21haW4vZDA2L2lucHV0LnR4dA==\""
   ]
  },
  {
   "cell_type": "code",
   "execution_count": 30,
   "metadata": {},
   "outputs": [],
   "source": [
    "with open(\"input_1.txt\", \"w\") as f:\n",
    "    f.write(requests.get(b64decode(u1).decode()).text)"
   ]
  },
  {
   "cell_type": "code",
   "execution_count": 31,
   "metadata": {},
   "outputs": [],
   "source": [
    "with open(\"input_2.txt\", \"w\") as f:\n",
    "    f.write(requests.get(b64decode(u2).decode()).text)"
   ]
  },
  {
   "cell_type": "markdown",
   "metadata": {},
   "source": [
    "El año 2021 se acerca, después de unos meses ajetreados, un grupo de científicos cree haber decubierto un nuevo virus, pero necesitan tu auda para descifrarlo. Tienes 2 códigos diferentes, el primero de ellos, `input_1.txt`, es una serie de números, necesitas buscar cuáles de esos 2 números **suman 2020**. Un vez que los encuentres, que número obtienes si multiplicas esos 2 números. Ejemplo:\n",
    "\n",
    "```\n",
    "1721 <- \n",
    "979\n",
    "366\n",
    "299 <-\n",
    "675\n",
    "1456\n",
    "\n",
    "Resultado = 1721 * 299\n",
    "```\n",
    "\n",
    "\n",
    "El segundo código, `input_2.txt`, es es una especie de código genético. Cada línea en blanco divide un grupo de genes diferentes. Los científicos necesitan saber cuantas letras únicas hay en cada grupo y después sumarlas. Ejemplo:\n",
    "\n",
    "```\n",
    "abc <- 3\n",
    "\n",
    "a <- 3\n",
    "b\n",
    "c\n",
    "\n",
    "ab <- 3\n",
    "ac\n",
    "\n",
    "a <- 1\n",
    "a\n",
    "a\n",
    "a\n",
    "\n",
    "b <- 1\n",
    "\n",
    "Resultado = 3 * 3 * 3 * 1\n",
    "```"
   ]
  },
  {
   "cell_type": "code",
   "execution_count": null,
   "metadata": {},
   "outputs": [],
   "source": []
  }
 ],
 "metadata": {
  "kernelspec": {
   "display_name": "teach",
   "language": "python",
   "name": "teach"
  },
  "language_info": {
   "codemirror_mode": {
    "name": "ipython",
    "version": 3
   },
   "file_extension": ".py",
   "mimetype": "text/x-python",
   "name": "python",
   "nbconvert_exporter": "python",
   "pygments_lexer": "ipython3",
   "version": "3.7.7"
  }
 },
 "nbformat": 4,
 "nbformat_minor": 4
}
