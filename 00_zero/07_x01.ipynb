{
 "cells": [
  {
   "cell_type": "markdown",
   "metadata": {},
   "source": [
    "### Ejercicio\n",
    "\n",
    "1. Copiar todo el texto y crear un string de Python. Se puede usar triple comilas (\"\"\") para copiar un string literal de varias lineas.\n",
    "2. Separar por grupos a lists.\n",
    "    * Donde ponga grupo 1 -> todos van a una misma lista\n",
    "    * Done ponga grupo 2 -> a otra lista\n",
    "    * Done ponga grupo 3 -> a otra lista\n",
    "    * Cuidado que tienen diferente formato.\n",
    "    \n",
    "3. Escribir cada grupo a un archivo.\n",
    "    * La lista del grupo 1 -> grupo1.txt (cada uno en una nueva línea).\n",
    "    * La lista del grupo 2 -> grupo2.txt (cada uno en una nueva línea).\n",
    "    * La lista del grupo 3 -> grupo3.txt (cada uno en una nueva línea).\n",
    "    \n",
    "**Extra**\n",
    "* De cada grupo imprimir los que empiezan por \"n\"\n",
    "\n",
    "**Extra 🔥**\n",
    "\n",
    "Crear una función que reciba como parámetro un string (que será un nombre de los de la lista). La función lee todos los archivos .txt que haya en esa carpeta. Si encuentra el nombre en el archivo **te devuelve el nombre de archivo .txt** donde está ese nombre.\n",
    "\n",
    "Por eejmplo, habrá un archivo llamado \"grupo1.txt\" que dentro tiene varias líneas de texto. Cada una es un nombre. Uno de esos nombres es \"iron man\". Nuestra función `buscar_nombre(nombre)` cuando la ejecutemos por ejemplo: `buscar_nombre(\"iron man\")`, nos devolverá (usando `return`, NO `print()`) una cadena de texto = `grupo1.txt`.\n",
    "\n",
    "Tips:\n",
    "* https://docs.python.org/3.7/library/glob.html\n",
    "* https://docs.python.org/3/library/pathlib.html"
   ]
  },
  {
   "cell_type": "code",
   "execution_count": null,
   "metadata": {},
   "outputs": [],
   "source": [
    "ss = \"\"\"\n",
    "iron man<grupo_1>\n",
    "doctor strange<group_3>\n",
    "spiderman<group_3>\n",
    "black widow<grupo_1>\n",
    "groot<group_3>\n",
    "quill<group_3>\n",
    "gamora<grupo-2>\n",
    "mantis<group_3>\n",
    "captain america<grupo_1>\n",
    "black panther<group_3>\n",
    "okoye<group_3>\n",
    "iron man<grupo_1>\n",
    "valkyrie<grupo_1>\n",
    "korg<grupo_1>\n",
    "bruce banner<grupo_1>\n",
    "vision<grupo-2>\n",
    "hawkeye<grupo_1>\n",
    "vision<grupo-2>\n",
    "thor<grupo_1>\n",
    "gamora<grupo-2>\n",
    "captain marvel<grupo_1>\n",
    "miek<grupo_1>\n",
    "nick fury<group_3>\n",
    "rocket<grupo_1>\n",
    "\"\"\""
   ]
  },
  {
   "cell_type": "code",
   "execution_count": null,
   "metadata": {},
   "outputs": [
    {
     "data": {
      "text/plain": [
       "['',\n",
       " 'iron man<grupo_1>',\n",
       " 'doctor strange<group_3>',\n",
       " 'spiderman<group_3>',\n",
       " 'black widow<grupo_1>',\n",
       " 'groot<group_3>',\n",
       " 'quill<group_3>',\n",
       " 'gamora<grupo-2>',\n",
       " 'mantis<group_3>',\n",
       " 'captain america<grupo_1>',\n",
       " 'black panther<group_3>',\n",
       " 'okoye<group_3>',\n",
       " 'iron man<grupo_1>',\n",
       " 'valkyrie<grupo_1>',\n",
       " 'korg<grupo_1>',\n",
       " 'bruce banner<grupo_1>',\n",
       " 'vision<grupo-2>',\n",
       " 'hawkeye<grupo_1>',\n",
       " 'vision<grupo-2>',\n",
       " 'thor<grupo_1>',\n",
       " 'gamora<grupo-2>',\n",
       " 'captain marvel<grupo_1>',\n",
       " 'miek<grupo_1>',\n",
       " 'nick fury<group_3>',\n",
       " 'rocket<grupo_1>',\n",
       " '']"
      ]
     },
     "execution_count": null,
     "metadata": {},
     "output_type": "execute_result"
    }
   ],
   "source": [
    "ss.split(\"\\n\")"
   ]
  },
  {
   "cell_type": "code",
   "execution_count": null,
   "metadata": {},
   "outputs": [],
   "source": [
    "personaje = ss.split(\"\\n\")[1:-1][0]"
   ]
  },
  {
   "cell_type": "code",
   "execution_count": null,
   "metadata": {},
   "outputs": [
    {
     "data": {
      "text/plain": [
       "'iron man'"
      ]
     },
     "execution_count": null,
     "metadata": {},
     "output_type": "execute_result"
    }
   ],
   "source": [
    "personaje.split(\"<\")[0]"
   ]
  },
  {
   "cell_type": "code",
   "execution_count": null,
   "metadata": {},
   "outputs": [
    {
     "data": {
      "text/plain": [
       "True"
      ]
     },
     "execution_count": null,
     "metadata": {},
     "output_type": "execute_result"
    }
   ],
   "source": [
    "\"1\" in personaje"
   ]
  },
  {
   "cell_type": "code",
   "execution_count": null,
   "metadata": {},
   "outputs": [
    {
     "data": {
      "text/plain": [
       "1"
      ]
     },
     "execution_count": null,
     "metadata": {},
     "output_type": "execute_result"
    }
   ],
   "source": [
    "int(personaje[-2])"
   ]
  },
  {
   "cell_type": "code",
   "execution_count": null,
   "metadata": {},
   "outputs": [],
   "source": [
    "grupo1 = []\n",
    "grupo2 = []\n",
    "grupo3 = []\n",
    "\n",
    "for line in ss.split(\"\\n\")[1:-1]:\n",
    "    person = line.split(\"<\")[0]\n",
    "    group = int(line[-2])\n",
    "    \n",
    "    # \"2\" in \"vision<grupo-2>\"\n",
    "\n",
    "    assert group in [1, 2, 3]\n",
    "\n",
    "    if group == 1:\n",
    "        grupo1.append(person)\n",
    "    elif group == 2:\n",
    "        grupo2.append(person)\n",
    "    else:\n",
    "        grupo3.append(person)"
   ]
  },
  {
   "cell_type": "code",
   "execution_count": null,
   "metadata": {},
   "outputs": [],
   "source": [
    "with open(\"grupo_1.txt\", \"w\") as f:\n",
    "    for person in grupo1:\n",
    "        f.write(f\"{person}\\n\")"
   ]
  },
  {
   "cell_type": "code",
   "execution_count": null,
   "metadata": {},
   "outputs": [],
   "source": [
    "with open(\"grupo_2.txt\", \"w\") as f:\n",
    "    for person in grupo2:\n",
    "        f.write(f\"{person}\\n\")"
   ]
  },
  {
   "cell_type": "code",
   "execution_count": null,
   "metadata": {},
   "outputs": [],
   "source": [
    "with open(\"grupo_3.txt\", \"w\") as f:\n",
    "    for person in grupo3:\n",
    "        f.write(f\"{person}\\n\")"
   ]
  },
  {
   "cell_type": "code",
   "execution_count": null,
   "metadata": {},
   "outputs": [],
   "source": [
    "from glob import glob"
   ]
  },
  {
   "cell_type": "code",
   "execution_count": null,
   "metadata": {},
   "outputs": [],
   "source": [
    "archivos_con_nombres = glob(\"grupo_*.txt\")"
   ]
  },
  {
   "cell_type": "code",
   "execution_count": null,
   "metadata": {},
   "outputs": [
    {
     "ename": "NameError",
     "evalue": "name 'data' is not defined",
     "output_type": "error",
     "traceback": [
      "\u001b[0;31m---------------------------------------------------------------------------\u001b[0m",
      "\u001b[0;31mNameError\u001b[0m                                 Traceback (most recent call last)",
      "\u001b[0;32m<ipython-input-33-25ee9c661711>\u001b[0m in \u001b[0;36m<module>\u001b[0;34m\u001b[0m\n\u001b[0;32m----> 1\u001b[0;31m \u001b[0;34m\"gamora\"\u001b[0m \u001b[0;32min\u001b[0m \u001b[0mdata\u001b[0m\u001b[0;34m\u001b[0m\u001b[0;34m\u001b[0m\u001b[0m\n\u001b[0m",
      "\u001b[0;31mNameError\u001b[0m: name 'data' is not defined"
     ]
    }
   ],
   "source": [
    "\"gamora\" in data"
   ]
  },
  {
   "cell_type": "code",
   "execution_count": null,
   "metadata": {},
   "outputs": [],
   "source": [
    "def buscar_nombre(nombre):\n",
    "    archivos_con_nombres = glob(\"grupo_*.txt\")\n",
    "    \n",
    "    for archivo in archivos_con_nombres:\n",
    "        with open(archivo, \"r\") as f:\n",
    "            data = f.read()\n",
    "            \n",
    "        if nombre in data:\n",
    "            return archivo"
   ]
  },
  {
   "cell_type": "code",
   "execution_count": null,
   "metadata": {},
   "outputs": [],
   "source": [
    "archivo_encontrado = buscar_nombre(nombre=\"vision\")"
   ]
  },
  {
   "cell_type": "code",
   "execution_count": null,
   "metadata": {},
   "outputs": [
    {
     "data": {
      "text/plain": [
       "'grupo_2.txt'"
      ]
     },
     "execution_count": null,
     "metadata": {},
     "output_type": "execute_result"
    }
   ],
   "source": [
    "archivo_encontrado"
   ]
  }
 ],
 "metadata": {
  "kernelspec": {
   "display_name": "teach",
   "language": "python",
   "name": "teach"
  },
  "language_info": {
   "codemirror_mode": {
    "name": "ipython",
    "version": 3
   },
   "file_extension": ".py",
   "mimetype": "text/x-python",
   "name": "python",
   "nbconvert_exporter": "python",
   "pygments_lexer": "ipython3",
   "version": "3.7.7"
  }
 },
 "nbformat": 4,
 "nbformat_minor": 4
}
