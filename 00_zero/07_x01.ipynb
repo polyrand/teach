{
 "cells": [
  {
   "cell_type": "markdown",
   "metadata": {},
   "source": [
    "### Ejercicio\n",
    "\n",
    "**Usando la cadena de texto ya escrita:**\n",
    "\n",
    "1. Separar por grupos a lists.\n",
    "    * Donde ponga grupo 1 -> todos van a una misma lista\n",
    "    * Done ponga grupo 2 -> a otra lista\n",
    "    * Done ponga grupo 3 -> a otra lista\n",
    "    * Cuidado que tienen diferente formato.\n",
    "    \n",
    "2. Escribir cada grupo a un archivo.\n",
    "    * La lista del grupo 1 -> grupo1.txt (cada uno en una nueva línea).\n",
    "    * La lista del grupo 2 -> grupo2.txt (cada uno en una nueva línea).\n",
    "    * La lista del grupo 3 -> grupo3.txt (cada uno en una nueva línea).\n",
    "    \n",
    "**Extra**\n",
    "* De cada grupo imprimir los que empiezan por \"n\"\n",
    "\n",
    "**Extra 🔥**\n",
    "\n",
    "Crear una función que reciba como parámetro un string (que será un nombre de los de la lista). La función lee todos los archivos .txt que haya en esa carpeta. Si encuentra el nombre en el archivo **te devuelve el nombre de archivo .txt** donde está ese nombre.\n",
    "\n",
    "Por eejmplo, habrá un archivo llamado \"grupo1.txt\" que dentro tiene varias líneas de texto. Cada una es un nombre. Uno de esos nombres es \"iron man\". Nuestra función `buscar_nombre(nombre)` cuando la ejecutemos por ejemplo: `buscar_nombre(\"iron man\")`, nos devolverá (usando `return`, NO `print()`) una cadena de texto = `grupo1.txt`.\n",
    "\n",
    "Tips:\n",
    "* https://docs.python.org/3.7/library/glob.html\n",
    "* https://docs.python.org/3/library/pathlib.html"
   ]
  },
  {
   "cell_type": "code",
   "execution_count": null,
   "metadata": {},
   "outputs": [],
   "source": [
    "ss = \"\"\"\n",
    "iron man<grupo_1>\n",
    "doctor strange<group_3>\n",
    "spiderman<group_3>\n",
    "black widow<grupo_1>\n",
    "groot<group_3>\n",
    "quill<group_3>\n",
    "gamora<grupo-2>\n",
    "mantis<group_3>\n",
    "captain america<grupo_1>\n",
    "black panther<group_3>\n",
    "okoye<group_3>\n",
    "iron man<grupo_1>\n",
    "valkyrie<grupo_1>\n",
    "korg<grupo_1>\n",
    "bruce banner<grupo_1>\n",
    "vision<grupo-2>\n",
    "hawkeye<grupo_1>\n",
    "vision<grupo-2>\n",
    "thor<grupo_1>\n",
    "gamora<grupo-2>\n",
    "captain marvel<grupo_1>\n",
    "miek<grupo_1>\n",
    "nick fury<group_3>\n",
    "rocket<grupo_1>\n",
    "\"\"\""
   ]
  },
  {
   "cell_type": "code",
   "execution_count": null,
   "metadata": {},
   "outputs": [
    {
     "data": {
      "text/plain": [
       "['',\n",
       " 'iron man<grupo_1>',\n",
       " 'doctor strange<group_3>',\n",
       " 'spiderman<group_3>',\n",
       " 'black widow<grupo_1>',\n",
       " 'groot<group_3>',\n",
       " 'quill<group_3>',\n",
       " 'gamora<grupo-2>',\n",
       " 'mantis<group_3>',\n",
       " 'captain america<grupo_1>',\n",
       " 'black panther<group_3>',\n",
       " 'okoye<group_3>',\n",
       " 'iron man<grupo_1>',\n",
       " 'valkyrie<grupo_1>',\n",
       " 'korg<grupo_1>',\n",
       " 'bruce banner<grupo_1>',\n",
       " 'vision<grupo-2>',\n",
       " 'hawkeye<grupo_1>',\n",
       " 'vision<grupo-2>',\n",
       " 'thor<grupo_1>',\n",
       " 'gamora<grupo-2>',\n",
       " 'captain marvel<grupo_1>',\n",
       " 'miek<grupo_1>',\n",
       " 'nick fury<group_3>',\n",
       " 'rocket<grupo_1>',\n",
       " '']"
      ]
     },
     "execution_count": null,
     "metadata": {},
     "output_type": "execute_result"
    }
   ],
   "source": [
    "ss.split(\"\\n\")"
   ]
  },
  {
   "cell_type": "code",
   "execution_count": null,
   "metadata": {},
   "outputs": [],
   "source": [
    "for e in ss.split(\"\\n\"):\n",
    "    if e == \"\":\n",
    "        continue\n",
    "    \n",
    "    print(e)"
   ]
  },
  {
   "cell_type": "code",
   "execution_count": null,
   "metadata": {},
   "outputs": [],
   "source": [
    "personaje = ss.split(\"\\n\")[1:-1][0]"
   ]
  },
  {
   "cell_type": "code",
   "execution_count": null,
   "metadata": {},
   "outputs": [
    {
     "data": {
      "text/plain": [
       "'iron man'"
      ]
     },
     "execution_count": null,
     "metadata": {},
     "output_type": "execute_result"
    }
   ],
   "source": [
    "personaje.split(\"<\")[0]"
   ]
  },
  {
   "cell_type": "code",
   "execution_count": null,
   "metadata": {},
   "outputs": [
    {
     "data": {
      "text/plain": [
       "True"
      ]
     },
     "execution_count": null,
     "metadata": {},
     "output_type": "execute_result"
    }
   ],
   "source": [
    "\"1\" in personaje"
   ]
  },
  {
   "cell_type": "code",
   "execution_count": null,
   "metadata": {},
   "outputs": [
    {
     "data": {
      "text/plain": [
       "1"
      ]
     },
     "execution_count": null,
     "metadata": {},
     "output_type": "execute_result"
    }
   ],
   "source": [
    "int(personaje[-2])"
   ]
  },
  {
   "cell_type": "code",
   "execution_count": null,
   "metadata": {},
   "outputs": [],
   "source": [
    "grupo1 = []\n",
    "grupo2 = []\n",
    "grupo3 = []\n",
    "\n",
    "for line in ss.split(\"\\n\")[1:-1]:\n",
    "    person = line.split(\"<\")[0]\n",
    "    group = int(line[-2])\n",
    "    \n",
    "    # \"2\" in \"vision<grupo-2>\"\n",
    "\n",
    "    assert group in [1, 2, 3]\n",
    "\n",
    "    if group == 1:\n",
    "        grupo1.append(person)\n",
    "    elif group == 2:\n",
    "        grupo2.append(person)\n",
    "    else:\n",
    "        grupo3.append(person)"
   ]
  },
  {
   "cell_type": "code",
   "execution_count": null,
   "metadata": {},
   "outputs": [],
   "source": [
    "grupo_1 = []\n",
    "grupo_2 = []\n",
    "grupo_3 = []\n",
    "\n",
    "\n",
    "# opcion 1\n",
    "lista_limpia = ss.split(\"\\n\")[1:-1]\n",
    "\n",
    "# mejor todavía\n",
    "lista_limpia = ss.strip().split(\"\\n\")\n",
    "\n",
    "for pers in lista_limpia:\n",
    "    \n",
    "    # NOMBRE\n",
    "    \n",
    "    # opcion 1\n",
    "    nombre = pers.split(\"<\")[0]\n",
    "    \n",
    "    # opcion 2\n",
    "    nombre = pers[:-9]\n",
    "\n",
    "    # GRUPOS\n",
    "    \n",
    "    # opcion 1\n",
    "    if \"1\" in pers:\n",
    "        grupo_1.append(nombre)\n",
    "    if \"2\" in pers:\n",
    "        grupo_2.append(nombre)\n",
    "    if \"3\" in pers:\n",
    "        grupo_3.append(nombre)\n",
    "\n",
    "    \n",
    "    # opcion 2\n",
    "    grupo = int(pers[-2])\n",
    "    \n",
    "    if grupo == 1:\n",
    "        grupo_1.append(nombre)\n",
    "    if grupo == 2:\n",
    "        grupo_2.append(nombre)\n",
    "    if grupo == 3:\n",
    "        grupo_3.append(nombre)\n",
    "\n",
    "    if pers.startswith(\"n\"):\n",
    "        print(pers)\n",
    "\n",
    "\n",
    "grupo_1, grupo_2, grupo_3"
   ]
  },
  {
   "cell_type": "code",
   "execution_count": null,
   "metadata": {},
   "outputs": [],
   "source": [
    "with open(\"grupo_1.txt\", \"w\") as f:\n",
    "    for person in grupo1:\n",
    "        f.write(f\"{person}\\n\")"
   ]
  },
  {
   "cell_type": "code",
   "execution_count": null,
   "metadata": {},
   "outputs": [],
   "source": [
    "with open(\"grupo_2.txt\", \"w\") as f:\n",
    "    for person in grupo2:\n",
    "        f.write(f\"{person}\\n\")"
   ]
  },
  {
   "cell_type": "code",
   "execution_count": null,
   "metadata": {},
   "outputs": [],
   "source": [
    "with open(\"grupo_3.txt\", \"w\") as f:\n",
    "    for person in grupo3:\n",
    "        f.write(f\"{person}\\n\")"
   ]
  },
  {
   "cell_type": "code",
   "execution_count": null,
   "metadata": {},
   "outputs": [],
   "source": [
    "from glob import glob"
   ]
  },
  {
   "cell_type": "code",
   "execution_count": null,
   "metadata": {},
   "outputs": [],
   "source": [
    "archivos_con_nombres = glob(\"grupo_*.txt\")"
   ]
  },
  {
   "cell_type": "code",
   "execution_count": null,
   "metadata": {},
   "outputs": [],
   "source": [
    "def buscar_nombre(nombre):\n",
    "    archivos_con_nombres = glob(\"grupo_*.txt\")\n",
    "    \n",
    "    for archivo in archivos_con_nombres:\n",
    "        with open(archivo, \"r\") as f:\n",
    "            data = f.read()\n",
    "            \n",
    "        if nombre in data:\n",
    "            return archivo"
   ]
  },
  {
   "cell_type": "code",
   "execution_count": null,
   "metadata": {},
   "outputs": [],
   "source": [
    "archivo_encontrado = buscar_nombre(nombre=\"vision\")"
   ]
  },
  {
   "cell_type": "code",
   "execution_count": null,
   "metadata": {},
   "outputs": [
    {
     "data": {
      "text/plain": [
       "'grupo_2.txt'"
      ]
     },
     "execution_count": null,
     "metadata": {},
     "output_type": "execute_result"
    }
   ],
   "source": [
    "archivo_encontrado"
   ]
  },
  {
   "cell_type": "code",
   "execution_count": null,
   "metadata": {},
   "outputs": [],
   "source": [
    "# otra opcion\n",
    "\n",
    "\n",
    "def genera_txt(num_grupo):\n",
    "    grupo_num_grupo = []\n",
    "\n",
    "    for elemento in ss.split(\"\\n\"):\n",
    "        if elemento.endswith(f\"{num_grupo}>\"):\n",
    "            grupo_num_grupo.append(elemento)\n",
    "\n",
    "    with open(f\"grupo{num_grupo}.txt\", \"w\") as f:\n",
    "        for p in grupo_num_grupo:\n",
    "            p = p.split(\"<\")[0]\n",
    "            f.write(p + \"\\n\")\n",
    "\n",
    "\n",
    "genera_txt(1)"
   ]
  }
 ],
 "metadata": {
  "kernelspec": {
   "display_name": "teach",
   "language": "python",
   "name": "teach"
  },
  "language_info": {
   "codemirror_mode": {
    "name": "ipython",
    "version": 3
   },
   "file_extension": ".py",
   "mimetype": "text/x-python",
   "name": "python",
   "nbconvert_exporter": "python",
   "pygments_lexer": "ipython3",
   "version": "3.7.7"
  }
 },
 "nbformat": 4,
 "nbformat_minor": 4
}
