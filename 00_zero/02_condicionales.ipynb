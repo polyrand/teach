{
 "cells": [
  {
   "cell_type": "markdown",
   "metadata": {},
   "source": [
    "# Condicionales"
   ]
  },
  {
   "cell_type": "markdown",
   "metadata": {},
   "source": [
    "Nuestro programas de Python son como un rio. Al igual que un rio baja de la parte más alta a la más baja. Nuestro programa se ejecuta desde la línea de más arriba hasta la de más abajo.\n",
    "\n",
    "Los condicionales son como si el río empezara a tener bifurcaciones. Cuando llegamos a una bifurcación nos hemos encontrado con una condición. Si esa condición se cumple iremos por un lado (a un bloque de código). Si no se cumple iremos por el otro (otro bloque de código).\n",
    "\n",
    "```\n",
    "                 +\n",
    "                 |\n",
    "                 |\n",
    "                 |\n",
    "                 |\n",
    "                 |\n",
    "                 |\n",
    "                 |\n",
    "                 |\n",
    "     +----------------+\n",
    "     |           |    |\n",
    "     +           |    v\n",
    "solo si no       |   if\n",
    "se cumple        +------------+\n",
    "     ^           |            |\n",
    "     +---+       |            |\n",
    "         |       |            +\n",
    "         |       |\n",
    "         |       |\n",
    "         +       |\n",
    "        elif     |\n",
    "    +----^-------+\n",
    "    |    |       |\n",
    "    |    |       |\n",
    "    |    |       |\n",
    "    +    |       |\n",
    "         |       |\n",
    "         |       |\n",
    "         |       |\n",
    "         |       |\n",
    "         +       |\n",
    "        elif     |\n",
    "    +------------+\n",
    "    |            |\n",
    "    |            |\n",
    "    |            |\n",
    "    +            |\n",
    "                 +\n",
    "\n",
    "                else\n",
    "\n",
    "                 +\n",
    "                 |\n",
    "                 |\n",
    "                 v\n",
    "\n",
    "\n",
    "```"
   ]
  },
  {
   "cell_type": "markdown",
   "metadata": {},
   "source": [
    "## operadores de python\n",
    "\n",
    "* ==  (Igual)\n",
    "* !=  (NO igual)\n",
    "* \\>   (Mayor que)\n",
    "* <   (Menor que)\n",
    "* \\>=  (Mayor o igual)\n",
    "* <=  (Menor o igual)\n"
   ]
  },
  {
   "cell_type": "code",
   "execution_count": null,
   "metadata": {},
   "outputs": [],
   "source": [
    "x = 0"
   ]
  },
  {
   "cell_type": "code",
   "execution_count": null,
   "metadata": {},
   "outputs": [],
   "source": [
    "y = 2"
   ]
  },
  {
   "cell_type": "code",
   "execution_count": null,
   "metadata": {},
   "outputs": [
    {
     "data": {
      "text/plain": [
       "True"
      ]
     },
     "execution_count": null,
     "metadata": {},
     "output_type": "execute_result"
    }
   ],
   "source": [
    "x < y"
   ]
  },
  {
   "cell_type": "code",
   "execution_count": null,
   "metadata": {},
   "outputs": [
    {
     "name": "stdout",
     "output_type": "stream",
     "text": [
      "No se cumple nada\n"
     ]
    }
   ],
   "source": [
    "if x > 2:\n",
    "    print(\"x es mayor de 2\")\n",
    "elif x < 0:\n",
    "    print(\"x es menor de 0\")\n",
    "else:\n",
    "    print(\"No se cumple nada\")"
   ]
  },
  {
   "cell_type": "code",
   "execution_count": null,
   "metadata": {},
   "outputs": [
    {
     "name": "stdout",
     "output_type": "stream",
     "text": [
      "la variable es un decimal\n"
     ]
    }
   ],
   "source": [
    "if type(10.25) == float:\n",
    "    print(\"la variable es un decimal\")"
   ]
  },
  {
   "cell_type": "code",
   "execution_count": null,
   "metadata": {},
   "outputs": [],
   "source": [
    "text = \"estamos en un\""
   ]
  },
  {
   "cell_type": "code",
   "execution_count": null,
   "metadata": {},
   "outputs": [
    {
     "name": "stdout",
     "output_type": "stream",
     "text": [
      "me voy de vacaciones\n"
     ]
    }
   ],
   "source": [
    "if text == \"estamos en un curso\":\n",
    "    print(1)\n",
    "else:\n",
    "    print(\"me voy de vacaciones\")"
   ]
  },
  {
   "cell_type": "code",
   "execution_count": null,
   "metadata": {},
   "outputs": [],
   "source": [
    "x = 13"
   ]
  },
  {
   "cell_type": "code",
   "execution_count": null,
   "metadata": {},
   "outputs": [],
   "source": [
    "x = x - 1"
   ]
  },
  {
   "cell_type": "code",
   "execution_count": null,
   "metadata": {},
   "outputs": [
    {
     "data": {
      "text/plain": [
       "12"
      ]
     },
     "execution_count": null,
     "metadata": {},
     "output_type": "execute_result"
    }
   ],
   "source": [
    "x"
   ]
  },
  {
   "cell_type": "code",
   "execution_count": null,
   "metadata": {},
   "outputs": [
    {
     "name": "stdout",
     "output_type": "stream",
     "text": [
      "asjdbaijsd\n"
     ]
    }
   ],
   "source": [
    "if x == 13:\n",
    "    print(\"asjdbaijsd\")"
   ]
  },
  {
   "cell_type": "markdown",
   "metadata": {},
   "source": [
    "**Ejercicio 01**\n",
    "\n",
    "Evaluar condiciones para `y`.\n",
    "\n",
    "* Si `y` es **menor de 2**; `x` debe ser = \"A\"\n",
    "* Si `y` es **menor de 8**; `x` debe ser = \"B\"\n",
    "* Si `y` es **igual a 10**; `x` debe ser = \"C\"\n",
    "* Si no se cumple nada: imprimir la cadena de texto `\"No se ha cumplido ninguna condición\"`\n",
    "\n",
    "\n",
    "Extra:\n",
    "* Si no se cumple nada. Restarle `1` a `y`. Es decir, si llegamos al else y el valor de `y` era `10`, convertirlo en `9`.\n",
    "* **Dentro del `else`,** crear un nuevo `if`, y si se cumple que `y < 1`, imprimir \"done\""
   ]
  },
  {
   "cell_type": "code",
   "execution_count": null,
   "metadata": {},
   "outputs": [],
   "source": [
    "x = None\n",
    "y = 20"
   ]
  },
  {
   "cell_type": "code",
   "execution_count": 1,
   "metadata": {},
   "outputs": [],
   "source": [
    "## CODE"
   ]
  },
  {
   "cell_type": "code",
   "execution_count": null,
   "metadata": {},
   "outputs": [
    {
     "data": {
      "text/plain": [
       "'C'"
      ]
     },
     "execution_count": null,
     "metadata": {},
     "output_type": "execute_result"
    }
   ],
   "source": [
    "print(x)"
   ]
  }
 ],
 "metadata": {
  "kernelspec": {
   "display_name": "teach",
   "language": "python",
   "name": "teach"
  },
  "language_info": {
   "codemirror_mode": {
    "name": "ipython",
    "version": 3
   },
   "file_extension": ".py",
   "mimetype": "text/x-python",
   "name": "python",
   "nbconvert_exporter": "python",
   "pygments_lexer": "ipython3",
   "version": "3.7.7"
  }
 },
 "nbformat": 4,
 "nbformat_minor": 4
}
