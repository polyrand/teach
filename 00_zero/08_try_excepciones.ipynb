{
 "cells": [
  {
   "cell_type": "markdown",
   "metadata": {},
   "source": [
    "# Try, Except, Finally"
   ]
  },
  {
   "cell_type": "code",
   "execution_count": null,
   "metadata": {},
   "outputs": [],
   "source": [
    "midiccionario = {\n",
    "    \"valor1\": 23.4,\n",
    "    \"pi\": 3.14,\n",
    "    \"numero e\": 2.72,\n",
    "}"
   ]
  },
  {
   "cell_type": "code",
   "execution_count": null,
   "metadata": {},
   "outputs": [
    {
     "ename": "KeyError",
     "evalue": "'valor2'",
     "output_type": "error",
     "traceback": [
      "\u001b[0;31m---------------------------------------------------------------------------\u001b[0m",
      "\u001b[0;31mKeyError\u001b[0m                                  Traceback (most recent call last)",
      "\u001b[0;32m<ipython-input-16-2abc577d801f>\u001b[0m in \u001b[0;36m<module>\u001b[0;34m\u001b[0m\n\u001b[0;32m----> 1\u001b[0;31m \u001b[0mmidiccionario\u001b[0m\u001b[0;34m[\u001b[0m\u001b[0;34m\"valor2\"\u001b[0m\u001b[0;34m]\u001b[0m\u001b[0;34m\u001b[0m\u001b[0;34m\u001b[0m\u001b[0m\n\u001b[0m",
      "\u001b[0;31mKeyError\u001b[0m: 'valor2'"
     ]
    }
   ],
   "source": [
    "midiccionario[\"valor2\"]"
   ]
  },
  {
   "cell_type": "code",
   "execution_count": null,
   "metadata": {},
   "outputs": [
    {
     "name": "stdout",
     "output_type": "stream",
     "text": [
      "23.4\n",
      "ERROR!!!\n"
     ]
    }
   ],
   "source": [
    "try:\n",
    "    print(midiccionario[\"valor1\"])\n",
    "    x = 1 / 1\n",
    "    valor = int(\"asdf\")\n",
    "except KeyError:\n",
    "    print(\"hay un error, no existe la key\")\n",
    "except ZeroDivisionError:\n",
    "    print(\"vaya division es esa\")\n",
    "except Exception:\n",
    "    print(\"ERROR!!!\")"
   ]
  },
  {
   "cell_type": "code",
   "execution_count": null,
   "metadata": {},
   "outputs": [
    {
     "name": "stdout",
     "output_type": "stream",
     "text": [
      "un error\n"
     ]
    }
   ],
   "source": [
    "try:\n",
    "    x = 1 / 0\n",
    "except:\n",
    "    print(\"un error\")"
   ]
  },
  {
   "cell_type": "code",
   "execution_count": null,
   "metadata": {},
   "outputs": [],
   "source": [
    "d = {\"asd\": 2}"
   ]
  },
  {
   "cell_type": "code",
   "execution_count": null,
   "metadata": {},
   "outputs": [
    {
     "name": "stdout",
     "output_type": "stream",
     "text": [
      "Error class is:   <class 'ZeroDivisionError'>\n",
      "Error message is: division by zero\n"
     ]
    }
   ],
   "source": [
    "try:\n",
    "    x = 1 / 0\n",
    "    rr = d[\"a\"]\n",
    "except (KeyError, ZeroDivisionError) as err:\n",
    "    print(\"Error class is:  \", type(err))\n",
    "    print(\"Error message is:\", err)"
   ]
  },
  {
   "cell_type": "code",
   "execution_count": null,
   "metadata": {},
   "outputs": [
    {
     "name": "stdout",
     "output_type": "stream",
     "text": [
      "intentar algo aqui\n",
      "esto ocurre solo si lo anterior falla\n",
      "esto ocurre siempre, independientemente de lo anterior\n"
     ]
    }
   ],
   "source": [
    "try:\n",
    "    print(\"intentar algo aqui\")\n",
    "    x = 1 / 0\n",
    "except Exception:\n",
    "    print(\"esto ocurre solo si lo anterior falla\")\n",
    "else:\n",
    "    print(\"esto ocurre solo si lo anterior funciona bien\")\n",
    "finally:\n",
    "    print(\"esto ocurre siempre, independientemente de lo anterior\")"
   ]
  }
 ],
 "metadata": {
  "kernelspec": {
   "display_name": "Python 3",
   "language": "python",
   "name": "python3"
  },
  "language_info": {
   "codemirror_mode": {
    "name": "ipython",
    "version": 3
   },
   "file_extension": ".py",
   "mimetype": "text/x-python",
   "name": "python",
   "nbconvert_exporter": "python",
   "pygments_lexer": "ipython3",
   "version": "3.7.8"
  }
 },
 "nbformat": 4,
 "nbformat_minor": 4
}
