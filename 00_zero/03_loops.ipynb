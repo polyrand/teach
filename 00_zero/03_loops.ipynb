{
 "cells": [
  {
   "cell_type": "markdown",
   "metadata": {},
   "source": [
    "# Loops"
   ]
  },
  {
   "cell_type": "markdown",
   "metadata": {},
   "source": [
    "## While"
   ]
  },
  {
   "cell_type": "code",
   "execution_count": null,
   "metadata": {},
   "outputs": [],
   "source": [
    "y = 10"
   ]
  },
  {
   "cell_type": "code",
   "execution_count": null,
   "metadata": {},
   "outputs": [
    {
     "name": "stdout",
     "output_type": "stream",
     "text": [
      "Todavía no hemos llegado\n",
      "y tiene ahora el valor: 9\n",
      "Todavía no hemos llegado\n",
      "y tiene ahora el valor: 8\n",
      "Todavía no hemos llegado\n",
      "y tiene ahora el valor: 7\n",
      "Todavía no hemos llegado\n",
      "y tiene ahora el valor: 6\n",
      "Todavía no hemos llegado\n",
      "y tiene ahora el valor: 5\n",
      "Todavía no hemos llegado\n",
      "y tiene ahora el valor: 4\n",
      "Todavía no hemos llegado\n",
      "y tiene ahora el valor: 3\n",
      "Todavía no hemos llegado\n",
      "y tiene ahora el valor: 2\n",
      "Todavía no hemos llegado\n",
      "y tiene ahora el valor: 1\n",
      "Todavía no hemos llegado\n",
      "y tiene ahora el valor: 0\n",
      "he llegado a 0\n",
      "\n",
      "Todavía no hemos llegado\n",
      "y tiene ahora el valor: -1\n",
      "Todavía no hemos llegado\n",
      "y tiene ahora el valor: -2\n",
      "he llegado a -2, me salgo\n"
     ]
    }
   ],
   "source": [
    "while y > -4:\n",
    "    print(\"Todavía no hemos llegado\")\n",
    "    y -= 1\n",
    "    print(\"y tiene ahora el valor:\", y)\n",
    "    \n",
    "    if y == 0:\n",
    "        print(\"he llegado a 0\\n\")\n",
    "    \n",
    "    if y == -2:\n",
    "        print(\"he llegado a -2, me salgo\")\n",
    "        break"
   ]
  },
  {
   "cell_type": "markdown",
   "metadata": {},
   "source": [
    "## Ejercicio 01\n",
    "\n",
    "La torre agbar de Barcelona mide 114m. Tenemos cajas de 0.5 m. El primer día ponemos una caja. Cada día duplicamos el número de cajas.\n",
    "\n",
    "* ¿Cuantos días hacen falta para llegar o superar la altura de la torre?\n",
    "* ¿Cuantas cajas?"
   ]
  },
  {
   "cell_type": "code",
   "execution_count": null,
   "metadata": {},
   "outputs": [],
   "source": [
    "dias = 1\n",
    "cajas = 1\n",
    "\n",
    "### Variables\n",
    "\n",
    "\n",
    "## CODE"
   ]
  },
  {
   "cell_type": "code",
   "execution_count": null,
   "metadata": {},
   "outputs": [
    {
     "name": "stdout",
     "output_type": "stream",
     "text": [
      "9\n"
     ]
    }
   ],
   "source": [
    "print(dias)"
   ]
  },
  {
   "cell_type": "code",
   "execution_count": null,
   "metadata": {},
   "outputs": [
    {
     "name": "stdout",
     "output_type": "stream",
     "text": [
      "256\n"
     ]
    }
   ],
   "source": [
    "print(cajas)"
   ]
  },
  {
   "cell_type": "markdown",
   "metadata": {},
   "source": [
    "## For loops\n",
    "\n",
    "\n",
    "`for` elemento `in` estructura:  \n",
    "      *hacer algo*"
   ]
  },
  {
   "cell_type": "code",
   "execution_count": 1,
   "metadata": {},
   "outputs": [],
   "source": [
    "lista_miembros = [\n",
    "    \"susana\",\n",
    "    \"daniel\",\n",
    "    \"david\",\n",
    "    \"jaume\",\n",
    "    \"carles\",\n",
    "    \"euro\",\n",
    "    \"ivan\",\n",
    "    \"jesus\",\n",
    "    \"jordi\",\n",
    "    \"miguel\",\n",
    "    \"sebastian\",\n",
    "    \"victor\",\n",
    "]"
   ]
  },
  {
   "cell_type": "code",
   "execution_count": 2,
   "metadata": {},
   "outputs": [],
   "source": [
    "carles_in = False"
   ]
  },
  {
   "cell_type": "code",
   "execution_count": 3,
   "metadata": {},
   "outputs": [
    {
     "data": {
      "text/plain": [
       "False"
      ]
     },
     "execution_count": 3,
     "metadata": {},
     "output_type": "execute_result"
    }
   ],
   "source": [
    "carles_in"
   ]
  },
  {
   "cell_type": "code",
   "execution_count": 4,
   "metadata": {},
   "outputs": [
    {
     "name": "stdout",
     "output_type": "stream",
     "text": [
      "no eres carles\n",
      "no eres carles\n",
      "no eres carles\n",
      "no eres carles\n",
      "En la lista está: carles\n",
      "Carles está en el index 4\n",
      "no eres carles\n",
      "no eres carles\n",
      "no eres carles\n",
      "no eres carles\n",
      "no eres carles\n",
      "no eres carles\n",
      "no eres carles\n"
     ]
    }
   ],
   "source": [
    "for miembro in lista_miembros:\n",
    "    if miembro == \"carles\":\n",
    "        carlos_in = True\n",
    "        print(\"En la lista está:\", miembro)\n",
    "        print(\"Carles está en el index\", lista_miembros.index(\"carles\"))\n",
    "    else:\n",
    "        print(\"no eres carles\")"
   ]
  },
  {
   "cell_type": "code",
   "execution_count": null,
   "metadata": {},
   "outputs": [
    {
     "data": {
      "text/plain": [
       "True"
      ]
     },
     "execution_count": null,
     "metadata": {},
     "output_type": "execute_result"
    }
   ],
   "source": [
    "carlos_in"
   ]
  },
  {
   "cell_type": "code",
   "execution_count": null,
   "metadata": {},
   "outputs": [
    {
     "name": "stdout",
     "output_type": "stream",
     "text": [
      "0\n",
      "1\n",
      "2\n",
      "3\n",
      "4\n",
      "5\n",
      "6\n",
      "7\n",
      "8\n",
      "9\n"
     ]
    }
   ],
   "source": [
    "for i in range(0, 10):\n",
    "    print(i)"
   ]
  },
  {
   "cell_type": "markdown",
   "metadata": {},
   "source": [
    "**Multiple `break`**"
   ]
  },
  {
   "cell_type": "code",
   "execution_count": null,
   "metadata": {},
   "outputs": [],
   "source": [
    "y = 10\n",
    "\n",
    "import random"
   ]
  },
  {
   "cell_type": "code",
   "execution_count": null,
   "metadata": {},
   "outputs": [],
   "source": [
    "vals = [random.randint(0,20) for _ in range(20)]"
   ]
  },
  {
   "cell_type": "code",
   "execution_count": null,
   "metadata": {},
   "outputs": [],
   "source": [
    "vals"
   ]
  },
  {
   "cell_type": "code",
   "execution_count": null,
   "metadata": {},
   "outputs": [],
   "source": [
    "while y > -4:\n",
    "    print(\"running\")\n",
    "\n",
    "    for v in vals:\n",
    "        print(\"iterando lista\")\n",
    "        if v == 19:\n",
    "            print(\"llego al break dentro del for loop\")\n",
    "            break\n",
    "        else:\n",
    "            print(v)\n",
    "\n",
    "    if y == -2:\n",
    "        print(\"break dentro del while\")\n",
    "        break\n",
    "\n",
    "    print(\"menos 1\")\n",
    "    y -= 1"
   ]
  }
 ],
 "metadata": {
  "kernelspec": {
   "display_name": "teach",
   "language": "python",
   "name": "teach"
  },
  "language_info": {
   "codemirror_mode": {
    "name": "ipython",
    "version": 3
   },
   "file_extension": ".py",
   "mimetype": "text/x-python",
   "name": "python",
   "nbconvert_exporter": "python",
   "pygments_lexer": "ipython3",
   "version": "3.7.7"
  }
 },
 "nbformat": 4,
 "nbformat_minor": 4
}
