{
 "cells": [
  {
   "cell_type": "markdown",
   "metadata": {},
   "source": [
    "**Opción 1**"
   ]
  },
  {
   "cell_type": "code",
   "execution_count": null,
   "metadata": {},
   "outputs": [],
   "source": [
    "def lista_con_valor(valor, mylist=[]):\n",
    "\n",
    "    if len(mylist) > 0:\n",
    "        mylist = []\n",
    "\n",
    "    mylist.append(valor)\n",
    "\n",
    "    return mylist"
   ]
  },
  {
   "cell_type": "markdown",
   "metadata": {},
   "source": [
    "**Opción 2**  \n",
    "Válido, pero estamos poniendo complejidad añadida de forma innecesaria."
   ]
  },
  {
   "cell_type": "code",
   "execution_count": null,
   "metadata": {},
   "outputs": [],
   "source": [
    "def lista_con_valor(valor, mylist=[]):\n",
    "    \n",
    "    mylist = mylist.clear()\n",
    "\n",
    "    mylist.append(valor)\n",
    "\n",
    "    return mylist"
   ]
  },
  {
   "cell_type": "markdown",
   "metadata": {},
   "source": [
    "**Opción 3**\n",
    "\n",
    "Forma correcta.\n",
    "\n",
    "Si queremos tener siempre una lista vacía al iniciar la ejecución de la función: ¿por qué no directamente declarar la variable DENTRO de la función?"
   ]
  },
  {
   "cell_type": "code",
   "execution_count": null,
   "metadata": {},
   "outputs": [],
   "source": [
    "def lista_con_valor(valor):\n",
    "\n",
    "    mylist = []\n",
    "\n",
    "    mylist.append(valor)\n",
    "\n",
    "    return mylist"
   ]
  },
  {
   "cell_type": "markdown",
   "metadata": {},
   "source": [
    "Crear una función para esto en Python no tendría ningún sentido. Si queremos añadir algo a una lista solo tenemos que usar directamente `.append()`. Los ejemplos se han usado para repasar lo que se ha visto al inicio y para tener en cuenta algunas consideraciones a la hora de programar.\n",
    "\n",
    "Y ante la duda -> Google"
   ]
  }
 ],
 "metadata": {
  "kernelspec": {
   "display_name": "teach",
   "language": "python",
   "name": "teach"
  },
  "language_info": {
   "codemirror_mode": {
    "name": "ipython",
    "version": 3
   },
   "file_extension": ".py",
   "mimetype": "text/x-python",
   "name": "python",
   "nbconvert_exporter": "python",
   "pygments_lexer": "ipython3",
   "version": "3.7.7"
  }
 },
 "nbformat": 4,
 "nbformat_minor": 4
}
