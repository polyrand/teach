{
 "cells": [
  {
   "cell_type": "markdown",
   "metadata": {},
   "source": [
    "### Ejercicio\n",
    "\n",
    "* Crear dos variables que sea una listas vacías\n",
    "* Buscar sobre todas las palabras de la lista.\n",
    "* Si una palabra contiene \"e\", añadir a la primera de las listas anteriores.\n",
    "* Si contiene \"a\" imprimir la palabra.\n",
    "* Si no, añadir a la segunda lista que hemos creado el ÍNDICE de esta palabra\n",
    "\n",
    "**Extra (avisadme de que tenéis hecha la parte de arriba antes de poneros con esto!)**:\n",
    "* Crear una lista nueva que sea una copia de esta pero invertida. Es decir, que empiece con \"language\" y termine con \"Python\".\n",
    "* Crear dos listas y que cada una de ellas sea la mitad de esta lista. Si esta lista tiene una longitud == *número impar* la primera de las dos listas debe ser la más larga. Por ejemplo, si la lista tiene longitud == 11, una lista deben ser los 6 primeros elementos y otra lista los últimos 5."
   ]
  },
  {
   "cell_type": "code",
   "execution_count": null,
   "metadata": {},
   "outputs": [],
   "source": [
    "mylist = [\n",
    "    \"Python\",\n",
    "    \"was\",\n",
    "    \"conceived\",\n",
    "    \"in\",\n",
    "    \"the\",\n",
    "    \"late\",\n",
    "    \"1980s[34]\",\n",
    "    \"by\",\n",
    "    \"Guido\",\n",
    "    \"van\",\n",
    "    \"Rossum\",\n",
    "    \"at\",\n",
    "    \"Centrum\",\n",
    "    \"Wiskunde\",\n",
    "    \"&\",\n",
    "    \"Informatica\",\n",
    "    \"(CWI)\",\n",
    "    \"in\",\n",
    "    \"the\",\n",
    "    \"Netherlands\",\n",
    "    \"as\",\n",
    "    \"a\",\n",
    "    \"successor\",\n",
    "    \"to\",\n",
    "    \"the\",\n",
    "    \"ABC\",\n",
    "    \"language\",\n",
    "]"
   ]
  },
  {
   "cell_type": "code",
   "execution_count": null,
   "metadata": {},
   "outputs": [
    {
     "name": "stdout",
     "output_type": "stream",
     "text": [
      "was\n",
      "late\n",
      "van\n",
      "at\n",
      "Informatica\n",
      "Netherlands\n",
      "as\n",
      "a\n",
      "language\n"
     ]
    }
   ],
   "source": [
    "lista_con_e = []\n",
    "lista_indices = []\n",
    "\n",
    "for palabra in mylist:\n",
    "    \n",
    "    ### CODE ###\n",
    "    if \"e\" in palabra:\n",
    "        lista_con_e.append(palabra)\n",
    "        \n",
    "    if \"a\" in palabra:\n",
    "        print(palabra)\n",
    "        \n",
    "    else:\n",
    "        indice = mylist.index(palabra)\n",
    "        lista_indices.append(indice)\n",
    "    "
   ]
  },
  {
   "cell_type": "code",
   "execution_count": null,
   "metadata": {},
   "outputs": [
    {
     "name": "stdout",
     "output_type": "stream",
     "text": [
      "nothing: Python\n",
      "was\n",
      "nothing: in\n",
      "late\n",
      "nothing: 1980s[34]\n",
      "nothing: by\n",
      "nothing: Guido\n",
      "van\n",
      "nothing: Rossum\n",
      "at\n",
      "nothing: &\n",
      "Informatica\n",
      "nothing: (CWI)\n",
      "nothing: in\n",
      "Netherlands\n",
      "as\n",
      "a\n",
      "nothing: to\n",
      "nothing: ABC\n",
      "language\n"
     ]
    }
   ],
   "source": [
    "lista_con_e = []\n",
    "lista_indices = []\n",
    "\n",
    "for palabra in mylist:\n",
    "\n",
    "    if \"e\" in palabra:\n",
    "        lista_con_e.append(palabra)\n",
    "\n",
    "    if \"a\" in palabra:\n",
    "        print(palabra)\n",
    "\n",
    "    if (\"e\" not in palabra) and (\"a\" not in palabra):\n",
    "        print(\"nothing:\", palabra)\n",
    "        lista_indices.append(mylist.index(palabra))"
   ]
  },
  {
   "cell_type": "markdown",
   "metadata": {},
   "source": [
    "Para ordenar una lista:"
   ]
  },
  {
   "cell_type": "code",
   "execution_count": null,
   "metadata": {},
   "outputs": [
    {
     "data": {
      "text/plain": [
       "['&',\n",
       " '(CWI)',\n",
       " 'ABC',\n",
       " '1980s[34]',\n",
       " 'Informatica',\n",
       " 'a',\n",
       " 'conceived',\n",
       " 'the',\n",
       " 'late',\n",
       " 'Wiskunde',\n",
       " 'the',\n",
       " 'the',\n",
       " 'language',\n",
       " 'Rossum',\n",
       " 'Centrum',\n",
       " 'Python',\n",
       " 'in',\n",
       " 'van',\n",
       " 'in',\n",
       " 'Guido',\n",
       " 'to',\n",
       " 'successor',\n",
       " 'was',\n",
       " 'Netherlands',\n",
       " 'as',\n",
       " 'at',\n",
       " 'by']"
      ]
     },
     "execution_count": null,
     "metadata": {},
     "output_type": "execute_result"
    }
   ],
   "source": [
    "sorted(mylist)"
   ]
  },
  {
   "cell_type": "code",
   "execution_count": null,
   "metadata": {},
   "outputs": [],
   "source": [
    "primera_mitad = None\n",
    "segunda_mitad = None\n",
    "\n",
    "longitud = len(mylist)\n",
    "\n",
    "import math"
   ]
  },
  {
   "cell_type": "code",
   "execution_count": null,
   "metadata": {},
   "outputs": [
    {
     "data": {
      "text/plain": [
       "27"
      ]
     },
     "execution_count": null,
     "metadata": {},
     "output_type": "execute_result"
    }
   ],
   "source": [
    "len(mylist)"
   ]
  },
  {
   "cell_type": "code",
   "execution_count": null,
   "metadata": {},
   "outputs": [],
   "source": [
    "primera_mitad = math.ceil(longitud / 2)\n",
    "\n",
    "lista_m1 = mylist[:primera_mitad]\n",
    "\n",
    "lista_m2 = mylist[primera_mitad:]"
   ]
  },
  {
   "cell_type": "code",
   "execution_count": null,
   "metadata": {},
   "outputs": [],
   "source": [
    "# mylist[::-1]"
   ]
  },
  {
   "cell_type": "code",
   "execution_count": null,
   "metadata": {},
   "outputs": [],
   "source": [
    "lista_invertida = list(reversed(mylist))"
   ]
  },
  {
   "cell_type": "code",
   "execution_count": null,
   "metadata": {},
   "outputs": [
    {
     "data": {
      "text/plain": [
       "<list_reverseiterator at 0x10b061710>"
      ]
     },
     "execution_count": null,
     "metadata": {},
     "output_type": "execute_result"
    }
   ],
   "source": [
    "reversed(mylist)"
   ]
  }
 ],
 "metadata": {
  "kernelspec": {
   "display_name": "teach",
   "language": "python",
   "name": "teach"
  },
  "language_info": {
   "codemirror_mode": {
    "name": "ipython",
    "version": 3
   },
   "file_extension": ".py",
   "mimetype": "text/x-python",
   "name": "python",
   "nbconvert_exporter": "python",
   "pygments_lexer": "ipython3",
   "version": "3.7.7"
  }
 },
 "nbformat": 4,
 "nbformat_minor": 4
}
