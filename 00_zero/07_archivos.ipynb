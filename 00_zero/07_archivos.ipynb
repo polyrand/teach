{
 "cells": [
  {
   "cell_type": "markdown",
   "metadata": {},
   "source": [
    "# Files"
   ]
  },
  {
   "cell_type": "code",
   "execution_count": null,
   "metadata": {},
   "outputs": [],
   "source": [
    "#######\n",
    "# este código es solo para descargar el archivo de ejemplo\n",
    "# no es parte del contenido de este tema\n",
    "import os\n",
    "import requests\n",
    "\n",
    "if not \"demofile.txt\" in os.listdir():\n",
    "\n",
    "    text = requests.get(\n",
    "        \"https://raw.githubusercontent.com/polyrand/teach/master/archivos/demofile.txt\"\n",
    "    ).content\n",
    "\n",
    "    with open(\"demofile.txt\", \"wb\") as f:\n",
    "        f.write(text)\n",
    "\n",
    "# fin del código\n",
    "#######"
   ]
  },
  {
   "cell_type": "code",
   "execution_count": null,
   "metadata": {},
   "outputs": [],
   "source": [
    "f = open(\"demofile.txt\", \"r\")"
   ]
  },
  {
   "cell_type": "code",
   "execution_count": null,
   "metadata": {},
   "outputs": [
    {
     "data": {
      "text/plain": [
       "'Python es un lenguaje de programación interpretado cuya filosofía hace hincapié en la legibilidad de su código.\\nSe trata de un lenguaje de programación multiparadigma, ya que soporta orientación a objetos, programación imperativa y, en menor medida, programación funcional. Es un lenguaje interpretado, dinámico y multiplataforma.\\n\\nEs administrado por la Python Software Foundation. Posee una licencia de código abierto, denominada Python Software Foundation License,3 que es compatible con la Licencia pública general de GNU a partir de la versión 2.1.1, e incompatible en ciertas versiones anteriores.\\n'"
      ]
     },
     "execution_count": null,
     "metadata": {},
     "output_type": "execute_result"
    }
   ],
   "source": [
    "f.read()"
   ]
  },
  {
   "cell_type": "code",
   "execution_count": null,
   "metadata": {},
   "outputs": [
    {
     "data": {
      "text/plain": [
       "''"
      ]
     },
     "execution_count": null,
     "metadata": {},
     "output_type": "execute_result"
    }
   ],
   "source": [
    "f.read()"
   ]
  },
  {
   "cell_type": "code",
   "execution_count": null,
   "metadata": {},
   "outputs": [],
   "source": [
    "mitext = f.read()"
   ]
  },
  {
   "cell_type": "code",
   "execution_count": null,
   "metadata": {},
   "outputs": [
    {
     "data": {
      "text/plain": [
       "''"
      ]
     },
     "execution_count": null,
     "metadata": {},
     "output_type": "execute_result"
    }
   ],
   "source": [
    "f.read()"
   ]
  },
  {
   "cell_type": "markdown",
   "metadata": {},
   "source": [
    "SIEMPRE hay que cerrar el *handler*"
   ]
  },
  {
   "cell_type": "code",
   "execution_count": null,
   "metadata": {},
   "outputs": [],
   "source": [
    "f.close()"
   ]
  },
  {
   "cell_type": "markdown",
   "metadata": {},
   "source": [
    "Si iteramos sobre un archivo abierto por defector nos lo devuelve por líneas."
   ]
  },
  {
   "cell_type": "code",
   "execution_count": null,
   "metadata": {},
   "outputs": [
    {
     "name": "stdout",
     "output_type": "stream",
     "text": [
      "Python es un lenguaje de programación interpretado cuya filosofía hace hincapié en la legibilidad de su código.\n",
      "\n",
      "Se trata de un lenguaje de programación multiparadigma, ya que soporta orientación a objetos, programación imperativa y, en menor medida, programación funcional. Es un lenguaje interpretado, dinámico y multiplataforma.\n",
      "\n",
      "\n",
      "\n",
      "Es administrado por la Python Software Foundation. Posee una licencia de código abierto, denominada Python Software Foundation License,3 que es compatible con la Licencia pública general de GNU a partir de la versión 2.1.1, e incompatible en ciertas versiones anteriores.\n",
      "\n"
     ]
    }
   ],
   "source": [
    "f = open(\"demofile.txt\", \"r\")\n",
    "for x in f:\n",
    "    print(x)\n",
    "f.close()"
   ]
  },
  {
   "cell_type": "markdown",
   "metadata": {},
   "source": [
    "Modos de escritura:\n",
    "* `a` -> append\n",
    "* `w` -> write\n"
   ]
  },
  {
   "cell_type": "markdown",
   "metadata": {},
   "source": [
    "Usando un *context manager*. Se encagará de hacer `.close()` automáticamente.\n",
    "\n",
    "La variable `f` es como la variable de los `for` loops. Le damos el nombre que queramos y solo actúa dentro de ese contexto. Una vez termina la ejecución del bloque de código dentro del `with`, es variable deja de existir."
   ]
  },
  {
   "cell_type": "code",
   "execution_count": null,
   "metadata": {},
   "outputs": [],
   "source": [
    "# a -> append\n",
    "# w -> write\n",
    "with open(\"demofile_2.txt\", \"w\") as f:\n",
    "    f.write(\"texto nuevo durante el curso de python\")"
   ]
  },
  {
   "cell_type": "markdown",
   "metadata": {},
   "source": [
    "`.readlines()` nos devuelve una lista donde cada elemento es una línea del archivo."
   ]
  },
  {
   "cell_type": "code",
   "execution_count": null,
   "metadata": {},
   "outputs": [],
   "source": [
    "with open(\"demofile.txt\", \"r\") as f:\n",
    "    lineas = f.readlines()"
   ]
  },
  {
   "cell_type": "code",
   "execution_count": null,
   "metadata": {},
   "outputs": [
    {
     "data": {
      "text/plain": [
       "['Python es un lenguaje de programación interpretado cuya filosofía hace hincapié en la legibilidad de su código.\\n',\n",
       " 'Se trata de un lenguaje de programación multiparadigma, ya que soporta orientación a objetos, programación imperativa y, en menor medida, programación funcional. Es un lenguaje interpretado, dinámico y multiplataforma.\\n',\n",
       " '\\n',\n",
       " 'Es administrado por la Python Software Foundation. Posee una licencia de código abierto, denominada Python Software Foundation License,3 que es compatible con la Licencia pública general de GNU a partir de la versión 2.1.1, e incompatible en ciertas versiones anteriores.\\n']"
      ]
     },
     "execution_count": null,
     "metadata": {},
     "output_type": "execute_result"
    }
   ],
   "source": [
    "lineas"
   ]
  },
  {
   "cell_type": "code",
   "execution_count": null,
   "metadata": {},
   "outputs": [],
   "source": [
    "lineas_limpias = []"
   ]
  },
  {
   "cell_type": "code",
   "execution_count": null,
   "metadata": {},
   "outputs": [],
   "source": [
    "for lin in lineas:\n",
    "    l_limpia = lin.strip()\n",
    "    lineas_limpias.append(l_limpia)"
   ]
  },
  {
   "cell_type": "code",
   "execution_count": null,
   "metadata": {},
   "outputs": [
    {
     "data": {
      "text/plain": [
       "['Python es un lenguaje de programación interpretado cuya filosofía hace hincapié en la legibilidad de su código.',\n",
       " 'Se trata de un lenguaje de programación multiparadigma, ya que soporta orientación a objetos, programación imperativa y, en menor medida, programación funcional. Es un lenguaje interpretado, dinámico y multiplataforma.',\n",
       " '',\n",
       " 'Es administrado por la Python Software Foundation. Posee una licencia de código abierto, denominada Python Software Foundation License,3 que es compatible con la Licencia pública general de GNU a partir de la versión 2.1.1, e incompatible en ciertas versiones anteriores.']"
      ]
     },
     "execution_count": null,
     "metadata": {},
     "output_type": "execute_result"
    }
   ],
   "source": [
    "lineas_limpias"
   ]
  },
  {
   "cell_type": "code",
   "execution_count": null,
   "metadata": {},
   "outputs": [],
   "source": [
    "lineas_minus = []\n",
    "\n",
    "for l in lineas:\n",
    "    l = l.lower().strip()\n",
    "    if l != \"\":\n",
    "        lineas_minus.append(l + \"\\n\")"
   ]
  },
  {
   "cell_type": "code",
   "execution_count": null,
   "metadata": {},
   "outputs": [
    {
     "data": {
      "text/plain": [
       "['python es un lenguaje de programación interpretado cuya filosofía hace hincapié en la legibilidad de su código.\\n',\n",
       " 'se trata de un lenguaje de programación multiparadigma, ya que soporta orientación a objetos, programación imperativa y, en menor medida, programación funcional. es un lenguaje interpretado, dinámico y multiplataforma.\\n',\n",
       " 'es administrado por la python software foundation. posee una licencia de código abierto, denominada python software foundation license,3 que es compatible con la licencia pública general de gnu a partir de la versión 2.1.1, e incompatible en ciertas versiones anteriores.\\n']"
      ]
     },
     "execution_count": null,
     "metadata": {},
     "output_type": "execute_result"
    }
   ],
   "source": [
    "lineas_minus"
   ]
  },
  {
   "cell_type": "code",
   "execution_count": null,
   "metadata": {},
   "outputs": [],
   "source": [
    "# a -> append\n",
    "# w -> write\n",
    "with open(\"enminus.txt\", \"w\") as f:\n",
    "    f.writelines(lineas_minus)"
   ]
  },
  {
   "cell_type": "markdown",
   "metadata": {},
   "source": [
    "### Ejercicio\n",
    "\n",
    "1. Copiar todo el texto y crear un string de Python. Se puede usar triple comilas (\"\"\") para copiar un string literal de varias lineas.\n",
    "2. Separar por grupos a lists.\n",
    "    * Donde ponga grupo 1 -> todos van a una misma lista\n",
    "    * Done ponga grupo 2 -> a otra lista\n",
    "    * Done ponga grupo 3 -> a otra lista\n",
    "    * Cuidado que tienen diferente formato.\n",
    "    \n",
    "3. Escribir cada grupo a un archivo.\n",
    "    * La lista del grupo 1 -> grupo1.txt (cada uno en una nueva línea).\n",
    "    * La lista del grupo 2 -> grupo2.txt (cada uno en una nueva línea).\n",
    "    * La lista del grupo 3 -> grupo3.txt (cada uno en una nueva línea).\n",
    "    \n",
    "**Extra**\n",
    "* De cada grupo imprimir los que empiezan por \"n\"\n",
    "\n",
    "**Extra 🔥**\n",
    "\n",
    "Crear una función que reciba como parámetro un string (que será un nombre de los de la lista). La función lee todos los archivos .txt que haya en esa carpeta. Si encuentra el nombre en el archivo **te devuelve el nombre de archivo .txt** donde está ese nombre.\n",
    "\n",
    "Por eejmplo, habrá un archivo llamado \"grupo1.txt\" que dentro tiene varias líneas de texto. Cada una es un nombre. Uno de esos nombres es \"iron man\". Nuestra función `buscar_nombre(nombre)` cuando la ejecutemos por ejemplo: `buscar_nombre(\"iron man\")`, nos devolverá (usando `return`, NO `print()`) una cadena de texto = `grupo1.txt`.\n",
    "\n",
    "Tips:\n",
    "* https://docs.python.org/3.7/library/glob.html\n",
    "* https://docs.python.org/3/library/pathlib.html"
   ]
  },
  {
   "cell_type": "code",
   "execution_count": null,
   "metadata": {},
   "outputs": [],
   "source": [
    "ss = \"\"\"\n",
    "iron man<grupo_1>\n",
    "doctor strange<group_3>\n",
    "spiderman<group_3>\n",
    "black widow<grupo_1>\n",
    "groot<group_3>\n",
    "quill<group_3>\n",
    "gamora<grupo-2>\n",
    "mantis<group_3>\n",
    "captain america<grupo_1>\n",
    "black panther<group_3>\n",
    "okoye<group_3>\n",
    "iron man<grupo_1>\n",
    "valkyrie<grupo_1>\n",
    "korg<grupo_1>\n",
    "bruce banner<grupo_1>\n",
    "vision<grupo-2>\n",
    "hawkeye<grupo_1>\n",
    "vision<grupo-2>\n",
    "thor<grupo_1>\n",
    "gamora<grupo-2>\n",
    "captain marvel<grupo_1>\n",
    "miek<grupo_1>\n",
    "nick fury<group_3>\n",
    "rocket<grupo_1>\n",
    "\"\"\""
   ]
  },
  {
   "cell_type": "code",
   "execution_count": null,
   "metadata": {},
   "outputs": [
    {
     "data": {
      "text/plain": [
       "['',\n",
       " 'iron man<grupo_1>',\n",
       " 'doctor strange<group_3>',\n",
       " 'spiderman<group_3>',\n",
       " 'black widow<grupo_1>',\n",
       " 'groot<group_3>',\n",
       " 'quill<group_3>',\n",
       " 'gamora<grupo-2>',\n",
       " 'mantis<group_3>',\n",
       " 'captain america<grupo_1>',\n",
       " 'black panther<group_3>',\n",
       " 'okoye<group_3>',\n",
       " 'iron man<grupo_1>',\n",
       " 'valkyrie<grupo_1>',\n",
       " 'korg<grupo_1>',\n",
       " 'bruce banner<grupo_1>',\n",
       " 'vision<grupo-2>',\n",
       " 'hawkeye<grupo_1>',\n",
       " 'vision<grupo-2>',\n",
       " 'thor<grupo_1>',\n",
       " 'gamora<grupo-2>',\n",
       " 'captain marvel<grupo_1>',\n",
       " 'miek<grupo_1>',\n",
       " 'nick fury<group_3>',\n",
       " 'rocket<grupo_1>',\n",
       " '']"
      ]
     },
     "execution_count": null,
     "metadata": {},
     "output_type": "execute_result"
    }
   ],
   "source": [
    "ss.split(\"\\n\")"
   ]
  },
  {
   "cell_type": "code",
   "execution_count": null,
   "metadata": {},
   "outputs": [],
   "source": [
    "personaje = ss.split(\"\\n\")[1:-1][0]"
   ]
  },
  {
   "cell_type": "code",
   "execution_count": null,
   "metadata": {},
   "outputs": [
    {
     "data": {
      "text/plain": [
       "'iron man'"
      ]
     },
     "execution_count": null,
     "metadata": {},
     "output_type": "execute_result"
    }
   ],
   "source": [
    "personaje.split(\"<\")[0]"
   ]
  },
  {
   "cell_type": "code",
   "execution_count": null,
   "metadata": {},
   "outputs": [
    {
     "data": {
      "text/plain": [
       "True"
      ]
     },
     "execution_count": null,
     "metadata": {},
     "output_type": "execute_result"
    }
   ],
   "source": [
    "\"1\" in personaje"
   ]
  },
  {
   "cell_type": "code",
   "execution_count": null,
   "metadata": {},
   "outputs": [
    {
     "data": {
      "text/plain": [
       "1"
      ]
     },
     "execution_count": null,
     "metadata": {},
     "output_type": "execute_result"
    }
   ],
   "source": [
    "int(personaje[-2])"
   ]
  },
  {
   "cell_type": "code",
   "execution_count": null,
   "metadata": {},
   "outputs": [],
   "source": [
    "grupo1 = []\n",
    "grupo2 = []\n",
    "grupo3 = []\n",
    "\n",
    "for line in ss.split(\"\\n\")[1:-1]:\n",
    "    person = line.split(\"<\")[0]\n",
    "    group = int(line[-2])\n",
    "    \n",
    "    # \"2\" in \"vision<grupo-2>\"\n",
    "\n",
    "    assert group in [1, 2, 3]\n",
    "\n",
    "    if group == 1:\n",
    "        grupo1.append(person)\n",
    "    elif group == 2:\n",
    "        grupo2.append(person)\n",
    "    else:\n",
    "        grupo3.append(person)"
   ]
  },
  {
   "cell_type": "code",
   "execution_count": null,
   "metadata": {},
   "outputs": [],
   "source": [
    "with open(\"grupo_1.txt\", \"w\") as f:\n",
    "    for person in grupo1:\n",
    "        f.write(f\"{person}\\n\")"
   ]
  },
  {
   "cell_type": "code",
   "execution_count": null,
   "metadata": {},
   "outputs": [],
   "source": [
    "with open(\"grupo_2.txt\", \"w\") as f:\n",
    "    for person in grupo2:\n",
    "        f.write(f\"{person}\\n\")"
   ]
  },
  {
   "cell_type": "code",
   "execution_count": null,
   "metadata": {},
   "outputs": [],
   "source": [
    "with open(\"grupo_3.txt\", \"w\") as f:\n",
    "    for person in grupo3:\n",
    "        f.write(f\"{person}\\n\")"
   ]
  },
  {
   "cell_type": "code",
   "execution_count": null,
   "metadata": {},
   "outputs": [],
   "source": [
    "from glob import glob"
   ]
  },
  {
   "cell_type": "code",
   "execution_count": null,
   "metadata": {},
   "outputs": [],
   "source": [
    "archivos_con_nombres = glob(\"grupo_*.txt\")"
   ]
  },
  {
   "cell_type": "code",
   "execution_count": null,
   "metadata": {},
   "outputs": [
    {
     "ename": "NameError",
     "evalue": "name 'data' is not defined",
     "output_type": "error",
     "traceback": [
      "\u001b[0;31m---------------------------------------------------------------------------\u001b[0m",
      "\u001b[0;31mNameError\u001b[0m                                 Traceback (most recent call last)",
      "\u001b[0;32m<ipython-input-33-25ee9c661711>\u001b[0m in \u001b[0;36m<module>\u001b[0;34m\u001b[0m\n\u001b[0;32m----> 1\u001b[0;31m \u001b[0;34m\"gamora\"\u001b[0m \u001b[0;32min\u001b[0m \u001b[0mdata\u001b[0m\u001b[0;34m\u001b[0m\u001b[0;34m\u001b[0m\u001b[0m\n\u001b[0m",
      "\u001b[0;31mNameError\u001b[0m: name 'data' is not defined"
     ]
    }
   ],
   "source": [
    "\"gamora\" in data"
   ]
  },
  {
   "cell_type": "code",
   "execution_count": null,
   "metadata": {},
   "outputs": [],
   "source": [
    "def buscar_nombre(nombre):\n",
    "    archivos_con_nombres = glob(\"grupo_*.txt\")\n",
    "    \n",
    "    for archivo in archivos_con_nombres:\n",
    "        with open(archivo, \"r\") as f:\n",
    "            data = f.read()\n",
    "            \n",
    "        if nombre in data:\n",
    "            return archivo"
   ]
  },
  {
   "cell_type": "code",
   "execution_count": null,
   "metadata": {},
   "outputs": [],
   "source": [
    "archivo_encontrado = buscar_nombre(nombre=\"vision\")"
   ]
  },
  {
   "cell_type": "code",
   "execution_count": null,
   "metadata": {},
   "outputs": [
    {
     "data": {
      "text/plain": [
       "'grupo_2.txt'"
      ]
     },
     "execution_count": null,
     "metadata": {},
     "output_type": "execute_result"
    }
   ],
   "source": [
    "archivo_encontrado"
   ]
  }
 ],
 "metadata": {
  "kernelspec": {
   "display_name": "Python 3",
   "language": "python",
   "name": "python3"
  },
  "language_info": {
   "codemirror_mode": {
    "name": "ipython",
    "version": 3
   },
   "file_extension": ".py",
   "mimetype": "text/x-python",
   "name": "python",
   "nbconvert_exporter": "python",
   "pygments_lexer": "ipython3",
   "version": "3.7.8"
  }
 },
 "nbformat": 4,
 "nbformat_minor": 4
}
