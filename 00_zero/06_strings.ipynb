{
 "cells": [
  {
   "cell_type": "markdown",
   "metadata": {},
   "source": [
    "# Strings!"
   ]
  },
  {
   "cell_type": "markdown",
   "metadata": {},
   "source": [
    "* .split()\n",
    "* .replace()\n",
    "* .lower()\n",
    "* .strip()\n",
    "* \"\".join(iterable)\n",
    "* f-strings\n",
    "    * `f\"texto {variable} text {mifuncion(parametro1, parametro2)}\"`"
   ]
  },
  {
   "cell_type": "code",
   "execution_count": null,
   "metadata": {},
   "outputs": [],
   "source": [
    "s = \"Python 2.0 was released, on 16 October 2000 with, many major new features Python\""
   ]
  },
  {
   "cell_type": "markdown",
   "metadata": {},
   "source": [
    "Split divide un string por el caracter que indiquemos. Si se deja vacio utiliza los espacios. Nos devuelve una lista con los items.\n",
    "\n",
    "El caracter por donde dividimos se elimina. Por ejemplo aquí dividimos la frase en 3 por las comas (,)."
   ]
  },
  {
   "cell_type": "code",
   "execution_count": null,
   "metadata": {},
   "outputs": [
    {
     "data": {
      "text/plain": [
       "['Python 2.0 was released',\n",
       " ' on 16 October 2000 with',\n",
       " ' many major new features']"
      ]
     },
     "execution_count": null,
     "metadata": {},
     "output_type": "execute_result"
    }
   ],
   "source": [
    "s.split(\",\")"
   ]
  },
  {
   "cell_type": "markdown",
   "metadata": {},
   "source": [
    "Podemos reemplazar partes del texto. También podemos encadenar métodos."
   ]
  },
  {
   "cell_type": "code",
   "execution_count": null,
   "metadata": {},
   "outputs": [
    {
     "data": {
      "text/plain": [
       "'Julia 2.0 was released, on 16 October 2000 with, many major new features Julia'"
      ]
     },
     "execution_count": null,
     "metadata": {},
     "output_type": "execute_result"
    }
   ],
   "source": [
    "s.replace(\"Python\", \"Julia\")"
   ]
  },
  {
   "cell_type": "code",
   "execution_count": null,
   "metadata": {},
   "outputs": [
    {
     "data": {
      "text/plain": [
       "'Julia 2.0 was released, on 16 October 2020 with, many major new features Julia'"
      ]
     },
     "execution_count": null,
     "metadata": {},
     "output_type": "execute_result"
    }
   ],
   "source": [
    "s.replace(\"Python\", \"Julia\").replace(\"2000\", \"2020\").split(\",\")"
   ]
  },
  {
   "cell_type": "code",
   "execution_count": null,
   "metadata": {},
   "outputs": [],
   "source": [
    "str_con_espacios = \"   aosidoasid string sucio  \""
   ]
  },
  {
   "cell_type": "markdown",
   "metadata": {},
   "source": [
    "`.strip()` elimina los espacios de los laterales,"
   ]
  },
  {
   "cell_type": "code",
   "execution_count": null,
   "metadata": {},
   "outputs": [
    {
     "data": {
      "text/plain": [
       "'aosidoasid string sucio'"
      ]
     },
     "execution_count": null,
     "metadata": {},
     "output_type": "execute_result"
    }
   ],
   "source": [
    "str_con_espacios.strip()"
   ]
  },
  {
   "cell_type": "markdown",
   "metadata": {},
   "source": [
    "`.lower()` convierte todo en minúsculas. Útil para asegurarnos de que trabajamos siempre con el texto igual y nos evitamos problemas ya que podríamos procesar de manera diferente una palabra que empiece o no por mayúsculas. Obviamente si las mayúsculas/minúsculas son importantes mejor no usarlo."
   ]
  },
  {
   "cell_type": "code",
   "execution_count": null,
   "metadata": {},
   "outputs": [
    {
     "data": {
      "text/plain": [
       "'python 2.0 was released, on 16 october 2000 with, many major new features'"
      ]
     },
     "execution_count": null,
     "metadata": {},
     "output_type": "execute_result"
    }
   ],
   "source": [
    "s.lower()"
   ]
  },
  {
   "cell_type": "markdown",
   "metadata": {},
   "source": [
    "Mayúsculas"
   ]
  },
  {
   "cell_type": "code",
   "execution_count": null,
   "metadata": {},
   "outputs": [
    {
     "data": {
      "text/plain": [
       "'PYTHON 2.0 WAS RELEASED, ON 16 OCTOBER 2000 WITH, MANY MAJOR NEW FEATURES PYTHON'"
      ]
     },
     "execution_count": null,
     "metadata": {},
     "output_type": "execute_result"
    }
   ],
   "source": [
    "s.upper()"
   ]
  },
  {
   "cell_type": "markdown",
   "metadata": {},
   "source": [
    "Las *raw* strings nos permiten interpretar los caracteres \"tal cual\". Útiles por ejemplo para trabajar con *regular expressions*."
   ]
  },
  {
   "cell_type": "code",
   "execution_count": null,
   "metadata": {},
   "outputs": [],
   "source": [
    "texto = r\"linea\\nlinea2\""
   ]
  },
  {
   "cell_type": "code",
   "execution_count": null,
   "metadata": {},
   "outputs": [
    {
     "name": "stdout",
     "output_type": "stream",
     "text": [
      "linea\\nlinea2\n"
     ]
    }
   ],
   "source": [
    "print(texto)"
   ]
  },
  {
   "cell_type": "code",
   "execution_count": null,
   "metadata": {},
   "outputs": [],
   "source": [
    "s = r\"texto texto text \\' '\""
   ]
  },
  {
   "cell_type": "code",
   "execution_count": null,
   "metadata": {},
   "outputs": [
    {
     "data": {
      "text/plain": [
       "\"texto texto text \\\\' '\""
      ]
     },
     "execution_count": null,
     "metadata": {},
     "output_type": "execute_result"
    }
   ],
   "source": [
    "s"
   ]
  },
  {
   "cell_type": "code",
   "execution_count": null,
   "metadata": {},
   "outputs": [
    {
     "name": "stdout",
     "output_type": "stream",
     "text": [
      "texto texto text \\' '\n"
     ]
    }
   ],
   "source": [
    "print(\"texto texto text \\\\' '\")"
   ]
  },
  {
   "cell_type": "code",
   "execution_count": null,
   "metadata": {},
   "outputs": [],
   "source": [
    "def suma(a, b):\n",
    "    return a + b"
   ]
  },
  {
   "cell_type": "markdown",
   "metadata": {},
   "source": [
    "Textos multi-línea"
   ]
  },
  {
   "cell_type": "code",
   "execution_count": null,
   "metadata": {},
   "outputs": [
    {
     "name": "stdout",
     "output_type": "stream",
     "text": [
      "linea1\n",
      "linea2\n"
     ]
    }
   ],
   "source": [
    "print(\"linea1\\nlinea2\")"
   ]
  },
  {
   "cell_type": "code",
   "execution_count": null,
   "metadata": {},
   "outputs": [],
   "source": [
    "texto_multilinea = \"\"\"\n",
    "asd\n",
    "asd\n",
    "asf\n",
    "\n",
    "\n",
    "asfsdf\n",
    "asd\n",
    "\n",
    "\n",
    "asf\n",
    "\n",
    "\"\"\""
   ]
  },
  {
   "cell_type": "code",
   "execution_count": null,
   "metadata": {},
   "outputs": [
    {
     "name": "stdout",
     "output_type": "stream",
     "text": [
      "\n",
      "asd\n",
      "asd\n",
      "asf\n",
      "\n",
      "\n",
      "asfsdf\n",
      "asd\n",
      "\n",
      "\n",
      "asf\n",
      "\n",
      "\n"
     ]
    }
   ],
   "source": [
    "print(texto_multilinea)"
   ]
  },
  {
   "cell_type": "markdown",
   "metadata": {},
   "source": [
    "`f-strings`: las expresiones dentro de `{}` se evaluan como si fueran python normal, no un texto. Muy útiles y ademas están optmizadas para ejecutarse más rápido que el resto de métodos para sustituir cosas dentro de las cadenas de texto."
   ]
  },
  {
   "cell_type": "code",
   "execution_count": null,
   "metadata": {},
   "outputs": [],
   "source": [
    "myvar = \"teeeexto\"\n",
    "myvar2 = 123\n",
    "myvar3 = [1,2,3]"
   ]
  },
  {
   "cell_type": "code",
   "execution_count": null,
   "metadata": {},
   "outputs": [
    {
     "name": "stdout",
     "output_type": "stream",
     "text": [
      "El resultado es: 4\n"
     ]
    }
   ],
   "source": [
    "s = f\"texto {myvar3} aqui va text {suma(1,3)} más texto\""
   ]
  },
  {
   "cell_type": "code",
   "execution_count": null,
   "metadata": {},
   "outputs": [
    {
     "data": {
      "text/plain": [
       "'texto teeeexto aqui va text (4, 1, 3) más texto'"
      ]
     },
     "execution_count": null,
     "metadata": {},
     "output_type": "execute_result"
    }
   ],
   "source": [
    "s"
   ]
  },
  {
   "cell_type": "code",
   "execution_count": null,
   "metadata": {},
   "outputs": [
    {
     "name": "stdout",
     "output_type": "stream",
     "text": [
      "hooa teeeexto adios\n"
     ]
    }
   ],
   "source": [
    "print(f\"hooa {myvar} adios\")"
   ]
  },
  {
   "cell_type": "code",
   "execution_count": null,
   "metadata": {},
   "outputs": [
    {
     "data": {
      "text/plain": [
       "'cadena de texto'"
      ]
     },
     "execution_count": null,
     "metadata": {},
     "output_type": "execute_result"
    }
   ],
   "source": [
    "\"otra cadena de texto\".replace(\"otra\", \"\").strip()"
   ]
  },
  {
   "cell_type": "code",
   "execution_count": null,
   "metadata": {},
   "outputs": [
    {
     "data": {
      "text/plain": [
       "'otra cadena de textootra cadena de textootra cadena de texto'"
      ]
     },
     "execution_count": null,
     "metadata": {},
     "output_type": "execute_result"
    }
   ],
   "source": [
    "\"otra cadena de texto\" * 3"
   ]
  },
  {
   "cell_type": "markdown",
   "metadata": {},
   "source": [
    "Podemos unir los elementos de una lista para crear un string."
   ]
  },
  {
   "cell_type": "code",
   "execution_count": null,
   "metadata": {},
   "outputs": [
    {
     "data": {
      "text/plain": [
       "'Python- -_- -was- -_- -conceived- -_- -in- -_- -the- -_- -late- -_- -1980s[34]- -_- -by- -_- -Guido- -_- -van- -_- -Rossum- -_- -at- -_- -Centrum- -_- -Wiskunde- -_- -&- -_- -Informatica- -_- -(CWI)- -_- -in- -_- -the- -_- -Netherlands- -_- -as- -_- -a- -_- -successor- -_- -to- -_- -the- -_- -ABC- -_- -language'"
      ]
     },
     "execution_count": null,
     "metadata": {},
     "output_type": "execute_result"
    }
   ],
   "source": [
    "\"- -_- -\".join(mylist)"
   ]
  },
  {
   "cell_type": "markdown",
   "metadata": {},
   "source": [
    "### Ejercicio 01\n",
    "\n",
    "* Generar un string en minúsculas separado por espacios a partir de la lista que teníamos: `mylist`\n",
    "* Reemplazar: `( ) [ ]` por un string vacio.\n",
    "* En nuestro string original (el del punto nº1). Reemplazar Python por Golang y ABC por APL.\n",
    "\n",
    "* Iterar sobre las palabras de esta nueva cadena de texto.\n",
    "* Imprimir esa palabra de la siguiente manera: _\"La palabra es \"_ y seguido la palabra usando f-strings."
   ]
  },
  {
   "cell_type": "code",
   "execution_count": null,
   "metadata": {},
   "outputs": [],
   "source": [
    "mylist = [\n",
    "    \"Python\",\n",
    "    \"was\",\n",
    "    \"conceived\",\n",
    "    \"in\",\n",
    "    \"the\",\n",
    "    \"late\",\n",
    "    \"1980s[34]\",\n",
    "    \"by\",\n",
    "    \"Guido\",\n",
    "    \"van\",\n",
    "    \"Rossum\",\n",
    "    \"at\",\n",
    "    \"Centrum\",\n",
    "    \"Wiskunde\",\n",
    "    \"&\",\n",
    "    \"Informatica\",\n",
    "    \"(CWI)\",\n",
    "    \"in\",\n",
    "    \"the\",\n",
    "    \"Netherlands\",\n",
    "    \"as\",\n",
    "    \"a\",\n",
    "    \"successor\",\n",
    "    \"to\",\n",
    "    \"the\",\n",
    "    \"ABC\",\n",
    "    \"language\",\n",
    "]"
   ]
  },
  {
   "cell_type": "code",
   "execution_count": null,
   "metadata": {},
   "outputs": [],
   "source": [
    "### CODE"
   ]
  }
 ],
 "metadata": {
  "kernelspec": {
   "display_name": "Python 3",
   "language": "python",
   "name": "python3"
  },
  "language_info": {
   "codemirror_mode": {
    "name": "ipython",
    "version": 3
   },
   "file_extension": ".py",
   "mimetype": "text/x-python",
   "name": "python",
   "nbconvert_exporter": "python",
   "pygments_lexer": "ipython3",
   "version": "3.7.8"
  }
 },
 "nbformat": 4,
 "nbformat_minor": 4
}
