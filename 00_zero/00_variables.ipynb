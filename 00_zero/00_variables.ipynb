{
 "cells": [
  {
   "cell_type": "markdown",
   "metadata": {},
   "source": [
    "# Comments"
   ]
  },
  {
   "cell_type": "code",
   "execution_count": 1,
   "metadata": {},
   "outputs": [],
   "source": [
    "# comentario asdifi adiufg wefiub werigub iubewf\n",
    "# no le hace caso"
   ]
  },
  {
   "cell_type": "markdown",
   "metadata": {},
   "source": [
    "# Variables"
   ]
  },
  {
   "cell_type": "markdown",
   "metadata": {},
   "source": [
    "Una variable es como una caja dentro de la memoria del ordenador.\n",
    "\n",
    "La caja tiene una etiqueta, el nombre de la variable. También tiene un contenido, los datos que guardamos dentro de la variable."
   ]
  },
  {
   "cell_type": "markdown",
   "metadata": {},
   "source": [
    "\n",
    "```\n",
    "                MEMORIA\n",
    "+------------------------------------------------------------------------------------------------+\n",
    "|                                                                                                |\n",
    "|                                                                                                |\n",
    "|                                                                                                |\n",
    "|                                                                                                |\n",
    "|      ETIQUETA (NOMBRE)                                                                         |\n",
    "|      +--------------+                                                                          |\n",
    "|      |              |                                                                          |\n",
    "|      |              |                                                                          |\n",
    "|      |              |                                                                          |\n",
    "|      |    DATOS     |                                                                          |\n",
    "|      |              |                                                                          |\n",
    "|      |              |                                                                          |\n",
    "|      |              |                                                                          |\n",
    "|      +--------------+                                                                          |\n",
    "|                                                                                                |\n",
    "|                                                                                                |\n",
    "|                                                                                                |\n",
    "|                                                                                                |\n",
    "|                                                                                                |\n",
    "|                                                                                                |\n",
    "|                                                                                                |\n",
    "|                                                                                                |\n",
    "|                                                                                                |\n",
    "|                                                                                                |\n",
    "|                                                                                                |\n",
    "|                                                                                                |\n",
    "|                                                                                                |\n",
    "|                                                                                                |\n",
    "|                                                                                                |\n",
    "|                                                                                                |\n",
    "|                                                                                                |\n",
    "|                                                                                                |\n",
    "+------------------------------------------------------------------------------------------------+\n",
    "```\n"
   ]
  },
  {
   "cell_type": "markdown",
   "metadata": {},
   "source": [
    "Una variable puede contener diferentes tipos de datos. En el siguiente tema veremos que eso esto de \"tipos de datos\". Pero de momento puedes ver el siguiente ejemplo donde creamos 3 variables diferentes."
   ]
  },
  {
   "cell_type": "code",
   "execution_count": 2,
   "metadata": {},
   "outputs": [],
   "source": [
    "mivariablestr = \"datos_texto\""
   ]
  },
  {
   "cell_type": "code",
   "execution_count": 3,
   "metadata": {},
   "outputs": [],
   "source": [
    "mivariablenum = 123"
   ]
  },
  {
   "cell_type": "code",
   "execution_count": 4,
   "metadata": {},
   "outputs": [],
   "source": [
    "mivariablefloat = 6.28"
   ]
  },
  {
   "cell_type": "markdown",
   "metadata": {},
   "source": [
    "Ahora tendríamos 3 \"cajas\" guardadas en la memoria.\n",
    "\n",
    "```\n",
    "                              MEMORIA\n",
    "+------------------------------------------------------------------------------------------------+\n",
    "|                                                                                                |\n",
    "|                                                                                                |\n",
    "|                                                                                                |\n",
    "|                                                                                                |\n",
    "|          mivariablefloat                mivariablestr                                          |\n",
    "|      +--------------+           +------------------------+                                     |\n",
    "|      |              |           |                        |                                     |\n",
    "|      |              |           |                        |                                     |\n",
    "|      |              |           |                        |                                     |\n",
    "|      |     6.28     |           |      datos_texto       |                                     |\n",
    "|      |              |           |                        |                                     |\n",
    "|      |              |           |                        |                                     |\n",
    "|      |              |           |                        |                                     |\n",
    "|      +--------------+           +------------------------+                                     |\n",
    "|                                                                                                |\n",
    "|                                                                                                |\n",
    "|        mivariablenum                                                                           |\n",
    "|      +--------------+                                                                          |\n",
    "|      |              |                                                                          |\n",
    "|      |              |                                                                          |\n",
    "|      |              |                                                                          |\n",
    "|      |     123      |                                                                          |\n",
    "|      |              |                                                                          |\n",
    "|      |              |                                                                          |\n",
    "|      |              |                                                                          |\n",
    "|      +--------------+                                                                          |\n",
    "|                                                                                                |\n",
    "|                                                                                                |\n",
    "|                                                                                                |\n",
    "|                                                                                                |\n",
    "|                                                                                                |\n",
    "|                                                                                                |\n",
    "+------------------------------------------------------------------------------------------------+\n",
    "\n",
    "\n",
    "\n",
    "\n",
    "\n",
    "\n",
    "\n",
    "```"
   ]
  },
  {
   "cell_type": "markdown",
   "metadata": {},
   "source": [
    "Para operar con una variable debemos escribir su nombre sin comillas. Para ver una variable podemos usar la función `print()`. Más adelante veremos qué es una función."
   ]
  },
  {
   "cell_type": "code",
   "execution_count": 5,
   "metadata": {},
   "outputs": [
    {
     "name": "stdout",
     "output_type": "stream",
     "text": [
      "datos_texto\n"
     ]
    }
   ],
   "source": [
    "print(mivariablestr)"
   ]
  },
  {
   "cell_type": "markdown",
   "metadata": {},
   "source": [
    "Si pusiéramos el nombre de la variable pero con comillas, lo que estaríamos haciendo es crear una cadena de texto que contiene esos caracteres."
   ]
  },
  {
   "cell_type": "code",
   "execution_count": 8,
   "metadata": {},
   "outputs": [
    {
     "name": "stdout",
     "output_type": "stream",
     "text": [
      "mivariablestr\n"
     ]
    }
   ],
   "source": [
    "print(\"mivariablestr\")"
   ]
  },
  {
   "cell_type": "markdown",
   "metadata": {},
   "source": [
    "Si creamos una variable con el mismo nombre que tenía otra, la primera que hemos creado se eliminará."
   ]
  },
  {
   "cell_type": "code",
   "execution_count": 9,
   "metadata": {},
   "outputs": [],
   "source": [
    "x = 20"
   ]
  },
  {
   "cell_type": "code",
   "execution_count": 10,
   "metadata": {},
   "outputs": [
    {
     "name": "stdout",
     "output_type": "stream",
     "text": [
      "20\n"
     ]
    }
   ],
   "source": [
    "# ahora x = 20\n",
    "print(x)"
   ]
  },
  {
   "cell_type": "markdown",
   "metadata": {},
   "source": [
    "Si creamos otra variable con el mismo nombre: `x`."
   ]
  },
  {
   "cell_type": "code",
   "execution_count": 11,
   "metadata": {},
   "outputs": [],
   "source": [
    "x = \"texto\""
   ]
  },
  {
   "cell_type": "code",
   "execution_count": null,
   "metadata": {},
   "outputs": [],
   "source": [
    "# ahora x = \"texto\"\n",
    "print(x)"
   ]
  },
  {
   "cell_type": "markdown",
   "metadata": {},
   "source": [
    "En Python también podemos crear o asignar varias variables a la vez."
   ]
  },
  {
   "cell_type": "code",
   "execution_count": 18,
   "metadata": {},
   "outputs": [],
   "source": [
    "x, y, z, w = 1, 2, \"text\", 3.14"
   ]
  },
  {
   "cell_type": "code",
   "execution_count": 19,
   "metadata": {},
   "outputs": [
    {
     "name": "stdout",
     "output_type": "stream",
     "text": [
      "1\n"
     ]
    }
   ],
   "source": [
    "print(x)"
   ]
  },
  {
   "cell_type": "code",
   "execution_count": 20,
   "metadata": {},
   "outputs": [
    {
     "name": "stdout",
     "output_type": "stream",
     "text": [
      "2\n"
     ]
    }
   ],
   "source": [
    "print(y)"
   ]
  },
  {
   "cell_type": "code",
   "execution_count": 21,
   "metadata": {},
   "outputs": [
    {
     "name": "stdout",
     "output_type": "stream",
     "text": [
      "text\n"
     ]
    }
   ],
   "source": [
    "print(z)"
   ]
  },
  {
   "cell_type": "code",
   "execution_count": 22,
   "metadata": {},
   "outputs": [
    {
     "name": "stdout",
     "output_type": "stream",
     "text": [
      "3.14\n"
     ]
    }
   ],
   "source": [
    "print(w)"
   ]
  },
  {
   "cell_type": "code",
   "execution_count": null,
   "metadata": {},
   "outputs": [],
   "source": [
    "xyz = 52\n",
    "x = 5\n",
    "texto = \"cadena de texto\""
   ]
  },
  {
   "cell_type": "code",
   "execution_count": null,
   "metadata": {},
   "outputs": [
    {
     "name": "stdout",
     "output_type": "stream",
     "text": [
      "5 cadena de texto\n"
     ]
    }
   ],
   "source": [
    "print(x, texto)"
   ]
  },
  {
   "cell_type": "markdown",
   "metadata": {},
   "source": [
    "Autor: Ricardo Ander-Egg Aguilar\n",
    "\n",
    "* 🖥: https://ricardoanderegg.com/\n",
    "* 🐦: https://twitter.com/ricardoanderegg\n",
    "* 👨🏻‍🎓: https://www.linkedin.com/in/ricardoanderegg/"
   ]
  }
 ],
 "metadata": {
  "kernelspec": {
   "display_name": "teach",
   "language": "python",
   "name": "teach"
  },
  "language_info": {
   "codemirror_mode": {
    "name": "ipython",
    "version": 3
   },
   "file_extension": ".py",
   "mimetype": "text/x-python",
   "name": "python",
   "nbconvert_exporter": "python",
   "pygments_lexer": "ipython3",
   "version": "3.7.7"
  }
 },
 "nbformat": 4,
 "nbformat_minor": 4
}
