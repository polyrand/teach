{
 "cells": [
  {
   "cell_type": "markdown",
   "metadata": {},
   "source": [
    "### Ejercicio 01\n",
    "\n",
    "* Generar un string en minúsculas separado por espacios a partir de la lista que teníamos: `mylist`\n",
    "* Reemplazar: `( ) [ ]` por un string vacio.\n",
    "* En nuestro string original (el del punto nº1). Reemplazar Python por Golang y ABC por APL.\n",
    "\n",
    "* Iterar sobre las palabras de esta nueva cadena de texto.\n",
    "* Imprimir esa palabra de la siguiente manera: _\"La palabra es \"_ y seguido la palabra usando f-strings."
   ]
  },
  {
   "cell_type": "code",
   "execution_count": null,
   "metadata": {},
   "outputs": [],
   "source": [
    "mylist = [\n",
    "    \"Python\",\n",
    "    \"was\",\n",
    "    \"conceived\",\n",
    "    \"in\",\n",
    "    \"the\",\n",
    "    \"late\",\n",
    "    \"1980s[34]\",\n",
    "    \"by\",\n",
    "    \"Guido\",\n",
    "    \"van\",\n",
    "    \"Rossum\",\n",
    "    \"at\",\n",
    "    \"Centrum\",\n",
    "    \"Wiskunde\",\n",
    "    \"&\",\n",
    "    \"Informatica\",\n",
    "    \"(CWI)\",\n",
    "    \"in\",\n",
    "    \"the\",\n",
    "    \"Netherlands\",\n",
    "    \"as\",\n",
    "    \"a\",\n",
    "    \"successor\",\n",
    "    \"to\",\n",
    "    \"the\",\n",
    "    \"ABC\",\n",
    "    \"language\",\n",
    "]"
   ]
  },
  {
   "cell_type": "code",
   "execution_count": null,
   "metadata": {},
   "outputs": [],
   "source": [
    "cadena = \" \".join(mylist).lower()"
   ]
  },
  {
   "cell_type": "code",
   "execution_count": null,
   "metadata": {},
   "outputs": [],
   "source": [
    "cadena_limpia = cadena.replace(\"(\", \"\").replace(\")\", \"\").replace(\"[\", \"\").replace(\"]\", \"\")"
   ]
  },
  {
   "cell_type": "code",
   "execution_count": null,
   "metadata": {},
   "outputs": [],
   "source": [
    "cadena_final = cadena_limpia.replace(\"python\", \"golang\")"
   ]
  },
  {
   "cell_type": "code",
   "execution_count": null,
   "metadata": {},
   "outputs": [
    {
     "name": "stdout",
     "output_type": "stream",
     "text": [
      "La palabra es: golang\n",
      "La palabra es: was\n",
      "La palabra es: conceived\n",
      "La palabra es: in\n",
      "La palabra es: the\n",
      "La palabra es: late\n",
      "La palabra es: 1980s34\n",
      "La palabra es: by\n",
      "La palabra es: guido\n",
      "La palabra es: van\n",
      "La palabra es: rossum\n",
      "La palabra es: at\n",
      "La palabra es: centrum\n",
      "La palabra es: wiskunde\n",
      "La palabra es: &\n",
      "La palabra es: informatica\n",
      "La palabra es: cwi\n",
      "La palabra es: in\n",
      "La palabra es: the\n",
      "La palabra es: netherlands\n",
      "La palabra es: as\n",
      "La palabra es: a\n",
      "La palabra es: successor\n",
      "La palabra es: to\n",
      "La palabra es: the\n",
      "La palabra es: abc\n",
      "La palabra es: language\n"
     ]
    }
   ],
   "source": [
    "for palabra in cadena_final.split():\n",
    "    print(f\"La palabra es: {palabra}\")"
   ]
  },
  {
   "cell_type": "code",
   "execution_count": null,
   "metadata": {},
   "outputs": [],
   "source": []
  },
  {
   "cell_type": "code",
   "execution_count": null,
   "metadata": {},
   "outputs": [],
   "source": [
    "texto = (\n",
    "    \" \".join(mylist)\n",
    "    .lower()\n",
    "    .strip()\n",
    "    .replace(\"[\", \"\")\n",
    "    .replace(\"]\", \"\")\n",
    "    .replace(\"(\", \"\")\n",
    "    .replace(\")\", \"\")\n",
    "    .replace(\"python\", \"golang\")\n",
    "    .replace(\"abc\", \"apl\")\n",
    ")"
   ]
  },
  {
   "cell_type": "code",
   "execution_count": null,
   "metadata": {},
   "outputs": [
    {
     "data": {
      "text/plain": [
       "'python was conceived in the late 1980s[34] by guido van rossum at centrum wiskunde & informatica (cwi) in the netherlands as a successor to the abc language'"
      ]
     },
     "execution_count": null,
     "metadata": {},
     "output_type": "execute_result"
    }
   ],
   "source": [
    "cadena_unida"
   ]
  },
  {
   "cell_type": "code",
   "execution_count": null,
   "metadata": {},
   "outputs": [],
   "source": [
    "s = (\n",
    "    \" \".join(mylist)\n",
    "    .lower()\n",
    "    .replace(\"(\", \"\")\n",
    "    .replace(\")\", \"\")\n",
    "    .replace(\"[\", \"\")\n",
    "    .replace(\"]\", \"\")\n",
    ")"
   ]
  },
  {
   "cell_type": "code",
   "execution_count": null,
   "metadata": {},
   "outputs": [
    {
     "data": {
      "text/plain": [
       "'golang was conceived in the late 1980s34 by guido van rossum at centrum wiskunde & informatica cwi in the netherlands as a successor to the apl language'"
      ]
     },
     "execution_count": null,
     "metadata": {},
     "output_type": "execute_result"
    }
   ],
   "source": [
    "s.replace(\"python\", \"golang\").replace(\"abc\", \"apl\")"
   ]
  },
  {
   "cell_type": "code",
   "execution_count": null,
   "metadata": {},
   "outputs": [
    {
     "name": "stdout",
     "output_type": "stream",
     "text": [
      "La palabra es python\n",
      "La palabra es was\n",
      "La palabra es conceived\n",
      "La palabra es in\n",
      "La palabra es the\n",
      "La palabra es late\n",
      "La palabra es 1980s34\n",
      "La palabra es by\n",
      "La palabra es guido\n",
      "La palabra es van\n",
      "La palabra es rossum\n",
      "La palabra es at\n",
      "La palabra es centrum\n",
      "La palabra es wiskunde\n",
      "La palabra es &\n",
      "La palabra es informatica\n",
      "La palabra es cwi\n",
      "La palabra es in\n",
      "La palabra es the\n",
      "La palabra es netherlands\n",
      "La palabra es as\n",
      "La palabra es a\n",
      "La palabra es successor\n",
      "La palabra es to\n",
      "La palabra es the\n",
      "La palabra es abc\n",
      "La palabra es language\n"
     ]
    }
   ],
   "source": [
    "for word in s.split():\n",
    "    \n",
    "    # word = word.replace(\"(\", \"\").replace(\")\", \"\").replace(\"[\", \"\").replace(\"]\", \"\")\n",
    "    \n",
    "    print(f\"La palabra es {word}\")"
   ]
  },
  {
   "cell_type": "markdown",
   "metadata": {},
   "source": [
    "**Formas alternativas de reemplazar**"
   ]
  },
  {
   "cell_type": "code",
   "execution_count": null,
   "metadata": {},
   "outputs": [],
   "source": [
    "table = str.maketrans(\"()[]\", \"    \")\n",
    "\"asdf (asd) as [s]\".translate(table).replace(\"  \", \" \")"
   ]
  },
  {
   "cell_type": "code",
   "execution_count": null,
   "metadata": {},
   "outputs": [],
   "source": [
    "import re\n",
    "\n",
    "pat = re.compile(r\"[\\(\\)\\[\\]]\")\n",
    "\n",
    "pat.sub(\"\", \"asdf (asd) as [s]\")"
   ]
  },
  {
   "cell_type": "code",
   "execution_count": null,
   "metadata": {},
   "outputs": [],
   "source": [
    "def reemplazar(texto: str, grupos: tuple, reemplazo: str):\n",
    "\n",
    "    nuevo_texto = texto\n",
    "\n",
    "    for c in grupos:\n",
    "        nuevo_texto = nuevo_texto.replace(c, reemplazo)\n",
    "\n",
    "    return nuevo_texto"
   ]
  },
  {
   "cell_type": "code",
   "execution_count": null,
   "metadata": {},
   "outputs": [],
   "source": [
    "grupos_reemplazo = (\"do\", \"lla\", \"ri\", \"m\")\n",
    "\n",
    "\n",
    "reemplazar(\"hodo me llado (ricardo)\", grupos_reemplazo, \"!\")"
   ]
  }
 ],
 "metadata": {
  "kernelspec": {
   "display_name": "teach",
   "language": "python",
   "name": "teach"
  },
  "language_info": {
   "codemirror_mode": {
    "name": "ipython",
    "version": 3
   },
   "file_extension": ".py",
   "mimetype": "text/x-python",
   "name": "python",
   "nbconvert_exporter": "python",
   "pygments_lexer": "ipython3",
   "version": "3.7.7"
  }
 },
 "nbformat": 4,
 "nbformat_minor": 4
}
