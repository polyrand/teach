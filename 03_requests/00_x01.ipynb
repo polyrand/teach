{
 "cells": [
  {
   "cell_type": "code",
   "execution_count": 1,
   "metadata": {},
   "outputs": [],
   "source": [
    "import requests"
   ]
  },
  {
   "cell_type": "markdown",
   "metadata": {},
   "source": [
    "## Ejercicio 01\n",
    "\n",
    "\n",
    "* Usando la API: https://exchangeratesapi.io/\n",
    "    * Hay que entrar a la web y ahi sale la \"documentación\". Debéis usar la URL correcta para lo que queréis hacer.\n",
    "* Crear una función de conversión de divisas.\n",
    "* La función acepta 2 parámetros. El primer parámetro son la cantidad de \"EUR\". El otro parámetro es la divisa a la que queremos convertir. \n",
    "\n",
    "**Extra**\n",
    "* Añadir un tercer parámetro `lista=False`.\n",
    "* Si lo ejecutamos con `lista=True` la función nos debe devolver ADEMÁS de la conversión, una lista que incluya todas las divisas entre las que puede convertir."
   ]
  },
  {
   "cell_type": "code",
   "execution_count": 8,
   "metadata": {},
   "outputs": [],
   "source": [
    "def conversor(cantidad, divisa, lista=False):\n",
    "\n",
    "\n",
    "    url = \"https://api.exchangeratesapi.io/latest\"\n",
    "    res = requests.get(url)\n",
    "    data = res.json()\n",
    "    \n",
    "    ratio = data[\"rates\"][divisa]\n",
    "    \n",
    "    resultado = cantidad * ratio\n",
    "    \n",
    "    if lista: ## --lo mismo que--> if lista == True:\n",
    "        divisas_disponibles = list(data[\"rates\"].keys())\n",
    "        \n",
    "        return resultado, divisas_disponibles\n",
    "    \n",
    "    \n",
    "    \n",
    "    return resultado"
   ]
  },
  {
   "cell_type": "markdown",
   "metadata": {},
   "source": [
    "Por ejemplo para convertir 25€ ---> USD:"
   ]
  },
  {
   "cell_type": "code",
   "execution_count": null,
   "metadata": {},
   "outputs": [],
   "source": [
    "resultado, disponibles = conversor(25, \"HKD\", lista=True)"
   ]
  },
  {
   "cell_type": "code",
   "execution_count": null,
   "metadata": {},
   "outputs": [
    {
     "data": {
      "text/plain": [
       "211.9525"
      ]
     },
     "execution_count": null,
     "metadata": {},
     "output_type": "execute_result"
    }
   ],
   "source": [
    "resultado"
   ]
  },
  {
   "cell_type": "markdown",
   "metadata": {},
   "source": [
    "**Mi recomendación**\n",
    "\n",
    "En lugar de ponerse con la función directamente, podemos aprovechar la \"interactividad\" que nos da jupyterlab. Podemos primero hacer la `request` y capturar el resultado. Después convertirlo a con `.json()`, ver que tipo de objeto nos devuelve, etc, etc. En resumen, ir experimentando con las variables y cuando ya estamos seguros de los pasos que se deben ejecutar, **en ese momento** cogemos lo que hemos estado haciendo y lo convertirmos en una función que acepte los parámetros adecuados.\n",
    "\n",
    "Pero eso mejor primer ver todos los pasos que hay que hacer y como se hacen. Para eso Jupyter es perfecto. Y una vez lo tenemos ya lo pasamos a una función.\n",
    "\n",
    "Si fuera algo más complejo incluso haríamos haciendo esto para todas las funciones y una vez lo tuviéramos todo hecho, lo pasaríamos a un script de python."
   ]
  },
  {
   "cell_type": "code",
   "execution_count": null,
   "metadata": {},
   "outputs": [],
   "source": []
  },
  {
   "cell_type": "markdown",
   "metadata": {},
   "source": [
    "En una sola línea? \n",
    "\n",
    "**¡Es importante que el código sea legible!**"
   ]
  },
  {
   "cell_type": "code",
   "execution_count": 16,
   "metadata": {},
   "outputs": [],
   "source": [
    "def conversor(quantity, currency, return_list=False):\n",
    "\n",
    "    return (quantity * requests.get(\"https://api.exchangeratesapi.io/latest\").json()[\"rates\"][currency]) if not return_list else (quantity * requests.get(\"https://api.exchangeratesapi.io/latest\").json()[\"rates\"][currency], list(requests.get(\"https://api.exchangeratesapi.io/latest\").json()[\"rates\"].keys()))"
   ]
  },
  {
   "cell_type": "code",
   "execution_count": null,
   "metadata": {},
   "outputs": [],
   "source": [
    "(lambda quantity, currency, return_list: (quantity * requests.get(\"https://api.exchangeratesapi.io/latest\").json()[\"rates\"][currency]) if not return_list else (quantity * requests.get(\"https://api.exchangeratesapi.io/latest\").json()[\"rates\"][currency], list(requests.get(\"https://api.exchangeratesapi.io/latest\").json()[\"rates\"].keys())))(25, \"USD\", return_list=True)"
   ]
  },
  {
   "cell_type": "code",
   "execution_count": 22,
   "metadata": {},
   "outputs": [
    {
     "data": {
      "text/plain": [
       "(28.215,\n",
       " ['CAD',\n",
       "  'HKD',\n",
       "  'ISK',\n",
       "  'PHP',\n",
       "  'DKK',\n",
       "  'HUF',\n",
       "  'CZK',\n",
       "  'AUD',\n",
       "  'RON',\n",
       "  'SEK',\n",
       "  'IDR',\n",
       "  'INR',\n",
       "  'BRL',\n",
       "  'RUB',\n",
       "  'HRK',\n",
       "  'JPY',\n",
       "  'THB',\n",
       "  'CHF',\n",
       "  'SGD',\n",
       "  'PLN',\n",
       "  'BGN',\n",
       "  'TRY',\n",
       "  'CNY',\n",
       "  'NOK',\n",
       "  'NZD',\n",
       "  'ZAR',\n",
       "  'USD',\n",
       "  'MXN',\n",
       "  'ILS',\n",
       "  'GBP',\n",
       "  'KRW',\n",
       "  'MYR'])"
      ]
     },
     "execution_count": 22,
     "metadata": {},
     "output_type": "execute_result"
    }
   ],
   "source": [
    "(\n",
    "    lambda quantity, currency, return_list: (\n",
    "        quantity\n",
    "        * requests.get(\"https://api.exchangeratesapi.io/latest\").json()[\"rates\"][\n",
    "            currency\n",
    "        ]\n",
    "    )\n",
    "    if not return_list\n",
    "    else (\n",
    "        quantity\n",
    "        * requests.get(\"https://api.exchangeratesapi.io/latest\").json()[\"rates\"][\n",
    "            currency\n",
    "        ],\n",
    "        list(\n",
    "            requests.get(\"https://api.exchangeratesapi.io/latest\")\n",
    "            .json()[\"rates\"]\n",
    "            .keys()\n",
    "        ),\n",
    "    )\n",
    ")(25, \"USD\", return_list=True)"
   ]
  },
  {
   "cell_type": "code",
   "execution_count": null,
   "metadata": {},
   "outputs": [],
   "source": [
    "f = lambda quantity, currency, return_list: (quantity * requests.get(\"https://api.exchangeratesapi.io/latest\").json()[\"rates\"][currency]) if not return_list else (quantity * requests.get(\"https://api.exchangeratesapi.io/latest\").json()[\"rates\"][currency], list(requests.get(\"https://api.exchangeratesapi.io/latest\").json()[\"rates\"].keys()))"
   ]
  },
  {
   "cell_type": "code",
   "execution_count": 21,
   "metadata": {},
   "outputs": [
    {
     "data": {
      "text/plain": [
       "(28.215,\n",
       " ['CAD',\n",
       "  'HKD',\n",
       "  'ISK',\n",
       "  'PHP',\n",
       "  'DKK',\n",
       "  'HUF',\n",
       "  'CZK',\n",
       "  'AUD',\n",
       "  'RON',\n",
       "  'SEK',\n",
       "  'IDR',\n",
       "  'INR',\n",
       "  'BRL',\n",
       "  'RUB',\n",
       "  'HRK',\n",
       "  'JPY',\n",
       "  'THB',\n",
       "  'CHF',\n",
       "  'SGD',\n",
       "  'PLN',\n",
       "  'BGN',\n",
       "  'TRY',\n",
       "  'CNY',\n",
       "  'NOK',\n",
       "  'NZD',\n",
       "  'ZAR',\n",
       "  'USD',\n",
       "  'MXN',\n",
       "  'ILS',\n",
       "  'GBP',\n",
       "  'KRW',\n",
       "  'MYR'])"
      ]
     },
     "execution_count": 21,
     "metadata": {},
     "output_type": "execute_result"
    }
   ],
   "source": [
    "f(25, \"USD\", return_list=True)"
   ]
  },
  {
   "cell_type": "code",
   "execution_count": 17,
   "metadata": {},
   "outputs": [],
   "source": [
    "result, listed = conversor(25, \"USD\", return_list=True)"
   ]
  },
  {
   "cell_type": "code",
   "execution_count": 18,
   "metadata": {},
   "outputs": [
    {
     "data": {
      "text/plain": [
       "28.215"
      ]
     },
     "execution_count": 18,
     "metadata": {},
     "output_type": "execute_result"
    }
   ],
   "source": [
    "result"
   ]
  },
  {
   "cell_type": "code",
   "execution_count": 19,
   "metadata": {},
   "outputs": [
    {
     "data": {
      "text/plain": [
       "['CAD',\n",
       " 'HKD',\n",
       " 'ISK',\n",
       " 'PHP',\n",
       " 'DKK',\n",
       " 'HUF',\n",
       " 'CZK',\n",
       " 'AUD',\n",
       " 'RON',\n",
       " 'SEK',\n",
       " 'IDR',\n",
       " 'INR',\n",
       " 'BRL',\n",
       " 'RUB',\n",
       " 'HRK',\n",
       " 'JPY',\n",
       " 'THB',\n",
       " 'CHF',\n",
       " 'SGD',\n",
       " 'PLN',\n",
       " 'BGN',\n",
       " 'TRY',\n",
       " 'CNY',\n",
       " 'NOK',\n",
       " 'NZD',\n",
       " 'ZAR',\n",
       " 'USD',\n",
       " 'MXN',\n",
       " 'ILS',\n",
       " 'GBP',\n",
       " 'KRW',\n",
       " 'MYR']"
      ]
     },
     "execution_count": 19,
     "metadata": {},
     "output_type": "execute_result"
    }
   ],
   "source": [
    "listed"
   ]
  },
  {
   "cell_type": "code",
   "execution_count": null,
   "metadata": {},
   "outputs": [],
   "source": []
  }
 ],
 "metadata": {
  "kernelspec": {
   "display_name": "teach",
   "language": "python",
   "name": "teach"
  },
  "language_info": {
   "codemirror_mode": {
    "name": "ipython",
    "version": 3
   },
   "file_extension": ".py",
   "mimetype": "text/x-python",
   "name": "python",
   "nbconvert_exporter": "python",
   "pygments_lexer": "ipython3",
   "version": "3.7.7"
  }
 },
 "nbformat": 4,
 "nbformat_minor": 4
}
