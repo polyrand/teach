{
 "cells": [
  {
   "cell_type": "markdown",
   "metadata": {},
   "source": [
    "# Requests"
   ]
  },
  {
   "cell_type": "markdown",
   "metadata": {},
   "source": [
    "Autor: Ricardo Ander-Egg Aguilar\n",
    "\n",
    "* 🖥: https://ricardoanderegg.com/\n",
    "* 🐦: https://twitter.com/ricardoanderegg\n",
    "* 👨🏻‍🎓: https://www.linkedin.com/in/ricardoanderegg/"
   ]
  },
  {
   "cell_type": "code",
   "execution_count": 7,
   "metadata": {},
   "outputs": [],
   "source": [
    "import requests\n",
    "import json\n",
    "\n",
    "# from mis_funciones import guardar_json"
   ]
  },
  {
   "cell_type": "markdown",
   "metadata": {},
   "source": [
    "Vamos a crear una función para guardar archivos `.json`. Para guardar un archivo json no son necesarias muchas líneas, pero quizá queremos hacer más cosas aparte de guardar el json. Por ejemplo asegurarnos de que el archivo no existe, hacer otra cosa si el archivo existe, etc. Si todo esto lo tenemos que poner en cada parte de nuestro programa donde trabajamos con json, lo más fácil es que se nos olvide cambiarlo en algún sitio y lo hagamos mal.\n",
    "\n",
    "En este caso lo mejor sería encapsular toda esta lógica en una función. Esta función la podemos guardar en un archivo `.py` (**NOTA**: este archivo estará en minúsculas y usará guión bajo \"`_`\", no espacios). Ahora podemos importar la función desde otros scripts de python. Si queremos modificar la lógica solamente tenemos que modificar esta función. No hará falta estar modificando lo mismo en todos lados."
   ]
  },
  {
   "cell_type": "code",
   "execution_count": 17,
   "metadata": {},
   "outputs": [],
   "source": [
    "def guardar_json(datos, nombre_archivo):\n",
    "\n",
    "    # error = None\n",
    "\n",
    "    if os.path.exists(nombre_archivo):\n",
    "        raise FileExistsError(\"el archivo ya existe\")\n",
    "\n",
    "        # return [archivo for archivo in os.listdir() if not archivo.startswith(\".\") and not archivo.startswith(\"_\")], error\n",
    "\n",
    "    string_json = json.dumps(datos)\n",
    "\n",
    "    with open(nombre_archivo, \"w\") as f:\n",
    "        f.write(string_json)\n",
    "\n",
    "    return nombre_archivo"
   ]
  },
  {
   "cell_type": "code",
   "execution_count": 18,
   "metadata": {},
   "outputs": [
    {
     "name": "stdout",
     "output_type": "stream",
     "text": [
      "el archivo ya existe\n"
     ]
    }
   ],
   "source": [
    "valor_devuelto = guardar_json(datos={\"a\": 1, \"b\": 2}, nombre_archivo=\"backup.json\")"
   ]
  },
  {
   "cell_type": "code",
   "execution_count": null,
   "metadata": {},
   "outputs": [],
   "source": [
    "valor_devuelto"
   ]
  },
  {
   "cell_type": "code",
   "execution_count": null,
   "metadata": {},
   "outputs": [],
   "source": [
    "# if error:\n",
    "#     raise error"
   ]
  },
  {
   "cell_type": "markdown",
   "metadata": {},
   "source": [
    "**Antes de aprender sobre `requests` será de ayuda tener claros los conceptos explicados en el tema sobre JSON.**"
   ]
  },
  {
   "cell_type": "markdown",
   "metadata": {},
   "source": [
    "## Requests"
   ]
  },
  {
   "cell_type": "markdown",
   "metadata": {},
   "source": [
    "### Métodos HTTP\n",
    "\n",
    "* GET: conseguir información\n",
    "* POST: subir información\n",
    "* PUT: modificar información\n",
    "* DELETE: eliminar información\n",
    "\n",
    "Más información:\n",
    "* https://developer.mozilla.org/es/docs/Web/HTTP/Methods"
   ]
  },
  {
   "cell_type": "code",
   "execution_count": 20,
   "metadata": {},
   "outputs": [],
   "source": [
    "import requests\n",
    "\n",
    "url = \"https://jsonplaceholder.typicode.com/todos\"\n",
    "# url = \"https://raw.githubusercontent.com/polyrand/codeutils/master/demofile.txt\"\n",
    "# res = requests.get(url)\n",
    "# res.content.decode()\n",
    "\n",
    "res = requests.get(url)"
   ]
  },
  {
   "cell_type": "markdown",
   "metadata": {},
   "source": [
    "Ahora la variable `res` contiene información sobre nuestra petición. Si nuestra petición nos ha devuelto datos en formato json, podemos usar el método `.json()` (atención, es una función y hay que poner `()`) para conseguir estos datos. Tenemos que guardarlos en una variable."
   ]
  },
  {
   "cell_type": "code",
   "execution_count": 22,
   "metadata": {},
   "outputs": [],
   "source": [
    "data = res.json()"
   ]
  },
  {
   "cell_type": "code",
   "execution_count": null,
   "metadata": {},
   "outputs": [],
   "source": [
    "if res.status_code != 200:\n",
    "    print(f\"Status Code no correcto: {res.status_code}\")\n",
    "    raise requests.HTTPError"
   ]
  },
  {
   "cell_type": "markdown",
   "metadata": {},
   "source": [
    "Otra opción sería conseguir el texto \"en crudo\" de la petición y convertirlo a json con los métodos que hemos visto antes:"
   ]
  },
  {
   "cell_type": "code",
   "execution_count": 28,
   "metadata": {},
   "outputs": [],
   "source": [
    "texto_crudo = res.text\n",
    "data_from_text = json.loads(texto_crudo)"
   ]
  },
  {
   "cell_type": "markdown",
   "metadata": {},
   "source": [
    "Comprobamos que en ambos casos conseguimos lo mismo."
   ]
  },
  {
   "cell_type": "code",
   "execution_count": 29,
   "metadata": {},
   "outputs": [],
   "source": [
    "assert data_from_text == data"
   ]
  },
  {
   "cell_type": "markdown",
   "metadata": {},
   "source": [
    "**Post**"
   ]
  },
  {
   "cell_type": "code",
   "execution_count": null,
   "metadata": {},
   "outputs": [],
   "source": [
    "r = requests.post(\"https://jsonplaceholder.typicode.com/posts\", json={\"title\": \"foo\", \"id\": 101, \"body\": \"bar\", \"userId\": 1})\n",
    "\n",
    "data = r.json()\n",
    "\n",
    "print(f\"Se ha creado el Elemento (To-Do) con ID: {data['id']}\")"
   ]
  },
  {
   "cell_type": "markdown",
   "metadata": {},
   "source": [
    "**Extra**\n",
    "\n",
    "Otra opción sería que nuestra petición nos devuelva directamente texto plano (no en formato json). En ese caso podemos usar `.content` para obtenerlo."
   ]
  },
  {
   "cell_type": "code",
   "execution_count": 30,
   "metadata": {},
   "outputs": [],
   "source": [
    "import requests\n",
    "\n",
    "url = \"https://raw.githubusercontent.com/polyrand/codeutils/master/demofile.txt\"\n",
    "res = requests.get(url)\n",
    "contenido = res.content"
   ]
  },
  {
   "cell_type": "markdown",
   "metadata": {},
   "source": [
    "Si hacemos `print(contenido)` veremos que en la string pone `b\"\"`, eso significa que está en formato de `bytes`. Para decodificarla usamos uno de los métodos que tienen las string: `.decode()`"
   ]
  },
  {
   "cell_type": "code",
   "execution_count": 33,
   "metadata": {},
   "outputs": [],
   "source": [
    "datos = contenido.decode()"
   ]
  },
  {
   "cell_type": "markdown",
   "metadata": {},
   "source": [
    "**HTML**\n",
    "\n",
    "Del mismo modo que podemos recibir una respuesta en fromato json, podemos recibirla en formato HTML. En este caso vamos a hacer una petición `get` a una página web normal (no una API que devuelve JSON)."
   ]
  },
  {
   "cell_type": "code",
   "execution_count": 7,
   "metadata": {},
   "outputs": [],
   "source": [
    "resultado = requests.get(\"https://www.eltiempo.es/barcelona.html?q=barcelona&c=prediction\")"
   ]
  },
  {
   "cell_type": "markdown",
   "metadata": {},
   "source": [
    "Obtenemos el HTML que nos ha devuelto. (Podemos hacerle un `print()` si queremos)."
   ]
  },
  {
   "cell_type": "code",
   "execution_count": 8,
   "metadata": {},
   "outputs": [],
   "source": [
    "html = resultado.text"
   ]
  },
  {
   "cell_type": "code",
   "execution_count": 10,
   "metadata": {},
   "outputs": [],
   "source": [
    "# print(html)"
   ]
  },
  {
   "cell_type": "markdown",
   "metadata": {},
   "source": [
    "Para procesar el HTML lo mejor es utilizar una librería específica. Hacerlo usando métodos de strings sería una locura.\n",
    "\n",
    "```sh\n",
    "# activamos entorno virtual\n",
    "# leemos la documentación: https://www.crummy.com/software/BeautifulSoup/bs4/doc/#installing-beautiful-soup\n",
    "\n",
    "python3 -m pip install beautifulsoup4\n",
    "\n",
    "python3 -m pip install lxml\n",
    "```\n",
    "\n",
    "Ya podemos utilizarla."
   ]
  },
  {
   "cell_type": "code",
   "execution_count": 11,
   "metadata": {},
   "outputs": [],
   "source": [
    "from bs4 import BeautifulSoup\n",
    "\n",
    "soup = BeautifulSoup(html)"
   ]
  },
  {
   "cell_type": "code",
   "execution_count": 12,
   "metadata": {},
   "outputs": [],
   "source": [
    "tag = soup.div"
   ]
  },
  {
   "cell_type": "code",
   "execution_count": 13,
   "metadata": {},
   "outputs": [
    {
     "data": {
      "text/plain": [
       "'div'"
      ]
     },
     "execution_count": 13,
     "metadata": {},
     "output_type": "execute_result"
    }
   ],
   "source": [
    "tag.name"
   ]
  },
  {
   "cell_type": "code",
   "execution_count": 53,
   "metadata": {},
   "outputs": [],
   "source": [
    "# [tag.name for tag in soup.find_all(\"div\")]"
   ]
  },
  {
   "cell_type": "markdown",
   "metadata": {},
   "source": [
    "De aquí en adelante lo mejor será guiarse por la documentación oficial de la librería:\n",
    "\n",
    "https://www.crummy.com/software/BeautifulSoup/bs4/doc/#quick-start"
   ]
  },
  {
   "cell_type": "markdown",
   "metadata": {},
   "source": [
    "Volvemos a nuestros datos originales."
   ]
  },
  {
   "cell_type": "code",
   "execution_count": 14,
   "metadata": {},
   "outputs": [],
   "source": [
    "import requests\n",
    "\n",
    "url = \"https://jsonplaceholder.typicode.com/todos\"\n",
    "\n",
    "res = requests.get(url)\n",
    "\n",
    "data = res.json()"
   ]
  },
  {
   "cell_type": "markdown",
   "metadata": {},
   "source": [
    "Nuestros datos son una lista sobre la que podemos iterar o indexarla."
   ]
  },
  {
   "cell_type": "code",
   "execution_count": 4,
   "metadata": {},
   "outputs": [
    {
     "data": {
      "text/plain": [
       "True"
      ]
     },
     "execution_count": 4,
     "metadata": {},
     "output_type": "execute_result"
    }
   ],
   "source": [
    "data[9][\"completed\"]"
   ]
  },
  {
   "cell_type": "markdown",
   "metadata": {},
   "source": [
    "#### Ejercicio\n",
    "\n",
    "Hemos hecho una llamada a un `endpoint`. Nos ha devuelto una serie de datos que representan unos \"to-do's\" (tareas por hacer). El objetivo es:\n",
    "\n",
    "Iterar sobre la lista de datos recibidos. Para cada item hacer lo siguiente:\n",
    "* Si `\"completed\"` = `True` --> añadimos a la lista de completados el valor que tenga la variable `\"id\"`\n",
    "\n",
    "Ejemplo: el item `data[9]` tiene la variable `\"completed\": True` y `\"id\": 10`. En este casi tenemos que añadir a nuestra lista `completados` el valor `10`."
   ]
  },
  {
   "cell_type": "markdown",
   "metadata": {},
   "source": [
    "**Nota**:\n",
    "\n",
    "En Python:\n",
    "\n",
    "```python\n",
    "if algo == True:\n",
    "    # hacer cosas\n",
    "```\n",
    "\n",
    "Es lo mismo que poner: \n",
    "```python\n",
    "if algo:\n",
    "    # hacer cosas\n",
    "```\n",
    "\n",
    "Del mismo modo:\n",
    "\n",
    "```python\n",
    "if algo == False:\n",
    "    # hacer cosas\n",
    "```\n",
    "\n",
    "Es lo mismo que poner: \n",
    "```python\n",
    "if not algo:\n",
    "    # hacer cosas\n",
    "```"
   ]
  },
  {
   "cell_type": "code",
   "execution_count": null,
   "metadata": {},
   "outputs": [
    {
     "name": "stdout",
     "output_type": "stream",
     "text": [
      "completado\n"
     ]
    }
   ],
   "source": [
    "if data[9][\"completed\"]:\n",
    "    print(\"completado\")"
   ]
  },
  {
   "cell_type": "code",
   "execution_count": 19,
   "metadata": {},
   "outputs": [],
   "source": [
    "# for elemento in data:\n",
    "#     if elemento[\"completed\"]:\n",
    "#         print(elemento)"
   ]
  },
  {
   "cell_type": "code",
   "execution_count": null,
   "metadata": {},
   "outputs": [],
   "source": [
    "completados = []\n",
    "\n",
    "for elemento in data:\n",
    "    pass\n",
    "    ########\n",
    "    ## CODE HERE\n",
    "    ########\n",
    "    "
   ]
  },
  {
   "cell_type": "markdown",
   "metadata": {},
   "source": [
    "**Mas ejemplos**"
   ]
  },
  {
   "cell_type": "code",
   "execution_count": 31,
   "metadata": {},
   "outputs": [],
   "source": [
    "titulo = data[0][\"title\"]\n",
    "lista_titulo = titulo.split()\n",
    "primera_palabra = lista_titulo[0]"
   ]
  },
  {
   "cell_type": "code",
   "execution_count": 47,
   "metadata": {},
   "outputs": [],
   "source": [
    "dictionary = {}"
   ]
  },
  {
   "cell_type": "code",
   "execution_count": 48,
   "metadata": {},
   "outputs": [],
   "source": [
    "def procesar_elemento(elemento):\n",
    " \n",
    "    titulo = elemento[\"title\"]\n",
    "    lista_titulo = titulo.split()\n",
    "    primera_palabra = lista_titulo[0]\n",
    "\n",
    "    primera_palabra_minus = primera_palabra.lower()\n",
    "    palabra_reemplazada = primera_palabra_minus.replace(\"a\", \"---\")\n",
    "    \n",
    "    dictionary[primera_palabra_minus] = palabra_reemplazada\n",
    "    \n",
    "    \n",
    "\n",
    "    return palabra_reemplazada"
   ]
  },
  {
   "cell_type": "code",
   "execution_count": 49,
   "metadata": {},
   "outputs": [
    {
     "data": {
      "text/plain": [
       "['et',\n",
       " 'quo',\n",
       " 'illo',\n",
       " 'vero',\n",
       " 'ips---',\n",
       " 'repellendus',\n",
       " '---b',\n",
       " '---ccus---mus',\n",
       " 'quo',\n",
       " 'molesti---e',\n",
       " 'ull---m',\n",
       " 'distinctio',\n",
       " 'volupt---s',\n",
       " '---liqu---m',\n",
       " 'verit---tis',\n",
       " 'nemo',\n",
       " 'repellendus',\n",
       " 'excepturi',\n",
       " 'tot---m',\n",
       " 'tempore',\n",
       " 'cum',\n",
       " 'cupidit---te',\n",
       " 'quis',\n",
       " 'volupt---tum',\n",
       " 'deleniti',\n",
       " 'et',\n",
       " 'odit',\n",
       " 'doloremque',\n",
       " 'sint',\n",
       " 'sequi',\n",
       " 'eum',\n",
       " 'tempore',\n",
       " 'suscipit',\n",
       " 'quidem',\n",
       " 'et',\n",
       " 'incidunt',\n",
       " 'l---ud---ntium',\n",
       " 'sequi',\n",
       " 'molesti---e',\n",
       " 'null---',\n",
       " 'in',\n",
       " 'odio',\n",
       " 'vel',\n",
       " 'debitis',\n",
       " 'tot---m',\n",
       " '---d',\n",
       " '---',\n",
       " '---utem',\n",
       " '---ut',\n",
       " 'ips---',\n",
       " 'inventore',\n",
       " 'provident',\n",
       " 'ut',\n",
       " 'volupt---tem',\n",
       " 'null---',\n",
       " 'qui',\n",
       " 'et',\n",
       " 'pl---ce---t',\n",
       " '---ut',\n",
       " 'explic---bo',\n",
       " 'm---iores',\n",
       " 'molesti---e',\n",
       " 'eum',\n",
       " '---ccus---mus',\n",
       " 'rerum',\n",
       " 'volupt---tem',\n",
       " 'n---m',\n",
       " 'dolorem',\n",
       " 'debitis',\n",
       " 'debitis',\n",
       " 'ex',\n",
       " 'omnis',\n",
       " 'e---',\n",
       " 'fugi---t',\n",
       " 'l---ud---ntium',\n",
       " 'nesciunt',\n",
       " 'omnis',\n",
       " 'debitis',\n",
       " 'inventore',\n",
       " 'omnis',\n",
       " 'vel',\n",
       " 'culp---',\n",
       " '---ccus---mus',\n",
       " 'temporibus',\n",
       " 'rerum',\n",
       " 'rerum',\n",
       " 'consequuntur',\n",
       " 'dignissimos',\n",
       " 'quis',\n",
       " 'numqu---m']"
      ]
     },
     "execution_count": 49,
     "metadata": {},
     "output_type": "execute_result"
    }
   ],
   "source": [
    "[procesar_elemento(elem) for elem in data if elem[\"completed\"]]"
   ]
  },
  {
   "cell_type": "code",
   "execution_count": 51,
   "metadata": {},
   "outputs": [],
   "source": [
    "from mis_funciones import guardar_json"
   ]
  },
  {
   "cell_type": "code",
   "execution_count": 52,
   "metadata": {},
   "outputs": [
    {
     "data": {
      "text/plain": [
       "('procesados.json', None)"
      ]
     },
     "execution_count": 52,
     "metadata": {},
     "output_type": "execute_result"
    }
   ],
   "source": [
    "guardar_json(dictionary, \"procesados.json\")"
   ]
  },
  {
   "cell_type": "code",
   "execution_count": 37,
   "metadata": {},
   "outputs": [
    {
     "data": {
      "text/plain": [
       "['---ut',\n",
       " 'ut',\n",
       " 'veni---m',\n",
       " 'molliti---',\n",
       " 'ull---m',\n",
       " 'expedit---',\n",
       " 'perspici---tis',\n",
       " 'doloremque',\n",
       " 'est',\n",
       " 'repell---t',\n",
       " 'it---que',\n",
       " 'non',\n",
       " 'tot---m',\n",
       " '---ut',\n",
       " 'tot---m',\n",
       " 'doloribus',\n",
       " 'sit',\n",
       " '---ut',\n",
       " 'cum',\n",
       " 'qui---',\n",
       " 'quibusd---m',\n",
       " '---met',\n",
       " 'perferendis',\n",
       " 'solut---',\n",
       " 'volupt---tem',\n",
       " 'qui',\n",
       " 'reprehenderit',\n",
       " 'necessit---tibus',\n",
       " 'exercit---tionem',\n",
       " 'dolorum',\n",
       " 'l---bore',\n",
       " 'et',\n",
       " 'dict---',\n",
       " 'velit',\n",
       " 'pl---ce---t',\n",
       " 'consequ---tur',\n",
       " 'p---ri---tur',\n",
       " 'eum',\n",
       " 'volupt---tibus',\n",
       " 'id',\n",
       " 'sint',\n",
       " 'sequi',\n",
       " 'velit',\n",
       " 'f---cilis',\n",
       " 'tempore',\n",
       " '---dipisci',\n",
       " '---ut',\n",
       " 'est',\n",
       " 'eum',\n",
       " 'verit---tis',\n",
       " '---ut',\n",
       " 'modi',\n",
       " 'suscipit',\n",
       " 'l---borios---m',\n",
       " 'volupt---tes',\n",
       " '---',\n",
       " 'enim',\n",
       " '---b',\n",
       " 'sunt',\n",
       " 'non',\n",
       " 'f---cilis',\n",
       " '---ccus---ntium',\n",
       " 'impedit',\n",
       " '---tque',\n",
       " 'quos',\n",
       " 'et',\n",
       " 'qu---e',\n",
       " 'modi',\n",
       " 'ducimus',\n",
       " 'l---borios---m',\n",
       " 'et',\n",
       " 'consectetur',\n",
       " 'qu---si',\n",
       " 'omnis',\n",
       " 'culp---',\n",
       " 'e---',\n",
       " 'doloribus',\n",
       " 'ips---',\n",
       " 'illo',\n",
       " 'sit',\n",
       " 'doloribus',\n",
       " 'non',\n",
       " 'eum',\n",
       " 'qui',\n",
       " 'qu---s',\n",
       " 'volupt---s',\n",
       " '---met',\n",
       " 'eligendi',\n",
       " '---peri---m',\n",
       " 'pr---esentium',\n",
       " 'corrupti',\n",
       " 'quos',\n",
       " 'perferendis',\n",
       " 'quo',\n",
       " 'quis',\n",
       " 'qui---',\n",
       " '---liqu---m',\n",
       " 'provident',\n",
       " '---d',\n",
       " '---ut',\n",
       " 'solut---',\n",
       " 'pl---ce---t',\n",
       " 'cupidit---te',\n",
       " 'modi',\n",
       " 'dignissimos',\n",
       " 'odio',\n",
       " '---nimi',\n",
       " 'qu---s',\n",
       " 'ut',\n",
       " '---peri---m']"
      ]
     },
     "execution_count": 37,
     "metadata": {},
     "output_type": "execute_result"
    }
   ],
   "source": [
    "[\n",
    "    elemento[\"title\"].split()[1].lower().replace(\"a\", \"---\")\n",
    "    for elemento in data\n",
    "    if not elemento[\"completed\"]\n",
    "]"
   ]
  },
  {
   "cell_type": "code",
   "execution_count": 25,
   "metadata": {},
   "outputs": [
    {
     "data": {
      "text/plain": [
       "True"
      ]
     },
     "execution_count": 25,
     "metadata": {},
     "output_type": "execute_result"
    }
   ],
   "source": [
    "[elemento[\"id\"] for elemento in data if elemento[\"completed\"]] # == completados"
   ]
  },
  {
   "cell_type": "code",
   "execution_count": 1,
   "metadata": {},
   "outputs": [],
   "source": [
    "import requests"
   ]
  },
  {
   "cell_type": "markdown",
   "metadata": {},
   "source": [
    "## Ejercicio 01\n",
    "\n",
    "\n",
    "* Usando la API: https://exchangeratesapi.io/\n",
    "    * Hay que entrar a la web y ahi sale la \"documentación\". Debéis usar la URL correcta para lo que queréis hacer.\n",
    "* Crear una función de conversión de divisas.\n",
    "* La función acepta 2 parámetros. El primer parámetro son la cantidad de \"EUR\". El otro parámetro es la divisa a la que queremos convertir. \n",
    "\n",
    "**Extra**\n",
    "* Añadir un tercer parámetro `lista=False`.\n",
    "* Si lo ejecutamos con `lista=True` la función nos debe devolver ADEMÁS de la conversión, una lista que incluya todas las divisas entre las que puede convertir."
   ]
  }
 ],
 "metadata": {
  "kernelspec": {
   "display_name": "teach",
   "language": "python",
   "name": "teach"
  },
  "language_info": {
   "codemirror_mode": {
    "name": "ipython",
    "version": 3
   },
   "file_extension": ".py",
   "mimetype": "text/x-python",
   "name": "python",
   "nbconvert_exporter": "python",
   "pygments_lexer": "ipython3",
   "version": "3.7.7"
  }
 },
 "nbformat": 4,
 "nbformat_minor": 4
}
