{
 "cells": [
  {
   "cell_type": "markdown",
   "metadata": {
    "slideshow": {
     "slide_type": "slide"
    }
   },
   "source": [
    "# Creación y  uso de virtual environments"
   ]
  },
  {
   "cell_type": "markdown",
   "metadata": {
    "slideshow": {
     "slide_type": "slide"
    }
   },
   "source": [
    "La mayoría de los paquetes del sistema se almacenan en un directorio secundario de la ruta almacenada en `sys.prefix`"
   ]
  },
  {
   "cell_type": "code",
   "execution_count": 1,
   "metadata": {
    "slideshow": {
     "slide_type": "fragment"
    }
   },
   "outputs": [
    {
     "data": {
      "text/plain": [
       "'/Users/r/Projects/courses/python/avanzado/.venv'"
      ]
     },
     "execution_count": 1,
     "metadata": {},
     "output_type": "execute_result"
    }
   ],
   "source": [
    "import sys\n",
    "\n",
    "sys.prefix"
   ]
  },
  {
   "cell_type": "markdown",
   "metadata": {
    "slideshow": {
     "slide_type": "fragment"
    }
   },
   "source": [
    "Los paquetes de terceros instalados con easy_install o pip generalmente se colocan en uno de los directorios señalados por `site.getsitepackages`"
   ]
  },
  {
   "cell_type": "code",
   "execution_count": 2,
   "metadata": {
    "slideshow": {
     "slide_type": "fragment"
    }
   },
   "outputs": [
    {
     "data": {
      "text/plain": [
       "['/Users/r/Projects/courses/python/avanzado/.venv/lib/python3.7/site-packages']"
      ]
     },
     "execution_count": 2,
     "metadata": {},
     "output_type": "execute_result"
    }
   ],
   "source": [
    "import site\n",
    "\n",
    "site.getsitepackages()"
   ]
  },
  {
   "cell_type": "markdown",
   "metadata": {
    "slideshow": {
     "slide_type": "slide"
    }
   },
   "source": [
    "**Diferentes proyectos**\n",
    "\n",
    "¿Qué ocurre si necesitamos diferentes versiones de una misma librería?"
   ]
  },
  {
   "cell_type": "markdown",
   "metadata": {
    "slideshow": {
     "slide_type": "slide"
    }
   },
   "source": [
    "Welcome:\n",
    "\n",
    "* conda\n",
    "`https://docs.anaconda.com/anaconda/install/`\n",
    "\n",
    "Anaconda (conda): virtual environment + librerías científicas \"bien compiladas\"."
   ]
  },
  {
   "cell_type": "markdown",
   "metadata": {
    "slideshow": {
     "slide_type": "subslide"
    }
   },
   "source": [
    "### Conda\n",
    "\n",
    "```sh\n",
    "conda create --name curso python=3.7\n",
    "conda install numpy\n",
    "conda install -c conda-forge jupyterlab\n",
    "conda list\n",
    "pip install <...>\n",
    "conda env create -f environment.yml\n",
    "conda env remove --name curso\n",
    "```\n"
   ]
  },
  {
   "cell_type": "markdown",
   "metadata": {},
   "source": [
    "**Cosas importantes a tener en cuenta:**\n",
    "\n",
    "* Conda permite crear environments con dependencias de otros lenguajes (C++, etc)\n",
    "* Conda puede dar [problemas](https://github.com/conda/conda/issues/6073) al crear un environment nuevo a partir de un archivo yml exportado, hay [una issue](https://github.com/conda/conda/issues/6073) en github al respecto todavía no resuelta."
   ]
  },
  {
   "cell_type": "markdown",
   "metadata": {},
   "source": [
    "### Otros managers a tener en cuenta:\n",
    "\n",
    "* [venv](https://docs.python.org/3/library/venv.html) + [pip-tools](https://github.com/jazzband/pip-tools) 🙋🏻‍♂️\n",
    "* [virtualenv](https://virtualenv.pypa.io/en/latest/) parecido a `venv`\n",
    "* [poetry](https://github.com/sdispater/poetry)\n",
    "* [virtualenvwrapper](https://virtualenvwrapper.readthedocs.io/en/latest/). Es un wrapper de virtualven (quien lo diría por el nombre). No tiene tantas features como los demás pero es muy sencillo de usar y puede ser útil en proyectos con baja complejidad."
   ]
  },
  {
   "cell_type": "markdown",
   "metadata": {
    "slideshow": {
     "slide_type": "fragment"
    }
   },
   "source": [
    "Más información: https://realpython.com/effective-python-environment/"
   ]
  }
 ],
 "metadata": {
  "kernelspec": {
   "display_name": "teach",
   "language": "python",
   "name": "teach"
  },
  "language_info": {
   "codemirror_mode": {
    "name": "ipython",
    "version": 3
   },
   "file_extension": ".py",
   "mimetype": "text/x-python",
   "name": "python",
   "nbconvert_exporter": "python",
   "pygments_lexer": "ipython3",
   "version": "3.8.3"
  }
 },
 "nbformat": 4,
 "nbformat_minor": 4
}
