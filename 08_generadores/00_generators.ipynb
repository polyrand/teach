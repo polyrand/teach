{
 "cells": [
  {
   "cell_type": "markdown",
   "metadata": {},
   "source": [
    "# Generadores"
   ]
  },
  {
   "cell_type": "markdown",
   "metadata": {},
   "source": [
    "Los generadores son funciones que devuelven un iterable \"lazy\"."
   ]
  },
  {
   "cell_type": "markdown",
   "metadata": {},
   "source": [
    "`yield` vs `return`?"
   ]
  },
  {
   "cell_type": "code",
   "execution_count": 1,
   "metadata": {},
   "outputs": [],
   "source": [
    "import sys\n",
    "\n",
    "def s(obj):\n",
    "    return f\"{round((sys.getsizeof(obj) * 1e-6), ndigits=10)} MB\""
   ]
  },
  {
   "cell_type": "code",
   "execution_count": 2,
   "metadata": {},
   "outputs": [],
   "source": [
    "from itertools import islice\n",
    "\n",
    "\n",
    "def take(n, iterable):\n",
    "    \"Return first n items of the iterable as a list\"\n",
    "    return list(islice(iterable, n))"
   ]
  },
  {
   "cell_type": "code",
   "execution_count": 3,
   "metadata": {},
   "outputs": [],
   "source": [
    "import time\n",
    "\n",
    "\n",
    "def my_generator():\n",
    "    for i in range(5):\n",
    "        time.sleep(1)\n",
    "        yield i"
   ]
  },
  {
   "cell_type": "code",
   "execution_count": 4,
   "metadata": {},
   "outputs": [
    {
     "data": {
      "text/plain": [
       "<generator object my_generator at 0x10c0dc4a0>"
      ]
     },
     "execution_count": 4,
     "metadata": {},
     "output_type": "execute_result"
    }
   ],
   "source": [
    "my_generator()"
   ]
  },
  {
   "cell_type": "code",
   "execution_count": 7,
   "metadata": {},
   "outputs": [
    {
     "data": {
      "text/plain": [
       "0"
      ]
     },
     "execution_count": 7,
     "metadata": {},
     "output_type": "execute_result"
    }
   ],
   "source": [
    "next(my_generator())"
   ]
  },
  {
   "cell_type": "code",
   "execution_count": 8,
   "metadata": {},
   "outputs": [],
   "source": [
    "generator = my_generator()"
   ]
  },
  {
   "cell_type": "code",
   "execution_count": 9,
   "metadata": {},
   "outputs": [
    {
     "name": "stdout",
     "output_type": "stream",
     "text": [
      "0\n",
      "1\n",
      "2\n",
      "3\n",
      "4\n"
     ]
    }
   ],
   "source": [
    "for g in generator:\n",
    "    print(g)"
   ]
  },
  {
   "cell_type": "code",
   "execution_count": 10,
   "metadata": {},
   "outputs": [
    {
     "ename": "StopIteration",
     "evalue": "",
     "output_type": "error",
     "traceback": [
      "\u001b[0;31m---------------------------------------------------------------------------\u001b[0m",
      "\u001b[0;31mStopIteration\u001b[0m                             Traceback (most recent call last)",
      "\u001b[0;32m<ipython-input-10-323ce5d717bb>\u001b[0m in \u001b[0;36m<module>\u001b[0;34m\u001b[0m\n\u001b[0;32m----> 1\u001b[0;31m \u001b[0mnext\u001b[0m\u001b[0;34m(\u001b[0m\u001b[0mgenerator\u001b[0m\u001b[0;34m)\u001b[0m\u001b[0;34m\u001b[0m\u001b[0;34m\u001b[0m\u001b[0m\n\u001b[0m",
      "\u001b[0;31mStopIteration\u001b[0m: "
     ]
    }
   ],
   "source": [
    "next(generator)"
   ]
  },
  {
   "cell_type": "code",
   "execution_count": 62,
   "metadata": {},
   "outputs": [],
   "source": [
    "# lista_n = []\n",
    "\n",
    "# for i in range(n):\n",
    "#     lista_n.append(i**2)"
   ]
  },
  {
   "cell_type": "code",
   "execution_count": 63,
   "metadata": {},
   "outputs": [],
   "source": []
  },
  {
   "cell_type": "code",
   "execution_count": 18,
   "metadata": {},
   "outputs": [],
   "source": [
    "# for i in lista:\n",
    "#     print(i)\n",
    "#     break"
   ]
  },
  {
   "cell_type": "code",
   "execution_count": 37,
   "metadata": {},
   "outputs": [
    {
     "data": {
      "text/plain": [
       "4"
      ]
     },
     "execution_count": 37,
     "metadata": {},
     "output_type": "execute_result"
    }
   ],
   "source": [
    "next(generador)"
   ]
  },
  {
   "cell_type": "code",
   "execution_count": 38,
   "metadata": {},
   "outputs": [],
   "source": [
    "def my_generator(n):\n",
    "    for i in range(n):\n",
    "        yield i**2"
   ]
  },
  {
   "cell_type": "code",
   "execution_count": 42,
   "metadata": {},
   "outputs": [
    {
     "data": {
      "text/plain": [
       "[0, 1]"
      ]
     },
     "execution_count": 42,
     "metadata": {},
     "output_type": "execute_result"
    }
   ],
   "source": [
    "take(2, my_generator(20))"
   ]
  },
  {
   "cell_type": "code",
   "execution_count": 43,
   "metadata": {},
   "outputs": [],
   "source": [
    "mygen = my_generator(20)"
   ]
  },
  {
   "cell_type": "code",
   "execution_count": 50,
   "metadata": {},
   "outputs": [
    {
     "data": {
      "text/plain": [
       "[144, 169, 196, 225, 256]"
      ]
     },
     "execution_count": 50,
     "metadata": {},
     "output_type": "execute_result"
    }
   ],
   "source": [
    "take(5, mygen)"
   ]
  },
  {
   "cell_type": "code",
   "execution_count": 51,
   "metadata": {},
   "outputs": [],
   "source": [
    "# for i in generador:\n",
    "#     print(i)\n",
    "#     break"
   ]
  },
  {
   "cell_type": "code",
   "execution_count": 119,
   "metadata": {},
   "outputs": [
    {
     "data": {
      "text/plain": [
       "441"
      ]
     },
     "execution_count": 119,
     "metadata": {},
     "output_type": "execute_result"
    }
   ],
   "source": [
    "next(generador)"
   ]
  },
  {
   "cell_type": "code",
   "execution_count": 119,
   "metadata": {},
   "outputs": [],
   "source": [
    "n = 10_000_000"
   ]
  },
  {
   "cell_type": "code",
   "execution_count": 120,
   "metadata": {},
   "outputs": [],
   "source": [
    "generador = (i**2 for i in range(n))"
   ]
  },
  {
   "cell_type": "code",
   "execution_count": 121,
   "metadata": {},
   "outputs": [],
   "source": [
    "lista = [i**2 for i in range(n)]"
   ]
  },
  {
   "cell_type": "code",
   "execution_count": 122,
   "metadata": {},
   "outputs": [
    {
     "data": {
      "text/plain": [
       "'81.528048 MB'"
      ]
     },
     "execution_count": 122,
     "metadata": {},
     "output_type": "execute_result"
    }
   ],
   "source": [
    "s(lista)"
   ]
  },
  {
   "cell_type": "code",
   "execution_count": 123,
   "metadata": {},
   "outputs": [
    {
     "data": {
      "text/plain": [
       "'0.000112 MB'"
      ]
     },
     "execution_count": 123,
     "metadata": {},
     "output_type": "execute_result"
    }
   ],
   "source": [
    "s(generador)"
   ]
  },
  {
   "cell_type": "code",
   "execution_count": 89,
   "metadata": {},
   "outputs": [
    {
     "data": {
      "text/plain": [
       "[0, 1, 4, 9, 16, 25, 36, 49, 64, 81]"
      ]
     },
     "execution_count": 89,
     "metadata": {},
     "output_type": "execute_result"
    }
   ],
   "source": [
    "take(10, lista)"
   ]
  },
  {
   "cell_type": "code",
   "execution_count": 115,
   "metadata": {},
   "outputs": [
    {
     "data": {
      "text/plain": [
       "[62500, 63001, 63504, 64009, 64516, 65025, 65536, 66049, 66564, 67081]"
      ]
     },
     "execution_count": 115,
     "metadata": {},
     "output_type": "execute_result"
    }
   ],
   "source": [
    "take(10, generador)"
   ]
  },
  {
   "cell_type": "markdown",
   "metadata": {},
   "source": [
    "# Corutinas\n",
    "\n",
    "\n",
    "\n",
    "**Nota:** las corrutinas es mejor estudiarlas en el contexto de `async` (ver notebook siguiente)"
   ]
  },
  {
   "cell_type": "code",
   "execution_count": 124,
   "metadata": {},
   "outputs": [],
   "source": [
    "def bare_bones():\n",
    "    print(\"Mi primera corutina!\")\n",
    "    while True:\n",
    "        value = yield\n",
    "        print(value)\n",
    "\n",
    "\n",
    "coroutine = bare_bones()"
   ]
  },
  {
   "cell_type": "code",
   "execution_count": 126,
   "metadata": {},
   "outputs": [
    {
     "name": "stdout",
     "output_type": "stream",
     "text": [
      "Mi primera corutina!\n"
     ]
    }
   ],
   "source": [
    "next(coroutine)"
   ]
  },
  {
   "cell_type": "code",
   "execution_count": 127,
   "metadata": {},
   "outputs": [
    {
     "name": "stdout",
     "output_type": "stream",
     "text": [
      "hola\n"
     ]
    }
   ],
   "source": [
    "coroutine.send(\"hola\")"
   ]
  },
  {
   "cell_type": "code",
   "execution_count": 128,
   "metadata": {},
   "outputs": [
    {
     "name": "stdout",
     "output_type": "stream",
     "text": [
      "Toma otro!\n"
     ]
    }
   ],
   "source": [
    "coroutine.send(\"Toma otro!\")"
   ]
  },
  {
   "cell_type": "code",
   "execution_count": 129,
   "metadata": {},
   "outputs": [
    {
     "name": "stdout",
     "output_type": "stream",
     "text": [
      "Y otro!\n"
     ]
    }
   ],
   "source": [
    "coroutine.send(\"Y otro!\")"
   ]
  },
  {
   "cell_type": "code",
   "execution_count": 130,
   "metadata": {},
   "outputs": [],
   "source": [
    "coroutine.close()"
   ]
  },
  {
   "cell_type": "code",
   "execution_count": 131,
   "metadata": {},
   "outputs": [
    {
     "ename": "StopIteration",
     "evalue": "",
     "output_type": "error",
     "traceback": [
      "\u001b[0;31m---------------------------------------------------------------------------\u001b[0m",
      "\u001b[0;31mStopIteration\u001b[0m                             Traceback (most recent call last)",
      "\u001b[0;32m<ipython-input-131-2f490ce42901>\u001b[0m in \u001b[0;36m<module>\u001b[0;34m\u001b[0m\n\u001b[0;32m----> 1\u001b[0;31m \u001b[0mcoroutine\u001b[0m\u001b[0;34m.\u001b[0m\u001b[0msend\u001b[0m\u001b[0;34m(\u001b[0m\u001b[0;34m\"Y ahora?\"\u001b[0m\u001b[0;34m)\u001b[0m\u001b[0;34m\u001b[0m\u001b[0;34m\u001b[0m\u001b[0m\n\u001b[0m",
      "\u001b[0;31mStopIteration\u001b[0m: "
     ]
    }
   ],
   "source": [
    "coroutine.send(\"Y ahora?\")"
   ]
  },
  {
   "cell_type": "code",
   "execution_count": 157,
   "metadata": {},
   "outputs": [],
   "source": [
    "def b2():\n",
    "    print(\"Mi primera corutina!\")\n",
    "    while True:\n",
    "        myc = yield\n",
    "        print(myc.hola())\n",
    "\n",
    "\n",
    "c2 = b2()"
   ]
  },
  {
   "cell_type": "code",
   "execution_count": 158,
   "metadata": {},
   "outputs": [
    {
     "name": "stdout",
     "output_type": "stream",
     "text": [
      "Mi primera corutina!\n"
     ]
    }
   ],
   "source": [
    "c2.send(None)"
   ]
  },
  {
   "cell_type": "code",
   "execution_count": 168,
   "metadata": {},
   "outputs": [],
   "source": [
    "def f():\n",
    "    print(1)"
   ]
  },
  {
   "cell_type": "code",
   "execution_count": 160,
   "metadata": {},
   "outputs": [],
   "source": [
    "class C:\n",
    "    def __init__(self, t):\n",
    "        self.t = t\n",
    "    def hola(self):\n",
    "        print(self.t)"
   ]
  },
  {
   "cell_type": "code",
   "execution_count": 166,
   "metadata": {},
   "outputs": [],
   "source": [
    "c = C(\"cascascas\")"
   ]
  },
  {
   "cell_type": "code",
   "execution_count": 167,
   "metadata": {},
   "outputs": [
    {
     "name": "stdout",
     "output_type": "stream",
     "text": [
      "cascascas\n",
      "None\n"
     ]
    }
   ],
   "source": [
    "c2.send(c)"
   ]
  },
  {
   "cell_type": "code",
   "execution_count": 169,
   "metadata": {},
   "outputs": [
    {
     "name": "stdout",
     "output_type": "stream",
     "text": [
      "Mi primera corutina!\n",
      "Toma otro!\n",
      "Fin!!\n"
     ]
    }
   ],
   "source": [
    "def bare_bones():\n",
    "    print(\"Mi primera corutina!\")\n",
    "    try:\n",
    "        while True:\n",
    "            value = yield\n",
    "            print(value)\n",
    "    except GeneratorExit:\n",
    "        print(\"Fin!!\")\n",
    "\n",
    "\n",
    "coroutine = bare_bones()\n",
    "# next(coroutine)\n",
    "coroutine.send(None)\n",
    "coroutine.send(\"Toma otro!\")\n",
    "coroutine.close()"
   ]
  },
  {
   "cell_type": "code",
   "execution_count": 170,
   "metadata": {},
   "outputs": [
    {
     "name": "stdout",
     "output_type": "stream",
     "text": [
      "Encendido\n"
     ]
    }
   ],
   "source": [
    "def filter_line(cadena: str):\n",
    "    print(\"Encendido\")\n",
    "    while True:\n",
    "        line = yield\n",
    "        if cadena in line:\n",
    "            print(line)\n",
    "\n",
    "\n",
    "cor = filter_line(\"33\")\n",
    "next(cor)"
   ]
  },
  {
   "cell_type": "code",
   "execution_count": 171,
   "metadata": {},
   "outputs": [
    {
     "name": "stdout",
     "output_type": "stream",
     "text": [
      "Marco, age:33\n"
     ]
    }
   ],
   "source": [
    "cor.send(\"Marco, age:33\")"
   ]
  },
  {
   "cell_type": "code",
   "execution_count": 173,
   "metadata": {},
   "outputs": [
    {
     "name": "stdout",
     "output_type": "stream",
     "text": [
      "Marco, age:33\n"
     ]
    }
   ],
   "source": [
    "cor.send(\"Jessica, age:24\")\n",
    "cor.send(\"Marco, age:33\") # 33\n",
    "cor.send(\"Filipe, age:55\")"
   ]
  },
  {
   "cell_type": "code",
   "execution_count": 174,
   "metadata": {},
   "outputs": [
    {
     "name": "stdout",
     "output_type": "stream",
     "text": [
      "Using a decorator!\n"
     ]
    }
   ],
   "source": [
    "def coroutine(func):\n",
    "    def start(*args, **kwargs):\n",
    "        cr = func(*args, **kwargs)\n",
    "        next(cr)\n",
    "        return cr\n",
    "\n",
    "    return start\n",
    "\n",
    "\n",
    "@coroutine\n",
    "def bare_bones():\n",
    "    while True:\n",
    "        value = yield\n",
    "        print(value)\n",
    "\n",
    "\n",
    "cor = bare_bones()\n",
    "cor.send(\"Using a decorator!\")"
   ]
  },
  {
   "cell_type": "code",
   "execution_count": 18,
   "metadata": {},
   "outputs": [],
   "source": [
    "cor.close()"
   ]
  },
  {
   "cell_type": "markdown",
   "metadata": {},
   "source": [
    "### Pipelines\n",
    "\n",
    "![](https://stackabuse.s3.amazonaws.com/media/coroutines-in-python-1.png)\n",
    "\n",
    "> source: https://stackabuse.com/coroutines-in-python/\n",
    "\n",
    "Las corutinas son candidatas naturales para realizar estas operaciones, pueden pasarse datos entre sí con los métodos `send()` y también pueden servir como \"consumidores\" finales."
   ]
  },
  {
   "cell_type": "code",
   "execution_count": 175,
   "metadata": {},
   "outputs": [
    {
     "name": "stdout",
     "output_type": "stream",
     "text": [
      "1\n",
      "2\n",
      "4\n",
      "8\n",
      "16\n",
      "32\n"
     ]
    }
   ],
   "source": [
    "def productor(cor):\n",
    "    n = 1\n",
    "    while n < 100:\n",
    "        cor.send(n)\n",
    "        n = n * 2\n",
    "\n",
    "\n",
    "@coroutine\n",
    "def filtro(num, cor):\n",
    "    while True:\n",
    "        n = yield\n",
    "        if n < num:\n",
    "            cor.send(n)\n",
    "\n",
    "\n",
    "@coroutine\n",
    "def printer():\n",
    "    while True:\n",
    "        n = yield\n",
    "        print(n)\n",
    "\n",
    "\n",
    "prnt = printer()\n",
    "filt = filtro(50, prnt)\n",
    "productor(filt)"
   ]
  },
  {
   "cell_type": "markdown",
   "metadata": {},
   "source": [
    "* No son \"thread safe\"\n",
    "* Una corutina que acepte corutinas como argumentos NO puede enviarse a si misma (coroutine looping)"
   ]
  },
  {
   "cell_type": "markdown",
   "metadata": {},
   "source": [
    "## Ejercicio: crear varios generadores:\n",
    "\n",
    "1. Cada linea del archivo\n",
    "2. Cada elemento del generador `1`, convertido a numero entero\n",
    "3. Cada elemento al cuadrado `**2` del generador `2`\n",
    "\n",
    "  * ¿Cuánto suman todos esos números que hemos elevado al cuadrado?\n",
    "\n",
    "4. Crear una función generadora que me devuelva todos los múltiplos (infinitos) de un número."
   ]
  },
  {
   "cell_type": "code",
   "execution_count": null,
   "metadata": {},
   "outputs": [],
   "source": [
    "from base64 import b64decode, b64encode\n",
    "import requests\n",
    "\n",
    "u1 = \"aHR0cHM6Ly9yYXcuZ2l0aHVidXNlcmNvbnRlbnQuY29tL3BvbHlyYW5kL2FkdmVudG9mY29kZV8yMDIwL21haW4vZDAxL2lucHV0X3AxLnR4dA==\"\n",
    "\n",
    "\n",
    "with open(\"input.txt\", \"w\") as f:\n",
    "    f.write(requests.get(b64decode(u1).decode()).text)\n",
    "\n",
    "\n",
    "with open(\"input.txt\") as f:\n",
    "    data = f.read()"
   ]
  },
  {
   "cell_type": "markdown",
   "metadata": {},
   "source": [
    "### Example (beer)\n",
    "\n",
    "> source?  \n",
    "> https://www.pybloggers.com/2018/06/python-generators-tutorial/  \n",
    "> https://www.dataquest.io/blog/python-generators-tutorial/"
   ]
  },
  {
   "cell_type": "code",
   "execution_count": 181,
   "metadata": {},
   "outputs": [],
   "source": [
    "import requests\n",
    "\n",
    "response = requests.get(\"https://raw.githubusercontent.com/thecbp/blog_data/master/recipeData.csv\")\n",
    "response.raise_for_status()\n",
    "text = response.text\n",
    "\n",
    "with open(\"recipeData.csv\", \"w\") as f:\n",
    "    f.write(text)"
   ]
  },
  {
   "cell_type": "code",
   "execution_count": 182,
   "metadata": {},
   "outputs": [],
   "source": [
    "beer_data = \"recipeData.csv\"\n",
    "lines = (line for line in open(beer_data, encoding=\"ISO-8859-1\"))\n",
    "lists = (l.split(\",\") for l in lines)"
   ]
  },
  {
   "cell_type": "code",
   "execution_count": 183,
   "metadata": {},
   "outputs": [],
   "source": [
    "# Take the column names out of the generator and store them, leaving only data\n",
    "columns = next(lists)"
   ]
  },
  {
   "cell_type": "code",
   "execution_count": 190,
   "metadata": {},
   "outputs": [
    {
     "data": {
      "text/plain": [
       "{1: 6, 2: 7, 3: 8}"
      ]
     },
     "execution_count": 190,
     "metadata": {},
     "output_type": "execute_result"
    }
   ],
   "source": [
    "dict(zip([1,2,3], [6,7,8]))"
   ]
  },
  {
   "cell_type": "code",
   "execution_count": 185,
   "metadata": {},
   "outputs": [],
   "source": [
    "# Take these columns and use them to create an informative dictionary\n",
    "beerdicts = (dict(zip(columns, data)) for data in lists)"
   ]
  },
  {
   "cell_type": "markdown",
   "metadata": {},
   "source": [
    "### Current workflow  \n",
    "  \n",
    "  \n",
    "\n",
    "\n",
    "![img](https://i.imgur.com/HV4koXz.jpg)"
   ]
  },
  {
   "cell_type": "code",
   "execution_count": 191,
   "metadata": {},
   "outputs": [
    {
     "data": {
      "text/plain": [
       "'0.000112 MB'"
      ]
     },
     "execution_count": 191,
     "metadata": {},
     "output_type": "execute_result"
    }
   ],
   "source": [
    "s(beerdicts)"
   ]
  },
  {
   "cell_type": "code",
   "execution_count": 57,
   "metadata": {},
   "outputs": [
    {
     "data": {
      "text/plain": [
       "{'BeerID': '1',\n",
       " 'Name': 'Vanilla Cream Ale',\n",
       " 'URL': '/homebrew/recipe/view/1633/vanilla-cream-ale',\n",
       " 'Style': 'Cream Ale',\n",
       " 'StyleID': '45',\n",
       " 'Size(L)': '21.77',\n",
       " 'OG': '1.055',\n",
       " 'FG': '1.013',\n",
       " 'ABV': '5.48',\n",
       " 'IBU': '17.65',\n",
       " 'Color': '4.83',\n",
       " 'BoilSize': '28.39',\n",
       " 'BoilTime': '75',\n",
       " 'BoilGravity': '1.038',\n",
       " 'Efficiency': '70',\n",
       " 'MashThickness': 'N/A',\n",
       " 'SugarScale': 'Specific Gravity',\n",
       " 'BrewMethod': 'All Grain',\n",
       " 'PitchRate': 'N/A',\n",
       " 'PrimaryTemp': '17.78',\n",
       " 'PrimingMethod': 'corn sugar',\n",
       " 'PrimingAmount': '4.5 oz',\n",
       " 'UserId\\n': '116\\n'}"
      ]
     },
     "execution_count": 57,
     "metadata": {},
     "output_type": "execute_result"
    }
   ],
   "source": [
    "next(beerdicts)"
   ]
  },
  {
   "cell_type": "markdown",
   "metadata": {},
   "source": [
    "import itertools\n",
    "itertools.tee(beerdicts, 4)"
   ]
  },
  {
   "cell_type": "code",
   "execution_count": 192,
   "metadata": {},
   "outputs": [],
   "source": [
    "beer_counts = {}\n",
    "for bd in beerdicts:\n",
    "    if bd[\"Style\"] not in beer_counts:\n",
    "        beer_counts[bd[\"Style\"]] = 1\n",
    "    else:\n",
    "        beer_counts[bd[\"Style\"]] += 1"
   ]
  },
  {
   "cell_type": "code",
   "execution_count": 194,
   "metadata": {
    "collapsed": true,
    "jupyter": {
     "outputs_hidden": true
    }
   },
   "outputs": [
    {
     "data": {
      "text/plain": [
       "dict_items([('Holiday/Winter Special Spiced Beer', 331), ('American IPA', 11940), ('Belgian Blond Ale', 496), ('American Pale Ale', 7581), ('Imperial IPA', 1478), ('Cream Ale', 829), ('Robust Porter', 897), ('Bohemian Pilsener', 344), ('Saison', 2617), ('Northern English Brown', 284), ('English IPA', 784), ('Traditional Bock', 102), ('Premium American Lager', 108), ('Belgian Golden Strong Ale', 354), ('N/A', 596), ('Double IPA', 864), ('Blonde Ale', 1753), ('Light American Lager', 72), ('German Pilsner (Pils)', 466), ('American Brown Ale', 1152), ('Oatmeal Stout', 961), ('Specialty Beer', 430), ('American Amber Ale', 2038), ('Kï¿½lsch', 869), ('Witbier', 1072), ('Weizen/Weissbier', 919), ('Trappist Single', 123), ('Russian Imperial Stout', 929), ('Specialty IPA: Black IPA', 638), ('Sweet Stout', 919), ('Strong Scotch Ale', 230), ('Belgian Tripel', 563), ('American Stout', 1268), ('Belgian Pale Ale', 625), ('Dark American Lager', 58), ('Dry Stout', 484), ('Belgian Dark Strong Ale', 538), ('American Wheat or Rye Beer', 571), ('Vienna Lager', 395), ('Special/Best/Premium Bitter', 356), ('Experimental Beer', 432), ('Irish Red Ale', 1204), ('Old Ale', 300), ('Extra Special/Strong Bitter (ESB)', 659), ('Winter Seasonal Beer', 155), ('Standard American Lager', 46), ('Wood-Aged Beer', 67), ('Fruit Beer', 502), ('British Golden Ale', 271), ('Flanders Red Ale', 145), ('Berliner Weisse', 395), ('Oktoberfest/Mï¿½rzen', 364), ('Munich Helles', 340), ('Classic American Pilsner', 207), ('Gueuze', 63), ('Brown Porter', 438), ('American Light Lager', 2277), ('English Cider', 32), ('Fruit Cider', 22), ('Altbier', 137), ('Spice  Herb  or Vegetable Beer', 514), ('Southern English Brown', 103), ('Other Smoked Beer', 123), ('Belgian Dubbel', 530), ('Cyser (Apple Melomel)', 17), ('Metheglin', 14), ('Specialty IPA: Red IPA', 442), ('Belgian Specialty Ale', 422), ('Foreign Extra Stout', 360), ('Braggot', 93), ('Weizenbock', 203), ('International Pale Lager', 309), ('Common Cider', 92), ('Imperial Stout', 675), ('Strong Bitter', 481), ('Dusseldorf Altbier', 108), ('Biï¿½re de Garde', 181), ('Dunkelweizen', 196), ('Schwarzbier', 215), ('Baltic Porter', 344), ('Doppelbock', 237), ('American Barleywine', 341), ('Other Specialty Cider or Perry', 36), ('Specialty IPA: White IPA', 287), ('Mild', 276), ('California Common Beer', 1044), ('American Wheat Beer', 654), ('British Strong Ale', 195), ('Other Fruit Melomel', 63), ('Classic Rauchbier', 43), ('Mï¿½rzen', 333), ('American Lager', 220), ('Wee Heavy', 145), ('Dry Mead', 81), ('British Brown Ale', 390), ('Weissbier', 988), ('Clone Beer', 139), ('Best Bitter', 391), ('Standard/Ordinary Bitter', 323), ('Czech Premium Pale Lager', 237), ('Mixed-Fermentation Sour Beer', 162), ('Scottish Heavy 70/-', 39), ('English Porter', 222), ('Czech Dark Lager', 35), ('Roggenbier (German Rye Beer)', 96), ('Gose', 147), ('Fruit Lambic', 77), ('Sweet Mead', 36), ('Australian Sparkling Ale', 49), ('Maibock/Helles Bock', 138), ('American Strong Ale', 227), ('Specialty IPA: Belgian IPA', 221), ('Mixed-Style Beer', 143), ('North German Altbier', 67), ('American Porter', 787), ('Dortmunder Export', 45), ('German Pils', 199), ('Irish Stout', 263), ('English Barleywine', 253), ('Specialty IPA: Rye IPA', 318), ('Scottish Export', 178), ('Scottish Export 80/-', 117), ('Tropical Stout', 31), ('Eisbock', 21), ('Semi-Sweet Mead', 46), ('French Cider', 2), ('Munich Dunkel', 260), ('Specialty Smoked Beer', 70), ('Open Category Mead', 17), ('Wild Specialty Beer', 40), ('Apple Wine', 6), ('Czech Pale Lager', 167), ('California Common', 155), ('Flanders Brown Ale/Oud Bruin', 51), ('International Amber Lager', 88), ('Alternative Grain Beer', 36), ('Scottish Light 60/-', 25), ('Helles Bock', 76), ('Lambic', 73), ('Pre-Prohibition Lager', 30), ('Ordinary Bitter', 271), ('Wheatwine', 41), ('Dunkles Weissbier', 202), ('Straight (Unblended) Lambic', 54), ('Kentucky Common', 30), ('New England Cider', 7), ('Pyment (Grape Melomel)', 5), ('Lichtenhainer', 6), ('Irish Extra Stout', 64), ('Rauchbier', 45), ('Specialty IPA: Brown IPA', 92), ('Kellerbier: Amber Kellerbier', 18), ('Sahti', 22), ('Oud Bruin', 31), ('Piwo Grodziskie', 15), ('Specialty Fruit Beer', 51), ('Alternative Sugar Beer', 21), ('Kellerbier: Pale Kellerbier', 17), ('Classic Style Smoked Beer', 64), ('Czech Amber Lager', 32), ('Scottish Heavy', 105), ('Traditional Perry', 2), ('Festbier', 62), ('Brett Beer', 63), ('Dark Mild', 240), ('London Brown Ale', 8), ('Fruit and Spice Beer', 36), ('German Helles Exportbier', 33), ('Autumn Seasonal Beer', 77), ('International Dark Lager', 36), ('Roggenbier', 32), ('Dunkles Bock', 44), ('German Leichtbier', 20), ('Scottish Light', 43), ('Pre-Prohibition Porter', 12), ('Specialty Wood-Aged Beer', 11)])"
      ]
     },
     "execution_count": 194,
     "metadata": {},
     "output_type": "execute_result"
    }
   ],
   "source": [
    "beer_counts.items()"
   ]
  },
  {
   "cell_type": "code",
   "execution_count": 195,
   "metadata": {},
   "outputs": [
    {
     "name": "stdout",
     "output_type": "stream",
     "text": [
      "American IPA\n",
      "11940\n"
     ]
    }
   ],
   "source": [
    "most_popular = 0\n",
    "most_popular_type = None\n",
    "\n",
    "for beer, count in beer_counts.items():\n",
    "    if count > most_popular:\n",
    "        most_popular = count\n",
    "        most_popular_type = beer\n",
    "        \n",
    "        \n",
    "print(most_popular_type)\n",
    "print(most_popular)"
   ]
  },
  {
   "cell_type": "markdown",
   "metadata": {},
   "source": [
    "We now know that American IPAs are the most popular homebrewed beer in the data set, and we know how many entries they have in the data. We can try figuring out how strong our beer should be. This data is contained in the \"ABV\" (Alcohol By Volume) key. Since we are working with dictionaries as the output of our generator stream, why don't we add another generator to hone in on the exact values we want to output."
   ]
  },
  {
   "cell_type": "code",
   "execution_count": 218,
   "metadata": {},
   "outputs": [],
   "source": [
    "global_var = []\n",
    "\n",
    "def load():\n",
    "    lines = (line for line in open(\"recipeData.csv\", encoding=\"ISO-8859-1\"))\n",
    "    lists = (l.split(\",\") for l in lines)\n",
    "    global beerdicts\n",
    "    beerdicts = (dict(zip(columns, data)) for data in lists)\n",
    "\n",
    "\n",
    "load()"
   ]
  },
  {
   "cell_type": "code",
   "execution_count": 219,
   "metadata": {},
   "outputs": [],
   "source": [
    "abv = (float(bd[\"ABV\"]) for bd in beerdicts if bd[\"Style\"] == \"American IPA\")"
   ]
  },
  {
   "cell_type": "markdown",
   "metadata": {},
   "source": [
    "### Current workflow\n",
    "![img](https://i.imgur.com/hPjtGB8.jpg)"
   ]
  },
  {
   "cell_type": "code",
   "execution_count": 220,
   "metadata": {},
   "outputs": [
    {
     "data": {
      "text/plain": [
       "6.44429396984925"
      ]
     },
     "execution_count": 220,
     "metadata": {},
     "output_type": "execute_result"
    }
   ],
   "source": [
    "average = sum(abv) / most_popular\n",
    "average"
   ]
  },
  {
   "cell_type": "markdown",
   "metadata": {},
   "source": [
    "![img](https://i.imgur.com/zDmeJgr.jpg)"
   ]
  },
  {
   "cell_type": "markdown",
   "metadata": {},
   "source": [
    "### Generate infinite data"
   ]
  },
  {
   "cell_type": "code",
   "execution_count": 93,
   "metadata": {},
   "outputs": [],
   "source": [
    "def alwaysdata():\n",
    "    while True:\n",
    "        # code\n",
    "        # code\n",
    "        yield 'result'"
   ]
  },
  {
   "cell_type": "code",
   "execution_count": 105,
   "metadata": {},
   "outputs": [
    {
     "data": {
      "text/plain": [
       "'result'"
      ]
     },
     "execution_count": 105,
     "metadata": {},
     "output_type": "execute_result"
    }
   ],
   "source": [
    "next(alwaysdata())"
   ]
  },
  {
   "cell_type": "code",
   "execution_count": 106,
   "metadata": {},
   "outputs": [
    {
     "data": {
      "text/plain": [
       "'result'"
      ]
     },
     "execution_count": 106,
     "metadata": {},
     "output_type": "execute_result"
    }
   ],
   "source": [
    "next(alwaysdata())\n",
    "next(alwaysdata())\n",
    "next(alwaysdata())\n",
    "next(alwaysdata())"
   ]
  },
  {
   "cell_type": "code",
   "execution_count": 107,
   "metadata": {},
   "outputs": [
    {
     "data": {
      "text/plain": [
       "'result'"
      ]
     },
     "execution_count": 107,
     "metadata": {},
     "output_type": "execute_result"
    }
   ],
   "source": [
    "next(alwaysdata())"
   ]
  },
  {
   "cell_type": "markdown",
   "metadata": {},
   "source": [
    "### \"Non-consuming\" generators (restarter)"
   ]
  },
  {
   "cell_type": "code",
   "execution_count": null,
   "metadata": {},
   "outputs": [],
   "source": [
    "beer_data = \"generators/recipeData.csv\"\n",
    "\n",
    "\n",
    "def genfunc():\n",
    "    for l in open(beer_data, encoding=\"ISO-8859-1\"):\n",
    "        yield l.split(\",\")"
   ]
  },
  {
   "cell_type": "code",
   "execution_count": null,
   "metadata": {},
   "outputs": [],
   "source": [
    "ahora_si_se_consume = genfunc()"
   ]
  },
  {
   "cell_type": "code",
   "execution_count": null,
   "metadata": {},
   "outputs": [],
   "source": [
    "next(genfunc())"
   ]
  },
  {
   "cell_type": "markdown",
   "metadata": {},
   "source": [
    "### Exercise\n"
   ]
  },
  {
   "cell_type": "markdown",
   "metadata": {},
   "source": [
    "* Descargar este archivo: https://raw.githubusercontent.com/realpython/materials/master/generators/techcrunch.csv\n",
    "* Leer el archivo por lineas\n",
    "* Separar cada linea en los valores\n",
    "* Extraer los nombres de las columnas\n",
    "* Usar estos nombres para crear un generador de diccionarios\n",
    "* Calcular la suma total de dinero en todas las rondas \"A\"\n",
    "\n",
    "* Filtrar donde `round = a` y hacer una suma del `raisedAmt` de todas esas columnas."
   ]
  },
  {
   "cell_type": "code",
   "execution_count": 230,
   "metadata": {},
   "outputs": [],
   "source": [
    "import requests\n",
    "\n",
    "url = \"https://raw.githubusercontent.com/realpython/materials/master/generators/techcrunch.csv\"\n",
    "r = requests.get(url)\n",
    "\n",
    "with open(\"techcrunch.csv\", \"wb\") as f:\n",
    "    f.write(r.content)"
   ]
  },
  {
   "cell_type": "code",
   "execution_count": 233,
   "metadata": {},
   "outputs": [],
   "source": [
    "filename = \"techcrunch.csv\"\n",
    "lines = (line for line in open(filename))\n",
    "listas = (texto.split(\",\") for texto in lines)"
   ]
  },
  {
   "cell_type": "code",
   "execution_count": 232,
   "metadata": {},
   "outputs": [
    {
     "data": {
      "text/plain": [
       "['permalink',\n",
       " 'company',\n",
       " 'numEmps',\n",
       " 'category',\n",
       " 'city',\n",
       " 'state',\n",
       " 'fundedDate',\n",
       " 'raisedAmt',\n",
       " 'raisedCurrency',\n",
       " 'round\\n']"
      ]
     },
     "execution_count": 232,
     "metadata": {},
     "output_type": "execute_result"
    }
   ],
   "source": [
    "next(listas)"
   ]
  },
  {
   "cell_type": "code",
   "execution_count": 270,
   "metadata": {},
   "outputs": [],
   "source": [
    "filename = \"techcrunch.csv\"\n",
    "lines = (line for line in open(filename))\n",
    "\n",
    "############   vvvvvv\n",
    "\n",
    "listas = (texto.rstrip().split(\",\") for texto in lines)\n",
    "\n",
    "############   ^^^^^^\n",
    "##### cuidado que puede haber por ahí\n",
    "##### algun caracter que nos de problemas\n",
    "##### revisad el método .rstrip() o incluso un .replace() o .strip()\n",
    "\n",
    "\n",
    "columnas = next(listas)"
   ]
  },
  {
   "cell_type": "code",
   "execution_count": 271,
   "metadata": {},
   "outputs": [],
   "source": [
    "companies = (dict(zip(columnas, datos)) for datos in listas)"
   ]
  },
  {
   "cell_type": "code",
   "execution_count": 272,
   "metadata": {},
   "outputs": [],
   "source": [
    "dinero = []\n",
    "for diccionario in companies:\n",
    "    try:\n",
    "        cantidad = int(diccionario[\"raisedAmt\"])\n",
    "        if diccionario[\"round\"].lower() == \"a\":\n",
    "            dinero.append(cantidad)\n",
    "    except:\n",
    "        continue"
   ]
  },
  {
   "cell_type": "code",
   "execution_count": 240,
   "metadata": {},
   "outputs": [
    {
     "data": {
      "text/plain": [
       "{'permalink': 'lifelock',\n",
       " 'company': 'LifeLock',\n",
       " 'numEmps': '',\n",
       " 'category': 'web',\n",
       " 'city': 'Tempe',\n",
       " 'state': 'AZ',\n",
       " 'fundedDate': '1-May-07',\n",
       " 'raisedAmt': '6850000',\n",
       " 'raisedCurrency': 'USD',\n",
       " 'round': 'b'}"
      ]
     },
     "execution_count": 240,
     "metadata": {},
     "output_type": "execute_result"
    }
   ],
   "source": [
    "next(companies)"
   ]
  },
  {
   "cell_type": "markdown",
   "metadata": {},
   "source": [
    "💸💸💸💸"
   ]
  },
  {
   "cell_type": "code",
   "execution_count": 243,
   "metadata": {},
   "outputs": [],
   "source": [
    "money = (\n",
    "    int(diccionario[\"raisedAmt\"])\n",
    "    for diccionario in companies\n",
    "    if diccionario[\"round\"].lower() == \"a\"\n",
    ")"
   ]
  },
  {
   "cell_type": "code",
   "execution_count": 244,
   "metadata": {},
   "outputs": [],
   "source": [
    "money_total_a = sum(money)"
   ]
  },
  {
   "cell_type": "code",
   "execution_count": 245,
   "metadata": {},
   "outputs": [
    {
     "data": {
      "text/plain": [
       "4376015000"
      ]
     },
     "execution_count": 245,
     "metadata": {},
     "output_type": "execute_result"
    }
   ],
   "source": [
    "money_total_a"
   ]
  },
  {
   "cell_type": "code",
   "execution_count": 246,
   "metadata": {},
   "outputs": [
    {
     "name": "stdout",
     "output_type": "stream",
     "text": [
      "💸 El dinero total conseguido en rondas de financiación A = 4376015000\n"
     ]
    }
   ],
   "source": [
    "print(f\"💸 El dinero total conseguido en rondas de financiación A = {money_total_a}\")"
   ]
  },
  {
   "cell_type": "code",
   "execution_count": 247,
   "metadata": {},
   "outputs": [
    {
     "name": "stdout",
     "output_type": "stream",
     "text": [
      "💸 El dinero total conseguido en rondas de financiación B = 4600210000\n"
     ]
    }
   ],
   "source": [
    "ronda = \"b\"\n",
    "filename = \"techcrunch.csv\"\n",
    "lines = (line for line in open(filename))\n",
    "listas = (texto.rstrip().split(\",\") for texto in lines)\n",
    "columnas = next(listas)\n",
    "companies = (dict(zip(columnas, datos)) for datos in listas)\n",
    "money = (\n",
    "    int(diccionario[\"raisedAmt\"])\n",
    "    for diccionario in companies\n",
    "    if diccionario[\"round\"].lower() == ronda\n",
    ")\n",
    "money_total_a = sum(money)\n",
    "\n",
    "print(\n",
    "    f\"💸 El dinero total conseguido en rondas de financiación {ronda.upper()} = {money_total_a}\"\n",
    ")"
   ]
  },
  {
   "cell_type": "markdown",
   "metadata": {},
   "source": [
    "💸💸💸💸"
   ]
  },
  {
   "cell_type": "code",
   "execution_count": 161,
   "metadata": {},
   "outputs": [
    {
     "data": {
      "text/plain": [
       "4376015000"
      ]
     },
     "execution_count": 161,
     "metadata": {},
     "output_type": "execute_result"
    }
   ],
   "source": [
    "money_total_a"
   ]
  },
  {
   "cell_type": "markdown",
   "metadata": {},
   "source": [
    "### Más información y fuentes:\n",
    "* https://stackabuse.com/coroutines-in-python/\n",
    "* https://realpython.com/introduction-to-python-generators/"
   ]
  },
  {
   "cell_type": "markdown",
   "metadata": {},
   "source": [
    "Ricardo Ander-Egg Aguilar\n",
    "\n",
    "* 🖥: https://ricardoanderegg.com/\n",
    "* 🐦: https://twitter.com/ricardoanderegg\n",
    "* 👨🏻‍🎓: https://www.linkedin.com/in/ricardoanderegg/"
   ]
  },
  {
   "cell_type": "code",
   "execution_count": null,
   "metadata": {},
   "outputs": [],
   "source": []
  }
 ],
 "metadata": {
  "kernelspec": {
   "display_name": "teach",
   "language": "python",
   "name": "teach"
  },
  "language_info": {
   "codemirror_mode": {
    "name": "ipython",
    "version": 3
   },
   "file_extension": ".py",
   "mimetype": "text/x-python",
   "name": "python",
   "nbconvert_exporter": "python",
   "pygments_lexer": "ipython3",
   "version": "3.7.7"
  }
 },
 "nbformat": 4,
 "nbformat_minor": 4
}
