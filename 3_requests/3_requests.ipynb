{
 "cells": [
  {
   "cell_type": "markdown",
   "metadata": {},
   "source": [
    "# JSON, YAML Y Requests"
   ]
  },
  {
   "cell_type": "markdown",
   "metadata": {},
   "source": [
    "Autor: Ricardo Ander-Egg Aguilar\n",
    "\n",
    "* 🖥: https://ricardoanderegg.com/\n",
    "* 🐦: https://twitter.com/ricardoanderegg\n",
    "* 👨🏻‍🎓: https://www.linkedin.com/in/ricardoanderegg/"
   ]
  },
  {
   "cell_type": "code",
   "execution_count": null,
   "metadata": {},
   "outputs": [],
   "source": [
    "import requests\n",
    "import json\n",
    "import itertools"
   ]
  },
  {
   "cell_type": "markdown",
   "metadata": {},
   "source": [
    "**Antes de aprender sobre `requests` será de ayuda tener claros los conceptos explicados en el tema sobre JSON.**"
   ]
  },
  {
   "cell_type": "markdown",
   "metadata": {},
   "source": [
    "## Requests"
   ]
  },
  {
   "cell_type": "markdown",
   "metadata": {},
   "source": [
    "### Métodos HTTP\n",
    "\n",
    "* GET: conseguir información\n",
    "* POST: subir información\n",
    "* PUT: modificar información\n",
    "* DELETE: eliminar información\n",
    "\n",
    "Más información:\n",
    "* https://developer.mozilla.org/es/docs/Web/HTTP/Methods"
   ]
  },
  {
   "cell_type": "code",
   "execution_count": null,
   "metadata": {},
   "outputs": [],
   "source": [
    "import requests\n",
    "\n",
    "url = \"https://jsonplaceholder.typicode.com/todos\"\n",
    "# url = \"https://raw.githubusercontent.com/polyrand/codeutils/master/demofile.txt\"\n",
    "# res = requests.get(url)\n",
    "# res.content.decode()\n",
    "\n",
    "res = requests.get(url)"
   ]
  },
  {
   "cell_type": "markdown",
   "metadata": {},
   "source": [
    "Ahora la variable `res` contiene información sobre nuestra petición. Si nuestra petición nos ha devuelto datos en formato json, podemos usar el método `.json()` (atención, es una función y hay que poner `()`) para conseguir estos datos. Tenemos que guardarlos en una variable."
   ]
  },
  {
   "cell_type": "code",
   "execution_count": null,
   "metadata": {},
   "outputs": [],
   "source": [
    "data = res.json()"
   ]
  },
  {
   "cell_type": "markdown",
   "metadata": {},
   "source": [
    "Otra opción sería conseguir el texto \"en crudo\" de la petición y convertirlo a json con los métodos que hemos visto antes:"
   ]
  },
  {
   "cell_type": "code",
   "execution_count": null,
   "metadata": {},
   "outputs": [],
   "source": [
    "texto_crudo = res.text\n",
    "data_from_text = json.loads(texto_crudo)"
   ]
  },
  {
   "cell_type": "markdown",
   "metadata": {},
   "source": [
    "Comprobamos que en ambos casos conseguimos lo mismo."
   ]
  },
  {
   "cell_type": "code",
   "execution_count": null,
   "metadata": {},
   "outputs": [],
   "source": [
    "assert data_from_text == data"
   ]
  },
  {
   "cell_type": "markdown",
   "metadata": {},
   "source": [
    "**Extra**\n",
    "\n",
    "Otra opción sería que nuestra petición nos devuelva directamente texto plano (no en formato json). En ese caso podemos usar `.content` para obtenerlo."
   ]
  },
  {
   "cell_type": "code",
   "execution_count": null,
   "metadata": {},
   "outputs": [],
   "source": [
    "import requests\n",
    "\n",
    "url = \"https://raw.githubusercontent.com/polyrand/codeutils/master/demofile.txt\"\n",
    "res = requests.get(url)\n",
    "contenido = res.content"
   ]
  },
  {
   "cell_type": "markdown",
   "metadata": {},
   "source": [
    "Si hacemos `print(contenido)` veremos que en la string pone `b\"\"`, eso significa que está en formato de `bytes`. Para decodificarla usamos uno de los métodos que tienen las string: `.decode()`"
   ]
  },
  {
   "cell_type": "code",
   "execution_count": null,
   "metadata": {},
   "outputs": [],
   "source": [
    "datos = contenido.decode()"
   ]
  },
  {
   "cell_type": "markdown",
   "metadata": {},
   "source": [
    "Volvemos a nuestros datos originales."
   ]
  },
  {
   "cell_type": "code",
   "execution_count": null,
   "metadata": {},
   "outputs": [],
   "source": [
    "import requests\n",
    "\n",
    "url = \"https://jsonplaceholder.typicode.com/todos\"\n",
    "\n",
    "res = requests.get(url)\n",
    "\n",
    "data = res.json()"
   ]
  },
  {
   "cell_type": "markdown",
   "metadata": {},
   "source": [
    "Nuestros datos son una lista sobre la que podemos iterar o indexarla."
   ]
  },
  {
   "cell_type": "code",
   "execution_count": null,
   "metadata": {},
   "outputs": [
    {
     "data": {
      "text/plain": [
       "{'userId': 1,\n",
       " 'id': 10,\n",
       " 'title': 'illo est ratione doloremque quia maiores aut',\n",
       " 'completed': True}"
      ]
     },
     "execution_count": null,
     "metadata": {},
     "output_type": "execute_result"
    }
   ],
   "source": [
    "data[9]"
   ]
  },
  {
   "cell_type": "markdown",
   "metadata": {},
   "source": [
    "#### Ejercicio\n",
    "\n",
    "Hemos hecho una llamada a un `endpoint`. Nos ha devuelto una serie de datos que representan unos \"to-do's\" (tareas por hacer). El objetivo es:\n",
    "\n",
    "Iterar sobre la lista de datos recibidos. Para cada item hacer lo siguiente:\n",
    "* Si `\"completed\"` = `True` --> añadimos a la lista de completados el valor que tenga la variable `\"id\"`\n",
    "\n",
    "Ejemplo: el item `data[9]` tiene la variable `\"completed\": True` y `\"id\": 10`. En este casi tenemos que añadir a nuestra lista `completados` el valor `10`."
   ]
  },
  {
   "cell_type": "markdown",
   "metadata": {},
   "source": [
    "**Nota**:\n",
    "\n",
    "En Python:\n",
    "\n",
    "```python\n",
    "if algo == True:\n",
    "    # hacer cosas\n",
    "```\n",
    "\n",
    "Es lo mismo que poner: \n",
    "```python\n",
    "if algo:\n",
    "    # hacer cosas\n",
    "```\n",
    "\n",
    "Del mismo modo:\n",
    "\n",
    "```python\n",
    "if algo == False:\n",
    "    # hacer cosas\n",
    "```\n",
    "\n",
    "Es lo mismo que poner: \n",
    "```python\n",
    "if not algo:\n",
    "    # hacer cosas\n",
    "```"
   ]
  },
  {
   "cell_type": "code",
   "execution_count": null,
   "metadata": {},
   "outputs": [
    {
     "name": "stdout",
     "output_type": "stream",
     "text": [
      "completado\n"
     ]
    }
   ],
   "source": [
    "if data[9][\"completed\"]:\n",
    "    print(\"completado\")"
   ]
  },
  {
   "cell_type": "code",
   "execution_count": null,
   "metadata": {},
   "outputs": [],
   "source": [
    "completados = []\n",
    "\n",
    "for elemento in data:\n",
    "    pass\n",
    "    ########\n",
    "    ## CODE HERE\n",
    "    ########\n",
    "    "
   ]
  },
  {
   "cell_type": "code",
   "execution_count": null,
   "metadata": {},
   "outputs": [],
   "source": [
    "completados = []\n",
    "\n",
    "for elemento in data:\n",
    "\n",
    "    if elemento[\"completed\"]:\n",
    "        # print(elemento)\n",
    "        completados.append(elemento[\"id\"])"
   ]
  },
  {
   "cell_type": "code",
   "execution_count": null,
   "metadata": {},
   "outputs": [
    {
     "name": "stdout",
     "output_type": "stream",
     "text": [
      "Elemento completado: True\n",
      "Elemento completado: True\n",
      "Elemento completado: True\n",
      "Elemento completado: True\n",
      "Elemento completado: True\n",
      "Elemento completado: True\n",
      "Elemento completado: True\n",
      "Elemento completado: True\n",
      "Elemento completado: True\n",
      "Elemento completado: True\n",
      "Elemento completado: True\n",
      "Elemento completado: True\n",
      "Elemento completado: True\n",
      "Elemento completado: True\n",
      "Elemento completado: True\n",
      "Elemento completado: True\n",
      "Elemento completado: True\n",
      "Elemento completado: True\n",
      "Elemento completado: True\n",
      "Elemento completado: True\n",
      "Elemento completado: True\n",
      "Elemento completado: True\n",
      "Elemento completado: True\n",
      "Elemento completado: True\n",
      "Elemento completado: True\n",
      "Elemento completado: True\n",
      "Elemento completado: True\n",
      "Elemento completado: True\n",
      "Elemento completado: True\n",
      "Elemento completado: True\n",
      "Elemento completado: True\n",
      "Elemento completado: True\n",
      "Elemento completado: True\n",
      "Elemento completado: True\n",
      "Elemento completado: True\n",
      "Elemento completado: True\n",
      "Elemento completado: True\n",
      "Elemento completado: True\n",
      "Elemento completado: True\n",
      "Elemento completado: True\n",
      "Elemento completado: True\n",
      "Elemento completado: True\n",
      "Elemento completado: True\n",
      "Elemento completado: True\n",
      "Elemento completado: True\n",
      "Elemento completado: True\n",
      "Elemento completado: True\n",
      "Elemento completado: True\n",
      "Elemento completado: True\n",
      "Elemento completado: True\n",
      "Elemento completado: True\n",
      "Elemento completado: True\n",
      "Elemento completado: True\n",
      "Elemento completado: True\n",
      "Elemento completado: True\n",
      "Elemento completado: True\n",
      "Elemento completado: True\n",
      "Elemento completado: True\n",
      "Elemento completado: True\n",
      "Elemento completado: True\n",
      "Elemento completado: True\n",
      "Elemento completado: True\n",
      "Elemento completado: True\n",
      "Elemento completado: True\n",
      "Elemento completado: True\n",
      "Elemento completado: True\n",
      "Elemento completado: True\n",
      "Elemento completado: True\n",
      "Elemento completado: True\n",
      "Elemento completado: True\n",
      "Elemento completado: True\n",
      "Elemento completado: True\n",
      "Elemento completado: True\n",
      "Elemento completado: True\n",
      "Elemento completado: True\n",
      "Elemento completado: True\n",
      "Elemento completado: True\n",
      "Elemento completado: True\n",
      "Elemento completado: True\n",
      "Elemento completado: True\n",
      "Elemento completado: True\n",
      "Elemento completado: True\n",
      "Elemento completado: True\n",
      "Elemento completado: True\n",
      "Elemento completado: True\n",
      "Elemento completado: True\n",
      "Elemento completado: True\n",
      "Elemento completado: True\n",
      "Elemento completado: True\n",
      "Elemento completado: True\n"
     ]
    }
   ],
   "source": [
    "for elemento in data:\n",
    "    \n",
    "    if elemento[\"id\"] in completados:\n",
    "        print(f\"Elemento completado: {elemento['completed']}\")"
   ]
  }
 ],
 "metadata": {
  "kernelspec": {
   "display_name": "basic",
   "language": "python",
   "name": "basic"
  },
  "language_info": {
   "codemirror_mode": {
    "name": "ipython",
    "version": 3
   },
   "file_extension": ".py",
   "mimetype": "text/x-python",
   "name": "python",
   "nbconvert_exporter": "python",
   "pygments_lexer": "ipython3",
   "version": "3.7.7"
  }
 },
 "nbformat": 4,
 "nbformat_minor": 4
}
