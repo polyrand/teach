{
 "cells": [
  {
   "cell_type": "markdown",
   "metadata": {},
   "source": [
    "### Ejercicio\n",
    "\n",
    "* Escribe un script que identifique todas las imágenes de un árbol de carpetas.\n",
    "* Debemos obtener una lista con todas las rutas de archivo de las imagénes.\n",
    "* Crear una función que covierta una imagen a 128x128. Usar la librería **Pillow**, ya viene instalada en vuestra distribución de Anaconda creo.\n",
    "\n",
    "```python\n",
    "import PIL\n",
    "````\n",
    "\n",
    "* Tras convertir una imagen, todas deben estar guardadaes en una misma carpeta. Por ejemplo al final habrá una carpeta que se llame \"miniaturas\" que contendrá todas las imágenes convertidas.\n",
    "* Cada imagen debe convertirla en un thumbnail (128x128) y guardarlas en una misma carpeta.\n",
    "* Cuando guardemos la imagen debemos guardarla con su nombre original añadiendo \"_thumbnail\".\n",
    "    Por ejemplo `imagen.jpg` -> `imagen_thumbnail.jpg`\n",
    "\n",
    "Intentar usar un f-string para el path `(f\"carpeta/{}_{}.jpg\")`.\n",
    "\n",
    "* **Importante**: una vez tengamos la lista con todas nuestras rutas de archivo. Hay que usar procesamiento en paralelo para convertir las imágenes. Por ejemplo un ThreadPoolExecutor o ProcessPoolExecutor.\n",
    "\n",
    "**Extra**:\n",
    "\n",
    "En el módulo `functools` de Python existe una cosa que se llama `partial`. Esta función nos permite crea lo que se llaman funciones parciales. Si tenemos una función que por ejemplo acepta 3 argumentos, crear una función parcial sería *\"duplicar\"* está función pero haciendo que uno de estos parámetros sea fijo. Y obtendríamos una función. Por ejemplo:\n",
    "\n",
    "* Tengo una función: `convertir_miniatura(resolucion, ruta)`\n",
    "* Puedo hacer `miniatura128 = partial(convertir_miniatura, 128)`.\n",
    "* Esto último me devolvería otra función, que ahora puedo utilizar directamente con: `miniatura128(\"/Users/r/.../imagen.jpg\")`. Tendremos a nuestra disposición una nueva función que es igual que la original pero como si uno de sus parámetros estuviera fijo.\n",
    "\n",
    "\n",
    "`functools.partial` + executors Pillow + paths (download images)\n",
    "\n",
    "\n"
   ]
  },
  {
   "cell_type": "markdown",
   "metadata": {},
   "source": [
    "Ejercicio adaptado de: https://www.toptal.com/python/beginners-guide-to-concurrency-and-parallelism-in-python"
   ]
  },
  {
   "cell_type": "code",
   "execution_count": 4,
   "metadata": {},
   "outputs": [],
   "source": [
    "import os\n",
    "from pathlib import Path"
   ]
  },
  {
   "cell_type": "code",
   "execution_count": 5,
   "metadata": {},
   "outputs": [],
   "source": [
    "lista_de_paths = []\n",
    "for root, dirs, files in os.walk(\"tree\"):\n",
    "    lista_de_paths = lista_de_paths + [os.path.join(root, x) for x in files if x.endswith((\".jpg\"))]"
   ]
  },
  {
   "cell_type": "code",
   "execution_count": 6,
   "metadata": {
    "collapsed": true,
    "jupyter": {
     "outputs_hidden": true
    }
   },
   "outputs": [
    {
     "data": {
      "text/plain": [
       "['/Users/r/Projects/teach/11_concurrencia_paralelismo/tree/jkrlyxsbonbrdjb.jpg',\n",
       " '/Users/r/Projects/teach/11_concurrencia_paralelismo/tree/qynjddmvbflfmfl.jpg',\n",
       " '/Users/r/Projects/teach/11_concurrencia_paralelismo/tree/pjeyfssssqovicw.jpg',\n",
       " '/Users/r/Projects/teach/11_concurrencia_paralelismo/tree/rvqjyhrsggnkgmf.jpg',\n",
       " '/Users/r/Projects/teach/11_concurrencia_paralelismo/tree/mtshvhafwuveczn.jpg',\n",
       " '/Users/r/Projects/teach/11_concurrencia_paralelismo/tree/hriejwwwxnlslnr.jpg',\n",
       " '/Users/r/Projects/teach/11_concurrencia_paralelismo/tree/ufufkvakojndran.jpg',\n",
       " '/Users/r/Projects/teach/11_concurrencia_paralelismo/tree/rxvjgoudtzlgska.jpg',\n",
       " '/Users/r/Projects/teach/11_concurrencia_paralelismo/tree/fdjtoupvvurxgrd.jpg',\n",
       " '/Users/r/Projects/teach/11_concurrencia_paralelismo/tree/tjbcluxsujxgcnw.jpg',\n",
       " '/Users/r/Projects/teach/11_concurrencia_paralelismo/tree/msqfostmedkgorc.jpg',\n",
       " '/Users/r/Projects/teach/11_concurrencia_paralelismo/tree/E5E2Q06R/ogdottndbujeyrq.jpg',\n",
       " '/Users/r/Projects/teach/11_concurrencia_paralelismo/tree/E5E2Q06R/zxcvvfiooqpgaim.jpg',\n",
       " '/Users/r/Projects/teach/11_concurrencia_paralelismo/tree/E5E2Q06R/toipddfxcgtcvfc.jpg',\n",
       " '/Users/r/Projects/teach/11_concurrencia_paralelismo/tree/A51S3/axztliihzivrbtq.jpg',\n",
       " '/Users/r/Projects/teach/11_concurrencia_paralelismo/tree/A51S3/mtshvhafwuveczn.jpg',\n",
       " '/Users/r/Projects/teach/11_concurrencia_paralelismo/tree/A51S3/hriejwwwxnlslnr.jpg',\n",
       " '/Users/r/Projects/teach/11_concurrencia_paralelismo/tree/A51S3/hrnjcmfyogiapfn.jpg',\n",
       " '/Users/r/Projects/teach/11_concurrencia_paralelismo/tree/A51S3/nvmkoucqquhpnxh.jpg',\n",
       " '/Users/r/Projects/teach/11_concurrencia_paralelismo/tree/A51S3/ddglroflodqplpe.jpg',\n",
       " '/Users/r/Projects/teach/11_concurrencia_paralelismo/tree/A51S3/yhgjsuymwxawojw.jpg',\n",
       " '/Users/r/Projects/teach/11_concurrencia_paralelismo/tree/A51S3/tjbcluxsujxgcnw.jpg',\n",
       " '/Users/r/Projects/teach/11_concurrencia_paralelismo/tree/A51S3/llbnxtrrehqyedh.jpg',\n",
       " '/Users/r/Projects/teach/11_concurrencia_paralelismo/tree/A51S3/toipddfxcgtcvfc.jpg',\n",
       " '/Users/r/Projects/teach/11_concurrencia_paralelismo/tree/A51S3/2A7EO4/hmsxpnxwyxspahv.jpg',\n",
       " '/Users/r/Projects/teach/11_concurrencia_paralelismo/tree/A51S3/2A7EO4/oncykkdrbadhabe.jpg',\n",
       " '/Users/r/Projects/teach/11_concurrencia_paralelismo/tree/A51S3/2A7EO4/fudpdoznvetshow.jpg',\n",
       " '/Users/r/Projects/teach/11_concurrencia_paralelismo/tree/A51S3/2A7EO4/knoylksmlocowyn.jpg',\n",
       " '/Users/r/Projects/teach/11_concurrencia_paralelismo/tree/A51S3/I3UW3/axztliihzivrbtq.jpg',\n",
       " '/Users/r/Projects/teach/11_concurrencia_paralelismo/tree/A51S3/I3UW3/fudpdoznvetshow.jpg',\n",
       " '/Users/r/Projects/teach/11_concurrencia_paralelismo/tree/A51S3/I3UW3/lxqmljrrigatont.jpg',\n",
       " '/Users/r/Projects/teach/11_concurrencia_paralelismo/tree/A51S3/I3UW3/xflogficztvghfm.jpg',\n",
       " '/Users/r/Projects/teach/11_concurrencia_paralelismo/tree/A51S3/I3UW3/toipddfxcgtcvfc.jpg',\n",
       " '/Users/r/Projects/teach/11_concurrencia_paralelismo/tree/A51S3/I3UW3/utmfbperdcowzoy.jpg',\n",
       " '/Users/r/Projects/teach/11_concurrencia_paralelismo/tree/A51S3/I3UW3/UTBAAQAF9/qynjddmvbflfmfl.jpg',\n",
       " '/Users/r/Projects/teach/11_concurrencia_paralelismo/tree/A51S3/I3UW3/UTBAAQAF9/hbwvwansigxxsih.jpg',\n",
       " '/Users/r/Projects/teach/11_concurrencia_paralelismo/tree/A51S3/I3UW3/UTBAAQAF9/llbnxtrrehqyedh.jpg',\n",
       " '/Users/r/Projects/teach/11_concurrencia_paralelismo/tree/A51S3/I3UW3/UTBAAQAF9/idkszwcrgirypne.jpg',\n",
       " '/Users/r/Projects/teach/11_concurrencia_paralelismo/tree/A51S3/I3UW3/XYIY3/fmwkgffxaoqyumx.jpg',\n",
       " '/Users/r/Projects/teach/11_concurrencia_paralelismo/tree/A51S3/I3UW3/XYIY3/fnbsdfbfjvcyylq.jpg',\n",
       " '/Users/r/Projects/teach/11_concurrencia_paralelismo/tree/A51S3/I3UW3/XYIY3/ghsjjencutcytna.jpg',\n",
       " '/Users/r/Projects/teach/11_concurrencia_paralelismo/tree/A51S3/I3UW3/XYIY3/fudpdoznvetshow.jpg',\n",
       " '/Users/r/Projects/teach/11_concurrencia_paralelismo/tree/A51S3/QU0TD/tafakpmpgdhivcl.jpg',\n",
       " '/Users/r/Projects/teach/11_concurrencia_paralelismo/tree/A51S3/QU0TD/rvqjyhrsggnkgmf.jpg',\n",
       " '/Users/r/Projects/teach/11_concurrencia_paralelismo/tree/A51S3/QU0TD/rxvjgoudtzlgska.jpg',\n",
       " '/Users/r/Projects/teach/11_concurrencia_paralelismo/tree/A51S3/QU0TD/mwrifqaitvezfov.jpg',\n",
       " '/Users/r/Projects/teach/11_concurrencia_paralelismo/tree/A51S3/QU0TD/tjbcluxsujxgcnw.jpg',\n",
       " '/Users/r/Projects/teach/11_concurrencia_paralelismo/tree/A51S3/QU0TD/GI6KJ7F7/gsjhzzjequwvcka.jpg',\n",
       " '/Users/r/Projects/teach/11_concurrencia_paralelismo/tree/A51S3/QU0TD/8YWU1DM1EM/fmwkgffxaoqyumx.jpg',\n",
       " '/Users/r/Projects/teach/11_concurrencia_paralelismo/tree/A51S3/QU0TD/8YWU1DM1EM/zxcvvfiooqpgaim.jpg',\n",
       " '/Users/r/Projects/teach/11_concurrencia_paralelismo/tree/A51S3/4OCRX/tafakpmpgdhivcl.jpg',\n",
       " '/Users/r/Projects/teach/11_concurrencia_paralelismo/tree/A51S3/4OCRX/ogqjqmffjvaechj.jpg',\n",
       " '/Users/r/Projects/teach/11_concurrencia_paralelismo/tree/A51S3/4OCRX/oncykkdrbadhabe.jpg',\n",
       " '/Users/r/Projects/teach/11_concurrencia_paralelismo/tree/A51S3/4OCRX/utmfbperdcowzoy.jpg',\n",
       " '/Users/r/Projects/teach/11_concurrencia_paralelismo/tree/1HG94/vxwytvhegoihukn.jpg',\n",
       " '/Users/r/Projects/teach/11_concurrencia_paralelismo/tree/1HG94/rvqjyhrsggnkgmf.jpg',\n",
       " '/Users/r/Projects/teach/11_concurrencia_paralelismo/tree/1HG94/kqwwvkcdjyklrrl.jpg',\n",
       " '/Users/r/Projects/teach/11_concurrencia_paralelismo/tree/1HG94/hriejwwwxnlslnr.jpg',\n",
       " '/Users/r/Projects/teach/11_concurrencia_paralelismo/tree/1HG94/ogqjqmffjvaechj.jpg',\n",
       " '/Users/r/Projects/teach/11_concurrencia_paralelismo/tree/1HG94/szvujdcinhcdwdw.jpg',\n",
       " '/Users/r/Projects/teach/11_concurrencia_paralelismo/tree/1HG94/lxqmljrrigatont.jpg',\n",
       " '/Users/r/Projects/teach/11_concurrencia_paralelismo/tree/1HG94/tjbcluxsujxgcnw.jpg',\n",
       " '/Users/r/Projects/teach/11_concurrencia_paralelismo/tree/1HG94/msqfostmedkgorc.jpg',\n",
       " '/Users/r/Projects/teach/11_concurrencia_paralelismo/tree/1HG94/STJ11I/pjeyfssssqovicw.jpg',\n",
       " '/Users/r/Projects/teach/11_concurrencia_paralelismo/tree/1HG94/STJ11I/ghsjjencutcytna.jpg',\n",
       " '/Users/r/Projects/teach/11_concurrencia_paralelismo/tree/1HG94/STJ11I/tjbcluxsujxgcnw.jpg',\n",
       " '/Users/r/Projects/teach/11_concurrencia_paralelismo/tree/1HG94/STJ11I/llbnxtrrehqyedh.jpg',\n",
       " '/Users/r/Projects/teach/11_concurrencia_paralelismo/tree/1HG94/S1B1C8EZX/jkrlyxsbonbrdjb.jpg',\n",
       " '/Users/r/Projects/teach/11_concurrencia_paralelismo/tree/1HG94/S1B1C8EZX/rvqjyhrsggnkgmf.jpg',\n",
       " '/Users/r/Projects/teach/11_concurrencia_paralelismo/tree/1HG94/S1B1C8EZX/hbwvwansigxxsih.jpg',\n",
       " '/Users/r/Projects/teach/11_concurrencia_paralelismo/tree/1HG94/S1B1C8EZX/gsjhzzjequwvcka.jpg',\n",
       " '/Users/r/Projects/teach/11_concurrencia_paralelismo/tree/1HG94/S1B1C8EZX/mwrifqaitvezfov.jpg',\n",
       " '/Users/r/Projects/teach/11_concurrencia_paralelismo/tree/1HG94/S1B1C8EZX/llbnxtrrehqyedh.jpg',\n",
       " '/Users/r/Projects/teach/11_concurrencia_paralelismo/tree/1HG94/S1B1C8EZX/J1HCQKM1/ddglroflodqplpe.jpg',\n",
       " '/Users/r/Projects/teach/11_concurrencia_paralelismo/tree/1HG94/S1B1C8EZX/J1HCQKM1/lxqmljrrigatont.jpg',\n",
       " '/Users/r/Projects/teach/11_concurrencia_paralelismo/tree/1HG94/S1B1C8EZX/J1HCQKM1/bdydsukefrejogv.jpg',\n",
       " '/Users/r/Projects/teach/11_concurrencia_paralelismo/tree/1HG94/S1B1C8EZX/ECGZY6DGV/gstcxhppbpecaqq.jpg',\n",
       " '/Users/r/Projects/teach/11_concurrencia_paralelismo/tree/1HG94/S1B1C8EZX/ECGZY6DGV/hmsxpnxwyxspahv.jpg',\n",
       " '/Users/r/Projects/teach/11_concurrencia_paralelismo/tree/1HG94/S1B1C8EZX/ECGZY6DGV/knoylksmlocowyn.jpg',\n",
       " '/Users/r/Projects/teach/11_concurrencia_paralelismo/tree/1HG94/S1B1C8EZX/ECGZY6DGV/idkszwcrgirypne.jpg',\n",
       " '/Users/r/Projects/teach/11_concurrencia_paralelismo/tree/1HG94/S1B1C8EZX/2OCXM/axztliihzivrbtq.jpg',\n",
       " '/Users/r/Projects/teach/11_concurrencia_paralelismo/tree/1HG94/S1B1C8EZX/2OCXM/fnbsdfbfjvcyylq.jpg',\n",
       " '/Users/r/Projects/teach/11_concurrencia_paralelismo/tree/1HG94/S1B1C8EZX/2OCXM/yhgjsuymwxawojw.jpg',\n",
       " '/Users/r/Projects/teach/11_concurrencia_paralelismo/tree/1HG94/S1B1C8EZX/2OCXM/msqfostmedkgorc.jpg',\n",
       " '/Users/r/Projects/teach/11_concurrencia_paralelismo/tree/1HG94/8T8BUJOA/fnbsdfbfjvcyylq.jpg',\n",
       " '/Users/r/Projects/teach/11_concurrencia_paralelismo/tree/1HG94/8T8BUJOA/hriejwwwxnlslnr.jpg',\n",
       " '/Users/r/Projects/teach/11_concurrencia_paralelismo/tree/1HG94/8T8BUJOA/qnhpwxybuwvdlpp.jpg',\n",
       " '/Users/r/Projects/teach/11_concurrencia_paralelismo/tree/1HG94/8T8BUJOA/knoylksmlocowyn.jpg',\n",
       " '/Users/r/Projects/teach/11_concurrencia_paralelismo/tree/1HG94/8T8BUJOA/idkszwcrgirypne.jpg',\n",
       " '/Users/r/Projects/teach/11_concurrencia_paralelismo/tree/G8O40GD71V/qynjddmvbflfmfl.jpg',\n",
       " '/Users/r/Projects/teach/11_concurrencia_paralelismo/tree/G8O40GD71V/qnhpwxybuwvdlpp.jpg',\n",
       " '/Users/r/Projects/teach/11_concurrencia_paralelismo/tree/G8O40GD71V/ogdottndbujeyrq.jpg',\n",
       " '/Users/r/Projects/teach/11_concurrencia_paralelismo/tree/G8O40GD71V/ufufkvakojndran.jpg',\n",
       " '/Users/r/Projects/teach/11_concurrencia_paralelismo/tree/G8O40GD71V/ogqjqmffjvaechj.jpg',\n",
       " '/Users/r/Projects/teach/11_concurrencia_paralelismo/tree/G8O40GD71V/fdjtoupvvurxgrd.jpg',\n",
       " '/Users/r/Projects/teach/11_concurrencia_paralelismo/tree/G8O40GD71V/zxcvvfiooqpgaim.jpg',\n",
       " '/Users/r/Projects/teach/11_concurrencia_paralelismo/tree/G8O40GD71V/wzhdhzzywjuetyk.jpg',\n",
       " '/Users/r/Projects/teach/11_concurrencia_paralelismo/tree/G8O40GD71V/PENOKZ/qnhpwxybuwvdlpp.jpg',\n",
       " '/Users/r/Projects/teach/11_concurrencia_paralelismo/tree/G8O40GD71V/PENOKZ/hmsxpnxwyxspahv.jpg',\n",
       " '/Users/r/Projects/teach/11_concurrencia_paralelismo/tree/G8O40GD71V/PENOKZ/lxqmljrrigatont.jpg',\n",
       " '/Users/r/Projects/teach/11_concurrencia_paralelismo/tree/G8O40GD71V/PENOKZ/xflogficztvghfm.jpg',\n",
       " '/Users/r/Projects/teach/11_concurrencia_paralelismo/tree/G8O40GD71V/TRTESR766/qynjddmvbflfmfl.jpg',\n",
       " '/Users/r/Projects/teach/11_concurrencia_paralelismo/tree/G8O40GD71V/TRTESR766/xflogficztvghfm.jpg',\n",
       " '/Users/r/Projects/teach/11_concurrencia_paralelismo/tree/G8O40GD71V/TRTESR766/idkszwcrgirypne.jpg']"
      ]
     },
     "execution_count": 6,
     "metadata": {},
     "output_type": "execute_result"
    }
   ],
   "source": [
    "[str(ruta.absolute()) for ruta in Path(\"tree\").rglob(\"*.jpg\")]"
   ]
  },
  {
   "cell_type": "code",
   "execution_count": 7,
   "metadata": {},
   "outputs": [],
   "source": [
    "filelist = lista_de_paths.copy()"
   ]
  },
  {
   "cell_type": "code",
   "execution_count": 10,
   "metadata": {},
   "outputs": [],
   "source": [
    "from pathlib import Path\n",
    "import PIL\n",
    "from PIL import Image\n",
    "from concurrent.futures import ThreadPoolExecutor, ProcessPoolExecutor\n",
    "\n",
    "filelist = [str(ruta.absolute()) for ruta in Path(\"tree/\").rglob(\"*jpg\")]\n",
    "\n",
    "\n",
    "def miniaturizar(path: str):\n",
    "    size = (128, 128)  # 128x128\n",
    "    p = Path(path).absolute()\n",
    "    nuevo_nombre = p.stem + \"_thumbnail\" + p.suffix\n",
    "    miniaturas = Path(\"miniaturas/\").absolute()\n",
    "    save = miniaturas / nuevo_nombre\n",
    "    image = Image.open(p)\n",
    "    image.thumbnail(size)\n",
    "    image.save(save)\n",
    "\n",
    "\n",
    "\n",
    "import os\n",
    "from joblib import Parallel, delayed\n",
    "\n",
    "max_nucleos = os.cpu_count()"
   ]
  },
  {
   "cell_type": "code",
   "execution_count": 19,
   "metadata": {
    "collapsed": true,
    "jupyter": {
     "outputs_hidden": true
    }
   },
   "outputs": [
    {
     "name": "stderr",
     "output_type": "stream",
     "text": [
      "[Parallel(n_jobs=4)]: Using backend LokyBackend with 4 concurrent workers.\n",
      "[Parallel(n_jobs=4)]: Done   5 tasks      | elapsed:    2.1s\n",
      "[Parallel(n_jobs=4)]: Done  10 tasks      | elapsed:    2.2s\n",
      "[Parallel(n_jobs=4)]: Done  17 tasks      | elapsed:    2.3s\n",
      "[Parallel(n_jobs=4)]: Batch computation too fast (0.1837s.) Setting batch_size=2.\n",
      "[Parallel(n_jobs=4)]: Done  24 tasks      | elapsed:    2.4s\n",
      "[Parallel(n_jobs=4)]: Done  34 tasks      | elapsed:    2.7s\n",
      "[Parallel(n_jobs=4)]: Batch computation too fast (0.1563s.) Setting batch_size=4.\n",
      "[Parallel(n_jobs=4)]: Done  56 tasks      | elapsed:    3.1s\n"
     ]
    },
    {
     "name": "stdout",
     "output_type": "stream",
     "text": [
      "CPU times: user 121 ms, sys: 55.7 ms, total: 177 ms\n",
      "Wall time: 3.94 s\n"
     ]
    },
    {
     "name": "stderr",
     "output_type": "stream",
     "text": [
      "[Parallel(n_jobs=4)]: Done  94 tasks      | elapsed:    3.8s\n",
      "[Parallel(n_jobs=4)]: Done  97 out of 104 | elapsed:    3.9s remaining:    0.3s\n",
      "[Parallel(n_jobs=4)]: Done 104 out of 104 | elapsed:    3.9s finished\n"
     ]
    },
    {
     "data": {
      "text/plain": [
       "[None,\n",
       " None,\n",
       " None,\n",
       " None,\n",
       " None,\n",
       " None,\n",
       " None,\n",
       " None,\n",
       " None,\n",
       " None,\n",
       " None,\n",
       " None,\n",
       " None,\n",
       " None,\n",
       " None,\n",
       " None,\n",
       " None,\n",
       " None,\n",
       " None,\n",
       " None,\n",
       " None,\n",
       " None,\n",
       " None,\n",
       " None,\n",
       " None,\n",
       " None,\n",
       " None,\n",
       " None,\n",
       " None,\n",
       " None,\n",
       " None,\n",
       " None,\n",
       " None,\n",
       " None,\n",
       " None,\n",
       " None,\n",
       " None,\n",
       " None,\n",
       " None,\n",
       " None,\n",
       " None,\n",
       " None,\n",
       " None,\n",
       " None,\n",
       " None,\n",
       " None,\n",
       " None,\n",
       " None,\n",
       " None,\n",
       " None,\n",
       " None,\n",
       " None,\n",
       " None,\n",
       " None,\n",
       " None,\n",
       " None,\n",
       " None,\n",
       " None,\n",
       " None,\n",
       " None,\n",
       " None,\n",
       " None,\n",
       " None,\n",
       " None,\n",
       " None,\n",
       " None,\n",
       " None,\n",
       " None,\n",
       " None,\n",
       " None,\n",
       " None,\n",
       " None,\n",
       " None,\n",
       " None,\n",
       " None,\n",
       " None,\n",
       " None,\n",
       " None,\n",
       " None,\n",
       " None,\n",
       " None,\n",
       " None,\n",
       " None,\n",
       " None,\n",
       " None,\n",
       " None,\n",
       " None,\n",
       " None,\n",
       " None,\n",
       " None,\n",
       " None,\n",
       " None,\n",
       " None,\n",
       " None,\n",
       " None,\n",
       " None,\n",
       " None,\n",
       " None,\n",
       " None,\n",
       " None,\n",
       " None,\n",
       " None,\n",
       " None,\n",
       " None]"
      ]
     },
     "execution_count": 19,
     "metadata": {},
     "output_type": "execute_result"
    }
   ],
   "source": [
    "%%time\n",
    "Parallel(n_jobs=max_nucleos, verbose=10)(delayed(miniaturizar)(p) for p in filelist)"
   ]
  },
  {
   "cell_type": "code",
   "execution_count": 17,
   "metadata": {},
   "outputs": [
    {
     "name": "stdout",
     "output_type": "stream",
     "text": [
      "CPU times: user 1.14 s, sys: 131 ms, total: 1.27 s\n",
      "Wall time: 809 ms\n"
     ]
    }
   ],
   "source": [
    "%%time\n",
    "with ThreadPoolExecutor(max_workers=max_nucleos) as executor:\n",
    "    executor.map(miniaturizar, filelist)"
   ]
  },
  {
   "cell_type": "code",
   "execution_count": 16,
   "metadata": {},
   "outputs": [
    {
     "name": "stdout",
     "output_type": "stream",
     "text": [
      "CPU times: user 927 ms, sys: 77.5 ms, total: 1 s\n",
      "Wall time: 1.31 s\n"
     ]
    }
   ],
   "source": [
    "%%time\n",
    "for ruta in filelist:\n",
    "    miniaturizar(ruta)"
   ]
  },
  {
   "cell_type": "code",
   "execution_count": 34,
   "metadata": {},
   "outputs": [],
   "source": [
    "from concurrent.futures import ProcessPoolExecutor, ThreadPoolExecutor\n",
    "import os"
   ]
  },
  {
   "cell_type": "code",
   "execution_count": 35,
   "metadata": {},
   "outputs": [
    {
     "name": "stdout",
     "output_type": "stream",
     "text": [
      "CPU times: user 3 µs, sys: 1e+03 ns, total: 4 µs\n",
      "Wall time: 4.77 µs\n"
     ]
    }
   ],
   "source": [
    "%time\n",
    "\n",
    "\n",
    "# with ProcessPoolExecutor(max_workers=os.cpu_count()) as executor:\n",
    "# nº maximo de cpus lo calcula solo ^^^^^^^^^^^^^\n",
    "with ThreadPoolExecutor(max_workers=4) as executor:\n",
    "    executor.map(miniaturizar, filelist)"
   ]
  },
  {
   "cell_type": "markdown",
   "metadata": {},
   "source": [
    "### Alternativa\n",
    "\n",
    "Usando una [función parcial](https://docs.python.org/3/library/functools.html#functools.partial)"
   ]
  },
  {
   "cell_type": "code",
   "execution_count": 2,
   "metadata": {},
   "outputs": [],
   "source": [
    "import os"
   ]
  },
  {
   "cell_type": "code",
   "execution_count": 3,
   "metadata": {},
   "outputs": [],
   "source": [
    "filelist = []\n",
    "for root, dirs, files in os.walk(\"res\"):\n",
    "    filelist = filelist + [os.path.join(root, x) for x in files if x.endswith((\".jpg\"))]"
   ]
  },
  {
   "cell_type": "code",
   "execution_count": 36,
   "metadata": {},
   "outputs": [],
   "source": [
    "import logging\n",
    "from pathlib import Path\n",
    "from time import time\n",
    "from functools import partial\n",
    "\n",
    "from concurrent.futures import ProcessPoolExecutor\n",
    "\n",
    "from PIL import Image\n",
    "\n",
    "logging.basicConfig(\n",
    "    level=logging.INFO, format=\"%(asctime)s - %(name)s - %(levelname)s - %(message)s\"\n",
    ")\n",
    "\n",
    "logger = logging.getLogger(__name__)\n",
    "\n",
    "\n",
    "def create_thumbnail(img, size, save):\n",
    "    \"\"\"\n",
    "    Creates a thumbnail of an image with the same name as image but with\n",
    "    _thumbnail appended before the extension. E.g.:\n",
    "\n",
    "    >>> create_thumbnail((128, 128), 'image.jpg')\n",
    "\n",
    "    A new thumbnail image is created with the name image_thumbnail.jpg\n",
    "\n",
    "    :param size: A tuple of the width and height of the image\n",
    "    :param path: The path to the image file\n",
    "    :return: None\n",
    "    \"\"\"\n",
    "    path = img\n",
    "    print(\"Current image:\", path)\n",
    "    print(\"Save path:\", save)\n",
    "    print(\"Size:\", size)\n",
    "    path = Path(path)\n",
    "    name = path.stem + \"_thumbnail\" + path.suffix\n",
    "    thumbnail_path = Path(save) / name\n",
    "    image = Image.open(path)\n",
    "    image.thumbnail(size)\n",
    "    image.save(thumbnail_path)"
   ]
  },
  {
   "cell_type": "code",
   "execution_count": 37,
   "metadata": {},
   "outputs": [],
   "source": [
    "thumbnail_128 = partial(create_thumbnail, size=(128, 128), save=\"save\")"
   ]
  },
  {
   "cell_type": "code",
   "execution_count": null,
   "metadata": {},
   "outputs": [],
   "source": [
    "# aplicado a una image\n",
    "thumbnail_128(img=filelist[0])"
   ]
  },
  {
   "cell_type": "code",
   "execution_count": 41,
   "metadata": {},
   "outputs": [
    {
     "name": "stderr",
     "output_type": "stream",
     "text": [
      "2020-10-27 14:02:46,893 - root - INFO - Took 0.5612080097198486\n"
     ]
    }
   ],
   "source": [
    "ts = time()\n",
    "# Partially apply the create_thumbnail method, setting the size to 128x128\n",
    "# and returning a function of a single argument.\n",
    "\n",
    "\n",
    "# Create the executor in a with block so shutdown is called when the block\n",
    "# is exited.\n",
    "with ProcessPoolExecutor() as executor:\n",
    "    executor.map(thumbnail_128, filelist)\n",
    "\n",
    "\n",
    "logging.info(\"Took %s\", time() - ts)"
   ]
  }
 ],
 "metadata": {
  "kernelspec": {
   "display_name": "teach",
   "language": "python",
   "name": "teach"
  },
  "language_info": {
   "codemirror_mode": {
    "name": "ipython",
    "version": 3
   },
   "file_extension": ".py",
   "mimetype": "text/x-python",
   "name": "python",
   "nbconvert_exporter": "python",
   "pygments_lexer": "ipython3",
   "version": "3.7.7"
  }
 },
 "nbformat": 4,
 "nbformat_minor": 4
}
