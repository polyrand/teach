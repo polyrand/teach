{
 "cells": [
  {
   "cell_type": "markdown",
   "metadata": {},
   "source": [
    "![](https://files.realpython.com/media/YXhT6fA.d277d5317026.gif)"
   ]
  },
  {
   "cell_type": "markdown",
   "metadata": {},
   "source": [
    "Primero es necesario installar [ipytest](https://pypi.org/project/ipytest/)"
   ]
  },
  {
   "cell_type": "code",
   "execution_count": null,
   "metadata": {},
   "outputs": [],
   "source": [
    "import pytest"
   ]
  },
  {
   "cell_type": "code",
   "execution_count": null,
   "metadata": {},
   "outputs": [],
   "source": [
    "import ipytest\n",
    "ipytest.config(rewrite_asserts=True, magics=True)\n",
    "\n",
    "__file__ = \"testing.ipynb\""
   ]
  },
  {
   "cell_type": "code",
   "execution_count": null,
   "metadata": {},
   "outputs": [],
   "source": [
    "assert [1, 2, 3] == [1, 2, 3]"
   ]
  },
  {
   "cell_type": "code",
   "execution_count": null,
   "metadata": {},
   "outputs": [
    {
     "ename": "AssertionError",
     "evalue": "La variable num debe ser un entero pero es: 1.25\nassert False\n +  where False = isinstance(1.25, int)",
     "output_type": "error",
     "traceback": [
      "\u001b[0;31m---------------------------------------------------------------------------\u001b[0m",
      "\u001b[0;31mAssertionError\u001b[0m                            Traceback (most recent call last)",
      "\u001b[0;32m~/Projects/courses/python/basico/testing.ipynb\u001b[0m in \u001b[0;36m<module>\u001b[0;34m\u001b[0m\n\u001b[0;32m----> 1\u001b[0;31m \u001b[0;32massert\u001b[0m \u001b[0misinstance\u001b[0m\u001b[0;34m(\u001b[0m\u001b[0mnum\u001b[0m\u001b[0;34m,\u001b[0m \u001b[0mint\u001b[0m\u001b[0;34m)\u001b[0m\u001b[0;34m,\u001b[0m \u001b[0;34mf\"La variable num debe ser un entero pero es: {num}\"\u001b[0m\u001b[0;34m\u001b[0m\u001b[0;34m\u001b[0m\u001b[0m\n\u001b[0m",
      "\u001b[0;31mAssertionError\u001b[0m: La variable num debe ser un entero pero es: 1.25\nassert False\n +  where False = isinstance(1.25, int)"
     ]
    }
   ],
   "source": [
    "num = 1.25\n",
    "assert isinstance(num, int), f\"La variable num debe ser un entero pero es: {num}\""
   ]
  },
  {
   "cell_type": "code",
   "execution_count": null,
   "metadata": {},
   "outputs": [],
   "source": [
    "def test_example():\n",
    "    assert [1, 2, 3] == [1, 2, 3]"
   ]
  },
  {
   "cell_type": "code",
   "execution_count": null,
   "metadata": {},
   "outputs": [],
   "source": []
  },
  {
   "cell_type": "code",
   "execution_count": null,
   "metadata": {},
   "outputs": [],
   "source": [
    "def capital_case(x):\n",
    "    \n",
    "    return x.capitalize()"
   ]
  },
  {
   "cell_type": "code",
   "execution_count": null,
   "metadata": {},
   "outputs": [
    {
     "data": {
      "text/plain": [
       "'Un texto'"
      ]
     },
     "execution_count": null,
     "metadata": {},
     "output_type": "execute_result"
    }
   ],
   "source": [
    "capital_case(\"un texto\")"
   ]
  },
  {
   "cell_type": "code",
   "execution_count": null,
   "metadata": {},
   "outputs": [
    {
     "name": "stdout",
     "output_type": "stream",
     "text": [
      ".                                                                        [100%]\n",
      "=============================== warnings summary ===============================\n",
      ".venv/lib/python3.7/site-packages/ipytest/_pytest_support.py:141\n",
      "  /Users/r/Projects/courses/python/basico/.venv/lib/python3.7/site-packages/ipytest/_pytest_support.py:141: PytestDeprecationWarning: direct construction of Module has been deprecated, please use Module.from_parent\n",
      "    return Module(path=path, parent=parent, module=self.module)\n",
      "\n",
      "-- Docs: https://docs.pytest.org/en/latest/warnings.html\n"
     ]
    }
   ],
   "source": [
    "%%run_pytest[clean] -qq\n",
    "\n",
    "def test_capital_case():\n",
    "    assert capital_case(\"semaphore\") == \"Semaphore\"\n",
    "    assert capital_case(\"python\") == \"Python\"\n",
    "    assert capital_case(\"curso\") == \"Curso\""
   ]
  },
  {
   "cell_type": "code",
   "execution_count": null,
   "metadata": {},
   "outputs": [],
   "source": []
  },
  {
   "cell_type": "code",
   "execution_count": null,
   "metadata": {},
   "outputs": [],
   "source": []
  },
  {
   "cell_type": "code",
   "execution_count": null,
   "metadata": {},
   "outputs": [],
   "source": []
  },
  {
   "cell_type": "code",
   "execution_count": null,
   "metadata": {},
   "outputs": [
    {
     "name": "stdout",
     "output_type": "stream",
     "text": [
      "F.F                                                                      [100%]\n",
      "=================================== FAILURES ===================================\n",
      "______________________________ test_comparewithAA ______________________________\n",
      "\n",
      "supply_AA_BB_CC = [25, 35, 45]\n",
      "\n",
      "    def test_comparewithAA(supply_AA_BB_CC):\n",
      "        zz = 35\n",
      ">       assert supply_AA_BB_CC[0] == zz, \"aa and zz comparison failed\"\n",
      "E       AssertionError: aa and zz comparison failed\n",
      "E       assert 25 == 35\n",
      "\n",
      "<ipython-input-38-0c0301466f21>:14: AssertionError\n",
      "______________________________ test_comparewithCC ______________________________\n",
      "\n",
      "supply_AA_BB_CC = [25, 35, 45]\n",
      "\n",
      "    def test_comparewithCC(supply_AA_BB_CC):\n",
      "        zz = 35\n",
      ">       assert supply_AA_BB_CC[2] == zz, \"cc and zz comparison failed\"\n",
      "E       AssertionError: cc and zz comparison failed\n",
      "E       assert 45 == 35\n",
      "\n",
      "<ipython-input-38-0c0301466f21>:24: AssertionError\n",
      "=============================== warnings summary ===============================\n",
      ".venv/lib/python3.7/site-packages/ipytest/_pytest_support.py:141\n",
      "  /Users/r/Projects/courses/python/basico/.venv/lib/python3.7/site-packages/ipytest/_pytest_support.py:141: PytestDeprecationWarning: direct construction of Module has been deprecated, please use Module.from_parent\n",
      "    return Module(path=path, parent=parent, module=self.module)\n",
      "\n",
      "-- Docs: https://docs.pytest.org/en/latest/warnings.html\n",
      "=========================== short test summary info ============================\n",
      "FAILED testing.py::test_comparewithAA - AssertionError: aa and zz comparison ...\n",
      "FAILED testing.py::test_comparewithCC - AssertionError: cc and zz comparison ...\n"
     ]
    }
   ],
   "source": [
    "%%run_pytest[clean] -qq\n",
    "import pytest\n",
    "\n",
    "\n",
    "@pytest.fixture\n",
    "def supply_AA_BB_CC():\n",
    "    aa = 25\n",
    "    bb = 35\n",
    "    cc = 45\n",
    "    return [aa, bb, cc]\n",
    "\n",
    "\n",
    "def test_comparewithAA(supply_AA_BB_CC):\n",
    "    zz = 35\n",
    "    assert supply_AA_BB_CC[0] == zz, \"aa and zz comparison failed\"\n",
    "\n",
    "\n",
    "def test_comparewithBB(supply_AA_BB_CC):\n",
    "    zz = 35\n",
    "    assert supply_AA_BB_CC[1] == zz, \"bb and zz comparison failed\"\n",
    "\n",
    "\n",
    "def test_comparewithCC(supply_AA_BB_CC):\n",
    "    zz = 35\n",
    "    assert supply_AA_BB_CC[2] == zz, \"cc and zz comparison failed\""
   ]
  },
  {
   "cell_type": "markdown",
   "metadata": {},
   "source": [
    "## Ejercicio\n",
    "\n",
    "Crear test para las dos siguientes funciones."
   ]
  },
  {
   "cell_type": "code",
   "execution_count": null,
   "metadata": {},
   "outputs": [],
   "source": [
    "def maximo(valores):\n",
    "\n",
    "    max_valor = valores[0]\n",
    "\n",
    "    for val in valores:\n",
    "        if val > max_valor:\n",
    "            max_valor = val\n",
    "\n",
    "    return max_valor\n",
    "\n",
    "\n",
    "def minimo(valores):\n",
    "\n",
    "    min_valor = valores[0]\n",
    "\n",
    "    for val in valores:\n",
    "        if val < min_valor:\n",
    "            min_valor = val\n",
    "\n",
    "    return min_valor"
   ]
  },
  {
   "cell_type": "code",
   "execution_count": null,
   "metadata": {},
   "outputs": [],
   "source": [
    "def maximo(valores):\n",
    "    \n",
    "    return max(valores)\n",
    "\n",
    "def maximo(valores):\n",
    "    \n",
    "    return min(valores)"
   ]
  },
  {
   "cell_type": "code",
   "execution_count": null,
   "metadata": {},
   "outputs": [
    {
     "name": "stdout",
     "output_type": "stream",
     "text": [
      "..                                                                       [100%]\n",
      "=============================== warnings summary ===============================\n",
      ".venv/lib/python3.7/site-packages/ipytest/_pytest_support.py:141\n",
      "  /Users/r/Projects/courses/python/basico/.venv/lib/python3.7/site-packages/ipytest/_pytest_support.py:141: PytestDeprecationWarning: direct construction of Module has been deprecated, please use Module.from_parent\n",
      "    return Module(path=path, parent=parent, module=self.module)\n",
      "\n",
      "-- Docs: https://docs.pytest.org/en/latest/warnings.html\n"
     ]
    }
   ],
   "source": [
    "%%run_pytest[clean] -qq\n",
    "\n",
    "def test_minimo():\n",
    "    valores = (2, 3, 1, 4, 6)\n",
    "\n",
    "    val = minimo(valores)\n",
    "    assert val == 1\n",
    "    \n",
    "    assert minimo([8,0,4]) == 0\n",
    "    \n",
    "\n",
    "\n",
    "def test_maximo():\n",
    "    valores = (2, 3, 1, 4, 6)\n",
    "\n",
    "    val = maximo(valores)\n",
    "    assert val == 6"
   ]
  },
  {
   "cell_type": "code",
   "execution_count": null,
   "metadata": {},
   "outputs": [],
   "source": []
  },
  {
   "cell_type": "code",
   "execution_count": null,
   "metadata": {},
   "outputs": [],
   "source": []
  },
  {
   "cell_type": "code",
   "execution_count": null,
   "metadata": {},
   "outputs": [
    {
     "name": "stdout",
     "output_type": "stream",
     "text": [
      ".                                                                        [100%]\n",
      "=============================== warnings summary ===============================\n",
      ".venv/lib/python3.7/site-packages/ipytest/_pytest_support.py:141\n",
      "  /Users/r/Projects/courses/python/basico/.venv/lib/python3.7/site-packages/ipytest/_pytest_support.py:141: PytestDeprecationWarning: direct construction of Module has been deprecated, please use Module.from_parent\n",
      "    return Module(path=path, parent=parent, module=self.module)\n",
      "\n",
      "-- Docs: https://docs.pytest.org/en/latest/warnings.html\n"
     ]
    }
   ],
   "source": [
    "%%run_pytest[clean] -qq -m b\n",
    "\n",
    "@pytest.mark.b\n",
    "def test_b1():\n",
    "\n",
    "    assert \"falcon\" == \"fal\" + \"con\""
   ]
  },
  {
   "cell_type": "code",
   "execution_count": null,
   "metadata": {},
   "outputs": [],
   "source": []
  },
  {
   "cell_type": "code",
   "execution_count": null,
   "metadata": {},
   "outputs": [
    {
     "name": "stdout",
     "output_type": "stream",
     "text": [
      "..                                                                       [100%]\n",
      "=============================== warnings summary ===============================\n",
      ".venv/lib/python3.7/site-packages/ipytest/_pytest_support.py:141\n",
      "  /Users/r/Projects/courses/python/basico/.venv/lib/python3.7/site-packages/ipytest/_pytest_support.py:141: PytestDeprecationWarning: direct construction of Module has been deprecated, please use Module.from_parent\n",
      "    return Module(path=path, parent=parent, module=self.module)\n",
      "\n",
      "-- Docs: https://docs.pytest.org/en/latest/warnings.html\n"
     ]
    }
   ],
   "source": [
    "%%run_pytest[clean] -qq\n",
    "\n",
    "@pytest.mark.parametrize(\n",
    "    \"valores,resultado\", [([30, 20, 10], 10), ([200000, -1, 12], -1)]\n",
    ")\n",
    "def test_min_p(valores, resultado):\n",
    "\n",
    "    min_valor = valores[0]\n",
    "\n",
    "    for val in valores:\n",
    "        if val < min_valor:\n",
    "            min_valor = val\n",
    "\n",
    "    return min_valor"
   ]
  },
  {
   "cell_type": "code",
   "execution_count": null,
   "metadata": {},
   "outputs": [],
   "source": []
  },
  {
   "cell_type": "code",
   "execution_count": null,
   "metadata": {},
   "outputs": [],
   "source": []
  },
  {
   "cell_type": "markdown",
   "metadata": {},
   "source": [
    "## Unit Tests"
   ]
  },
  {
   "cell_type": "code",
   "execution_count": null,
   "metadata": {},
   "outputs": [],
   "source": [
    "import unittest\n",
    "\n",
    "\n",
    "class TestDemo(unittest.TestCase):\n",
    "    \"\"\"Example of how to use unittest in Jupyter.\"\"\"\n",
    "    \n",
    "    def test(self):\n",
    "        self.assertEqual('foo'.upper(), 'FOO')"
   ]
  },
  {
   "cell_type": "code",
   "execution_count": null,
   "metadata": {},
   "outputs": [
    {
     "name": "stderr",
     "output_type": "stream",
     "text": [
      ".\n",
      "----------------------------------------------------------------------\n",
      "Ran 1 test in 0.001s\n",
      "\n",
      "OK\n"
     ]
    }
   ],
   "source": [
    "if __name__ == '__main__':\n",
    "    unittest.main(argv=['first-arg-is-ignored'], exit=False)"
   ]
  },
  {
   "cell_type": "code",
   "execution_count": null,
   "metadata": {},
   "outputs": [],
   "source": []
  },
  {
   "cell_type": "markdown",
   "metadata": {},
   "source": [
    "## Doctests"
   ]
  },
  {
   "cell_type": "code",
   "execution_count": null,
   "metadata": {},
   "outputs": [],
   "source": [
    "def add(a, b):\n",
    "    \"\"\"\n",
    "    This is una suma:\n",
    "    >>> add(2, 2)\n",
    "    4\n",
    "    \n",
    "    >>> add(10, 2)\n",
    "    12\n",
    "    \n",
    "    >>> add(125, 2)\n",
    "    127\n",
    "    \"\"\"\n",
    "    return a + b"
   ]
  },
  {
   "cell_type": "code",
   "execution_count": null,
   "metadata": {},
   "outputs": [
    {
     "name": "stdout",
     "output_type": "stream",
     "text": [
      "**********************************************************************\n",
      "File \"testing.ipynb\", line 10, in __main__.add\n",
      "Failed example:\n",
      "    add(125, 2)\n",
      "Expected:\n",
      "    120\n",
      "Got:\n",
      "    127\n",
      "**********************************************************************\n",
      "1 items had failures:\n",
      "   1 of   3 in __main__.add\n",
      "***Test Failed*** 1 failures.\n"
     ]
    },
    {
     "data": {
      "text/plain": [
       "TestResults(failed=1, attempted=3)"
      ]
     },
     "execution_count": null,
     "metadata": {},
     "output_type": "execute_result"
    }
   ],
   "source": [
    "import doctest\n",
    "doctest.testmod(verbose=True)"
   ]
  },
  {
   "cell_type": "markdown",
   "metadata": {},
   "source": [
    "Escribir doctests para las funciontes anteriores!!!"
   ]
  },
  {
   "cell_type": "code",
   "execution_count": null,
   "metadata": {},
   "outputs": [],
   "source": []
  }
 ],
 "metadata": {
  "kernelspec": {
   "display_name": "basic",
   "language": "python",
   "name": "basic"
  },
  "language_info": {
   "codemirror_mode": {
    "name": "ipython",
    "version": 3
   },
   "file_extension": ".py",
   "mimetype": "text/x-python",
   "name": "python",
   "nbconvert_exporter": "python",
   "pygments_lexer": "ipython3",
   "version": "3.7.7"
  }
 },
 "nbformat": 4,
 "nbformat_minor": 4
}
