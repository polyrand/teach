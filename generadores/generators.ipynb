{
 "cells": [
  {
   "cell_type": "markdown",
   "metadata": {},
   "source": [
    "# Generadores"
   ]
  },
  {
   "cell_type": "markdown",
   "metadata": {},
   "source": [
    "Los generadores son funciones que devuelven un iterable \"lazy\"."
   ]
  },
  {
   "cell_type": "markdown",
   "metadata": {},
   "source": [
    "`yield` vs `return`?"
   ]
  },
  {
   "cell_type": "code",
   "execution_count": 1,
   "metadata": {},
   "outputs": [],
   "source": [
    "import sys\n",
    "\n",
    "def s(obj):\n",
    "    return f\"{round((sys.getsizeof(obj) * 1e-6), ndigits=10)} MB\""
   ]
  },
  {
   "cell_type": "code",
   "execution_count": 2,
   "metadata": {},
   "outputs": [],
   "source": [
    "from itertools import islice\n",
    "\n",
    "\n",
    "def take(n, iterable):\n",
    "    \"Return first n items of the iterable as a list\"\n",
    "    return list(islice(iterable, n))"
   ]
  },
  {
   "cell_type": "code",
   "execution_count": 3,
   "metadata": {},
   "outputs": [],
   "source": [
    "import time\n",
    "\n",
    "\n",
    "def my_generator():\n",
    "    for i in range(5):\n",
    "        time.sleep(1)\n",
    "        yield i"
   ]
  },
  {
   "cell_type": "code",
   "execution_count": 4,
   "metadata": {},
   "outputs": [
    {
     "data": {
      "text/plain": [
       "<generator object my_generator at 0x1090943d0>"
      ]
     },
     "execution_count": 4,
     "metadata": {},
     "output_type": "execute_result"
    }
   ],
   "source": [
    "my_generator()"
   ]
  },
  {
   "cell_type": "code",
   "execution_count": 5,
   "metadata": {},
   "outputs": [],
   "source": [
    "generator = my_generator()"
   ]
  },
  {
   "cell_type": "code",
   "execution_count": 6,
   "metadata": {},
   "outputs": [
    {
     "name": "stdout",
     "output_type": "stream",
     "text": [
      "0\n",
      "1\n",
      "2\n",
      "3\n",
      "4\n"
     ]
    }
   ],
   "source": [
    "for generated in generator:\n",
    "    print(generated)"
   ]
  },
  {
   "cell_type": "code",
   "execution_count": 121,
   "metadata": {},
   "outputs": [],
   "source": [
    "n = 1_000"
   ]
  },
  {
   "cell_type": "code",
   "execution_count": 8,
   "metadata": {},
   "outputs": [],
   "source": [
    "lista_n = []\n",
    "\n",
    "for i in range(n):\n",
    "    lista_n.append(i**2)"
   ]
  },
  {
   "cell_type": "code",
   "execution_count": 9,
   "metadata": {},
   "outputs": [
    {
     "data": {
      "text/plain": [
       "'0.009032 MB'"
      ]
     },
     "execution_count": 9,
     "metadata": {},
     "output_type": "execute_result"
    }
   ],
   "source": [
    "s(lista_n)"
   ]
  },
  {
   "cell_type": "code",
   "execution_count": 123,
   "metadata": {},
   "outputs": [],
   "source": [
    "lista = [i**2 for i in range(n)]"
   ]
  },
  {
   "cell_type": "code",
   "execution_count": 12,
   "metadata": {},
   "outputs": [
    {
     "name": "stdout",
     "output_type": "stream",
     "text": [
      "0\n"
     ]
    }
   ],
   "source": [
    "for i in lista:\n",
    "    print(i)\n",
    "    break"
   ]
  },
  {
   "cell_type": "code",
   "execution_count": 124,
   "metadata": {},
   "outputs": [],
   "source": [
    "generador = (i**2 for i in range(n))"
   ]
  },
  {
   "cell_type": "code",
   "execution_count": 73,
   "metadata": {},
   "outputs": [],
   "source": [
    "def my_generator(n):\n",
    "    for i in range(n):\n",
    "        yield i**2"
   ]
  },
  {
   "cell_type": "code",
   "execution_count": 115,
   "metadata": {},
   "outputs": [
    {
     "data": {
      "text/plain": [
       "[0, 1]"
      ]
     },
     "execution_count": 115,
     "metadata": {},
     "output_type": "execute_result"
    }
   ],
   "source": [
    "take(2, my_generator(20))"
   ]
  },
  {
   "cell_type": "code",
   "execution_count": 116,
   "metadata": {},
   "outputs": [],
   "source": [
    "mygen = my_generator(20)"
   ]
  },
  {
   "cell_type": "code",
   "execution_count": 117,
   "metadata": {},
   "outputs": [
    {
     "data": {
      "text/plain": [
       "[0, 1]"
      ]
     },
     "execution_count": 117,
     "metadata": {},
     "output_type": "execute_result"
    }
   ],
   "source": [
    "take(2, mygen)"
   ]
  },
  {
   "cell_type": "code",
   "execution_count": 118,
   "metadata": {},
   "outputs": [
    {
     "name": "stdout",
     "output_type": "stream",
     "text": [
      "400\n"
     ]
    }
   ],
   "source": [
    "for i in generador:\n",
    "    print(i)\n",
    "    break"
   ]
  },
  {
   "cell_type": "code",
   "execution_count": 119,
   "metadata": {},
   "outputs": [
    {
     "data": {
      "text/plain": [
       "441"
      ]
     },
     "execution_count": 119,
     "metadata": {},
     "output_type": "execute_result"
    }
   ],
   "source": [
    "next(generador)"
   ]
  },
  {
   "cell_type": "code",
   "execution_count": 120,
   "metadata": {},
   "outputs": [
    {
     "data": {
      "text/plain": [
       "'8.697472 MB'"
      ]
     },
     "execution_count": 120,
     "metadata": {},
     "output_type": "execute_result"
    }
   ],
   "source": [
    "s(lista)"
   ]
  },
  {
   "cell_type": "code",
   "execution_count": 67,
   "metadata": {},
   "outputs": [
    {
     "data": {
      "text/plain": [
       "'0.000128 MB'"
      ]
     },
     "execution_count": 67,
     "metadata": {},
     "output_type": "execute_result"
    }
   ],
   "source": [
    "s(generador)"
   ]
  },
  {
   "cell_type": "code",
   "execution_count": 71,
   "metadata": {},
   "outputs": [
    {
     "data": {
      "text/plain": [
       "[0, 1, 4, 9, 16, 25, 36, 49, 64, 81]"
      ]
     },
     "execution_count": 71,
     "metadata": {},
     "output_type": "execute_result"
    }
   ],
   "source": [
    "take(10, lista)"
   ]
  },
  {
   "cell_type": "code",
   "execution_count": 72,
   "metadata": {},
   "outputs": [
    {
     "data": {
      "text/plain": [
       "[100, 121, 144, 169, 196, 225, 256, 289, 324, 361]"
      ]
     },
     "execution_count": 72,
     "metadata": {},
     "output_type": "execute_result"
    }
   ],
   "source": [
    "take(10, generador)"
   ]
  },
  {
   "cell_type": "markdown",
   "metadata": {},
   "source": [
    "# Corutinas\n",
    "\n",
    "\n",
    "\n",
    "**Nota:** las corrutinas es mejor estudiarlas en el contexto de `async` (ver notebook siguiente)"
   ]
  },
  {
   "cell_type": "code",
   "execution_count": 6,
   "metadata": {},
   "outputs": [],
   "source": [
    "def bare_bones():\n",
    "    print(\"Mi primera corutina!\")\n",
    "    while True:\n",
    "        value = yield\n",
    "        print(value)\n",
    "\n",
    "\n",
    "coroutine = bare_bones()"
   ]
  },
  {
   "cell_type": "code",
   "execution_count": 7,
   "metadata": {},
   "outputs": [
    {
     "name": "stdout",
     "output_type": "stream",
     "text": [
      "Mi primera corutina!\n"
     ]
    }
   ],
   "source": [
    "next(coroutine)"
   ]
  },
  {
   "cell_type": "code",
   "execution_count": 8,
   "metadata": {},
   "outputs": [
    {
     "name": "stdout",
     "output_type": "stream",
     "text": [
      "Toma otro!\n"
     ]
    }
   ],
   "source": [
    "coroutine.send(\"Toma otro!\")"
   ]
  },
  {
   "cell_type": "code",
   "execution_count": 9,
   "metadata": {},
   "outputs": [
    {
     "name": "stdout",
     "output_type": "stream",
     "text": [
      "Y otro!\n"
     ]
    }
   ],
   "source": [
    "coroutine.send(\"Y otro!\")"
   ]
  },
  {
   "cell_type": "code",
   "execution_count": 10,
   "metadata": {},
   "outputs": [],
   "source": [
    "coroutine.close()"
   ]
  },
  {
   "cell_type": "code",
   "execution_count": 11,
   "metadata": {},
   "outputs": [
    {
     "ename": "StopIteration",
     "evalue": "",
     "output_type": "error",
     "traceback": [
      "\u001b[0;31m---------------------------------------------------------------------------\u001b[0m",
      "\u001b[0;31mStopIteration\u001b[0m                             Traceback (most recent call last)",
      "\u001b[0;32m<ipython-input-11-2f490ce42901>\u001b[0m in \u001b[0;36m<module>\u001b[0;34m\u001b[0m\n\u001b[0;32m----> 1\u001b[0;31m \u001b[0mcoroutine\u001b[0m\u001b[0;34m.\u001b[0m\u001b[0msend\u001b[0m\u001b[0;34m(\u001b[0m\u001b[0;34m\"Y ahora?\"\u001b[0m\u001b[0;34m)\u001b[0m\u001b[0;34m\u001b[0m\u001b[0;34m\u001b[0m\u001b[0m\n\u001b[0m",
      "\u001b[0;31mStopIteration\u001b[0m: "
     ]
    }
   ],
   "source": [
    "coroutine.send(\"Y ahora?\")"
   ]
  },
  {
   "cell_type": "code",
   "execution_count": 12,
   "metadata": {},
   "outputs": [
    {
     "name": "stdout",
     "output_type": "stream",
     "text": [
      "Mi primera corutina!\n",
      "Toma otro!\n",
      "Fin!!\n"
     ]
    }
   ],
   "source": [
    "def bare_bones():\n",
    "    print(\"Mi primera corutina!\")\n",
    "    try:\n",
    "        while True:\n",
    "            value = yield\n",
    "            print(value)\n",
    "    except GeneratorExit:\n",
    "        print(\"Fin!!\")\n",
    "\n",
    "\n",
    "coroutine = bare_bones()\n",
    "next(coroutine)\n",
    "coroutine.send(\"Toma otro!\")\n",
    "coroutine.close()"
   ]
  },
  {
   "cell_type": "code",
   "execution_count": 13,
   "metadata": {},
   "outputs": [
    {
     "name": "stdout",
     "output_type": "stream",
     "text": [
      "Encendido\n"
     ]
    }
   ],
   "source": [
    "def filter_line(cadena: str):\n",
    "    print(\"Encendido\")\n",
    "    while True:\n",
    "        line = yield\n",
    "        if cadena in line:\n",
    "            print(line)\n",
    "\n",
    "\n",
    "cor = filter_line(\"33\")\n",
    "next(cor)"
   ]
  },
  {
   "cell_type": "code",
   "execution_count": 16,
   "metadata": {},
   "outputs": [
    {
     "name": "stdout",
     "output_type": "stream",
     "text": [
      "Marco, age:33\n"
     ]
    }
   ],
   "source": [
    "cor.send(\"Marco, age:33\")"
   ]
  },
  {
   "cell_type": "code",
   "execution_count": null,
   "metadata": {},
   "outputs": [],
   "source": [
    "#cor.send(\"Jessica, age:24\")\n",
    "cor.send(\"Marco, age:33\") # 33\n",
    "# cor.send(\"Filipe, age:55\")"
   ]
  },
  {
   "cell_type": "code",
   "execution_count": 17,
   "metadata": {},
   "outputs": [
    {
     "name": "stdout",
     "output_type": "stream",
     "text": [
      "Using a decorator!\n"
     ]
    }
   ],
   "source": [
    "def coroutine(func):\n",
    "    def start(*args, **kwargs):\n",
    "        cr = func(*args, **kwargs)\n",
    "        next(cr)\n",
    "        return cr\n",
    "\n",
    "    return start\n",
    "\n",
    "\n",
    "@coroutine\n",
    "def bare_bones():\n",
    "    while True:\n",
    "        value = yield\n",
    "        print(value)\n",
    "\n",
    "\n",
    "cor = bare_bones()\n",
    "cor.send(\"Using a decorator!\")"
   ]
  },
  {
   "cell_type": "code",
   "execution_count": 18,
   "metadata": {},
   "outputs": [],
   "source": [
    "cor.close()"
   ]
  },
  {
   "cell_type": "markdown",
   "metadata": {},
   "source": [
    "### Pipelines\n",
    "\n",
    "![](https://stackabuse.s3.amazonaws.com/media/coroutines-in-python-1.png)\n",
    "\n",
    "> source: https://stackabuse.com/coroutines-in-python/\n",
    "\n",
    "Las corutinas son candidatas naturales para realizar estas operaciones, pueden pasarse datos entre sí con los métodos `send()` y también pueden servir como \"consumidores\" finales."
   ]
  },
  {
   "cell_type": "code",
   "execution_count": 19,
   "metadata": {},
   "outputs": [
    {
     "name": "stdout",
     "output_type": "stream",
     "text": [
      "1\n",
      "2\n",
      "4\n",
      "8\n",
      "16\n",
      "32\n"
     ]
    }
   ],
   "source": [
    "def productor(cor):\n",
    "    n = 1\n",
    "    while n < 100:\n",
    "        cor.send(n)\n",
    "        n = n * 2\n",
    "\n",
    "\n",
    "@coroutine\n",
    "def filtro(num, cor):\n",
    "    while True:\n",
    "        n = yield\n",
    "        if n < num:\n",
    "            cor.send(n)\n",
    "\n",
    "\n",
    "@coroutine\n",
    "def printer():\n",
    "    while True:\n",
    "        n = yield\n",
    "        print(n)\n",
    "\n",
    "\n",
    "prnt = printer()\n",
    "filt = filtro(50, prnt)\n",
    "productor(filt)"
   ]
  },
  {
   "cell_type": "markdown",
   "metadata": {},
   "source": [
    "* No son \"thread safe\"\n",
    "* Una corutina que acepte corutinas como argumentos NO puede enviarse a si misma (coroutine looping)"
   ]
  },
  {
   "cell_type": "markdown",
   "metadata": {},
   "source": [
    "### Example (beer)\n",
    "\n",
    "> source?  \n",
    "> https://www.pybloggers.com/2018/06/python-generators-tutorial/  \n",
    "> https://www.dataquest.io/blog/python-generators-tutorial/"
   ]
  },
  {
   "cell_type": "code",
   "execution_count": 58,
   "metadata": {},
   "outputs": [],
   "source": [
    "beer_data = \"recipeData.csv\"\n",
    "lines = (line for line in open(beer_data, encoding=\"ISO-8859-1\"))\n",
    "lists = (l.split(\",\") for l in lines)"
   ]
  },
  {
   "cell_type": "code",
   "execution_count": 59,
   "metadata": {},
   "outputs": [],
   "source": [
    "# Take the column names out of the generator and store them, leaving only data\n",
    "columns = next(lists)"
   ]
  },
  {
   "cell_type": "code",
   "execution_count": 60,
   "metadata": {},
   "outputs": [],
   "source": [
    "# Take these columns and use them to create an informative dictionary\n",
    "beerdicts = (dict(zip(columns, data)) for data in lists)"
   ]
  },
  {
   "cell_type": "markdown",
   "metadata": {},
   "source": [
    "### Current workflow  \n",
    "  \n",
    "  \n",
    "\n",
    "\n",
    "![img](https://i.imgur.com/HV4koXz.jpg)"
   ]
  },
  {
   "cell_type": "code",
   "execution_count": 56,
   "metadata": {},
   "outputs": [
    {
     "data": {
      "text/plain": [
       "'0.000128 MB'"
      ]
     },
     "execution_count": 56,
     "metadata": {},
     "output_type": "execute_result"
    }
   ],
   "source": [
    "s(beerdicts)"
   ]
  },
  {
   "cell_type": "code",
   "execution_count": 57,
   "metadata": {},
   "outputs": [
    {
     "data": {
      "text/plain": [
       "{'BeerID': '1',\n",
       " 'Name': 'Vanilla Cream Ale',\n",
       " 'URL': '/homebrew/recipe/view/1633/vanilla-cream-ale',\n",
       " 'Style': 'Cream Ale',\n",
       " 'StyleID': '45',\n",
       " 'Size(L)': '21.77',\n",
       " 'OG': '1.055',\n",
       " 'FG': '1.013',\n",
       " 'ABV': '5.48',\n",
       " 'IBU': '17.65',\n",
       " 'Color': '4.83',\n",
       " 'BoilSize': '28.39',\n",
       " 'BoilTime': '75',\n",
       " 'BoilGravity': '1.038',\n",
       " 'Efficiency': '70',\n",
       " 'MashThickness': 'N/A',\n",
       " 'SugarScale': 'Specific Gravity',\n",
       " 'BrewMethod': 'All Grain',\n",
       " 'PitchRate': 'N/A',\n",
       " 'PrimaryTemp': '17.78',\n",
       " 'PrimingMethod': 'corn sugar',\n",
       " 'PrimingAmount': '4.5 oz',\n",
       " 'UserId\\n': '116\\n'}"
      ]
     },
     "execution_count": 57,
     "metadata": {},
     "output_type": "execute_result"
    }
   ],
   "source": [
    "next(beerdicts)"
   ]
  },
  {
   "cell_type": "markdown",
   "metadata": {},
   "source": [
    "import itertools\n",
    "itertools.tee(beerdicts, 4)"
   ]
  },
  {
   "cell_type": "code",
   "execution_count": 61,
   "metadata": {},
   "outputs": [],
   "source": [
    "beer_counts = {}\n",
    "for bd in beerdicts:\n",
    "    if bd[\"Style\"] not in beer_counts:\n",
    "        beer_counts[bd[\"Style\"]] = 1\n",
    "    else:\n",
    "        beer_counts[bd[\"Style\"]] += 1"
   ]
  },
  {
   "cell_type": "code",
   "execution_count": null,
   "metadata": {},
   "outputs": [],
   "source": [
    "beer_counts.items()"
   ]
  },
  {
   "cell_type": "code",
   "execution_count": 64,
   "metadata": {},
   "outputs": [
    {
     "name": "stdout",
     "output_type": "stream",
     "text": [
      "American IPA\n",
      "11938\n"
     ]
    }
   ],
   "source": [
    "most_popular = 0\n",
    "most_popular_type = None\n",
    "\n",
    "for beer, count in beer_counts.items():\n",
    "    if count > most_popular:\n",
    "        most_popular = count\n",
    "        most_popular_type = beer\n",
    "        \n",
    "        \n",
    "print(most_popular_type)\n",
    "print(most_popular)"
   ]
  },
  {
   "cell_type": "markdown",
   "metadata": {},
   "source": [
    "We now know that American IPAs are the most popular homebrewed beer in the data set, and we know how many entries they have in the data. We can try figuring out how strong our beer should be. This data is contained in the \"ABV\" (Alcohol By Volume) key. Since we are working with dictionaries as the output of our generator stream, why don't we add another generator to hone in on the exact values we want to output."
   ]
  },
  {
   "cell_type": "code",
   "execution_count": 91,
   "metadata": {},
   "outputs": [],
   "source": [
    "global_var = []\n",
    "\n",
    "def load():\n",
    "    lines = (line for line in open(\"recipeData.csv\", encoding=\"ISO-8859-1\"))\n",
    "    lists = (l.split(\",\") for l in lines)\n",
    "    global beerdicts\n",
    "    beerdicts = (dict(zip(columns, data)) for data in lists)\n",
    "\n",
    "\n",
    "load()\n",
    "\n",
    "abv = (float(bd[\"ABV\"]) for bd in beerdicts if bd[\"Style\"] == \"American IPA\")"
   ]
  },
  {
   "cell_type": "markdown",
   "metadata": {},
   "source": [
    "### Current workflow\n",
    "![img](https://i.imgur.com/hPjtGB8.jpg)"
   ]
  },
  {
   "cell_type": "code",
   "execution_count": 92,
   "metadata": {},
   "outputs": [
    {
     "data": {
      "text/plain": [
       "6.444430390350145"
      ]
     },
     "execution_count": 92,
     "metadata": {},
     "output_type": "execute_result"
    }
   ],
   "source": [
    "average = sum(abv) / most_popular\n",
    "average"
   ]
  },
  {
   "cell_type": "markdown",
   "metadata": {},
   "source": [
    "![img](https://i.imgur.com/zDmeJgr.jpg)"
   ]
  },
  {
   "cell_type": "markdown",
   "metadata": {},
   "source": [
    "### Generate infinite data"
   ]
  },
  {
   "cell_type": "code",
   "execution_count": 93,
   "metadata": {},
   "outputs": [],
   "source": [
    "def alwaysdata():\n",
    "    while True:\n",
    "        # code\n",
    "        # code\n",
    "        yield 'result'"
   ]
  },
  {
   "cell_type": "code",
   "execution_count": 105,
   "metadata": {},
   "outputs": [
    {
     "data": {
      "text/plain": [
       "'result'"
      ]
     },
     "execution_count": 105,
     "metadata": {},
     "output_type": "execute_result"
    }
   ],
   "source": [
    "next(alwaysdata())"
   ]
  },
  {
   "cell_type": "code",
   "execution_count": 106,
   "metadata": {},
   "outputs": [
    {
     "data": {
      "text/plain": [
       "'result'"
      ]
     },
     "execution_count": 106,
     "metadata": {},
     "output_type": "execute_result"
    }
   ],
   "source": [
    "next(alwaysdata())\n",
    "next(alwaysdata())\n",
    "next(alwaysdata())\n",
    "next(alwaysdata())"
   ]
  },
  {
   "cell_type": "code",
   "execution_count": 107,
   "metadata": {},
   "outputs": [
    {
     "data": {
      "text/plain": [
       "'result'"
      ]
     },
     "execution_count": 107,
     "metadata": {},
     "output_type": "execute_result"
    }
   ],
   "source": [
    "next(alwaysdata())"
   ]
  },
  {
   "cell_type": "markdown",
   "metadata": {},
   "source": [
    "### \"Non-consuming\" generators (restarter)"
   ]
  },
  {
   "cell_type": "code",
   "execution_count": null,
   "metadata": {},
   "outputs": [],
   "source": [
    "beer_data = \"generators/recipeData.csv\"\n",
    "\n",
    "\n",
    "def genfunc():\n",
    "    for l in open(beer_data, encoding=\"ISO-8859-1\"):\n",
    "        yield l.split(\",\")"
   ]
  },
  {
   "cell_type": "code",
   "execution_count": null,
   "metadata": {},
   "outputs": [],
   "source": [
    "ahora_si_se_consume = genfunc()"
   ]
  },
  {
   "cell_type": "code",
   "execution_count": null,
   "metadata": {},
   "outputs": [],
   "source": [
    "next(genfunc())"
   ]
  },
  {
   "cell_type": "markdown",
   "metadata": {},
   "source": [
    "### Exercise\n"
   ]
  },
  {
   "cell_type": "markdown",
   "metadata": {},
   "source": [
    "* Descargar este archivo: https://raw.githubusercontent.com/realpython/materials/master/generators/techcrunch.csv\n",
    "* Leer el archivo por lineas\n",
    "* Separar cada linea en los valores\n",
    "* Extraer los nombres de las columnas\n",
    "* Usar estos nombres para crear un generador de diccionarios\n",
    "* Calcular la suma total de dinero en todas las rondas \"A\"\n",
    "\n",
    "* Filtrar donde `round = a` y hacer una suma del `raisedAmt` de todas esas columnas."
   ]
  },
  {
   "cell_type": "code",
   "execution_count": 108,
   "metadata": {},
   "outputs": [],
   "source": [
    "import requests\n",
    "\n",
    "url = \"https://raw.githubusercontent.com/realpython/materials/master/generators/techcrunch.csv\"\n",
    "r = requests.get(url)\n",
    "\n",
    "with open(\"techcrunch.csv\", \"wb\") as f:\n",
    "    f.write(r.content)"
   ]
  },
  {
   "cell_type": "code",
   "execution_count": 130,
   "metadata": {},
   "outputs": [],
   "source": [
    "filename = \"techcrunch.csv\"\n",
    "lines = (line for line in open(filename))\n",
    "listas = (texto.split(\",\") for texto in lines)"
   ]
  },
  {
   "cell_type": "code",
   "execution_count": 135,
   "metadata": {},
   "outputs": [
    {
     "data": {
      "text/plain": [
       "['mycityfaces',\n",
       " 'MyCityFaces',\n",
       " '7',\n",
       " 'web',\n",
       " 'Scottsdale',\n",
       " 'AZ',\n",
       " '1-Jan-08',\n",
       " '50000',\n",
       " 'USD',\n",
       " 'seed\\n']"
      ]
     },
     "execution_count": 135,
     "metadata": {},
     "output_type": "execute_result"
    }
   ],
   "source": [
    "next(listas)"
   ]
  },
  {
   "cell_type": "code",
   "execution_count": 155,
   "metadata": {},
   "outputs": [],
   "source": [
    "filename = \"techcrunch.csv\"\n",
    "lines = (line for line in open(filename))\n",
    "\n",
    "############   vvvvvv\n",
    "\n",
    "listas = (texto.rstrip().split(\",\") for texto in lines)\n",
    "\n",
    "############   ^^^^^^\n",
    "##### cuidado que puede haber por ahí\n",
    "##### algun caracter que nos de problemas\n",
    "##### revisad el método .rstrip() o incluso un .replace() o .strip()\n",
    "\n",
    "\n",
    "columnas = next(listas)"
   ]
  },
  {
   "cell_type": "code",
   "execution_count": 156,
   "metadata": {},
   "outputs": [],
   "source": [
    "companies = (dict(zip(columnas, datos)) for datos in listas)"
   ]
  },
  {
   "cell_type": "code",
   "execution_count": 157,
   "metadata": {},
   "outputs": [],
   "source": [
    "# next(companies)"
   ]
  },
  {
   "cell_type": "markdown",
   "metadata": {},
   "source": [
    "💸💸💸💸"
   ]
  },
  {
   "cell_type": "code",
   "execution_count": 158,
   "metadata": {},
   "outputs": [],
   "source": [
    "money = (\n",
    "    int(diccionario[\"raisedAmt\"])\n",
    "    for diccionario in companies\n",
    "    if diccionario[\"round\"].lower() == \"a\"\n",
    ")"
   ]
  },
  {
   "cell_type": "code",
   "execution_count": 160,
   "metadata": {},
   "outputs": [],
   "source": [
    "money_total_a = sum(money)"
   ]
  },
  {
   "cell_type": "code",
   "execution_count": 161,
   "metadata": {},
   "outputs": [
    {
     "data": {
      "text/plain": [
       "4376015000"
      ]
     },
     "execution_count": 161,
     "metadata": {},
     "output_type": "execute_result"
    }
   ],
   "source": [
    "money_total_a"
   ]
  },
  {
   "cell_type": "code",
   "execution_count": 162,
   "metadata": {},
   "outputs": [
    {
     "name": "stdout",
     "output_type": "stream",
     "text": [
      "💸 El dinero total conseguido en rondas de financiación A = 4376015000\n"
     ]
    }
   ],
   "source": [
    "print(f\"💸 El dinero total conseguido en rondas de financiación A = {money_total_a}\")"
   ]
  },
  {
   "cell_type": "code",
   "execution_count": 167,
   "metadata": {},
   "outputs": [
    {
     "name": "stdout",
     "output_type": "stream",
     "text": [
      "💸 El dinero total conseguido en rondas de financiación A = 4376015000\n"
     ]
    }
   ],
   "source": [
    "ronda = \"a\"\n",
    "filename = \"techcrunch.csv\"\n",
    "lines = (line for line in open(filename))\n",
    "listas = (texto.rstrip().split(\",\") for texto in lines)\n",
    "columnas = next(listas)\n",
    "companies = (dict(zip(columnas, datos)) for datos in listas)\n",
    "money = (\n",
    "    int(diccionario[\"raisedAmt\"])\n",
    "    for diccionario in companies\n",
    "    if diccionario[\"round\"].lower() == ronda\n",
    ")\n",
    "money_total_a = sum(money)\n",
    "\n",
    "print(\n",
    "    f\"💸 El dinero total conseguido en rondas de financiación {ronda.upper()} = {money_total_a}\"\n",
    ")"
   ]
  },
  {
   "cell_type": "markdown",
   "metadata": {},
   "source": [
    "💸💸💸💸"
   ]
  },
  {
   "cell_type": "code",
   "execution_count": 161,
   "metadata": {},
   "outputs": [
    {
     "data": {
      "text/plain": [
       "4376015000"
      ]
     },
     "execution_count": 161,
     "metadata": {},
     "output_type": "execute_result"
    }
   ],
   "source": [
    "money_total_a"
   ]
  },
  {
   "cell_type": "markdown",
   "metadata": {},
   "source": [
    "### Más información y fuentes:\n",
    "* https://stackabuse.com/coroutines-in-python/\n",
    "* https://realpython.com/introduction-to-python-generators/"
   ]
  },
  {
   "cell_type": "markdown",
   "metadata": {},
   "source": [
    "Ricardo Ander-Egg Aguilar\n",
    "\n",
    "* 🖥: https://ricardoanderegg.com/\n",
    "* 🐦: https://twitter.com/ricardoanderegg\n",
    "* 👨🏻‍🎓: https://www.linkedin.com/in/ricardoanderegg/"
   ]
  },
  {
   "cell_type": "code",
   "execution_count": null,
   "metadata": {},
   "outputs": [],
   "source": []
  }
 ],
 "metadata": {
  "kernelspec": {
   "display_name": "avanzado",
   "language": "python",
   "name": "avanzado"
  },
  "language_info": {
   "codemirror_mode": {
    "name": "ipython",
    "version": 3
   },
   "file_extension": ".py",
   "mimetype": "text/x-python",
   "name": "python",
   "nbconvert_exporter": "python",
   "pygments_lexer": "ipython3",
   "version": "3.7.7"
  }
 },
 "nbformat": 4,
 "nbformat_minor": 4
}
