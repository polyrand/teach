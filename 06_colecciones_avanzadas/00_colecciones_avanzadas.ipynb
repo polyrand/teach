{
 "cells": [
  {
   "cell_type": "markdown",
   "metadata": {
    "slideshow": {
     "slide_type": "slide"
    }
   },
   "source": [
    "# Colecciones avanzadas"
   ]
  },
  {
   "cell_type": "markdown",
   "metadata": {
    "slideshow": {
     "slide_type": "slide"
    }
   },
   "source": [
    "```python\n",
    "import collections\n",
    "```"
   ]
  },
  {
   "cell_type": "markdown",
   "metadata": {
    "slideshow": {
     "slide_type": "slide"
    }
   },
   "source": [
    "## ChainMap"
   ]
  },
  {
   "cell_type": "markdown",
   "metadata": {
    "slideshow": {
     "slide_type": "subslide"
    }
   },
   "source": [
    "`ChainMap` es una estructura de datos proporcionada por la biblioteca estándar de Python que permite tratar varios diccionarios como uno solo.\n",
    "\n",
    "*Diccionarios: constant-time lookups (búsquedas de tiempo constante)*"
   ]
  },
  {
   "cell_type": "markdown",
   "metadata": {
    "slideshow": {
     "slide_type": "subslide"
    }
   },
   "source": [
    "Ejercicio 🧠: construye un inventario hecho de diccionarios y crea un ChainMap de todos esos diccionarios."
   ]
  },
  {
   "cell_type": "code",
   "execution_count": 1,
   "metadata": {},
   "outputs": [],
   "source": [
    "toys = {\"Blocks\": 30, \"Monopoly\": 20}\n",
    "computers = {\"iMac\": 1000, \"Chromebook\": 800, \"PC\": 400}\n",
    "clothing = {\"Jeans\": 40, \"T-Shirt\": 10}"
   ]
  },
  {
   "cell_type": "code",
   "execution_count": 2,
   "metadata": {},
   "outputs": [],
   "source": [
    "from collections import ChainMap\n",
    "\n",
    "inventory = ChainMap(toys, computers, clothing)"
   ]
  },
  {
   "cell_type": "code",
   "execution_count": 3,
   "metadata": {},
   "outputs": [
    {
     "data": {
      "text/plain": [
       "ChainMap({'Blocks': 30, 'Monopoly': 20}, {'iMac': 1000, 'Chromebook': 800, 'PC': 400}, {'Jeans': 40, 'T-Shirt': 10})"
      ]
     },
     "execution_count": 3,
     "metadata": {},
     "output_type": "execute_result"
    }
   ],
   "source": [
    "inventory"
   ]
  },
  {
   "cell_type": "code",
   "execution_count": 4,
   "metadata": {},
   "outputs": [
    {
     "data": {
      "text/plain": [
       "20"
      ]
     },
     "execution_count": 4,
     "metadata": {},
     "output_type": "execute_result"
    }
   ],
   "source": [
    "inventory[\"Monopoly\"]"
   ]
  },
  {
   "cell_type": "code",
   "execution_count": 5,
   "metadata": {},
   "outputs": [],
   "source": [
    "computers[\"Macbook\"] = 3000"
   ]
  },
  {
   "cell_type": "code",
   "execution_count": 8,
   "metadata": {},
   "outputs": [
    {
     "data": {
      "text/plain": [
       "ChainMap({'Blocks': 30, 'Monopoly': 20}, {'iMac': 1000, 'Chromebook': 800, 'PC': 400, 'Macbook': 3000}, {'Jeans': 40, 'T-Shirt': 10})"
      ]
     },
     "execution_count": 8,
     "metadata": {},
     "output_type": "execute_result"
    }
   ],
   "source": [
    "inventory"
   ]
  },
  {
   "cell_type": "code",
   "execution_count": 11,
   "metadata": {},
   "outputs": [
    {
     "data": {
      "text/plain": [
       "3000"
      ]
     },
     "execution_count": 11,
     "metadata": {},
     "output_type": "execute_result"
    }
   ],
   "source": [
    "inventory[\"Macbook\"]"
   ]
  },
  {
   "cell_type": "markdown",
   "metadata": {},
   "source": [
    "Permite crear una nueva instancia con una asignación (diccionario) adicional al principio de la lista de mapas para que sea más fácil evitar modificar las estructuras de datos subyacentes existentes."
   ]
  },
  {
   "cell_type": "code",
   "execution_count": 16,
   "metadata": {},
   "outputs": [],
   "source": [
    "import collections\n",
    "\n",
    "a = {\"a\": \"A\", \"c\": \"C\"}\n",
    "b = {\"b\": \"B\", \"c\": \"D\"}"
   ]
  },
  {
   "cell_type": "code",
   "execution_count": 17,
   "metadata": {},
   "outputs": [],
   "source": [
    "repetido = ChainMap(a, b)"
   ]
  },
  {
   "cell_type": "code",
   "execution_count": 18,
   "metadata": {},
   "outputs": [
    {
     "data": {
      "text/plain": [
       "'C'"
      ]
     },
     "execution_count": 18,
     "metadata": {},
     "output_type": "execute_result"
    }
   ],
   "source": [
    "repetido[\"c\"]"
   ]
  },
  {
   "cell_type": "code",
   "execution_count": 9,
   "metadata": {},
   "outputs": [],
   "source": [
    "import argparse\n",
    "import os\n",
    "from collections import ChainMap"
   ]
  },
  {
   "cell_type": "code",
   "execution_count": 10,
   "metadata": {},
   "outputs": [],
   "source": [
    "por_defecto = {\"verbose\": False}"
   ]
  },
  {
   "cell_type": "code",
   "execution_count": 11,
   "metadata": {
    "collapsed": true,
    "jupyter": {
     "outputs_hidden": true
    }
   },
   "outputs": [
    {
     "name": "stderr",
     "output_type": "stream",
     "text": [
      "usage: ipykernel_launcher.py [-h] [--verbose VERBOSE]\n",
      "ipykernel_launcher.py: error: unrecognized arguments: -f /Users/r/Library/Jupyter/runtime/kernel-8fb3630d-6785-4cb1-be5d-408df6d0f258.json\n"
     ]
    },
    {
     "ename": "SystemExit",
     "evalue": "2",
     "output_type": "error",
     "traceback": [
      "An exception has occurred, use %tb to see the full traceback.\n",
      "\u001b[0;31mSystemExit\u001b[0m\u001b[0;31m:\u001b[0m 2\n"
     ]
    },
    {
     "name": "stderr",
     "output_type": "stream",
     "text": [
      "/Users/r/Projects/teach/.venv/lib/python3.8/site-packages/IPython/core/interactiveshell.py:3351: UserWarning: To exit: use 'exit', 'quit', or Ctrl-D.\n",
      "  warn(\"To exit: use 'exit', 'quit', or Ctrl-D.\", stacklevel=1)\n"
     ]
    }
   ],
   "source": [
    "parser = argparse.ArgumentParser()\n",
    "parser.add_argument(\"--verbose\")\n",
    "args = parser.parse_args()"
   ]
  },
  {
   "cell_type": "code",
   "execution_count": 12,
   "metadata": {
    "collapsed": true,
    "jupyter": {
     "outputs_hidden": true
    }
   },
   "outputs": [
    {
     "ename": "NameError",
     "evalue": "name 'args' is not defined",
     "output_type": "error",
     "traceback": [
      "\u001b[0;31m---------------------------------------------------------------------------\u001b[0m",
      "\u001b[0;31mNameError\u001b[0m                                 Traceback (most recent call last)",
      "\u001b[0;32m<ipython-input-12-185fe3ea05bc>\u001b[0m in \u001b[0;36m<module>\u001b[0;34m\u001b[0m\n\u001b[0;32m----> 1\u001b[0;31m \u001b[0mcli_args\u001b[0m \u001b[0;34m=\u001b[0m \u001b[0;34m{\u001b[0m\u001b[0mkey\u001b[0m\u001b[0;34m:\u001b[0m \u001b[0mvalue\u001b[0m \u001b[0;32mfor\u001b[0m \u001b[0mkey\u001b[0m\u001b[0;34m,\u001b[0m \u001b[0mvalue\u001b[0m \u001b[0;32min\u001b[0m \u001b[0mvars\u001b[0m\u001b[0;34m(\u001b[0m\u001b[0margs\u001b[0m\u001b[0;34m)\u001b[0m\u001b[0;34m.\u001b[0m\u001b[0mitems\u001b[0m\u001b[0;34m(\u001b[0m\u001b[0;34m)\u001b[0m \u001b[0;32mif\u001b[0m \u001b[0mvalue\u001b[0m\u001b[0;34m}\u001b[0m\u001b[0;34m\u001b[0m\u001b[0;34m\u001b[0m\u001b[0m\n\u001b[0m",
      "\u001b[0;31mNameError\u001b[0m: name 'args' is not defined"
     ]
    }
   ],
   "source": [
    "cli_args = {key: value for key, value in vars(args).items() if value}"
   ]
  },
  {
   "cell_type": "code",
   "execution_count": null,
   "metadata": {},
   "outputs": [],
   "source": [
    "config = ChainMap(cli_args, os.environ, defaults)"
   ]
  },
  {
   "cell_type": "code",
   "execution_count": null,
   "metadata": {},
   "outputs": [],
   "source": []
  },
  {
   "cell_type": "code",
   "execution_count": 10,
   "metadata": {},
   "outputs": [],
   "source": [
    "# dd[\"a\"][\"b\"]"
   ]
  },
  {
   "cell_type": "code",
   "execution_count": 11,
   "metadata": {},
   "outputs": [
    {
     "name": "stdout",
     "output_type": "stream",
     "text": [
      "m1 before: ChainMap({'a': 'A', 'c': 'C'}, {'b': 'B', 'c': 'D'})\n",
      "m2 before: ChainMap({}, {'a': 'A', 'c': 'C'}, {'b': 'B', 'c': 'D'})\n"
     ]
    }
   ],
   "source": [
    "m1 = collections.ChainMap(a, b)\n",
    "m2 = m1.new_child()\n",
    "\n",
    "print(\"m1 before:\", m1)\n",
    "print(\"m2 before:\", m2)"
   ]
  },
  {
   "cell_type": "code",
   "execution_count": 12,
   "metadata": {},
   "outputs": [
    {
     "name": "stdout",
     "output_type": "stream",
     "text": [
      "m1 after: ChainMap({'a': 'A', 'c': 'C'}, {'b': 'B', 'c': 'D'})\n",
      "m2 after: ChainMap({'c': 'E'}, {'a': 'A', 'c': 'C'}, {'b': 'B', 'c': 'D'})\n"
     ]
    }
   ],
   "source": [
    "m2[\"c\"] = \"E\"\n",
    "\n",
    "print(\"m1 after:\", m1)\n",
    "print(\"m2 after:\", m2)"
   ]
  },
  {
   "cell_type": "markdown",
   "metadata": {
    "slideshow": {
     "slide_type": "subslide"
    }
   },
   "source": [
    "Más información:\n",
    "* https://docs.python.org/3.7/library/collections.html#collections.ChainMap\n",
    "* https://www.blog.pythonlibrary.org/2016/03/29/python-201-what-is-a-chainmap/\n",
    "* https://pymotw.com/3/collections/chainmap.html"
   ]
  },
  {
   "cell_type": "markdown",
   "metadata": {
    "slideshow": {
     "slide_type": "slide"
    }
   },
   "source": [
    "## OrderedDict"
   ]
  },
  {
   "cell_type": "markdown",
   "metadata": {
    "slideshow": {
     "slide_type": "subslide"
    }
   },
   "source": [
    "`OrderedDict` es un diccionario en el que las claves mantienen el orden en que se insertan, lo que significa que si cambia el valor de una clave más adelante, no cambiará la posición de la clave."
   ]
  },
  {
   "cell_type": "code",
   "execution_count": 13,
   "metadata": {},
   "outputs": [],
   "source": [
    "d = {}"
   ]
  },
  {
   "cell_type": "code",
   "execution_count": 15,
   "metadata": {},
   "outputs": [],
   "source": [
    "d[\"aaa\"] = 1"
   ]
  },
  {
   "cell_type": "code",
   "execution_count": 16,
   "metadata": {},
   "outputs": [
    {
     "data": {
      "text/plain": [
       "{'aaa': 1}"
      ]
     },
     "execution_count": 16,
     "metadata": {},
     "output_type": "execute_result"
    }
   ],
   "source": [
    "d"
   ]
  },
  {
   "cell_type": "code",
   "execution_count": null,
   "metadata": {},
   "outputs": [],
   "source": [
    "cnt = collections.Counter(milista)\n",
    "nod = dict(cnt.most_common())"
   ]
  },
  {
   "cell_type": "code",
   "execution_count": null,
   "metadata": {},
   "outputs": [],
   "source": [
    "from collections import OrderedDict"
   ]
  },
  {
   "cell_type": "code",
   "execution_count": 13,
   "metadata": {
    "slideshow": {
     "slide_type": "subslide"
    }
   },
   "outputs": [
    {
     "name": "stdout",
     "output_type": "stream",
     "text": [
      "a 4\n",
      "c 3\n",
      "b 2\n"
     ]
    }
   ],
   "source": [
    "milista = [\"a\", \"c\", \"c\", \"a\", \"b\", \"a\", \"a\", \"b\", \"c\"]\n",
    "\n",
    "od = collections.OrderedDict(cnt.most_common())\n",
    "\n",
    "for key, value in od.items():\n",
    "    print(key, value)"
   ]
  },
  {
   "cell_type": "code",
   "execution_count": 14,
   "metadata": {
    "slideshow": {
     "slide_type": "subslide"
    }
   },
   "outputs": [
    {
     "data": {
      "text/plain": [
       "OrderedDict([('a', 20), ('c', 3), ('b', 2)])"
      ]
     },
     "execution_count": 14,
     "metadata": {},
     "output_type": "execute_result"
    }
   ],
   "source": [
    "od[\"a\"] = 20\n",
    "od"
   ]
  },
  {
   "cell_type": "code",
   "execution_count": 15,
   "metadata": {},
   "outputs": [
    {
     "name": "stdout",
     "output_type": "stream",
     "text": [
      "a 40\n",
      "c 3\n",
      "b 2\n"
     ]
    }
   ],
   "source": [
    "nod[\"a\"] = 40\n",
    "\n",
    "for k, v in nod.items():\n",
    "    print(k, v)"
   ]
  },
  {
   "cell_type": "markdown",
   "metadata": {},
   "source": [
    "Más información:\n",
    "\n",
    "* https://stackabuse.com/introduction-to-pythons-collections-module/#theordereddict"
   ]
  },
  {
   "cell_type": "markdown",
   "metadata": {},
   "source": [
    "## defaultdict"
   ]
  },
  {
   "cell_type": "code",
   "execution_count": null,
   "metadata": {},
   "outputs": [],
   "source": [
    "for valor in milista:\n",
    "    if valor in midiccionario.values() and isinstance(midiccionario[valor]):\n",
    "        midiccionario[valor].append(123)\n",
    "    else:\n",
    "        midiccionario[valor]= []\n",
    "        midiccionario[valor].append(123)"
   ]
  },
  {
   "cell_type": "code",
   "execution_count": 40,
   "metadata": {},
   "outputs": [],
   "source": [
    "from collections import defaultdict"
   ]
  },
  {
   "cell_type": "code",
   "execution_count": 41,
   "metadata": {},
   "outputs": [],
   "source": [
    "bbdd = defaultdict(list)"
   ]
  },
  {
   "cell_type": "code",
   "execution_count": 20,
   "metadata": {},
   "outputs": [],
   "source": [
    "bbdd[\"a\"] = 1"
   ]
  },
  {
   "cell_type": "code",
   "execution_count": 42,
   "metadata": {},
   "outputs": [],
   "source": [
    "bbdd[\"c\"].append(45)"
   ]
  },
  {
   "cell_type": "code",
   "execution_count": 43,
   "metadata": {},
   "outputs": [
    {
     "data": {
      "text/plain": [
       "defaultdict(list, {'c': [45]})"
      ]
     },
     "execution_count": 43,
     "metadata": {},
     "output_type": "execute_result"
    }
   ],
   "source": [
    "bbdd"
   ]
  },
  {
   "cell_type": "markdown",
   "metadata": {
    "slideshow": {
     "slide_type": "slide"
    }
   },
   "source": [
    "## enum"
   ]
  },
  {
   "cell_type": "code",
   "execution_count": 44,
   "metadata": {
    "slideshow": {
     "slide_type": "subslide"
    }
   },
   "outputs": [],
   "source": [
    "from enum import Enum\n",
    "\n",
    "\n",
    "class Color(Enum):\n",
    "    RED = 1\n",
    "    GREEN = 2\n",
    "    BLUE = 3"
   ]
  },
  {
   "cell_type": "code",
   "execution_count": 27,
   "metadata": {
    "slideshow": {
     "slide_type": "subslide"
    }
   },
   "outputs": [
    {
     "name": "stdout",
     "output_type": "stream",
     "text": [
      "Color.RED\n"
     ]
    }
   ],
   "source": [
    "print(Color.RED)"
   ]
  },
  {
   "cell_type": "code",
   "execution_count": 47,
   "metadata": {
    "slideshow": {
     "slide_type": "subslide"
    }
   },
   "outputs": [
    {
     "data": {
      "text/plain": [
       "<enum 'Color'>"
      ]
     },
     "execution_count": 47,
     "metadata": {},
     "output_type": "execute_result"
    }
   ],
   "source": [
    "type(Color.RED)"
   ]
  },
  {
   "cell_type": "code",
   "execution_count": 48,
   "metadata": {},
   "outputs": [
    {
     "data": {
      "text/plain": [
       "True"
      ]
     },
     "execution_count": 48,
     "metadata": {},
     "output_type": "execute_result"
    }
   ],
   "source": [
    "isinstance(Color.GREEN, Color)"
   ]
  },
  {
   "cell_type": "code",
   "execution_count": 51,
   "metadata": {},
   "outputs": [
    {
     "name": "stdout",
     "output_type": "stream",
     "text": [
      "RED\n"
     ]
    }
   ],
   "source": [
    "print(Color.RED.name)"
   ]
  },
  {
   "cell_type": "code",
   "execution_count": 52,
   "metadata": {},
   "outputs": [
    {
     "name": "stdout",
     "output_type": "stream",
     "text": [
      "Color.RED\n",
      "Color.RED\n"
     ]
    }
   ],
   "source": [
    "print(Color[\"RED\"])\n",
    "print(Color(1))"
   ]
  },
  {
   "cell_type": "markdown",
   "metadata": {},
   "source": [
    "No se puede repetir el nombre"
   ]
  },
  {
   "cell_type": "code",
   "execution_count": 54,
   "metadata": {},
   "outputs": [],
   "source": [
    "def imprimir_color(color: Color) -> str:\n",
    "    \n",
    "    return \"asdasd\""
   ]
  },
  {
   "cell_type": "code",
   "execution_count": 55,
   "metadata": {},
   "outputs": [],
   "source": [
    "from enum import Enum, unique\n",
    "\n",
    "class Mistake2(Enum):\n",
    "    ONE = 1\n",
    "    TWO = 2\n",
    "    THREE = 3\n",
    "    FOUR = 3"
   ]
  },
  {
   "cell_type": "code",
   "execution_count": 56,
   "metadata": {},
   "outputs": [
    {
     "data": {
      "text/plain": [
       "<Mistake2.THREE: 3>"
      ]
     },
     "execution_count": 56,
     "metadata": {},
     "output_type": "execute_result"
    }
   ],
   "source": [
    "Mistake2(3)"
   ]
  },
  {
   "cell_type": "code",
   "execution_count": 32,
   "metadata": {
    "collapsed": true,
    "jupyter": {
     "outputs_hidden": true
    }
   },
   "outputs": [
    {
     "ename": "TypeError",
     "evalue": "Attempted to reuse key: 'SQUARE'",
     "output_type": "error",
     "traceback": [
      "\u001b[0;31m---------------------------------------------------------------------------\u001b[0m",
      "\u001b[0;31mTypeError\u001b[0m                                 Traceback (most recent call last)",
      "\u001b[0;32m<ipython-input-32-982577b12b2c>\u001b[0m in \u001b[0;36m<module>\u001b[0;34m\u001b[0m\n\u001b[0;32m----> 1\u001b[0;31m \u001b[0;32mclass\u001b[0m \u001b[0mShape\u001b[0m\u001b[0;34m(\u001b[0m\u001b[0mEnum\u001b[0m\u001b[0;34m)\u001b[0m\u001b[0;34m:\u001b[0m\u001b[0;34m\u001b[0m\u001b[0;34m\u001b[0m\u001b[0m\n\u001b[0m\u001b[1;32m      2\u001b[0m     \u001b[0mSQUARE\u001b[0m \u001b[0;34m=\u001b[0m \u001b[0;36m2\u001b[0m\u001b[0;34m\u001b[0m\u001b[0;34m\u001b[0m\u001b[0m\n\u001b[1;32m      3\u001b[0m     \u001b[0mSQUARE\u001b[0m \u001b[0;34m=\u001b[0m \u001b[0;36m3\u001b[0m\u001b[0;34m\u001b[0m\u001b[0;34m\u001b[0m\u001b[0m\n",
      "\u001b[0;32m<ipython-input-32-982577b12b2c>\u001b[0m in \u001b[0;36mShape\u001b[0;34m()\u001b[0m\n\u001b[1;32m      1\u001b[0m \u001b[0;32mclass\u001b[0m \u001b[0mShape\u001b[0m\u001b[0;34m(\u001b[0m\u001b[0mEnum\u001b[0m\u001b[0;34m)\u001b[0m\u001b[0;34m:\u001b[0m\u001b[0;34m\u001b[0m\u001b[0;34m\u001b[0m\u001b[0m\n\u001b[1;32m      2\u001b[0m     \u001b[0mSQUARE\u001b[0m \u001b[0;34m=\u001b[0m \u001b[0;36m2\u001b[0m\u001b[0;34m\u001b[0m\u001b[0;34m\u001b[0m\u001b[0m\n\u001b[0;32m----> 3\u001b[0;31m     \u001b[0mSQUARE\u001b[0m \u001b[0;34m=\u001b[0m \u001b[0;36m3\u001b[0m\u001b[0;34m\u001b[0m\u001b[0;34m\u001b[0m\u001b[0m\n\u001b[0m",
      "\u001b[0;32m/usr/local/Cellar/python/3.7.7/Frameworks/Python.framework/Versions/3.7/lib/python3.7/enum.py\u001b[0m in \u001b[0;36m__setitem__\u001b[0;34m(self, key, value)\u001b[0m\n\u001b[1;32m     99\u001b[0m         \u001b[0;32melif\u001b[0m \u001b[0mkey\u001b[0m \u001b[0;32min\u001b[0m \u001b[0mself\u001b[0m\u001b[0;34m.\u001b[0m\u001b[0m_member_names\u001b[0m\u001b[0;34m:\u001b[0m\u001b[0;34m\u001b[0m\u001b[0;34m\u001b[0m\u001b[0m\n\u001b[1;32m    100\u001b[0m             \u001b[0;31m# descriptor overwriting an enum?\u001b[0m\u001b[0;34m\u001b[0m\u001b[0;34m\u001b[0m\u001b[0;34m\u001b[0m\u001b[0m\n\u001b[0;32m--> 101\u001b[0;31m             \u001b[0;32mraise\u001b[0m \u001b[0mTypeError\u001b[0m\u001b[0;34m(\u001b[0m\u001b[0;34m'Attempted to reuse key: %r'\u001b[0m \u001b[0;34m%\u001b[0m \u001b[0mkey\u001b[0m\u001b[0;34m)\u001b[0m\u001b[0;34m\u001b[0m\u001b[0;34m\u001b[0m\u001b[0m\n\u001b[0m\u001b[1;32m    102\u001b[0m         \u001b[0;32melif\u001b[0m \u001b[0mkey\u001b[0m \u001b[0;32min\u001b[0m \u001b[0mself\u001b[0m\u001b[0;34m.\u001b[0m\u001b[0m_ignore\u001b[0m\u001b[0;34m:\u001b[0m\u001b[0;34m\u001b[0m\u001b[0;34m\u001b[0m\u001b[0m\n\u001b[1;32m    103\u001b[0m             \u001b[0;32mpass\u001b[0m\u001b[0;34m\u001b[0m\u001b[0;34m\u001b[0m\u001b[0m\n",
      "\u001b[0;31mTypeError\u001b[0m: Attempted to reuse key: 'SQUARE'"
     ]
    }
   ],
   "source": [
    "class Shape(Enum):\n",
    "    SQUARE = 2\n",
    "    SQUARE = 3"
   ]
  },
  {
   "cell_type": "markdown",
   "metadata": {},
   "source": [
    "Por defecto, los `enum` permiten múltiples nombres como alias para un mismo valor. Cuando no queremos este comportamiento, se puede usar el siguiente decorador para garantizar que cada valor se use solo una vez en la enumeración:\n",
    "\n",
    "`@enum.unique`"
   ]
  },
  {
   "cell_type": "code",
   "execution_count": 25,
   "metadata": {},
   "outputs": [],
   "source": [
    "def print_color(color):\n",
    "\n",
    "    assert isinstance(color, Color), print(\"not a color\")\n",
    "    \n",
    "    print(color)"
   ]
  },
  {
   "cell_type": "code",
   "execution_count": 26,
   "metadata": {},
   "outputs": [
    {
     "name": "stdout",
     "output_type": "stream",
     "text": [
      "Color.RED\n"
     ]
    }
   ],
   "source": [
    "print_color(Color.RED)"
   ]
  },
  {
   "cell_type": "code",
   "execution_count": 59,
   "metadata": {},
   "outputs": [],
   "source": [
    "from enum import Enum, unique\n",
    "\n",
    "\n",
    "@unique\n",
    "class Mistake(Enum):\n",
    "    ONE = 1\n",
    "    TWO = 2\n",
    "    THREE = 3\n",
    "    FOUR = 4"
   ]
  },
  {
   "cell_type": "code",
   "execution_count": 60,
   "metadata": {},
   "outputs": [
    {
     "data": {
      "text/plain": [
       "<Mistake.FOUR: 4>"
      ]
     },
     "execution_count": 60,
     "metadata": {},
     "output_type": "execute_result"
    }
   ],
   "source": [
    "Mistake(4)"
   ]
  },
  {
   "cell_type": "markdown",
   "metadata": {},
   "source": [
    "Cual será el resultado de esto?"
   ]
  },
  {
   "cell_type": "code",
   "execution_count": 61,
   "metadata": {},
   "outputs": [
    {
     "data": {
      "text/plain": [
       "[<Ordinal.NORTH: 1>,\n",
       " <Ordinal.SOUTH: 2>,\n",
       " <Ordinal.EAST: 3>,\n",
       " <Ordinal.WEST: 4>,\n",
       " <Ordinal.AAA: 5>]"
      ]
     },
     "execution_count": 61,
     "metadata": {},
     "output_type": "execute_result"
    }
   ],
   "source": [
    "from enum import auto, Enum\n",
    "\n",
    "\n",
    "class Ordinal(Enum):\n",
    "    NORTH = auto()\n",
    "    SOUTH = auto()\n",
    "    EAST = auto()\n",
    "    WEST = auto()\n",
    "    AAA = auto()\n",
    "    \n",
    "list(Ordinal)"
   ]
  },
  {
   "cell_type": "code",
   "execution_count": 30,
   "metadata": {},
   "outputs": [
    {
     "data": {
      "text/plain": [
       "[<Ordinal.NORTH: 'NORTH'>,\n",
       " <Ordinal.SOUTH: 'SOUTH'>,\n",
       " <Ordinal.EAST: 'EAST'>,\n",
       " <Ordinal.WEST: 'WEST'>]"
      ]
     },
     "execution_count": 30,
     "metadata": {},
     "output_type": "execute_result"
    }
   ],
   "source": [
    "class AutoName(Enum):\n",
    "    def _generate_next_value_(name, start, count, last_values):\n",
    "        return name  # definimos que la función auto() le de como valor a cada elemento su propio nombre\n",
    "\n",
    "\n",
    "class Ordinal(AutoName):\n",
    "    NORTH = auto()\n",
    "    SOUTH = auto()\n",
    "    EAST = auto()\n",
    "    WEST = auto()\n",
    "\n",
    "\n",
    "list(Ordinal)"
   ]
  },
  {
   "cell_type": "markdown",
   "metadata": {},
   "source": [
    "Por ejemplo, si quieres que los usuarios indiquen que no es \"Verde\", \"verde\", o \"Veerde\", sino Color.green: usad el objeto `enum.Enum`. Es a la vez explícito y específico (cosas a las que siempre aspirar en Python)."
   ]
  },
  {
   "cell_type": "code",
   "execution_count": 66,
   "metadata": {},
   "outputs": [],
   "source": [
    "from enum import Enum\n",
    "\n",
    "class EstadoBug(Enum):\n",
    "    \n",
    "    nuevo = 7\n",
    "    incompleto = 6\n",
    "    invalido = 5\n",
    "    no_arreglar = 4\n",
    "    en_progreso = 3\n",
    "    fix_subido = 2\n",
    "    fix_publicado = 1"
   ]
  },
  {
   "cell_type": "code",
   "execution_count": 64,
   "metadata": {},
   "outputs": [],
   "source": [
    "estado_actual = EstadoBug.no_arreglar\n",
    "estado_deseado = EstadoBug.fix_publicado"
   ]
  },
  {
   "cell_type": "code",
   "execution_count": 65,
   "metadata": {},
   "outputs": [
    {
     "data": {
      "text/plain": [
       "False"
      ]
     },
     "execution_count": 65,
     "metadata": {},
     "output_type": "execute_result"
    }
   ],
   "source": [
    "estado_actual == estado_deseado"
   ]
  },
  {
   "cell_type": "code",
   "execution_count": null,
   "metadata": {},
   "outputs": [],
   "source": [
    "if estado_actual != EstadoBug.fix_publicado:\n",
    "    enviar_email(direcion:\"asdasd@asdasd\")"
   ]
  },
  {
   "cell_type": "markdown",
   "metadata": {},
   "source": [
    "### El Zen the Python"
   ]
  },
  {
   "cell_type": "code",
   "execution_count": 31,
   "metadata": {},
   "outputs": [
    {
     "name": "stdout",
     "output_type": "stream",
     "text": [
      "The Zen of Python, by Tim Peters\n",
      "\n",
      "Beautiful is better than ugly.\n",
      "Explicit is better than implicit.\n",
      "Simple is better than complex.\n",
      "Complex is better than complicated.\n",
      "Flat is better than nested.\n",
      "Sparse is better than dense.\n",
      "Readability counts.\n",
      "Special cases aren't special enough to break the rules.\n",
      "Although practicality beats purity.\n",
      "Errors should never pass silently.\n",
      "Unless explicitly silenced.\n",
      "In the face of ambiguity, refuse the temptation to guess.\n",
      "There should be one-- and preferably only one --obvious way to do it.\n",
      "Although that way may not be obvious at first unless you're Dutch.\n",
      "Now is better than never.\n",
      "Although never is often better than *right* now.\n",
      "If the implementation is hard to explain, it's a bad idea.\n",
      "If the implementation is easy to explain, it may be a good idea.\n",
      "Namespaces are one honking great idea -- let's do more of those!\n"
     ]
    }
   ],
   "source": [
    "import this"
   ]
  },
  {
   "cell_type": "markdown",
   "metadata": {},
   "source": [
    "Más información:\n",
    "* https://docs.python.org/3.7/library/enum.html 👈🏼\n",
    "* https://stackoverflow.com/questions/37601644/python-whats-the-enum-type-good-for\n",
    "* https://pymotw.com/3/enum/"
   ]
  },
  {
   "cell_type": "markdown",
   "metadata": {},
   "source": [
    "### Counter"
   ]
  },
  {
   "cell_type": "markdown",
   "metadata": {},
   "source": [
    "**collections.Counter** nos poermite, de forma automática, contar el número de veces que aparece cada elemento en, por ejemplo, una lista."
   ]
  },
  {
   "cell_type": "markdown",
   "metadata": {},
   "source": [
    "*El ejemplo mostrado durante el curso se ha eliminado porque usaba un archivo local de mi ordenador.*"
   ]
  },
  {
   "cell_type": "code",
   "execution_count": 67,
   "metadata": {},
   "outputs": [],
   "source": [
    "from collections import Counter\n",
    "\n",
    "words = [\"hola\", \"hola\", \"adios\", \"curso\", \"python\", \"python\", \"python\"]\n",
    "\n",
    "\n",
    "contador = Counter(words)"
   ]
  },
  {
   "cell_type": "code",
   "execution_count": 68,
   "metadata": {},
   "outputs": [
    {
     "data": {
      "text/plain": [
       "Counter({'hola': 2, 'adios': 1, 'curso': 1, 'python': 3})"
      ]
     },
     "execution_count": 68,
     "metadata": {},
     "output_type": "execute_result"
    }
   ],
   "source": [
    "contador"
   ]
  },
  {
   "cell_type": "code",
   "execution_count": 69,
   "metadata": {},
   "outputs": [
    {
     "data": {
      "text/plain": [
       "[('python', 3), ('hola', 2), ('adios', 1), ('curso', 1)]"
      ]
     },
     "execution_count": 69,
     "metadata": {},
     "output_type": "execute_result"
    }
   ],
   "source": [
    "contador.most_common()"
   ]
  },
  {
   "cell_type": "code",
   "execution_count": null,
   "metadata": {},
   "outputs": [],
   "source": [
    "import collections\n",
    "\n",
    "\n",
    "contador = collections.Counter(words)\n",
    "\n",
    "contador.most_common(20) # mostrar las 20 más comunes y el número de veces que aparece cada una"
   ]
  },
  {
   "cell_type": "markdown",
   "metadata": {},
   "source": [
    "lambda functions, comprehensions, map"
   ]
  },
  {
   "cell_type": "markdown",
   "metadata": {},
   "source": [
    "### Ejercicios"
   ]
  },
  {
   "cell_type": "markdown",
   "metadata": {},
   "source": [
    "https://gist.githubusercontent.com/jsdario/6d6c69398cb0c73111e49f1218960f79/raw/8d4fc4548d437e2a7203a5aeeace5477f598827d/el_quijote.txt"
   ]
  },
  {
   "cell_type": "markdown",
   "metadata": {},
   "source": [
    "* Descargar el texto de la URL enviada por el chat usando la librería `requests`. **Si no podéis descargarlo**: se puede copiar todo el texto y pegarlo en un archivo `.txt`, el ejercicio entonces será abrir y leer ese archivo.\n",
    "* Convertir texto a MINÚSCULAS.\n",
    "* Crear una lista con todas las palabras que hay en el texto.\n",
    "* Usar `collections.Counter` con esta lista de palabras y ver cuales son las 10 palabras más comunes.\n",
    "\n",
    "**Extra**\n",
    "\n",
    "* Lo mismo que antes, pero sin tener en cuenta las palabras que están en esta lista: https://raw.githubusercontent.com/Alir3z4/stop-words/master/spanish.txt\n",
    "* ¿Cual es la palabra más larga del texto? (en longitud de caracteres)\n",
    "* Crear una lista con todas las palabras que empiezan por la letra -> **L** <- (minúscula)"
   ]
  },
  {
   "cell_type": "markdown",
   "metadata": {},
   "source": [
    "Cosas a tener en cuenta (o buscar como se hacen):\n",
    "* descar contenidos de una URL\n",
    "* convertir texto a minusculas\n",
    "* dividir una cadena de texto\n",
    "\n",
    "..."
   ]
  },
  {
   "cell_type": "code",
   "execution_count": 119,
   "metadata": {},
   "outputs": [],
   "source": [
    "import requests\n",
    "from string import punctuation\n",
    "import re\n",
    "\n",
    "url = \"https://gist.githubusercontent.com/jsdario/6d6c69398cb0c73111e49f1218960f79/raw/8d4fc4548d437e2a7203a5aeeace5477f598827d/el_quijote.txt\""
   ]
  },
  {
   "cell_type": "code",
   "execution_count": 75,
   "metadata": {},
   "outputs": [],
   "source": [
    "res = requests.get(url)"
   ]
  },
  {
   "cell_type": "code",
   "execution_count": 79,
   "metadata": {},
   "outputs": [],
   "source": [
    "texto = res.text"
   ]
  },
  {
   "cell_type": "code",
   "execution_count": 47,
   "metadata": {
    "jupyter": {
     "source_hidden": true
    }
   },
   "outputs": [],
   "source": [
    "# with open(\"quijote.txt\", \"r\") as f:\n",
    "#     texto = f.read()"
   ]
  },
  {
   "cell_type": "code",
   "execution_count": 102,
   "metadata": {},
   "outputs": [],
   "source": [
    "lista_palabras = texto.lower().replace(\".\", \" \").split()"
   ]
  },
  {
   "cell_type": "code",
   "execution_count": 103,
   "metadata": {},
   "outputs": [
    {
     "data": {
      "text/plain": [
       "['don',\n",
       " 'quijote',\n",
       " 'de',\n",
       " 'la',\n",
       " 'mancha',\n",
       " 'miguel',\n",
       " 'de',\n",
       " 'cervantes',\n",
       " 'saavedra',\n",
       " 'primera']"
      ]
     },
     "execution_count": 103,
     "metadata": {},
     "output_type": "execute_result"
    }
   ],
   "source": [
    "lista_palabras[:10]"
   ]
  },
  {
   "cell_type": "code",
   "execution_count": 104,
   "metadata": {},
   "outputs": [],
   "source": [
    "from collections import Counter"
   ]
  },
  {
   "cell_type": "code",
   "execution_count": 105,
   "metadata": {},
   "outputs": [],
   "source": [
    "c = Counter(lista_palabras)"
   ]
  },
  {
   "cell_type": "code",
   "execution_count": 106,
   "metadata": {},
   "outputs": [
    {
     "data": {
      "text/plain": [
       "[('que', 10384),\n",
       " ('de', 9027),\n",
       " ('y', 8450),\n",
       " ('la', 5009),\n",
       " ('a', 4806),\n",
       " ('en', 4030),\n",
       " ('el', 3842),\n",
       " ('no', 2914),\n",
       " ('se', 2382),\n",
       " ('los', 2147)]"
      ]
     },
     "execution_count": 106,
     "metadata": {},
     "output_type": "execute_result"
    }
   ],
   "source": [
    "c.most_common(10)"
   ]
  },
  {
   "cell_type": "code",
   "execution_count": 107,
   "metadata": {},
   "outputs": [],
   "source": [
    "url2 = \"https://raw.githubusercontent.com/Alir3z4/stop-words/master/spanish.txt\""
   ]
  },
  {
   "cell_type": "code",
   "execution_count": 108,
   "metadata": {},
   "outputs": [],
   "source": [
    "res2 = requests.get(url2)\n",
    "\n",
    "stop_text = res2.text"
   ]
  },
  {
   "cell_type": "code",
   "execution_count": 109,
   "metadata": {},
   "outputs": [],
   "source": [
    "stop = stop_text.split()"
   ]
  },
  {
   "cell_type": "code",
   "execution_count": 110,
   "metadata": {},
   "outputs": [],
   "source": [
    "p_filt = []\n",
    "for palabra in lista_palabras:\n",
    "    if palabra not in stop:\n",
    "        p_filt.append(palabra)"
   ]
  },
  {
   "cell_type": "code",
   "execution_count": 111,
   "metadata": {},
   "outputs": [],
   "source": [
    "filtradas = [palabra for palabra in lista_palabras if palabra not in stop]"
   ]
  },
  {
   "cell_type": "code",
   "execution_count": 112,
   "metadata": {},
   "outputs": [
    {
     "data": {
      "text/plain": [
       "True"
      ]
     },
     "execution_count": 112,
     "metadata": {},
     "output_type": "execute_result"
    }
   ],
   "source": [
    "filtradas == p_filt"
   ]
  },
  {
   "cell_type": "code",
   "execution_count": 113,
   "metadata": {},
   "outputs": [],
   "source": [
    "c2 = Counter(filtradas)"
   ]
  },
  {
   "cell_type": "code",
   "execution_count": 114,
   "metadata": {},
   "outputs": [
    {
     "data": {
      "text/plain": [
       "[('don', 1065),\n",
       " ('si', 943),\n",
       " ('más', 892),\n",
       " ('tan', 753),\n",
       " ('había', 660),\n",
       " ('él', 643),\n",
       " ('bien', 483),\n",
       " ('ser', 471),\n",
       " ('quijote', 386),\n",
       " ('así', 366)]"
      ]
     },
     "execution_count": 114,
     "metadata": {},
     "output_type": "execute_result"
    }
   ],
   "source": [
    "c2.most_common(10)"
   ]
  },
  {
   "cell_type": "code",
   "execution_count": 115,
   "metadata": {},
   "outputs": [
    {
     "data": {
      "text/plain": [
       "'extraordinariamente,'"
      ]
     },
     "execution_count": 115,
     "metadata": {},
     "output_type": "execute_result"
    }
   ],
   "source": [
    "max(filtradas, key=len)"
   ]
  },
  {
   "cell_type": "code",
   "execution_count": 118,
   "metadata": {},
   "outputs": [
    {
     "data": {
      "text/plain": [
       "' asda,sdasda   '"
      ]
     },
     "execution_count": 118,
     "metadata": {},
     "output_type": "execute_result"
    }
   ],
   "source": [
    "\", asda,sdasda   \".strip(\",\")"
   ]
  },
  {
   "cell_type": "code",
   "execution_count": 120,
   "metadata": {},
   "outputs": [],
   "source": [
    "con_l = [palabra for palabra in filtradas if palabra.startswith(\"l\")]"
   ]
  },
  {
   "cell_type": "code",
   "execution_count": 121,
   "metadata": {
    "collapsed": true,
    "jupyter": {
     "outputs_hidden": true
    }
   },
   "outputs": [
    {
     "data": {
      "text/plain": [
       "['lugar',\n",
       " 'lanza',\n",
       " 'lentejas',\n",
       " 'llegaba',\n",
       " 'llama',\n",
       " 'leer',\n",
       " 'libros',\n",
       " 'llegó',\n",
       " 'libros',\n",
       " 'leer;',\n",
       " 'llevó',\n",
       " 'llegaba',\n",
       " 'leer',\n",
       " 'leía:',\n",
       " 'lleno',\n",
       " 'libro',\n",
       " 'letra',\n",
       " 'lugar',\n",
       " 'llegaba',\n",
       " 'llorón',\n",
       " 'lectura,',\n",
       " 'leyendo',\n",
       " 'leer,',\n",
       " 'llenósele',\n",
       " 'leía',\n",
       " 'libros,',\n",
       " 'leía,',\n",
       " 'loco',\n",
       " 'leído,',\n",
       " 'llevado',\n",
       " 'limpiar',\n",
       " 'llenas',\n",
       " 'luengos',\n",
       " 'limpiólas',\n",
       " 'luego',\n",
       " 'llamar',\n",
       " 'llamar',\n",
       " 'llamar',\n",
       " 'llamarse',\n",
       " 'llamó',\n",
       " 'llamarse',\n",
       " 'linaje',\n",
       " 'limpias,',\n",
       " 'lugar',\n",
       " 'labradora',\n",
       " 'llamábase',\n",
       " 'lorenzo,',\n",
       " 'llamarla',\n",
       " 'lanza,',\n",
       " 'ley',\n",
       " 'llevar',\n",
       " 'locura',\n",
       " 'leído',\n",
       " 'libros',\n",
       " 'limpiarlas',\n",
       " 'lugar,',\n",
       " 'llevar',\n",
       " 'luz',\n",
       " 'llegue',\n",
       " 'lenguas',\n",
       " 'luz',\n",
       " 'luego',\n",
       " 'libros',\n",
       " 'lenguaje;',\n",
       " 'luego,',\n",
       " 'lápice;',\n",
       " 'lejos',\n",
       " 'llegó',\n",
       " 'llaman',\n",
       " 'leído,',\n",
       " 'luego',\n",
       " 'luciente',\n",
       " 'levadizo',\n",
       " 'llegando',\n",
       " 'llegaba',\n",
       " 'llegar',\n",
       " 'llegó',\n",
       " 'llaman),',\n",
       " 'llegó',\n",
       " 'lanza',\n",
       " 'llenas',\n",
       " 'llamar',\n",
       " 'leve',\n",
       " 'lenguaje',\n",
       " 'lanza,',\n",
       " 'lecho',\n",
       " 'llamado',\n",
       " 'ladrón',\n",
       " 'luego',\n",
       " 'llevadas',\n",
       " 'lanzarote,',\n",
       " 'llaman',\n",
       " 'luego,',\n",
       " 'llevar',\n",
       " 'llegó',\n",
       " 'llegó',\n",
       " 'legítimamente',\n",
       " 'limitada',\n",
       " 'llamó',\n",
       " 'levantaré',\n",
       " 'levantase;',\n",
       " 'liberalidad',\n",
       " 'ligereza',\n",
       " 'leído',\n",
       " 'limpias,',\n",
       " 'libros',\n",
       " 'llenos',\n",
       " 'llevaban',\n",
       " 'llevaban',\n",
       " 'llena',\n",
       " 'luego',\n",
       " 'luego',\n",
       " 'llagas',\n",
       " 'llevaban',\n",
       " 'llevar',\n",
       " 'luego',\n",
       " 'lado',\n",
       " 'lanza,',\n",
       " 'locura',\n",
       " 'locura,',\n",
       " 'lejos,',\n",
       " 'lanza',\n",
       " 'luna,',\n",
       " 'llegar,',\n",
       " 'llegas',\n",
       " 'lanza',\n",
       " 'llegó',\n",
       " 'llegando',\n",
       " 'lanza,',\n",
       " 'lejos',\n",
       " 'llover',\n",
       " 'loco,',\n",
       " 'loco',\n",
       " 'libraría,',\n",
       " 'llamándolos',\n",
       " 'llegad,',\n",
       " 'lleváis',\n",
       " 'luego,',\n",
       " 'llegándose',\n",
       " 'luego',\n",
       " 'libro',\n",
       " 'leyendo',\n",
       " 'leyenda',\n",
       " 'lides',\n",
       " 'llamaba,',\n",
       " 'llamaba',\n",
       " 'llamase',\n",
       " 'llamaba',\n",
       " 'llamase',\n",
       " 'luego',\n",
       " 'llevar',\n",
       " 'labrador',\n",
       " 'labrador',\n",
       " 'lengua',\n",
       " 'listos',\n",
       " 'lanza,',\n",
       " 'lanza',\n",
       " 'labrador,',\n",
       " 'llena',\n",
       " 'lanza',\n",
       " 'lanza:',\n",
       " 'luego',\n",
       " 'luego',\n",
       " 'labrador',\n",
       " 'labrador',\n",
       " 'ley',\n",
       " 'libre',\n",
       " 'labrador,',\n",
       " 'lagartija',\n",
       " 'labrador',\n",
       " 'labrador;',\n",
       " 'llamad,',\n",
       " 'labrador,',\n",
       " 'llamar',\n",
       " 'látigo',\n",
       " 'llegó',\n",
       " 'luego',\n",
       " 'leído',\n",
       " 'libros,',\n",
       " 'lanza,',\n",
       " 'llegó',\n",
       " 'llegasen',\n",
       " 'llegaron',\n",
       " 'levantó',\n",
       " 'luego',\n",
       " 'locura',\n",
       " 'lanza',\n",
       " 'levantar,',\n",
       " 'lanza,',\n",
       " 'levantarse',\n",
       " 'llegándose',\n",
       " 'lanza,',\n",
       " 'lanza,',\n",
       " 'lovía,',\n",
       " 'llevando',\n",
       " 'levantarse;',\n",
       " 'levantarse,',\n",
       " 'libros,',\n",
       " 'llegó',\n",
       " 'labrador',\n",
       " 'lugar,',\n",
       " 'llevar',\n",
       " 'llegó',\n",
       " 'labrador',\n",
       " 'limpió',\n",
       " 'lleno',\n",
       " 'limpiado,',\n",
       " 'llamar',\n",
       " 'levantarle',\n",
       " 'lanza,',\n",
       " 'liólas',\n",
       " 'labrador',\n",
       " 'llevó',\n",
       " 'labrador',\n",
       " 'leído',\n",
       " 'labrador',\n",
       " 'loco,',\n",
       " 'llegar',\n",
       " 'larga',\n",
       " 'linda',\n",
       " 'labrador:',\n",
       " 'llegaron',\n",
       " 'lugar',\n",
       " 'labrador',\n",
       " 'llegada,',\n",
       " 'lugar,',\n",
       " 'licenciado,',\n",
       " 'llamaba',\n",
       " 'lanza,',\n",
       " 'libros',\n",
       " 'leer',\n",
       " 'libros,',\n",
       " 'leyendo',\n",
       " 'libros',\n",
       " 'libro',\n",
       " 'luego',\n",
       " 'llegar',\n",
       " 'llegado,',\n",
       " 'libros',\n",
       " 'leyere',\n",
       " 'labrador',\n",
       " 'labrador',\n",
       " 'llévenme',\n",
       " 'lecho,',\n",
       " 'llámese',\n",
       " 'libros',\n",
       " 'lleváronle',\n",
       " 'luego',\n",
       " 'llegue',\n",
       " 'larga',\n",
       " 'labrador,',\n",
       " 'licenciado',\n",
       " 'llevar',\n",
       " 'librería',\n",
       " 'llaves',\n",
       " 'libros',\n",
       " 'libros',\n",
       " 'luego',\n",
       " 'licenciado;',\n",
       " 'libros,',\n",
       " 'licenciado',\n",
       " 'libros',\n",
       " 'llevarlos',\n",
       " 'leer',\n",
       " 'libro',\n",
       " 'libros',\n",
       " 'legítimo',\n",
       " 'lado,',\n",
       " 'linaje',\n",
       " 'laura',\n",
       " 'libro,',\n",
       " 'libros',\n",
       " 'lugar',\n",
       " 'libro',\n",
       " 'libro,',\n",
       " 'libro',\n",
       " 'libro,',\n",
       " 'ladrones',\n",
       " 'ludovico',\n",
       " 'lengua',\n",
       " 'libros',\n",
       " 'lengua,',\n",
       " 'llegarán',\n",
       " 'libro',\n",
       " 'llamado',\n",
       " 'llegando',\n",
       " 'libro,',\n",
       " 'llamaba',\n",
       " 'licenciado,',\n",
       " 'luego',\n",
       " 'libro,',\n",
       " 'libres',\n",
       " 'leer',\n",
       " 'leer',\n",
       " 'libros',\n",
       " 'libro',\n",
       " 'libros',\n",
       " 'llevadle',\n",
       " 'leedle,',\n",
       " 'libros',\n",
       " 'libros',\n",
       " 'leyendo',\n",
       " 'libros',\n",
       " 'llamada',\n",
       " 'libro',\n",
       " 'libros',\n",
       " 'lofraso,',\n",
       " 'libro',\n",
       " 'luz',\n",
       " 'leído',\n",
       " 'leído',\n",
       " 'libro',\n",
       " 'limpie',\n",
       " 'levantadas',\n",
       " 'lópez',\n",
       " 'libro,',\n",
       " 'largo',\n",
       " 'libro',\n",
       " 'libro',\n",
       " 'libros,',\n",
       " 'lengua',\n",
       " 'libros,',\n",
       " 'llamaba',\n",
       " 'lágrimas',\n",
       " 'lloráralas',\n",
       " 'libro',\n",
       " 'llevan',\n",
       " 'libros',\n",
       " 'león',\n",
       " 'luis',\n",
       " 'llegaron',\n",
       " 'levantado',\n",
       " 'lecho;',\n",
       " 'llamamos',\n",
       " 'llevar',\n",
       " 'llamaría',\n",
       " 'levantándome',\n",
       " 'lecho',\n",
       " 'locura',\n",
       " 'libros',\n",
       " 'libros,',\n",
       " 'levantase',\n",
       " 'llevado,',\n",
       " 'levantó',\n",
       " 'libros;',\n",
       " 'llegaba',\n",
       " 'libros',\n",
       " 'libros',\n",
       " 'llevó',\n",
       " 'llena',\n",
       " 'libros',\n",
       " 'libros',\n",
       " 'llamaba',\n",
       " 'llamaba',\n",
       " 'letras,',\n",
       " 'lana',\n",
       " 'labrador',\n",
       " 'llamaba',\n",
       " 'labrador)',\n",
       " 'luego',\n",
       " 'llevase',\n",
       " 'llevaría,',\n",
       " 'llevar',\n",
       " 'llevase,',\n",
       " 'lugar',\n",
       " 'lamañana',\n",
       " 'llevar',\n",
       " 'lloviese',\n",
       " 'llevar',\n",
       " 'largos,',\n",
       " 'leguas',\n",
       " 'levantóse',\n",
       " 'lanza',\n",
       " 'lanzada',\n",
       " 'lanza',\n",
       " 'llevándose',\n",
       " 'llegó,',\n",
       " 'llevase',\n",
       " 'libros,',\n",
       " 'levantar,',\n",
       " 'lápice,',\n",
       " 'lugar',\n",
       " 'lanza',\n",
       " 'leído',\n",
       " 'llamado',\n",
       " 'llamaron',\n",
       " 'lado,',\n",
       " 'leído',\n",
       " 'licencia',\n",
       " 'lanza,',\n",
       " 'leído',\n",
       " 'libros,',\n",
       " 'lleno,',\n",
       " 'llevó',\n",
       " 'llamara,',\n",
       " 'levantarse',\n",
       " 'llevaban',\n",
       " 'lápice,',\n",
       " 'llaman',\n",
       " 'lícito',\n",
       " 'leyes',\n",
       " 'leyes,',\n",
       " 'llevan',\n",
       " 'llegando',\n",
       " 'luego',\n",
       " 'lleváis',\n",
       " 'lanza',\n",
       " 'ligero',\n",
       " 'ligeramente',\n",
       " 'llegaron',\n",
       " 'legítimamente,',\n",
       " 'llevaran',\n",
       " 'libertador,',\n",
       " 'llamo',\n",
       " 'libertad',\n",
       " 'luego',\n",
       " 'lanza',\n",
       " 'lengua',\n",
       " 'lanza',\n",
       " 'llevas;',\n",
       " 'lanza',\n",
       " 'luego',\n",
       " 'lejos',\n",
       " 'llevando',\n",
       " 'levantada',\n",
       " 'librase',\n",
       " 'leyes',\n",
       " 'lleno',\n",
       " 'leido',\n",
       " 'libros',\n",
       " 'luz',\n",
       " 'leyere',\n",
       " 'llegó',\n",
       " 'leer,',\n",
       " 'llevado',\n",
       " 'leer,',\n",
       " 'leyese;',\n",
       " 'lengua',\n",
       " 'libro',\n",
       " 'leyendo',\n",
       " 'libro',\n",
       " 'luego',\n",
       " 'leyese',\n",
       " 'llegó',\n",
       " 'libro;',\n",
       " 'llevar',\n",
       " 'luego',\n",
       " 'lengua',\n",
       " 'levantadas',\n",
       " 'largo',\n",
       " 'largas,',\n",
       " 'llama',\n",
       " 'levantadas',\n",
       " 'lado,',\n",
       " 'llevándole',\n",
       " 'lleno',\n",
       " 'luego',\n",
       " 'ligereza',\n",
       " 'llegó',\n",
       " 'lugar',\n",
       " 'levantado',\n",
       " 'llegó',\n",
       " 'loriga,',\n",
       " 'llegase',\n",
       " 'llegando',\n",
       " 'leído',\n",
       " 'leído',\n",
       " 'leído',\n",
       " 'leer',\n",
       " 'luego',\n",
       " 'licor,',\n",
       " 'llegó',\n",
       " 'largamente',\n",
       " 'letra',\n",
       " 'loco',\n",
       " 'llegue',\n",
       " 'luego',\n",
       " 'luego',\n",
       " 'leído',\n",
       " 'leer',\n",
       " 'luego',\n",
       " 'llegar',\n",
       " 'llegar',\n",
       " 'lado,',\n",
       " 'limpiarme',\n",
       " 'libertad',\n",
       " 'lleno,',\n",
       " 'liberalmente',\n",
       " 'livianas',\n",
       " 'lampazos',\n",
       " 'llaneza',\n",
       " 'ley',\n",
       " 'lascivo',\n",
       " 'laberinto',\n",
       " 'ley',\n",
       " 'larga',\n",
       " 'leer',\n",
       " 'llegó',\n",
       " 'llegó',\n",
       " 'lenguas',\n",
       " 'llamado',\n",
       " 'lunes',\n",
       " 'lazadas',\n",
       " 'luego',\n",
       " 'llegó',\n",
       " 'lugar,',\n",
       " 'llamado',\n",
       " 'lugar',\n",
       " 'lugar',\n",
       " 'lugar',\n",
       " 'lugar',\n",
       " 'leído',\n",
       " 'luna,',\n",
       " 'luna',\n",
       " 'llama,',\n",
       " 'luminares',\n",
       " 'llama',\n",
       " 'llama,',\n",
       " 'largos',\n",
       " 'llamado',\n",
       " 'lugar',\n",
       " 'labrador',\n",
       " 'llamaba',\n",
       " 'luna,',\n",
       " 'lugar',\n",
       " 'llegó',\n",
       " 'leguas',\n",
       " 'luego,',\n",
       " 'lugares',\n",
       " 'llevar',\n",
       " 'lugar,',\n",
       " 'labradores',\n",
       " 'libertad',\n",
       " 'llegando',\n",
       " 'llamarla',\n",
       " 'lamentos',\n",
       " 'lejos',\n",
       " 'lisa',\n",
       " 'lleva',\n",
       " 'llorosos',\n",
       " 'libre',\n",
       " 'lugar',\n",
       " 'legua',\n",
       " 'levantaron',\n",
       " 'levantó',\n",
       " 'luego',\n",
       " 'legua,',\n",
       " 'llegándose',\n",
       " 'lugar',\n",
       " 'llamada',\n",
       " 'llamaba',\n",
       " 'llama',\n",
       " 'loco,',\n",
       " 'locura',\n",
       " 'leído,',\n",
       " 'llamamos',\n",
       " 'lanzarote',\n",
       " 'lago',\n",
       " 'lanzarote',\n",
       " 'locura',\n",
       " 'llegar',\n",
       " 'lugar',\n",
       " 'leído',\n",
       " 'luego',\n",
       " 'lalanza',\n",
       " 'lugar',\n",
       " 'legítimo',\n",
       " 'ladrón',\n",
       " 'leído',\n",
       " 'luego',\n",
       " 'lugar',\n",
       " 'labios',\n",
       " 'linaje,',\n",
       " 'lunas,',\n",
       " 'linaje,',\n",
       " 'laredo,',\n",
       " 'llegado',\n",
       " 'llegado,',\n",
       " 'linda',\n",
       " 'llegado',\n",
       " 'lana',\n",
       " 'lugar',\n",
       " 'llegar,',\n",
       " 'lado',\n",
       " 'luego,',\n",
       " 'libros',\n",
       " 'lugar',\n",
       " 'linaje',\n",
       " 'lamentable',\n",
       " 'lugar',\n",
       " 'lástima',\n",
       " 'lastimado',\n",
       " 'lástima',\n",
       " 'llevar',\n",
       " 'luego',\n",
       " 'leedle',\n",
       " 'lugar',\n",
       " 'leyendo',\n",
       " 'lengua',\n",
       " 'lengua,',\n",
       " 'llevado',\n",
       " 'león,',\n",
       " 'lobo',\n",
       " 'llanto',\n",
       " 'lengua',\n",
       " 'lumbre,',\n",
       " 'llano:',\n",
       " 'llevados',\n",
       " 'larga',\n",
       " 'limpia',\n",
       " 'libre',\n",
       " 'lazo,',\n",
       " 'lauro',\n",
       " 'llaga,',\n",
       " 'llegue',\n",
       " 'lleven',\n",
       " 'leyó',\n",
       " 'leer',\n",
       " 'loos',\n",
       " 'llamaron',\n",
       " 'libre,',\n",
       " 'libre',\n",
       " 'lejos',\n",
       " 'lugar',\n",
       " 'llamare,',\n",
       " 'llame',\n",
       " 'llamo,',\n",
       " 'llame',\n",
       " 'llama',\n",
       " 'llama',\n",
       " 'limpieza',\n",
       " 'libre',\n",
       " 'lugar',\n",
       " 'lágrimas',\n",
       " 'losa',\n",
       " 'luego',\n",
       " 'lugar',\n",
       " 'ladrones',\n",
       " 'llenas',\n",
       " 'locuras',\n",
       " 'lleno',\n",
       " 'lugares',\n",
       " 'licencia',\n",
       " 'llegaban',\n",
       " 'levantado:',\n",
       " 'lastimada',\n",
       " 'leyes',\n",
       " 'llenándonos',\n",
       " 'levantar',\n",
       " 'limitados',\n",
       " 'lugar,',\n",
       " 'llaman',\n",
       " 'llegó',\n",
       " 'luego',\n",
       " 'llana',\n",
       " 'lisas',\n",
       " 'lleno',\n",
       " 'lana',\n",
       " 'luego',\n",
       " 'llamaba',\n",
       " 'lomos',\n",
       " 'llegar',\n",
       " 'llama',\n",
       " 'luengos',\n",
       " 'lecho',\n",
       " 'llamar',\n",
       " 'leyes,',\n",
       " 'libertad',\n",
       " 'lenguaje,',\n",
       " 'lecho',\n",
       " 'luego',\n",
       " 'lana;',\n",
       " 'lechos',\n",
       " 'lucios,',\n",
       " 'llegan',\n",
       " 'labios,',\n",
       " 'libro',\n",
       " 'liebre',\n",
       " 'luz',\n",
       " 'lámpara,',\n",
       " 'libros,',\n",
       " 'locuras',\n",
       " 'llegado',\n",
       " 'llegó',\n",
       " 'llegó',\n",
       " 'lucidísimo',\n",
       " 'leído',\n",
       " 'libros',\n",
       " 'lecho,',\n",
       " 'llegando',\n",
       " 'lecho',\n",
       " 'lecho,',\n",
       " 'luego',\n",
       " 'llamado',\n",
       " 'levantó,',\n",
       " 'lumbre',\n",
       " 'llaman',\n",
       " 'lata',\n",
       " 'lecho,',\n",
       " 'luz',\n",
       " 'lámpara',\n",
       " 'llamado',\n",
       " 'llamar',\n",
       " 'lleno',\n",
       " 'llama',\n",
       " 'linaje?',\n",
       " 'llegó',\n",
       " 'llegóse',\n",
       " 'luego,',\n",
       " 'levántate,',\n",
       " 'llama',\n",
       " 'levantóse',\n",
       " 'llamando',\n",
       " 'llevó',\n",
       " 'levantarle',\n",
       " 'luego',\n",
       " 'lata,',\n",
       " 'luego',\n",
       " 'luego',\n",
       " 'llegada',\n",
       " 'ladrón',\n",
       " 'licor',\n",
       " 'luego',\n",
       " 'llevaba',\n",
       " 'luego',\n",
       " 'llegánose',\n",
       " 'lanzón',\n",
       " 'lanza',\n",
       " 'llamó',\n",
       " 'leído',\n",
       " 'lanzón,',\n",
       " 'ley',\n",
       " 'llegaron',\n",
       " 'límite',\n",
       " 'levantarla',\n",
       " 'llegaron',\n",
       " 'llegó',\n",
       " 'llevándole',\n",
       " 'licor',\n",
       " 'lejos',\n",
       " 'llegó',\n",
       " 'leyes',\n",
       " 'llamaba',\n",
       " 'llamaba',\n",
       " 'limpio',\n",
       " 'lugar,',\n",
       " 'llevando',\n",
       " 'llega',\n",
       " 'llamaba',\n",
       " 'libro',\n",
       " 'levanta,',\n",
       " 'levanta',\n",
       " 'llanura,',\n",
       " 'llena',\n",
       " 'libros',\n",
       " 'levantaban',\n",
       " 'llegaron',\n",
       " 'ley',\n",
       " 'loma,',\n",
       " 'levantaban',\n",
       " 'levantada',\n",
       " 'león',\n",
       " 'laurcalco,',\n",
       " 'leonado',\n",
       " 'letra',\n",
       " 'lomos',\n",
       " 'llamado',\n",
       " 'lijera',\n",
       " 'letra',\n",
       " 'llevado',\n",
       " 'locura,',\n",
       " 'labios,',\n",
       " 'licor',\n",
       " 'levantado',\n",
       " 'leído',\n",
       " 'libros',\n",
       " 'llegaban',\n",
       " 'lanza',\n",
       " 'locura',\n",
       " 'llegó',\n",
       " 'lado,',\n",
       " 'licor,',\n",
       " 'licor',\n",
       " 'llegó',\n",
       " 'lleno,',\n",
       " 'llevándole',\n",
       " 'llegáronse',\n",
       " 'locuras',\n",
       " 'llegóse',\n",
       " 'ladrón',\n",
       " 'llégate',\n",
       " 'llegóse',\n",
       " 'llegó',\n",
       " 'limpiarse',\n",
       " 'levántose',\n",
       " 'leal',\n",
       " 'laguna;',\n",
       " 'llueve',\n",
       " 'lanza',\n",
       " 'lanza',\n",
       " 'lado',\n",
       " 'llama',\n",
       " 'leguas',\n",
       " 'lumbres,',\n",
       " 'lumbres',\n",
       " 'llegaban,',\n",
       " 'lado',\n",
       " 'lumbres',\n",
       " 'litera',\n",
       " 'luto,',\n",
       " 'libros;',\n",
       " 'litera',\n",
       " 'lanzón,',\n",
       " 'lleváis,',\n",
       " 'lejos',\n",
       " 'lanzón',\n",
       " 'ligero',\n",
       " 'lobas,',\n",
       " 'litera',\n",
       " 'llevaban',\n",
       " 'luz',\n",
       " 'llegándose',\n",
       " 'lanzón',\n",
       " 'licenciado',\n",
       " 'licenciado;',\n",
       " 'licenciado,',\n",
       " 'llámome',\n",
       " 'lópez;',\n",
       " 'litera,',\n",
       " 'llevábamos',\n",
       " 'llamado',\n",
       " 'lópez,',\n",
       " 'luto,',\n",
       " 'luego',\n",
       " 'luego',\n",
       " 'llama',\n",
       " 'llamarle',\n",
       " 'luz',\n",
       " 'llevaba',\n",
       " 'llamaba',\n",
       " 'lengua',\n",
       " 'llamase',\n",
       " 'llamarme',\n",
       " 'lugar,',\n",
       " 'llamarán',\n",
       " 'llamarse',\n",
       " 'latín,',\n",
       " 'lanzón;',\n",
       " 'litera',\n",
       " 'llegar',\n",
       " 'llegó',\n",
       " 'levantados',\n",
       " 'llegaba,',\n",
       " 'lugar',\n",
       " 'lanzón',\n",
       " 'llamarse;',\n",
       " 'leal,',\n",
       " 'luna,',\n",
       " 'lastima',\n",
       " 'llamarse',\n",
       " 'llorar',\n",
       " 'lugar,',\n",
       " 'librarle',\n",
       " 'libre',\n",
       " 'llevarla',\n",
       " 'lugar',\n",
       " 'línea',\n",
       " 'línea,',\n",
       " 'lágrimas',\n",
       " 'lágrimas,',\n",
       " 'lágrimas',\n",
       " 'ligadura,',\n",
       " 'llore',\n",
       " 'llorar,',\n",
       " 'llegue',\n",
       " 'llamas',\n",
       " 'llegándose',\n",
       " 'lugar',\n",
       " 'llamaba',\n",
       " 'lope',\n",
       " 'lope',\n",
       " 'llamaba',\n",
       " 'llamda',\n",
       " 'lenguas,',\n",
       " 'llegaban',\n",
       " 'lope,',\n",
       " 'luego',\n",
       " 'lejos',\n",
       " 'llevaba,',\n",
       " 'llevase',\n",
       " 'llevase,',\n",
       " 'llegó',\n",
       " 'llegó',\n",
       " 'lágrimas,',\n",
       " 'llevaba',\n",
       " 'lleno',\n",
       " 'lenitivas,',\n",
       " 'lazada',\n",
       " 'luego',\n",
       " 'libre',\n",
       " 'línea',\n",
       " 'llegasen',\n",
       " 'llegado,',\n",
       " 'libre,',\n",
       " 'largo,',\n",
       " 'llevar',\n",
       " 'lugar,',\n",
       " 'llorar',\n",
       " 'lastimeras',\n",
       " 'lágrimas',\n",
       " 'llevando,',\n",
       " 'llegándole',\n",
       " 'lado,',\n",
       " 'lector!',\n",
       " 'llena',\n",
       " 'lanzón',\n",
       " 'libre',\n",
       " 'lanzón,',\n",
       " 'ladearme;',\n",
       " 'llorar;',\n",
       " 'luego',\n",
       " 'libros',\n",
       " 'leído,',\n",
       " 'llegarán',\n",
       " 'llegaren,',\n",
       " 'llegase',\n",
       " 'labios',\n",
       " 'llover',\n",
       " 'llevado',\n",
       " 'lugares,',\n",
       " 'llover,',\n",
       " 'limpia,',\n",
       " 'legua',\n",
       " 'llegaba',\n",
       " 'lanzón',\n",
       " 'llevando',\n",
       " 'llegaba,',\n",
       " 'lanza,',\n",
       " 'levantó',\n",
       " 'ligero',\n",
       " 'llano,',\n",
       " 'luego',\n",
       " 'llamar',\n",
       " 'lugar',\n",
       " 'llegue,',\n",
       " 'llevare',\n",
       " 'lleva',\n",
       " 'lícito',\n",
       " 'lícita',\n",
       " 'llevarle',\n",
       " 'leyes',\n",
       " 'luego,',\n",
       " 'licencia,',\n",
       " 'lindezas,',\n",
       " 'llevaba',\n",
       " 'licencia',\n",
       " 'lengua',\n",
       " 'lograse',\n",
       " 'largo',\n",
       " 'límites',\n",
       " 'llegue',\n",
       " 'largo',\n",
       " 'luego,',\n",
       " 'llegará',\n",
       " 'luego',\n",
       " 'llevará',\n",
       " 'luego',\n",
       " 'llevarán,',\n",
       " 'levantarse',\n",
       " 'luego',\n",
       " 'licencia',\n",
       " 'lágrimas',\n",
       " 'lecho,',\n",
       " 'lágrimas',\n",
       " 'linaje',\n",
       " 'luego',\n",
       " 'letra,',\n",
       " 'llamándose',\n",
       " 'linaje',\n",
       " 'linajes',\n",
       " 'llegar',\n",
       " 'llevalla',\n",
       " 'luego',\n",
       " 'ligítima',\n",
       " 'llamar',\n",
       " 'litado!',\n",
       " 'litado',\n",
       " 'leguas',\n",
       " 'llevan',\n",
       " 'llevar',\n",
       " 'llevar',\n",
       " 'lleve',\n",
       " 'libertad',\n",
       " 'llevaban',\n",
       " 'llevaba',\n",
       " 'llevan,',\n",
       " 'llegó,',\n",
       " 'llevan',\n",
       " 'llevamos',\n",
       " 'leellas;',\n",
       " ...]"
      ]
     },
     "execution_count": 121,
     "metadata": {},
     "output_type": "execute_result"
    }
   ],
   "source": [
    "con_l"
   ]
  },
  {
   "cell_type": "markdown",
   "metadata": {},
   "source": [
    "![](https://treyhunner.com/images/list-comprehension-condition.gif)"
   ]
  },
  {
   "cell_type": "code",
   "execution_count": 122,
   "metadata": {},
   "outputs": [],
   "source": [
    "l1 = [1,2,3]"
   ]
  },
  {
   "cell_type": "code",
   "execution_count": 124,
   "metadata": {},
   "outputs": [],
   "source": [
    "def f(n):\n",
    "    return n * 2"
   ]
  },
  {
   "cell_type": "code",
   "execution_count": 126,
   "metadata": {},
   "outputs": [
    {
     "name": "stdout",
     "output_type": "stream",
     "text": [
      "2\n",
      "4\n",
      "6\n"
     ]
    }
   ],
   "source": [
    "for num in l1:\n",
    "    resultado = f(num)\n",
    "    print(resultado)"
   ]
  },
  {
   "cell_type": "code",
   "execution_count": 128,
   "metadata": {},
   "outputs": [
    {
     "data": {
      "text/plain": [
       "[2, 4, 6]"
      ]
     },
     "execution_count": 128,
     "metadata": {},
     "output_type": "execute_result"
    }
   ],
   "source": [
    "list(map(f, l1))"
   ]
  },
  {
   "cell_type": "code",
   "execution_count": 130,
   "metadata": {},
   "outputs": [
    {
     "data": {
      "text/plain": [
       "[2, 4, 6]"
      ]
     },
     "execution_count": 130,
     "metadata": {},
     "output_type": "execute_result"
    }
   ],
   "source": [
    "list(map(lambda n: n*2 , l1))"
   ]
  },
  {
   "cell_type": "code",
   "execution_count": 136,
   "metadata": {},
   "outputs": [],
   "source": [
    "nombres_mayus = list(map(lambda s: s.upper() , [\"ricardo\", \"david\", \"fernando\"]))"
   ]
  },
  {
   "cell_type": "code",
   "execution_count": 137,
   "metadata": {},
   "outputs": [
    {
     "data": {
      "text/plain": [
       "['RICARDO', 'DAVID', 'FERNANDO']"
      ]
     },
     "execution_count": 137,
     "metadata": {},
     "output_type": "execute_result"
    }
   ],
   "source": [
    "nombres_mayus"
   ]
  },
  {
   "cell_type": "code",
   "execution_count": 133,
   "metadata": {},
   "outputs": [],
   "source": [
    "def f(cadena):\n",
    "    return cadena.upper()\n",
    "\n",
    "nombres_mayus = []\n",
    "for nombre in [\"ricardo\", \"david\", \"fernando\"]:\n",
    "    procesado = f(nombre)\n",
    "    nombres_mayus.append(procesado)"
   ]
  },
  {
   "cell_type": "code",
   "execution_count": 134,
   "metadata": {},
   "outputs": [
    {
     "data": {
      "text/plain": [
       "['RICARDO', 'DAVID', 'FERNANDO']"
      ]
     },
     "execution_count": 134,
     "metadata": {},
     "output_type": "execute_result"
    }
   ],
   "source": [
    "nombres_mayus"
   ]
  },
  {
   "cell_type": "code",
   "execution_count": 142,
   "metadata": {},
   "outputs": [
    {
     "data": {
      "text/plain": [
       "['david', 'fernando', 'ricardo']"
      ]
     },
     "execution_count": 142,
     "metadata": {},
     "output_type": "execute_result"
    }
   ],
   "source": [
    "sorted([\"ricardo\", \"david\", \"fernando\"])"
   ]
  },
  {
   "cell_type": "code",
   "execution_count": 143,
   "metadata": {},
   "outputs": [],
   "source": [
    "f = lambda x: x*2"
   ]
  },
  {
   "cell_type": "code",
   "execution_count": 144,
   "metadata": {},
   "outputs": [
    {
     "data": {
      "text/plain": [
       "4"
      ]
     },
     "execution_count": 144,
     "metadata": {},
     "output_type": "execute_result"
    }
   ],
   "source": [
    "f(2)"
   ]
  },
  {
   "cell_type": "markdown",
   "metadata": {},
   "source": [
    "# Título: cheatsheet de markdown\n",
    "\n",
    "## Título 2\n",
    "\n",
    "**negrita**\n",
    "\n",
    "*cursiva*\n",
    "\n",
    "`código`\n",
    "\n",
    "* lista\n",
    "* lista"
   ]
  },
  {
   "cell_type": "markdown",
   "metadata": {},
   "source": [
    "Ricardo Ander-Egg Aguilar\n",
    "\n",
    "* 🖥: https://ricardoanderegg.com/\n",
    "* 🐦: https://twitter.com/ricardoanderegg\n",
    "* 👨🏻‍🎓: https://www.linkedin.com/in/ricardoanderegg/"
   ]
  },
  {
   "cell_type": "markdown",
   "metadata": {},
   "source": [
    "* https://docs.python.org/3.7/library/collections.html#collections.Counter"
   ]
  }
 ],
 "metadata": {
  "kernelspec": {
   "display_name": "teach",
   "language": "python",
   "name": "teach"
  },
  "language_info": {
   "codemirror_mode": {
    "name": "ipython",
    "version": 3
   },
   "file_extension": ".py",
   "mimetype": "text/x-python",
   "name": "python",
   "nbconvert_exporter": "python",
   "pygments_lexer": "ipython3",
   "version": "3.8.6"
  }
 },
 "nbformat": 4,
 "nbformat_minor": 4
}
