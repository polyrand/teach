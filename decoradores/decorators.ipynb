{
 "cells": [
  {
   "cell_type": "markdown",
   "metadata": {},
   "source": [
    "# Decoradores"
   ]
  },
  {
   "cell_type": "markdown",
   "metadata": {},
   "source": [
    "¿Quién podría explicar lo que está pasando aquí?:"
   ]
  },
  {
   "cell_type": "markdown",
   "metadata": {},
   "source": [
    "### Funciones (first-class object)"
   ]
  },
  {
   "cell_type": "code",
   "execution_count": 1,
   "metadata": {},
   "outputs": [],
   "source": [
    "def say_hello(name):\n",
    "    return f\"Hello {name}\"\n",
    "\n",
    "def be_awesome(name):\n",
    "    return f\"Yo {name}, together we are the awesomest!\"\n",
    "\n",
    "def greet_bob(funcion):\n",
    "    return funcion(\"Bob\")"
   ]
  },
  {
   "cell_type": "code",
   "execution_count": 2,
   "metadata": {},
   "outputs": [
    {
     "data": {
      "text/plain": [
       "'Hello Bob'"
      ]
     },
     "execution_count": 2,
     "metadata": {},
     "output_type": "execute_result"
    }
   ],
   "source": [
    "greet_bob(say_hello)"
   ]
  },
  {
   "cell_type": "code",
   "execution_count": 3,
   "metadata": {},
   "outputs": [
    {
     "data": {
      "text/plain": [
       "'Yo Bob, together we are the awesomest!'"
      ]
     },
     "execution_count": 3,
     "metadata": {},
     "output_type": "execute_result"
    }
   ],
   "source": [
    "greet_bob(be_awesome)"
   ]
  },
  {
   "cell_type": "code",
   "execution_count": 8,
   "metadata": {},
   "outputs": [],
   "source": [
    "def parent():\n",
    "    print(\"Printing from the parent() function\")\n",
    "\n",
    "    def first_child():\n",
    "        print(\"Printing from the first_child() function\")\n",
    "\n",
    "    def second_child():\n",
    "        print(\"Printing from the second_child() function\")\n",
    "\n",
    "    second_child()\n",
    "    first_child()"
   ]
  },
  {
   "cell_type": "code",
   "execution_count": 11,
   "metadata": {},
   "outputs": [],
   "source": [
    "def parent(num):\n",
    "    def first_child():\n",
    "        return \"Hi, I am Emma\"\n",
    "\n",
    "    def second_child():\n",
    "        return \"Call me Liam\"\n",
    "\n",
    "    if num == 1:\n",
    "        return first_child\n",
    "    else:\n",
    "        return second_child"
   ]
  },
  {
   "cell_type": "code",
   "execution_count": 6,
   "metadata": {},
   "outputs": [],
   "source": [
    "first = parent(1)\n",
    "second = parent(2)\n",
    "\n",
    "\n",
    "# descomentar las siguientes líneas y mirad que va pasando\n",
    "# first\n",
    "# second\n",
    "\n",
    "# first()\n",
    "# second()"
   ]
  },
  {
   "cell_type": "markdown",
   "metadata": {},
   "source": [
    "### Un decorador básico"
   ]
  },
  {
   "cell_type": "code",
   "execution_count": 20,
   "metadata": {},
   "outputs": [],
   "source": [
    "def my_decorator_printantesdespues(func):\n",
    "    def wrapper():\n",
    "        print(\"Ocurre algo ANTES de llamar a la función.\")\n",
    "        print(f\"el valor de retorno es: {func()}\")\n",
    "        print(\"Ocurre algo DESPUÉS de llamar a la función.\")\n",
    "\n",
    "    return wrapper"
   ]
  },
  {
   "cell_type": "code",
   "execution_count": 20,
   "metadata": {},
   "outputs": [],
   "source": [
    "def say_whee():\n",
    "    print(\"Whee!\")\n",
    "\n",
    "\n",
    "say_whee_decorada = my_decorator_printantesdespues(say_whee)\n",
    "\n",
    "\n",
    "@my_decorator_printantesdespues\n",
    "def say_whee():\n",
    "    print(\"Whee!\")"
   ]
  },
  {
   "cell_type": "code",
   "execution_count": 22,
   "metadata": {},
   "outputs": [
    {
     "name": "stdout",
     "output_type": "stream",
     "text": [
      "Ocurre algo ANTES de llamar a la función.\n",
      "Whee!\n",
      "el valor de retorno es: None\n",
      "Ocurre algo DESPUÉS de llamar a la función.\n"
     ]
    }
   ],
   "source": [
    "say_whee_decorada()"
   ]
  },
  {
   "cell_type": "code",
   "execution_count": 23,
   "metadata": {},
   "outputs": [],
   "source": [
    "@my_decorator_printantesdespues\n",
    "def funcion():\n",
    "    \n",
    "    return \"cadena\""
   ]
  },
  {
   "cell_type": "code",
   "execution_count": 24,
   "metadata": {},
   "outputs": [
    {
     "name": "stdout",
     "output_type": "stream",
     "text": [
      "Ocurre algo ANTES de llamar a la función.\n",
      "el valor de retorno es: cadena\n",
      "Ocurre algo DESPUÉS de llamar a la función.\n"
     ]
    }
   ],
   "source": [
    "funcion()"
   ]
  },
  {
   "cell_type": "code",
   "execution_count": 11,
   "metadata": {},
   "outputs": [],
   "source": [
    "@my_decorator_printantesdespues\n",
    "def decir_hola():\n",
    "    print(\"Holaaa\")"
   ]
  },
  {
   "cell_type": "code",
   "execution_count": 12,
   "metadata": {},
   "outputs": [
    {
     "name": "stdout",
     "output_type": "stream",
     "text": [
      "Ocurre algo ANTES de llamar a la función.\n",
      "Holaaa\n",
      "el valor de retorno es: None\n",
      "Ocurre algo DESPUÉS de llamar a la función.\n"
     ]
    }
   ],
   "source": [
    "decir_hola()"
   ]
  },
  {
   "cell_type": "code",
   "execution_count": 25,
   "metadata": {},
   "outputs": [],
   "source": [
    "permitido = True\n",
    "\n",
    "\n",
    "def pedir_permiso(func):\n",
    "    def wrapper():\n",
    "        if permitido:\n",
    "            print(\"Adelante!\")\n",
    "            func()\n",
    "        else:\n",
    "            print(\"Pues va a ser que no...\")\n",
    "            pass  # No se puede :(\n",
    "\n",
    "    return wrapper\n",
    "\n",
    "\n",
    "@pedir_permiso\n",
    "def hacer_algo():\n",
    "    print(\"Voy a bañarme!\")"
   ]
  },
  {
   "cell_type": "code",
   "execution_count": 28,
   "metadata": {},
   "outputs": [
    {
     "name": "stdout",
     "output_type": "stream",
     "text": [
      "Pues va a ser que no...\n"
     ]
    }
   ],
   "source": [
    "permitido = False\n",
    "\n",
    "\n",
    "hacer_algo()"
   ]
  },
  {
   "cell_type": "code",
   "execution_count": 36,
   "metadata": {},
   "outputs": [],
   "source": [
    "# decorado que permite argumentos\n",
    "def pedir_permiso_arg(permitido=True):\n",
    "    def decorador_real(func):\n",
    "        def wrapper(*args, **kwargs):\n",
    "            if permitido:\n",
    "                print(\"Adelante!\")\n",
    "                func(*args, **kwargs)\n",
    "            else:\n",
    "                print(\"Pues va a ser que no...\")\n",
    "                pass  # No se puede :(\n",
    "\n",
    "        return wrapper\n",
    "    \n",
    "    return decorador_real\n",
    "\n",
    "\n",
    "@pedir_permiso_arg\n",
    "def hacer_algo():\n",
    "    print(\"Voy a bañarme!\")"
   ]
  },
  {
   "cell_type": "code",
   "execution_count": 37,
   "metadata": {},
   "outputs": [
    {
     "name": "stdout",
     "output_type": "stream",
     "text": [
      "Adelante!\n",
      "Voy a bañarme!\n"
     ]
    }
   ],
   "source": [
    "hacer_algo()"
   ]
  },
  {
   "cell_type": "markdown",
   "metadata": {},
   "source": [
    "Como hacer correctamente un decorador que acepte argumentos pero que funcione también si no le pasamos ningun argumento. Es decir, los argumentos son opcionales."
   ]
  },
  {
   "cell_type": "code",
   "execution_count": null,
   "metadata": {},
   "outputs": [],
   "source": [
    "# source: https://florimond.dev/blog/articles/2019/09/python-optionally-parametrized-decorators/\n",
    "# also Python Cookbook: Recipes for Mastering Python 3\n",
    "# Book by Brian K. Jones and David M. Beazley\n",
    "# https://stackoverflow.com/questions/48098569/use-of-functools-partial-in-a-decorator-that-attaches-function-as-attribute-of-o\n",
    "\n",
    "import functools\n",
    "\n",
    "\n",
    "def logged(func=None, decimals: int = None):\n",
    "    if func is None:\n",
    "        print(f\"Called with decimals={decimals}\")\n",
    "        return functools.partial(logged, decimals=decimals)\n",
    "\n",
    "    print(f\"Called without parameters, func={func}.\")\n",
    "\n",
    "    @functools.wraps(func)\n",
    "    def decorated(*args, **kwargs):\n",
    "        print(f\"{func.__name__} called with args={args}, kwargs={kwargs}\")\n",
    "        result = func(*args, **kwargs)\n",
    "        logged_result = result if decimals is None else round(result, decimals)\n",
    "        print(f\"Result: {logged_result}\")\n",
    "        return result\n",
    "\n",
    "    return decorated"
   ]
  },
  {
   "cell_type": "code",
   "execution_count": 42,
   "metadata": {},
   "outputs": [],
   "source": [
    "from datetime import datetime\n",
    "import functools\n",
    "\n",
    "def not_during_the_night(func):\n",
    "    @functools.wraps(func)\n",
    "    def wrapper():\n",
    "        if 20 <= datetime.now().hour < 11:\n",
    "            func()\n",
    "        else:\n",
    "            print(\"es de noche\")\n",
    "            pass\n",
    "    return wrapper\n",
    "\n",
    "\n",
    "def say_whee():\n",
    "    \"\"\"Dice whee.\"\"\"\n",
    "    \n",
    "    print(\"Whee!\")\n",
    "\n",
    "# no permite ejecutar la función a ciertas horas\n",
    "say_whee = not_during_the_night(say_whee)"
   ]
  },
  {
   "cell_type": "code",
   "execution_count": 39,
   "metadata": {},
   "outputs": [
    {
     "name": "stdout",
     "output_type": "stream",
     "text": [
      "es de noche\n"
     ]
    }
   ],
   "source": [
    "say_whee()"
   ]
  },
  {
   "cell_type": "code",
   "execution_count": 20,
   "metadata": {},
   "outputs": [
    {
     "name": "stdout",
     "output_type": "stream",
     "text": [
      "es de noche\n"
     ]
    }
   ],
   "source": [
    "say_whee()"
   ]
  },
  {
   "cell_type": "markdown",
   "metadata": {},
   "source": [
    "`*args` y `**kwargs`"
   ]
  },
  {
   "cell_type": "code",
   "execution_count": 46,
   "metadata": {},
   "outputs": [],
   "source": [
    "def f(*args, **kwargs):\n",
    "    print(args)\n",
    "    print(kwargs)"
   ]
  },
  {
   "cell_type": "code",
   "execution_count": 48,
   "metadata": {},
   "outputs": [
    {
     "name": "stdout",
     "output_type": "stream",
     "text": [
      "(1, 2, 3, 4)\n",
      "{'ultimo': 5}\n"
     ]
    }
   ],
   "source": [
    "f(1,2,3,4, ultimo=5)"
   ]
  },
  {
   "cell_type": "code",
   "execution_count": 1,
   "metadata": {},
   "outputs": [],
   "source": [
    "import time"
   ]
  },
  {
   "cell_type": "code",
   "execution_count": 36,
   "metadata": {},
   "outputs": [],
   "source": [
    "import time\n",
    "import functools\n",
    "\n",
    "\n",
    "def timer(func):\n",
    "    \n",
    "    num_llamadas = 0\n",
    "    \n",
    "    @functools.wraps(func)\n",
    "    def wrapper(*args, **kwargs):\n",
    "        start_time = time.perf_counter()\n",
    "        valor = func(*args, **kwargs)\n",
    "        end_time = time.perf_counter()\n",
    "        total = end_time - start_time\n",
    "        \n",
    "        nonlocal num_llamadas\n",
    "        num_llamadas += 1\n",
    "        \n",
    "        print(\"Llamdas:\", num_llamadas)\n",
    "        print(f\"La funcion {func.__name__} se ha ejecutado en:\", f\"{total:.2f}\", f\"usando los parámentros {args, kwargs}\")\n",
    "        \n",
    "        return valor\n",
    "    \n",
    "    return wrapper"
   ]
  },
  {
   "cell_type": "code",
   "execution_count": 37,
   "metadata": {},
   "outputs": [],
   "source": [
    "@timer\n",
    "def suma(a, b):\n",
    "    \n",
    "    return a + b"
   ]
  },
  {
   "cell_type": "code",
   "execution_count": 38,
   "metadata": {},
   "outputs": [
    {
     "name": "stdout",
     "output_type": "stream",
     "text": [
      "Llamdas: 1\n",
      "La funcion suma se ha ejecutado en: 0.00 usando los parámentros ((2, 4), {'rm': 2})\n"
     ]
    },
    {
     "data": {
      "text/plain": [
       "6"
      ]
     },
     "execution_count": 38,
     "metadata": {},
     "output_type": "execute_result"
    }
   ],
   "source": [
    "suma(2, 4)"
   ]
  },
  {
   "cell_type": "markdown",
   "metadata": {},
   "source": [
    "## Ejercicio\n",
    "\n",
    "Crear un decorador llamado `@timer`.\n",
    "\n",
    "El decorados me dice el tiempo que ha tardado en ejecutarse está funcion (usando `print()`)."
   ]
  },
  {
   "cell_type": "markdown",
   "metadata": {},
   "source": [
    "### ¿Qué es eso de @functools.wrap?"
   ]
  },
  {
   "cell_type": "markdown",
   "metadata": {},
   "source": [
    "`@functools.wraps` es un decorador que preserva la información de la función original (metadatos: docstring, etc)"
   ]
  },
  {
   "cell_type": "markdown",
   "metadata": {},
   "source": [
    "### Usando clases para crear decoradores"
   ]
  },
  {
   "cell_type": "markdown",
   "metadata": {},
   "source": [
    "La mayoría de las veces no será necesario 🙅🏻‍♀️"
   ]
  },
  {
   "cell_type": "markdown",
   "metadata": {},
   "source": [
    "¿Cómo haríais un decorador que almacena el número de veces que la función ha sido llamada?"
   ]
  },
  {
   "cell_type": "code",
   "execution_count": 21,
   "metadata": {},
   "outputs": [],
   "source": [
    "import functools\n",
    "\n",
    "class CountCalls:\n",
    "    def __init__(self, func):\n",
    "        functools.update_wrapper(self, func)\n",
    "        self.func = func\n",
    "        self.num_calls = 0\n",
    "\n",
    "    def __call__(self, *args, **kwargs):\n",
    "        self.num_calls += 1\n",
    "        print(f\"Call {self.num_calls} of {self.func.__name__!r}\")\n",
    "        return self.func(*args, **kwargs)\n",
    "\n",
    "@CountCalls\n",
    "def haz_algo():\n",
    "    print(\"Whee!\")"
   ]
  },
  {
   "cell_type": "code",
   "execution_count": 22,
   "metadata": {},
   "outputs": [],
   "source": [
    "import time"
   ]
  },
  {
   "cell_type": "code",
   "execution_count": 23,
   "metadata": {},
   "outputs": [
    {
     "name": "stdout",
     "output_type": "stream",
     "text": [
      "Call 1 of 'haz_algo'\n",
      "Whee!\n"
     ]
    }
   ],
   "source": [
    "haz_algo()"
   ]
  },
  {
   "cell_type": "markdown",
   "metadata": {},
   "source": [
    "El método `.__ init __ ()` debe almacenar una referencia a la función y puede hacer cualquier otra inicialización necesaria. Se llamará al método `.__ call __ ()` en lugar de la función decorada. Hace esencialmente lo mismo que la función `wrapper()` en nuestros ejemplos anteriores. Tenga en cuenta que debe usar la función `functools.update_wrapper()` en lugar de `@functools.wraps`."
   ]
  },
  {
   "cell_type": "code",
   "execution_count": 24,
   "metadata": {},
   "outputs": [
    {
     "name": "stdout",
     "output_type": "stream",
     "text": [
      "Inside __init__()\n",
      "Inside __call__()\n",
      "After decoration\n",
      "Preparing to call sayHello()\n",
      "Inside wrapped_f()\n",
      "Decorator arguments: hello world 42\n",
      "sayHello arguments: say hello argument list\n",
      "After f(*args)\n",
      "after first sayHello() call\n",
      "Inside wrapped_f()\n",
      "Decorator arguments: hello world 42\n",
      "sayHello arguments: a different set of arguments\n",
      "After f(*args)\n",
      "after second sayHello() call\n"
     ]
    }
   ],
   "source": [
    "# no look before\n",
    "\n",
    "\n",
    "# source: https://python-3-patterns-idioms-test.readthedocs.io/en/latest/PythonDecorators.html#what-can-you-do-with-decorators\n",
    "# PythonDecorators/decorator_with_arguments.py\n",
    "\n",
    "class decorador_con_argumentos(object):\n",
    "    def __init__(self, arg1, arg2, arg3):\n",
    "        \"\"\"\n",
    "        If there are decorator arguments, the function\n",
    "        to be decorated is not passed to the constructor!\n",
    "        \"\"\"\n",
    "        print(\"Inside __init__()\")\n",
    "        self.arg1 = arg1\n",
    "        self.arg2 = arg2\n",
    "        self.arg3 = arg3\n",
    "\n",
    "    def __call__(self, f):\n",
    "        \"\"\"\n",
    "        If there are decorator arguments, __call__() is only called\n",
    "        once, as part of the decoration process! You can only give\n",
    "        it a single argument, which is the function object.\n",
    "        \"\"\"\n",
    "        print(\"Inside __call__()\")\n",
    "\n",
    "        def wrapped_f(*args):\n",
    "            print(\"Inside wrapped_f()\")\n",
    "            print(\"Decorator arguments:\", self.arg1, self.arg2, self.arg3)\n",
    "            f(*args)\n",
    "            print(\"After f(*args)\")\n",
    "\n",
    "        return wrapped_f\n",
    "\n",
    "\n",
    "@decorador_con_argumentos(\"hello\", \"world\", 42)\n",
    "def sayHello(a1, a2, a3, a4):\n",
    "    print(\"sayHello arguments:\", a1, a2, a3, a4)\n",
    "\n",
    "\n",
    "print(\"After decoration\")\n",
    "\n",
    "print(\"Preparing to call sayHello()\")\n",
    "sayHello(\"say\", \"hello\", \"argument\", \"list\")\n",
    "print(\"after first sayHello() call\")\n",
    "sayHello(\"a\", \"different\", \"set of\", \"arguments\")\n",
    "print(\"after second sayHello() call\")"
   ]
  },
  {
   "cell_type": "markdown",
   "metadata": {},
   "source": [
    "### Ejercicios 🎉"
   ]
  },
  {
   "cell_type": "markdown",
   "metadata": {},
   "source": [
    "`@do_twice`: ejecutar la función 2 veces  \n",
    "`@timer`: contar cuanto tiempo tarda en ejecutarse la función  \n",
    "> `@logger`: guardar nombre de la función y hora en una lista  \n",
    "\n",
    "`@slowdown`: parar un tiempo X entre cada ejecución  \n",
    "`@cache`: guardar el valor de la función para esos argumentos  \n",
    "* ¿Alguien puede conseguir lo mismo con solo 1 línea de código?\n",
    "\n",
    "`@repeat(n=4)`: igual que `@do_twice` pero ahora podemos elegir el número de veces que queremos que se repita\n",
    "\n",
    "*Extra:*  \n",
    "`@debug`: hacer print de los argumentos con los que se ha llamado la función y el nombre de la función cada vez que se llama"
   ]
  },
  {
   "cell_type": "code",
   "execution_count": 47,
   "metadata": {},
   "outputs": [],
   "source": [
    "# do twice\n",
    "import functools\n",
    "\n",
    "\n",
    "def do_twice(func):\n",
    "    @functools.wraps(func)\n",
    "    def wrapper_do_twice(*args, **kwargs):\n",
    "        func(*args, **kwargs)\n",
    "        return func(*args, **kwargs)\n",
    "\n",
    "    return wrapper_do_twice"
   ]
  },
  {
   "cell_type": "code",
   "execution_count": 57,
   "metadata": {},
   "outputs": [],
   "source": [
    "def repeat(n=2):\n",
    "    def decorador_real(func):\n",
    "        def wrapper(*args, **kwargs):\n",
    "            for _ in range(n):\n",
    "                func(*args, **kwargs)\n",
    "\n",
    "        return wrapper\n",
    "    \n",
    "    return decorador_real"
   ]
  },
  {
   "cell_type": "code",
   "execution_count": null,
   "metadata": {},
   "outputs": [],
   "source": [
    "def printar(a, n=None):\n",
    "    if n:\n",
    "        for _ in range(n):\n",
    "            do()"
   ]
  },
  {
   "cell_type": "code",
   "execution_count": 58,
   "metadata": {},
   "outputs": [],
   "source": [
    "@repeat(n=4)\n",
    "def printar(a):\n",
    "    print(a)"
   ]
  },
  {
   "cell_type": "code",
   "execution_count": 59,
   "metadata": {},
   "outputs": [
    {
     "name": "stdout",
     "output_type": "stream",
     "text": [
      "repitiendo\n",
      "repitiendo\n",
      "repitiendo\n",
      "repitiendo\n"
     ]
    }
   ],
   "source": [
    "printar(\"repitiendo\")"
   ]
  },
  {
   "cell_type": "code",
   "execution_count": 80,
   "metadata": {},
   "outputs": [],
   "source": [
    "def optional_repeat(func):\n",
    "    def wrapper(*args, **kwargs):\n",
    "        \n",
    "        n = kwargs.get(\"repeticiones\", 2)\n",
    "        \n",
    "        if n:\n",
    "            for _ in range(n):\n",
    "                func(*args, **kwargs)\n",
    "        else:\n",
    "            func(*args, **kwargs)\n",
    "\n",
    "    return wrapper"
   ]
  },
  {
   "cell_type": "code",
   "execution_count": 86,
   "metadata": {},
   "outputs": [],
   "source": [
    "@optional_repeat\n",
    "def printar(a, repeticiones=None):\n",
    "    print(a)"
   ]
  },
  {
   "cell_type": "code",
   "execution_count": 88,
   "metadata": {},
   "outputs": [
    {
     "name": "stdout",
     "output_type": "stream",
     "text": [
      "done\n",
      "done\n"
     ]
    }
   ],
   "source": [
    "printar(\"done\")"
   ]
  },
  {
   "cell_type": "code",
   "execution_count": 51,
   "metadata": {},
   "outputs": [],
   "source": [
    "# slow down\n",
    "import functools\n",
    "import time\n",
    "\n",
    "def slow_down(func):\n",
    "    \"\"\"Sleep 1 second before calling the function\"\"\"\n",
    "    @functools.wraps(func)\n",
    "    def wrapper_slow_down(*args, **kwargs):\n",
    "        time.sleep(1)\n",
    "        return func(*args, **kwargs)\n",
    "    return wrapper_slow_down"
   ]
  },
  {
   "cell_type": "code",
   "execution_count": 47,
   "metadata": {},
   "outputs": [],
   "source": [
    "import time\n",
    "\n",
    "def memoize(function):\n",
    "    \n",
    "    memo = {}\n",
    "\n",
    "    def wrapper(*args):\n",
    "        if args in memo:\n",
    "            return memo[args] # = valor retornado\n",
    "        else:\n",
    "            rv = function(*args)\n",
    "            memo[args] = rv\n",
    "            return rv\n",
    "\n",
    "    return wrapper\n",
    "\n",
    "\n",
    "@memoize\n",
    "def fibonacci(n):\n",
    "    time.sleep(2)\n",
    "    if n < 2:\n",
    "        return n\n",
    "    return fibonacci(n - 1) + fibonacci(n - 2)\n",
    "\n",
    "\n",
    "def fibonacci_nocache(n):\n",
    "    time.sleep(2)\n",
    "    if n < 2:\n",
    "        return n\n",
    "    return fibonacci(n - 1) + fibonacci(n - 2)"
   ]
  },
  {
   "cell_type": "code",
   "execution_count": null,
   "metadata": {},
   "outputs": [],
   "source": [
    "%time\n",
    "\n",
    "fibonacci(20)"
   ]
  },
  {
   "cell_type": "code",
   "execution_count": null,
   "metadata": {},
   "outputs": [],
   "source": [
    "%time\n",
    "\n",
    "fibonacci_nocache(190)"
   ]
  },
  {
   "cell_type": "code",
   "execution_count": 52,
   "metadata": {},
   "outputs": [],
   "source": [
    "@slow_down\n",
    "def funcion_lenta():\n",
    "    \"ejectuar despacio\"\n",
    "    \n",
    "    print(\"ejecutada\")\n",
    "    pass"
   ]
  },
  {
   "cell_type": "code",
   "execution_count": 53,
   "metadata": {},
   "outputs": [],
   "source": [
    "def funcion_normal():\n",
    "    \"ejecutar rapido\"\n",
    "    \n",
    "    print(\"ejecutada\")\n",
    "    pass"
   ]
  },
  {
   "cell_type": "code",
   "execution_count": 54,
   "metadata": {},
   "outputs": [
    {
     "name": "stdout",
     "output_type": "stream",
     "text": [
      "ejecutada\n"
     ]
    }
   ],
   "source": [
    "funcion_normal()"
   ]
  },
  {
   "cell_type": "code",
   "execution_count": 55,
   "metadata": {},
   "outputs": [
    {
     "name": "stdout",
     "output_type": "stream",
     "text": [
      "ejecutada\n"
     ]
    }
   ],
   "source": [
    "funcion_lenta()"
   ]
  },
  {
   "cell_type": "code",
   "execution_count": null,
   "metadata": {},
   "outputs": [],
   "source": [
    "# timer\n",
    "import functools\n",
    "\n",
    "\n",
    "def timer(func):\n",
    "    \"\"\"Print the runtime of the decorated function\"\"\"\n",
    "\n",
    "    @functools.wraps(func)\n",
    "    def wrapper_timer(*args, **kwargs):\n",
    "        start_time = time.perf_counter()  # 1\n",
    "        value = func(*args, **kwargs)\n",
    "        end_time = time.perf_counter()  # 2\n",
    "        run_time = end_time - start_time  # 3\n",
    "        print(f\"Finished {func.__name__!r} in {run_time:.4f} secs\")\n",
    "        return value\n",
    "\n",
    "    return wrapper_timer"
   ]
  },
  {
   "cell_type": "code",
   "execution_count": null,
   "metadata": {},
   "outputs": [],
   "source": [
    "import time"
   ]
  },
  {
   "cell_type": "code",
   "execution_count": 3,
   "metadata": {},
   "outputs": [],
   "source": [
    "@timer\n",
    "def function():\n",
    "    \"Documentación de la función\"\n",
    "    \n",
    "    print(\"no soy mut util\")"
   ]
  },
  {
   "cell_type": "code",
   "execution_count": 10,
   "metadata": {},
   "outputs": [
    {
     "name": "stdout",
     "output_type": "stream",
     "text": [
      "no soy mut util\n",
      "Finished 'function' in 0.0001 secs\n"
     ]
    }
   ],
   "source": [
    "function()"
   ]
  },
  {
   "cell_type": "code",
   "execution_count": null,
   "metadata": {},
   "outputs": [],
   "source": [
    "# cache\n",
    "import functools\n",
    "\n",
    "\n",
    "def cache(func):\n",
    "    \"\"\"Keep a cache of previous function calls\"\"\"\n",
    "\n",
    "    @functools.wraps(func)\n",
    "    def wrapper_cache(*args, **kwargs):\n",
    "        cache_key = args + tuple(kwargs.items())\n",
    "        if cache_key not in wrapper_cache.cache:\n",
    "            wrapper_cache.cache[cache_key] = func(*args, **kwargs)\n",
    "        return wrapper_cache.cache[cache_key]\n",
    "\n",
    "    wrapper_cache.cache = dict()\n",
    "    return wrapper_cache"
   ]
  },
  {
   "cell_type": "code",
   "execution_count": null,
   "metadata": {},
   "outputs": [],
   "source": [
    "# debug\n",
    "import functools\n",
    "\n",
    "\n",
    "def debug(func):\n",
    "    \"\"\"Print the function signature and return value\"\"\"\n",
    "\n",
    "    @functools.wraps(func)\n",
    "    def wrapper_debug(*args, **kwargs):\n",
    "        args_repr = [repr(a) for a in args]  # 1\n",
    "        kwargs_repr = [f\"{k}={v!r}\" for k, v in kwargs.items()]  # 2\n",
    "        signature = \", \".join(args_repr + kwargs_repr)  # 3\n",
    "        print(f\"Calling {func.__name__}({signature})\")\n",
    "        value = func(*args, **kwargs)\n",
    "        print(f\"{func.__name__!r} returned {value!r}\")  # 4\n",
    "        return value\n",
    "\n",
    "    return wrapper_debug"
   ]
  },
  {
   "cell_type": "markdown",
   "metadata": {},
   "source": []
  },
  {
   "cell_type": "code",
   "execution_count": 56,
   "metadata": {},
   "outputs": [],
   "source": [
    "from functools import lru_cache"
   ]
  },
  {
   "cell_type": "markdown",
   "metadata": {},
   "source": [
    "Más información y fuentes:\n",
    "\n",
    "* https://realpython.com/primer-on-python-decorators 👈🏼\n",
    "* https://dbader.org/blog/python-decorators\n",
    "* https://blog.miguelgrinberg.com/post/the-ultimate-guide-to-python-decorators-part-i-function-registration\n",
    "* https://stackoverflow.com/questions/10294014/python-decorator-best-practice-using-a-class-vs-a-function 📖\n",
    "* https://www.youtube.com/watch?v=MjHpMCIvwsY 📹"
   ]
  },
  {
   "cell_type": "markdown",
   "metadata": {},
   "source": [
    "Ricardo Ander-Egg Aguilar\n",
    "\n",
    "* 🖥: https://ricardoanderegg.com/\n",
    "* 🐦: https://twitter.com/ricardoanderegg\n",
    "* 👨🏻‍🎓: https://www.linkedin.com/in/ricardoanderegg/"
   ]
  }
 ],
 "metadata": {
  "kernelspec": {
   "display_name": "avanzado",
   "language": "python",
   "name": "avanzado"
  },
  "language_info": {
   "codemirror_mode": {
    "name": "ipython",
    "version": 3
   },
   "file_extension": ".py",
   "mimetype": "text/x-python",
   "name": "python",
   "nbconvert_exporter": "python",
   "pygments_lexer": "ipython3",
   "version": "3.7.7"
  }
 },
 "nbformat": 4,
 "nbformat_minor": 4
}
