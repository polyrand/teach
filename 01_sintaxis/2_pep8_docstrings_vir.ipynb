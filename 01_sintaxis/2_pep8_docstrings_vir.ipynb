{
 "cells": [
  {
   "cell_type": "markdown",
   "metadata": {},
   "source": [
    "## PEP 8"
   ]
  },
  {
   "cell_type": "markdown",
   "metadata": {},
   "source": [
    "**Funciones**"
   ]
  },
  {
   "cell_type": "code",
   "execution_count": null,
   "metadata": {},
   "outputs": [],
   "source": [
    "def funcion():\n",
    "    pass\n",
    "\n",
    "def mi_funcion():\n",
    "    pass"
   ]
  },
  {
   "cell_type": "markdown",
   "metadata": {},
   "source": [
    "**Variables**"
   ]
  },
  {
   "cell_type": "code",
   "execution_count": null,
   "metadata": {},
   "outputs": [],
   "source": [
    "x = 0\n",
    "\n",
    "variable = 1\n",
    "\n",
    "mi_variable = 2"
   ]
  },
  {
   "cell_type": "markdown",
   "metadata": {},
   "source": [
    "**Clases**\n"
   ]
  },
  {
   "cell_type": "code",
   "execution_count": null,
   "metadata": {},
   "outputs": [],
   "source": [
    "class Person:\n",
    "    pass"
   ]
  },
  {
   "cell_type": "code",
   "execution_count": null,
   "metadata": {},
   "outputs": [],
   "source": [
    "class MiClase:\n",
    "    pass"
   ]
  },
  {
   "cell_type": "markdown",
   "metadata": {},
   "source": [
    "**Constantes**"
   ]
  },
  {
   "cell_type": "code",
   "execution_count": null,
   "metadata": {},
   "outputs": [],
   "source": [
    "URL = \"http://api.myapp.com\""
   ]
  },
  {
   "cell_type": "markdown",
   "metadata": {},
   "source": [
    "**Módulos**\n",
    "\n",
    "modulo.py\n",
    "\n",
    "mi_modulop.py"
   ]
  },
  {
   "cell_type": "markdown",
   "metadata": {},
   "source": [
    "**Librerías / apps**\n",
    "\n",
    "Para el nombre *global* de nuestra librería.\n",
    "\n",
    "paquete\n",
    "\n",
    "milibreria\n",
    "\n",
    "\n",
    "```python\n",
    "from modulo import Clase\n",
    "```"
   ]
  },
  {
   "cell_type": "markdown",
   "metadata": {},
   "source": [
    "* pip-tools\n",
    "\n",
    "\n",
    "* venv\n",
    "* pipenv\n",
    "* poetry\n",
    "* virtualenv\n",
    "* conda"
   ]
  },
  {
   "cell_type": "code",
   "execution_count": null,
   "metadata": {},
   "outputs": [],
   "source": [
    "## NO ##\n",
    "\n",
    "var1 = []\n",
    "\n",
    "milista1 = []\n",
    "x = \"trxt\"\n",
    "y = 123"
   ]
  },
  {
   "cell_type": "code",
   "execution_count": null,
   "metadata": {},
   "outputs": [],
   "source": [
    "## SI ##\n",
    "\n",
    "nombre_usuario = \"ricardo\""
   ]
  },
  {
   "cell_type": "code",
   "execution_count": null,
   "metadata": {},
   "outputs": [],
   "source": [
    "def mul2(a):\n",
    "\n",
    "    return a * 2\n",
    "    ## <-- minimo 2 lineas en blanco entre funciones\n",
    "    ## <-- minimo 2 lineas en blanco entre funciones\n",
    "def multiplicar_por_dos(numero):\n",
    "\n",
    "    return numero * 2"
   ]
  },
  {
   "cell_type": "code",
   "execution_count": null,
   "metadata": {},
   "outputs": [],
   "source": [
    "from glob import glob"
   ]
  },
  {
   "cell_type": "code",
   "execution_count": null,
   "metadata": {},
   "outputs": [],
   "source": [
    "def multiplicar_por_dos(numero):\n",
    "    \"\"\"\n",
    "    Multiplica un número * 2.\n",
    "    \n",
    "    Necesario asegurarse de que el parámetro numero es un entero.\n",
    "    \"\"\"\n",
    "\n",
    "    return numero * 2"
   ]
  },
  {
   "cell_type": "code",
   "execution_count": null,
   "metadata": {},
   "outputs": [
    {
     "name": "stdout",
     "output_type": "stream",
     "text": [
      "Help on function multiplicar_por_dos in module __main__:\n",
      "\n",
      "multiplicar_por_dos(numero)\n",
      "    Multiplica un número * 2.\n",
      "    \n",
      "    Necesario asegurarse de que el parámetro numero es un entero.\n",
      "\n"
     ]
    }
   ],
   "source": [
    "help(multiplicar_por_dos)"
   ]
  },
  {
   "cell_type": "code",
   "execution_count": null,
   "metadata": {},
   "outputs": [],
   "source": [
    "multiplicar_por_dos()"
   ]
  },
  {
   "cell_type": "code",
   "execution_count": null,
   "metadata": {},
   "outputs": [],
   "source": [
    "class MiClase:\n",
    "    def f1():\n",
    "        pass\n",
    "    \n",
    "    def f2():\n",
    "        pass"
   ]
  },
  {
   "cell_type": "code",
   "execution_count": null,
   "metadata": {},
   "outputs": [],
   "source": [
    "## NO ##\n",
    "\n",
    "\n",
    "def mi_funcion(lista_numeros):\n",
    "    lista_sum = 0\n",
    "    for numero in lista_numeros:\n",
    "        lista_sum = sum_list + numero\n",
    "    media = sum_list / len(lista_numeros)\n",
    "    pass"
   ]
  },
  {
   "cell_type": "code",
   "execution_count": null,
   "metadata": {},
   "outputs": [],
   "source": [
    "## SI ##\n",
    "\n",
    "\n",
    "def mi_funcion(lista_numeros):\n",
    "\n",
    "    lista_sum = 0\n",
    "\n",
    "    for numero in lista_numeros:\n",
    "        lista_sum = sum_list + numero\n",
    "\n",
    "    media = sum_list / len(lista_numeros)\n",
    "\n",
    "    pass"
   ]
  },
  {
   "cell_type": "code",
   "execution_count": null,
   "metadata": {},
   "outputs": [],
   "source": [
    "def function_multi_arguments(\n",
    "    arg1, argumento2, argument_lista, arg3, artgumento_tuple=(),\n",
    "):\n",
    "\n",
    "    pass"
   ]
  },
  {
   "cell_type": "code",
   "execution_count": null,
   "metadata": {},
   "outputs": [],
   "source": [
    "import os"
   ]
  },
  {
   "cell_type": "code",
   "execution_count": null,
   "metadata": {},
   "outputs": [],
   "source": [
    "def very_important_function(\n",
    "    template: str,\n",
    "    *variables,\n",
    "    file: os.PathLike,\n",
    "    engine: str,\n",
    "    header: bool = True,\n",
    "    debug: bool = False\n",
    "):\n",
    "    \"\"\"Applies `variables` to the `template` and writes to `file`.\"\"\"\n",
    "    \n",
    "    with open(file, \"w\") as f:\n",
    "        pass"
   ]
  },
  {
   "cell_type": "code",
   "execution_count": null,
   "metadata": {},
   "outputs": [],
   "source": [
    "lista_larga = [\n",
    "    \"asd\",\n",
    "    \"dfh\",\n",
    "    \"\"\n",
    "]"
   ]
  },
  {
   "cell_type": "code",
   "execution_count": null,
   "metadata": {},
   "outputs": [
    {
     "data": {
      "text/plain": [
       "['asd', 'dfh', '']"
      ]
     },
     "execution_count": null,
     "metadata": {},
     "output_type": "execute_result"
    }
   ],
   "source": [
    "lista_larga"
   ]
  },
  {
   "cell_type": "code",
   "execution_count": null,
   "metadata": {},
   "outputs": [],
   "source": [
    "def very_important_function(\n",
    "    template: str,\n",
    "    *variables,\n",
    "    file: os.PathLike,  # comentario inline\n",
    "    engine: str,\n",
    "    header: bool = True,\n",
    "    debug: bool = False\n",
    "):\n",
    "    \"\"\"Applies `variables` to the `template` and writes to `file`.\"\"\"\n",
    "    # comentario de linea\n",
    "    with open(file, \"w\") as f:\n",
    "\n",
    "        # comentario de\n",
    "        # bloque\n",
    "        # en varias lineas\n",
    "        pass"
   ]
  }
 ],
 "metadata": {
  "kernelspec": {
   "display_name": "teach",
   "language": "python",
   "name": "teach"
  }
 },
 "nbformat": 4,
 "nbformat_minor": 4
}
