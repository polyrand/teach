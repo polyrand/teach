{
 "cells": [
  {
   "cell_type": "markdown",
   "metadata": {},
   "source": [
    "## Syntaxis básica"
   ]
  },
  {
   "cell_type": "markdown",
   "metadata": {},
   "source": [
    "Autor: Ricardo Ander-Egg Aguilar\n",
    "\n",
    "* 🖥: https://ricardoanderegg.com/\n",
    "* 🐦: https://twitter.com/ricardoanderegg\n",
    "* 👨🏻‍🎓: https://www.linkedin.com/in/ricardoanderegg/"
   ]
  },
  {
   "cell_type": "markdown",
   "metadata": {},
   "source": [
    "## Comments"
   ]
  },
  {
   "cell_type": "code",
   "execution_count": null,
   "metadata": {},
   "outputs": [],
   "source": [
    "# comentario asdifi adiufg wefiub werigub iubewf\n",
    "# no le hace caso"
   ]
  },
  {
   "cell_type": "markdown",
   "metadata": {},
   "source": [
    "## Variables"
   ]
  },
  {
   "cell_type": "code",
   "execution_count": null,
   "metadata": {},
   "outputs": [],
   "source": [
    "xyz = 52\n",
    "x = 5\n",
    "texto = \"cadena de texto\""
   ]
  },
  {
   "cell_type": "code",
   "execution_count": null,
   "metadata": {},
   "outputs": [
    {
     "name": "stdout",
     "output_type": "stream",
     "text": [
      "52\n"
     ]
    }
   ],
   "source": [
    "print(xyz)"
   ]
  },
  {
   "cell_type": "code",
   "execution_count": null,
   "metadata": {},
   "outputs": [
    {
     "name": "stdout",
     "output_type": "stream",
     "text": [
      "52\n"
     ]
    }
   ],
   "source": [
    "print(xyz)"
   ]
  },
  {
   "cell_type": "code",
   "execution_count": 1,
   "metadata": {},
   "outputs": [],
   "source": [
    "mitexto = \"estamos en el curso de python\""
   ]
  },
  {
   "cell_type": "code",
   "execution_count": 3,
   "metadata": {},
   "outputs": [
    {
     "data": {
      "text/plain": [
       "'mitexto'"
      ]
     },
     "execution_count": 3,
     "metadata": {},
     "output_type": "execute_result"
    }
   ],
   "source": [
    "\"mitexto\""
   ]
  },
  {
   "cell_type": "code",
   "execution_count": null,
   "metadata": {},
   "outputs": [
    {
     "name": "stdout",
     "output_type": "stream",
     "text": [
      "estamos en el curso de python\n"
     ]
    }
   ],
   "source": [
    "print(mitexto)"
   ]
  },
  {
   "cell_type": "code",
   "execution_count": null,
   "metadata": {},
   "outputs": [
    {
     "name": "stdout",
     "output_type": "stream",
     "text": [
      "5 cadena de texto\n"
     ]
    }
   ],
   "source": [
    "print(x, texto)"
   ]
  },
  {
   "cell_type": "markdown",
   "metadata": {},
   "source": [
    "## Tipos de datos"
   ]
  },
  {
   "cell_type": "markdown",
   "metadata": {},
   "source": [
    "Tipos de variables:\n",
    "\n",
    "* int: número entero\n",
    "* float: número decimal\n",
    "* str: cadena de texto\n",
    "* bool: verdadero/falso"
   ]
  },
  {
   "cell_type": "code",
   "execution_count": null,
   "metadata": {},
   "outputs": [
    {
     "data": {
      "text/plain": [
       "str"
      ]
     },
     "execution_count": null,
     "metadata": {},
     "output_type": "execute_result"
    }
   ],
   "source": [
    "type(\"curso de python básico\")"
   ]
  },
  {
   "cell_type": "code",
   "execution_count": null,
   "metadata": {},
   "outputs": [
    {
     "data": {
      "text/plain": [
       "str"
      ]
     },
     "execution_count": null,
     "metadata": {},
     "output_type": "execute_result"
    }
   ],
   "source": [
    "type(mitexto)"
   ]
  },
  {
   "cell_type": "code",
   "execution_count": null,
   "metadata": {},
   "outputs": [],
   "source": [
    "x = 20.5"
   ]
  },
  {
   "cell_type": "code",
   "execution_count": null,
   "metadata": {},
   "outputs": [
    {
     "name": "stdout",
     "output_type": "stream",
     "text": [
      "texto\n"
     ]
    }
   ],
   "source": [
    "print(x)"
   ]
  },
  {
   "cell_type": "code",
   "execution_count": null,
   "metadata": {},
   "outputs": [],
   "source": [
    "x = \"texto\""
   ]
  },
  {
   "cell_type": "code",
   "execution_count": null,
   "metadata": {},
   "outputs": [
    {
     "data": {
      "text/plain": [
       "bool"
      ]
     },
     "execution_count": null,
     "metadata": {},
     "output_type": "execute_result"
    }
   ],
   "source": [
    "type(True)"
   ]
  },
  {
   "cell_type": "code",
   "execution_count": null,
   "metadata": {},
   "outputs": [],
   "source": [
    "x = True\n",
    "y = False"
   ]
  },
  {
   "cell_type": "code",
   "execution_count": null,
   "metadata": {},
   "outputs": [
    {
     "data": {
      "text/plain": [
       "True"
      ]
     },
     "execution_count": null,
     "metadata": {},
     "output_type": "execute_result"
    }
   ],
   "source": [
    "x or y"
   ]
  },
  {
   "cell_type": "code",
   "execution_count": null,
   "metadata": {},
   "outputs": [],
   "source": [
    "x, y, z, w = 1, 2, \"text\", 3.14"
   ]
  },
  {
   "cell_type": "code",
   "execution_count": null,
   "metadata": {},
   "outputs": [
    {
     "data": {
      "text/plain": [
       "3.14"
      ]
     },
     "execution_count": null,
     "metadata": {},
     "output_type": "execute_result"
    }
   ],
   "source": [
    "w"
   ]
  },
  {
   "cell_type": "code",
   "execution_count": null,
   "metadata": {},
   "outputs": [],
   "source": [
    "x = None"
   ]
  },
  {
   "cell_type": "code",
   "execution_count": null,
   "metadata": {},
   "outputs": [
    {
     "data": {
      "text/plain": [
       "NoneType"
      ]
     },
     "execution_count": null,
     "metadata": {},
     "output_type": "execute_result"
    }
   ],
   "source": [
    "type(x)"
   ]
  },
  {
   "cell_type": "code",
   "execution_count": null,
   "metadata": {},
   "outputs": [],
   "source": [
    "decimal = 1.25"
   ]
  },
  {
   "cell_type": "code",
   "execution_count": null,
   "metadata": {},
   "outputs": [
    {
     "data": {
      "text/plain": [
       "bool"
      ]
     },
     "execution_count": null,
     "metadata": {},
     "output_type": "execute_result"
    }
   ],
   "source": [
    "type(True)"
   ]
  },
  {
   "cell_type": "markdown",
   "metadata": {},
   "source": [
    "### Type casting.\n",
    "\n",
    "Podemos convertir un tipo de datos en otro."
   ]
  },
  {
   "cell_type": "code",
   "execution_count": 3,
   "metadata": {},
   "outputs": [
    {
     "data": {
      "text/plain": [
       "1"
      ]
     },
     "execution_count": 3,
     "metadata": {},
     "output_type": "execute_result"
    }
   ],
   "source": [
    "int(\"1\")"
   ]
  },
  {
   "cell_type": "code",
   "execution_count": null,
   "metadata": {},
   "outputs": [
    {
     "data": {
      "text/plain": [
       "'123'"
      ]
     },
     "execution_count": null,
     "metadata": {},
     "output_type": "execute_result"
    }
   ],
   "source": [
    "str(123)"
   ]
  },
  {
   "cell_type": "markdown",
   "metadata": {},
   "source": [
    "# Condicionales"
   ]
  },
  {
   "cell_type": "markdown",
   "metadata": {},
   "source": [
    "Nuestro programas de Python son como un rio. Al igual que un rio baja de la parte más alta a la más baja. Nuestro programa se ejecuta desde la línea de más arriba hasta la de más abajo.\n",
    "\n",
    "Los condicionales son como si el río empezara a tener bifurcaciones. Cuando llegamos a una bifurcación nos hemos encontrado con una condición. Si esa condición se cumple iremos por un lado (a un bloque de código). Si no se cumple iremos por el otro (otro bloque de código).\n",
    "\n",
    "```\n",
    "                 +\n",
    "                 |\n",
    "                 |\n",
    "                 |\n",
    "                 |\n",
    "                 |\n",
    "                 |\n",
    "                 |\n",
    "                 |\n",
    "     +----------------+\n",
    "     |           |    |\n",
    "     +           |    v\n",
    "solo si no       |   if\n",
    "se cumple        +------------+\n",
    "     ^           |            |\n",
    "     +---+       |            |\n",
    "         |       |            +\n",
    "         |       |\n",
    "         |       |\n",
    "         +       |\n",
    "        elif     |\n",
    "    +----^-------+\n",
    "    |    |       |\n",
    "    |    |       |\n",
    "    |    |       |\n",
    "    +    |       |\n",
    "         |       |\n",
    "         |       |\n",
    "         |       |\n",
    "         |       |\n",
    "         +       |\n",
    "        elif     |\n",
    "    +------------+\n",
    "    |            |\n",
    "    |            |\n",
    "    |            |\n",
    "    +            |\n",
    "                 +\n",
    "\n",
    "                else\n",
    "\n",
    "                 +\n",
    "                 |\n",
    "                 |\n",
    "                 v\n",
    "\n",
    "\n",
    "```"
   ]
  },
  {
   "cell_type": "markdown",
   "metadata": {},
   "source": [
    "## operadores de python\n",
    "\n",
    "* ==  (Igual)\n",
    "* !=  (NO igual)\n",
    "* \\>   (Mayor que)\n",
    "* <   (Menor que)\n",
    "* \\>=  (Mayor o igual)\n",
    "* <=  (Menor o igual)\n"
   ]
  },
  {
   "cell_type": "code",
   "execution_count": null,
   "metadata": {},
   "outputs": [],
   "source": [
    "x = 0"
   ]
  },
  {
   "cell_type": "code",
   "execution_count": null,
   "metadata": {},
   "outputs": [],
   "source": [
    "y = 2"
   ]
  },
  {
   "cell_type": "code",
   "execution_count": null,
   "metadata": {},
   "outputs": [
    {
     "data": {
      "text/plain": [
       "True"
      ]
     },
     "execution_count": null,
     "metadata": {},
     "output_type": "execute_result"
    }
   ],
   "source": [
    "x < y"
   ]
  },
  {
   "cell_type": "code",
   "execution_count": null,
   "metadata": {},
   "outputs": [
    {
     "name": "stdout",
     "output_type": "stream",
     "text": [
      "No se cumple nada\n"
     ]
    }
   ],
   "source": [
    "if x > 2:\n",
    "    print(\"x es mayor de 2\")\n",
    "elif x < 0:\n",
    "    print(\"x es menor de 0\")\n",
    "else:\n",
    "    print(\"No se cumple nada\")"
   ]
  },
  {
   "cell_type": "code",
   "execution_count": null,
   "metadata": {},
   "outputs": [
    {
     "name": "stdout",
     "output_type": "stream",
     "text": [
      "la variable es un decimal\n"
     ]
    }
   ],
   "source": [
    "if type(10.25) == float:\n",
    "    print(\"la variable es un decimal\")"
   ]
  },
  {
   "cell_type": "code",
   "execution_count": null,
   "metadata": {},
   "outputs": [],
   "source": [
    "text = \"estamos en un\""
   ]
  },
  {
   "cell_type": "code",
   "execution_count": null,
   "metadata": {},
   "outputs": [
    {
     "name": "stdout",
     "output_type": "stream",
     "text": [
      "me voy de vacaciones\n"
     ]
    }
   ],
   "source": [
    "if text == \"estamos en un curso\":\n",
    "    print(1)\n",
    "else:\n",
    "    print(\"me voy de vacaciones\")"
   ]
  },
  {
   "cell_type": "code",
   "execution_count": null,
   "metadata": {},
   "outputs": [],
   "source": [
    "x = 13"
   ]
  },
  {
   "cell_type": "code",
   "execution_count": null,
   "metadata": {},
   "outputs": [],
   "source": [
    "x = x - 1"
   ]
  },
  {
   "cell_type": "code",
   "execution_count": null,
   "metadata": {},
   "outputs": [
    {
     "data": {
      "text/plain": [
       "12"
      ]
     },
     "execution_count": null,
     "metadata": {},
     "output_type": "execute_result"
    }
   ],
   "source": [
    "x"
   ]
  },
  {
   "cell_type": "code",
   "execution_count": null,
   "metadata": {},
   "outputs": [
    {
     "name": "stdout",
     "output_type": "stream",
     "text": [
      "asjdbaijsd\n"
     ]
    }
   ],
   "source": [
    "if x == 13:\n",
    "    print(\"asjdbaijsd\")"
   ]
  },
  {
   "cell_type": "markdown",
   "metadata": {},
   "source": [
    "**Ejercicio**\n",
    "\n",
    "Evaluar condiciones para `y`.\n",
    "\n",
    "* Si `y` es **menor de 2**; `x` debe ser = \"A\"\n",
    "* Si `y` es **menor de 8**; `x` debe ser = \"B\"\n",
    "* Si `y` es **igual a 10**; `x` debe ser = \"C\"\n",
    "* Si no se cumple nada: imprimir la cadena de texto `\"No se ha cumplido ninguna condición\"`\n",
    "\n",
    "\n",
    "Extra:\n",
    "* Si no se cumple nada. Restarle `1` a `y`. Es decir, si llegamos al else y el valor de `y` era `10`, convertirlo en `9`.\n",
    "* **Dentro del `else`,** crear un nuevo `if`, y si se cumple que `y < 1`, imprimir \"done\""
   ]
  },
  {
   "cell_type": "code",
   "execution_count": null,
   "metadata": {},
   "outputs": [],
   "source": [
    "x = None\n",
    "y = 20"
   ]
  },
  {
   "cell_type": "code",
   "execution_count": null,
   "metadata": {},
   "outputs": [],
   "source": [
    "if y < 2:\n",
    "    x = \"A\"\n",
    "\n",
    "elif y < 8:\n",
    "    x = \"B\"\n",
    "\n",
    "elif y == 10:\n",
    "    x = \"C\"\n",
    "\n",
    "else:\n",
    "    y -= 1  # igual -> y = y - 1\n",
    "    print(\"no se cumple nada\")\n",
    "    print(\"Y tiene el valor:\", y)"
   ]
  },
  {
   "cell_type": "code",
   "execution_count": null,
   "metadata": {},
   "outputs": [
    {
     "data": {
      "text/plain": [
       "'C'"
      ]
     },
     "execution_count": null,
     "metadata": {},
     "output_type": "execute_result"
    }
   ],
   "source": [
    "x"
   ]
  },
  {
   "cell_type": "markdown",
   "metadata": {},
   "source": [
    "## While"
   ]
  },
  {
   "cell_type": "code",
   "execution_count": null,
   "metadata": {},
   "outputs": [],
   "source": [
    "y = 10"
   ]
  },
  {
   "cell_type": "code",
   "execution_count": null,
   "metadata": {},
   "outputs": [
    {
     "name": "stdout",
     "output_type": "stream",
     "text": [
      "Todavía no hemos llegado\n",
      "y tiene ahora el valor: 9\n",
      "Todavía no hemos llegado\n",
      "y tiene ahora el valor: 8\n",
      "Todavía no hemos llegado\n",
      "y tiene ahora el valor: 7\n",
      "Todavía no hemos llegado\n",
      "y tiene ahora el valor: 6\n",
      "Todavía no hemos llegado\n",
      "y tiene ahora el valor: 5\n",
      "Todavía no hemos llegado\n",
      "y tiene ahora el valor: 4\n",
      "Todavía no hemos llegado\n",
      "y tiene ahora el valor: 3\n",
      "Todavía no hemos llegado\n",
      "y tiene ahora el valor: 2\n",
      "Todavía no hemos llegado\n",
      "y tiene ahora el valor: 1\n",
      "Todavía no hemos llegado\n",
      "y tiene ahora el valor: 0\n",
      "he llegado a 0\n",
      "\n",
      "Todavía no hemos llegado\n",
      "y tiene ahora el valor: -1\n",
      "Todavía no hemos llegado\n",
      "y tiene ahora el valor: -2\n",
      "he llegado a -2, me salgo\n"
     ]
    }
   ],
   "source": [
    "while y > -4:\n",
    "    print(\"Todavía no hemos llegado\")\n",
    "    y -= 1\n",
    "    print(\"y tiene ahora el valor:\", y)\n",
    "    \n",
    "    if y == 0:\n",
    "        print(\"he llegado a 0\\n\")\n",
    "    \n",
    "    if y == -2:\n",
    "        print(\"he llegado a -2, me salgo\")\n",
    "        break"
   ]
  },
  {
   "cell_type": "markdown",
   "metadata": {},
   "source": [
    "## Ejercicio\n",
    "\n",
    "La torre agbar de Barcelona mide 114m. Tenemos cajas de 0.5 m. El primer día ponemos una caja. Cada día duplicamos el número de cajas.\n",
    "\n",
    "* ¿Cuantos días hacen falta para llegar o superar la altura de la torre?\n",
    "* ¿Cuantas cajas?"
   ]
  },
  {
   "cell_type": "code",
   "execution_count": null,
   "metadata": {},
   "outputs": [],
   "source": [
    "dias = 1\n",
    "cajas = 1\n",
    "\n",
    "altura_actual = 0.5\n",
    "altura_torre = 114\n",
    "altura_caja = 0.5"
   ]
  },
  {
   "cell_type": "code",
   "execution_count": null,
   "metadata": {},
   "outputs": [],
   "source": [
    "while altura_actual < altura_torre:\n",
    "    dias += 1\n",
    "    cajas *= 2\n",
    "    \n",
    "    altura_actual = cajas * altura_caja"
   ]
  },
  {
   "cell_type": "code",
   "execution_count": null,
   "metadata": {},
   "outputs": [
    {
     "name": "stdout",
     "output_type": "stream",
     "text": [
      "9\n"
     ]
    }
   ],
   "source": [
    "print(dias)"
   ]
  },
  {
   "cell_type": "code",
   "execution_count": null,
   "metadata": {},
   "outputs": [
    {
     "name": "stdout",
     "output_type": "stream",
     "text": [
      "256\n"
     ]
    }
   ],
   "source": [
    "print(cajas)"
   ]
  },
  {
   "cell_type": "markdown",
   "metadata": {},
   "source": [
    "## List, tuples and sets"
   ]
  },
  {
   "cell_type": "code",
   "execution_count": null,
   "metadata": {},
   "outputs": [],
   "source": [
    "import requests\n",
    "\n",
    "r = requests.get(\n",
    "    \"https://gist.githubusercontent.com/polyrand/6a4f7e6e5bf2e68d1b91896d2fff235a/raw/0a9df3f1b9e3cef804825bd0c75b3360d69540dd/repr_list.py\"\n",
    ").text\n",
    "\n",
    "with open(\"listrepr.py\", \"w\") as f:\n",
    "    f.write(r)\n",
    "\n",
    "from listrepr import list_repr\n",
    "\n",
    "def show(l):\n",
    "    print(list_repr(l))"
   ]
  },
  {
   "cell_type": "code",
   "execution_count": null,
   "metadata": {},
   "outputs": [],
   "source": [
    "milista = [\"uno\", 2, 3, \"python\", 5.2]"
   ]
  },
  {
   "cell_type": "code",
   "execution_count": null,
   "metadata": {},
   "outputs": [
    {
     "name": "stdout",
     "output_type": "stream",
     "text": [
      "['uno', 2, 3, 'python', 5.2]\n"
     ]
    }
   ],
   "source": [
    "print(milista)"
   ]
  },
  {
   "cell_type": "code",
   "execution_count": null,
   "metadata": {},
   "outputs": [
    {
     "data": {
      "text/plain": [
       "list"
      ]
     },
     "execution_count": null,
     "metadata": {},
     "output_type": "execute_result"
    }
   ],
   "source": [
    "type(milista)"
   ]
  },
  {
   "cell_type": "markdown",
   "metadata": {},
   "source": [
    "**Índice**\n",
    "\n",
    "```\n",
    "milista[1]\n",
    "```"
   ]
  },
  {
   "cell_type": "code",
   "execution_count": null,
   "metadata": {},
   "outputs": [
    {
     "name": "stdout",
     "output_type": "stream",
     "text": [
      " 0        1        2        3        4        \n",
      "+--------+--------+--------+--------+--------+\n",
      "|        |        |        |        |        |\n",
      "|  uno   |    2   |    3   | python |  5.2   |\n",
      "|        |        |        |        |        |\n",
      "+--------+--------+--------+--------+--------+\n",
      "\n"
     ]
    }
   ],
   "source": [
    "show(milista)"
   ]
  },
  {
   "cell_type": "code",
   "execution_count": null,
   "metadata": {},
   "outputs": [
    {
     "data": {
      "text/plain": [
       "'python'"
      ]
     },
     "execution_count": null,
     "metadata": {},
     "output_type": "execute_result"
    }
   ],
   "source": [
    "milista[3]"
   ]
  },
  {
   "cell_type": "code",
   "execution_count": null,
   "metadata": {},
   "outputs": [
    {
     "data": {
      "text/plain": [
       "5.2"
      ]
     },
     "execution_count": null,
     "metadata": {},
     "output_type": "execute_result"
    }
   ],
   "source": [
    "# el último valor\n",
    "milista[-1]"
   ]
  },
  {
   "cell_type": "markdown",
   "metadata": {},
   "source": [
    "**Slice**\n",
    "\n",
    "Es \"un trozo\" de una lista.\n",
    "\n",
    "```python\n",
    "milista[valor1:valor2]\n",
    "```\n",
    "\n",
    "Estaremos seleccionando desde el índice `valor1` **incluído** hasta el índice `valor2` **no incluído**."
   ]
  },
  {
   "cell_type": "code",
   "execution_count": null,
   "metadata": {},
   "outputs": [
    {
     "data": {
      "text/plain": [
       "['uno', 2]"
      ]
     },
     "execution_count": null,
     "metadata": {},
     "output_type": "execute_result"
    }
   ],
   "source": [
    "milista[0:2]"
   ]
  },
  {
   "cell_type": "code",
   "execution_count": null,
   "metadata": {},
   "outputs": [
    {
     "data": {
      "text/plain": [
       "['uno', 2]"
      ]
     },
     "execution_count": null,
     "metadata": {},
     "output_type": "execute_result"
    }
   ],
   "source": [
    "milista[2:]"
   ]
  },
  {
   "cell_type": "code",
   "execution_count": null,
   "metadata": {},
   "outputs": [],
   "source": [
    "milista_dos = [8, \"nueve\", False]"
   ]
  },
  {
   "cell_type": "code",
   "execution_count": null,
   "metadata": {},
   "outputs": [],
   "source": [
    "lista_suma = milista + milista_dos"
   ]
  },
  {
   "cell_type": "code",
   "execution_count": null,
   "metadata": {},
   "outputs": [
    {
     "data": {
      "text/plain": [
       "['uno', 2, 3, 'python', 5.2, 8, 'nueve', False]"
      ]
     },
     "execution_count": null,
     "metadata": {},
     "output_type": "execute_result"
    }
   ],
   "source": [
    "lista_suma"
   ]
  },
  {
   "cell_type": "code",
   "execution_count": null,
   "metadata": {},
   "outputs": [
    {
     "name": "stdout",
     "output_type": "stream",
     "text": [
      " 0        1        2        3        4        5        6        7        \n",
      "+--------+--------+--------+--------+--------+--------+--------+--------+\n",
      "|        |        |        |        |        |        |        |        |\n",
      "|  uno   |    2   |    3   | python |  5.2   |    8   |  nueve |  False |\n",
      "|        |        |        |        |        |        |        |        |\n",
      "+--------+--------+--------+--------+--------+--------+--------+--------+\n",
      "\n"
     ]
    }
   ],
   "source": [
    "show(lista_suma)"
   ]
  },
  {
   "cell_type": "code",
   "execution_count": null,
   "metadata": {},
   "outputs": [
    {
     "data": {
      "text/plain": [
       "6"
      ]
     },
     "execution_count": null,
     "metadata": {},
     "output_type": "execute_result"
    }
   ],
   "source": [
    "lista_suma.index(\"nueve\")"
   ]
  },
  {
   "cell_type": "code",
   "execution_count": null,
   "metadata": {},
   "outputs": [
    {
     "data": {
      "text/plain": [
       "'nueve'"
      ]
     },
     "execution_count": null,
     "metadata": {},
     "output_type": "execute_result"
    }
   ],
   "source": [
    "lista_suma[6]"
   ]
  },
  {
   "cell_type": "code",
   "execution_count": null,
   "metadata": {},
   "outputs": [],
   "source": [
    "lista_suma.append(\"valor exta\")"
   ]
  },
  {
   "cell_type": "code",
   "execution_count": null,
   "metadata": {},
   "outputs": [
    {
     "data": {
      "text/plain": [
       "['uno', 2, 3, 'python', 5.2, 8, 'nueve', False, 'valor exta', 'valor exta']"
      ]
     },
     "execution_count": null,
     "metadata": {},
     "output_type": "execute_result"
    }
   ],
   "source": [
    "lista_suma"
   ]
  },
  {
   "cell_type": "code",
   "execution_count": null,
   "metadata": {},
   "outputs": [],
   "source": [
    "lista_suma.append(3)"
   ]
  },
  {
   "cell_type": "code",
   "execution_count": null,
   "metadata": {},
   "outputs": [],
   "source": [
    "# lista_suma.index(3)"
   ]
  },
  {
   "cell_type": "code",
   "execution_count": null,
   "metadata": {},
   "outputs": [],
   "source": [
    "a = [1, 2, 3]\n",
    "b = [4, 5, 6]"
   ]
  },
  {
   "cell_type": "code",
   "execution_count": null,
   "metadata": {},
   "outputs": [],
   "source": [
    "a.append(b)"
   ]
  },
  {
   "cell_type": "code",
   "execution_count": null,
   "metadata": {},
   "outputs": [
    {
     "data": {
      "text/plain": [
       "[1, 2, 3, [4, 5, 6]]"
      ]
     },
     "execution_count": null,
     "metadata": {},
     "output_type": "execute_result"
    }
   ],
   "source": [
    "a"
   ]
  },
  {
   "cell_type": "code",
   "execution_count": null,
   "metadata": {},
   "outputs": [
    {
     "data": {
      "text/plain": [
       "[4, 5, 6]"
      ]
     },
     "execution_count": null,
     "metadata": {},
     "output_type": "execute_result"
    }
   ],
   "source": [
    "a[3]"
   ]
  },
  {
   "cell_type": "code",
   "execution_count": null,
   "metadata": {},
   "outputs": [],
   "source": [
    "# a.index(\"cuarenta\")"
   ]
  },
  {
   "cell_type": "code",
   "execution_count": 5,
   "metadata": {},
   "outputs": [],
   "source": [
    "a = [1, 2, 3]"
   ]
  },
  {
   "cell_type": "code",
   "execution_count": 6,
   "metadata": {},
   "outputs": [],
   "source": [
    "nueva = a\n",
    "\n",
    "# para generar una copia de la lista\n",
    "# nueva = a.copy()"
   ]
  },
  {
   "cell_type": "code",
   "execution_count": 7,
   "metadata": {},
   "outputs": [
    {
     "name": "stdout",
     "output_type": "stream",
     "text": [
      "[1, 2, 3]\n"
     ]
    }
   ],
   "source": [
    "print(nueva)"
   ]
  },
  {
   "cell_type": "code",
   "execution_count": 8,
   "metadata": {},
   "outputs": [],
   "source": [
    "a.append(25)"
   ]
  },
  {
   "cell_type": "code",
   "execution_count": 9,
   "metadata": {},
   "outputs": [
    {
     "name": "stdout",
     "output_type": "stream",
     "text": [
      "[1, 2, 3, 25]\n"
     ]
    }
   ],
   "source": [
    "print(a)"
   ]
  },
  {
   "cell_type": "code",
   "execution_count": 10,
   "metadata": {},
   "outputs": [
    {
     "name": "stdout",
     "output_type": "stream",
     "text": [
      "[1, 2, 3, 25]\n"
     ]
    }
   ],
   "source": [
    "print(nueva)"
   ]
  },
  {
   "cell_type": "code",
   "execution_count": null,
   "metadata": {},
   "outputs": [],
   "source": [
    "x = \"curso de python\""
   ]
  },
  {
   "cell_type": "code",
   "execution_count": null,
   "metadata": {},
   "outputs": [
    {
     "data": {
      "text/plain": [
       "['curso de python', 'curso de python', 'curso de python']"
      ]
     },
     "execution_count": null,
     "metadata": {},
     "output_type": "execute_result"
    }
   ],
   "source": [
    "[x, x, x]"
   ]
  },
  {
   "cell_type": "code",
   "execution_count": null,
   "metadata": {},
   "outputs": [
    {
     "data": {
      "text/plain": [
       "['uno', 2, 3, 'python', 5.2]"
      ]
     },
     "execution_count": null,
     "metadata": {},
     "output_type": "execute_result"
    }
   ],
   "source": [
    "milista"
   ]
  },
  {
   "cell_type": "code",
   "execution_count": null,
   "metadata": {},
   "outputs": [],
   "source": [
    "milista.append(x)"
   ]
  },
  {
   "cell_type": "code",
   "execution_count": null,
   "metadata": {},
   "outputs": [
    {
     "data": {
      "text/plain": [
       "['uno', 2, 3, 'python', 5.2, 'curso de python']"
      ]
     },
     "execution_count": null,
     "metadata": {},
     "output_type": "execute_result"
    }
   ],
   "source": [
    "milista"
   ]
  },
  {
   "cell_type": "markdown",
   "metadata": {},
   "source": [
    "#### Tuples\n",
    "\n",
    "Son lo mismo que una `list` pero son inmutables. No podemos hacerle un `.append()`."
   ]
  },
  {
   "cell_type": "code",
   "execution_count": null,
   "metadata": {},
   "outputs": [],
   "source": [
    "mituple = (1, 2, 3, 4, \"cinco\", False, 23.4)"
   ]
  },
  {
   "cell_type": "code",
   "execution_count": null,
   "metadata": {},
   "outputs": [
    {
     "data": {
      "text/plain": [
       "(1, 2, 3, 4, 'cinco', False, 23.4)"
      ]
     },
     "execution_count": null,
     "metadata": {},
     "output_type": "execute_result"
    }
   ],
   "source": [
    "mituple"
   ]
  },
  {
   "cell_type": "code",
   "execution_count": null,
   "metadata": {},
   "outputs": [
    {
     "data": {
      "text/plain": [
       "[1, 2, 3, 4, 'cinco', False, 23.4]"
      ]
     },
     "execution_count": null,
     "metadata": {},
     "output_type": "execute_result"
    }
   ],
   "source": [
    "list(mituple)"
   ]
  },
  {
   "cell_type": "markdown",
   "metadata": {},
   "source": [
    "Si sustituyo la variable pierdo la anterior."
   ]
  },
  {
   "cell_type": "code",
   "execution_count": null,
   "metadata": {},
   "outputs": [],
   "source": [
    "mituple = 2"
   ]
  },
  {
   "cell_type": "markdown",
   "metadata": {},
   "source": [
    "#### Sets\n",
    "\n",
    "Son lo mismo que una `list`. Cada valor es único. No puede haber valores repetidos. Tampoco podemos indexar un `set`. Si ejecutamos `miset[0]` nos dará un error."
   ]
  },
  {
   "cell_type": "code",
   "execution_count": null,
   "metadata": {},
   "outputs": [],
   "source": [
    "lista_palabras = [\"hola\", \"python\", \"curso\", \"curso\", \"jola\", \"abecedario\"]"
   ]
  },
  {
   "cell_type": "code",
   "execution_count": null,
   "metadata": {},
   "outputs": [
    {
     "data": {
      "text/plain": [
       "{'abecedario', 'curso', 'hola', 'jola', 'python'}"
      ]
     },
     "execution_count": null,
     "metadata": {},
     "output_type": "execute_result"
    }
   ],
   "source": [
    "set(lista_palabras)"
   ]
  },
  {
   "cell_type": "code",
   "execution_count": null,
   "metadata": {},
   "outputs": [],
   "source": [
    "lista_repetidos = [1, 1, 1, 2, 3, 4, 6, 7]"
   ]
  },
  {
   "cell_type": "code",
   "execution_count": null,
   "metadata": {},
   "outputs": [
    {
     "data": {
      "text/plain": [
       "[1, 1, 1, 2, 3, 4, 6, 7]"
      ]
     },
     "execution_count": null,
     "metadata": {},
     "output_type": "execute_result"
    }
   ],
   "source": [
    "lista_repetidos"
   ]
  },
  {
   "cell_type": "code",
   "execution_count": null,
   "metadata": {},
   "outputs": [],
   "source": [
    "miset = set(lista_repetidos)"
   ]
  },
  {
   "cell_type": "code",
   "execution_count": null,
   "metadata": {},
   "outputs": [
    {
     "data": {
      "text/plain": [
       "{1, 2, 3, 4, 6, 7}"
      ]
     },
     "execution_count": null,
     "metadata": {},
     "output_type": "execute_result"
    }
   ],
   "source": [
    "miset"
   ]
  },
  {
   "cell_type": "code",
   "execution_count": null,
   "metadata": {},
   "outputs": [],
   "source": [
    "miset.add(8)"
   ]
  },
  {
   "cell_type": "code",
   "execution_count": null,
   "metadata": {},
   "outputs": [
    {
     "data": {
      "text/plain": [
       "{1, 2, 3, 4, 6, 7, 8}"
      ]
     },
     "execution_count": null,
     "metadata": {},
     "output_type": "execute_result"
    }
   ],
   "source": [
    "miset"
   ]
  },
  {
   "cell_type": "code",
   "execution_count": null,
   "metadata": {},
   "outputs": [
    {
     "data": {
      "text/plain": [
       "{6, 7, 8}"
      ]
     },
     "execution_count": null,
     "metadata": {},
     "output_type": "execute_result"
    }
   ],
   "source": [
    "miset.intersection(set([6,7,8,9,10]))"
   ]
  },
  {
   "cell_type": "markdown",
   "metadata": {},
   "source": [
    "### Membership"
   ]
  },
  {
   "cell_type": "code",
   "execution_count": null,
   "metadata": {},
   "outputs": [],
   "source": [
    "# lista_miembros = \"antonio carlos daniel david erlantz euro ivan jseus jordi miguel sebastian victor zakaria\".split()"
   ]
  },
  {
   "cell_type": "code",
   "execution_count": null,
   "metadata": {},
   "outputs": [],
   "source": [
    "lista_miembros = [\n",
    "    \"susana\",\n",
    "    \"daniel\",\n",
    "    \"david\",\n",
    "    \"jaume\",\n",
    "    \"carles\",\n",
    "    \"euro\",\n",
    "    \"ivan\",\n",
    "    \"jesus\",\n",
    "    \"jordi\",\n",
    "    \"miguel\",\n",
    "    \"sebastian\",\n",
    "    \"victor\",\n",
    "]"
   ]
  },
  {
   "cell_type": "code",
   "execution_count": null,
   "metadata": {},
   "outputs": [
    {
     "data": {
      "text/plain": [
       "True"
      ]
     },
     "execution_count": null,
     "metadata": {},
     "output_type": "execute_result"
    }
   ],
   "source": [
    "\"carles\" in lista_miembros"
   ]
  },
  {
   "cell_type": "code",
   "execution_count": null,
   "metadata": {},
   "outputs": [
    {
     "name": "stdout",
     "output_type": "stream",
     "text": [
      "está aquí\n"
     ]
    }
   ],
   "source": [
    "if \"ricardo\" in lista_miembros:\n",
    "    print(\"está aquí\")\n",
    "else:\n",
    "    print(\"¿a donde se ha ido?\")"
   ]
  },
  {
   "cell_type": "code",
   "execution_count": null,
   "metadata": {},
   "outputs": [
    {
     "data": {
      "text/plain": [
       "False"
      ]
     },
     "execution_count": null,
     "metadata": {},
     "output_type": "execute_result"
    }
   ],
   "source": [
    "10 in [1,2,3,4,5,6]"
   ]
  },
  {
   "cell_type": "markdown",
   "metadata": {},
   "source": [
    "## For loops\n",
    "\n",
    "\n",
    "`for` elemento `in` estructura:  \n",
    "      *hacer algo*"
   ]
  },
  {
   "cell_type": "code",
   "execution_count": null,
   "metadata": {},
   "outputs": [],
   "source": [
    "carles_in = False"
   ]
  },
  {
   "cell_type": "code",
   "execution_count": null,
   "metadata": {},
   "outputs": [
    {
     "data": {
      "text/plain": [
       "False"
      ]
     },
     "execution_count": null,
     "metadata": {},
     "output_type": "execute_result"
    }
   ],
   "source": [
    "carles_in"
   ]
  },
  {
   "cell_type": "code",
   "execution_count": null,
   "metadata": {},
   "outputs": [
    {
     "name": "stdout",
     "output_type": "stream",
     "text": [
      "no eres carles\n",
      "no eres carles\n",
      "no eres carles\n",
      "no eres carles\n",
      "En la lista está: carles\n",
      "Carles está en el index 4\n",
      "no eres carles\n",
      "no eres carles\n",
      "no eres carles\n",
      "no eres carles\n",
      "no eres carles\n",
      "no eres carles\n",
      "no eres carles\n"
     ]
    }
   ],
   "source": [
    "for miembro in lista_miembros:\n",
    "    if miembro == \"carles\":\n",
    "        carlos_in = True\n",
    "        print(\"En la lista está:\", miembro)\n",
    "        print(\"Carles está en el index\", lista_miembros.index(\"carles\"))\n",
    "    else:\n",
    "        print(\"no eres carles\")"
   ]
  },
  {
   "cell_type": "code",
   "execution_count": null,
   "metadata": {},
   "outputs": [
    {
     "data": {
      "text/plain": [
       "True"
      ]
     },
     "execution_count": null,
     "metadata": {},
     "output_type": "execute_result"
    }
   ],
   "source": [
    "carlos_in"
   ]
  },
  {
   "cell_type": "code",
   "execution_count": null,
   "metadata": {},
   "outputs": [
    {
     "name": "stdout",
     "output_type": "stream",
     "text": [
      "0\n",
      "1\n",
      "2\n",
      "3\n",
      "4\n",
      "5\n",
      "6\n",
      "7\n",
      "8\n",
      "9\n"
     ]
    }
   ],
   "source": [
    "for i in range(0, 10):\n",
    "    print(i)"
   ]
  },
  {
   "cell_type": "markdown",
   "metadata": {},
   "source": [
    "## Dictionaries"
   ]
  },
  {
   "cell_type": "code",
   "execution_count": null,
   "metadata": {},
   "outputs": [],
   "source": [
    "midiccionario = {\"ricardo\": \"profesor\", \"susana\": \"alumna\", \"numero de alumnos\": 8}"
   ]
  },
  {
   "cell_type": "code",
   "execution_count": null,
   "metadata": {},
   "outputs": [
    {
     "data": {
      "text/plain": [
       "{'ricardo': 'profesor', 'susana': 'alumna', 'numero de alumnos': 8}"
      ]
     },
     "execution_count": null,
     "metadata": {},
     "output_type": "execute_result"
    }
   ],
   "source": [
    "midiccionario"
   ]
  },
  {
   "cell_type": "code",
   "execution_count": null,
   "metadata": {},
   "outputs": [
    {
     "data": {
      "text/plain": [
       "8"
      ]
     },
     "execution_count": null,
     "metadata": {},
     "output_type": "execute_result"
    }
   ],
   "source": [
    "midiccionario[\"numero de alumnos\"]"
   ]
  },
  {
   "cell_type": "code",
   "execution_count": null,
   "metadata": {},
   "outputs": [
    {
     "data": {
      "text/plain": [
       "dict_values(['profesor', 'alumna', 8])"
      ]
     },
     "execution_count": null,
     "metadata": {},
     "output_type": "execute_result"
    }
   ],
   "source": [
    "midiccionario.values()"
   ]
  },
  {
   "cell_type": "code",
   "execution_count": null,
   "metadata": {},
   "outputs": [
    {
     "name": "stdout",
     "output_type": "stream",
     "text": [
      "ricardo\n",
      "susana\n",
      "numero de alumnos\n"
     ]
    }
   ],
   "source": [
    "for llave in midiccionario.keys():\n",
    "    print(llave)"
   ]
  },
  {
   "cell_type": "code",
   "execution_count": null,
   "metadata": {},
   "outputs": [
    {
     "name": "stdout",
     "output_type": "stream",
     "text": [
      "ricardo\n",
      "susana\n",
      "numero de alumnos\n"
     ]
    }
   ],
   "source": [
    "for item in midiccionario.items():\n",
    "    print(item[0])"
   ]
  },
  {
   "cell_type": "code",
   "execution_count": null,
   "metadata": {},
   "outputs": [
    {
     "name": "stdout",
     "output_type": "stream",
     "text": [
      "La llave es: ricardo\n",
      "El valor es: profesor\n",
      "La llave es: susana\n",
      "El valor es: alumna\n",
      "La llave es: numero de alumnos\n",
      "El valor es: 8\n"
     ]
    }
   ],
   "source": [
    "for llave, valor in midiccionario.items():\n",
    "    print(\"La llave es:\", llave)\n",
    "    print(\"El valor es:\", valor)"
   ]
  },
  {
   "cell_type": "code",
   "execution_count": null,
   "metadata": {},
   "outputs": [],
   "source": [
    "significado = {\"codi_gmb\": \"codigo de noseque\"}"
   ]
  },
  {
   "cell_type": "code",
   "execution_count": null,
   "metadata": {},
   "outputs": [
    {
     "data": {
      "text/plain": [
       "'codigo de noseque'"
      ]
     },
     "execution_count": null,
     "metadata": {},
     "output_type": "execute_result"
    }
   ],
   "source": [
    "significado[\"codi_gmb\"]"
   ]
  },
  {
   "cell_type": "code",
   "execution_count": null,
   "metadata": {},
   "outputs": [
    {
     "data": {
      "text/plain": [
       "1"
      ]
     },
     "execution_count": null,
     "metadata": {},
     "output_type": "execute_result"
    }
   ],
   "source": [
    "int(\"1\")"
   ]
  },
  {
   "cell_type": "code",
   "execution_count": null,
   "metadata": {},
   "outputs": [
    {
     "data": {
      "text/plain": [
       "'1'"
      ]
     },
     "execution_count": null,
     "metadata": {},
     "output_type": "execute_result"
    }
   ],
   "source": [
    "str(1)"
   ]
  },
  {
   "cell_type": "code",
   "execution_count": 15,
   "metadata": {},
   "outputs": [],
   "source": [
    "midic = {}"
   ]
  },
  {
   "cell_type": "code",
   "execution_count": 17,
   "metadata": {},
   "outputs": [],
   "source": [
    "midic[\"llave 1\"] = \"valor2\""
   ]
  },
  {
   "cell_type": "code",
   "execution_count": 18,
   "metadata": {},
   "outputs": [
    {
     "data": {
      "text/plain": [
       "{'llave 1': 'valor2'}"
      ]
     },
     "execution_count": 18,
     "metadata": {},
     "output_type": "execute_result"
    }
   ],
   "source": [
    "midic"
   ]
  },
  {
   "cell_type": "code",
   "execution_count": null,
   "metadata": {},
   "outputs": [],
   "source": [
    "for i in range(0, 10_000):\n",
    "    midiccionario[str(i)] = \"profesor\""
   ]
  },
  {
   "cell_type": "code",
   "execution_count": null,
   "metadata": {},
   "outputs": [
    {
     "data": {
      "text/plain": [
       "'profesor'"
      ]
     },
     "execution_count": null,
     "metadata": {},
     "output_type": "execute_result"
    }
   ],
   "source": [
    "midiccionario[\"124\"]"
   ]
  },
  {
   "cell_type": "code",
   "execution_count": null,
   "metadata": {},
   "outputs": [],
   "source": [
    "midiccionario[\"pedro\"] = \"alumno\""
   ]
  },
  {
   "cell_type": "code",
   "execution_count": null,
   "metadata": {},
   "outputs": [
    {
     "data": {
      "text/plain": [
       "{'ricardo': 'profesor',\n",
       " 'susana': 'alumna',\n",
       " 'numero de alumnos': 8,\n",
       " 'pedro': 'alumno'}"
      ]
     },
     "execution_count": null,
     "metadata": {},
     "output_type": "execute_result"
    }
   ],
   "source": [
    "midiccionario"
   ]
  },
  {
   "cell_type": "code",
   "execution_count": 20,
   "metadata": {},
   "outputs": [],
   "source": [
    "from random import randint\n",
    "\n",
    "equipos = {\n",
    "    \"pc1\": [randint(0, 20) for _ in range(20)],\n",
    "    \"pc2\": [randint(0, 20) for _ in range(20)],\n",
    "    \"pc3\": [randint(0, 20) for _ in range(20)],\n",
    "    \"pc4\": [randint(0, 20) for _ in range(20)],\n",
    "}\n",
    "\n",
    "\n",
    "nombres_pc = {\n",
    "    \"pc1\": \"observability\",\n",
    "    \"pc2\": \"site reliability\",\n",
    "    \"pc3\": \"ip management\",\n",
    "    \"pc4\": \"support\",\n",
    "}"
   ]
  },
  {
   "cell_type": "markdown",
   "metadata": {},
   "source": [
    "## Ejercicio\n",
    "\n",
    "* Iterar sobre la lista de equipos.\n",
    "* En cada equipo (pc), iterar sobre sus elementos y sumarlos.\n",
    "    * Si un equipo suma > de 200: imprimir el nombre del pc (diccionario `nombres_pc`)"
   ]
  },
  {
   "cell_type": "code",
   "execution_count": null,
   "metadata": {},
   "outputs": [],
   "source": [
    "# suma = 0"
   ]
  },
  {
   "cell_type": "code",
   "execution_count": null,
   "metadata": {},
   "outputs": [
    {
     "name": "stdout",
     "output_type": "stream",
     "text": [
      "el pc ip management tiene mas de 200\n"
     ]
    }
   ],
   "source": [
    "for nombre, valores in equipos.items():\n",
    "        \n",
    "    if sum(valores) > 200:\n",
    "        print(\"el pc\", nombres_pc[nombre], \"tiene mas de 200\")\n",
    "    \n",
    "    suma = 0"
   ]
  },
  {
   "cell_type": "markdown",
   "metadata": {},
   "source": [
    "### Ejercicio\n",
    "\n",
    "Con la lista `lista_miembros`.\n",
    "* Añadir al final de la lista el item `\"ricardo\"`\n",
    "* Iterar sobre esta lista:\n",
    "    * Si el nombre == \"ricardo\": imprimir \"ricardo está aquí\"\n",
    "    * Si el nombre no es \"ricardo\": imprimir print(\"soy un alumno:\", alumno)\n",
    "    \n",
    "**Extra**:\n",
    "* Crear una variable GLOBAL: `x = 0`\n",
    "* Por cada miembro. Si el nombre del miembro contiene la letra \"i\", sumad +1 a la variable `x`"
   ]
  },
  {
   "cell_type": "code",
   "execution_count": null,
   "metadata": {},
   "outputs": [],
   "source": [
    "lista_miembros.append(\"ricardo\")"
   ]
  },
  {
   "cell_type": "markdown",
   "metadata": {},
   "source": [
    "A ver si el último valor de la lista es \"ricardo\":"
   ]
  },
  {
   "cell_type": "code",
   "execution_count": null,
   "metadata": {},
   "outputs": [
    {
     "data": {
      "text/plain": [
       "'ricardo'"
      ]
     },
     "execution_count": null,
     "metadata": {},
     "output_type": "execute_result"
    }
   ],
   "source": [
    "lista_miembros[-1]"
   ]
  },
  {
   "cell_type": "code",
   "execution_count": null,
   "metadata": {},
   "outputs": [
    {
     "name": "stdout",
     "output_type": "stream",
     "text": [
      "student\n",
      "student\n",
      "student\n",
      "student\n",
      "student\n",
      "student\n",
      "student\n",
      "student\n",
      "student\n",
      "student\n",
      "student\n",
      "student\n",
      "student\n",
      "ricardo está aquí\n"
     ]
    }
   ],
   "source": [
    "x = 0\n",
    "\n",
    "for nombre in lista_miembros:\n",
    "    if nombre == \"ricardo\":\n",
    "        print(\"ricardo está aquí\")\n",
    "    else:\n",
    "        print(\"student\")\n",
    "\n",
    "    if \"i\" in nombre:\n",
    "        x += 1"
   ]
  },
  {
   "cell_type": "markdown",
   "metadata": {},
   "source": [
    "## Funciones"
   ]
  },
  {
   "cell_type": "code",
   "execution_count": null,
   "metadata": {},
   "outputs": [],
   "source": [
    "x = 1"
   ]
  },
  {
   "cell_type": "code",
   "execution_count": null,
   "metadata": {},
   "outputs": [
    {
     "name": "stdout",
     "output_type": "stream",
     "text": [
      "1\n"
     ]
    }
   ],
   "source": [
    "print(x)"
   ]
  },
  {
   "cell_type": "code",
   "execution_count": null,
   "metadata": {},
   "outputs": [],
   "source": [
    "def mifuncion():\n",
    "    print(\"dentro de la función\")"
   ]
  },
  {
   "cell_type": "code",
   "execution_count": null,
   "metadata": {},
   "outputs": [
    {
     "data": {
      "text/plain": [
       "<function __main__.mifuncion()>"
      ]
     },
     "execution_count": null,
     "metadata": {},
     "output_type": "execute_result"
    }
   ],
   "source": [
    "# no se ejecuta\n",
    "mifuncion"
   ]
  },
  {
   "cell_type": "code",
   "execution_count": null,
   "metadata": {},
   "outputs": [
    {
     "name": "stdout",
     "output_type": "stream",
     "text": [
      "dentro de la función\n"
     ]
    }
   ],
   "source": [
    "# usamos paréntesis para ejecutarla\n",
    "mifuncion()"
   ]
  },
  {
   "cell_type": "code",
   "execution_count": null,
   "metadata": {},
   "outputs": [],
   "source": [
    "def mifuncion(param1):\n",
    "    \n",
    "    print(param1)"
   ]
  },
  {
   "cell_type": "code",
   "execution_count": null,
   "metadata": {},
   "outputs": [
    {
     "name": "stdout",
     "output_type": "stream",
     "text": [
      "curso\n"
     ]
    }
   ],
   "source": [
    "mifuncion(\"curso\")"
   ]
  },
  {
   "cell_type": "code",
   "execution_count": null,
   "metadata": {},
   "outputs": [
    {
     "name": "stdout",
     "output_type": "stream",
     "text": [
      "una cadena de texto\n"
     ]
    }
   ],
   "source": [
    "mifuncion(param1 = \"una cadena de texto\")"
   ]
  },
  {
   "cell_type": "code",
   "execution_count": null,
   "metadata": {},
   "outputs": [],
   "source": [
    "def suma(a, b):\n",
    "    \n",
    "    resultado = a + b\n",
    "    print(\"El resultado es:\", resultado)\n",
    "    \n",
    "    return resultado"
   ]
  },
  {
   "cell_type": "code",
   "execution_count": null,
   "metadata": {},
   "outputs": [
    {
     "name": "stdout",
     "output_type": "stream",
     "text": [
      "El resultado es: 3\n"
     ]
    },
    {
     "data": {
      "text/plain": [
       "3"
      ]
     },
     "execution_count": null,
     "metadata": {},
     "output_type": "execute_result"
    }
   ],
   "source": [
    "suma(1, 2)"
   ]
  },
  {
   "cell_type": "code",
   "execution_count": null,
   "metadata": {},
   "outputs": [
    {
     "name": "stdout",
     "output_type": "stream",
     "text": [
      "El resultado es: 45\n"
     ]
    }
   ],
   "source": [
    "res = suma(20, 25)"
   ]
  },
  {
   "cell_type": "code",
   "execution_count": null,
   "metadata": {},
   "outputs": [
    {
     "data": {
      "text/plain": [
       "45"
      ]
     },
     "execution_count": null,
     "metadata": {},
     "output_type": "execute_result"
    }
   ],
   "source": [
    "res"
   ]
  },
  {
   "cell_type": "markdown",
   "metadata": {},
   "source": [
    "\"Desempaquetar\" variables devueltas por una función."
   ]
  },
  {
   "cell_type": "code",
   "execution_count": null,
   "metadata": {},
   "outputs": [],
   "source": [
    "def suma(a, b):\n",
    "    \n",
    "    resultado = a + b\n",
    "    print(\"El resultado es:\", resultado)\n",
    "    \n",
    "    return resultado, a, b"
   ]
  },
  {
   "cell_type": "code",
   "execution_count": null,
   "metadata": {},
   "outputs": [
    {
     "name": "stdout",
     "output_type": "stream",
     "text": [
      "El resultado es: 6\n"
     ]
    }
   ],
   "source": [
    "res = suma(1,5)"
   ]
  },
  {
   "cell_type": "markdown",
   "metadata": {},
   "source": [
    "`res` es un `tuple` con los 3 valores que la función nos ha devuelto."
   ]
  },
  {
   "cell_type": "code",
   "execution_count": null,
   "metadata": {},
   "outputs": [
    {
     "data": {
      "text/plain": [
       "(6, 1, 5)"
      ]
     },
     "execution_count": null,
     "metadata": {},
     "output_type": "execute_result"
    }
   ],
   "source": [
    "res"
   ]
  },
  {
   "cell_type": "markdown",
   "metadata": {},
   "source": [
    "Así los \"desempaquetamos\":"
   ]
  },
  {
   "cell_type": "code",
   "execution_count": null,
   "metadata": {},
   "outputs": [
    {
     "name": "stdout",
     "output_type": "stream",
     "text": [
      "El resultado es: 6\n"
     ]
    }
   ],
   "source": [
    "res, var1, var2 = suma(1,5)"
   ]
  },
  {
   "cell_type": "code",
   "execution_count": null,
   "metadata": {},
   "outputs": [
    {
     "name": "stdout",
     "output_type": "stream",
     "text": [
      "6\n",
      "1\n",
      "5\n"
     ]
    }
   ],
   "source": [
    "print(res)\n",
    "print(var1)\n",
    "print(var2)"
   ]
  },
  {
   "cell_type": "markdown",
   "metadata": {},
   "source": [
    "Usamos `_` para indicar que queremos descartar esa variable."
   ]
  },
  {
   "cell_type": "code",
   "execution_count": null,
   "metadata": {},
   "outputs": [],
   "source": [
    "# no hagáis caso a esto, solo está aquí para que se cumpla lo que viene a continuación\n",
    "# cuando usamos `del` estamos indicándole a Python que elimine ese objecto. Se puede usar `del` con cualquier objecto de python.\n",
    "del res\n",
    "del var1\n",
    "del var2"
   ]
  },
  {
   "cell_type": "code",
   "execution_count": null,
   "metadata": {},
   "outputs": [
    {
     "name": "stdout",
     "output_type": "stream",
     "text": [
      "El resultado es: 6\n"
     ]
    }
   ],
   "source": [
    "res, var1, _ = suma(1,5)"
   ]
  },
  {
   "cell_type": "markdown",
   "metadata": {},
   "source": [
    "Si hacemos `print(var2)` nos dará error porque no exista. Se puede des-comentar esa línea para comprobarlo."
   ]
  },
  {
   "cell_type": "code",
   "execution_count": null,
   "metadata": {},
   "outputs": [
    {
     "name": "stdout",
     "output_type": "stream",
     "text": [
      "6\n",
      "1\n"
     ]
    }
   ],
   "source": [
    "print(res)\n",
    "print(var1)\n",
    "# print(var2)"
   ]
  },
  {
   "cell_type": "markdown",
   "metadata": {},
   "source": [
    "### Valores por defecto en los parámetros"
   ]
  },
  {
   "cell_type": "code",
   "execution_count": 15,
   "metadata": {},
   "outputs": [],
   "source": [
    "def suma_por_defecto(a, b=2):\n",
    "    \n",
    "    print(\"A es:\", a)\n",
    "    print(\"B es:\", b)\n",
    "    \n",
    "    resultado = a + b\n",
    "\n",
    "    return resultado"
   ]
  },
  {
   "cell_type": "code",
   "execution_count": 16,
   "metadata": {},
   "outputs": [
    {
     "name": "stdout",
     "output_type": "stream",
     "text": [
      "A es: 1\n",
      "B es: 2\n"
     ]
    },
    {
     "data": {
      "text/plain": [
       "3"
      ]
     },
     "execution_count": 16,
     "metadata": {},
     "output_type": "execute_result"
    }
   ],
   "source": [
    "suma_por_defecto(1)"
   ]
  },
  {
   "cell_type": "code",
   "execution_count": null,
   "metadata": {},
   "outputs": [
    {
     "name": "stdout",
     "output_type": "stream",
     "text": [
      "A es: 1\n",
      "B es: 5\n"
     ]
    },
    {
     "data": {
      "text/plain": [
       "6"
      ]
     },
     "execution_count": null,
     "metadata": {},
     "output_type": "execute_result"
    }
   ],
   "source": [
    "suma_por_defecto(1, 5)"
   ]
  },
  {
   "cell_type": "code",
   "execution_count": null,
   "metadata": {},
   "outputs": [
    {
     "name": "stdout",
     "output_type": "stream",
     "text": [
      "A es: 1\n",
      "B es: 62\n"
     ]
    },
    {
     "data": {
      "text/plain": [
       "63"
      ]
     },
     "execution_count": null,
     "metadata": {},
     "output_type": "execute_result"
    }
   ],
   "source": [
    "suma_por_defecto(a=1, b=62)"
   ]
  },
  {
   "cell_type": "markdown",
   "metadata": {},
   "source": [
    "### Cuidado con usar listas como valor por defecto e una función!"
   ]
  },
  {
   "cell_type": "code",
   "execution_count": null,
   "metadata": {},
   "outputs": [],
   "source": [
    "def añadir_a_lista(valor, mylist=[]):\n",
    "    \n",
    "    mylist.append(valor)\n",
    "\n",
    "    print(mylist)"
   ]
  },
  {
   "cell_type": "code",
   "execution_count": null,
   "metadata": {},
   "outputs": [
    {
     "name": "stdout",
     "output_type": "stream",
     "text": [
      "[1, 1, 1, 1, 1, 1, 1]\n"
     ]
    }
   ],
   "source": [
    "añadir_a_lista(valor=1)"
   ]
  },
  {
   "cell_type": "markdown",
   "metadata": {},
   "source": [
    "### Ejercicio\n",
    "\n",
    "```python\n",
    "def añadir_a_lista(valor, mylist=[]):\n",
    "    \n",
    "    ######### AQUÍ ########\n",
    "    # check de la longitud de la lista\n",
    "    # si la longitud > 0 ---> mylist = []\n",
    "    # si la longitud == 0 ---> seguir normarl\n",
    "    \n",
    "    mylist.append(valor)\n",
    "    \n",
    "    ############\n",
    "    # aparte del print, usar un return\n",
    "    print(mylist)\n",
    "\n",
    "```\n",
    "\n",
    "* Por último, capturar la lista devuelta por ese `return`."
   ]
  },
  {
   "cell_type": "markdown",
   "metadata": {},
   "source": [
    "**Opción 1**"
   ]
  },
  {
   "cell_type": "code",
   "execution_count": null,
   "metadata": {},
   "outputs": [],
   "source": [
    "def añadir_a_lista(valor, mylist=[]):\n",
    "\n",
    "    if len(mylist) > 0:\n",
    "        mylist = []\n",
    "\n",
    "    mylist.append(valor)\n",
    "\n",
    "    return mylist"
   ]
  },
  {
   "cell_type": "markdown",
   "metadata": {},
   "source": [
    "**Opción 2**  \n",
    "Válido, pero estamos poniendo complejidad añadida de forma innecesaria."
   ]
  },
  {
   "cell_type": "code",
   "execution_count": null,
   "metadata": {},
   "outputs": [],
   "source": [
    "def añadir_a_lista(valor, mylist=[]):\n",
    "    \n",
    "    mylist = mylist.clear()\n",
    "\n",
    "    mylist.append(valor)\n",
    "\n",
    "    return mylist"
   ]
  },
  {
   "cell_type": "markdown",
   "metadata": {},
   "source": [
    "**Opción 3**\n",
    "\n",
    "Forma correcta.\n",
    "\n",
    "Si queremos tener siempre una lista vacía al iniciar la ejecución de la función: ¿por qué no directamente declarar la variable DENTRO de la función?"
   ]
  },
  {
   "cell_type": "code",
   "execution_count": null,
   "metadata": {},
   "outputs": [],
   "source": [
    "def añadir_a_lista(valor):\n",
    "\n",
    "    mylist = []\n",
    "\n",
    "    mylist.append(valor)\n",
    "\n",
    "    return mylist"
   ]
  },
  {
   "cell_type": "markdown",
   "metadata": {},
   "source": [
    "Crear una función para esto en Python no tendría ningún sentido. Si queremos añadir algo a una lista solo tenemos que usar directamente `.append()`. Los ejemplos se han usado para repasar lo que se ha visto al inicio y para tener en cuenta algunas consideraciones a la hora de programar.\n",
    "\n",
    "Y ante la duda -> Google"
   ]
  },
  {
   "cell_type": "markdown",
   "metadata": {},
   "source": [
    "### Ejercicio\n",
    "\n",
    "* Crear dos variables que sea una listas vacías\n",
    "* Buscar sobre todas las palabras de la lista.\n",
    "* Si una palabra contiene \"e\", añadir a la primera de las listas anteriores.\n",
    "* Si contiene \"a\" imprimir la palabra.\n",
    "* Si no, añadir a la segunda lista que hemos creado el ÍNDICE de esta palabra\n",
    "\n",
    "**Extra (avisadme de que tenéis hecha la parte de arriba antes de poneros con esto!)**:\n",
    "* Crear una lista nueva que sea una copia de esta pero invertida. Es decir, que empiece con \"language\" y termine con \"Python\".\n",
    "* Crear dos listas y que cada una de ellas sea la mitad de esta lista. Si esta lista tiene una longitud == *número impar* la primera de las dos listas debe ser la más larga. Por ejemplo, si la lista tiene longitud == 11, una lista deben ser los 6 primeros elementos y otra lista los últimos 5."
   ]
  },
  {
   "cell_type": "code",
   "execution_count": 17,
   "metadata": {},
   "outputs": [],
   "source": [
    "mylist = [\n",
    "    \"Python\",\n",
    "    \"was\",\n",
    "    \"conceived\",\n",
    "    \"in\",\n",
    "    \"the\",\n",
    "    \"late\",\n",
    "    \"1980s[34]\",\n",
    "    \"by\",\n",
    "    \"Guido\",\n",
    "    \"van\",\n",
    "    \"Rossum\",\n",
    "    \"at\",\n",
    "    \"Centrum\",\n",
    "    \"Wiskunde\",\n",
    "    \"&\",\n",
    "    \"Informatica\",\n",
    "    \"(CWI)\",\n",
    "    \"in\",\n",
    "    \"the\",\n",
    "    \"Netherlands\",\n",
    "    \"as\",\n",
    "    \"a\",\n",
    "    \"successor\",\n",
    "    \"to\",\n",
    "    \"the\",\n",
    "    \"ABC\",\n",
    "    \"language\",\n",
    "]"
   ]
  },
  {
   "cell_type": "code",
   "execution_count": null,
   "metadata": {},
   "outputs": [
    {
     "name": "stdout",
     "output_type": "stream",
     "text": [
      "was\n",
      "late\n",
      "van\n",
      "at\n",
      "Informatica\n",
      "Netherlands\n",
      "as\n",
      "a\n",
      "language\n"
     ]
    }
   ],
   "source": [
    "lista_con_e = []\n",
    "lista_indices = []\n",
    "\n",
    "for palabra in mylist:\n",
    "    \n",
    "    ### CODE ###\n",
    "    if \"e\" in palabra:\n",
    "        lista_con_e.append(palabra)\n",
    "        \n",
    "    if \"a\" in palabra:\n",
    "        print(palabra)\n",
    "        \n",
    "    else:\n",
    "        indice = mylist.index(palabra)\n",
    "        lista_indices.append(indice)\n",
    "    "
   ]
  },
  {
   "cell_type": "code",
   "execution_count": null,
   "metadata": {},
   "outputs": [],
   "source": []
  },
  {
   "cell_type": "code",
   "execution_count": null,
   "metadata": {},
   "outputs": [
    {
     "name": "stdout",
     "output_type": "stream",
     "text": [
      "nothing: Python\n",
      "was\n",
      "nothing: in\n",
      "late\n",
      "nothing: 1980s[34]\n",
      "nothing: by\n",
      "nothing: Guido\n",
      "van\n",
      "nothing: Rossum\n",
      "at\n",
      "nothing: &\n",
      "Informatica\n",
      "nothing: (CWI)\n",
      "nothing: in\n",
      "Netherlands\n",
      "as\n",
      "a\n",
      "nothing: to\n",
      "nothing: ABC\n",
      "language\n"
     ]
    }
   ],
   "source": [
    "lista_con_e = []\n",
    "lista_indices = []\n",
    "\n",
    "for palabra in mylist:\n",
    "\n",
    "    if \"e\" in palabra:\n",
    "        lista_con_e.append(palabra)\n",
    "\n",
    "    if \"a\" in palabra:\n",
    "        print(palabra)\n",
    "\n",
    "    if (\"e\" not in palabra) and (\"a\" not in palabra):\n",
    "        print(\"nothing:\", palabra)\n",
    "        lista_indices.append(mylist.index(palabra))"
   ]
  },
  {
   "cell_type": "markdown",
   "metadata": {},
   "source": [
    "Para ordenar una lista:"
   ]
  },
  {
   "cell_type": "code",
   "execution_count": 19,
   "metadata": {},
   "outputs": [
    {
     "data": {
      "text/plain": [
       "['&',\n",
       " '(CWI)',\n",
       " 'ABC',\n",
       " '1980s[34]',\n",
       " 'Informatica',\n",
       " 'a',\n",
       " 'conceived',\n",
       " 'the',\n",
       " 'late',\n",
       " 'Wiskunde',\n",
       " 'the',\n",
       " 'the',\n",
       " 'language',\n",
       " 'Rossum',\n",
       " 'Centrum',\n",
       " 'Python',\n",
       " 'in',\n",
       " 'van',\n",
       " 'in',\n",
       " 'Guido',\n",
       " 'to',\n",
       " 'successor',\n",
       " 'was',\n",
       " 'Netherlands',\n",
       " 'as',\n",
       " 'at',\n",
       " 'by']"
      ]
     },
     "execution_count": 19,
     "metadata": {},
     "output_type": "execute_result"
    }
   ],
   "source": [
    "sorted(mylist)"
   ]
  },
  {
   "cell_type": "code",
   "execution_count": null,
   "metadata": {},
   "outputs": [],
   "source": [
    "primera_mitad = None\n",
    "segunda_mitad = None\n",
    "\n",
    "longitud = len(mylist)\n",
    "\n",
    "import math"
   ]
  },
  {
   "cell_type": "code",
   "execution_count": null,
   "metadata": {},
   "outputs": [
    {
     "data": {
      "text/plain": [
       "27"
      ]
     },
     "execution_count": null,
     "metadata": {},
     "output_type": "execute_result"
    }
   ],
   "source": [
    "len(mylist)"
   ]
  },
  {
   "cell_type": "code",
   "execution_count": null,
   "metadata": {},
   "outputs": [],
   "source": [
    "primera_mitad = math.ceil(longitud / 2)\n",
    "\n",
    "lista_m1 = mylist[:primera_mitad]\n",
    "\n",
    "lista_m2 = mylist[primera_mitad:]"
   ]
  },
  {
   "cell_type": "code",
   "execution_count": null,
   "metadata": {},
   "outputs": [],
   "source": [
    "# mylist[::-1]"
   ]
  },
  {
   "cell_type": "code",
   "execution_count": null,
   "metadata": {},
   "outputs": [],
   "source": [
    "lista_invertida = list(reversed(mylist))"
   ]
  },
  {
   "cell_type": "code",
   "execution_count": null,
   "metadata": {},
   "outputs": [
    {
     "data": {
      "text/plain": [
       "<list_reverseiterator at 0x10b061710>"
      ]
     },
     "execution_count": null,
     "metadata": {},
     "output_type": "execute_result"
    }
   ],
   "source": [
    "reversed(mylist)"
   ]
  },
  {
   "cell_type": "markdown",
   "metadata": {},
   "source": [
    "## Strings!"
   ]
  },
  {
   "cell_type": "markdown",
   "metadata": {},
   "source": [
    "* .split()\n",
    "* .replace()\n",
    "* .lower()\n",
    "* .strip\n",
    "* \"\".join\n",
    "* f-strings\n",
    "    * `f\"texto {variable} text {mifuncion(parametro1, parametro2)}\"`"
   ]
  },
  {
   "cell_type": "code",
   "execution_count": null,
   "metadata": {},
   "outputs": [],
   "source": [
    "s = \"Python 2.0 was released, on 16 October 2000 with, many major new features Python\""
   ]
  },
  {
   "cell_type": "markdown",
   "metadata": {},
   "source": [
    "Split divide un string por el caracter que indiquemos. Si se deja vacio utiliza los espacios. Nos devuelve una lista con los items.\n",
    "\n",
    "El caracter por donde dividimos se elimina. Por ejemplo aquí dividimos la frase en 3 por las comas (,)."
   ]
  },
  {
   "cell_type": "code",
   "execution_count": null,
   "metadata": {},
   "outputs": [
    {
     "data": {
      "text/plain": [
       "['Python 2.0 was released',\n",
       " ' on 16 October 2000 with',\n",
       " ' many major new features']"
      ]
     },
     "execution_count": null,
     "metadata": {},
     "output_type": "execute_result"
    }
   ],
   "source": [
    "s.split(\",\")"
   ]
  },
  {
   "cell_type": "markdown",
   "metadata": {},
   "source": [
    "Podemos reemplazar partes del texto. También podemos encadenar métodos."
   ]
  },
  {
   "cell_type": "code",
   "execution_count": null,
   "metadata": {},
   "outputs": [
    {
     "data": {
      "text/plain": [
       "'Julia 2.0 was released, on 16 October 2000 with, many major new features Julia'"
      ]
     },
     "execution_count": null,
     "metadata": {},
     "output_type": "execute_result"
    }
   ],
   "source": [
    "s.replace(\"Python\", \"Julia\")"
   ]
  },
  {
   "cell_type": "code",
   "execution_count": null,
   "metadata": {},
   "outputs": [
    {
     "data": {
      "text/plain": [
       "'Julia 2.0 was released, on 16 October 2020 with, many major new features Julia'"
      ]
     },
     "execution_count": null,
     "metadata": {},
     "output_type": "execute_result"
    }
   ],
   "source": [
    "s.replace(\"Python\", \"Julia\").replace(\"2000\", \"2020\").split(\",\")"
   ]
  },
  {
   "cell_type": "code",
   "execution_count": null,
   "metadata": {},
   "outputs": [],
   "source": [
    "str_con_espacios = \"   aosidoasid string sucio  \""
   ]
  },
  {
   "cell_type": "markdown",
   "metadata": {},
   "source": [
    "`.strip()` elimina los espacios de los laterales,"
   ]
  },
  {
   "cell_type": "code",
   "execution_count": null,
   "metadata": {},
   "outputs": [
    {
     "data": {
      "text/plain": [
       "'aosidoasid string sucio'"
      ]
     },
     "execution_count": null,
     "metadata": {},
     "output_type": "execute_result"
    }
   ],
   "source": [
    "str_con_espacios.strip()"
   ]
  },
  {
   "cell_type": "markdown",
   "metadata": {},
   "source": [
    "`.lower()` convierte todo en minúsculas. Útil para asegurarnos de que trabajamos siempre con el texto igual y nos evitamos problemas ya que podríamos procesar de manera diferente una palabra que empiece o no por mayúsculas. Obviamente si las mayúsculas/minúsculas son importantes mejor no usarlo."
   ]
  },
  {
   "cell_type": "code",
   "execution_count": null,
   "metadata": {},
   "outputs": [
    {
     "data": {
      "text/plain": [
       "'python 2.0 was released, on 16 october 2000 with, many major new features'"
      ]
     },
     "execution_count": null,
     "metadata": {},
     "output_type": "execute_result"
    }
   ],
   "source": [
    "s.lower()"
   ]
  },
  {
   "cell_type": "markdown",
   "metadata": {},
   "source": [
    "Mayúsculas"
   ]
  },
  {
   "cell_type": "code",
   "execution_count": null,
   "metadata": {},
   "outputs": [
    {
     "data": {
      "text/plain": [
       "'PYTHON 2.0 WAS RELEASED, ON 16 OCTOBER 2000 WITH, MANY MAJOR NEW FEATURES PYTHON'"
      ]
     },
     "execution_count": null,
     "metadata": {},
     "output_type": "execute_result"
    }
   ],
   "source": [
    "s.upper()"
   ]
  },
  {
   "cell_type": "markdown",
   "metadata": {},
   "source": [
    "Las *raw* strings nos permiten interpretar los caracteres \"tal cual\". Útiles por ejemplo para trabajar con *regular expressions*."
   ]
  },
  {
   "cell_type": "code",
   "execution_count": null,
   "metadata": {},
   "outputs": [],
   "source": [
    "texto = r\"linea\\nlinea2\""
   ]
  },
  {
   "cell_type": "code",
   "execution_count": null,
   "metadata": {},
   "outputs": [
    {
     "name": "stdout",
     "output_type": "stream",
     "text": [
      "linea\\nlinea2\n"
     ]
    }
   ],
   "source": [
    "print(texto)"
   ]
  },
  {
   "cell_type": "code",
   "execution_count": null,
   "metadata": {},
   "outputs": [],
   "source": [
    "s = r\"texto texto text \\' '\""
   ]
  },
  {
   "cell_type": "code",
   "execution_count": null,
   "metadata": {},
   "outputs": [
    {
     "data": {
      "text/plain": [
       "\"texto texto text \\\\' '\""
      ]
     },
     "execution_count": null,
     "metadata": {},
     "output_type": "execute_result"
    }
   ],
   "source": [
    "s"
   ]
  },
  {
   "cell_type": "code",
   "execution_count": null,
   "metadata": {},
   "outputs": [
    {
     "name": "stdout",
     "output_type": "stream",
     "text": [
      "texto texto text \\' '\n"
     ]
    }
   ],
   "source": [
    "print(\"texto texto text \\\\' '\")"
   ]
  },
  {
   "cell_type": "code",
   "execution_count": null,
   "metadata": {},
   "outputs": [],
   "source": [
    "def suma(a, b):\n",
    "    return a + b"
   ]
  },
  {
   "cell_type": "markdown",
   "metadata": {},
   "source": [
    "Textos multi-línea"
   ]
  },
  {
   "cell_type": "code",
   "execution_count": null,
   "metadata": {},
   "outputs": [
    {
     "name": "stdout",
     "output_type": "stream",
     "text": [
      "linea1\n",
      "linea2\n"
     ]
    }
   ],
   "source": [
    "print(\"linea1\\nlinea2\")"
   ]
  },
  {
   "cell_type": "code",
   "execution_count": null,
   "metadata": {},
   "outputs": [],
   "source": [
    "texto_multilinea = \"\"\"\n",
    "asd\n",
    "asd\n",
    "asf\n",
    "\n",
    "\n",
    "asfsdf\n",
    "asd\n",
    "\n",
    "\n",
    "asf\n",
    "\n",
    "\"\"\""
   ]
  },
  {
   "cell_type": "code",
   "execution_count": null,
   "metadata": {},
   "outputs": [
    {
     "name": "stdout",
     "output_type": "stream",
     "text": [
      "\n",
      "asd\n",
      "asd\n",
      "asf\n",
      "\n",
      "\n",
      "asfsdf\n",
      "asd\n",
      "\n",
      "\n",
      "asf\n",
      "\n",
      "\n"
     ]
    }
   ],
   "source": [
    "print(texto_multilinea)"
   ]
  },
  {
   "cell_type": "markdown",
   "metadata": {},
   "source": [
    "`f-strings`: las expresiones dentro de `{}` se evaluan como si fueran python normal, no un texto. Muy útiles y ademas están optmizadas para ejecutarse más rápido que el resto de métodos para sustituir cosas dentro de las cadenas de texto."
   ]
  },
  {
   "cell_type": "code",
   "execution_count": null,
   "metadata": {},
   "outputs": [],
   "source": [
    "myvar = \"teeeexto\"\n",
    "myvar2 = 123\n",
    "myvar3 = [1,2,3]"
   ]
  },
  {
   "cell_type": "code",
   "execution_count": null,
   "metadata": {},
   "outputs": [
    {
     "name": "stdout",
     "output_type": "stream",
     "text": [
      "El resultado es: 4\n"
     ]
    }
   ],
   "source": [
    "s = f\"texto {myvar3} aqui va text {suma(1,3)} más texto\""
   ]
  },
  {
   "cell_type": "code",
   "execution_count": null,
   "metadata": {},
   "outputs": [
    {
     "data": {
      "text/plain": [
       "'texto teeeexto aqui va text (4, 1, 3) más texto'"
      ]
     },
     "execution_count": null,
     "metadata": {},
     "output_type": "execute_result"
    }
   ],
   "source": [
    "s"
   ]
  },
  {
   "cell_type": "code",
   "execution_count": null,
   "metadata": {},
   "outputs": [
    {
     "name": "stdout",
     "output_type": "stream",
     "text": [
      "hooa teeeexto adios\n"
     ]
    }
   ],
   "source": [
    "print(f\"hooa {myvar} adios\")"
   ]
  },
  {
   "cell_type": "code",
   "execution_count": null,
   "metadata": {},
   "outputs": [
    {
     "data": {
      "text/plain": [
       "'cadena de texto'"
      ]
     },
     "execution_count": null,
     "metadata": {},
     "output_type": "execute_result"
    }
   ],
   "source": [
    "\"otra cadena de texto\".replace(\"otra\", \"\").strip()"
   ]
  },
  {
   "cell_type": "code",
   "execution_count": null,
   "metadata": {},
   "outputs": [
    {
     "data": {
      "text/plain": [
       "'otra cadena de textootra cadena de textootra cadena de texto'"
      ]
     },
     "execution_count": null,
     "metadata": {},
     "output_type": "execute_result"
    }
   ],
   "source": [
    "\"otra cadena de texto\" * 3"
   ]
  },
  {
   "cell_type": "markdown",
   "metadata": {},
   "source": [
    "Podemos unir los elementos de una lista para crear un string."
   ]
  },
  {
   "cell_type": "code",
   "execution_count": null,
   "metadata": {},
   "outputs": [
    {
     "data": {
      "text/plain": [
       "'Python- -_- -was- -_- -conceived- -_- -in- -_- -the- -_- -late- -_- -1980s[34]- -_- -by- -_- -Guido- -_- -van- -_- -Rossum- -_- -at- -_- -Centrum- -_- -Wiskunde- -_- -&- -_- -Informatica- -_- -(CWI)- -_- -in- -_- -the- -_- -Netherlands- -_- -as- -_- -a- -_- -successor- -_- -to- -_- -the- -_- -ABC- -_- -language'"
      ]
     },
     "execution_count": null,
     "metadata": {},
     "output_type": "execute_result"
    }
   ],
   "source": [
    "\"- -_- -\".join(mylist)"
   ]
  },
  {
   "cell_type": "markdown",
   "metadata": {},
   "source": [
    "### Ejercicio\n",
    "\n",
    "* Generar un string en minúsculas separado por espacios a partir de la lista que teníamos: `mylist`\n",
    "* Reemplazar: `( ) [ ]` por un string vacio.\n",
    "* En nuestro string original (el del punto nº1). Reemplazar Python por Golang y ABC por APL.\n",
    "\n",
    "* Iterar sobre las palabras de esta nueva cadena de texto.\n",
    "* Imprimir esa palabra de la siguiente manera: _\"La palabra es \"_ y seguido la palabra usando f-strings."
   ]
  },
  {
   "cell_type": "code",
   "execution_count": 29,
   "metadata": {},
   "outputs": [],
   "source": [
    "cadena = \" \".join(mylist).lower()"
   ]
  },
  {
   "cell_type": "code",
   "execution_count": 32,
   "metadata": {},
   "outputs": [],
   "source": [
    "cadena_limpia = cadena.replace(\"(\", \"\").replace(\")\", \"\").replace(\"[\", \"\").replace(\"]\", \"\")"
   ]
  },
  {
   "cell_type": "code",
   "execution_count": 36,
   "metadata": {},
   "outputs": [],
   "source": [
    "cadena_final = cadena_limpia.replace(\"python\", \"golang\")"
   ]
  },
  {
   "cell_type": "code",
   "execution_count": 39,
   "metadata": {},
   "outputs": [
    {
     "name": "stdout",
     "output_type": "stream",
     "text": [
      "La palabra es: golang\n",
      "La palabra es: was\n",
      "La palabra es: conceived\n",
      "La palabra es: in\n",
      "La palabra es: the\n",
      "La palabra es: late\n",
      "La palabra es: 1980s34\n",
      "La palabra es: by\n",
      "La palabra es: guido\n",
      "La palabra es: van\n",
      "La palabra es: rossum\n",
      "La palabra es: at\n",
      "La palabra es: centrum\n",
      "La palabra es: wiskunde\n",
      "La palabra es: &\n",
      "La palabra es: informatica\n",
      "La palabra es: cwi\n",
      "La palabra es: in\n",
      "La palabra es: the\n",
      "La palabra es: netherlands\n",
      "La palabra es: as\n",
      "La palabra es: a\n",
      "La palabra es: successor\n",
      "La palabra es: to\n",
      "La palabra es: the\n",
      "La palabra es: abc\n",
      "La palabra es: language\n"
     ]
    }
   ],
   "source": [
    "for palabra in cadena_final.split():\n",
    "    print(f\"La palabra es: {palabra}\")"
   ]
  },
  {
   "cell_type": "code",
   "execution_count": 26,
   "metadata": {},
   "outputs": [
    {
     "data": {
      "text/plain": [
       "'python was conceived in the late 1980s[34] by guido van rossum at centrum wiskunde & informatica (cwi) in the netherlands as a successor to the abc language'"
      ]
     },
     "execution_count": 26,
     "metadata": {},
     "output_type": "execute_result"
    }
   ],
   "source": [
    "cadena_unida"
   ]
  },
  {
   "cell_type": "code",
   "execution_count": null,
   "metadata": {},
   "outputs": [],
   "source": [
    "s = (\n",
    "    \" \".join(mylist)\n",
    "    .lower()\n",
    "    .replace(\"(\", \"\")\n",
    "    .replace(\")\", \"\")\n",
    "    .replace(\"[\", \"\")\n",
    "    .replace(\"]\", \"\")\n",
    ")"
   ]
  },
  {
   "cell_type": "code",
   "execution_count": null,
   "metadata": {},
   "outputs": [
    {
     "data": {
      "text/plain": [
       "'golang was conceived in the late 1980s34 by guido van rossum at centrum wiskunde & informatica cwi in the netherlands as a successor to the apl language'"
      ]
     },
     "execution_count": null,
     "metadata": {},
     "output_type": "execute_result"
    }
   ],
   "source": [
    "s.replace(\"python\", \"golang\").replace(\"abc\", \"apl\")"
   ]
  },
  {
   "cell_type": "code",
   "execution_count": null,
   "metadata": {},
   "outputs": [
    {
     "name": "stdout",
     "output_type": "stream",
     "text": [
      "La palabra es python\n",
      "La palabra es was\n",
      "La palabra es conceived\n",
      "La palabra es in\n",
      "La palabra es the\n",
      "La palabra es late\n",
      "La palabra es 1980s34\n",
      "La palabra es by\n",
      "La palabra es guido\n",
      "La palabra es van\n",
      "La palabra es rossum\n",
      "La palabra es at\n",
      "La palabra es centrum\n",
      "La palabra es wiskunde\n",
      "La palabra es &\n",
      "La palabra es informatica\n",
      "La palabra es cwi\n",
      "La palabra es in\n",
      "La palabra es the\n",
      "La palabra es netherlands\n",
      "La palabra es as\n",
      "La palabra es a\n",
      "La palabra es successor\n",
      "La palabra es to\n",
      "La palabra es the\n",
      "La palabra es abc\n",
      "La palabra es language\n"
     ]
    }
   ],
   "source": [
    "for word in s.split():\n",
    "    \n",
    "    # word = word.replace(\"(\", \"\").replace(\")\", \"\").replace(\"[\", \"\").replace(\"]\", \"\")\n",
    "    \n",
    "    print(f\"La palabra es {word}\")"
   ]
  },
  {
   "cell_type": "markdown",
   "metadata": {},
   "source": [
    "## Files"
   ]
  },
  {
   "cell_type": "code",
   "execution_count": 40,
   "metadata": {},
   "outputs": [],
   "source": [
    "#######\n",
    "# este código es solo para descargar el archivo de ejemplo\n",
    "# no es parte del contenido de este tema\n",
    "import os\n",
    "import requests\n",
    "\n",
    "if not \"demofile.txt\" in os.listdir():\n",
    "\n",
    "    text = requests.get(\n",
    "        \"https://raw.githubusercontent.com/polyrand/teach/master/archivos/demofile.txt\"\n",
    "    ).content\n",
    "\n",
    "    with open(\"demofile.txt\", \"wb\") as f:\n",
    "        f.write(text)\n",
    "\n",
    "# fin del código\n",
    "#######"
   ]
  },
  {
   "cell_type": "code",
   "execution_count": 45,
   "metadata": {},
   "outputs": [],
   "source": [
    "f = open(\"demofile.txt\", \"r\")"
   ]
  },
  {
   "cell_type": "code",
   "execution_count": 43,
   "metadata": {},
   "outputs": [
    {
     "data": {
      "text/plain": [
       "'Python es un lenguaje de programación interpretado cuya filosofía hace hincapié en la legibilidad de su código.\\nSe trata de un lenguaje de programación multiparadigma, ya que soporta orientación a objetos, programación imperativa y, en menor medida, programación funcional. Es un lenguaje interpretado, dinámico y multiplataforma.\\n\\nEs administrado por la Python Software Foundation. Posee una licencia de código abierto, denominada Python Software Foundation License,3 que es compatible con la Licencia pública general de GNU a partir de la versión 2.1.1, e incompatible en ciertas versiones anteriores.\\n'"
      ]
     },
     "execution_count": 43,
     "metadata": {},
     "output_type": "execute_result"
    }
   ],
   "source": [
    "f.read()"
   ]
  },
  {
   "cell_type": "code",
   "execution_count": 44,
   "metadata": {},
   "outputs": [
    {
     "data": {
      "text/plain": [
       "''"
      ]
     },
     "execution_count": 44,
     "metadata": {},
     "output_type": "execute_result"
    }
   ],
   "source": [
    "f.read()"
   ]
  },
  {
   "cell_type": "code",
   "execution_count": 46,
   "metadata": {},
   "outputs": [],
   "source": [
    "mitext = f.read()"
   ]
  },
  {
   "cell_type": "code",
   "execution_count": null,
   "metadata": {},
   "outputs": [
    {
     "data": {
      "text/plain": [
       "''"
      ]
     },
     "execution_count": null,
     "metadata": {},
     "output_type": "execute_result"
    }
   ],
   "source": [
    "f.read()"
   ]
  },
  {
   "cell_type": "markdown",
   "metadata": {},
   "source": [
    "SIEMPRE hay que cerrar el *handler*"
   ]
  },
  {
   "cell_type": "code",
   "execution_count": 48,
   "metadata": {},
   "outputs": [],
   "source": [
    "f.close()"
   ]
  },
  {
   "cell_type": "markdown",
   "metadata": {},
   "source": [
    "Si iteramos sobre un archivo abierto por defector nos lo devuelve por líneas."
   ]
  },
  {
   "cell_type": "code",
   "execution_count": 49,
   "metadata": {},
   "outputs": [
    {
     "name": "stdout",
     "output_type": "stream",
     "text": [
      "Python es un lenguaje de programación interpretado cuya filosofía hace hincapié en la legibilidad de su código.\n",
      "\n",
      "Se trata de un lenguaje de programación multiparadigma, ya que soporta orientación a objetos, programación imperativa y, en menor medida, programación funcional. Es un lenguaje interpretado, dinámico y multiplataforma.\n",
      "\n",
      "\n",
      "\n",
      "Es administrado por la Python Software Foundation. Posee una licencia de código abierto, denominada Python Software Foundation License,3 que es compatible con la Licencia pública general de GNU a partir de la versión 2.1.1, e incompatible en ciertas versiones anteriores.\n",
      "\n"
     ]
    }
   ],
   "source": [
    "f = open(\"demofile.txt\", \"r\")\n",
    "for x in f:\n",
    "    print(x)\n",
    "f.close()"
   ]
  },
  {
   "cell_type": "markdown",
   "metadata": {},
   "source": [
    "Modos de escritura:\n",
    "* `a` -> append\n",
    "* `w` -> write\n"
   ]
  },
  {
   "cell_type": "markdown",
   "metadata": {},
   "source": [
    "Usando un *context manager*. Se encagará de hacer `.close()` automáticamente.\n",
    "\n",
    "La variable `f` es como la variable de los `for` loops. Le damos el nombre que queramos y solo actúa dentro de ese contexto. Una vez termina la ejecución del bloque de código dentro del `with`, es variable deja de existir."
   ]
  },
  {
   "cell_type": "code",
   "execution_count": 74,
   "metadata": {},
   "outputs": [],
   "source": [
    "# a -> append\n",
    "# w -> write\n",
    "with open(\"demofile_2.txt\", \"w\") as f:\n",
    "    f.write(\"texto nuevo durante el curso de python\")"
   ]
  },
  {
   "cell_type": "markdown",
   "metadata": {},
   "source": [
    "`.readlines()` nos devuelve una lista donde cada elemento es una línea del archivo."
   ]
  },
  {
   "cell_type": "code",
   "execution_count": 52,
   "metadata": {},
   "outputs": [],
   "source": [
    "with open(\"demofile.txt\", \"r\") as f:\n",
    "    lineas = f.readlines()"
   ]
  },
  {
   "cell_type": "code",
   "execution_count": 67,
   "metadata": {},
   "outputs": [
    {
     "data": {
      "text/plain": [
       "['Python es un lenguaje de programación interpretado cuya filosofía hace hincapié en la legibilidad de su código.\\n',\n",
       " 'Se trata de un lenguaje de programación multiparadigma, ya que soporta orientación a objetos, programación imperativa y, en menor medida, programación funcional. Es un lenguaje interpretado, dinámico y multiplataforma.\\n',\n",
       " '\\n',\n",
       " 'Es administrado por la Python Software Foundation. Posee una licencia de código abierto, denominada Python Software Foundation License,3 que es compatible con la Licencia pública general de GNU a partir de la versión 2.1.1, e incompatible en ciertas versiones anteriores.\\n']"
      ]
     },
     "execution_count": 67,
     "metadata": {},
     "output_type": "execute_result"
    }
   ],
   "source": [
    "lineas"
   ]
  },
  {
   "cell_type": "code",
   "execution_count": 57,
   "metadata": {},
   "outputs": [],
   "source": [
    "lineas_limpias = []"
   ]
  },
  {
   "cell_type": "code",
   "execution_count": 64,
   "metadata": {},
   "outputs": [],
   "source": [
    "for lin in lineas:\n",
    "    l_limpia = lin.strip()\n",
    "    lineas_limpias.append(l_limpia)"
   ]
  },
  {
   "cell_type": "code",
   "execution_count": 65,
   "metadata": {},
   "outputs": [
    {
     "data": {
      "text/plain": [
       "['Python es un lenguaje de programación interpretado cuya filosofía hace hincapié en la legibilidad de su código.',\n",
       " 'Se trata de un lenguaje de programación multiparadigma, ya que soporta orientación a objetos, programación imperativa y, en menor medida, programación funcional. Es un lenguaje interpretado, dinámico y multiplataforma.',\n",
       " '',\n",
       " 'Es administrado por la Python Software Foundation. Posee una licencia de código abierto, denominada Python Software Foundation License,3 que es compatible con la Licencia pública general de GNU a partir de la versión 2.1.1, e incompatible en ciertas versiones anteriores.']"
      ]
     },
     "execution_count": 65,
     "metadata": {},
     "output_type": "execute_result"
    }
   ],
   "source": [
    "lineas_limpias"
   ]
  },
  {
   "cell_type": "code",
   "execution_count": 68,
   "metadata": {},
   "outputs": [],
   "source": [
    "lineas_minus = []\n",
    "\n",
    "for l in lineas:\n",
    "    l = l.lower().strip()\n",
    "    if l != \"\":\n",
    "        lineas_minus.append(l + \"\\n\")"
   ]
  },
  {
   "cell_type": "code",
   "execution_count": 69,
   "metadata": {},
   "outputs": [
    {
     "data": {
      "text/plain": [
       "['python es un lenguaje de programación interpretado cuya filosofía hace hincapié en la legibilidad de su código.\\n',\n",
       " 'se trata de un lenguaje de programación multiparadigma, ya que soporta orientación a objetos, programación imperativa y, en menor medida, programación funcional. es un lenguaje interpretado, dinámico y multiplataforma.\\n',\n",
       " 'es administrado por la python software foundation. posee una licencia de código abierto, denominada python software foundation license,3 que es compatible con la licencia pública general de gnu a partir de la versión 2.1.1, e incompatible en ciertas versiones anteriores.\\n']"
      ]
     },
     "execution_count": 69,
     "metadata": {},
     "output_type": "execute_result"
    }
   ],
   "source": [
    "lineas_minus"
   ]
  },
  {
   "cell_type": "code",
   "execution_count": null,
   "metadata": {},
   "outputs": [],
   "source": [
    "# a -> append\n",
    "# w -> write\n",
    "with open(\"enminus.txt\", \"w\") as f:\n",
    "    f.writelines(lineas_minus)"
   ]
  },
  {
   "cell_type": "markdown",
   "metadata": {},
   "source": [
    "### Ejercicio\n",
    "\n",
    "1. Copiar todo el texto y crear un string de Python. Se puede usar triple comilas (\"\"\") para copiar un string literal de varias lineas.\n",
    "2. Separar por grupos a lists.\n",
    "    * Donde ponga grupo 1 -> todos van a una misma lista\n",
    "    * Done ponga grupo 2 -> a otra lista\n",
    "    * Done ponga grupo 3 -> a otra lista\n",
    "    * Cuidado que tienen diferente formato.\n",
    "    \n",
    "3. Escribir cada grupo a un archivo.\n",
    "    * La lista del grupo 1 -> grupo1.txt (cada uno en una nueva línea).\n",
    "    * La lista del grupo 2 -> grupo2.txt (cada uno en una nueva línea).\n",
    "    * La lista del grupo 3 -> grupo3.txt (cada uno en una nueva línea).\n",
    "    \n",
    "**Extra**\n",
    "* De cada grupo imprimir los que empiezan por \"n\"\n",
    "\n",
    "**Extra 🔥**\n",
    "\n",
    "Crear una función que reciba como parámetro un string (que será un nombre de los de la lista). La función lee todos los archivos .txt que haya en esa carpeta. Si encuentra el nombre en el archivo **te devuelve el nombre de archivo .txt** donde está ese nombre.\n",
    "\n",
    "Por eejmplo, habrá un archivo llamado \"grupo1.txt\" que dentro tiene varias líneas de texto. Cada una es un nombre. Uno de esos nombres es \"iron man\". Nuestra función `buscar_nombre(nombre)` cuando la ejecutemos por ejemplo: `buscar_nombre(\"iron man\")`, nos devolverá (usando `return`, NO `print()`) una cadena de texto = `grupo1.txt`.\n",
    "\n",
    "Tips:\n",
    "* https://docs.python.org/3.7/library/glob.html\n",
    "* https://docs.python.org/3/library/pathlib.html"
   ]
  },
  {
   "cell_type": "code",
   "execution_count": 97,
   "metadata": {},
   "outputs": [],
   "source": [
    "ss = \"\"\"\n",
    "iron man<grupo_1>\n",
    "doctor strange<group_3>\n",
    "spiderman<group_3>\n",
    "black widow<grupo_1>\n",
    "groot<group_3>\n",
    "quill<group_3>\n",
    "gamora<grupo-2>\n",
    "mantis<group_3>\n",
    "captain america<grupo_1>\n",
    "black panther<group_3>\n",
    "okoye<group_3>\n",
    "iron man<grupo_1>\n",
    "valkyrie<grupo_1>\n",
    "korg<grupo_1>\n",
    "bruce banner<grupo_1>\n",
    "vision<grupo-2>\n",
    "hawkeye<grupo_1>\n",
    "vision<grupo-2>\n",
    "thor<grupo_1>\n",
    "gamora<grupo-2>\n",
    "captain marvel<grupo_1>\n",
    "miek<grupo_1>\n",
    "nick fury<group_3>\n",
    "rocket<grupo_1>\n",
    "\"\"\""
   ]
  },
  {
   "cell_type": "code",
   "execution_count": 98,
   "metadata": {},
   "outputs": [
    {
     "data": {
      "text/plain": [
       "['',\n",
       " 'iron man<grupo_1>',\n",
       " 'doctor strange<group_3>',\n",
       " 'spiderman<group_3>',\n",
       " 'black widow<grupo_1>',\n",
       " 'groot<group_3>',\n",
       " 'quill<group_3>',\n",
       " 'gamora<grupo-2>',\n",
       " 'mantis<group_3>',\n",
       " 'captain america<grupo_1>',\n",
       " 'black panther<group_3>',\n",
       " 'okoye<group_3>',\n",
       " 'iron man<grupo_1>',\n",
       " 'valkyrie<grupo_1>',\n",
       " 'korg<grupo_1>',\n",
       " 'bruce banner<grupo_1>',\n",
       " 'vision<grupo-2>',\n",
       " 'hawkeye<grupo_1>',\n",
       " 'vision<grupo-2>',\n",
       " 'thor<grupo_1>',\n",
       " 'gamora<grupo-2>',\n",
       " 'captain marvel<grupo_1>',\n",
       " 'miek<grupo_1>',\n",
       " 'nick fury<group_3>',\n",
       " 'rocket<grupo_1>',\n",
       " '']"
      ]
     },
     "execution_count": 98,
     "metadata": {},
     "output_type": "execute_result"
    }
   ],
   "source": [
    "ss.split(\"\\n\")"
   ]
  },
  {
   "cell_type": "code",
   "execution_count": 101,
   "metadata": {},
   "outputs": [],
   "source": [
    "personaje = ss.split(\"\\n\")[1:-1][0]"
   ]
  },
  {
   "cell_type": "code",
   "execution_count": 104,
   "metadata": {},
   "outputs": [
    {
     "data": {
      "text/plain": [
       "'iron man'"
      ]
     },
     "execution_count": 104,
     "metadata": {},
     "output_type": "execute_result"
    }
   ],
   "source": [
    "personaje.split(\"<\")[0]"
   ]
  },
  {
   "cell_type": "code",
   "execution_count": 105,
   "metadata": {},
   "outputs": [
    {
     "data": {
      "text/plain": [
       "True"
      ]
     },
     "execution_count": 105,
     "metadata": {},
     "output_type": "execute_result"
    }
   ],
   "source": [
    "\"1\" in personaje"
   ]
  },
  {
   "cell_type": "code",
   "execution_count": 107,
   "metadata": {},
   "outputs": [
    {
     "data": {
      "text/plain": [
       "1"
      ]
     },
     "execution_count": 107,
     "metadata": {},
     "output_type": "execute_result"
    }
   ],
   "source": [
    "int(personaje[-2])"
   ]
  },
  {
   "cell_type": "code",
   "execution_count": 108,
   "metadata": {},
   "outputs": [],
   "source": [
    "grupo1 = []\n",
    "grupo2 = []\n",
    "grupo3 = []\n",
    "\n",
    "for line in ss.split(\"\\n\")[1:-1]:\n",
    "    person = line.split(\"<\")[0]\n",
    "    group = int(line[-2])\n",
    "    \n",
    "    # \"2\" in \"vision<grupo-2>\"\n",
    "\n",
    "    assert group in [1, 2, 3]\n",
    "\n",
    "    if group == 1:\n",
    "        grupo1.append(person)\n",
    "    elif group == 2:\n",
    "        grupo2.append(person)\n",
    "    else:\n",
    "        grupo3.append(person)"
   ]
  },
  {
   "cell_type": "code",
   "execution_count": 114,
   "metadata": {},
   "outputs": [],
   "source": [
    "with open(\"grupo_1.txt\", \"w\") as f:\n",
    "    for person in grupo1:\n",
    "        f.write(f\"{person}\\n\")"
   ]
  },
  {
   "cell_type": "code",
   "execution_count": 115,
   "metadata": {},
   "outputs": [],
   "source": [
    "with open(\"grupo_2.txt\", \"w\") as f:\n",
    "    for person in grupo2:\n",
    "        f.write(f\"{person}\\n\")"
   ]
  },
  {
   "cell_type": "code",
   "execution_count": 116,
   "metadata": {},
   "outputs": [],
   "source": [
    "with open(\"grupo_3.txt\", \"w\") as f:\n",
    "    for person in grupo3:\n",
    "        f.write(f\"{person}\\n\")"
   ]
  },
  {
   "cell_type": "code",
   "execution_count": 31,
   "metadata": {},
   "outputs": [],
   "source": [
    "from glob import glob"
   ]
  },
  {
   "cell_type": "code",
   "execution_count": 32,
   "metadata": {},
   "outputs": [],
   "source": [
    "archivos_con_nombres = glob(\"grupo_*.txt\")"
   ]
  },
  {
   "cell_type": "code",
   "execution_count": 33,
   "metadata": {},
   "outputs": [
    {
     "ename": "NameError",
     "evalue": "name 'data' is not defined",
     "output_type": "error",
     "traceback": [
      "\u001b[0;31m---------------------------------------------------------------------------\u001b[0m",
      "\u001b[0;31mNameError\u001b[0m                                 Traceback (most recent call last)",
      "\u001b[0;32m<ipython-input-33-25ee9c661711>\u001b[0m in \u001b[0;36m<module>\u001b[0;34m\u001b[0m\n\u001b[0;32m----> 1\u001b[0;31m \u001b[0;34m\"gamora\"\u001b[0m \u001b[0;32min\u001b[0m \u001b[0mdata\u001b[0m\u001b[0;34m\u001b[0m\u001b[0;34m\u001b[0m\u001b[0m\n\u001b[0m",
      "\u001b[0;31mNameError\u001b[0m: name 'data' is not defined"
     ]
    }
   ],
   "source": [
    "\"gamora\" in data"
   ]
  },
  {
   "cell_type": "code",
   "execution_count": 34,
   "metadata": {},
   "outputs": [],
   "source": [
    "def buscar_nombre(nombre):\n",
    "    archivos_con_nombres = glob(\"grupo_*.txt\")\n",
    "    \n",
    "    for archivo in archivos_con_nombres:\n",
    "        with open(archivo, \"r\") as f:\n",
    "            data = f.read()\n",
    "            \n",
    "        if nombre in data:\n",
    "            return archivo"
   ]
  },
  {
   "cell_type": "code",
   "execution_count": 35,
   "metadata": {},
   "outputs": [],
   "source": [
    "archivo_encontrado = buscar_nombre(nombre=\"vision\")"
   ]
  },
  {
   "cell_type": "code",
   "execution_count": 36,
   "metadata": {},
   "outputs": [
    {
     "data": {
      "text/plain": [
       "'grupo_2.txt'"
      ]
     },
     "execution_count": 36,
     "metadata": {},
     "output_type": "execute_result"
    }
   ],
   "source": [
    "archivo_encontrado"
   ]
  },
  {
   "cell_type": "markdown",
   "metadata": {},
   "source": [
    "## Try, Except, Finally"
   ]
  },
  {
   "cell_type": "code",
   "execution_count": 2,
   "metadata": {},
   "outputs": [],
   "source": [
    "midiccionario = {\n",
    "    \"valor1\": 23.4,\n",
    "    \"pi\": 3.14,\n",
    "    \"numero e\": 2.72,\n",
    "}"
   ]
  },
  {
   "cell_type": "code",
   "execution_count": 16,
   "metadata": {},
   "outputs": [
    {
     "ename": "KeyError",
     "evalue": "'valor2'",
     "output_type": "error",
     "traceback": [
      "\u001b[0;31m---------------------------------------------------------------------------\u001b[0m",
      "\u001b[0;31mKeyError\u001b[0m                                  Traceback (most recent call last)",
      "\u001b[0;32m<ipython-input-16-2abc577d801f>\u001b[0m in \u001b[0;36m<module>\u001b[0;34m\u001b[0m\n\u001b[0;32m----> 1\u001b[0;31m \u001b[0mmidiccionario\u001b[0m\u001b[0;34m[\u001b[0m\u001b[0;34m\"valor2\"\u001b[0m\u001b[0;34m]\u001b[0m\u001b[0;34m\u001b[0m\u001b[0;34m\u001b[0m\u001b[0m\n\u001b[0m",
      "\u001b[0;31mKeyError\u001b[0m: 'valor2'"
     ]
    }
   ],
   "source": [
    "midiccionario[\"valor2\"]"
   ]
  },
  {
   "cell_type": "code",
   "execution_count": 25,
   "metadata": {},
   "outputs": [
    {
     "name": "stdout",
     "output_type": "stream",
     "text": [
      "23.4\n",
      "ERROR!!!\n"
     ]
    }
   ],
   "source": [
    "try:\n",
    "    print(midiccionario[\"valor1\"])\n",
    "    x = 1 / 1\n",
    "    valor = int(\"asdf\")\n",
    "except KeyError:\n",
    "    print(\"hay un error, no existe la key\")\n",
    "except ZeroDivisionError:\n",
    "    print(\"vaya division es esa\")\n",
    "except Exception:\n",
    "    print(\"ERROR!!!\")"
   ]
  },
  {
   "cell_type": "code",
   "execution_count": null,
   "metadata": {},
   "outputs": [
    {
     "name": "stdout",
     "output_type": "stream",
     "text": [
      "un error\n"
     ]
    }
   ],
   "source": [
    "try:\n",
    "    x = 1 / 0\n",
    "except:\n",
    "    print(\"un error\")"
   ]
  },
  {
   "cell_type": "code",
   "execution_count": null,
   "metadata": {},
   "outputs": [],
   "source": [
    "d = {\"asd\": 2}"
   ]
  },
  {
   "cell_type": "code",
   "execution_count": null,
   "metadata": {},
   "outputs": [
    {
     "name": "stdout",
     "output_type": "stream",
     "text": [
      "Error class is:   <class 'ZeroDivisionError'>\n",
      "Error message is: division by zero\n"
     ]
    }
   ],
   "source": [
    "try:\n",
    "    x = 1 / 0\n",
    "    rr = d[\"a\"]\n",
    "except (KeyError, ZeroDivisionError) as err:\n",
    "    print(\"Error class is:  \", type(err))\n",
    "    print(\"Error message is:\", err)"
   ]
  },
  {
   "cell_type": "code",
   "execution_count": 28,
   "metadata": {},
   "outputs": [
    {
     "name": "stdout",
     "output_type": "stream",
     "text": [
      "intentar algo aqui\n",
      "esto ocurre solo si lo anterior falla\n",
      "esto ocurre siempre, independientemente de lo anterior\n"
     ]
    }
   ],
   "source": [
    "try:\n",
    "    print(\"intentar algo aqui\")\n",
    "    x = 1 / 0\n",
    "except Exception:\n",
    "    print(\"esto ocurre solo si lo anterior falla\")\n",
    "else:\n",
    "    print(\"esto ocurre solo si lo anterior funciona bien\")\n",
    "finally:\n",
    "    print(\"esto ocurre siempre, independientemente de lo anterior\")"
   ]
  },
  {
   "cell_type": "markdown",
   "metadata": {},
   "source": [
    "## Importar y usar librerias"
   ]
  },
  {
   "cell_type": "code",
   "execution_count": 42,
   "metadata": {},
   "outputs": [],
   "source": [
    "import math"
   ]
  },
  {
   "cell_type": "code",
   "execution_count": 43,
   "metadata": {},
   "outputs": [
    {
     "data": {
      "text/plain": [
       "0.9427546655283462"
      ]
     },
     "execution_count": 43,
     "metadata": {},
     "output_type": "execute_result"
    }
   ],
   "source": [
    "math.cos(0.34)"
   ]
  },
  {
   "cell_type": "code",
   "execution_count": 40,
   "metadata": {},
   "outputs": [],
   "source": [
    "from math import cos"
   ]
  },
  {
   "cell_type": "code",
   "execution_count": 41,
   "metadata": {},
   "outputs": [
    {
     "data": {
      "text/plain": [
       "0.9427546655283462"
      ]
     },
     "execution_count": 41,
     "metadata": {},
     "output_type": "execute_result"
    }
   ],
   "source": [
    "cos(0.34)"
   ]
  }
 ],
 "metadata": {
  "kernelspec": {
   "display_name": "teach",
   "language": "python",
   "name": "teach"
  },
  "language_info": {
   "codemirror_mode": {
    "name": "ipython",
    "version": 3
   },
   "file_extension": ".py",
   "mimetype": "text/x-python",
   "name": "python",
   "nbconvert_exporter": "python",
   "pygments_lexer": "ipython3",
   "version": "3.7.8"
  }
 },
 "nbformat": 4,
 "nbformat_minor": 4
}
