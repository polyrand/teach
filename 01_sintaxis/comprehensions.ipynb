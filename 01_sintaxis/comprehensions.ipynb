{
 "cells": [
  {
   "cell_type": "markdown",
   "metadata": {},
   "source": [
    "## Comprehensions"
   ]
  },
  {
   "cell_type": "markdown",
   "metadata": {},
   "source": [
    "Explicación animada en formato GIF:\n",
    "\n",
    "Fuente del GIF y lectura recomendada: https://treyhunner.com/2015/12/python-list-comprehensions-now-in-color/\n",
    "\n",
    "![](https://treyhunner.com/images/list-comprehension-condition.gif)"
   ]
  },
  {
   "cell_type": "code",
   "execution_count": 11,
   "metadata": {},
   "outputs": [],
   "source": [
    "import json\n",
    "\n",
    "with open(\"cartas.json\") as f:\n",
    "    baraja = json.load(f)"
   ]
  },
  {
   "cell_type": "code",
   "execution_count": 28,
   "metadata": {},
   "outputs": [],
   "source": [
    "carta = baraja[0]"
   ]
  },
  {
   "cell_type": "code",
   "execution_count": 12,
   "metadata": {},
   "outputs": [
    {
     "data": {
      "text/plain": [
       "'Abundance'"
      ]
     },
     "execution_count": 12,
     "metadata": {},
     "output_type": "execute_result"
    }
   ],
   "source": [
    "carta[\"name\"]"
   ]
  },
  {
   "cell_type": "code",
   "execution_count": 24,
   "metadata": {},
   "outputs": [],
   "source": [
    "lista_nombres_cartas = []\n",
    "\n",
    "for carta in baraja:\n",
    "    \n",
    "    nombre_carta = carta[\"name\"]\n",
    "    \n",
    "    if nombre_carta.startswith(\"B\"):\n",
    "        lista_nombres_cartas.append(nombre_carta)\n",
    "        "
   ]
  },
  {
   "cell_type": "code",
   "execution_count": 25,
   "metadata": {},
   "outputs": [
    {
     "data": {
      "text/plain": [
       "['Ballista Squad',\n",
       " 'Bandage',\n",
       " 'Battlefield Forge',\n",
       " 'Beacon of Destruction',\n",
       " 'Beacon of Immortality',\n",
       " 'Beacon of Unrest',\n",
       " 'Benalish Knight',\n",
       " 'Benalish Knight',\n",
       " 'Birds of Paradise',\n",
       " 'Birds of Paradise',\n",
       " 'Blanchwood Armor',\n",
       " 'Blanchwood Armor',\n",
       " 'Blaze',\n",
       " 'Bloodfire Colossus',\n",
       " 'Bloodrock Cyclops',\n",
       " 'Bog Wraith',\n",
       " 'Bog Wraith',\n",
       " 'Bogardan Firefiend',\n",
       " 'Boomerang',\n",
       " 'Bottle Gnomes',\n",
       " 'Brushland']"
      ]
     },
     "execution_count": 25,
     "metadata": {},
     "output_type": "execute_result"
    }
   ],
   "source": [
    "lista_nombres_cartas"
   ]
  },
  {
   "cell_type": "code",
   "execution_count": 26,
   "metadata": {},
   "outputs": [],
   "source": [
    "# \"Abundance\".startswith(\"B\")"
   ]
  },
  {
   "cell_type": "code",
   "execution_count": 27,
   "metadata": {},
   "outputs": [
    {
     "data": {
      "text/plain": [
       "['Ballista Squad',\n",
       " 'Bandage',\n",
       " 'Battlefield Forge',\n",
       " 'Beacon of Destruction',\n",
       " 'Beacon of Immortality',\n",
       " 'Beacon of Unrest',\n",
       " 'Benalish Knight',\n",
       " 'Benalish Knight',\n",
       " 'Birds of Paradise',\n",
       " 'Birds of Paradise',\n",
       " 'Blanchwood Armor',\n",
       " 'Blanchwood Armor',\n",
       " 'Blaze',\n",
       " 'Bloodfire Colossus',\n",
       " 'Bloodrock Cyclops',\n",
       " 'Bog Wraith',\n",
       " 'Bog Wraith',\n",
       " 'Bogardan Firefiend',\n",
       " 'Boomerang',\n",
       " 'Bottle Gnomes',\n",
       " 'Brushland']"
      ]
     },
     "execution_count": 27,
     "metadata": {},
     "output_type": "execute_result"
    }
   ],
   "source": [
    "[carta[\"name\"] for carta in baraja if carta[\"name\"].startswith(\"B\")]"
   ]
  },
  {
   "cell_type": "code",
   "execution_count": 38,
   "metadata": {},
   "outputs": [],
   "source": [
    "verdes_azules = [\n",
    "    carta for carta in baraja if \"Green\" in carta[\"colors\"] or \"Blue\" in carta[\"colors\"]\n",
    "]"
   ]
  },
  {
   "cell_type": "code",
   "execution_count": 40,
   "metadata": {},
   "outputs": [],
   "source": [
    "# verdes_azules"
   ]
  },
  {
   "cell_type": "code",
   "execution_count": 1,
   "metadata": {},
   "outputs": [],
   "source": [
    "numeros = [num for num in range(0,20)]"
   ]
  },
  {
   "cell_type": "code",
   "execution_count": 2,
   "metadata": {},
   "outputs": [
    {
     "data": {
      "text/plain": [
       "[0, 1, 2, 3, 4, 5, 6, 7, 8, 9, 10, 11, 12, 13, 14, 15, 16, 17, 18, 19]"
      ]
     },
     "execution_count": 2,
     "metadata": {},
     "output_type": "execute_result"
    }
   ],
   "source": [
    "numeros"
   ]
  },
  {
   "cell_type": "code",
   "execution_count": 3,
   "metadata": {},
   "outputs": [],
   "source": [
    "from math import sqrt"
   ]
  },
  {
   "cell_type": "code",
   "execution_count": 5,
   "metadata": {},
   "outputs": [],
   "source": [
    "def raiz(numero):\n",
    "    \n",
    "    return sqrt(numero)"
   ]
  },
  {
   "cell_type": "code",
   "execution_count": 18,
   "metadata": {},
   "outputs": [],
   "source": [
    "def filtrar_carta(carta):\n",
    "    \n",
    "    if \"a\" in carta[\"name\"].lower():\n",
    "        if carta[\"colors\"]:\n",
    "            return carta[\"colors\"][0]\n",
    "        else:\n",
    "            return \"NO COLOR\""
   ]
  },
  {
   "cell_type": "code",
   "execution_count": 20,
   "metadata": {},
   "outputs": [],
   "source": [
    "# [filtrar_carta(carta) for carta in baraja]"
   ]
  },
  {
   "cell_type": "code",
   "execution_count": 21,
   "metadata": {},
   "outputs": [],
   "source": [
    "# [raiz(num) for num in numeros]"
   ]
  },
  {
   "cell_type": "code",
   "execution_count": 48,
   "metadata": {},
   "outputs": [],
   "source": [
    "numeros_2 = []\n",
    "\n",
    "for num in numeros:\n",
    "    \n",
    "    resultado = num * 2\n",
    "    \n",
    "    numeros_2.append(resultado)"
   ]
  },
  {
   "cell_type": "code",
   "execution_count": 49,
   "metadata": {},
   "outputs": [
    {
     "data": {
      "text/plain": [
       "[0, 2, 4, 6, 8, 10, 12, 14, 16, 18, 20, 22, 24, 26, 28, 30, 32, 34, 36, 38]"
      ]
     },
     "execution_count": 49,
     "metadata": {},
     "output_type": "execute_result"
    }
   ],
   "source": [
    "numeros_2"
   ]
  },
  {
   "cell_type": "code",
   "execution_count": 50,
   "metadata": {},
   "outputs": [],
   "source": [
    "numeros_2_compr = [num * 2 for num in numeros]"
   ]
  },
  {
   "cell_type": "code",
   "execution_count": 51,
   "metadata": {},
   "outputs": [
    {
     "data": {
      "text/plain": [
       "[0, 2, 4, 6, 8, 10, 12, 14, 16, 18, 20, 22, 24, 26, 28, 30, 32, 34, 36, 38]"
      ]
     },
     "execution_count": 51,
     "metadata": {},
     "output_type": "execute_result"
    }
   ],
   "source": [
    "numeros_2_compr"
   ]
  },
  {
   "cell_type": "code",
   "execution_count": 22,
   "metadata": {},
   "outputs": [],
   "source": [
    "req_stop = requests.get(\"https://raw.githubusercontent.com/Alir3z4/stop-words/master/spanish.txt\")"
   ]
  },
  {
   "cell_type": "code",
   "execution_count": 23,
   "metadata": {},
   "outputs": [],
   "source": [
    "string_stop = req_stop.text"
   ]
  },
  {
   "cell_type": "code",
   "execution_count": 24,
   "metadata": {},
   "outputs": [],
   "source": [
    "lista_stop = string_stop.split(\"\\n\")"
   ]
  },
  {
   "cell_type": "code",
   "execution_count": 56,
   "metadata": {},
   "outputs": [],
   "source": [
    "# lista_stop"
   ]
  },
  {
   "cell_type": "code",
   "execution_count": 47,
   "metadata": {},
   "outputs": [],
   "source": [
    "texto_raw = \"\"\"\n",
    "Python 2.0 tomó una característica mayor del lenguaje de programación funcional Haskell: listas por comprensión. La sintaxis de Python para esta construcción es muy similar a la de Haskell, salvo por la preferencia de los caracteres de puntuación en Haskell, y la preferencia de Python por palabras claves alfabéticas. Python 2.0 introdujo además un sistema de recolección de basura capaz de recolectar referencias cíclicas.13\n",
    "En 1991, van Rossum publicó el código de la versión 0.9.0 en alt.sources.9​ En esta etapa del desarrollo ya estaban presentes clases con herencia, manejo de excepciones, funciones y los tipos modulares, como: str, list, dict, entre otros. Además en este lanzamiento inicial aparecía un sistema de módulos adoptado de Modula-3; van Rossum describe el módulo como «una de las mayores unidades de programación de Python».4​ El modelo de excepciones en Python es parecido al de Modula-3, con la adición de una cláusula else.5​ En el año 1994 se formó comp.lang.python, el foro de discusión principal de Python, marcando un hito en el crecimiento del grupo de usuarios de este lenguaje.\n",
    "\n",
    "Python alcanzó la versión 1.0 en enero de 1994. Una característica de este lanzamiento fueron las herramientas de la programación funcional: lambda, reduce, filter y map. Van Rossum explicó que «hace 12 años, Python adquirió lambda, reduce(), filter() y map(), cortesía de un hacker informático de Lisp que las extrañaba y que envió parches».10​ El donante fue Amrit Prem; no se hace ninguna mención específica de cualquier herencia de Lisp en las notas de lanzamiento.\n",
    "\n",
    "La última versión liberada proveniente de CWI fue Python 1.2. En 1995, van Rossum continuó su trabajo en Python en la Corporation for National Research Initiatives (CNRI) en Reston, Virginia, donde lanzó varias versiones del software.\n",
    "\n",
    "Durante su estancia en CNRI, van Rossum lanzó la iniciativa Computer Programming for Everybody (CP4E), con el fin de hacer la programación más accesible a más gente, con un nivel de 'alfabetización' básico en lenguajes de programación, similar a la alfabetización básica en inglés y habilidades matemáticas necesarias por muchos trabajadores. Python tuvo un papel crucial en este proceso: debido a su orientación hacia una sintaxis limpia, ya era idóneo, y las metas de CP4E presentaban similitudes con su predecesor, ABC. El proyecto fue patrocinado por DARPA.11​ En el año 2007, el proyecto CP4E está inactivo, y mientras Python intenta ser fácil de aprender y no muy arcano en su sintaxis y semántica, alcanzando a los no-programadores, no es una preocupación activa.12​\n",
    "\n",
    "En el año 2000, el equipo principal de desarrolladores de Python se cambió a BeOpen.com para formar el equipo BeOpen PythonLabs. CNRI pidió que la versión 1.6 fuera pública, continuando su desarrollo hasta que el equipo de desarrollo abandonó CNRI; su programa de lanzamiento y el de la versión 2.0 tenían una significativa cantidad de traslapo.13​ Python 2.0 fue el primer y único lanzamiento de BeOpen.com. Después que Python 2.0 fuera publicado por BeOpen.com, Guido van Rossum y los otros desarrolladores de PythonLabs se unieron en Digital Creations.\n",
    "\n",
    "Python 2.0 tomó una característica mayor del lenguaje de programación funcional Haskell: listas por comprensión. La sintaxis de Python para esta construcción es muy similar a la de Haskell, salvo por la preferencia de los caracteres de puntuación en Haskell, y la preferencia de Python por palabras claves alfabéticas. Python 2.0 introdujo además un sistema de recolección de basura capaz de recolectar referencias cíclicas.13​\n",
    "\n",
    "Posterior a este doble lanzamiento, y después que van Rossum dejó CNRI para trabajar con desarrolladores de software comercial, quedó claro que la opción de usar Python con software disponible bajo GNU GPL era muy deseable. La licencia usada entonces, la Python License, incluía una cláusula estipulando que la licencia estaba gobernada por el estado de Virginia, por lo que, bajo la óptica de los abogados de Free Software Foundation (FSF), se hacía incompatible con GPL. CNRI y FSF se relacionaron para cambiar la licencia de software libre de Python para hacerla compatible con GPL. En el año 2001, van Rossum fue premiado con FSF Award for the Advancement of Free Software.\n",
    "En 1991, van Rossum publicó el código de la versión 0.9.0 en alt.sources.9​ En esta etapa del desarrollo ya estaban presentes clases con herencia, manejo de excepciones, funciones y los tipos modulares, como: str, list, dict, entre otros. Además en este lanzamiento inicial aparecía un sistema de módulos adoptado de Modula-3; van Rossum describe el módulo como «una de las mayores unidades de programación de Python».4​ El modelo de excepciones en Python es parecido al de Modula-3, con la adición de una cláusula else.5​ En el año 1994 se formó comp.lang.python, el foro de discusión principal de Python, marcando un hito en el crecimiento del grupo de usuarios de este lenguaje.\n",
    "\n",
    "Python alcanzó la versión 1.0 en enero de 1994. Una característica de este lanzamiento fueron las herramientas de la programación funcional: lambda, reduce, filter y map. Van Rossum explicó que «hace 12 años, Python adquirió lambda, reduce(), filter() y map(), cortesía de un hacker informático de Lisp que las extrañaba y que envió parches».10​ El donante fue Amrit Prem; no se hace ninguna mención específica de cualquier herencia de Lisp en las notas de lanzamiento.\n",
    "\n",
    "La última versión liberada proveniente de CWI fue Python 1.2. En 1995, van Rossum continuó su trabajo en Python en la Corporation for National Research Initiatives (CNRI) en Reston, Virginia, donde lanzó varias versiones del software.\n",
    "\n",
    "Durante su estancia en CNRI, van Rossum lanzó la iniciativa Computer Programming for Everybody (CP4E), con el fin de hacer la programación más accesible a más gente, con un nivel de 'alfabetización' básico en lenguajes de programación, similar a la alfabetización básica en inglés y habilidades matemáticas necesarias por muchos trabajadores. Python tuvo un papel crucial en este proceso: debido a su orientación hacia una sintaxis limpia, ya era idóneo, y las metas de CP4E presentaban similitudes con su predecesor, ABC. El proyecto fue patrocinado por DARPA.11​ En el año 2007, el proyecto CP4E está inactivo, y mientras Python intenta ser fácil de aprender y no muy arcano en su sintaxis y semántica, alcanzando a los no-programadores, no es una preocupación activa.12​\n",
    "\n",
    "En el año 2000, el equipo principal de desarrolladores de Python se cambió a BeOpen.com para formar el equipo BeOpen PythonLabs. CNRI pidió que la versión 1.6 fuera pública, continuando su desarrollo hasta que el equipo de desarrollo abandonó CNRI; su programa de lanzamiento y el de la versión 2.0 tenían una significativa cantidad de traslapo.13​ Python 2.0 fue el primer y único lanzamiento de BeOpen.com. Después que Python 2.0 fuera publicado por BeOpen.com, Guido van Rossum y los otros desarrolladores de PythonLabs se unieron en Digital Creations.\n",
    "\n",
    "Python 2.0 tomó una característica mayor del lenguaje de programación funcional Haskell: listas por comprensión. La sintaxis de Python para esta construcción es muy similar a la de Haskell, salvo por la preferencia de los caracteres de puntuación en Haskell, y la preferencia de Python por palabras claves alfabéticas. Python 2.0 introdujo además un sistema de recolección de basura capaz de recolectar referencias cíclicas.13​\n",
    "\n",
    "Posterior a este doble lanzamiento, y después que van Rossum dejó CNRI para trabajar con desarrolladores de software comercial, quedó claro que la opción de usar Python con software disponible bajo GNU GPL era muy deseable. La licencia usada entonces, la Python License, incluía una cláusula estipulando que la licencia estaba gobernada por el estado de Virginia, por lo que, bajo la óptica de los abogados de Free Software Foundation (FSF), se hacía incompatible con GPL. CNRI y FSF se relacionaron para cambiar la licencia de software libre de Python para hacerla compatible con GPL. En el año 2001, van Rossum fue premiado con FSF Award for the Advancement of Free Software.\n",
    "Python 2.1 fue un trabajo derivado de Python 1.6.1, así como también de Python 2.0. Su licencia fue renombrada a: Python Software Foundation License. Todo el código, documentación y especificaciones añadidas, desde la fecha del lanzamiento de la versión alfa de Python 2.1, tiene como dueño a Python Software Foundation (PSF), una organización sin ánimo de lucro fundada en el año 2001, tomando como modelo la Apache Software Foundation.3​ Incluido en este lanzamiento fue una implementación del scoping más parecida a las reglas de static scoping (del cual Scheme es el originador).14​\n",
    "\n",
    "Una innovación mayor en Python 2.2 fue la unificación de los tipos en Python (tipos escritos en C), y clases (tipos escritos en Python) dentro de una jerarquía. Esa unificación logró un modelo de objetos de Python puro y consistente.15​ También fueron agregados los generadores que fueron inspirados por el lenguaje Icon.16​\n",
    "\n",
    "Las adiciones a la biblioteca estándar de Python y las decisiones sintácticas fueron influenciadas fuertemente por Java en algunos casos: el package logging,17​ introducido en la versión 2.3, está basado en log4j; el parser SAX, introducido en 2.0; el package threading,18​ cuya clase Thread expone un subconjunto de la interfaz de la clase homónima en Java.\n",
    "\n",
    "Python 2, es decir Python 2.7.x, fue oficialmente descontinuado el 1 de enero de 2020 (primero planeado para 2015) después de lo cual no se publicarán parches de seguridad y otras mejoras para él.19​20​ Con el final del ciclo de vida de Python 2, solo tienen soporte la rama Python 3.5.x21​ y posteriores.\n",
    "Python 1.6.1 es esencialmente el mismo que Python 1.6, con unos pocos arreglos de bugs, y con una nueva licencia compatible con GPL.3​\n",
    "Python 1.6.1 es esencialmente el mismo que Python 1.6, con unos pocos arreglos de bugs, y con una nueva licencia compatible con GPL.3​\n",
    "\"\"\""
   ]
  },
  {
   "cell_type": "code",
   "execution_count": 26,
   "metadata": {},
   "outputs": [],
   "source": [
    "texto_lista = texto_raw.lower().split()"
   ]
  },
  {
   "cell_type": "markdown",
   "metadata": {},
   "source": [
    "Pone en minúsculas el texto anterior y lo divide por los espacios (el valor por defecto de `.split()`)."
   ]
  },
  {
   "cell_type": "code",
   "execution_count": 27,
   "metadata": {},
   "outputs": [],
   "source": [
    "texto_procesado = [palabra for palabra in texto_lista if palabra not in lista_stop]"
   ]
  },
  {
   "cell_type": "code",
   "execution_count": 35,
   "metadata": {},
   "outputs": [
    {
     "data": {
      "text/plain": [
       "True"
      ]
     },
     "execution_count": 35,
     "metadata": {},
     "output_type": "execute_result"
    }
   ],
   "source": [
    "\"2.0\" in set(texto_procesado)"
   ]
  },
  {
   "cell_type": "code",
   "execution_count": 44,
   "metadata": {},
   "outputs": [
    {
     "data": {
      "text/plain": [
       "1579"
      ]
     },
     "execution_count": 44,
     "metadata": {},
     "output_type": "execute_result"
    }
   ],
   "source": [
    "len(texto_lista)"
   ]
  },
  {
   "cell_type": "code",
   "execution_count": 42,
   "metadata": {},
   "outputs": [
    {
     "name": "stdout",
     "output_type": "stream",
     "text": [
      "852 ns ± 214 ns per loop (mean ± std. dev. of 7 runs, 100000 loops each)\n"
     ]
    }
   ],
   "source": [
    "%%timeit\n",
    "\"haskell,\" in texto_lista"
   ]
  },
  {
   "cell_type": "code",
   "execution_count": 41,
   "metadata": {},
   "outputs": [],
   "source": [
    "lista_set = set(texto_lista)"
   ]
  },
  {
   "cell_type": "code",
   "execution_count": 43,
   "metadata": {},
   "outputs": [
    {
     "name": "stdout",
     "output_type": "stream",
     "text": [
      "77.9 ns ± 18.5 ns per loop (mean ± std. dev. of 7 runs, 1000000 loops each)\n"
     ]
    }
   ],
   "source": [
    "%%timeit\n",
    "\"haskell,\" in lista_set "
   ]
  },
  {
   "cell_type": "markdown",
   "metadata": {},
   "source": [
    "Crea una lista nueva con las palabras de la lista anterior (`texto_lista`) si la palabra no está en nuestra lista de stopwords `lista_stop`.\n",
    "\n",
    "*stop words*: palabras que por si solas carecen de significado"
   ]
  },
  {
   "cell_type": "code",
   "execution_count": 58,
   "metadata": {},
   "outputs": [],
   "source": [
    "# texto_procesado = [palabra for palabra in texto_lista if palabra not in lista_stop]"
   ]
  },
  {
   "cell_type": "code",
   "execution_count": null,
   "metadata": {},
   "outputs": [
    {
     "name": "stdout",
     "output_type": "stream",
     "text": [
      "7.63 ms ± 380 µs per loop (mean ± std. dev. of 7 runs, 100 loops each)\n"
     ]
    }
   ],
   "source": [
    "texto_procesado_2 = []\n",
    "\n",
    "for palabra in texto_lista:\n",
    "    \n",
    "    if palabra not in lista_stop:\n",
    "        texto_procesado_2.append(p)"
   ]
  },
  {
   "cell_type": "markdown",
   "metadata": {},
   "source": [
    "Lo mismo que en la celda anterior pero utilizando un `for` loop en lugar de una list comprehension."
   ]
  },
  {
   "cell_type": "markdown",
   "metadata": {},
   "source": [
    "Comprensiones de diccionarios."
   ]
  },
  {
   "cell_type": "code",
   "execution_count": 64,
   "metadata": {},
   "outputs": [],
   "source": [
    "midic = {}\n",
    "\n",
    "for palabra in texto_procesado:\n",
    "    if \"i\" in palabra:\n",
    "        midic[palabra] = True\n",
    "    else:\n",
    "        midic[palabra] = False"
   ]
  },
  {
   "cell_type": "code",
   "execution_count": 46,
   "metadata": {
    "collapsed": true,
    "jupyter": {
     "outputs_hidden": true
    }
   },
   "outputs": [
    {
     "data": {
      "text/plain": [
       "{'python': False,\n",
       " '2.0': False,\n",
       " 'tomó': False,\n",
       " 'característica': True,\n",
       " 'mayor': False,\n",
       " 'lenguaje': False,\n",
       " 'programación': True,\n",
       " 'funcional': True,\n",
       " 'haskell:': False,\n",
       " 'listas': True,\n",
       " 'comprensión.': True,\n",
       " 'sintaxis': True,\n",
       " 'construcción': True,\n",
       " 'similar': True,\n",
       " 'haskell,': False,\n",
       " 'salvo': False,\n",
       " 'preferencia': True,\n",
       " 'caracteres': False,\n",
       " 'puntuación': True,\n",
       " 'palabras': False,\n",
       " 'claves': False,\n",
       " 'alfabéticas.': True,\n",
       " 'introdujo': True,\n",
       " 'además': False,\n",
       " 'sistema': True,\n",
       " 'recolección': True,\n",
       " 'basura': False,\n",
       " 'capaz': False,\n",
       " 'recolectar': False,\n",
       " 'referencias': True,\n",
       " 'cíclicas.13': True,\n",
       " '1991,': False,\n",
       " 'van': False,\n",
       " 'rossum': False,\n",
       " 'publicó': True,\n",
       " 'código': True,\n",
       " 'versión': True,\n",
       " '0.9.0': False,\n",
       " 'alt.sources.9\\u200b': False,\n",
       " 'etapa': False,\n",
       " 'desarrollo': False,\n",
       " 'presentes': False,\n",
       " 'clases': False,\n",
       " 'herencia,': True,\n",
       " 'manejo': False,\n",
       " 'excepciones,': True,\n",
       " 'funciones': True,\n",
       " 'tipos': True,\n",
       " 'modulares,': False,\n",
       " 'como:': False,\n",
       " 'str,': False,\n",
       " 'list,': True,\n",
       " 'dict,': True,\n",
       " 'otros.': False,\n",
       " 'lanzamiento': True,\n",
       " 'inicial': True,\n",
       " 'aparecía': False,\n",
       " 'módulos': False,\n",
       " 'adoptado': False,\n",
       " 'modula-3;': False,\n",
       " 'describe': True,\n",
       " 'módulo': False,\n",
       " '«una': False,\n",
       " 'mayores': False,\n",
       " 'unidades': True,\n",
       " 'python».4\\u200b': False,\n",
       " 'modelo': False,\n",
       " 'excepciones': True,\n",
       " 'parecido': True,\n",
       " 'modula-3,': False,\n",
       " 'adición': True,\n",
       " 'cláusula': False,\n",
       " 'else.5\\u200b': False,\n",
       " 'año': False,\n",
       " '1994': False,\n",
       " 'formó': False,\n",
       " 'comp.lang.python,': False,\n",
       " 'foro': False,\n",
       " 'discusión': True,\n",
       " 'principal': True,\n",
       " 'python,': False,\n",
       " 'marcando': False,\n",
       " 'hito': True,\n",
       " 'crecimiento': True,\n",
       " 'grupo': False,\n",
       " 'usuarios': True,\n",
       " 'lenguaje.': False,\n",
       " 'alcanzó': False,\n",
       " '1.0': False,\n",
       " 'enero': False,\n",
       " '1994.': False,\n",
       " 'herramientas': True,\n",
       " 'funcional:': True,\n",
       " 'lambda,': False,\n",
       " 'reduce,': False,\n",
       " 'filter': True,\n",
       " 'map.': False,\n",
       " 'explicó': True,\n",
       " '«hace': False,\n",
       " '12': False,\n",
       " 'años,': False,\n",
       " 'adquirió': True,\n",
       " 'reduce(),': False,\n",
       " 'filter()': True,\n",
       " 'map(),': False,\n",
       " 'cortesía': False,\n",
       " 'hacker': False,\n",
       " 'informático': True,\n",
       " 'lisp': True,\n",
       " 'extrañaba': False,\n",
       " 'envió': True,\n",
       " 'parches».10\\u200b': False,\n",
       " 'donante': False,\n",
       " 'amrit': True,\n",
       " 'prem;': False,\n",
       " 'hace': False,\n",
       " 'ninguna': True,\n",
       " 'mención': True,\n",
       " 'específica': True,\n",
       " 'cualquier': True,\n",
       " 'herencia': True,\n",
       " 'notas': False,\n",
       " 'lanzamiento.': True,\n",
       " 'última': True,\n",
       " 'liberada': True,\n",
       " 'proveniente': True,\n",
       " 'cwi': True,\n",
       " '1.2.': False,\n",
       " '1995,': False,\n",
       " 'continuó': True,\n",
       " 'trabajo': False,\n",
       " 'corporation': True,\n",
       " 'for': False,\n",
       " 'national': True,\n",
       " 'research': False,\n",
       " 'initiatives': True,\n",
       " '(cnri)': True,\n",
       " 'reston,': False,\n",
       " 'virginia,': True,\n",
       " 'lanzó': False,\n",
       " 'varias': True,\n",
       " 'versiones': True,\n",
       " 'software.': False,\n",
       " 'estancia': True,\n",
       " 'cnri,': True,\n",
       " 'iniciativa': True,\n",
       " 'computer': False,\n",
       " 'programming': True,\n",
       " 'everybody': False,\n",
       " '(cp4e),': False,\n",
       " 'fin': True,\n",
       " 'hacer': False,\n",
       " 'accesible': True,\n",
       " 'gente,': False,\n",
       " 'nivel': True,\n",
       " \"'alfabetización'\": True,\n",
       " 'básico': True,\n",
       " 'lenguajes': False,\n",
       " 'programación,': True,\n",
       " 'alfabetización': True,\n",
       " 'básica': True,\n",
       " 'inglés': True,\n",
       " 'habilidades': True,\n",
       " 'matemáticas': True,\n",
       " 'necesarias': True,\n",
       " 'trabajadores.': False,\n",
       " 'papel': False,\n",
       " 'crucial': True,\n",
       " 'proceso:': False,\n",
       " 'debido': True,\n",
       " 'orientación': True,\n",
       " 'hacia': True,\n",
       " 'limpia,': True,\n",
       " 'idóneo,': True,\n",
       " 'metas': False,\n",
       " 'cp4e': False,\n",
       " 'presentaban': False,\n",
       " 'similitudes': True,\n",
       " 'predecesor,': False,\n",
       " 'abc.': False,\n",
       " 'proyecto': False,\n",
       " 'patrocinado': True,\n",
       " 'darpa.11\\u200b': False,\n",
       " '2007,': False,\n",
       " 'inactivo,': True,\n",
       " 'mientras': True,\n",
       " 'intenta': True,\n",
       " 'ser': False,\n",
       " 'fácil': True,\n",
       " 'aprender': False,\n",
       " 'arcano': False,\n",
       " 'semántica,': True,\n",
       " 'alcanzando': False,\n",
       " 'no-programadores,': False,\n",
       " 'preocupación': True,\n",
       " 'activa.12\\u200b': True,\n",
       " '2000,': False,\n",
       " 'equipo': True,\n",
       " 'desarrolladores': False,\n",
       " 'cambió': True,\n",
       " 'beopen.com': False,\n",
       " 'formar': False,\n",
       " 'beopen': False,\n",
       " 'pythonlabs.': False,\n",
       " 'cnri': True,\n",
       " 'pidió': True,\n",
       " '1.6': False,\n",
       " 'pública,': True,\n",
       " 'continuando': True,\n",
       " 'abandonó': False,\n",
       " 'cnri;': True,\n",
       " 'programa': False,\n",
       " 'significativa': True,\n",
       " 'cantidad': True,\n",
       " 'traslapo.13\\u200b': False,\n",
       " 'primer': True,\n",
       " 'único': True,\n",
       " 'beopen.com.': False,\n",
       " 'después': False,\n",
       " 'publicado': True,\n",
       " 'beopen.com,': False,\n",
       " 'guido': True,\n",
       " 'pythonlabs': False,\n",
       " 'unieron': True,\n",
       " 'digital': True,\n",
       " 'creations.': True,\n",
       " 'cíclicas.13\\u200b': True,\n",
       " 'posterior': True,\n",
       " 'doble': False,\n",
       " 'lanzamiento,': True,\n",
       " 'dejó': False,\n",
       " 'trabajar': False,\n",
       " 'software': False,\n",
       " 'comercial,': True,\n",
       " 'quedó': False,\n",
       " 'claro': False,\n",
       " 'opción': True,\n",
       " 'usar': False,\n",
       " 'disponible': True,\n",
       " 'bajo': False,\n",
       " 'gnu': False,\n",
       " 'gpl': False,\n",
       " 'deseable.': False,\n",
       " 'licencia': True,\n",
       " 'usada': False,\n",
       " 'entonces,': False,\n",
       " 'license,': True,\n",
       " 'incluía': True,\n",
       " 'estipulando': True,\n",
       " 'gobernada': False,\n",
       " 'que,': False,\n",
       " 'óptica': True,\n",
       " 'abogados': False,\n",
       " 'free': False,\n",
       " 'foundation': True,\n",
       " '(fsf),': False,\n",
       " 'hacía': False,\n",
       " 'incompatible': True,\n",
       " 'gpl.': False,\n",
       " 'fsf': False,\n",
       " 'relacionaron': True,\n",
       " 'cambiar': True,\n",
       " 'libre': True,\n",
       " 'hacerla': False,\n",
       " 'compatible': True,\n",
       " '2001,': False,\n",
       " 'premiado': True,\n",
       " 'award': False,\n",
       " 'the': False,\n",
       " 'advancement': False,\n",
       " 'of': False,\n",
       " '2.1': False,\n",
       " 'derivado': True,\n",
       " '1.6.1,': False,\n",
       " 'así': False,\n",
       " '2.0.': False,\n",
       " 'renombrada': False,\n",
       " 'a:': False,\n",
       " 'license.': True,\n",
       " 'código,': True,\n",
       " 'documentación': True,\n",
       " 'especificaciones': True,\n",
       " 'añadidas,': True,\n",
       " 'fecha': False,\n",
       " 'alfa': False,\n",
       " '2.1,': False,\n",
       " 'dueño': False,\n",
       " '(psf),': False,\n",
       " 'organización': True,\n",
       " 'ánimo': True,\n",
       " 'lucro': False,\n",
       " 'fundada': False,\n",
       " 'tomando': False,\n",
       " 'apache': False,\n",
       " 'foundation.3\\u200b': True,\n",
       " 'incluido': True,\n",
       " 'implementación': True,\n",
       " 'scoping': True,\n",
       " 'parecida': True,\n",
       " 'reglas': False,\n",
       " 'static': True,\n",
       " '(del': False,\n",
       " 'scheme': False,\n",
       " 'originador).14\\u200b': True,\n",
       " 'innovación': True,\n",
       " '2.2': False,\n",
       " 'unificación': True,\n",
       " '(tipos': True,\n",
       " 'escritos': True,\n",
       " 'c),': False,\n",
       " 'python)': False,\n",
       " 'dentro': False,\n",
       " 'jerarquía.': False,\n",
       " 'logró': False,\n",
       " 'objetos': False,\n",
       " 'puro': False,\n",
       " 'consistente.15\\u200b': True,\n",
       " 'agregados': False,\n",
       " 'generadores': False,\n",
       " 'inspirados': True,\n",
       " 'icon.16\\u200b': True,\n",
       " 'adiciones': True,\n",
       " 'biblioteca': True,\n",
       " 'estándar': False,\n",
       " 'decisiones': True,\n",
       " 'sintácticas': True,\n",
       " 'influenciadas': True,\n",
       " 'fuertemente': False,\n",
       " 'java': False,\n",
       " 'casos:': False,\n",
       " 'package': False,\n",
       " 'logging,17\\u200b': True,\n",
       " 'introducido': True,\n",
       " '2.3,': False,\n",
       " 'basado': False,\n",
       " 'log4j;': False,\n",
       " 'parser': False,\n",
       " 'sax,': False,\n",
       " '2.0;': False,\n",
       " 'threading,18\\u200b': True,\n",
       " 'cuya': False,\n",
       " 'clase': False,\n",
       " 'thread': False,\n",
       " 'expone': False,\n",
       " 'subconjunto': False,\n",
       " 'interfaz': True,\n",
       " 'homónima': True,\n",
       " 'java.': False,\n",
       " '2,': False,\n",
       " 'decir': True,\n",
       " '2.7.x,': False,\n",
       " 'oficialmente': True,\n",
       " 'descontinuado': True,\n",
       " '1': False,\n",
       " '2020': False,\n",
       " '(primero': True,\n",
       " 'planeado': False,\n",
       " '2015)': False,\n",
       " 'publicarán': True,\n",
       " 'parches': False,\n",
       " 'seguridad': True,\n",
       " 'mejoras': False,\n",
       " 'él.19\\u200b20\\u200b': False,\n",
       " 'final': True,\n",
       " 'ciclo': True,\n",
       " 'vida': True,\n",
       " 'solo': False,\n",
       " 'soporte': False,\n",
       " 'rama': False,\n",
       " '3.5.x21\\u200b': False,\n",
       " 'posteriores.': True,\n",
       " '1.6.1': False,\n",
       " 'esencialmente': True,\n",
       " 'mismo': True,\n",
       " '1.6,': False,\n",
       " 'pocos': False,\n",
       " 'arreglos': False,\n",
       " 'bugs,': False,\n",
       " 'nueva': False,\n",
       " 'gpl.3\\u200b': False}"
      ]
     },
     "execution_count": 46,
     "metadata": {},
     "output_type": "execute_result"
    }
   ],
   "source": [
    "{palabra: (\"i\" in palabra) for palabra in texto_procesado}"
   ]
  },
  {
   "cell_type": "markdown",
   "metadata": {},
   "source": [
    "## Rendimiento"
   ]
  },
  {
   "cell_type": "code",
   "execution_count": 69,
   "metadata": {},
   "outputs": [
    {
     "name": "stdout",
     "output_type": "stream",
     "text": [
      "15.3 µs ± 5.13 µs per loop (mean ± std. dev. of 7 runs, 10000 loops each)\n"
     ]
    }
   ],
   "source": [
    "%%timeit\n",
    "lista = []\n",
    "\n",
    "for carta in baraja:\n",
    "    lista.append(carta[\"name\"])"
   ]
  },
  {
   "cell_type": "code",
   "execution_count": 70,
   "metadata": {},
   "outputs": [
    {
     "name": "stdout",
     "output_type": "stream",
     "text": [
      "8.32 µs ± 647 ns per loop (mean ± std. dev. of 7 runs, 100000 loops each)\n"
     ]
    }
   ],
   "source": [
    "%%timeit\n",
    "lista_nombres = [carta[\"name\"] for carta in baraja]"
   ]
  },
  {
   "cell_type": "code",
   "execution_count": 71,
   "metadata": {},
   "outputs": [],
   "source": [
    "usuarios = {\n",
    "    \"ricardo\": \"admin\",\n",
    "    \"pedro\": \"not admin\",\n",
    "    \"maria\": \"admin\",\n",
    "}"
   ]
  },
  {
   "cell_type": "code",
   "execution_count": 76,
   "metadata": {},
   "outputs": [],
   "source": [
    "usuarios_admin = [user for user in usuarios.keys() if usuarios[user] == \"admin\"]"
   ]
  },
  {
   "cell_type": "code",
   "execution_count": 77,
   "metadata": {},
   "outputs": [
    {
     "data": {
      "text/plain": [
       "['ricardo', 'maria']"
      ]
     },
     "execution_count": 77,
     "metadata": {},
     "output_type": "execute_result"
    }
   ],
   "source": [
    "usuarios_admin"
   ]
  },
  {
   "cell_type": "code",
   "execution_count": 78,
   "metadata": {},
   "outputs": [],
   "source": [
    "usuarios_admin = [user for user, permisos in usuarios.items() if permisos == \"admin\"]"
   ]
  },
  {
   "cell_type": "code",
   "execution_count": 79,
   "metadata": {},
   "outputs": [
    {
     "data": {
      "text/plain": [
       "['ricardo', 'maria']"
      ]
     },
     "execution_count": 79,
     "metadata": {},
     "output_type": "execute_result"
    }
   ],
   "source": [
    "usuarios_admin"
   ]
  },
  {
   "cell_type": "markdown",
   "metadata": {},
   "source": [
    "## Ejercicio"
   ]
  },
  {
   "cell_type": "markdown",
   "metadata": {},
   "source": [
    "* Escribir en un archivo el texto de la string `texto_raw`\n",
    "* Escribir en un archivo las palabras de la lista `texto_procesado`. Teniendo una palabra en cada línea.\n",
    "\n",
    "* Crear una función que:\n",
    "    * lea un archivo de texto\n",
    "    * elimina las stop-words de este texto y lo convierte a minúsculas\n",
    "    * guarda el texto procesado en un archivo que tiene el mismo nombre que el archivo original pero con la palabra `_procesado` añadida."
   ]
  },
  {
   "cell_type": "markdown",
   "metadata": {},
   "source": [
    "**texto.txt**: texto original\n",
    "\n",
    "**texto_procesado.txt**: contiene el mismo texto que el original pero en minúsculas y sin las stop-words de nuestra lista `lista_stop`"
   ]
  },
  {
   "cell_type": "code",
   "execution_count": 51,
   "metadata": {},
   "outputs": [],
   "source": [
    "# texto_raw"
   ]
  },
  {
   "cell_type": "code",
   "execution_count": 49,
   "metadata": {},
   "outputs": [],
   "source": [
    "with open(\"text_python.txt\", \"w\", encoding=\"utf-8\") as f:\n",
    "    f.write(texto_raw)"
   ]
  },
  {
   "cell_type": "code",
   "execution_count": 53,
   "metadata": {},
   "outputs": [],
   "source": [
    "with open(\"texto_por_palabras.txt\", \"w\") as f:\n",
    "    for palabra in texto_procesado:\n",
    "        f.write(f\"{palabra}\\n\")"
   ]
  },
  {
   "cell_type": "code",
   "execution_count": 77,
   "metadata": {},
   "outputs": [],
   "source": [
    "with open(\"demofile.txt\", \"r\") as f:\n",
    "        data = f.read()\n",
    "        \n",
    "data = data.lower()"
   ]
  },
  {
   "cell_type": "code",
   "execution_count": 79,
   "metadata": {},
   "outputs": [],
   "source": [
    "palabras = data.split()\n",
    "    \n",
    "palabras_limpias = [p for p in palabras if p not in lista_stop]"
   ]
  },
  {
   "cell_type": "code",
   "execution_count": 82,
   "metadata": {},
   "outputs": [],
   "source": [
    "texto_nuevo = \" \".join(palabras_limpias)"
   ]
  },
  {
   "cell_type": "code",
   "execution_count": 74,
   "metadata": {},
   "outputs": [],
   "source": [
    "# lista_stop"
   ]
  },
  {
   "cell_type": "code",
   "execution_count": 91,
   "metadata": {},
   "outputs": [
    {
     "data": {
      "text/plain": [
       "['demofile', 'txt']"
      ]
     },
     "execution_count": 91,
     "metadata": {},
     "output_type": "execute_result"
    }
   ],
   "source": [
    "\"demofile.txt\".split(\".\")"
   ]
  },
  {
   "cell_type": "code",
   "execution_count": 94,
   "metadata": {},
   "outputs": [],
   "source": [
    "def eliminar_stop_words(archivo):\n",
    "    \"\"\"\n",
    "    Elimina las stop words de un archivo de texto.\n",
    "    \n",
    "    Guarda el nuevo texto en un archivo con el mismo nombre\n",
    "    con _procesado añadido al final.\n",
    "    \"\"\"\n",
    "    \n",
    "    with open(archivo, \"r\") as f:\n",
    "        data = f.read()\n",
    "        \n",
    "    data = data.lower()\n",
    "    \n",
    "    palabras = data.split()\n",
    "    \n",
    "    palabras_limpias = [p for p in palabras if p not in lista_stop]\n",
    "    \n",
    "    texto_nuevo = \" \".join(palabras_limpias)\n",
    "    \n",
    "    # conseguir de alguna manera el nombre del archivo SIN el .txt (la librería pathlib es MUY interesante)\n",
    "    \n",
    "    nombre_archivo = archivo.split(\".\")[0]\n",
    "    nuevo_nombre = f\"{nombre_archivo}_procesado.txt\"\n",
    "    \n",
    "    with open(nuevo_nombre, \"w\") as f:\n",
    "        f.write(texto_nuevo)\n",
    "        \n",
    "    return nuevo_nombre\n",
    "                \n",
    "    \n",
    "    \n",
    "    ### code ###\n",
    "    "
   ]
  },
  {
   "cell_type": "code",
   "execution_count": 95,
   "metadata": {},
   "outputs": [],
   "source": [
    "name = eliminar_stop_words(\"demofile_2.txt\")"
   ]
  },
  {
   "cell_type": "code",
   "execution_count": 97,
   "metadata": {},
   "outputs": [],
   "source": [
    "def enviar_mail(direccion, archivo):\n",
    "    \n",
    "    ####\n",
    "    ####\n",
    "    ####\n",
    "    \n",
    "    return direccion"
   ]
  },
  {
   "cell_type": "code",
   "execution_count": 98,
   "metadata": {},
   "outputs": [],
   "source": [
    "direccion_enviada = enviar_mail(\"ricardo@gmail.com\", name)"
   ]
  },
  {
   "cell_type": "code",
   "execution_count": 99,
   "metadata": {},
   "outputs": [
    {
     "data": {
      "text/plain": [
       "'ricardo@gmail.com'"
      ]
     },
     "execution_count": 99,
     "metadata": {},
     "output_type": "execute_result"
    }
   ],
   "source": [
    "direccion_enviada"
   ]
  },
  {
   "cell_type": "code",
   "execution_count": 99,
   "metadata": {},
   "outputs": [],
   "source": [
    "def mi_funcion(a=0, b=0, c=1):\n",
    "    print(\"a:\", a)\n",
    "    print(\"b:\", b)\n",
    "    print(\"c:\", c)\n",
    "\n",
    "    return"
   ]
  }
 ],
 "metadata": {
  "kernelspec": {
   "display_name": "teach",
   "language": "python",
   "name": "teach"
  },
  "language_info": {
   "codemirror_mode": {
    "name": "ipython",
    "version": 3
   },
   "file_extension": ".py",
   "mimetype": "text/x-python",
   "name": "python",
   "nbconvert_exporter": "python",
   "pygments_lexer": "ipython3",
   "version": "3.7.8"
  }
 },
 "nbformat": 4,
 "nbformat_minor": 4
}
