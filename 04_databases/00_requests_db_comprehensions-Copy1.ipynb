{
 "cells": [
  {
   "cell_type": "markdown",
   "metadata": {
    "id": "aw2XxZCra0Xc"
   },
   "source": [
    "Autor: Ricardo Ander-Egg Aguilar\n",
    "\n",
    "* 🖥: https://ricardoanderegg.com/\n",
    "* 🐦: https://twitter.com/ricardoanderegg\n",
    "* 👨🏻‍🎓: https://www.linkedin.com/in/ricardoanderegg/"
   ]
  },
  {
   "cell_type": "markdown",
   "metadata": {
    "id": "RhNwtg3ja0Xc"
   },
   "source": [
    "## Bases de datos con sqlite3"
   ]
  },
  {
   "cell_type": "code",
   "execution_count": 31,
   "metadata": {
    "id": "OwjCqznrjiJs"
   },
   "outputs": [],
   "source": [
    "import sqlite3"
   ]
  },
  {
   "cell_type": "code",
   "execution_count": 32,
   "metadata": {
    "id": "M4s-uA2wjk4W"
   },
   "outputs": [],
   "source": [
    "con = sqlite3.connect(\"test.db\")"
   ]
  },
  {
   "cell_type": "code",
   "execution_count": 33,
   "metadata": {
    "colab": {
     "base_uri": "https://localhost:8080/"
    },
    "id": "viAhuiQPjoM1",
    "outputId": "6d24a1ad-0315-4b1f-e8f6-e5e61c38b09f"
   },
   "outputs": [
    {
     "data": {
      "text/plain": [
       "<sqlite3.Cursor at 0x7f67ed1b98f0>"
      ]
     },
     "execution_count": 33,
     "metadata": {
      "tags": []
     },
     "output_type": "execute_result"
    }
   ],
   "source": [
    "con.execute(\"create table kv (key string, value string)\")"
   ]
  },
  {
   "cell_type": "code",
   "execution_count": null,
   "metadata": {},
   "outputs": [],
   "source": [
    "cursor = con.execute(\"SELECT * FROM kv\")\n",
    "\n",
    "cursor.fetchall()"
   ]
  },
  {
   "cell_type": "code",
   "execution_count": null,
   "metadata": {},
   "outputs": [],
   "source": [
    "valor1 = \"rust2\"\n",
    "valor2 = \"zig2\"\n",
    "\n",
    "con.execute(\"INSERT INTO kv (key) VALUES (?, '')\", (valor1,)) # tuple de 1 elemento\n",
    "\n",
    "con.execute(\"INSERT INTO kv VALUES (:x1, :x2)\", {\"x1\": valor1, \"x2\": valor2})\n",
    "\n",
    "cursor = con.execute(\"SELECT * FROM kv\")\n",
    "\n",
    "cursor.fetchall()"
   ]
  },
  {
   "cell_type": "code",
   "execution_count": null,
   "metadata": {},
   "outputs": [],
   "source": [
    "with con as c:\n",
    "    c.execute(\n",
    "        \"INSERT INTO kv VALUES (:x1, :x2)\", {\"x1\": \"transaction\", \"x2\": \"transaction\"}\n",
    "    )\n",
    "    c.execute(\n",
    "        \"UPDATE kv SET value = :nuevo WHERE key = :llave\",\n",
    "        {\"nuevo\": \"jajajajaj\", \"llave\": \"rust2\"},\n",
    "    )\n",
    "\n",
    "    print(c.in_transaction)\n",
    "\n",
    "\n",
    "cursor = con.execute(\"SELECT * FROM kv\")\n",
    "\n",
    "cursor.fetchall()"
   ]
  },
  {
   "cell_type": "code",
   "execution_count": null,
   "metadata": {},
   "outputs": [],
   "source": [
    "con.executemany(\n",
    "    \"INSERT INTO kv VALUES (:x1, :x2)\",\n",
    "    [\n",
    "        {\"x1\": \"transaction\", \"x2\": \"transaction\"},\n",
    "        {\"x1\": \"transaction3\", \"x2\": \"transaction3\"},\n",
    "        {\"x1\": \"transaction4\", \"x2\": \"transaction4\"},\n",
    "        {\"x1\": \"transaction5\", \"x2\": \"transaction5\"},\n",
    "        {\"x1\": \"transaction6\", \"x2\": \"transaction6\"},\n",
    "    ],\n",
    ")"
   ]
  },
  {
   "cell_type": "code",
   "execution_count": null,
   "metadata": {},
   "outputs": [],
   "source": [
    "def insert(valor):\n",
    "    con.execute(\"insert into kv values ('hola', ?)\", (valor, ))\n",
    "    con.commit()"
   ]
  },
  {
   "cell_type": "markdown",
   "metadata": {},
   "source": [
    "**Atención:**\n",
    "\n",
    "En la función anterior el `tuple` es: `(valor, )`, con una coma después de `valor`. Esto es para decirle a Python que quiero crear un `tuple` de un solo elemento."
   ]
  },
  {
   "cell_type": "code",
   "execution_count": 2,
   "metadata": {
    "id": "UftYkKpWjyMj"
   },
   "outputs": [],
   "source": [
    "def insert(valor):\n",
    "    # otra forma de hacerlo en sqlite (usando un diccionario)\n",
    "    # el parámetro es :`nombre` en lugar del símbolo `?`\n",
    "    con.execute(\"insert into kv values ('hola', :valor)\", {\"valor\": valor})\n",
    "    con.commit()"
   ]
  },
  {
   "cell_type": "code",
   "execution_count": 52,
   "metadata": {
    "id": "ezE6ER9Zk0Eo"
   },
   "outputs": [],
   "source": [
    "insert(\"jajajaj\")"
   ]
  },
  {
   "cell_type": "code",
   "execution_count": 53,
   "metadata": {
    "colab": {
     "base_uri": "https://localhost:8080/"
    },
    "id": "k-O4uT-DkGeI",
    "outputId": "339bf159-9acc-42e5-cf25-7efdbc7cdf37"
   },
   "outputs": [
    {
     "data": {
      "text/plain": [
       "[('hola', 'adios'),\n",
       " ('hola', 'hello'),\n",
       " ('hola', 'jajajaj'),\n",
       " ('hola', 'jajajaj')]"
      ]
     },
     "execution_count": 53,
     "metadata": {
      "tags": []
     },
     "output_type": "execute_result"
    }
   ],
   "source": [
    "con.execute(\"select * from kv\").fetchall()"
   ]
  },
  {
   "cell_type": "markdown",
   "metadata": {},
   "source": [
    "⬇️⬇️ ¡NO! ⬇️⬇️"
   ]
  },
  {
   "cell_type": "code",
   "execution_count": null,
   "metadata": {
    "id": "bb4wXqb8lPeC"
   },
   "outputs": [],
   "source": [
    "## NO HACER ESTO!!: ##\n",
    "\n",
    "def insert(valor)\n",
    "\n",
    "    con.execute(f\"INSERT INTO kv VALUES ('hola', {valor})\")\n",
    "    con.commit()\n",
    "\n",
    "## Puede dar lugar a vulnerabilidades y problemas de seguridad en el código (injecciones de SQL)."
   ]
  },
  {
   "cell_type": "markdown",
   "metadata": {},
   "source": [
    "⬆️⬆️ ¡NO! ⬆️⬆️"
   ]
  },
  {
   "cell_type": "markdown",
   "metadata": {
    "id": "0FTZASUTa0Xj"
   },
   "source": [
    "## Ejercicio 01\n",
    "\n",
    "1. Obtener todas las cartas de la API.\n",
    "1. Guardar la respuesta en un archivo `.json()`\n",
    "1. La key `colors` contiene un value que es una lista. Filtrar las cartas que contengan `\"Green\"` en esa lista.\n",
    "1. Generar una base de datos con SQLAlchemy para almacenar estas cartas.\n",
    "1. Las columnas que debemos crear son (entre paréntesis está el nombre de la key que tienen en el diccionario):\n",
    "    * nombre (`name`)\n",
    "    * ** multiverse_id (`multiverseid`)  <== queda eliminado a menos que queraís hacer la parte extra\n",
    "    * tipo (`type`)\n",
    "    * **  url_imagen (`imageUrl`) <== queda eliminado a menos que queraís hacer la parte extra\n",
    "    * rareza (`rarity`)\n",
    "    * **Extra**: en las cartas verdes que NO tienen `multiverseid`, crearlo y darle el valor `0`\n",
    "    \n",
    "1. De la lista de cartas filtradas que hemos obtenido en el punto $2$, guardarlas todas en la base de datos."
   ]
  },
  {
   "cell_type": "markdown",
   "metadata": {
    "id": "d7Ud4xIca0Xj"
   },
   "source": [
    "**Extra 🔥**\n",
    "\n",
    "* Crear una función que obtenga la información de la carta de la base de datos en base a un `id` o como queráis.\n",
    "* En las cartas que no tengan la variable `\"imageUrl\"`, crearla y poner: https://picsum.photos/200/200\n",
    "* Descargar la imagen de esta carta y guardarla en un archivo en el disco.\n",
    "* Crear un archivo JSON que sea una lista de diccionarios con el siguiente formato:\n",
    "\n",
    "```python\n",
    "[\n",
    "    {\"nombre\": nombre_carta, \"url_imagen\": url_imagen},\n",
    "    {\"nombre\": nombre_carta, \"url_imagen\": url_imagen},\n",
    "    {\"nombre\": nombre_carta, \"url_imagen\": url_imagen},\n",
    "    .\n",
    "    .\n",
    "    .\n",
    "]\n",
    "```\n",
    "\n",
    "Por ejemplo:\n",
    "\n",
    "```python\n",
    "req_img = requests.get(v[0][\"imageUrl\"])\n",
    "\n",
    "with open(\"imagen.jpg\", \"wb\") as f:\n",
    "    f.write(req_img.content)\n",
    "```"
   ]
  },
  {
   "cell_type": "code",
   "execution_count": 6,
   "metadata": {},
   "outputs": [],
   "source": [
    "import requests\n",
    "import json"
   ]
  },
  {
   "cell_type": "code",
   "execution_count": 1,
   "metadata": {},
   "outputs": [],
   "source": [
    "URL = \"https://raw.githubusercontent.com/polyrand/teach/master/04_databases/cartas.json\""
   ]
  },
  {
   "cell_type": "code",
   "execution_count": null,
   "metadata": {
    "id": "e5lhjDaIa0Xj"
   },
   "outputs": [],
   "source": [
    "respuesta = requests.get(...)\n",
    "\n",
    "cartas = respuesta.json()\n",
    "\n",
    "with open(\"cartas.json\", \"w\") as f:\n",
    "    f.write(json.dumps(cartas))"
   ]
  },
  {
   "cell_type": "code",
   "execution_count": null,
   "metadata": {
    "id": "IL9DcZDia0Xj"
   },
   "outputs": [],
   "source": [
    "### CODE"
   ]
  }
 ],
 "metadata": {
  "colab": {
   "name": "00_request_db_comprehensions.ipynb",
   "provenance": [],
   "toc_visible": true
  },
  "kernelspec": {
   "display_name": "teach",
   "language": "python",
   "name": "teach"
  },
  "language_info": {
   "codemirror_mode": {
    "name": "ipython",
    "version": 3
   },
   "file_extension": ".py",
   "mimetype": "text/x-python",
   "name": "python",
   "nbconvert_exporter": "python",
   "pygments_lexer": "ipython3",
   "version": "3.7.7"
  }
 },
 "nbformat": 4,
 "nbformat_minor": 4
}
