{
 "cells": [
  {
   "cell_type": "markdown",
   "metadata": {},
   "source": [
    "## Ejercicio 01\n",
    "\n",
    "1. Obtener todas las cartas de la API.\n",
    "1. La key `colors` contiene un value que es una lista. Filtrar las cartas que contengan `\"Green\"` en esa lista.\n",
    "1. Generar una base de datos con SQLAlchemy para almacenar estas cartas.\n",
    "1. Las columnas que debemos crear son (entre paréntesis está el nombre de la key que tienen en el diccionario):\n",
    "    * nombre (`name`)\n",
    "    * ** multiverse_id (`multiverseid`)  <== queda eliminado a menos que queraís hacer la parte extra\n",
    "    * url_imagen (`imageUrl`) || tipo (`type`)\n",
    "    * rareza (`rarity`)\n",
    "    * **Extra**: en las cartas verdes que NO tienen `multiverseid`, crearlo y darle el valor `0`\n",
    "    \n",
    "1. De la lista de cartas filtradas que hemos obtenido en el punto $2$, guardarlas todas en la base de datos."
   ]
  },
  {
   "cell_type": "markdown",
   "metadata": {},
   "source": [
    "**Extra 🔥**\n",
    "\n",
    "* Crear una función que obtenga la información de la carta de la base de datos en base a un `id` o como queráis.\n",
    "* En las cartas que no tengan la variable `\"imageUrl\"`, crearla y poner: http://placegoat.com/200/200\n",
    "* Descargar la imagen de esta carta (o de la cabra 😂) y guardarla en un archivo en el disco.\n",
    "* Crear un archivo JSON que sea una lista de diccionarios con el siguiente formato:\n",
    "\n",
    "```python\n",
    "[\n",
    "    {\"nombre\": nombre_carta, \"url_imagen\": url_imagen},\n",
    "    {\"nombre\": nombre_carta, \"url_imagen\": url_imagen},\n",
    "    {\"nombre\": nombre_carta, \"url_imagen\": url_imagen},\n",
    "    .\n",
    "    .\n",
    "    .\n",
    "]\n",
    "```\n",
    "\n",
    "Por ejemplo:\n",
    "\n",
    "```python\n",
    "req_img = requests.get(v[0][\"imageUrl\"])\n",
    "\n",
    "with open(\"imagen.jpg\", \"wb\") as f:\n",
    "    f.write(req_img.content)\n",
    "```"
   ]
  },
  {
   "cell_type": "code",
   "execution_count": 5,
   "metadata": {},
   "outputs": [],
   "source": [
    "import json\n",
    "\n",
    "with open(\"cartas.json\", \"w\") as f:\n",
    "    f.write(json.dumps(cartas))"
   ]
  },
  {
   "cell_type": "code",
   "execution_count": 12,
   "metadata": {},
   "outputs": [],
   "source": [
    "import sqlalchemy\n",
    "from sqlalchemy import create_engine\n",
    "from sqlalchemy.orm import sessionmaker\n",
    "from sqlalchemy import Column, Integer, String\n",
    "from sqlalchemy.ext.declarative import declarative_base\n",
    "\n",
    "import json\n",
    "import requests"
   ]
  },
  {
   "cell_type": "code",
   "execution_count": 3,
   "metadata": {},
   "outputs": [],
   "source": [
    "# import requests\n",
    "\n",
    "# r = requests.get(\"https://api.magicthegathering.io/v1/cards\")\n",
    "\n",
    "# data = r.json()\n",
    "# cartas = data[\"cards\"]"
   ]
  },
  {
   "cell_type": "code",
   "execution_count": 2,
   "metadata": {},
   "outputs": [],
   "source": [
    "with open(\"cartas.json\") as f:\n",
    "    cartas = json.loads(f.read())"
   ]
  },
  {
   "cell_type": "code",
   "execution_count": 3,
   "metadata": {},
   "outputs": [],
   "source": [
    "engine = create_engine(\"sqlite:///cartas_url.db\", echo=True)\n",
    "\n",
    "Base = declarative_base()\n",
    "\n",
    "\n",
    "class Verde(Base):\n",
    "    \n",
    "    __tablename__ = \"verdes\"\n",
    "\n",
    "    id = Column(Integer, primary_key=True)\n",
    "    name = Column(String)\n",
    "    \n",
    "    # multiverse_id = Column(Integer)\n",
    "    url = Column(String)\n",
    "    \n",
    "    rarity = Column(String)\n",
    "\n",
    "    def __repr__(self):\n",
    "        # url='{self.url}',\n",
    "        return f\"<Verde(name='{self.name}', rarity='{self.rarity}')>\""
   ]
  },
  {
   "cell_type": "code",
   "execution_count": 4,
   "metadata": {},
   "outputs": [
    {
     "name": "stdout",
     "output_type": "stream",
     "text": [
      "2020-07-10 10:10:08,643 INFO sqlalchemy.engine.base.Engine SELECT CAST('test plain returns' AS VARCHAR(60)) AS anon_1\n",
      "2020-07-10 10:10:08,647 INFO sqlalchemy.engine.base.Engine ()\n",
      "2020-07-10 10:10:08,649 INFO sqlalchemy.engine.base.Engine SELECT CAST('test unicode returns' AS VARCHAR(60)) AS anon_1\n",
      "2020-07-10 10:10:08,650 INFO sqlalchemy.engine.base.Engine ()\n",
      "2020-07-10 10:10:08,652 INFO sqlalchemy.engine.base.Engine PRAGMA main.table_info(\"verdes\")\n",
      "2020-07-10 10:10:08,655 INFO sqlalchemy.engine.base.Engine ()\n"
     ]
    }
   ],
   "source": [
    "Base.metadata.create_all(engine)\n",
    "\n",
    "Session = sessionmaker(bind=engine)\n",
    "\n",
    "session = Session()"
   ]
  },
  {
   "cell_type": "code",
   "execution_count": 5,
   "metadata": {},
   "outputs": [],
   "source": [
    "verdes = []\n",
    "\n",
    "for carta in cartas:\n",
    "\n",
    "    colores = carta[\"colors\"]\n",
    "\n",
    "    if \"Green\" in colores:\n",
    "        try:\n",
    "            url_imagen = carta[\"imageUrl\"]\n",
    "        except KeyError:  # no tiene la key [\"imageUrl\"]\n",
    "            url_imagen = \"http://placegoat.com/200/200\"\n",
    "\n",
    "        nombre = carta[\"name\"]\n",
    "        rareza = carta[\"rarity\"]\n",
    "\n",
    "        carta_nueva = Verde(name=nombre, url=url_imagen, rarity=rareza)\n",
    "        verdes.append(carta_nueva)"
   ]
  },
  {
   "cell_type": "code",
   "execution_count": 6,
   "metadata": {},
   "outputs": [
    {
     "data": {
      "text/plain": [
       "[<Verde(name='Abundance', rarity='Rare')>,\n",
       " <Verde(name='Aggressive Urge', rarity='Common')>,\n",
       " <Verde(name='Avatar of Might', rarity='Rare')>,\n",
       " <Verde(name='Avatar of Might', rarity='Rare')>,\n",
       " <Verde(name='Birds of Paradise', rarity='Rare')>,\n",
       " <Verde(name='Birds of Paradise', rarity='Rare')>,\n",
       " <Verde(name='Blanchwood Armor', rarity='Uncommon')>,\n",
       " <Verde(name='Blanchwood Armor', rarity='Uncommon')>,\n",
       " <Verde(name='Canopy Spider', rarity='Common')>,\n",
       " <Verde(name='Canopy Spider', rarity='Common')>,\n",
       " <Verde(name='Civic Wayfinder', rarity='Common')>,\n",
       " <Verde(name='Commune with Nature', rarity='Common')>,\n",
       " <Verde(name='Craw Wurm', rarity='Common')>,\n",
       " <Verde(name='Creeping Mold', rarity='Uncommon')>]"
      ]
     },
     "execution_count": 6,
     "metadata": {},
     "output_type": "execute_result"
    }
   ],
   "source": [
    "verdes"
   ]
  },
  {
   "cell_type": "code",
   "execution_count": 7,
   "metadata": {},
   "outputs": [],
   "source": [
    "session.add_all(verdes)"
   ]
  },
  {
   "cell_type": "code",
   "execution_count": 8,
   "metadata": {},
   "outputs": [
    {
     "name": "stdout",
     "output_type": "stream",
     "text": [
      "2020-07-10 10:10:12,189 INFO sqlalchemy.engine.base.Engine BEGIN (implicit)\n",
      "2020-07-10 10:10:12,195 INFO sqlalchemy.engine.base.Engine INSERT INTO verdes (name, url, rarity) VALUES (?, ?, ?)\n",
      "2020-07-10 10:10:12,199 INFO sqlalchemy.engine.base.Engine ('Abundance', 'http://gatherer.wizards.com/Handlers/Image.ashx?multiverseid=130483&type=card', 'Rare')\n",
      "2020-07-10 10:10:12,202 INFO sqlalchemy.engine.base.Engine INSERT INTO verdes (name, url, rarity) VALUES (?, ?, ?)\n",
      "2020-07-10 10:10:12,203 INFO sqlalchemy.engine.base.Engine ('Aggressive Urge', 'http://gatherer.wizards.com/Handlers/Image.ashx?multiverseid=130525&type=card', 'Common')\n",
      "2020-07-10 10:10:12,204 INFO sqlalchemy.engine.base.Engine INSERT INTO verdes (name, url, rarity) VALUES (?, ?, ?)\n",
      "2020-07-10 10:10:12,205 INFO sqlalchemy.engine.base.Engine ('Avatar of Might', 'http://gatherer.wizards.com/Handlers/Image.ashx?multiverseid=135249&type=card', 'Rare')\n",
      "2020-07-10 10:10:12,207 INFO sqlalchemy.engine.base.Engine INSERT INTO verdes (name, url, rarity) VALUES (?, ?, ?)\n",
      "2020-07-10 10:10:12,208 INFO sqlalchemy.engine.base.Engine ('Avatar of Might', 'http://placegoat.com/200/200', 'Rare')\n",
      "2020-07-10 10:10:12,212 INFO sqlalchemy.engine.base.Engine INSERT INTO verdes (name, url, rarity) VALUES (?, ?, ?)\n",
      "2020-07-10 10:10:12,213 INFO sqlalchemy.engine.base.Engine ('Birds of Paradise', 'http://gatherer.wizards.com/Handlers/Image.ashx?multiverseid=129906&type=card', 'Rare')\n",
      "2020-07-10 10:10:12,215 INFO sqlalchemy.engine.base.Engine INSERT INTO verdes (name, url, rarity) VALUES (?, ?, ?)\n",
      "2020-07-10 10:10:12,216 INFO sqlalchemy.engine.base.Engine ('Birds of Paradise', 'http://placegoat.com/200/200', 'Rare')\n",
      "2020-07-10 10:10:12,217 INFO sqlalchemy.engine.base.Engine INSERT INTO verdes (name, url, rarity) VALUES (?, ?, ?)\n",
      "2020-07-10 10:10:12,219 INFO sqlalchemy.engine.base.Engine ('Blanchwood Armor', 'http://gatherer.wizards.com/Handlers/Image.ashx?multiverseid=135267&type=card', 'Uncommon')\n",
      "2020-07-10 10:10:12,220 INFO sqlalchemy.engine.base.Engine INSERT INTO verdes (name, url, rarity) VALUES (?, ?, ?)\n",
      "2020-07-10 10:10:12,221 INFO sqlalchemy.engine.base.Engine ('Blanchwood Armor', 'http://placegoat.com/200/200', 'Uncommon')\n",
      "2020-07-10 10:10:12,224 INFO sqlalchemy.engine.base.Engine INSERT INTO verdes (name, url, rarity) VALUES (?, ?, ?)\n",
      "2020-07-10 10:10:12,225 INFO sqlalchemy.engine.base.Engine ('Canopy Spider', 'http://gatherer.wizards.com/Handlers/Image.ashx?multiverseid=135185&type=card', 'Common')\n",
      "2020-07-10 10:10:12,226 INFO sqlalchemy.engine.base.Engine INSERT INTO verdes (name, url, rarity) VALUES (?, ?, ?)\n",
      "2020-07-10 10:10:12,228 INFO sqlalchemy.engine.base.Engine ('Canopy Spider', 'http://placegoat.com/200/200', 'Common')\n",
      "2020-07-10 10:10:12,230 INFO sqlalchemy.engine.base.Engine INSERT INTO verdes (name, url, rarity) VALUES (?, ?, ?)\n",
      "2020-07-10 10:10:12,230 INFO sqlalchemy.engine.base.Engine ('Civic Wayfinder', 'http://gatherer.wizards.com/Handlers/Image.ashx?multiverseid=130522&type=card', 'Common')\n",
      "2020-07-10 10:10:12,231 INFO sqlalchemy.engine.base.Engine INSERT INTO verdes (name, url, rarity) VALUES (?, ?, ?)\n",
      "2020-07-10 10:10:12,232 INFO sqlalchemy.engine.base.Engine ('Commune with Nature', 'http://gatherer.wizards.com/Handlers/Image.ashx?multiverseid=130521&type=card', 'Common')\n",
      "2020-07-10 10:10:12,234 INFO sqlalchemy.engine.base.Engine INSERT INTO verdes (name, url, rarity) VALUES (?, ?, ?)\n",
      "2020-07-10 10:10:12,234 INFO sqlalchemy.engine.base.Engine ('Craw Wurm', 'http://gatherer.wizards.com/Handlers/Image.ashx?multiverseid=130527&type=card', 'Common')\n",
      "2020-07-10 10:10:12,235 INFO sqlalchemy.engine.base.Engine INSERT INTO verdes (name, url, rarity) VALUES (?, ?, ?)\n",
      "2020-07-10 10:10:12,236 INFO sqlalchemy.engine.base.Engine ('Creeping Mold', 'http://gatherer.wizards.com/Handlers/Image.ashx?multiverseid=129512&type=card', 'Uncommon')\n",
      "2020-07-10 10:10:12,238 INFO sqlalchemy.engine.base.Engine COMMIT\n"
     ]
    }
   ],
   "source": [
    "session.commit()"
   ]
  },
  {
   "cell_type": "code",
   "execution_count": null,
   "metadata": {},
   "outputs": [],
   "source": []
  },
  {
   "cell_type": "code",
   "execution_count": null,
   "metadata": {},
   "outputs": [],
   "source": [
    "import sqlalchemy\n",
    "from sqlalchemy import create_engine\n",
    "from sqlalchemy.orm import sessionmaker\n",
    "from sqlalchemy import Column, Integer, String\n",
    "from sqlalchemy.ext.declarative import declarative_base\n",
    "\n",
    "import json"
   ]
  },
  {
   "cell_type": "code",
   "execution_count": 10,
   "metadata": {},
   "outputs": [
    {
     "name": "stdout",
     "output_type": "stream",
     "text": [
      "2020-07-10 10:10:25,965 INFO sqlalchemy.engine.base.Engine SELECT verdes.id AS verdes_id, verdes.name AS verdes_name, verdes.url AS verdes_url, verdes.rarity AS verdes_rarity \n",
      "FROM verdes \n",
      "WHERE verdes.name = ?\n",
      " LIMIT ? OFFSET ?\n",
      "2020-07-10 10:10:25,968 INFO sqlalchemy.engine.base.Engine ('Craw Wurm', 1, 0)\n"
     ]
    }
   ],
   "source": [
    "carta = session.query(Verde).filter(Verde.name == \"Craw Wurm\").first()"
   ]
  },
  {
   "cell_type": "code",
   "execution_count": 11,
   "metadata": {},
   "outputs": [
    {
     "data": {
      "text/plain": [
       "'http://gatherer.wizards.com/Handlers/Image.ashx?multiverseid=130527&type=card'"
      ]
     },
     "execution_count": 11,
     "metadata": {},
     "output_type": "execute_result"
    }
   ],
   "source": [
    "carta.url"
   ]
  },
  {
   "cell_type": "code",
   "execution_count": 14,
   "metadata": {},
   "outputs": [],
   "source": [
    "resultado = requests.get(carta.url)\n",
    "\n",
    "with open(\"imagen_carta.jpg\", \"wb\") as f:\n",
    "    f.write(resultado.content)"
   ]
  },
  {
   "cell_type": "code",
   "execution_count": 17,
   "metadata": {},
   "outputs": [],
   "source": [
    "def descargar_imagen_carta(nombre_carta: str, nombre_archivo: str) -> bool:\n",
    "    \"\"\"Descarga la imagen de un carta haciendo la query previamente.\"\"\"\n",
    "    \n",
    "    carta = session.query(Verde).filter(Verde.name == nombre_carta).first()\n",
    "    \n",
    "    resultado = requests.get(carta.url)\n",
    "\n",
    "    with open(nombre_archivo, \"wb\") as f:\n",
    "        f.write(resultado.content)\n",
    "        \n",
    "    return bool"
   ]
  },
  {
   "cell_type": "code",
   "execution_count": 18,
   "metadata": {},
   "outputs": [
    {
     "name": "stdout",
     "output_type": "stream",
     "text": [
      "2020-07-10 10:14:39,090 INFO sqlalchemy.engine.base.Engine SELECT verdes.id AS verdes_id, verdes.name AS verdes_name, verdes.url AS verdes_url, verdes.rarity AS verdes_rarity \n",
      "FROM verdes \n",
      "WHERE verdes.name = ?\n",
      " LIMIT ? OFFSET ?\n",
      "2020-07-10 10:14:39,092 INFO sqlalchemy.engine.base.Engine ('Commune with Nature', 1, 0)\n"
     ]
    },
    {
     "data": {
      "text/plain": [
       "bool"
      ]
     },
     "execution_count": 18,
     "metadata": {},
     "output_type": "execute_result"
    }
   ],
   "source": [
    "descargar_imagen_carta(nombre_carta=\"Commune with Nature\", nombre_archivo=\"comune_nature.jpg\")"
   ]
  },
  {
   "cell_type": "code",
   "execution_count": 13,
   "metadata": {},
   "outputs": [
    {
     "data": {
      "text/plain": [
       "'http://gatherer.wizards.com/Handlers/Image.ashx?multiverseid=130527&type=card'"
      ]
     },
     "execution_count": 13,
     "metadata": {},
     "output_type": "execute_result"
    }
   ],
   "source": [
    "# carta[0].url"
   ]
  },
  {
   "cell_type": "code",
   "execution_count": null,
   "metadata": {},
   "outputs": [],
   "source": [
    "for user in (\n",
    "    session.query(User)\n",
    "    .filter(User.name == \"daniel\")\n",
    "    .filter(User.fullname == \"daniel orejuela\")\n",
    "):\n",
    "    print(user)"
   ]
  },
  {
   "cell_type": "code",
   "execution_count": null,
   "metadata": {},
   "outputs": [],
   "source": [
    "for nombre, nombre_completo in session.query(User.name, User.fullname):\n",
    "    print(nombre, nombre_completo)"
   ]
  }
 ],
 "metadata": {
  "kernelspec": {
   "display_name": "teach",
   "language": "python",
   "name": "teach"
  },
  "language_info": {
   "codemirror_mode": {
    "name": "ipython",
    "version": 3
   },
   "file_extension": ".py",
   "mimetype": "text/x-python",
   "name": "python",
   "nbconvert_exporter": "python",
   "pygments_lexer": "ipython3",
   "version": "3.7.7"
  }
 },
 "nbformat": 4,
 "nbformat_minor": 4
}
