{
 "cells": [
  {
   "cell_type": "markdown",
   "id": "white-morgan",
   "metadata": {},
   "source": [
    "## Ejercicio 01\n",
    "\n",
    "1. Obtener todas las cartas de la API.\n",
    "1. Guardar la respuesta en un archivo `.json()`\n",
    "1. La key `colors` contiene un value que es una lista. Filtrar las cartas que contengan `\"Green\"` en esa lista.\n",
    "1. Generar una base de datos con [sqlite3](https://docs.python.org/3/library/sqlite3.html) para almacenar estas cartas.\n",
    "1. Las columnas que debemos crear son (entre paréntesis está el nombre de la key que tienen en el diccionario):\n",
    "    * nombre (`name`)\n",
    "    * ** multiverse_id (`multiverseid`)  <== queda eliminado a menos que queraís hacer la parte extra\n",
    "    * tipo (`type`)\n",
    "    * **  url_imagen (`imageUrl`) <== queda eliminado a menos que queraís hacer la parte extra\n",
    "    * rareza (`rarity`)\n",
    "    * **Extra**: en las cartas verdes que NO tienen `multiverseid`, crearlo y darle el valor `0`\n",
    "    \n",
    "1. De la lista de cartas filtradas que hemos obtenido en el punto $2$, guardarlas todas en la base de datos."
   ]
  },
  {
   "cell_type": "markdown",
   "id": "worst-parcel",
   "metadata": {},
   "source": [
    "**Extra 🔥**\n",
    "\n",
    "* Crear una función que obtenga la información de la carta de la base de datos en base a un `id` o como queráis.\n",
    "* En las cartas que no tengan la variable `\"imageUrl\"`, crearla y poner: https://picsum.photos/200/200\n",
    "* Descargar la imagen de esta carta y guardarla en un archivo en el disco.\n",
    "* Crear un archivo JSON que sea una lista de diccionarios con el siguiente formato:\n",
    "\n",
    "```python\n",
    "[\n",
    "    {\"nombre\": nombre_carta, \"url_imagen\": url_imagen},\n",
    "    {\"nombre\": nombre_carta, \"url_imagen\": url_imagen},\n",
    "    {\"nombre\": nombre_carta, \"url_imagen\": url_imagen},\n",
    "    .\n",
    "    .\n",
    "    .\n",
    "]\n",
    "```\n",
    "\n",
    "Por ejemplo:\n",
    "\n",
    "```python\n",
    "req_img = requests.get(v[0][\"imageUrl\"])\n",
    "\n",
    "with open(\"imagen.jpg\", \"wb\") as f:\n",
    "    f.write(req_img.content)\n",
    "```"
   ]
  },
  {
   "cell_type": "code",
   "execution_count": null,
   "id": "comprehensive-trainer",
   "metadata": {},
   "outputs": [],
   "source": [
    "import requests\n",
    "import json\n",
    "\n",
    "import sqlite3"
   ]
  },
  {
   "cell_type": "code",
   "execution_count": null,
   "id": "surprised-shore",
   "metadata": {},
   "outputs": [],
   "source": [
    "respuesta = requests.get(URL)\n",
    "\n",
    "cartas = respuesta.json()\n",
    "\n",
    "with open(\"cartas.json\", \"w\") as f:\n",
    "    f.write(json.dumps(cartas))"
   ]
  },
  {
   "cell_type": "code",
   "execution_count": null,
   "id": "confident-specific",
   "metadata": {},
   "outputs": [],
   "source": [
    "cartas_filtradas = []\n",
    "\n",
    "for carta in cartas:\n",
    "    if \"Green\" in carta[\"colors\"]:\n",
    "        cartas_filtradas.append(carta)"
   ]
  },
  {
   "cell_type": "code",
   "execution_count": null,
   "id": "alike-tragedy",
   "metadata": {},
   "outputs": [],
   "source": [
    "cartas_filtradas = [carta for carta in cartas if \"Green\" in carta[\"colors\"]]"
   ]
  },
  {
   "cell_type": "code",
   "execution_count": null,
   "id": "bizarre-adult",
   "metadata": {},
   "outputs": [],
   "source": [
    "con = sqlite3.connect(\"magic.db\")\n",
    "\n",
    "con.execute(\"CREATE TABLE cartas (nombre TEXT, tipo TEXT, rareza TEXT)\")"
   ]
  },
  {
   "cell_type": "code",
   "execution_count": null,
   "id": "radical-reporter",
   "metadata": {},
   "outputs": [],
   "source": [
    "QUERY = \"INSERT INTO cartas VALUES (:nombre, :tipo, :rareza)\"\n",
    "\n",
    "for carta in cartas_filtradas:\n",
    "    nombre = carta[\"name\"]\n",
    "    tipo = carta[\"type\"]\n",
    "    rareza = carta[\"rarity\"]\n",
    "    parametros_query = {\"nombre\": nombre, \"tipo\": tipo, \"rareza\": rareza}\n",
    "    con.execute(QUERY, parametros_query)\n",
    "    \n",
    "con.commit()"
   ]
  },
  {
   "cell_type": "code",
   "execution_count": null,
   "id": "corporate-transfer",
   "metadata": {},
   "outputs": [],
   "source": [
    "con.execute(\"SELECT * FROM cartas\").fetchall()"
   ]
  },
  {
   "cell_type": "code",
   "execution_count": null,
   "id": "further-filename",
   "metadata": {},
   "outputs": [],
   "source": [
    "con.execute(\n",
    "    \"CREATE TABLE cartas2 (nombre TEXT, tipo TEXT, rareza TEXT, multi INTEGER, url TEXT)\"\n",
    ")\n",
    "\n",
    "QUERY = \"INSERT INTO cartas2 VALUES (:nombre, :tipo, :rareza, :multi, :url)\"\n",
    "\n",
    "lista_parametros_query = []\n",
    "\n",
    "for carta in cartas_filtradas:\n",
    "    nombre = carta[\"name\"]\n",
    "    tipo = carta[\"type\"]\n",
    "    rareza = carta[\"rarity\"]\n",
    "\n",
    "    try:\n",
    "        multiverse = carta[\"multiverseid\"]\n",
    "    except KeyError:\n",
    "        multiverse = 0\n",
    "\n",
    "    url = carta.get(\"url\", \"https://picsum.photos/200/200\")\n",
    "    parametros_query = {\n",
    "        \"nombre\": nombre,\n",
    "        \"tipo\": tipo,\n",
    "        \"rareza\": rareza,\n",
    "        \"multi\": multiverse,\n",
    "        \"url\": url,\n",
    "    }\n",
    "\n",
    "    lista_parametros_query.append(parametros_query)\n",
    "\n",
    "con.executemany(QUERY, lista_parametros_query)\n",
    "\n",
    "\n",
    "con.commit()"
   ]
  },
  {
   "cell_type": "code",
   "execution_count": null,
   "id": "optional-anchor",
   "metadata": {},
   "outputs": [],
   "source": [
    "con.row_factory = sqlite3.Row\n",
    "\n",
    "res = con.execute(\"SELECT * FROM cartas2\").fetchall()\n",
    "\n",
    "[dict(x) for x in res]"
   ]
  },
  {
   "cell_type": "markdown",
   "id": "ecological-dryer",
   "metadata": {},
   "source": [
    "Funcion para buscar una carta por nombre"
   ]
  },
  {
   "cell_type": "code",
   "execution_count": null,
   "id": "proved-cardiff",
   "metadata": {},
   "outputs": [],
   "source": [
    "def buscar_carta_nombre(nombre):\n",
    "\n",
    "    cursor = con.execute(\"SELECT * FROM cartas2 WHERE nombre = ?\", (nombre,))\n",
    "\n",
    "    return cursor.fetchone()"
   ]
  },
  {
   "cell_type": "code",
   "execution_count": null,
   "id": "bottom-collins",
   "metadata": {},
   "outputs": [],
   "source": [
    "dict(buscar_carta_nombre(\"Commune with Nature\"))"
   ]
  },
  {
   "cell_type": "markdown",
   "id": "grave-avatar",
   "metadata": {},
   "source": [
    "Fucion para descargar una imagen"
   ]
  },
  {
   "cell_type": "code",
   "execution_count": null,
   "id": "differential-edwards",
   "metadata": {},
   "outputs": [],
   "source": [
    "def descargar_url_imagen(url, archivo):\n",
    "    \"\"\"\n",
    "    Descargar bytes de una URL\n",
    "\n",
    "    Esta funcion descarga los contenidos de una URL y los guarda\n",
    "    en el archivo especificado.\n",
    "    Si el archivo no tiene extension, por defecto le\n",
    "    añade '.jpg' al nombre.\n",
    "\n",
    "    El archivo se guarda por defecto en la carpeta actual de ejecucion.\n",
    "    \"\"\"\n",
    "\n",
    "    res = requests.get(url)\n",
    "\n",
    "    res.raise_for_status()\n",
    "\n",
    "    if not archivo.endswith(\".jpg\"):\n",
    "        archivo = f\"{archivo}.jpg\"\n",
    "\n",
    "    with open(archivo, \"wb\") as f:\n",
    "        f.write(res.content)"
   ]
  },
  {
   "cell_type": "code",
   "execution_count": null,
   "id": "medieval-antigua",
   "metadata": {},
   "outputs": [],
   "source": [
    "descargar_url_imagen(\n",
    "    \"http://gatherer.wizards.com/Handlers/Image.ashx?multiverseid=136279&type=card\",\n",
    "    \"test.jpg\",\n",
    ")"
   ]
  },
  {
   "cell_type": "code",
   "execution_count": null,
   "id": "unauthorized-truth",
   "metadata": {},
   "outputs": [],
   "source": [
    "cartas2 = con.execute(\"SELECT * FROM cartas2\").fetchall()\n",
    "\n",
    "for carta in cartas2:\n",
    "    carta = dict(carta)\n",
    "    print(carta)\n",
    "\n",
    "    descargar_url_imagen(carta[\"url\"], carta[\"nombre\"])"
   ]
  },
  {
   "cell_type": "markdown",
   "id": "thirty-notice",
   "metadata": {},
   "source": [
    "Crear un archivo JSON que sea una lista de diccionarios con el siguiente formato:\n",
    "\n",
    "```python\n",
    "[\n",
    "    {\"nombre\": nombre_carta, \"url_imagen\": url_imagen},\n",
    "    {\"nombre\": nombre_carta, \"url_imagen\": url_imagen},\n",
    "    {\"nombre\": nombre_carta, \"url_imagen\": url_imagen},\n",
    "    .\n",
    "    .\n",
    "    .\n",
    "]\n",
    "```"
   ]
  },
  {
   "cell_type": "code",
   "execution_count": null,
   "id": "wired-lebanon",
   "metadata": {},
   "outputs": [],
   "source": [
    "def generar_dict_carta(carta):\n",
    "\n",
    "    name = carta[\"name\"]\n",
    "    url = carta.get(\"imageUrl\", \"https://picsum.photos/200/200\")\n",
    "\n",
    "    return {\"nombre\": name, \"url\": url}\n",
    "\n",
    "\n",
    "datos = [generar_dict_carta(carta) for carta in cartas]\n",
    "\n",
    "with open(\"cartas2.json\", \"w\") as f:\n",
    "    f.write(json.dumps(data))"
   ]
  }
 ],
 "metadata": {
  "kernelspec": {
   "display_name": "Python 3",
   "language": "python",
   "name": "python3"
  },
  "language_info": {
   "codemirror_mode": {
    "name": "ipython",
    "version": 3
   },
   "file_extension": ".py",
   "mimetype": "text/x-python",
   "name": "python",
   "nbconvert_exporter": "python",
   "pygments_lexer": "ipython3",
   "version": "3.7.9"
  }
 },
 "nbformat": 4,
 "nbformat_minor": 5
}
