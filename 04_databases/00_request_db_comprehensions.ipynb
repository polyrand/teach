{
  "nbformat": 4,
  "nbformat_minor": 0,
  "metadata": {
    "kernelspec": {
      "display_name": "teach",
      "language": "python",
      "name": "teach"
    },
    "language_info": {
      "codemirror_mode": {
        "name": "ipython",
        "version": 3
      },
      "file_extension": ".py",
      "mimetype": "text/x-python",
      "name": "python",
      "nbconvert_exporter": "python",
      "pygments_lexer": "ipython3",
      "version": "3.7.7"
    },
    "colab": {
      "name": "00_request_db_comprehensions.ipynb",
      "provenance": [],
      "toc_visible": true
    }
  },
  "cells": [
    {
      "cell_type": "markdown",
      "metadata": {
        "id": "aw2XxZCra0Xc"
      },
      "source": [
        "Autor: Ricardo Ander-Egg Aguilar\n",
        "\n",
        "* 🖥: https://ricardoanderegg.com/\n",
        "* 🐦: https://twitter.com/ricardoanderegg\n",
        "* 👨🏻‍🎓: https://www.linkedin.com/in/ricardoanderegg/"
      ]
    },
    {
      "cell_type": "markdown",
      "metadata": {
        "id": "RhNwtg3ja0Xc"
      },
      "source": [
        "## ORM, Bases de datos con SQLAlchemy\n",
        "\n",
        "ORM = Object relational mapper"
      ]
    },
    {
      "cell_type": "code",
      "metadata": {
        "id": "9KJpOIkochLu",
        "outputId": "3049db0c-98e9-44bb-b696-2ce2ef32024d",
        "colab": {
          "base_uri": "https://localhost:8080/"
        }
      },
      "source": [
        "%%writefile program.py\n",
        "import mis_funciones\n",
        "\n",
        "usuarios = mis_funciones.leer_json(\"users.json\")\n",
        "\n",
        "print(\"Hola, introduce un nuevo valor\")\n",
        "\n",
        "valor = input(\"Valor: \")\n",
        "\n",
        "usuarios[\"andrea\"] = valor\n",
        "\n",
        "mis_funciones.guardar_json(usuarios, \"users_updated.json\")\n",
        "\n",
        "print(\"JSON actualizado\")"
      ],
      "execution_count": 28,
      "outputs": [
        {
          "output_type": "stream",
          "text": [
            "Overwriting program.py\n"
          ],
          "name": "stdout"
        }
      ]
    },
    {
      "cell_type": "code",
      "metadata": {
        "id": "1RZZHbOCcj7A",
        "outputId": "1e697d22-ede0-4d2c-d3d3-a609c6aabcc7",
        "colab": {
          "base_uri": "https://localhost:8080/"
        }
      },
      "source": [
        "!python3 program.py"
      ],
      "execution_count": 29,
      "outputs": [
        {
          "output_type": "stream",
          "text": [
            "Hola, introduce un nuevo valor\n",
            "Valor: 30000\n",
            "JSON actualizado\n"
          ],
          "name": "stdout"
        }
      ]
    },
    {
      "cell_type": "code",
      "metadata": {
        "id": "8DMtDR6cfzzZ"
      },
      "source": [
        "usuarios = {\"marta\": 123, \"laura\": 345, \"andrea\": 234}"
      ],
      "execution_count": 15,
      "outputs": []
    },
    {
      "cell_type": "code",
      "metadata": {
        "id": "e3-wr980f5N2"
      },
      "source": [
        "import json\n",
        "\n",
        "with open(\"usuarios.json\", \"w\") as f:\n",
        "    f.write(json.dumps(usuarios))"
      ],
      "execution_count": 16,
      "outputs": []
    },
    {
      "cell_type": "code",
      "metadata": {
        "id": "g2vrXixderbt",
        "outputId": "7c72339a-39dc-43b3-c2ea-bb819d0c14c5",
        "colab": {
          "base_uri": "https://localhost:8080/"
        }
      },
      "source": [
        "%%writefile mis_funciones.py\n",
        "\n",
        "import json\n",
        "\n",
        "\n",
        "def leer_json(nombre):\n",
        "    with open(nombre) as f:\n",
        "        contenidos_archivo = f.read()\n",
        "        obj = json.loads(contenidos_archivo)\n",
        "\n",
        "    return obj\n",
        "\n",
        "\n",
        "def guardar_json(obj, nombre):\n",
        "    with open(nombre, \"w\") as f:\n",
        "        cadena_json = json.dumps(obj)\n",
        "        f.write(cadena_json)"
      ],
      "execution_count": 17,
      "outputs": [
        {
          "output_type": "stream",
          "text": [
            "Writing mis_funciones.py\n"
          ],
          "name": "stdout"
        }
      ]
    },
    {
      "cell_type": "code",
      "metadata": {
        "id": "yDsx4Sv8gLsE"
      },
      "source": [
        "from mis_funciones import leer_json, guardar_json"
      ],
      "execution_count": 18,
      "outputs": []
    },
    {
      "cell_type": "code",
      "metadata": {
        "id": "wFn2xCTYgX3r"
      },
      "source": [
        "usuarios = leer_json(\"users.json\")"
      ],
      "execution_count": 19,
      "outputs": []
    },
    {
      "cell_type": "code",
      "metadata": {
        "id": "cidg8X4pgYcj"
      },
      "source": [
        "usuarios[\"andrea\"] = 1000"
      ],
      "execution_count": 21,
      "outputs": []
    },
    {
      "cell_type": "code",
      "metadata": {
        "id": "pGPpEY19gd3X",
        "outputId": "5b055c55-944b-49e3-d128-caec96f0400c",
        "colab": {
          "base_uri": "https://localhost:8080/"
        }
      },
      "source": [
        "usuarios"
      ],
      "execution_count": 22,
      "outputs": [
        {
          "output_type": "execute_result",
          "data": {
            "text/plain": [
              "{'andrea': 1000, 'laura': 345, 'marta': 123}"
            ]
          },
          "metadata": {
            "tags": []
          },
          "execution_count": 22
        }
      ]
    },
    {
      "cell_type": "code",
      "metadata": {
        "id": "AMx_1C6vfo75"
      },
      "source": [
        "guardar_json(usuarios, \"users_updated.json\")"
      ],
      "execution_count": 23,
      "outputs": []
    },
    {
      "cell_type": "code",
      "metadata": {
        "id": "OwjCqznrjiJs"
      },
      "source": [
        "import sqlite3"
      ],
      "execution_count": 31,
      "outputs": []
    },
    {
      "cell_type": "code",
      "metadata": {
        "id": "M4s-uA2wjk4W"
      },
      "source": [
        "con = sqlite3.connect(\"test.db\")"
      ],
      "execution_count": 32,
      "outputs": []
    },
    {
      "cell_type": "code",
      "metadata": {
        "id": "viAhuiQPjoM1",
        "outputId": "6d24a1ad-0315-4b1f-e8f6-e5e61c38b09f",
        "colab": {
          "base_uri": "https://localhost:8080/"
        }
      },
      "source": [
        "con.execute(\"create table kv (key string, value string)\")"
      ],
      "execution_count": 33,
      "outputs": [
        {
          "output_type": "execute_result",
          "data": {
            "text/plain": [
              "<sqlite3.Cursor at 0x7f67ed1b98f0>"
            ]
          },
          "metadata": {
            "tags": []
          },
          "execution_count": 33
        }
      ]
    },
    {
      "cell_type": "code",
      "metadata": {
        "id": "UftYkKpWjyMj"
      },
      "source": [
        "def insert(valor):\n",
        "    con.execute(\"insert into kv values ('hola', :valor)\", {\"valor\": valor})\n",
        "    con.commit()"
      ],
      "execution_count": 51,
      "outputs": []
    },
    {
      "cell_type": "code",
      "metadata": {
        "id": "ezE6ER9Zk0Eo"
      },
      "source": [
        "insert(\"jajajaj\")"
      ],
      "execution_count": 52,
      "outputs": []
    },
    {
      "cell_type": "code",
      "metadata": {
        "id": "k-O4uT-DkGeI",
        "outputId": "339bf159-9acc-42e5-cf25-7efdbc7cdf37",
        "colab": {
          "base_uri": "https://localhost:8080/"
        }
      },
      "source": [
        "con.execute(\"select * from kv\").fetchall()"
      ],
      "execution_count": 53,
      "outputs": [
        {
          "output_type": "execute_result",
          "data": {
            "text/plain": [
              "[('hola', 'adios'),\n",
              " ('hola', 'hello'),\n",
              " ('hola', 'jajajaj'),\n",
              " ('hola', 'jajajaj')]"
            ]
          },
          "metadata": {
            "tags": []
          },
          "execution_count": 53
        }
      ]
    },
    {
      "cell_type": "code",
      "metadata": {
        "id": "bb4wXqb8lPeC"
      },
      "source": [
        "## NOOO ##\n",
        "f\"\"\"\n",
        "INSERT INTO kv VALUES ({}, {})\n",
        "\"\"\""
      ],
      "execution_count": null,
      "outputs": []
    },
    {
      "cell_type": "code",
      "metadata": {
        "id": "y3Wz9cE0a0Xd"
      },
      "source": [
        "import sqlalchemy\n",
        "from sqlalchemy import create_engine\n",
        "from sqlalchemy.orm import sessionmaker\n",
        "from sqlalchemy import Column, Integer, String\n",
        "from sqlalchemy.ext.declarative import declarative_base"
      ],
      "execution_count": 84,
      "outputs": []
    },
    {
      "cell_type": "code",
      "metadata": {
        "id": "vFZxQDOba0Xf"
      },
      "source": [
        "# creamos una base de datos SQLite directamente en la memoria RAM del ordenador\n",
        "engine = create_engine(\"sqlite:///curso.db\")\n",
        "\n",
        "# para crearla en el disco duro. echo=True hará que SQLAlchemy nos devuelve información del tipo de queries que está ejecutando\n",
        "# engine = create_engine(\"sqlite:///curso.db\", echo=True)"
      ],
      "execution_count": 85,
      "outputs": []
    },
    {
      "cell_type": "code",
      "metadata": {
        "id": "i5vhAILta0Xf"
      },
      "source": [
        "from sqlalchemy.ext.declarative import declarative_base\n",
        "\n",
        "Base = declarative_base()"
      ],
      "execution_count": 86,
      "outputs": []
    },
    {
      "cell_type": "markdown",
      "metadata": {
        "id": "2nQXsgp6a0Xf"
      },
      "source": [
        "Creamos nuestra tabla.\n",
        "\n",
        "\n",
        "El método `__repr__` indica dentro de una clase qué queremos que aparezca cuando hagamos `print()`."
      ]
    },
    {
      "cell_type": "code",
      "metadata": {
        "id": "xwRbcHlfa0Xf"
      },
      "source": [
        "class User(Base):\n",
        "    __tablename__ = \"users\"\n",
        "\n",
        "    id = Column(Integer, primary_key=True)\n",
        "    name = Column(String, index=True)\n",
        "    fullname = Column(String)\n",
        "    url = Column(String, unique=True)\n",
        "\n",
        "    def __repr__(self):\n",
        "        return \"<User(name='%s', fullname='%s', url='%s')>\" % (\n",
        "            self.name,\n",
        "            self.fullname,\n",
        "            self.url,\n",
        "        )"
      ],
      "execution_count": 87,
      "outputs": []
    },
    {
      "cell_type": "code",
      "metadata": {
        "id": "ANx3S-Kva0Xf"
      },
      "source": [
        "Base.metadata.create_all(engine)"
      ],
      "execution_count": 88,
      "outputs": []
    },
    {
      "cell_type": "code",
      "metadata": {
        "id": "o4xCUCALa0Xf"
      },
      "source": [
        "Session = sessionmaker(bind=engine)"
      ],
      "execution_count": 89,
      "outputs": []
    },
    {
      "cell_type": "code",
      "metadata": {
        "id": "Bill9Jx4a0Xf"
      },
      "source": [
        "session = Session()"
      ],
      "execution_count": 90,
      "outputs": []
    },
    {
      "cell_type": "code",
      "metadata": {
        "id": "-MEp6K8_mkDJ"
      },
      "source": [
        "ricardo_user = User(name=\"ricardo\", fullname=\"Ricardo Ander-Egg\", url=\"ricardoanderegg.com\")"
      ],
      "execution_count": 91,
      "outputs": []
    },
    {
      "cell_type": "code",
      "metadata": {
        "id": "f1b9-J39a0Xf"
      },
      "source": [
        "session.add(ricardo_user)"
      ],
      "execution_count": 92,
      "outputs": []
    },
    {
      "cell_type": "markdown",
      "metadata": {
        "id": "K092J-Mna0Xf"
      },
      "source": [
        "Ahora podemos hacer queries sin escribir directamente SQL usando python, objetos, y la relación entre estos objetos."
      ]
    },
    {
      "cell_type": "code",
      "metadata": {
        "id": "LpldFxpra0Xg"
      },
      "source": [
        "mi_usuario = session.query(User).filter_by(name=\"ricardo\").first()"
      ],
      "execution_count": 93,
      "outputs": []
    },
    {
      "cell_type": "markdown",
      "metadata": {
        "id": "EO79EDyca0Xg"
      },
      "source": [
        "Añadimos varios a la vez."
      ]
    },
    {
      "cell_type": "code",
      "metadata": {
        "id": "_zeqXi6oa0Xg"
      },
      "source": [
        "lista_users = [\n",
        "    User(name=\"jaume\", fullname=\"jaume go\", url=\"twitter.com/jaume\"),\n",
        "    User(name=\"carles\", fullname=\"carls he\", url=\"twitter.com/carles\"),\n",
        "    User(name=\"david\", fullname=\"davida b\", url=\"twitter.com/david\"),\n",
        "    User(name=\"jose antonio\", fullname=\"jose a\", url=\"twitter.com/jose\"),\n",
        "    User(name=\"pedro\", fullname=\"pedro ro\", url=\"twitter.com/pedro\"),\n",
        "    \n",
        "]"
      ],
      "execution_count": 94,
      "outputs": []
    },
    {
      "cell_type": "code",
      "metadata": {
        "id": "wg2Jk6FHa0Xg"
      },
      "source": [
        "session.add_all(lista_users)"
      ],
      "execution_count": 95,
      "outputs": []
    },
    {
      "cell_type": "code",
      "metadata": {
        "id": "0eOH3yCTa0Xg"
      },
      "source": [
        "session.commit()"
      ],
      "execution_count": 96,
      "outputs": []
    },
    {
      "cell_type": "markdown",
      "metadata": {
        "id": "sVx3bTUba0Xg"
      },
      "source": [
        "Si nos equivocamos podemos hacer un **`.rollback()`** antes de hacer commit!"
      ]
    },
    {
      "cell_type": "code",
      "metadata": {
        "id": "K13ZHwmna0Xg"
      },
      "source": [
        "usuario_erroneo = User(name=\"user erroneo\", fullname=\"oriol mitja\", url=\"google.com\")"
      ],
      "execution_count": 97,
      "outputs": []
    },
    {
      "cell_type": "code",
      "metadata": {
        "id": "T87CfcSma0Xg"
      },
      "source": [
        "session.add(usuario_erroneo)"
      ],
      "execution_count": 98,
      "outputs": []
    },
    {
      "cell_type": "markdown",
      "metadata": {
        "id": "z-vyxKJCa0Xg"
      },
      "source": [
        "Podemos hacer una query "
      ]
    },
    {
      "cell_type": "code",
      "metadata": {
        "id": "N-7gi14Da0Xg",
        "outputId": "660bc47d-4724-44e3-dba0-b060b2f4fae0",
        "colab": {
          "base_uri": "https://localhost:8080/"
        }
      },
      "source": [
        "session.query(User).filter(User.name.in_([\"Manuel\", \"user erroneo\"])).all()"
      ],
      "execution_count": 99,
      "outputs": [
        {
          "output_type": "execute_result",
          "data": {
            "text/plain": [
              "[<User(name='user erroneo', fullname='oriol mitja', url='google.com')>]"
            ]
          },
          "metadata": {
            "tags": []
          },
          "execution_count": 99
        }
      ]
    },
    {
      "cell_type": "markdown",
      "metadata": {
        "id": "m3fMAyLsa0Xi"
      },
      "source": [
        "Hacemos rollback para \"deshacer\" la acción que habíamos ejecutado con el `.add()`"
      ]
    },
    {
      "cell_type": "code",
      "metadata": {
        "id": "cYNq_xbRa0Xi"
      },
      "source": [
        "session.rollback()"
      ],
      "execution_count": 100,
      "outputs": []
    },
    {
      "cell_type": "markdown",
      "metadata": {
        "id": "-60r2_yAa0Xi"
      },
      "source": [
        "Para filtrar tenemos muchas opciones!"
      ]
    },
    {
      "cell_type": "code",
      "metadata": {
        "id": "tJFa7zBEa0Xi"
      },
      "source": [
        "usuarios = session.query(User).filter(User.name.in_([\"ricardo\", \"pedro\"])).all()"
      ],
      "execution_count": 101,
      "outputs": []
    },
    {
      "cell_type": "code",
      "metadata": {
        "id": "u1vV9o6rnwHa",
        "outputId": "d80c7fc2-2bea-4363-9c35-5b5546411f8b",
        "colab": {
          "base_uri": "https://localhost:8080/",
          "height": 35
        }
      },
      "source": [
        "usuarios[0].url"
      ],
      "execution_count": 102,
      "outputs": [
        {
          "output_type": "execute_result",
          "data": {
            "application/vnd.google.colaboratory.intrinsic+json": {
              "type": "string"
            },
            "text/plain": [
              "'twitter.com/pedro'"
            ]
          },
          "metadata": {
            "tags": []
          },
          "execution_count": 102
        }
      ]
    },
    {
      "cell_type": "code",
      "metadata": {
        "id": "_dXu_L6va0Xi"
      },
      "source": [
        "usuarios[0].url = \"twitter.com/ricardoanderegg\""
      ],
      "execution_count": 103,
      "outputs": []
    },
    {
      "cell_type": "code",
      "metadata": {
        "id": "a1z7lhvja0Xi"
      },
      "source": [
        "u = usuarios[0]"
      ],
      "execution_count": 104,
      "outputs": []
    },
    {
      "cell_type": "code",
      "metadata": {
        "id": "kPYReAXCn6H2",
        "outputId": "16be50c0-313a-458b-b551-6d32807f0104",
        "colab": {
          "base_uri": "https://localhost:8080/"
        }
      },
      "source": [
        "u"
      ],
      "execution_count": 105,
      "outputs": [
        {
          "output_type": "execute_result",
          "data": {
            "text/plain": [
              "<User(name='pedro', fullname='pedro ro', url='twitter.com/ricardoanderegg')>"
            ]
          },
          "metadata": {
            "tags": []
          },
          "execution_count": 105
        }
      ]
    },
    {
      "cell_type": "code",
      "metadata": {
        "id": "YIuMzg6Pa0Xi"
      },
      "source": [
        "session.commit()"
      ],
      "execution_count": 106,
      "outputs": []
    },
    {
      "cell_type": "code",
      "metadata": {
        "id": "W441VpSia0Xi",
        "outputId": "80c68615-29e5-4430-ec5d-22e84905e899",
        "colab": {
          "base_uri": "https://localhost:8080/"
        }
      },
      "source": [
        "for usuario in session.query(User).order_by(User.id):\n",
        "    print(usuario.name, usuario.fullname, usuario.url)"
      ],
      "execution_count": 107,
      "outputs": [
        {
          "output_type": "stream",
          "text": [
            "ricardo Ricardo Ander-Egg ricardoanderegg.com\n",
            "jaume jaume go twitter.com/jaume\n",
            "carles carls he twitter.com/carles\n",
            "david davida b twitter.com/david\n",
            "jose antonio jose a twitter.com/jose\n",
            "pedro pedro ro twitter.com/ricardoanderegg\n"
          ],
          "name": "stdout"
        }
      ]
    },
    {
      "cell_type": "code",
      "metadata": {
        "id": "C5aRccS3a0Xi",
        "outputId": "8fbfeaac-6102-45fe-b1e2-7934c8d5d009",
        "colab": {
          "base_uri": "https://localhost:8080/"
        }
      },
      "source": [
        "for nombre, nombre_completo in session.query(User.name, User.fullname):\n",
        "    print(nombre, nombre_completo)"
      ],
      "execution_count": 108,
      "outputs": [
        {
          "output_type": "stream",
          "text": [
            "ricardo Ricardo Ander-Egg\n",
            "jaume jaume go\n",
            "carles carls he\n",
            "david davida b\n",
            "jose antonio jose a\n",
            "pedro pedro ro\n"
          ],
          "name": "stdout"
        }
      ]
    },
    {
      "cell_type": "markdown",
      "metadata": {
        "id": "CBi3clDJa0Xi"
      },
      "source": [
        "El equivalente de esto en SQL sería:\n",
        "\n",
        "```sql\n",
        "SELECT users.name AS nombre,\n",
        "        users.fullname AS nombre_completo\n",
        "FROM users\n",
        "()\n",
        "```"
      ]
    },
    {
      "cell_type": "code",
      "metadata": {
        "id": "k2hs1AdDa0Xi",
        "outputId": "004ae661-5d3b-4071-e330-f672198c882d",
        "colab": {
          "base_uri": "https://localhost:8080/"
        }
      },
      "source": [
        "for row in session.query(User, User.name).all():\n",
        "    print(row.User, row.name)"
      ],
      "execution_count": 109,
      "outputs": [
        {
          "output_type": "stream",
          "text": [
            "<User(name='ricardo', fullname='Ricardo Ander-Egg', url='ricardoanderegg.com')> ricardo\n",
            "<User(name='jaume', fullname='jaume go', url='twitter.com/jaume')> jaume\n",
            "<User(name='carles', fullname='carls he', url='twitter.com/carles')> carles\n",
            "<User(name='david', fullname='davida b', url='twitter.com/david')> david\n",
            "<User(name='jose antonio', fullname='jose a', url='twitter.com/jose')> jose antonio\n",
            "<User(name='pedro', fullname='pedro ro', url='twitter.com/ricardoanderegg')> pedro\n"
          ],
          "name": "stdout"
        }
      ]
    },
    {
      "cell_type": "code",
      "metadata": {
        "id": "HenltOPya0Xi"
      },
      "source": [
        "nuevo_user = User(name=\"jaume\", fullname=\"jaume serra\", url=\"twitter.com/jaume2\")"
      ],
      "execution_count": 110,
      "outputs": []
    },
    {
      "cell_type": "code",
      "metadata": {
        "id": "D-2JnVYDa0Xi"
      },
      "source": [
        "session.add(nuevo_user)"
      ],
      "execution_count": 111,
      "outputs": []
    },
    {
      "cell_type": "code",
      "metadata": {
        "id": "rPopnDJ3a0Xi"
      },
      "source": [
        "session.commit()"
      ],
      "execution_count": 112,
      "outputs": []
    },
    {
      "cell_type": "code",
      "metadata": {
        "id": "Ms2vmOcWa0Xj",
        "outputId": "f0e83a4e-8d8c-48ed-e7fe-0594f10c2038",
        "colab": {
          "base_uri": "https://localhost:8080/"
        }
      },
      "source": [
        "for user in (\n",
        "    session.query(User)\n",
        "    .filter(User.name == \"jaume\")\n",
        "    .filter(User.fullname == \"jaume go\")\n",
        "):\n",
        "    print(user)"
      ],
      "execution_count": 114,
      "outputs": [
        {
          "output_type": "stream",
          "text": [
            "<User(name='jaume', fullname='jaume go', url='twitter.com/jaume')>\n"
          ],
          "name": "stdout"
        }
      ]
    },
    {
      "cell_type": "code",
      "metadata": {
        "id": "KXEfcISaa0Xj"
      },
      "source": [
        "nombres_filtro = [\"carles\", \"jaume\"]"
      ],
      "execution_count": 115,
      "outputs": []
    },
    {
      "cell_type": "code",
      "metadata": {
        "id": "7YdCo5J6a0Xj"
      },
      "source": [
        "resultado = session.query(User).filter(User.name.in_(nombres_filtro)).all()"
      ],
      "execution_count": 122,
      "outputs": []
    },
    {
      "cell_type": "code",
      "metadata": {
        "id": "M0FFnjDaoy0S",
        "outputId": "e3fa6461-bbf8-4d93-a6d3-f43d9d65137e",
        "colab": {
          "base_uri": "https://localhost:8080/"
        }
      },
      "source": [
        "resultado"
      ],
      "execution_count": 123,
      "outputs": [
        {
          "output_type": "execute_result",
          "data": {
            "text/plain": [
              "[<User(name='carles', fullname='carls he', url='twitter.com/carles')>,\n",
              " <User(name='jaume', fullname='jaume go', url='twitter.com/jaume')>,\n",
              " <User(name='jaume', fullname='jaume serra', url='twitter.com/jaume2')>]"
            ]
          },
          "metadata": {
            "tags": []
          },
          "execution_count": 123
        }
      ]
    },
    {
      "cell_type": "code",
      "metadata": {
        "id": "kj_I3WTIa0Xj"
      },
      "source": [
        "import requests\n",
        "import sqlalchemy\n",
        "\n",
        "from sqlalchemy import create_engine\n",
        "from sqlalchemy.ext.declarative import declarative_base\n",
        "from sqlalchemy import Column, Integer, String\n",
        "\n",
        "from sqlalchemy.orm import sessionmaker"
      ],
      "execution_count": null,
      "outputs": []
    },
    {
      "cell_type": "code",
      "metadata": {
        "id": "uHXNs8O3a0Xj"
      },
      "source": [
        "class Lenguajes(Base):\n",
        "    \n",
        "    __tablename__ = \"lenguajes\"\n",
        "    \n",
        "    id = Column(Integer, primary_key=True)\n",
        "    name = Column(String, nullable=False)\n",
        "    year = Column(Integer)"
      ],
      "execution_count": null,
      "outputs": []
    },
    {
      "cell_type": "code",
      "metadata": {
        "id": "g2OOOtWza0Xj"
      },
      "source": [
        "Base.metadata.create_all(engine)"
      ],
      "execution_count": null,
      "outputs": []
    },
    {
      "cell_type": "code",
      "metadata": {
        "id": "MydbxqWia0Xj"
      },
      "source": [
        "python = Lenguajes(name=\"python\", year=1989)"
      ],
      "execution_count": null,
      "outputs": []
    },
    {
      "cell_type": "code",
      "metadata": {
        "id": "eFuJUNYxa0Xj"
      },
      "source": [
        "session.add(python)"
      ],
      "execution_count": null,
      "outputs": []
    },
    {
      "cell_type": "code",
      "metadata": {
        "id": "VegsILkPa0Xj"
      },
      "source": [
        "session.commit()"
      ],
      "execution_count": null,
      "outputs": []
    },
    {
      "cell_type": "code",
      "metadata": {
        "id": "bRCfQj7la0Xj",
        "outputId": "2670a48e-6f53-459d-c2aa-895f34a8eaa9"
      },
      "source": [
        "session.query(User).all()"
      ],
      "execution_count": null,
      "outputs": [
        {
          "output_type": "execute_result",
          "data": {
            "text/plain": [
              "[<User(name='ricardo', fullname='Ricardo Ander-Egg', url='twitter.com/ricardoanderegg')>,\n",
              " <User(name='jaume', fullname='jaume goñi', url='twitter.com/jaume')>,\n",
              " <User(name='carles', fullname='carls hernan', url='twitter.com/carles')>,\n",
              " <User(name='david', fullname='davida barnes', url='twitter.com/david')>,\n",
              " <User(name='jose antonio', fullname='jose antonio cuenca', url='twitter.com/jose')>,\n",
              " <User(name='pedro', fullname='pedro roldar', url='twitter.com/pedro')>,\n",
              " <User(name='ricardo', fullname='Ricardo Ander-Egg', url='ricardoanderegg.com')>,\n",
              " <User(name='jaume', fullname='jaume goñi', url='twitter.com/jaume')>,\n",
              " <User(name='carles', fullname='carls hernan', url='twitter.com/carles')>,\n",
              " <User(name='david', fullname='davida barnes', url='twitter.com/david')>,\n",
              " <User(name='jose antonio', fullname='jose antonio cuenca', url='twitter.com/jose')>,\n",
              " <User(name='pedro', fullname='pedro roldar', url='twitter.com/pedro')>,\n",
              " <User(name='jaume', fullname='jaume serra', url='twitter.com/jaume2')>,\n",
              " <User(name='ricardo', fullname='Ricardo Ander-Egg', url='ricardoanderegg.com')>,\n",
              " <User(name='jaume', fullname='jaume goñi', url='twitter.com/jaume')>,\n",
              " <User(name='carles', fullname='carls hernan', url='twitter.com/carles')>,\n",
              " <User(name='david', fullname='davida barnes', url='twitter.com/david')>,\n",
              " <User(name='jose antonio', fullname='jose antonio cuenca', url='twitter.com/jose')>,\n",
              " <User(name='pedro', fullname='pedro roldar', url='twitter.com/pedro')>,\n",
              " <User(name='jaume', fullname='jaume serra', url='twitter.com/jaume2')>]"
            ]
          },
          "metadata": {
            "tags": []
          },
          "execution_count": 40
        }
      ]
    },
    {
      "cell_type": "code",
      "metadata": {
        "id": "NZNGlnsja0Xj"
      },
      "source": [
        "try:\n",
        "    session.add(......)\n",
        "except Exception:\n",
        "    session.rollback()\n",
        "    raise"
      ],
      "execution_count": null,
      "outputs": []
    },
    {
      "cell_type": "markdown",
      "metadata": {
        "id": "0FTZASUTa0Xj"
      },
      "source": [
        "## Ejercicio 01\n",
        "\n",
        "1. Obtener todas las cartas de la API.\n",
        "1. La key `colors` contiene un value que es una lista. Filtrar las cartas que contengan `\"Green\"` en esa lista.\n",
        "1. Generar una base de datos con SQLAlchemy para almacenar estas cartas.\n",
        "1. Las columnas que debemos crear son (entre paréntesis está el nombre de la key que tienen en el diccionario):\n",
        "    * nombre (`name`)\n",
        "    * ** multiverse_id (`multiverseid`)  <== queda eliminado a menos que queraís hacer la parte extra\n",
        "    * tipo (`type`)\n",
        "    * **  url_imagen (`imageUrl`) <== queda eliminado a menos que queraís hacer la parte extra\n",
        "    * rareza (`rarity`)\n",
        "    * **Extra**: en las cartas verdes que NO tienen `multiverseid`, crearlo y darle el valor `0`\n",
        "    \n",
        "1. De la lista de cartas filtradas que hemos obtenido en el punto $2$, guardarlas todas en la base de datos."
      ]
    },
    {
      "cell_type": "markdown",
      "metadata": {
        "id": "d7Ud4xIca0Xj"
      },
      "source": [
        "**Extra 🔥**\n",
        "\n",
        "* Crear una función que obtenga la información de la carta de la base de datos en base a un `id` o como queráis.\n",
        "* En las cartas que no tengan la variable `\"imageUrl\"`, crearla y poner: http://placegoat.com/200/200\n",
        "* Descargar la imagen de esta carta (o de la cabra 😂) y guardarla en un archivo en el disco.\n",
        "* Crear un archivo JSON que sea una lista de diccionarios con el siguiente formato:\n",
        "\n",
        "```python\n",
        "[\n",
        "    {\"nombre\": nombre_carta, \"url_imagen\": url_imagen},\n",
        "    {\"nombre\": nombre_carta, \"url_imagen\": url_imagen},\n",
        "    {\"nombre\": nombre_carta, \"url_imagen\": url_imagen},\n",
        "    .\n",
        "    .\n",
        "    .\n",
        "]\n",
        "```\n",
        "\n",
        "Por ejemplo:\n",
        "\n",
        "```python\n",
        "req_img = requests.get(v[0][\"imageUrl\"])\n",
        "\n",
        "with open(\"imagen.jpg\", \"wb\") as f:\n",
        "    f.write(req_img.content)\n",
        "```"
      ]
    },
    {
      "cell_type": "code",
      "metadata": {
        "id": "e5lhjDaIa0Xj"
      },
      "source": [
        "import json\n",
        "\n",
        "with open(\"cartas.json\", \"w\") as f:\n",
        "    f.write(json.dumps(cartas))"
      ],
      "execution_count": null,
      "outputs": []
    },
    {
      "cell_type": "code",
      "metadata": {
        "id": "IL9DcZDia0Xj"
      },
      "source": [
        "### CODE"
      ],
      "execution_count": null,
      "outputs": []
    }
  ]
}