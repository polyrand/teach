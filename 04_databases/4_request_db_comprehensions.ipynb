{
 "cells": [
  {
   "cell_type": "markdown",
   "metadata": {},
   "source": [
    "Autor: Ricardo Ander-Egg Aguilar\n",
    "\n",
    "* 🖥: https://ricardoanderegg.com/\n",
    "* 🐦: https://twitter.com/ricardoanderegg\n",
    "* 👨🏻‍🎓: https://www.linkedin.com/in/ricardoanderegg/"
   ]
  },
  {
   "cell_type": "code",
   "execution_count": null,
   "metadata": {},
   "outputs": [],
   "source": [
    "import requests"
   ]
  },
  {
   "cell_type": "markdown",
   "metadata": {},
   "source": [
    "## Ejercicio\n",
    "\n",
    "\n",
    "* Usando la API: https://exchangeratesapi.io/\n",
    "    * Hay que entrar a la web y ahi sale la \"documentación\". Debéis usar la URL correcta para lo que queréis hacer.\n",
    "* Crear una función de conversión de divisas.\n",
    "* La función acepta 2 parámetros. El primer parámetro son la contidad de \"EUR\". El otro parámetro es la divisa a la que queremos convertir. \n",
    "\n",
    "**Extra**\n",
    "* Añadir un tercer parámetro `lista=False`.\n",
    "* Si lo ejecutamos con `lista=True` la función nos debe devolver ADEMÁS de la conversión, una lista que incluya todas las divisas entre las que puede convertir."
   ]
  },
  {
   "cell_type": "code",
   "execution_count": null,
   "metadata": {},
   "outputs": [],
   "source": [
    "def conversor(cantidad, divisa, lista=False):\n",
    "    \n",
    "    url = \"https://api.exchangeratesapi.io/latest\"\n",
    "    res = requests.get(url)\n",
    "    data = res.json()\n",
    "    \n",
    "    ratio = data[\"rates\"][divisa]\n",
    "    \n",
    "    resultado = cantidad * ratio\n",
    "    \n",
    "    if lista: ## --lo mismo que--> if lista == True:\n",
    "        divisas_disponibles = list(data[\"rates\"].keys())\n",
    "        \n",
    "        return resultado, divisas_disponibles\n",
    "    \n",
    "    \n",
    "    \n",
    "    return resultado"
   ]
  },
  {
   "cell_type": "markdown",
   "metadata": {},
   "source": [
    "Por ejemplo para convertir 25€ ---> USD:"
   ]
  },
  {
   "cell_type": "code",
   "execution_count": null,
   "metadata": {},
   "outputs": [],
   "source": [
    "resultado, disponibles = conversor(25, \"HKD\", lista=True)"
   ]
  },
  {
   "cell_type": "code",
   "execution_count": null,
   "metadata": {},
   "outputs": [
    {
     "data": {
      "text/plain": [
       "211.9525"
      ]
     },
     "execution_count": null,
     "metadata": {},
     "output_type": "execute_result"
    }
   ],
   "source": [
    "resultado"
   ]
  },
  {
   "cell_type": "markdown",
   "metadata": {},
   "source": [
    "**Mi recomendación**\n",
    "\n",
    "En lugar de ponerse con la función directamente, podemos aprovechar la \"interactividad\" que nos da jupyterlab. Podemos primero hacer la `request` y capturar el resultado. Después convertirlo a con `.json()`, ver que tipo de objeto nos devuelve, etc, etc. En resumen, ir experimentando con las variables y cuando ya estamos seguros de los pasos que se deben ejecutar, **en ese momento** cogemos lo que hemos estado haciendo y lo convertirmos en una función que acepte los parámetros adecuados.\n",
    "\n",
    "Pero eso mejor primer ver todos los pasos que hay que hacer y como se hacen. Para eso Jupyter es perfecto. Y una vez lo tenemos ya lo pasamos a una función.\n",
    "\n",
    "Si fuera algo más complejo incluso haríamos haciendo esto para todas las funciones y una vez lo tuviéramos todo hecho, lo pasaríamos a un script de python."
   ]
  },
  {
   "cell_type": "markdown",
   "metadata": {},
   "source": [
    "## ORM, Bases de datos con SQLAlchemy\n",
    "\n",
    "ORM = Object relational mapper"
   ]
  },
  {
   "cell_type": "code",
   "execution_count": null,
   "metadata": {},
   "outputs": [],
   "source": [
    "import sqlalchemy\n",
    "from sqlalchemy import create_engine"
   ]
  },
  {
   "cell_type": "code",
   "execution_count": null,
   "metadata": {},
   "outputs": [],
   "source": [
    "# creamos una base de datos SQLite directamente en la memoria RAM del ordenador\n",
    "engine = create_engine(\"sqlite:///:memory:\")\n",
    "\n",
    "# para crearla en el disco duro. echo=True hará que SQLAlchemy nos devuelve información del tipo de queries que está ejecutando\n",
    "# engine = create_engine(\"sqlite:///curso.db\", echo=True)"
   ]
  },
  {
   "cell_type": "code",
   "execution_count": null,
   "metadata": {},
   "outputs": [],
   "source": [
    "from sqlalchemy.ext.declarative import declarative_base\n",
    "\n",
    "Base = declarative_base()"
   ]
  },
  {
   "cell_type": "code",
   "execution_count": null,
   "metadata": {},
   "outputs": [],
   "source": [
    "from sqlalchemy import Column, Integer, String"
   ]
  },
  {
   "cell_type": "markdown",
   "metadata": {},
   "source": [
    "Creamos nuestra tabla.\n",
    "\n",
    "\n",
    "El método `__repr__` indica dentro de una clase qué queremos que aparezca cuando hagamos `print()`."
   ]
  },
  {
   "cell_type": "code",
   "execution_count": null,
   "metadata": {},
   "outputs": [],
   "source": [
    "class User(Base):\n",
    "    __tablename__ = \"users\"\n",
    "\n",
    "    id = Column(Integer, primary_key=True)\n",
    "    name = Column(String)\n",
    "    fullname = Column(String)\n",
    "    nickname = Column(String)\n",
    "\n",
    "    def __repr__(self):\n",
    "        return \"<User(name='%s', fullname='%s', nickname='%s')>\" % (\n",
    "            self.name,\n",
    "            self.fullname,\n",
    "            self.nickname,\n",
    "        )"
   ]
  },
  {
   "cell_type": "code",
   "execution_count": null,
   "metadata": {},
   "outputs": [],
   "source": [
    "Base.metadata.create_all(engine)"
   ]
  },
  {
   "cell_type": "code",
   "execution_count": null,
   "metadata": {},
   "outputs": [],
   "source": [
    "ricardo_user = User(name=\"ricardo\", fullname=\"Ricardo Ander-Egg\", nickname=\"rick\")"
   ]
  },
  {
   "cell_type": "code",
   "execution_count": null,
   "metadata": {},
   "outputs": [],
   "source": [
    "from sqlalchemy.orm import sessionmaker"
   ]
  },
  {
   "cell_type": "code",
   "execution_count": null,
   "metadata": {},
   "outputs": [],
   "source": [
    "Session = sessionmaker(bind=engine)"
   ]
  },
  {
   "cell_type": "code",
   "execution_count": null,
   "metadata": {},
   "outputs": [],
   "source": [
    "session = Session()"
   ]
  },
  {
   "cell_type": "code",
   "execution_count": null,
   "metadata": {},
   "outputs": [],
   "source": [
    "session.add(ricardo_user)"
   ]
  },
  {
   "cell_type": "markdown",
   "metadata": {},
   "source": [
    "Ahora podemos hacer queries sin escribir directamente SQL usando python, objetos, y la relación entre estos objetos."
   ]
  },
  {
   "cell_type": "code",
   "execution_count": null,
   "metadata": {},
   "outputs": [],
   "source": [
    "mi_usuario = session.query(User).filter_by(name=\"ricardo\").first()"
   ]
  },
  {
   "cell_type": "markdown",
   "metadata": {},
   "source": [
    "Añadimos varios a la vez."
   ]
  },
  {
   "cell_type": "code",
   "execution_count": null,
   "metadata": {},
   "outputs": [],
   "source": [
    "lista_users = [\n",
    "    User(name=\"erlantz\", fullname=\"erlantz saenz\", nickname=\"er\"),\n",
    "    User(name=\"daniel\", fullname=\"daniel orejuela\", nickname=\"dani\"),\n",
    "    User(name=\"daniel\", fullname=\"daniel izquierdo\", nickname=\"dani1\"),\n",
    "    User(name=\"daniel\", fullname=\"daniel garcia\", nickname=\"dani2\"),\n",
    "    User(name=\"euro\", fullname=\"euro mauro\", nickname=\"eu\"),\n",
    "    \n",
    "]"
   ]
  },
  {
   "cell_type": "code",
   "execution_count": null,
   "metadata": {},
   "outputs": [],
   "source": [
    "session.add_all(lista_users)"
   ]
  },
  {
   "cell_type": "code",
   "execution_count": null,
   "metadata": {},
   "outputs": [],
   "source": [
    "session.commit()"
   ]
  },
  {
   "cell_type": "markdown",
   "metadata": {},
   "source": [
    "Si nos equivocamos podemos hacer un **`.rollback()`** antes de hacer commit!"
   ]
  },
  {
   "cell_type": "code",
   "execution_count": null,
   "metadata": {},
   "outputs": [],
   "source": [
    "usuario_erroneo = User(name=\"user erroneo\", fullname=\"oriol mitja\", nickname=\"uri\")"
   ]
  },
  {
   "cell_type": "code",
   "execution_count": null,
   "metadata": {},
   "outputs": [],
   "source": [
    "session.add(usuario_erroneo)"
   ]
  },
  {
   "cell_type": "markdown",
   "metadata": {},
   "source": [
    "Podemos hacer una query "
   ]
  },
  {
   "cell_type": "code",
   "execution_count": null,
   "metadata": {},
   "outputs": [
    {
     "data": {
      "text/plain": [
       "[<User(name='user erroneo', fullname='oriol mitja', nickname='uri')>]"
      ]
     },
     "execution_count": null,
     "metadata": {},
     "output_type": "execute_result"
    }
   ],
   "source": [
    "session.query(User).filter(User.name.in_([\"Manuel\", \"user erroneo\"])).all()"
   ]
  },
  {
   "cell_type": "markdown",
   "metadata": {},
   "source": [
    "Hacemos rollback para \"deshacer\" la acción que habíamos ejecutado con el `.add()`"
   ]
  },
  {
   "cell_type": "code",
   "execution_count": null,
   "metadata": {},
   "outputs": [],
   "source": [
    "session.rollback()"
   ]
  },
  {
   "cell_type": "markdown",
   "metadata": {},
   "source": [
    "Para filtrar tenemos muchas opciones!"
   ]
  },
  {
   "cell_type": "code",
   "execution_count": null,
   "metadata": {},
   "outputs": [
    {
     "name": "stdout",
     "output_type": "stream",
     "text": [
      "ricardo Ricardo Ander-Egg rick\n",
      "erlantz erlantz saenz er\n",
      "daniel daniel orejuela dani\n",
      "daniel daniel izquierdo dani1\n",
      "daniel daniel garcia dani2\n",
      "euro euro mauro eu\n"
     ]
    }
   ],
   "source": [
    "for usuario in session.query(User).order_by(User.id):\n",
    "    print(usuario.name, usuario.fullname, usuario.nickname)"
   ]
  },
  {
   "cell_type": "code",
   "execution_count": null,
   "metadata": {},
   "outputs": [
    {
     "name": "stdout",
     "output_type": "stream",
     "text": [
      "ricardo Ricardo Ander-Egg\n",
      "erlantz erlantz saenz\n",
      "daniel daniel orejuela\n",
      "daniel daniel izquierdo\n",
      "daniel daniel garcia\n",
      "euro euro mauro\n"
     ]
    }
   ],
   "source": [
    "for nombre, nombre_completo in session.query(User.name, User.fullname):\n",
    "    print(nombre, nombre_completo)"
   ]
  },
  {
   "cell_type": "markdown",
   "metadata": {},
   "source": [
    "El equivalente de esto en SQL sería:\n",
    "\n",
    "```sql\n",
    "SELECT users.name AS nombre,\n",
    "        users.fullname AS nombre_completo\n",
    "FROM users\n",
    "()\n",
    "```"
   ]
  },
  {
   "cell_type": "code",
   "execution_count": null,
   "metadata": {},
   "outputs": [
    {
     "name": "stdout",
     "output_type": "stream",
     "text": [
      "<User(name='ricardo', fullname='Ricardo Ander-Egg', nickname='rick')> ricardo\n",
      "<User(name='erlantz', fullname='erlantz saenz', nickname='er')> erlantz\n",
      "<User(name='daniel', fullname='daniel orejuela', nickname='dani')> daniel\n",
      "<User(name='daniel', fullname='daniel izquierdo', nickname='dani1')> daniel\n",
      "<User(name='daniel', fullname='daniel garcia', nickname='dani2')> daniel\n",
      "<User(name='euro', fullname='euro mauro', nickname='eu')> euro\n"
     ]
    }
   ],
   "source": [
    "for row in session.query(User, User.name).all():\n",
    "    print(row.User, row.name)"
   ]
  },
  {
   "cell_type": "code",
   "execution_count": null,
   "metadata": {},
   "outputs": [
    {
     "name": "stdout",
     "output_type": "stream",
     "text": [
      "<User(name='daniel', fullname='daniel orejuela', nickname='dani')>\n"
     ]
    }
   ],
   "source": [
    "for user in (\n",
    "    session.query(User)\n",
    "    .filter(User.name == \"daniel\")\n",
    "    .filter(User.fullname == \"daniel orejuela\")\n",
    "):\n",
    "    print(user)"
   ]
  },
  {
   "cell_type": "code",
   "execution_count": null,
   "metadata": {},
   "outputs": [],
   "source": [
    "import requests\n",
    "import sqlalchemy\n",
    "\n",
    "from sqlalchemy import create_engine\n",
    "from sqlalchemy.ext.declarative import declarative_base\n",
    "from sqlalchemy import Column, Integer, String\n",
    "\n",
    "from sqlalchemy.orm import sessionmaker"
   ]
  },
  {
   "cell_type": "markdown",
   "metadata": {},
   "source": [
    "## Ejercicio (se corregirá el viernes)\n",
    "\n",
    "1. Obtener todas las cartas de la API.\n",
    "1. La key `colors` contiene un value que es una lista. Filtrar las cartas que contengan `\"Green\"` en esa lista.\n",
    "1. Generar una base de datos con SQLAlchemy para almacenar estas cartas.\n",
    "1. Las columnas que debemos crear son (entre paréntesis está el nombre de la key que tienen en el diccionario):\n",
    "    * nombre (`name`)\n",
    "    * multiverse_id (`multiverseid`)  <== queda eliminado a menos que queraís hacer la parte extra\n",
    "    * url_imagen (`imageUrl`) || tipo (`type`)\n",
    "    * rareza (`rarity`)\n",
    "    * **Extra**: en las cartas verdes que NO tienen `multiverseid`, crearlo y darle el valor `0`\n",
    "    \n",
    "1. De la lista de cartas filtradas que hemos obtenido en el punto $2$, guardarlas todas en la base de datos."
   ]
  },
  {
   "cell_type": "code",
   "execution_count": null,
   "metadata": {},
   "outputs": [],
   "source": [
    "r = requests.get(\"https://api.magicthegathering.io/v1/cards\")\n",
    "\n",
    "data = r.json()\n",
    "cartas = data[\"cards\"]\n",
    "\n",
    "verdes = []\n",
    "\n",
    "for carta in cartas:\n",
    "    \n",
    "    colores = carta[\"colors\"]\n",
    "    \n",
    "    if \"Green\" in colores:\n",
    "        \n",
    "        ##### CODE #####\n",
    "        pass"
   ]
  },
  {
   "cell_type": "code",
   "execution_count": null,
   "metadata": {},
   "outputs": [
    {
     "name": "stdout",
     "output_type": "stream",
     "text": [
      "2020-04-02 14:44:41,468 INFO sqlalchemy.engine.base.Engine SELECT CAST('test plain returns' AS VARCHAR(60)) AS anon_1\n",
      "2020-04-02 14:44:41,474 INFO sqlalchemy.engine.base.Engine ()\n",
      "2020-04-02 14:44:41,479 INFO sqlalchemy.engine.base.Engine SELECT CAST('test unicode returns' AS VARCHAR(60)) AS anon_1\n",
      "2020-04-02 14:44:41,483 INFO sqlalchemy.engine.base.Engine ()\n"
     ]
    }
   ],
   "source": [
    "engine = create_engine(\"sqlite:///:memory:\", echo=True)\n",
    "\n",
    "Base = declarative_base()\n",
    "\n",
    "Base.metadata.create_all(engine)\n",
    "\n",
    "Session = sessionmaker(bind=engine)\n",
    "\n",
    "session = Session()"
   ]
  },
  {
   "cell_type": "code",
   "execution_count": null,
   "metadata": {},
   "outputs": [],
   "source": [
    "class Verde(Base):\n",
    "    __tablename__ = \"verdes\"\n",
    "\n",
    "    id = Column(Integer, primary_key=True)\n",
    "    name = Column(String)\n",
    "    # multiverse_id = Column(Integer)\n",
    "    url = Column(String)\n",
    "    rarity = Column(String)\n",
    "\n",
    "    def __repr__(self):\n",
    "        return f\"<User(name='{self.name}', url='{self.url}', rarity='{self.rarity}')>\""
   ]
  },
  {
   "cell_type": "code",
   "execution_count": null,
   "metadata": {},
   "outputs": [],
   "source": [
    "nueva_carta = Verde(######## CODE ######)\n",
    "session.add(nueva_carta)"
   ]
  },
  {
   "cell_type": "code",
   "execution_count": null,
   "metadata": {},
   "outputs": [],
   "source": [
    "lista_users = [\n",
    "    User(name=\"erlantz\", fullname=\"erlantz saenz\", nickname=\"er\"),\n",
    "    User(name=\"daniel\", fullname=\"daniel orejuela\", nickname=\"dani\"),\n",
    "    User(name=\"daniel\", fullname=\"daniel izquierdo\", nickname=\"dani1\"),\n",
    "]"
   ]
  },
  {
   "cell_type": "code",
   "execution_count": null,
   "metadata": {},
   "outputs": [],
   "source": [
    "session.add_all(lista_users)"
   ]
  },
  {
   "cell_type": "code",
   "execution_count": null,
   "metadata": {},
   "outputs": [],
   "source": [
    "session.commit()"
   ]
  },
  {
   "cell_type": "code",
   "execution_count": null,
   "metadata": {},
   "outputs": [],
   "source": [
    "for user in (\n",
    "    session.query(User)\n",
    "    .filter(User.name == \"daniel\")\n",
    "    .filter(User.fullname == \"daniel orejuela\")\n",
    "):\n",
    "    print(user)"
   ]
  },
  {
   "cell_type": "code",
   "execution_count": null,
   "metadata": {},
   "outputs": [],
   "source": [
    "for nombre, nombre_completo in session.query(User.name, User.fullname):\n",
    "    print(nombre, nombre_completo)"
   ]
  },
  {
   "cell_type": "markdown",
   "metadata": {},
   "source": [
    "**Extra 🔥**\n",
    "\n",
    "* Crear una función que obtenga la información de la carta de la base de datos en base a un `id` o como queráis.\n",
    "* Descargar la imagen de esta carta (o de la cabra 😂) y guardarla en un archivo en el disco.\n",
    "\n",
    "Por ejemplo:\n",
    "\n",
    "```python\n",
    "req_img = requests.get(v[0][\"imageUrl\"])\n",
    "\n",
    "with open(\"imagen.jpg\", \"wb\") as f:\n",
    "    f.write(req_img.content)\n",
    "```"
   ]
  },
  {
   "cell_type": "markdown",
   "metadata": {},
   "source": [
    "## Comprehensions"
   ]
  },
  {
   "cell_type": "markdown",
   "metadata": {},
   "source": [
    "Explicación animada en formato GIF:\n",
    "\n",
    "Fuente del GIF y lectura recomendada: https://treyhunner.com/2015/12/python-list-comprehensions-now-in-color/\n",
    "\n",
    "![](https://treyhunner.com/images/list-comprehension-condition.gif)"
   ]
  },
  {
   "cell_type": "code",
   "execution_count": null,
   "metadata": {},
   "outputs": [],
   "source": [
    "import requests"
   ]
  },
  {
   "cell_type": "code",
   "execution_count": null,
   "metadata": {},
   "outputs": [],
   "source": [
    "r = requests.get(\"https://api.magicthegathering.io/v1/cards\")\n",
    "\n",
    "data = r.json()\n",
    "\n",
    "baraja = data[\"cards\"]"
   ]
  },
  {
   "cell_type": "markdown",
   "metadata": {},
   "source": [
    "Nos permiten convertir esto:"
   ]
  },
  {
   "cell_type": "code",
   "execution_count": null,
   "metadata": {},
   "outputs": [],
   "source": [
    "lista = []\n",
    "\n",
    "for carta in baraja:\n",
    "    lista.append(carta[\"name\"])"
   ]
  },
  {
   "cell_type": "markdown",
   "metadata": {},
   "source": [
    "En esto:"
   ]
  },
  {
   "cell_type": "code",
   "execution_count": null,
   "metadata": {},
   "outputs": [],
   "source": [
    "lista_nombres = [carta[\"name\"] for carta in baraja]"
   ]
  },
  {
   "cell_type": "markdown",
   "metadata": {},
   "source": [
    "Podemos usar condiciones, incluso más de una."
   ]
  },
  {
   "cell_type": "code",
   "execution_count": null,
   "metadata": {},
   "outputs": [],
   "source": [
    "verdes_azules = [\n",
    "    carta for carta in baraja if \"Green\" in carta[\"colors\"] or \"Blue\" in carta[\"colors\"]\n",
    "]"
   ]
  },
  {
   "cell_type": "markdown",
   "metadata": {},
   "source": [
    "Para procesar textos.\n",
    "\n",
    "Descargamos una lista de \"stop words\" (palabras que carecen de un significado)."
   ]
  },
  {
   "cell_type": "code",
   "execution_count": null,
   "metadata": {},
   "outputs": [],
   "source": [
    "req_stop = requests.get(\"https://raw.githubusercontent.com/Alir3z4/stop-words/master/spanish.txt\")"
   ]
  },
  {
   "cell_type": "markdown",
   "metadata": {},
   "source": [
    "Obtenemos el texto de esa request."
   ]
  },
  {
   "cell_type": "code",
   "execution_count": null,
   "metadata": {},
   "outputs": [],
   "source": [
    "string_stop = req_stop.text"
   ]
  },
  {
   "cell_type": "markdown",
   "metadata": {},
   "source": [
    "Lo convertimos en lista usando `.split()`"
   ]
  },
  {
   "cell_type": "code",
   "execution_count": null,
   "metadata": {},
   "outputs": [],
   "source": [
    "lista_stop = string_stop.split(\"\\n\")"
   ]
  },
  {
   "cell_type": "markdown",
   "metadata": {},
   "source": [
    "Vamos a trabajar con esta cadena de texto."
   ]
  },
  {
   "cell_type": "code",
   "execution_count": null,
   "metadata": {},
   "outputs": [],
   "source": [
    "texto_raw = \"\"\"\n",
    "Python 2.0 tomó una característica mayor del lenguaje de programación funcional Haskell: listas por comprensión. La sintaxis de Python para esta construcción es muy similar a la de Haskell, salvo por la preferencia de los caracteres de puntuación en Haskell, y la preferencia de Python por palabras claves alfabéticas. Python 2.0 introdujo además un sistema de recolección de basura capaz de recolectar referencias cíclicas.13\n",
    "En 1991, van Rossum publicó el código de la versión 0.9.0 en alt.sources.9​ En esta etapa del desarrollo ya estaban presentes clases con herencia, manejo de excepciones, funciones y los tipos modulares, como: str, list, dict, entre otros. Además en este lanzamiento inicial aparecía un sistema de módulos adoptado de Modula-3; van Rossum describe el módulo como «una de las mayores unidades de programación de Python».4​ El modelo de excepciones en Python es parecido al de Modula-3, con la adición de una cláusula else.5​ En el año 1994 se formó comp.lang.python, el foro de discusión principal de Python, marcando un hito en el crecimiento del grupo de usuarios de este lenguaje.\n",
    "\n",
    "Python alcanzó la versión 1.0 en enero de 1994. Una característica de este lanzamiento fueron las herramientas de la programación funcional: lambda, reduce, filter y map. Van Rossum explicó que «hace 12 años, Python adquirió lambda, reduce(), filter() y map(), cortesía de un hacker informático de Lisp que las extrañaba y que envió parches».10​ El donante fue Amrit Prem; no se hace ninguna mención específica de cualquier herencia de Lisp en las notas de lanzamiento.\n",
    "\n",
    "La última versión liberada proveniente de CWI fue Python 1.2. En 1995, van Rossum continuó su trabajo en Python en la Corporation for National Research Initiatives (CNRI) en Reston, Virginia, donde lanzó varias versiones del software.\n",
    "\n",
    "Durante su estancia en CNRI, van Rossum lanzó la iniciativa Computer Programming for Everybody (CP4E), con el fin de hacer la programación más accesible a más gente, con un nivel de 'alfabetización' básico en lenguajes de programación, similar a la alfabetización básica en inglés y habilidades matemáticas necesarias por muchos trabajadores. Python tuvo un papel crucial en este proceso: debido a su orientación hacia una sintaxis limpia, ya era idóneo, y las metas de CP4E presentaban similitudes con su predecesor, ABC. El proyecto fue patrocinado por DARPA.11​ En el año 2007, el proyecto CP4E está inactivo, y mientras Python intenta ser fácil de aprender y no muy arcano en su sintaxis y semántica, alcanzando a los no-programadores, no es una preocupación activa.12​\n",
    "\n",
    "En el año 2000, el equipo principal de desarrolladores de Python se cambió a BeOpen.com para formar el equipo BeOpen PythonLabs. CNRI pidió que la versión 1.6 fuera pública, continuando su desarrollo hasta que el equipo de desarrollo abandonó CNRI; su programa de lanzamiento y el de la versión 2.0 tenían una significativa cantidad de traslapo.13​ Python 2.0 fue el primer y único lanzamiento de BeOpen.com. Después que Python 2.0 fuera publicado por BeOpen.com, Guido van Rossum y los otros desarrolladores de PythonLabs se unieron en Digital Creations.\n",
    "\n",
    "Python 2.0 tomó una característica mayor del lenguaje de programación funcional Haskell: listas por comprensión. La sintaxis de Python para esta construcción es muy similar a la de Haskell, salvo por la preferencia de los caracteres de puntuación en Haskell, y la preferencia de Python por palabras claves alfabéticas. Python 2.0 introdujo además un sistema de recolección de basura capaz de recolectar referencias cíclicas.13​\n",
    "\n",
    "Posterior a este doble lanzamiento, y después que van Rossum dejó CNRI para trabajar con desarrolladores de software comercial, quedó claro que la opción de usar Python con software disponible bajo GNU GPL era muy deseable. La licencia usada entonces, la Python License, incluía una cláusula estipulando que la licencia estaba gobernada por el estado de Virginia, por lo que, bajo la óptica de los abogados de Free Software Foundation (FSF), se hacía incompatible con GPL. CNRI y FSF se relacionaron para cambiar la licencia de software libre de Python para hacerla compatible con GPL. En el año 2001, van Rossum fue premiado con FSF Award for the Advancement of Free Software.\n",
    "En 1991, van Rossum publicó el código de la versión 0.9.0 en alt.sources.9​ En esta etapa del desarrollo ya estaban presentes clases con herencia, manejo de excepciones, funciones y los tipos modulares, como: str, list, dict, entre otros. Además en este lanzamiento inicial aparecía un sistema de módulos adoptado de Modula-3; van Rossum describe el módulo como «una de las mayores unidades de programación de Python».4​ El modelo de excepciones en Python es parecido al de Modula-3, con la adición de una cláusula else.5​ En el año 1994 se formó comp.lang.python, el foro de discusión principal de Python, marcando un hito en el crecimiento del grupo de usuarios de este lenguaje.\n",
    "\n",
    "Python alcanzó la versión 1.0 en enero de 1994. Una característica de este lanzamiento fueron las herramientas de la programación funcional: lambda, reduce, filter y map. Van Rossum explicó que «hace 12 años, Python adquirió lambda, reduce(), filter() y map(), cortesía de un hacker informático de Lisp que las extrañaba y que envió parches».10​ El donante fue Amrit Prem; no se hace ninguna mención específica de cualquier herencia de Lisp en las notas de lanzamiento.\n",
    "\n",
    "La última versión liberada proveniente de CWI fue Python 1.2. En 1995, van Rossum continuó su trabajo en Python en la Corporation for National Research Initiatives (CNRI) en Reston, Virginia, donde lanzó varias versiones del software.\n",
    "\n",
    "Durante su estancia en CNRI, van Rossum lanzó la iniciativa Computer Programming for Everybody (CP4E), con el fin de hacer la programación más accesible a más gente, con un nivel de 'alfabetización' básico en lenguajes de programación, similar a la alfabetización básica en inglés y habilidades matemáticas necesarias por muchos trabajadores. Python tuvo un papel crucial en este proceso: debido a su orientación hacia una sintaxis limpia, ya era idóneo, y las metas de CP4E presentaban similitudes con su predecesor, ABC. El proyecto fue patrocinado por DARPA.11​ En el año 2007, el proyecto CP4E está inactivo, y mientras Python intenta ser fácil de aprender y no muy arcano en su sintaxis y semántica, alcanzando a los no-programadores, no es una preocupación activa.12​\n",
    "\n",
    "En el año 2000, el equipo principal de desarrolladores de Python se cambió a BeOpen.com para formar el equipo BeOpen PythonLabs. CNRI pidió que la versión 1.6 fuera pública, continuando su desarrollo hasta que el equipo de desarrollo abandonó CNRI; su programa de lanzamiento y el de la versión 2.0 tenían una significativa cantidad de traslapo.13​ Python 2.0 fue el primer y único lanzamiento de BeOpen.com. Después que Python 2.0 fuera publicado por BeOpen.com, Guido van Rossum y los otros desarrolladores de PythonLabs se unieron en Digital Creations.\n",
    "\n",
    "Python 2.0 tomó una característica mayor del lenguaje de programación funcional Haskell: listas por comprensión. La sintaxis de Python para esta construcción es muy similar a la de Haskell, salvo por la preferencia de los caracteres de puntuación en Haskell, y la preferencia de Python por palabras claves alfabéticas. Python 2.0 introdujo además un sistema de recolección de basura capaz de recolectar referencias cíclicas.13​\n",
    "\n",
    "Posterior a este doble lanzamiento, y después que van Rossum dejó CNRI para trabajar con desarrolladores de software comercial, quedó claro que la opción de usar Python con software disponible bajo GNU GPL era muy deseable. La licencia usada entonces, la Python License, incluía una cláusula estipulando que la licencia estaba gobernada por el estado de Virginia, por lo que, bajo la óptica de los abogados de Free Software Foundation (FSF), se hacía incompatible con GPL. CNRI y FSF se relacionaron para cambiar la licencia de software libre de Python para hacerla compatible con GPL. En el año 2001, van Rossum fue premiado con FSF Award for the Advancement of Free Software.\n",
    "Python 2.1 fue un trabajo derivado de Python 1.6.1, así como también de Python 2.0. Su licencia fue renombrada a: Python Software Foundation License. Todo el código, documentación y especificaciones añadidas, desde la fecha del lanzamiento de la versión alfa de Python 2.1, tiene como dueño a Python Software Foundation (PSF), una organización sin ánimo de lucro fundada en el año 2001, tomando como modelo la Apache Software Foundation.3​ Incluido en este lanzamiento fue una implementación del scoping más parecida a las reglas de static scoping (del cual Scheme es el originador).14​\n",
    "\n",
    "Una innovación mayor en Python 2.2 fue la unificación de los tipos en Python (tipos escritos en C), y clases (tipos escritos en Python) dentro de una jerarquía. Esa unificación logró un modelo de objetos de Python puro y consistente.15​ También fueron agregados los generadores que fueron inspirados por el lenguaje Icon.16​\n",
    "\n",
    "Las adiciones a la biblioteca estándar de Python y las decisiones sintácticas fueron influenciadas fuertemente por Java en algunos casos: el package logging,17​ introducido en la versión 2.3, está basado en log4j; el parser SAX, introducido en 2.0; el package threading,18​ cuya clase Thread expone un subconjunto de la interfaz de la clase homónima en Java.\n",
    "\n",
    "Python 2, es decir Python 2.7.x, fue oficialmente descontinuado el 1 de enero de 2020 (primero planeado para 2015) después de lo cual no se publicarán parches de seguridad y otras mejoras para él.19​20​ Con el final del ciclo de vida de Python 2, solo tienen soporte la rama Python 3.5.x21​ y posteriores.\n",
    "Python 1.6.1 es esencialmente el mismo que Python 1.6, con unos pocos arreglos de bugs, y con una nueva licencia compatible con GPL.3​\n",
    "Python 1.6.1 es esencialmente el mismo que Python 1.6, con unos pocos arreglos de bugs, y con una nueva licencia compatible con GPL.3​\n",
    "\"\"\""
   ]
  },
  {
   "cell_type": "markdown",
   "metadata": {},
   "source": [
    "Lo convertimos en minúsculas y lo dividimos por palabras."
   ]
  },
  {
   "cell_type": "code",
   "execution_count": null,
   "metadata": {},
   "outputs": [],
   "source": [
    "texto_lista = texto_raw.lower().split()"
   ]
  },
  {
   "cell_type": "markdown",
   "metadata": {},
   "source": [
    "Con la siguiente comprensión de lista creamos una lista nueva pero donde hemos eliminado las palabras que estaban en la lista `stop_words`. Lo hacemos usando el condicional:\n",
    "\n",
    "```python\n",
    "if palabra not in lista_stop\n",
    "```\n",
    "que está al final."
   ]
  },
  {
   "cell_type": "code",
   "execution_count": null,
   "metadata": {},
   "outputs": [],
   "source": [
    "texto_procesado = [palabra for palabra in texto_lista if palabra not in lista_stop]"
   ]
  },
  {
   "cell_type": "markdown",
   "metadata": {},
   "source": [
    "El equivalente en un for loop sería:"
   ]
  },
  {
   "cell_type": "code",
   "execution_count": null,
   "metadata": {},
   "outputs": [],
   "source": [
    "texto_procesado_2 = []\n",
    "\n",
    "for p in texto_lista:\n",
    "    \n",
    "    if p not in lista_stop:\n",
    "        texto_procesado_2.append(p)"
   ]
  },
  {
   "cell_type": "markdown",
   "metadata": {},
   "source": [
    "También podemos construir diccionarios! Y añadiendo condiciones por ejemplo:\n",
    "\n",
    "```python\n",
    "palabra.startswith(\"p\")\n",
    "```\n",
    "\n",
    "Y seleccionaremos solamente las palabras que empiezan por \"p\"."
   ]
  },
  {
   "cell_type": "code",
   "execution_count": null,
   "metadata": {},
   "outputs": [
    {
     "data": {
      "text/plain": [
       "{'python': False,\n",
       " 'programación': True,\n",
       " 'preferencia': True,\n",
       " 'puntuación': True,\n",
       " 'palabras': False,\n",
       " 'publicó': True,\n",
       " 'presentes': False,\n",
       " 'python».4\\u200b': False,\n",
       " 'parecido': True,\n",
       " 'principal': True,\n",
       " 'python,': False,\n",
       " 'parches».10\\u200b': False,\n",
       " 'prem;': False,\n",
       " 'proveniente': True,\n",
       " 'programming': True,\n",
       " 'programación,': True,\n",
       " 'papel': False,\n",
       " 'proceso:': False,\n",
       " 'presentaban': False,\n",
       " 'predecesor,': False,\n",
       " 'proyecto': False,\n",
       " 'patrocinado': True,\n",
       " 'preocupación': True,\n",
       " 'pythonlabs.': False,\n",
       " 'pidió': True,\n",
       " 'pública,': True,\n",
       " 'programa': False,\n",
       " 'primer': True,\n",
       " 'publicado': True,\n",
       " 'pythonlabs': False,\n",
       " 'posterior': True,\n",
       " 'premiado': True,\n",
       " 'parecida': True,\n",
       " 'python)': False,\n",
       " 'puro': False,\n",
       " 'package': False,\n",
       " 'parser': False,\n",
       " 'planeado': False,\n",
       " 'publicarán': True,\n",
       " 'parches': False,\n",
       " 'posteriores.': True,\n",
       " 'pocos': False}"
      ]
     },
     "execution_count": null,
     "metadata": {},
     "output_type": "execute_result"
    }
   ],
   "source": [
    "{palabra: (\"i\" in palabra) for palabra in texto_procesado if palabra.startswith(\"p\")}"
   ]
  }
 ],
 "metadata": {
  "kernelspec": {
   "display_name": "basic",
   "language": "python",
   "name": "basic"
  },
  "language_info": {
   "codemirror_mode": {
    "name": "ipython",
    "version": 3
   },
   "file_extension": ".py",
   "mimetype": "text/x-python",
   "name": "python",
   "nbconvert_exporter": "python",
   "pygments_lexer": "ipython3",
   "version": "3.7.7"
  }
 },
 "nbformat": 4,
 "nbformat_minor": 4
}
