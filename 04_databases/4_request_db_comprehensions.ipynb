{
 "cells": [
  {
   "cell_type": "markdown",
   "metadata": {},
   "source": [
    "Autor: Ricardo Ander-Egg Aguilar\n",
    "\n",
    "* 🖥: https://ricardoanderegg.com/\n",
    "* 🐦: https://twitter.com/ricardoanderegg\n",
    "* 👨🏻‍🎓: https://www.linkedin.com/in/ricardoanderegg/"
   ]
  },
  {
   "cell_type": "markdown",
   "metadata": {},
   "source": [
    "## ORM, Bases de datos con SQLAlchemy\n",
    "\n",
    "ORM = Object relational mapper"
   ]
  },
  {
   "cell_type": "code",
   "execution_count": 3,
   "metadata": {},
   "outputs": [],
   "source": [
    "import sqlalchemy\n",
    "from sqlalchemy import create_engine\n",
    "from sqlalchemy.orm import sessionmaker\n",
    "from sqlalchemy import Column, Integer, String\n",
    "from sqlalchemy.ext.declarative import declarative_base"
   ]
  },
  {
   "cell_type": "code",
   "execution_count": 4,
   "metadata": {},
   "outputs": [],
   "source": [
    "# creamos una base de datos SQLite directamente en la memoria RAM del ordenador\n",
    "engine = create_engine(\"sqlite:///curso.db\")\n",
    "\n",
    "# para crearla en el disco duro. echo=True hará que SQLAlchemy nos devuelve información del tipo de queries que está ejecutando\n",
    "# engine = create_engine(\"sqlite:///curso.db\", echo=True)"
   ]
  },
  {
   "cell_type": "code",
   "execution_count": 5,
   "metadata": {},
   "outputs": [],
   "source": [
    "from sqlalchemy.ext.declarative import declarative_base\n",
    "\n",
    "Base = declarative_base()"
   ]
  },
  {
   "cell_type": "code",
   "execution_count": 6,
   "metadata": {},
   "outputs": [],
   "source": [
    "from sqlalchemy import Column, Integer, String"
   ]
  },
  {
   "cell_type": "markdown",
   "metadata": {},
   "source": [
    "Creamos nuestra tabla.\n",
    "\n",
    "\n",
    "El método `__repr__` indica dentro de una clase qué queremos que aparezca cuando hagamos `print()`."
   ]
  },
  {
   "cell_type": "code",
   "execution_count": 5,
   "metadata": {},
   "outputs": [],
   "source": [
    "class User(Base):\n",
    "    __tablename__ = \"users\"\n",
    "\n",
    "    id = Column(Integer, primary_key=True)\n",
    "    name = Column(String)\n",
    "    fullname = Column(String)\n",
    "    url = Column(String)\n",
    "\n",
    "    def __repr__(self):\n",
    "        return \"<User(name='%s', fullname='%s', url='%s')>\" % (\n",
    "            self.name,\n",
    "            self.fullname,\n",
    "            self.url,\n",
    "        )"
   ]
  },
  {
   "cell_type": "code",
   "execution_count": 6,
   "metadata": {},
   "outputs": [],
   "source": [
    "Base.metadata.create_all(engine)"
   ]
  },
  {
   "cell_type": "code",
   "execution_count": 7,
   "metadata": {},
   "outputs": [],
   "source": [
    "ricardo_user = User(name=\"ricardo\", fullname=\"Ricardo Ander-Egg\", url=\"ricardoanderegg.com\")"
   ]
  },
  {
   "cell_type": "code",
   "execution_count": 7,
   "metadata": {},
   "outputs": [],
   "source": [
    "from sqlalchemy.orm import sessionmaker"
   ]
  },
  {
   "cell_type": "code",
   "execution_count": 9,
   "metadata": {},
   "outputs": [],
   "source": [
    "Session = sessionmaker(bind=engine)"
   ]
  },
  {
   "cell_type": "code",
   "execution_count": 10,
   "metadata": {},
   "outputs": [],
   "source": [
    "session = Session()"
   ]
  },
  {
   "cell_type": "code",
   "execution_count": 11,
   "metadata": {},
   "outputs": [],
   "source": [
    "session.add(ricardo_user)"
   ]
  },
  {
   "cell_type": "markdown",
   "metadata": {},
   "source": [
    "Ahora podemos hacer queries sin escribir directamente SQL usando python, objetos, y la relación entre estos objetos."
   ]
  },
  {
   "cell_type": "code",
   "execution_count": 12,
   "metadata": {},
   "outputs": [],
   "source": [
    "mi_usuario = session.query(User).filter_by(name=\"ricardo\").first()"
   ]
  },
  {
   "cell_type": "markdown",
   "metadata": {},
   "source": [
    "Añadimos varios a la vez."
   ]
  },
  {
   "cell_type": "code",
   "execution_count": 13,
   "metadata": {},
   "outputs": [],
   "source": [
    "lista_users = [\n",
    "    User(name=\"jaume\", fullname=\"jaume goñi\", url=\"twitter.com/jaume\"),\n",
    "    User(name=\"carles\", fullname=\"carls hernan\", url=\"twitter.com/carles\"),\n",
    "    User(name=\"david\", fullname=\"davida barnes\", url=\"twitter.com/david\"),\n",
    "    User(name=\"jose antonio\", fullname=\"jose antonio cuenca\", url=\"twitter.com/jose\"),\n",
    "    User(name=\"pedro\", fullname=\"pedro roldar\", url=\"twitter.com/pedro\"),\n",
    "    \n",
    "]"
   ]
  },
  {
   "cell_type": "code",
   "execution_count": 14,
   "metadata": {},
   "outputs": [],
   "source": [
    "session.add_all(lista_users)"
   ]
  },
  {
   "cell_type": "code",
   "execution_count": 15,
   "metadata": {},
   "outputs": [],
   "source": [
    "session.commit()"
   ]
  },
  {
   "cell_type": "markdown",
   "metadata": {},
   "source": [
    "Si nos equivocamos podemos hacer un **`.rollback()`** antes de hacer commit!"
   ]
  },
  {
   "cell_type": "code",
   "execution_count": 16,
   "metadata": {},
   "outputs": [],
   "source": [
    "usuario_erroneo = User(name=\"user erroneo\", fullname=\"oriol mitja\", url=\"google.com\")"
   ]
  },
  {
   "cell_type": "code",
   "execution_count": 17,
   "metadata": {},
   "outputs": [],
   "source": [
    "session.add(usuario_erroneo)"
   ]
  },
  {
   "cell_type": "markdown",
   "metadata": {},
   "source": [
    "Podemos hacer una query "
   ]
  },
  {
   "cell_type": "code",
   "execution_count": 18,
   "metadata": {},
   "outputs": [
    {
     "data": {
      "text/plain": [
       "[<User(name='user erroneo', fullname='oriol mitja', url='google.com')>]"
      ]
     },
     "execution_count": 18,
     "metadata": {},
     "output_type": "execute_result"
    }
   ],
   "source": [
    "session.query(User).filter(User.name.in_([\"Manuel\", \"user erroneo\"])).all()"
   ]
  },
  {
   "cell_type": "markdown",
   "metadata": {},
   "source": [
    "Hacemos rollback para \"deshacer\" la acción que habíamos ejecutado con el `.add()`"
   ]
  },
  {
   "cell_type": "code",
   "execution_count": 19,
   "metadata": {},
   "outputs": [],
   "source": [
    "session.rollback()"
   ]
  },
  {
   "cell_type": "markdown",
   "metadata": {},
   "source": [
    "Para filtrar tenemos muchas opciones!"
   ]
  },
  {
   "cell_type": "code",
   "execution_count": 20,
   "metadata": {},
   "outputs": [],
   "source": [
    "usuarios = session.query(User).filter(User.name.in_([\"ricardo\", \"pedro\"])).all()"
   ]
  },
  {
   "cell_type": "code",
   "execution_count": 21,
   "metadata": {},
   "outputs": [],
   "source": [
    "usuarios[0].url = \"twitter.com/ricardoanderegg\""
   ]
  },
  {
   "cell_type": "code",
   "execution_count": 22,
   "metadata": {},
   "outputs": [],
   "source": [
    "u = usuarios[0]"
   ]
  },
  {
   "cell_type": "code",
   "execution_count": 23,
   "metadata": {},
   "outputs": [],
   "source": [
    "session.commit()"
   ]
  },
  {
   "cell_type": "code",
   "execution_count": 24,
   "metadata": {},
   "outputs": [
    {
     "name": "stdout",
     "output_type": "stream",
     "text": [
      "ricardo Ricardo Ander-Egg twitter.com/ricardoanderegg\n",
      "jaume jaume goñi twitter.com/jaume\n",
      "carles carls hernan twitter.com/carles\n",
      "david davida barnes twitter.com/david\n",
      "jose antonio jose antonio cuenca twitter.com/jose\n",
      "pedro pedro roldar twitter.com/pedro\n",
      "ricardo Ricardo Ander-Egg ricardoanderegg.com\n",
      "jaume jaume goñi twitter.com/jaume\n",
      "carles carls hernan twitter.com/carles\n",
      "david davida barnes twitter.com/david\n",
      "jose antonio jose antonio cuenca twitter.com/jose\n",
      "pedro pedro roldar twitter.com/pedro\n",
      "jaume jaume serra twitter.com/jaume2\n",
      "ricardo Ricardo Ander-Egg ricardoanderegg.com\n",
      "jaume jaume goñi twitter.com/jaume\n",
      "carles carls hernan twitter.com/carles\n",
      "david davida barnes twitter.com/david\n",
      "jose antonio jose antonio cuenca twitter.com/jose\n",
      "pedro pedro roldar twitter.com/pedro\n"
     ]
    }
   ],
   "source": [
    "for usuario in session.query(User).order_by(User.id):\n",
    "    print(usuario.name, usuario.fullname, usuario.url)"
   ]
  },
  {
   "cell_type": "code",
   "execution_count": 25,
   "metadata": {},
   "outputs": [
    {
     "name": "stdout",
     "output_type": "stream",
     "text": [
      "ricardo Ricardo Ander-Egg\n",
      "jaume jaume goñi\n",
      "carles carls hernan\n",
      "david davida barnes\n",
      "jose antonio jose antonio cuenca\n",
      "pedro pedro roldar\n",
      "ricardo Ricardo Ander-Egg\n",
      "jaume jaume goñi\n",
      "carles carls hernan\n",
      "david davida barnes\n",
      "jose antonio jose antonio cuenca\n",
      "pedro pedro roldar\n",
      "jaume jaume serra\n",
      "ricardo Ricardo Ander-Egg\n",
      "jaume jaume goñi\n",
      "carles carls hernan\n",
      "david davida barnes\n",
      "jose antonio jose antonio cuenca\n",
      "pedro pedro roldar\n"
     ]
    }
   ],
   "source": [
    "for nombre, nombre_completo in session.query(User.name, User.fullname):\n",
    "    print(nombre, nombre_completo)"
   ]
  },
  {
   "cell_type": "markdown",
   "metadata": {},
   "source": [
    "El equivalente de esto en SQL sería:\n",
    "\n",
    "```sql\n",
    "SELECT users.name AS nombre,\n",
    "        users.fullname AS nombre_completo\n",
    "FROM users\n",
    "()\n",
    "```"
   ]
  },
  {
   "cell_type": "code",
   "execution_count": 26,
   "metadata": {},
   "outputs": [
    {
     "name": "stdout",
     "output_type": "stream",
     "text": [
      "<User(name='ricardo', fullname='Ricardo Ander-Egg', url='twitter.com/ricardoanderegg')> ricardo\n",
      "<User(name='jaume', fullname='jaume goñi', url='twitter.com/jaume')> jaume\n",
      "<User(name='carles', fullname='carls hernan', url='twitter.com/carles')> carles\n",
      "<User(name='david', fullname='davida barnes', url='twitter.com/david')> david\n",
      "<User(name='jose antonio', fullname='jose antonio cuenca', url='twitter.com/jose')> jose antonio\n",
      "<User(name='pedro', fullname='pedro roldar', url='twitter.com/pedro')> pedro\n",
      "<User(name='ricardo', fullname='Ricardo Ander-Egg', url='ricardoanderegg.com')> ricardo\n",
      "<User(name='jaume', fullname='jaume goñi', url='twitter.com/jaume')> jaume\n",
      "<User(name='carles', fullname='carls hernan', url='twitter.com/carles')> carles\n",
      "<User(name='david', fullname='davida barnes', url='twitter.com/david')> david\n",
      "<User(name='jose antonio', fullname='jose antonio cuenca', url='twitter.com/jose')> jose antonio\n",
      "<User(name='pedro', fullname='pedro roldar', url='twitter.com/pedro')> pedro\n",
      "<User(name='jaume', fullname='jaume serra', url='twitter.com/jaume2')> jaume\n",
      "<User(name='ricardo', fullname='Ricardo Ander-Egg', url='ricardoanderegg.com')> ricardo\n",
      "<User(name='jaume', fullname='jaume goñi', url='twitter.com/jaume')> jaume\n",
      "<User(name='carles', fullname='carls hernan', url='twitter.com/carles')> carles\n",
      "<User(name='david', fullname='davida barnes', url='twitter.com/david')> david\n",
      "<User(name='jose antonio', fullname='jose antonio cuenca', url='twitter.com/jose')> jose antonio\n",
      "<User(name='pedro', fullname='pedro roldar', url='twitter.com/pedro')> pedro\n"
     ]
    }
   ],
   "source": [
    "for row in session.query(User, User.name).all():\n",
    "    print(row.User, row.name)"
   ]
  },
  {
   "cell_type": "code",
   "execution_count": 27,
   "metadata": {},
   "outputs": [],
   "source": [
    "nuevo_user = User(name=\"jaume\", fullname=\"jaume serra\", url=\"twitter.com/jaume2\")"
   ]
  },
  {
   "cell_type": "code",
   "execution_count": 28,
   "metadata": {},
   "outputs": [],
   "source": [
    "session.add(nuevo_user)"
   ]
  },
  {
   "cell_type": "code",
   "execution_count": 29,
   "metadata": {},
   "outputs": [],
   "source": [
    "session.commit()"
   ]
  },
  {
   "cell_type": "code",
   "execution_count": 30,
   "metadata": {},
   "outputs": [
    {
     "name": "stdout",
     "output_type": "stream",
     "text": [
      "<User(name='jaume', fullname='jaume goñi', url='twitter.com/jaume')>\n",
      "<User(name='jaume', fullname='jaume goñi', url='twitter.com/jaume')>\n",
      "<User(name='jaume', fullname='jaume goñi', url='twitter.com/jaume')>\n"
     ]
    }
   ],
   "source": [
    "for user in (\n",
    "    session.query(User)\n",
    "    .filter(User.name == \"jaume\")\n",
    "    .filter(User.fullname == \"jaume goñi\")\n",
    "):\n",
    "    print(user)"
   ]
  },
  {
   "cell_type": "code",
   "execution_count": 31,
   "metadata": {},
   "outputs": [],
   "source": [
    "nombres_filtro = [\"carles\", \"jaume\"]"
   ]
  },
  {
   "cell_type": "code",
   "execution_count": 32,
   "metadata": {},
   "outputs": [
    {
     "data": {
      "text/plain": [
       "<sqlalchemy.orm.query.Query at 0x10c2d45b0>"
      ]
     },
     "execution_count": 32,
     "metadata": {},
     "output_type": "execute_result"
    }
   ],
   "source": [
    "session.query(User).filter(User.name.in_(nombres_filtro))"
   ]
  },
  {
   "cell_type": "code",
   "execution_count": 33,
   "metadata": {},
   "outputs": [],
   "source": [
    "import requests\n",
    "import sqlalchemy\n",
    "\n",
    "from sqlalchemy import create_engine\n",
    "from sqlalchemy.ext.declarative import declarative_base\n",
    "from sqlalchemy import Column, Integer, String\n",
    "\n",
    "from sqlalchemy.orm import sessionmaker"
   ]
  },
  {
   "cell_type": "code",
   "execution_count": 34,
   "metadata": {},
   "outputs": [],
   "source": [
    "class Lenguajes(Base):\n",
    "    \n",
    "    __tablename__ = \"lenguajes\"\n",
    "    \n",
    "    id = Column(Integer, primary_key=True)\n",
    "    name = Column(String, nullable=False)\n",
    "    year = Column(Integer)"
   ]
  },
  {
   "cell_type": "code",
   "execution_count": 35,
   "metadata": {},
   "outputs": [],
   "source": [
    "Base.metadata.create_all(engine)"
   ]
  },
  {
   "cell_type": "code",
   "execution_count": 36,
   "metadata": {},
   "outputs": [],
   "source": [
    "python = Lenguajes(name=\"python\", year=1989)"
   ]
  },
  {
   "cell_type": "code",
   "execution_count": 37,
   "metadata": {},
   "outputs": [],
   "source": [
    "session.add(python)"
   ]
  },
  {
   "cell_type": "code",
   "execution_count": 38,
   "metadata": {},
   "outputs": [],
   "source": [
    "session.commit()"
   ]
  },
  {
   "cell_type": "code",
   "execution_count": 40,
   "metadata": {},
   "outputs": [
    {
     "data": {
      "text/plain": [
       "[<User(name='ricardo', fullname='Ricardo Ander-Egg', url='twitter.com/ricardoanderegg')>,\n",
       " <User(name='jaume', fullname='jaume goñi', url='twitter.com/jaume')>,\n",
       " <User(name='carles', fullname='carls hernan', url='twitter.com/carles')>,\n",
       " <User(name='david', fullname='davida barnes', url='twitter.com/david')>,\n",
       " <User(name='jose antonio', fullname='jose antonio cuenca', url='twitter.com/jose')>,\n",
       " <User(name='pedro', fullname='pedro roldar', url='twitter.com/pedro')>,\n",
       " <User(name='ricardo', fullname='Ricardo Ander-Egg', url='ricardoanderegg.com')>,\n",
       " <User(name='jaume', fullname='jaume goñi', url='twitter.com/jaume')>,\n",
       " <User(name='carles', fullname='carls hernan', url='twitter.com/carles')>,\n",
       " <User(name='david', fullname='davida barnes', url='twitter.com/david')>,\n",
       " <User(name='jose antonio', fullname='jose antonio cuenca', url='twitter.com/jose')>,\n",
       " <User(name='pedro', fullname='pedro roldar', url='twitter.com/pedro')>,\n",
       " <User(name='jaume', fullname='jaume serra', url='twitter.com/jaume2')>,\n",
       " <User(name='ricardo', fullname='Ricardo Ander-Egg', url='ricardoanderegg.com')>,\n",
       " <User(name='jaume', fullname='jaume goñi', url='twitter.com/jaume')>,\n",
       " <User(name='carles', fullname='carls hernan', url='twitter.com/carles')>,\n",
       " <User(name='david', fullname='davida barnes', url='twitter.com/david')>,\n",
       " <User(name='jose antonio', fullname='jose antonio cuenca', url='twitter.com/jose')>,\n",
       " <User(name='pedro', fullname='pedro roldar', url='twitter.com/pedro')>,\n",
       " <User(name='jaume', fullname='jaume serra', url='twitter.com/jaume2')>]"
      ]
     },
     "execution_count": 40,
     "metadata": {},
     "output_type": "execute_result"
    }
   ],
   "source": [
    "session.query(User).all()"
   ]
  },
  {
   "cell_type": "code",
   "execution_count": null,
   "metadata": {},
   "outputs": [],
   "source": [
    "try:\n",
    "    session.add(......)\n",
    "except Exception:\n",
    "    session.rollback()\n",
    "    raise"
   ]
  },
  {
   "cell_type": "markdown",
   "metadata": {},
   "source": [
    "## Ejercicio\n",
    "\n",
    "1. Obtener todas las cartas de la API.\n",
    "1. La key `colors` contiene un value que es una lista. Filtrar las cartas que contengan `\"Green\"` en esa lista.\n",
    "1. Generar una base de datos con SQLAlchemy para almacenar estas cartas.\n",
    "1. Las columnas que debemos crear son (entre paréntesis está el nombre de la key que tienen en el diccionario):\n",
    "    * nombre (`name`)\n",
    "    * ** multiverse_id (`multiverseid`)  <== queda eliminado a menos que queraís hacer la parte extra\n",
    "    * url_imagen (`imageUrl`) || tipo (`type`)\n",
    "    * rareza (`rarity`)\n",
    "    * **Extra**: en las cartas verdes que NO tienen `multiverseid`, crearlo y darle el valor `0`\n",
    "    \n",
    "1. De la lista de cartas filtradas que hemos obtenido en el punto $2$, guardarlas todas en la base de datos."
   ]
  },
  {
   "cell_type": "markdown",
   "metadata": {},
   "source": [
    "**Extra 🔥**\n",
    "\n",
    "* Crear una función que obtenga la información de la carta de la base de datos en base a un `id` o como queráis.\n",
    "* En las cartas que no tengan la variable `\"imageUrl\"`, crearla y poner: http://placegoat.com/200/200\n",
    "* Descargar la imagen de esta carta (o de la cabra 😂) y guardarla en un archivo en el disco.\n",
    "* Crear un archivo JSON que sea una lista de diccionarios con el siguiente formato:\n",
    "\n",
    "```python\n",
    "[\n",
    "    {\"nombre\": nombre_carta, \"url_imagen\": url_imagen},\n",
    "    {\"nombre\": nombre_carta, \"url_imagen\": url_imagen},\n",
    "    {\"nombre\": nombre_carta, \"url_imagen\": url_imagen},\n",
    "    .\n",
    "    .\n",
    "    .\n",
    "]\n",
    "```\n",
    "\n",
    "Por ejemplo:\n",
    "\n",
    "```python\n",
    "req_img = requests.get(v[0][\"imageUrl\"])\n",
    "\n",
    "with open(\"imagen.jpg\", \"wb\") as f:\n",
    "    f.write(req_img.content)\n",
    "```"
   ]
  },
  {
   "cell_type": "code",
   "execution_count": 9,
   "metadata": {},
   "outputs": [],
   "source": [
    "import json\n",
    "\n",
    "with open(\"cartas.json\", \"w\") as f:\n",
    "    f.write(json.dumps(cartas))"
   ]
  },
  {
   "cell_type": "code",
   "execution_count": null,
   "metadata": {},
   "outputs": [],
   "source": [
    "import sqlalchemy\n",
    "from sqlalchemy import create_engine\n",
    "from sqlalchemy.orm import sessionmaker\n",
    "from sqlalchemy import Column, Integer, String\n",
    "from sqlalchemy.ext.declarative import declarative_base\n",
    "\n",
    "import json"
   ]
  },
  {
   "cell_type": "code",
   "execution_count": 2,
   "metadata": {},
   "outputs": [],
   "source": [
    "# import requests\n",
    "\n",
    "# r = requests.get(\"https://api.magicthegathering.io/v1/cards\")\n",
    "\n",
    "# data = r.json()\n",
    "# cartas = data[\"cards\"]"
   ]
  },
  {
   "cell_type": "code",
   "execution_count": 3,
   "metadata": {},
   "outputs": [],
   "source": [
    "with open(\"cartas.json\") as f:\n",
    "    cartas = json.loads(f.read())"
   ]
  },
  {
   "cell_type": "code",
   "execution_count": 4,
   "metadata": {},
   "outputs": [],
   "source": [
    "engine = create_engine(\"sqlite:///cartas_url.db\", echo=True)\n",
    "\n",
    "Base = declarative_base()\n",
    "\n",
    "\n",
    "class Verde(Base):\n",
    "    \n",
    "    __tablename__ = \"verdes\"\n",
    "\n",
    "    id = Column(Integer, primary_key=True)\n",
    "    name = Column(String)\n",
    "    \n",
    "    # multiverse_id = Column(Integer)\n",
    "    url = Column(String)\n",
    "    \n",
    "    rarity = Column(String)\n",
    "\n",
    "    def __repr__(self):\n",
    "        # url='{self.url}',\n",
    "        return f\"<Verde(name='{self.name}', rarity='{self.rarity}')>\""
   ]
  },
  {
   "cell_type": "code",
   "execution_count": 5,
   "metadata": {},
   "outputs": [
    {
     "name": "stdout",
     "output_type": "stream",
     "text": [
      "2020-07-09 13:52:30,252 INFO sqlalchemy.engine.base.Engine SELECT CAST('test plain returns' AS VARCHAR(60)) AS anon_1\n",
      "2020-07-09 13:52:30,255 INFO sqlalchemy.engine.base.Engine ()\n",
      "2020-07-09 13:52:30,259 INFO sqlalchemy.engine.base.Engine SELECT CAST('test unicode returns' AS VARCHAR(60)) AS anon_1\n",
      "2020-07-09 13:52:30,262 INFO sqlalchemy.engine.base.Engine ()\n",
      "2020-07-09 13:52:30,264 INFO sqlalchemy.engine.base.Engine PRAGMA main.table_info(\"verdes\")\n",
      "2020-07-09 13:52:30,266 INFO sqlalchemy.engine.base.Engine ()\n",
      "2020-07-09 13:52:30,268 INFO sqlalchemy.engine.base.Engine PRAGMA temp.table_info(\"verdes\")\n",
      "2020-07-09 13:52:30,270 INFO sqlalchemy.engine.base.Engine ()\n",
      "2020-07-09 13:52:30,272 INFO sqlalchemy.engine.base.Engine \n",
      "CREATE TABLE verdes (\n",
      "\tid INTEGER NOT NULL, \n",
      "\tname VARCHAR, \n",
      "\turl VARCHAR, \n",
      "\trarity VARCHAR, \n",
      "\tPRIMARY KEY (id)\n",
      ")\n",
      "\n",
      "\n",
      "2020-07-09 13:52:30,274 INFO sqlalchemy.engine.base.Engine ()\n",
      "2020-07-09 13:52:30,280 INFO sqlalchemy.engine.base.Engine COMMIT\n"
     ]
    }
   ],
   "source": [
    "Base.metadata.create_all(engine)\n",
    "\n",
    "Session = sessionmaker(bind=engine)\n",
    "\n",
    "session = Session()"
   ]
  },
  {
   "cell_type": "code",
   "execution_count": 6,
   "metadata": {},
   "outputs": [],
   "source": [
    "verdes = []\n",
    "\n",
    "for carta in cartas:\n",
    "\n",
    "    colores = carta[\"colors\"]\n",
    "\n",
    "    if \"Green\" in colores:\n",
    "        try:\n",
    "            url_imagen = carta[\"imageUrl\"]\n",
    "        except KeyError:  # no tiene la key [\"imageUrl\"]\n",
    "            url_imagen = \"http://placegoat.com/200/200\"\n",
    "\n",
    "        nombre = carta[\"name\"]\n",
    "        rareza = carta[\"rarity\"]\n",
    "\n",
    "        carta_nueva = Verde(name=nombre, url=url_imagen, rarity=rareza)\n",
    "        verdes.append(carta_nueva)"
   ]
  },
  {
   "cell_type": "code",
   "execution_count": 7,
   "metadata": {},
   "outputs": [
    {
     "data": {
      "text/plain": [
       "[<Verde(name='Abundance', rarity='Rare')>,\n",
       " <Verde(name='Aggressive Urge', rarity='Common')>,\n",
       " <Verde(name='Avatar of Might', rarity='Rare')>,\n",
       " <Verde(name='Avatar of Might', rarity='Rare')>,\n",
       " <Verde(name='Birds of Paradise', rarity='Rare')>,\n",
       " <Verde(name='Birds of Paradise', rarity='Rare')>,\n",
       " <Verde(name='Blanchwood Armor', rarity='Uncommon')>,\n",
       " <Verde(name='Blanchwood Armor', rarity='Uncommon')>,\n",
       " <Verde(name='Canopy Spider', rarity='Common')>,\n",
       " <Verde(name='Canopy Spider', rarity='Common')>,\n",
       " <Verde(name='Civic Wayfinder', rarity='Common')>,\n",
       " <Verde(name='Commune with Nature', rarity='Common')>,\n",
       " <Verde(name='Craw Wurm', rarity='Common')>,\n",
       " <Verde(name='Creeping Mold', rarity='Uncommon')>]"
      ]
     },
     "execution_count": 7,
     "metadata": {},
     "output_type": "execute_result"
    }
   ],
   "source": [
    "verdes"
   ]
  },
  {
   "cell_type": "code",
   "execution_count": 8,
   "metadata": {},
   "outputs": [],
   "source": [
    "session.add_all(verdes)"
   ]
  },
  {
   "cell_type": "code",
   "execution_count": 9,
   "metadata": {},
   "outputs": [
    {
     "name": "stdout",
     "output_type": "stream",
     "text": [
      "2020-07-09 13:54:55,812 INFO sqlalchemy.engine.base.Engine BEGIN (implicit)\n",
      "2020-07-09 13:54:55,814 INFO sqlalchemy.engine.base.Engine INSERT INTO verdes (name, url, rarity) VALUES (?, ?, ?)\n",
      "2020-07-09 13:54:55,818 INFO sqlalchemy.engine.base.Engine ('Abundance', 'http://gatherer.wizards.com/Handlers/Image.ashx?multiverseid=130483&type=card', 'Rare')\n",
      "2020-07-09 13:54:55,821 INFO sqlalchemy.engine.base.Engine INSERT INTO verdes (name, url, rarity) VALUES (?, ?, ?)\n",
      "2020-07-09 13:54:55,822 INFO sqlalchemy.engine.base.Engine ('Aggressive Urge', 'http://gatherer.wizards.com/Handlers/Image.ashx?multiverseid=130525&type=card', 'Common')\n",
      "2020-07-09 13:54:55,823 INFO sqlalchemy.engine.base.Engine INSERT INTO verdes (name, url, rarity) VALUES (?, ?, ?)\n",
      "2020-07-09 13:54:55,824 INFO sqlalchemy.engine.base.Engine ('Avatar of Might', 'http://gatherer.wizards.com/Handlers/Image.ashx?multiverseid=135249&type=card', 'Rare')\n",
      "2020-07-09 13:54:55,825 INFO sqlalchemy.engine.base.Engine INSERT INTO verdes (name, url, rarity) VALUES (?, ?, ?)\n",
      "2020-07-09 13:54:55,827 INFO sqlalchemy.engine.base.Engine ('Avatar of Might', 'http://placegoat.com/200/200', 'Rare')\n",
      "2020-07-09 13:54:55,829 INFO sqlalchemy.engine.base.Engine INSERT INTO verdes (name, url, rarity) VALUES (?, ?, ?)\n",
      "2020-07-09 13:54:55,830 INFO sqlalchemy.engine.base.Engine ('Birds of Paradise', 'http://gatherer.wizards.com/Handlers/Image.ashx?multiverseid=129906&type=card', 'Rare')\n",
      "2020-07-09 13:54:55,831 INFO sqlalchemy.engine.base.Engine INSERT INTO verdes (name, url, rarity) VALUES (?, ?, ?)\n",
      "2020-07-09 13:54:55,832 INFO sqlalchemy.engine.base.Engine ('Birds of Paradise', 'http://placegoat.com/200/200', 'Rare')\n",
      "2020-07-09 13:54:55,834 INFO sqlalchemy.engine.base.Engine INSERT INTO verdes (name, url, rarity) VALUES (?, ?, ?)\n",
      "2020-07-09 13:54:55,837 INFO sqlalchemy.engine.base.Engine ('Blanchwood Armor', 'http://gatherer.wizards.com/Handlers/Image.ashx?multiverseid=135267&type=card', 'Uncommon')\n",
      "2020-07-09 13:54:55,838 INFO sqlalchemy.engine.base.Engine INSERT INTO verdes (name, url, rarity) VALUES (?, ?, ?)\n",
      "2020-07-09 13:54:55,842 INFO sqlalchemy.engine.base.Engine ('Blanchwood Armor', 'http://placegoat.com/200/200', 'Uncommon')\n",
      "2020-07-09 13:54:55,844 INFO sqlalchemy.engine.base.Engine INSERT INTO verdes (name, url, rarity) VALUES (?, ?, ?)\n",
      "2020-07-09 13:54:55,847 INFO sqlalchemy.engine.base.Engine ('Canopy Spider', 'http://gatherer.wizards.com/Handlers/Image.ashx?multiverseid=135185&type=card', 'Common')\n",
      "2020-07-09 13:54:55,849 INFO sqlalchemy.engine.base.Engine INSERT INTO verdes (name, url, rarity) VALUES (?, ?, ?)\n",
      "2020-07-09 13:54:55,850 INFO sqlalchemy.engine.base.Engine ('Canopy Spider', 'http://placegoat.com/200/200', 'Common')\n",
      "2020-07-09 13:54:55,851 INFO sqlalchemy.engine.base.Engine INSERT INTO verdes (name, url, rarity) VALUES (?, ?, ?)\n",
      "2020-07-09 13:54:55,852 INFO sqlalchemy.engine.base.Engine ('Civic Wayfinder', 'http://gatherer.wizards.com/Handlers/Image.ashx?multiverseid=130522&type=card', 'Common')\n",
      "2020-07-09 13:54:55,854 INFO sqlalchemy.engine.base.Engine INSERT INTO verdes (name, url, rarity) VALUES (?, ?, ?)\n",
      "2020-07-09 13:54:55,855 INFO sqlalchemy.engine.base.Engine ('Commune with Nature', 'http://gatherer.wizards.com/Handlers/Image.ashx?multiverseid=130521&type=card', 'Common')\n",
      "2020-07-09 13:54:55,858 INFO sqlalchemy.engine.base.Engine INSERT INTO verdes (name, url, rarity) VALUES (?, ?, ?)\n",
      "2020-07-09 13:54:55,859 INFO sqlalchemy.engine.base.Engine ('Craw Wurm', 'http://gatherer.wizards.com/Handlers/Image.ashx?multiverseid=130527&type=card', 'Common')\n",
      "2020-07-09 13:54:55,860 INFO sqlalchemy.engine.base.Engine INSERT INTO verdes (name, url, rarity) VALUES (?, ?, ?)\n",
      "2020-07-09 13:54:55,861 INFO sqlalchemy.engine.base.Engine ('Creeping Mold', 'http://gatherer.wizards.com/Handlers/Image.ashx?multiverseid=129512&type=card', 'Uncommon')\n",
      "2020-07-09 13:54:55,863 INFO sqlalchemy.engine.base.Engine COMMIT\n"
     ]
    }
   ],
   "source": [
    "session.commit()"
   ]
  },
  {
   "cell_type": "code",
   "execution_count": null,
   "metadata": {},
   "outputs": [],
   "source": []
  },
  {
   "cell_type": "code",
   "execution_count": null,
   "metadata": {},
   "outputs": [],
   "source": [
    "import sqlalchemy\n",
    "from sqlalchemy import create_engine\n",
    "from sqlalchemy.orm import sessionmaker\n",
    "from sqlalchemy import Column, Integer, String\n",
    "from sqlalchemy.ext.declarative import declarative_base\n",
    "\n",
    "import json"
   ]
  },
  {
   "cell_type": "code",
   "execution_count": 11,
   "metadata": {},
   "outputs": [
    {
     "name": "stdout",
     "output_type": "stream",
     "text": [
      "2020-07-09 13:57:22,325 INFO sqlalchemy.engine.base.Engine SELECT verdes.id AS verdes_id, verdes.name AS verdes_name, verdes.url AS verdes_url, verdes.rarity AS verdes_rarity \n",
      "FROM verdes \n",
      "WHERE verdes.name = ?\n",
      "2020-07-09 13:57:22,327 INFO sqlalchemy.engine.base.Engine ('Craw Wurm',)\n"
     ]
    }
   ],
   "source": [
    "carta = session.query(Verde).filter(Verde.name == \"Craw Wurm\").all()"
   ]
  },
  {
   "cell_type": "code",
   "execution_count": 13,
   "metadata": {},
   "outputs": [
    {
     "data": {
      "text/plain": [
       "'http://gatherer.wizards.com/Handlers/Image.ashx?multiverseid=130527&type=card'"
      ]
     },
     "execution_count": 13,
     "metadata": {},
     "output_type": "execute_result"
    }
   ],
   "source": [
    "carta[0].url"
   ]
  },
  {
   "cell_type": "code",
   "execution_count": null,
   "metadata": {},
   "outputs": [],
   "source": [
    "for user in (\n",
    "    session.query(User)\n",
    "    .filter(User.name == \"daniel\")\n",
    "    .filter(User.fullname == \"daniel orejuela\")\n",
    "):\n",
    "    print(user)"
   ]
  },
  {
   "cell_type": "code",
   "execution_count": null,
   "metadata": {},
   "outputs": [],
   "source": [
    "for nombre, nombre_completo in session.query(User.name, User.fullname):\n",
    "    print(nombre, nombre_completo)"
   ]
  }
 ],
 "metadata": {
  "kernelspec": {
   "display_name": "teach",
   "language": "python",
   "name": "teach"
  },
  "language_info": {
   "codemirror_mode": {
    "name": "ipython",
    "version": 3
   },
   "file_extension": ".py",
   "mimetype": "text/x-python",
   "name": "python",
   "nbconvert_exporter": "python",
   "pygments_lexer": "ipython3",
   "version": "3.8.3"
  }
 },
 "nbformat": 4,
 "nbformat_minor": 4
}
