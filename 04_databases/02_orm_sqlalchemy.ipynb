{
 "cells": [
  {
   "cell_type": "markdown",
   "metadata": {
    "id": "aw2XxZCra0Xc"
   },
   "source": [
    "Autor: Ricardo Ander-Egg Aguilar\n",
    "\n",
    "* 🖥: https://ricardoanderegg.com/\n",
    "* 🐦: https://twitter.com/ricardoanderegg\n",
    "* 👨🏻‍🎓: https://www.linkedin.com/in/ricardoanderegg/"
   ]
  },
  {
   "cell_type": "markdown",
   "metadata": {
    "id": "RhNwtg3ja0Xc"
   },
   "source": [
    "## ORM, Bases de datos con SQLAlchemy\n",
    "\n",
    "ORM = Object relational mapper"
   ]
  },
  {
   "cell_type": "code",
   "execution_count": 84,
   "metadata": {
    "id": "y3Wz9cE0a0Xd"
   },
   "outputs": [],
   "source": [
    "import sqlalchemy\n",
    "from sqlalchemy import create_engine\n",
    "from sqlalchemy.orm import sessionmaker\n",
    "from sqlalchemy import Column, Integer, String\n",
    "from sqlalchemy.ext.declarative import declarative_base"
   ]
  },
  {
   "cell_type": "code",
   "execution_count": 85,
   "metadata": {
    "id": "vFZxQDOba0Xf"
   },
   "outputs": [],
   "source": [
    "# creamos una base de datos SQLite directamente en la memoria RAM del ordenador\n",
    "engine = create_engine(\"sqlite:///curso.db\")\n",
    "\n",
    "# para crearla en el disco duro. echo=True hará que SQLAlchemy nos devuelve información del tipo de queries que está ejecutando\n",
    "# engine = create_engine(\"sqlite:///curso.db\", echo=True)"
   ]
  },
  {
   "cell_type": "code",
   "execution_count": 86,
   "metadata": {
    "id": "i5vhAILta0Xf"
   },
   "outputs": [],
   "source": [
    "from sqlalchemy.ext.declarative import declarative_base\n",
    "\n",
    "Base = declarative_base()"
   ]
  },
  {
   "cell_type": "markdown",
   "metadata": {
    "id": "2nQXsgp6a0Xf"
   },
   "source": [
    "Creamos nuestra tabla.\n",
    "\n",
    "\n",
    "El método `__repr__` indica dentro de una clase qué queremos que aparezca cuando hagamos `print()`."
   ]
  },
  {
   "cell_type": "code",
   "execution_count": 87,
   "metadata": {
    "id": "xwRbcHlfa0Xf"
   },
   "outputs": [],
   "source": [
    "class User(Base):\n",
    "    __tablename__ = \"users\"\n",
    "\n",
    "    id = Column(Integer, primary_key=True)\n",
    "    name = Column(String, index=True)\n",
    "    fullname = Column(String)\n",
    "    url = Column(String, unique=True)\n",
    "\n",
    "    def __repr__(self):\n",
    "        return \"<User(name='%s', fullname='%s', url='%s')>\" % (\n",
    "            self.name,\n",
    "            self.fullname,\n",
    "            self.url,\n",
    "        )"
   ]
  },
  {
   "cell_type": "code",
   "execution_count": 88,
   "metadata": {
    "id": "ANx3S-Kva0Xf"
   },
   "outputs": [],
   "source": [
    "Base.metadata.create_all(engine)"
   ]
  },
  {
   "cell_type": "code",
   "execution_count": 89,
   "metadata": {
    "id": "o4xCUCALa0Xf"
   },
   "outputs": [],
   "source": [
    "Session = sessionmaker(bind=engine)"
   ]
  },
  {
   "cell_type": "code",
   "execution_count": 90,
   "metadata": {
    "id": "Bill9Jx4a0Xf"
   },
   "outputs": [],
   "source": [
    "session = Session()"
   ]
  },
  {
   "cell_type": "code",
   "execution_count": 91,
   "metadata": {
    "id": "-MEp6K8_mkDJ"
   },
   "outputs": [],
   "source": [
    "ricardo_user = User(name=\"ricardo\", fullname=\"Ricardo Ander-Egg\", url=\"ricardoanderegg.com\")"
   ]
  },
  {
   "cell_type": "code",
   "execution_count": 92,
   "metadata": {
    "id": "f1b9-J39a0Xf"
   },
   "outputs": [],
   "source": [
    "session.add(ricardo_user)"
   ]
  },
  {
   "cell_type": "markdown",
   "metadata": {
    "id": "K092J-Mna0Xf"
   },
   "source": [
    "Ahora podemos hacer queries sin escribir directamente SQL usando python, objetos, y la relación entre estos objetos."
   ]
  },
  {
   "cell_type": "code",
   "execution_count": 93,
   "metadata": {
    "id": "LpldFxpra0Xg"
   },
   "outputs": [],
   "source": [
    "mi_usuario = session.query(User).filter_by(name=\"ricardo\").first()"
   ]
  },
  {
   "cell_type": "markdown",
   "metadata": {
    "id": "EO79EDyca0Xg"
   },
   "source": [
    "Añadimos varios a la vez."
   ]
  },
  {
   "cell_type": "code",
   "execution_count": 94,
   "metadata": {
    "id": "_zeqXi6oa0Xg"
   },
   "outputs": [],
   "source": [
    "lista_users = [\n",
    "    User(name=\"jaume\", fullname=\"jaume go\", url=\"twitter.com/jaume\"),\n",
    "    User(name=\"carles\", fullname=\"carls he\", url=\"twitter.com/carles\"),\n",
    "    User(name=\"david\", fullname=\"davida b\", url=\"twitter.com/david\"),\n",
    "    User(name=\"jose antonio\", fullname=\"jose a\", url=\"twitter.com/jose\"),\n",
    "    User(name=\"pedro\", fullname=\"pedro ro\", url=\"twitter.com/pedro\"),\n",
    "    \n",
    "]"
   ]
  },
  {
   "cell_type": "code",
   "execution_count": 95,
   "metadata": {
    "id": "wg2Jk6FHa0Xg"
   },
   "outputs": [],
   "source": [
    "session.add_all(lista_users)"
   ]
  },
  {
   "cell_type": "code",
   "execution_count": 96,
   "metadata": {
    "id": "0eOH3yCTa0Xg"
   },
   "outputs": [],
   "source": [
    "session.commit()"
   ]
  },
  {
   "cell_type": "markdown",
   "metadata": {
    "id": "sVx3bTUba0Xg"
   },
   "source": [
    "Si nos equivocamos podemos hacer un **`.rollback()`** antes de hacer commit!"
   ]
  },
  {
   "cell_type": "code",
   "execution_count": 97,
   "metadata": {
    "id": "K13ZHwmna0Xg"
   },
   "outputs": [],
   "source": [
    "usuario_erroneo = User(name=\"user erroneo\", fullname=\"oriol mitja\", url=\"google.com\")"
   ]
  },
  {
   "cell_type": "code",
   "execution_count": 98,
   "metadata": {
    "id": "T87CfcSma0Xg"
   },
   "outputs": [],
   "source": [
    "session.add(usuario_erroneo)"
   ]
  },
  {
   "cell_type": "markdown",
   "metadata": {
    "id": "z-vyxKJCa0Xg"
   },
   "source": [
    "Podemos hacer una query "
   ]
  },
  {
   "cell_type": "code",
   "execution_count": 99,
   "metadata": {
    "colab": {
     "base_uri": "https://localhost:8080/"
    },
    "id": "N-7gi14Da0Xg",
    "outputId": "660bc47d-4724-44e3-dba0-b060b2f4fae0"
   },
   "outputs": [
    {
     "data": {
      "text/plain": [
       "[<User(name='user erroneo', fullname='oriol mitja', url='google.com')>]"
      ]
     },
     "execution_count": 99,
     "metadata": {
      "tags": []
     },
     "output_type": "execute_result"
    }
   ],
   "source": [
    "session.query(User).filter(User.name.in_([\"Manuel\", \"user erroneo\"])).all()"
   ]
  },
  {
   "cell_type": "markdown",
   "metadata": {
    "id": "m3fMAyLsa0Xi"
   },
   "source": [
    "Hacemos rollback para \"deshacer\" la acción que habíamos ejecutado con el `.add()`"
   ]
  },
  {
   "cell_type": "code",
   "execution_count": 100,
   "metadata": {
    "id": "cYNq_xbRa0Xi"
   },
   "outputs": [],
   "source": [
    "session.rollback()"
   ]
  },
  {
   "cell_type": "markdown",
   "metadata": {
    "id": "-60r2_yAa0Xi"
   },
   "source": [
    "Para filtrar tenemos muchas opciones!"
   ]
  },
  {
   "cell_type": "code",
   "execution_count": 101,
   "metadata": {
    "id": "tJFa7zBEa0Xi"
   },
   "outputs": [],
   "source": [
    "usuarios = session.query(User).filter(User.name.in_([\"ricardo\", \"pedro\"])).all()"
   ]
  },
  {
   "cell_type": "code",
   "execution_count": 102,
   "metadata": {
    "colab": {
     "base_uri": "https://localhost:8080/",
     "height": 35
    },
    "id": "u1vV9o6rnwHa",
    "outputId": "d80c7fc2-2bea-4363-9c35-5b5546411f8b"
   },
   "outputs": [
    {
     "data": {
      "application/vnd.google.colaboratory.intrinsic+json": {
       "type": "string"
      },
      "text/plain": [
       "'twitter.com/pedro'"
      ]
     },
     "execution_count": 102,
     "metadata": {
      "tags": []
     },
     "output_type": "execute_result"
    }
   ],
   "source": [
    "usuarios[0].url"
   ]
  },
  {
   "cell_type": "code",
   "execution_count": 103,
   "metadata": {
    "id": "_dXu_L6va0Xi"
   },
   "outputs": [],
   "source": [
    "usuarios[0].url = \"twitter.com/ricardoanderegg\""
   ]
  },
  {
   "cell_type": "code",
   "execution_count": 104,
   "metadata": {
    "id": "a1z7lhvja0Xi"
   },
   "outputs": [],
   "source": [
    "u = usuarios[0]"
   ]
  },
  {
   "cell_type": "code",
   "execution_count": 105,
   "metadata": {
    "colab": {
     "base_uri": "https://localhost:8080/"
    },
    "id": "kPYReAXCn6H2",
    "outputId": "16be50c0-313a-458b-b551-6d32807f0104"
   },
   "outputs": [
    {
     "data": {
      "text/plain": [
       "<User(name='pedro', fullname='pedro ro', url='twitter.com/ricardoanderegg')>"
      ]
     },
     "execution_count": 105,
     "metadata": {
      "tags": []
     },
     "output_type": "execute_result"
    }
   ],
   "source": [
    "u"
   ]
  },
  {
   "cell_type": "code",
   "execution_count": 106,
   "metadata": {
    "id": "YIuMzg6Pa0Xi"
   },
   "outputs": [],
   "source": [
    "session.commit()"
   ]
  },
  {
   "cell_type": "code",
   "execution_count": 107,
   "metadata": {
    "colab": {
     "base_uri": "https://localhost:8080/"
    },
    "id": "W441VpSia0Xi",
    "outputId": "80c68615-29e5-4430-ec5d-22e84905e899"
   },
   "outputs": [
    {
     "name": "stdout",
     "output_type": "stream",
     "text": [
      "ricardo Ricardo Ander-Egg ricardoanderegg.com\n",
      "jaume jaume go twitter.com/jaume\n",
      "carles carls he twitter.com/carles\n",
      "david davida b twitter.com/david\n",
      "jose antonio jose a twitter.com/jose\n",
      "pedro pedro ro twitter.com/ricardoanderegg\n"
     ]
    }
   ],
   "source": [
    "for usuario in session.query(User).order_by(User.id):\n",
    "    print(usuario.name, usuario.fullname, usuario.url)"
   ]
  },
  {
   "cell_type": "code",
   "execution_count": 108,
   "metadata": {
    "colab": {
     "base_uri": "https://localhost:8080/"
    },
    "id": "C5aRccS3a0Xi",
    "outputId": "8fbfeaac-6102-45fe-b1e2-7934c8d5d009"
   },
   "outputs": [
    {
     "name": "stdout",
     "output_type": "stream",
     "text": [
      "ricardo Ricardo Ander-Egg\n",
      "jaume jaume go\n",
      "carles carls he\n",
      "david davida b\n",
      "jose antonio jose a\n",
      "pedro pedro ro\n"
     ]
    }
   ],
   "source": [
    "for nombre, nombre_completo in session.query(User.name, User.fullname):\n",
    "    print(nombre, nombre_completo)"
   ]
  },
  {
   "cell_type": "markdown",
   "metadata": {
    "id": "CBi3clDJa0Xi"
   },
   "source": [
    "El equivalente de esto en SQL sería:\n",
    "\n",
    "```sql\n",
    "SELECT users.name AS nombre,\n",
    "        users.fullname AS nombre_completo\n",
    "FROM users\n",
    "()\n",
    "```"
   ]
  },
  {
   "cell_type": "code",
   "execution_count": 109,
   "metadata": {
    "colab": {
     "base_uri": "https://localhost:8080/"
    },
    "id": "k2hs1AdDa0Xi",
    "outputId": "004ae661-5d3b-4071-e330-f672198c882d"
   },
   "outputs": [
    {
     "name": "stdout",
     "output_type": "stream",
     "text": [
      "<User(name='ricardo', fullname='Ricardo Ander-Egg', url='ricardoanderegg.com')> ricardo\n",
      "<User(name='jaume', fullname='jaume go', url='twitter.com/jaume')> jaume\n",
      "<User(name='carles', fullname='carls he', url='twitter.com/carles')> carles\n",
      "<User(name='david', fullname='davida b', url='twitter.com/david')> david\n",
      "<User(name='jose antonio', fullname='jose a', url='twitter.com/jose')> jose antonio\n",
      "<User(name='pedro', fullname='pedro ro', url='twitter.com/ricardoanderegg')> pedro\n"
     ]
    }
   ],
   "source": [
    "for row in session.query(User, User.name).all():\n",
    "    print(row.User, row.name)"
   ]
  },
  {
   "cell_type": "code",
   "execution_count": 110,
   "metadata": {
    "id": "HenltOPya0Xi"
   },
   "outputs": [],
   "source": [
    "nuevo_user = User(name=\"jaume\", fullname=\"jaume serra\", url=\"twitter.com/jaume2\")"
   ]
  },
  {
   "cell_type": "code",
   "execution_count": 111,
   "metadata": {
    "id": "D-2JnVYDa0Xi"
   },
   "outputs": [],
   "source": [
    "session.add(nuevo_user)"
   ]
  },
  {
   "cell_type": "code",
   "execution_count": 112,
   "metadata": {
    "id": "rPopnDJ3a0Xi"
   },
   "outputs": [],
   "source": [
    "session.commit()"
   ]
  },
  {
   "cell_type": "code",
   "execution_count": 114,
   "metadata": {
    "colab": {
     "base_uri": "https://localhost:8080/"
    },
    "id": "Ms2vmOcWa0Xj",
    "outputId": "f0e83a4e-8d8c-48ed-e7fe-0594f10c2038"
   },
   "outputs": [
    {
     "name": "stdout",
     "output_type": "stream",
     "text": [
      "<User(name='jaume', fullname='jaume go', url='twitter.com/jaume')>\n"
     ]
    }
   ],
   "source": [
    "for user in (\n",
    "    session.query(User)\n",
    "    .filter(User.name == \"jaume\")\n",
    "    .filter(User.fullname == \"jaume go\")\n",
    "):\n",
    "    print(user)"
   ]
  },
  {
   "cell_type": "code",
   "execution_count": 115,
   "metadata": {
    "id": "KXEfcISaa0Xj"
   },
   "outputs": [],
   "source": [
    "nombres_filtro = [\"carles\", \"jaume\"]"
   ]
  },
  {
   "cell_type": "code",
   "execution_count": 122,
   "metadata": {
    "id": "7YdCo5J6a0Xj"
   },
   "outputs": [],
   "source": [
    "resultado = session.query(User).filter(User.name.in_(nombres_filtro)).all()"
   ]
  },
  {
   "cell_type": "code",
   "execution_count": 123,
   "metadata": {
    "colab": {
     "base_uri": "https://localhost:8080/"
    },
    "id": "M0FFnjDaoy0S",
    "outputId": "e3fa6461-bbf8-4d93-a6d3-f43d9d65137e"
   },
   "outputs": [
    {
     "data": {
      "text/plain": [
       "[<User(name='carles', fullname='carls he', url='twitter.com/carles')>,\n",
       " <User(name='jaume', fullname='jaume go', url='twitter.com/jaume')>,\n",
       " <User(name='jaume', fullname='jaume serra', url='twitter.com/jaume2')>]"
      ]
     },
     "execution_count": 123,
     "metadata": {
      "tags": []
     },
     "output_type": "execute_result"
    }
   ],
   "source": [
    "resultado"
   ]
  },
  {
   "cell_type": "code",
   "execution_count": null,
   "metadata": {
    "id": "kj_I3WTIa0Xj"
   },
   "outputs": [],
   "source": [
    "import requests\n",
    "import sqlalchemy\n",
    "\n",
    "from sqlalchemy import create_engine\n",
    "from sqlalchemy.ext.declarative import declarative_base\n",
    "from sqlalchemy import Column, Integer, String\n",
    "\n",
    "from sqlalchemy.orm import sessionmaker"
   ]
  },
  {
   "cell_type": "code",
   "execution_count": null,
   "metadata": {
    "id": "uHXNs8O3a0Xj"
   },
   "outputs": [],
   "source": [
    "class Lenguajes(Base):\n",
    "    \n",
    "    __tablename__ = \"lenguajes\"\n",
    "    \n",
    "    id = Column(Integer, primary_key=True)\n",
    "    name = Column(String, nullable=False)\n",
    "    year = Column(Integer)"
   ]
  },
  {
   "cell_type": "code",
   "execution_count": null,
   "metadata": {
    "id": "g2OOOtWza0Xj"
   },
   "outputs": [],
   "source": [
    "Base.metadata.create_all(engine)"
   ]
  },
  {
   "cell_type": "code",
   "execution_count": null,
   "metadata": {
    "id": "MydbxqWia0Xj"
   },
   "outputs": [],
   "source": [
    "python = Lenguajes(name=\"python\", year=1989)"
   ]
  },
  {
   "cell_type": "code",
   "execution_count": null,
   "metadata": {
    "id": "eFuJUNYxa0Xj"
   },
   "outputs": [],
   "source": [
    "session.add(python)"
   ]
  },
  {
   "cell_type": "code",
   "execution_count": null,
   "metadata": {
    "id": "VegsILkPa0Xj"
   },
   "outputs": [],
   "source": [
    "session.commit()"
   ]
  },
  {
   "cell_type": "code",
   "execution_count": null,
   "metadata": {
    "id": "bRCfQj7la0Xj",
    "outputId": "2670a48e-6f53-459d-c2aa-895f34a8eaa9"
   },
   "outputs": [
    {
     "data": {
      "text/plain": [
       "[<User(name='ricardo', fullname='Ricardo Ander-Egg', url='twitter.com/ricardoanderegg')>,\n",
       " <User(name='jaume', fullname='jaume goñi', url='twitter.com/jaume')>,\n",
       " <User(name='carles', fullname='carls hernan', url='twitter.com/carles')>,\n",
       " <User(name='david', fullname='davida barnes', url='twitter.com/david')>,\n",
       " <User(name='jose antonio', fullname='jose antonio cuenca', url='twitter.com/jose')>,\n",
       " <User(name='pedro', fullname='pedro roldar', url='twitter.com/pedro')>,\n",
       " <User(name='ricardo', fullname='Ricardo Ander-Egg', url='ricardoanderegg.com')>,\n",
       " <User(name='jaume', fullname='jaume goñi', url='twitter.com/jaume')>,\n",
       " <User(name='carles', fullname='carls hernan', url='twitter.com/carles')>,\n",
       " <User(name='david', fullname='davida barnes', url='twitter.com/david')>,\n",
       " <User(name='jose antonio', fullname='jose antonio cuenca', url='twitter.com/jose')>,\n",
       " <User(name='pedro', fullname='pedro roldar', url='twitter.com/pedro')>,\n",
       " <User(name='jaume', fullname='jaume serra', url='twitter.com/jaume2')>,\n",
       " <User(name='ricardo', fullname='Ricardo Ander-Egg', url='ricardoanderegg.com')>,\n",
       " <User(name='jaume', fullname='jaume goñi', url='twitter.com/jaume')>,\n",
       " <User(name='carles', fullname='carls hernan', url='twitter.com/carles')>,\n",
       " <User(name='david', fullname='davida barnes', url='twitter.com/david')>,\n",
       " <User(name='jose antonio', fullname='jose antonio cuenca', url='twitter.com/jose')>,\n",
       " <User(name='pedro', fullname='pedro roldar', url='twitter.com/pedro')>,\n",
       " <User(name='jaume', fullname='jaume serra', url='twitter.com/jaume2')>]"
      ]
     },
     "execution_count": 40,
     "metadata": {
      "tags": []
     },
     "output_type": "execute_result"
    }
   ],
   "source": [
    "session.query(User).all()"
   ]
  },
  {
   "cell_type": "code",
   "execution_count": null,
   "metadata": {
    "id": "NZNGlnsja0Xj"
   },
   "outputs": [],
   "source": [
    "try:\n",
    "    session.add(......)\n",
    "except Exception:\n",
    "    session.rollback()\n",
    "    raise"
   ]
  },
  {
   "cell_type": "markdown",
   "metadata": {
    "id": "0FTZASUTa0Xj"
   },
   "source": [
    "## Ejercicio 01\n",
    "\n",
    "1. Obtener todas las cartas de la API.\n",
    "1. Guardar la respuesta en un archivo `.json()`\n",
    "1. La key `colors` contiene un value que es una lista. Filtrar las cartas que contengan `\"Green\"` en esa lista.\n",
    "1. Generar una base de datos con SQLAlchemy para almacenar estas cartas.\n",
    "1. Las columnas que debemos crear son (entre paréntesis está el nombre de la key que tienen en el diccionario):\n",
    "    * nombre (`name`)\n",
    "    * ** multiverse_id (`multiverseid`)  <== queda eliminado a menos que queraís hacer la parte extra\n",
    "    * tipo (`type`)\n",
    "    * **  url_imagen (`imageUrl`) <== queda eliminado a menos que queraís hacer la parte extra\n",
    "    * rareza (`rarity`)\n",
    "    * **Extra**: en las cartas verdes que NO tienen `multiverseid`, crearlo y darle el valor `0`\n",
    "    \n",
    "1. De la lista de cartas filtradas que hemos obtenido en el punto $2$, guardarlas todas en la base de datos."
   ]
  },
  {
   "cell_type": "markdown",
   "metadata": {
    "id": "d7Ud4xIca0Xj"
   },
   "source": [
    "**Extra 🔥**\n",
    "\n",
    "* Crear una función que obtenga la información de la carta de la base de datos en base a un `id` o como queráis.\n",
    "* En las cartas que no tengan la variable `\"imageUrl\"`, crearla y poner: https://picsum.photos/200/200\n",
    "* Descargar la imagen de esta carta y guardarla en un archivo en el disco.\n",
    "* Crear un archivo JSON que sea una lista de diccionarios con el siguiente formato:\n",
    "\n",
    "```python\n",
    "[\n",
    "    {\"nombre\": nombre_carta, \"url_imagen\": url_imagen},\n",
    "    {\"nombre\": nombre_carta, \"url_imagen\": url_imagen},\n",
    "    {\"nombre\": nombre_carta, \"url_imagen\": url_imagen},\n",
    "    .\n",
    "    .\n",
    "    .\n",
    "]\n",
    "```\n",
    "\n",
    "Por ejemplo:\n",
    "\n",
    "```python\n",
    "req_img = requests.get(v[0][\"imageUrl\"])\n",
    "\n",
    "with open(\"imagen.jpg\", \"wb\") as f:\n",
    "    f.write(req_img.content)\n",
    "```"
   ]
  },
  {
   "cell_type": "code",
   "execution_count": 6,
   "metadata": {},
   "outputs": [],
   "source": [
    "import requests\n",
    "import json"
   ]
  },
  {
   "cell_type": "code",
   "execution_count": 1,
   "metadata": {},
   "outputs": [],
   "source": [
    "URL = \"https://raw.githubusercontent.com/polyrand/teach/master/04_databases/cartas.json\""
   ]
  },
  {
   "cell_type": "code",
   "execution_count": null,
   "metadata": {
    "id": "e5lhjDaIa0Xj"
   },
   "outputs": [],
   "source": [
    "respuesta = requests.get(...)\n",
    "\n",
    "cartas = respuesta.json()\n",
    "\n",
    "with open(\"cartas.json\", \"w\") as f:\n",
    "    f.write(json.dumps(cartas))"
   ]
  },
  {
   "cell_type": "code",
   "execution_count": null,
   "metadata": {
    "id": "IL9DcZDia0Xj"
   },
   "outputs": [],
   "source": [
    "### CODE"
   ]
  }
 ],
 "metadata": {
  "colab": {
   "name": "00_request_db_comprehensions.ipynb",
   "provenance": [],
   "toc_visible": true
  },
  "kernelspec": {
   "display_name": "teach",
   "language": "python",
   "name": "teach"
  },
  "language_info": {
   "codemirror_mode": {
    "name": "ipython",
    "version": 3
   },
   "file_extension": ".py",
   "mimetype": "text/x-python",
   "name": "python",
   "nbconvert_exporter": "python",
   "pygments_lexer": "ipython3",
   "version": "3.7.7"
  }
 },
 "nbformat": 4,
 "nbformat_minor": 4
}
