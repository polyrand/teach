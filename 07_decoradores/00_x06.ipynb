{
 "cells": [
  {
   "cell_type": "markdown",
   "metadata": {},
   "source": [
    "`@cache`: guardar el valor de la función para esos argumentos  \n",
    "  * Hacer que esa la cache de la función se guarde en un archivo `.json`\n",
    "  * ¿Alguien puede conseguir lo mismo con solo 1 línea de código?"
   ]
  },
  {
   "cell_type": "code",
   "execution_count": 44,
   "metadata": {},
   "outputs": [],
   "source": [
    "import time"
   ]
  },
  {
   "cell_type": "code",
   "execution_count": 39,
   "metadata": {},
   "outputs": [],
   "source": [
    "def memoize(function):\n",
    "\n",
    "    memo = {}\n",
    "\n",
    "    def wrapper(*args, **kwargs):\n",
    "        serialized = (args, tuple(list(kwargs.items())))\n",
    "        if serialized in memo:\n",
    "            return memo[serialized]  # = valor retornado\n",
    "        else:\n",
    "            rv = function(*args, **kwargs)\n",
    "            memo[serialized] = rv\n",
    "            return rv\n",
    "\n",
    "    return wrapper"
   ]
  },
  {
   "cell_type": "code",
   "execution_count": 40,
   "metadata": {},
   "outputs": [],
   "source": [
    "@memoize\n",
    "def suma2(a,b,c=None):\n",
    "    return a + b + c"
   ]
  },
  {
   "cell_type": "code",
   "execution_count": 44,
   "metadata": {},
   "outputs": [
    {
     "name": "stdout",
     "output_type": "stream",
     "text": [
      "{((1, 2), (('c', 3),)): 6}\n",
      "((1, 2), (('c', 3),))\n",
      "Hit cache!\n"
     ]
    },
    {
     "data": {
      "text/plain": [
       "6"
      ]
     },
     "execution_count": 44,
     "metadata": {},
     "output_type": "execute_result"
    }
   ],
   "source": [
    "suma2(1,2,c=3)"
   ]
  },
  {
   "cell_type": "code",
   "execution_count": 8,
   "metadata": {},
   "outputs": [],
   "source": [
    "d = {}"
   ]
  },
  {
   "cell_type": "code",
   "execution_count": 9,
   "metadata": {},
   "outputs": [],
   "source": [
    "d[(1,2,(\"as\", 2))] = 1"
   ]
  },
  {
   "cell_type": "code",
   "execution_count": 10,
   "metadata": {},
   "outputs": [],
   "source": [
    "d[\"asd\"] = 1\n",
    "d[\"asda\"] =2"
   ]
  },
  {
   "cell_type": "code",
   "execution_count": 18,
   "metadata": {},
   "outputs": [
    {
     "data": {
      "text/plain": [
       "[((1, 2, ('as', 2)), 1), ('asd', 1), ('asda', 2)]"
      ]
     },
     "execution_count": 18,
     "metadata": {},
     "output_type": "execute_result"
    }
   ],
   "source": [
    "tuple(list(d.items()))"
   ]
  },
  {
   "cell_type": "code",
   "execution_count": 57,
   "metadata": {},
   "outputs": [
    {
     "data": {
      "text/plain": [
       "[('asd', 1), ('asda', 2)]"
      ]
     },
     "execution_count": 57,
     "metadata": {},
     "output_type": "execute_result"
    }
   ],
   "source": [
    "list(d.items())"
   ]
  },
  {
   "cell_type": "code",
   "execution_count": 5,
   "metadata": {},
   "outputs": [],
   "source": [
    "@memoize\n",
    "def fibonacci(n):\n",
    "    # time.sleep(2)\n",
    "    if n < 2:\n",
    "        return n\n",
    "    return fibonacci(n - 1) + fibonacci(n - 2)\n",
    "\n",
    "\n",
    "def fibonacci_nocache(n):\n",
    "    # time.sleep(2)\n",
    "    if n < 2:\n",
    "        return n\n",
    "    return fibonacci(n - 1) + fibonacci(n - 2)"
   ]
  },
  {
   "cell_type": "code",
   "execution_count": 6,
   "metadata": {},
   "outputs": [
    {
     "name": "stdout",
     "output_type": "stream",
     "text": [
      "396 ns ± 123 ns per loop (mean ± std. dev. of 7 runs, 1000000 loops each)\n"
     ]
    }
   ],
   "source": [
    "%%timeit\n",
    "\n",
    "fibonacci(200)"
   ]
  },
  {
   "cell_type": "code",
   "execution_count": 7,
   "metadata": {},
   "outputs": [
    {
     "name": "stdout",
     "output_type": "stream",
     "text": [
      "1.07 µs ± 196 ns per loop (mean ± std. dev. of 7 runs, 1000000 loops each)\n"
     ]
    }
   ],
   "source": [
    "%%timeit\n",
    "\n",
    "fibonacci_nocache(200)"
   ]
  },
  {
   "cell_type": "code",
   "execution_count": null,
   "metadata": {},
   "outputs": [],
   "source": [
    "# cache\n",
    "import functools\n",
    "\n",
    "\n",
    "def cache(func):\n",
    "    \"\"\"Keep a cache of previous function calls\"\"\"\n",
    "\n",
    "    @functools.wraps(func)\n",
    "    def wrapper_cache(*args, **kwargs):\n",
    "        cache_key = args + tuple(kwargs.items())\n",
    "        if cache_key not in wrapper_cache.cache:\n",
    "            wrapper_cache.cache[cache_key] = func(*args, **kwargs)\n",
    "        return wrapper_cache.cache[cache_key]\n",
    "\n",
    "    wrapper_cache.cache = dict()\n",
    "    return wrapper_cache"
   ]
  },
  {
   "cell_type": "code",
   "execution_count": null,
   "metadata": {},
   "outputs": [],
   "source": []
  },
  {
   "cell_type": "markdown",
   "metadata": {},
   "source": [
    "**Otros cursos**"
   ]
  },
  {
   "cell_type": "code",
   "execution_count": 48,
   "metadata": {},
   "outputs": [],
   "source": [
    "import time\n",
    "import functools\n",
    "import json\n",
    "from collections import defaultdict\n",
    "import os\n",
    "\n",
    "\n",
    "class Cache:\n",
    "    def __init__(self, func):\n",
    "        functools.update_wrapper(self, func)\n",
    "        self.func = func\n",
    "        self.cache = (\n",
    "            self.open_json() if os.path.isfile(\"cache.json\") else defaultdict(str)\n",
    "        )\n",
    "        self._time_start = time.time()\n",
    "\n",
    "    def __call__(self, *args, **kwargs):\n",
    "        rutas = str(\n",
    "            [argument for argument in args]\n",
    "            + [\n",
    "                (key, kwargs[key])\n",
    "                for key in sorted(kwargs.keys(), key=lambda x: x.lower())\n",
    "            ]\n",
    "        )\n",
    "        result = self.cache[rutas]\n",
    "        if not result:\n",
    "            result = self.func(*args, **kwargs)\n",
    "            self.cache[rutas] = result\n",
    "\n",
    "        if (time.time() - self._time_start) >= 5:\n",
    "            self.save_json()\n",
    "            self._time_start = time.time()\n",
    "            \n",
    "        return result\n",
    "\n",
    "    def open_json(self):\n",
    "        with open(\"cache.json\", \"r\") as json_file:\n",
    "            cache = json.load(json_file)\n",
    "        return defaultdict(str, cache)\n",
    "\n",
    "    def save_json(self):\n",
    "        with open(\"cache.json\", \"w\") as json_file:\n",
    "            json.dump(self.cache, json_file)\n",
    "            time.sleep(1)"
   ]
  },
  {
   "cell_type": "code",
   "execution_count": 44,
   "metadata": {},
   "outputs": [],
   "source": [
    "import time"
   ]
  },
  {
   "cell_type": "code",
   "execution_count": 39,
   "metadata": {},
   "outputs": [],
   "source": [
    "def memoize(function):\n",
    "\n",
    "    memo = {}\n",
    "\n",
    "    def wrapper(*args, **kwargs):\n",
    "        serialized = (args, tuple(list(kwargs.items())))\n",
    "        if serialized in memo:\n",
    "            return memo[serialized]  # = valor retornado\n",
    "        else:\n",
    "            rv = function(*args, **kwargs)\n",
    "            memo[serialized] = rv\n",
    "            return rv\n",
    "\n",
    "    return wrapper"
   ]
  },
  {
   "cell_type": "code",
   "execution_count": 40,
   "metadata": {},
   "outputs": [],
   "source": [
    "@memoize\n",
    "def suma2(a,b,c=None):\n",
    "    return a + b + c"
   ]
  },
  {
   "cell_type": "code",
   "execution_count": 44,
   "metadata": {},
   "outputs": [
    {
     "name": "stdout",
     "output_type": "stream",
     "text": [
      "{((1, 2), (('c', 3),)): 6}\n",
      "((1, 2), (('c', 3),))\n",
      "Hit cache!\n"
     ]
    },
    {
     "data": {
      "text/plain": [
       "6"
      ]
     },
     "execution_count": 44,
     "metadata": {},
     "output_type": "execute_result"
    }
   ],
   "source": [
    "suma2(1,2,c=3)"
   ]
  },
  {
   "cell_type": "code",
   "execution_count": 8,
   "metadata": {},
   "outputs": [],
   "source": [
    "d = {}"
   ]
  },
  {
   "cell_type": "code",
   "execution_count": 9,
   "metadata": {},
   "outputs": [],
   "source": [
    "d[(1,2,(\"as\", 2))] = 1"
   ]
  },
  {
   "cell_type": "code",
   "execution_count": 10,
   "metadata": {},
   "outputs": [],
   "source": [
    "d[\"asd\"] = 1\n",
    "d[\"asda\"] =2"
   ]
  },
  {
   "cell_type": "code",
   "execution_count": 18,
   "metadata": {},
   "outputs": [
    {
     "data": {
      "text/plain": [
       "[((1, 2, ('as', 2)), 1), ('asd', 1), ('asda', 2)]"
      ]
     },
     "execution_count": 18,
     "metadata": {},
     "output_type": "execute_result"
    }
   ],
   "source": [
    "tuple(list(d.items()))"
   ]
  },
  {
   "cell_type": "code",
   "execution_count": 57,
   "metadata": {},
   "outputs": [
    {
     "data": {
      "text/plain": [
       "[('asd', 1), ('asda', 2)]"
      ]
     },
     "execution_count": 57,
     "metadata": {},
     "output_type": "execute_result"
    }
   ],
   "source": [
    "list(d.items())"
   ]
  },
  {
   "cell_type": "code",
   "execution_count": 5,
   "metadata": {},
   "outputs": [],
   "source": [
    "@memoize\n",
    "def fibonacci(n):\n",
    "    # time.sleep(2)\n",
    "    if n < 2:\n",
    "        return n\n",
    "    return fibonacci(n - 1) + fibonacci(n - 2)\n",
    "\n",
    "\n",
    "def fibonacci_nocache(n):\n",
    "    # time.sleep(2)\n",
    "    if n < 2:\n",
    "        return n\n",
    "    return fibonacci(n - 1) + fibonacci(n - 2)"
   ]
  },
  {
   "cell_type": "code",
   "execution_count": 6,
   "metadata": {},
   "outputs": [
    {
     "name": "stdout",
     "output_type": "stream",
     "text": [
      "396 ns ± 123 ns per loop (mean ± std. dev. of 7 runs, 1000000 loops each)\n"
     ]
    }
   ],
   "source": [
    "%%timeit\n",
    "\n",
    "fibonacci(200)"
   ]
  },
  {
   "cell_type": "code",
   "execution_count": 7,
   "metadata": {},
   "outputs": [
    {
     "name": "stdout",
     "output_type": "stream",
     "text": [
      "1.07 µs ± 196 ns per loop (mean ± std. dev. of 7 runs, 1000000 loops each)\n"
     ]
    }
   ],
   "source": [
    "%%timeit\n",
    "\n",
    "fibonacci_nocache(200)"
   ]
  },
  {
   "cell_type": "code",
   "execution_count": null,
   "metadata": {},
   "outputs": [],
   "source": [
    "# cache\n",
    "import functools\n",
    "\n",
    "\n",
    "def cache(func):\n",
    "    \"\"\"Keep a cache of previous function calls\"\"\"\n",
    "\n",
    "    @functools.wraps(func)\n",
    "    def wrapper_cache(*args, **kwargs):\n",
    "        cache_key = args + tuple(kwargs.items())\n",
    "        if cache_key not in wrapper_cache.cache:\n",
    "            wrapper_cache.cache[cache_key] = func(*args, **kwargs)\n",
    "        return wrapper_cache.cache[cache_key]\n",
    "\n",
    "    wrapper_cache.cache = dict()\n",
    "    return wrapper_cache"
   ]
  },
  {
   "cell_type": "markdown",
   "metadata": {},
   "source": [
    "**Otros cursos**"
   ]
  },
  {
   "cell_type": "code",
   "execution_count": 48,
   "metadata": {},
   "outputs": [],
   "source": [
    "import time\n",
    "import functools\n",
    "import json\n",
    "from collections import defaultdict\n",
    "import os\n",
    "\n",
    "\n",
    "class Cache:\n",
    "    def __init__(self, func):\n",
    "        functools.update_wrapper(self, func)\n",
    "        self.func = func\n",
    "        self.cache = (\n",
    "            self.open_json() if os.path.isfile(\"cache.json\") else defaultdict(str)\n",
    "        )\n",
    "        self._time_start = time.time()\n",
    "\n",
    "    def __call__(self, *args, **kwargs):\n",
    "        rutas = str(\n",
    "            [argument for argument in args]\n",
    "            + [\n",
    "                (key, kwargs[key])\n",
    "                for key in sorted(kwargs.keys(), key=lambda x: x.lower())\n",
    "            ]\n",
    "        )\n",
    "        result = self.cache[rutas]\n",
    "        if not result:\n",
    "            result = self.func(*args, **kwargs)\n",
    "            self.cache[rutas] = result\n",
    "\n",
    "        if (time.time() - self._time_start) >= 5:\n",
    "            self.save_json()\n",
    "            self._time_start = time.time()\n",
    "            \n",
    "        return result\n",
    "\n",
    "    def open_json(self):\n",
    "        with open(\"cache.json\", \"r\") as json_file:\n",
    "            cache = json.load(json_file)\n",
    "        return defaultdict(str, cache)\n",
    "\n",
    "    def save_json(self):\n",
    "        with open(\"cache.json\", \"w\") as json_file:\n",
    "            json.dump(self.cache, json_file)\n",
    "            time.sleep(1)"
   ]
  },
  {
   "cell_type": "code",
   "execution_count": 56,
   "metadata": {},
   "outputs": [],
   "source": [
    "from functools import lru_cache"
   ]
  }
 ],
 "metadata": {
  "kernelspec": {
   "display_name": "teach",
   "language": "python",
   "name": "teach"
  },
  "language_info": {
   "codemirror_mode": {
    "name": "ipython",
    "version": 3
   },
   "file_extension": ".py",
   "mimetype": "text/x-python",
   "name": "python",
   "nbconvert_exporter": "python",
   "pygments_lexer": "ipython3",
   "version": "3.7.7"
  }
 },
 "nbformat": 4,
 "nbformat_minor": 4
}
