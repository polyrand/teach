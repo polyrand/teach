{
 "cells": [
  {
   "cell_type": "markdown",
   "metadata": {},
   "source": [
    "1. `@do_twice`: ejecutar la función 2 veces  \n",
    "5. `@repeat(n=4)`: igual que `@do_twice` pero ahora podemos elegir el número de veces que queremos que se repita\n"
   ]
  },
  {
   "cell_type": "code",
   "execution_count": 121,
   "metadata": {},
   "outputs": [],
   "source": [
    "# do twice\n",
    "import functools\n",
    "\n",
    "\n",
    "def do_twice(func):\n",
    "    @functools.wraps(func)\n",
    "    def wrapper_do_twice(*args, **kwargs):\n",
    "        res1 = func(*args, **kwargs)\n",
    "        res2 = func(*args, **kwargs)\n",
    "        return res1, res2\n",
    "\n",
    "    return wrapper_do_twice"
   ]
  },
  {
   "cell_type": "code",
   "execution_count": 122,
   "metadata": {},
   "outputs": [],
   "source": [
    "@do_twice\n",
    "def suma(a, b):\n",
    "    return a + b"
   ]
  },
  {
   "cell_type": "code",
   "execution_count": 123,
   "metadata": {},
   "outputs": [],
   "source": [
    "r = suma(1,2)"
   ]
  },
  {
   "cell_type": "code",
   "execution_count": 124,
   "metadata": {},
   "outputs": [
    {
     "data": {
      "text/plain": [
       "(3, 3)"
      ]
     },
     "execution_count": 124,
     "metadata": {},
     "output_type": "execute_result"
    }
   ],
   "source": [
    "r"
   ]
  },
  {
   "cell_type": "code",
   "execution_count": 21,
   "metadata": {},
   "outputs": [],
   "source": [
    "def repeat(n=2):\n",
    "    def decorador_real(func):\n",
    "        def wrapper(*args, **kwargs):\n",
    "#             for _ in range(n):\n",
    "#                 func(*args, **kwargs)\n",
    "\n",
    "            results = [func(*args, **kwargs) for _ in range(n)]\n",
    "            return results\n",
    "\n",
    "        return wrapper\n",
    "    \n",
    "    return decorador_real"
   ]
  },
  {
   "cell_type": "code",
   "execution_count": null,
   "metadata": {},
   "outputs": [],
   "source": [
    "def printar(a, n=None):\n",
    "    if n:\n",
    "        for _ in range(n):\n",
    "            do()"
   ]
  },
  {
   "cell_type": "code",
   "execution_count": 25,
   "metadata": {},
   "outputs": [],
   "source": [
    "@repeat(n=4)\n",
    "def printar(a):\n",
    "    print(a)\n",
    "    \n",
    "    return a"
   ]
  },
  {
   "cell_type": "code",
   "execution_count": 26,
   "metadata": {},
   "outputs": [
    {
     "name": "stdout",
     "output_type": "stream",
     "text": [
      "repitiendo\n",
      "repitiendo\n",
      "repitiendo\n",
      "repitiendo\n"
     ]
    }
   ],
   "source": [
    "r = printar(\"repitiendo\")"
   ]
  },
  {
   "cell_type": "code",
   "execution_count": 27,
   "metadata": {},
   "outputs": [
    {
     "data": {
      "text/plain": [
       "['repitiendo', 'repitiendo', 'repitiendo', 'repitiendo']"
      ]
     },
     "execution_count": 27,
     "metadata": {},
     "output_type": "execute_result"
    }
   ],
   "source": [
    "r"
   ]
  },
  {
   "cell_type": "code",
   "execution_count": 41,
   "metadata": {},
   "outputs": [],
   "source": [
    "def optional_repeat(func):\n",
    "    def wrapper(*args, **kwargs):\n",
    "        \n",
    "        n = kwargs.get(\"repeticiones\", 2)\n",
    "        \n",
    "        if n:\n",
    "            for _ in range(n):\n",
    "                func(*args, **kwargs)\n",
    "        else:\n",
    "            func(*args, **kwargs)\n",
    "\n",
    "    return wrapper"
   ]
  },
  {
   "cell_type": "code",
   "execution_count": 42,
   "metadata": {},
   "outputs": [],
   "source": [
    "@optional_repeat\n",
    "def printar(a, repeticiones=None):\n",
    "    print(a)"
   ]
  },
  {
   "cell_type": "code",
   "execution_count": 43,
   "metadata": {},
   "outputs": [
    {
     "name": "stdout",
     "output_type": "stream",
     "text": [
      "done\n",
      "done\n",
      "done\n",
      "done\n"
     ]
    }
   ],
   "source": [
    "printar(\"done\", repeticiones=4)"
   ]
  }
 ],
 "metadata": {
  "kernelspec": {
   "display_name": "teach",
   "language": "python",
   "name": "teach"
  },
  "language_info": {
   "codemirror_mode": {
    "name": "ipython",
    "version": 3
   },
   "file_extension": ".py",
   "mimetype": "text/x-python",
   "name": "python",
   "nbconvert_exporter": "python",
   "pygments_lexer": "ipython3",
   "version": "3.7.7"
  }
 },
 "nbformat": 4,
 "nbformat_minor": 4
}
