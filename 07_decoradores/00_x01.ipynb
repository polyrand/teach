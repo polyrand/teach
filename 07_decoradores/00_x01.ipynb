{
 "cells": [
  {
   "cell_type": "markdown",
   "metadata": {},
   "source": [
    "## Ejercicio 01\n",
    "\n",
    "Crear un decorador llamado `@timer`.\n",
    "\n",
    "El decorados me dice el tiempo que ha tardado en ejecutarse está funcion (usando `print()`)."
   ]
  },
  {
   "cell_type": "code",
   "execution_count": 90,
   "metadata": {},
   "outputs": [],
   "source": [
    "import functools"
   ]
  },
  {
   "cell_type": "code",
   "execution_count": 110,
   "metadata": {},
   "outputs": [],
   "source": [
    "import time\n",
    "import functools\n",
    "\n",
    "\n",
    "def timer(func):\n",
    "    \n",
    "    num_llamadas = 0\n",
    "    \n",
    "    @functools.wraps(func)\n",
    "    def wrapper(*args, **kwargs):\n",
    "        start_time = time.perf_counter()\n",
    "        valor = func(*args, **kwargs)\n",
    "        end_time = time.perf_counter()\n",
    "        total = end_time - start_time\n",
    "        \n",
    "        nonlocal num_llamadas\n",
    "        num_llamadas += 1\n",
    "        \n",
    "        print(\"Llamadas:\", num_llamadas)\n",
    "        print(f\"La funcion {func.__name__} se ha ejecutado en:\", f\"{total:.2f}\", f\"usando los parámentros {args, kwargs}\")\n",
    "        \n",
    "        return valor\n",
    "    \n",
    "    return wrapper"
   ]
  },
  {
   "cell_type": "code",
   "execution_count": 104,
   "metadata": {},
   "outputs": [],
   "source": [
    "@timer\n",
    "def suma(a, b, c=None):\n",
    "    time.sleep(0.5)\n",
    "    print(c)\n",
    "    \n",
    "    return a + b"
   ]
  },
  {
   "cell_type": "code",
   "execution_count": 109,
   "metadata": {},
   "outputs": [
    {
     "name": "stdout",
     "output_type": "stream",
     "text": [
      "asd\n",
      "Llamadas: 5\n",
      "La funcion suma se ha ejecutado en: 0.50 usando los parámentros ((2, 4), {'c': 'asd'})\n"
     ]
    },
    {
     "data": {
      "text/plain": [
       "6"
      ]
     },
     "execution_count": 109,
     "metadata": {},
     "output_type": "execute_result"
    }
   ],
   "source": [
    "suma(2, 4, c=\"asd\")"
   ]
  }
 ],
 "metadata": {
  "kernelspec": {
   "display_name": "teach",
   "language": "python",
   "name": "teach"
  },
  "language_info": {
   "codemirror_mode": {
    "name": "ipython",
    "version": 3
   },
   "file_extension": ".py",
   "mimetype": "text/x-python",
   "name": "python",
   "nbconvert_exporter": "python",
   "pygments_lexer": "ipython3",
   "version": "3.7.7"
  }
 },
 "nbformat": 4,
 "nbformat_minor": 4
}
